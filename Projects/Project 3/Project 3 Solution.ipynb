{
 "cells": [
  {
   "cell_type": "markdown",
   "metadata": {},
   "source": [
    "## Define Inputs\n",
    "\n",
    "Some inputs were given in the problem definition. List those here."
   ]
  },
  {
   "cell_type": "code",
   "execution_count": 1,
   "metadata": {},
   "outputs": [],
   "source": [
    "wmt_bond_years = 15\n",
    "wmt_bond_coupon = .0525\n",
    "wmt_bond_price = 130.58\n",
    "wmt_bond_par = 100\n",
    "risk_free = 0.005\n",
    "wmt_price = 119.51\n",
    "wmt_shrout = 2850000000\n",
    "libor_rate = 0.0196"
   ]
  },
  {
   "cell_type": "markdown",
   "metadata": {},
   "source": [
    "## Cost of Equity\n",
    "\n",
    "Load in the price data for S&P 500 and Walmart."
   ]
  },
  {
   "cell_type": "code",
   "execution_count": 2,
   "metadata": {},
   "outputs": [],
   "source": [
    "import pandas as pd\n",
    "sp_prices = pd.read_excel('SP500 Prices.xlsx')\n",
    "wmt_prices = pd.read_excel('WMT Prices.xlsx')"
   ]
  },
  {
   "cell_type": "code",
   "execution_count": 3,
   "metadata": {},
   "outputs": [
    {
     "data": {
      "text/html": [
       "<div>\n",
       "<style scoped>\n",
       "    .dataframe tbody tr th:only-of-type {\n",
       "        vertical-align: middle;\n",
       "    }\n",
       "\n",
       "    .dataframe tbody tr th {\n",
       "        vertical-align: top;\n",
       "    }\n",
       "\n",
       "    .dataframe thead th {\n",
       "        text-align: right;\n",
       "    }\n",
       "</style>\n",
       "<table border=\"1\" class=\"dataframe\">\n",
       "  <thead>\n",
       "    <tr style=\"text-align: right;\">\n",
       "      <th></th>\n",
       "      <th>Date</th>\n",
       "      <th>Open</th>\n",
       "      <th>High</th>\n",
       "      <th>Low</th>\n",
       "      <th>Close</th>\n",
       "      <th>Adj Close</th>\n",
       "      <th>Volume</th>\n",
       "    </tr>\n",
       "  </thead>\n",
       "  <tbody>\n",
       "    <tr>\n",
       "      <th>0</th>\n",
       "      <td>2014-11-06</td>\n",
       "      <td>2023.329956</td>\n",
       "      <td>2031.609985</td>\n",
       "      <td>2015.859985</td>\n",
       "      <td>2031.209961</td>\n",
       "      <td>2031.209961</td>\n",
       "      <td>3669770000</td>\n",
       "    </tr>\n",
       "    <tr>\n",
       "      <th>1</th>\n",
       "      <td>2014-11-07</td>\n",
       "      <td>2032.359985</td>\n",
       "      <td>2034.260010</td>\n",
       "      <td>2025.069946</td>\n",
       "      <td>2031.920044</td>\n",
       "      <td>2031.920044</td>\n",
       "      <td>3704280000</td>\n",
       "    </tr>\n",
       "    <tr>\n",
       "      <th>2</th>\n",
       "      <td>2014-11-10</td>\n",
       "      <td>2032.010010</td>\n",
       "      <td>2038.699951</td>\n",
       "      <td>2030.170044</td>\n",
       "      <td>2038.260010</td>\n",
       "      <td>2038.260010</td>\n",
       "      <td>3284940000</td>\n",
       "    </tr>\n",
       "    <tr>\n",
       "      <th>3</th>\n",
       "      <td>2014-11-11</td>\n",
       "      <td>2038.199951</td>\n",
       "      <td>2041.280029</td>\n",
       "      <td>2035.280029</td>\n",
       "      <td>2039.680054</td>\n",
       "      <td>2039.680054</td>\n",
       "      <td>2958320000</td>\n",
       "    </tr>\n",
       "    <tr>\n",
       "      <th>4</th>\n",
       "      <td>2014-11-12</td>\n",
       "      <td>2037.750000</td>\n",
       "      <td>2040.329956</td>\n",
       "      <td>2031.949951</td>\n",
       "      <td>2038.250000</td>\n",
       "      <td>2038.250000</td>\n",
       "      <td>3246650000</td>\n",
       "    </tr>\n",
       "  </tbody>\n",
       "</table>\n",
       "</div>"
      ],
      "text/plain": [
       "        Date         Open         High          Low        Close    Adj Close  \\\n",
       "0 2014-11-06  2023.329956  2031.609985  2015.859985  2031.209961  2031.209961   \n",
       "1 2014-11-07  2032.359985  2034.260010  2025.069946  2031.920044  2031.920044   \n",
       "2 2014-11-10  2032.010010  2038.699951  2030.170044  2038.260010  2038.260010   \n",
       "3 2014-11-11  2038.199951  2041.280029  2035.280029  2039.680054  2039.680054   \n",
       "4 2014-11-12  2037.750000  2040.329956  2031.949951  2038.250000  2038.250000   \n",
       "\n",
       "       Volume  \n",
       "0  3669770000  \n",
       "1  3704280000  \n",
       "2  3284940000  \n",
       "3  2958320000  \n",
       "4  3246650000  "
      ]
     },
     "execution_count": 3,
     "metadata": {},
     "output_type": "execute_result"
    }
   ],
   "source": [
    "sp_prices.head()"
   ]
  },
  {
   "cell_type": "code",
   "execution_count": 4,
   "metadata": {},
   "outputs": [
    {
     "data": {
      "text/html": [
       "<div>\n",
       "<style scoped>\n",
       "    .dataframe tbody tr th:only-of-type {\n",
       "        vertical-align: middle;\n",
       "    }\n",
       "\n",
       "    .dataframe tbody tr th {\n",
       "        vertical-align: top;\n",
       "    }\n",
       "\n",
       "    .dataframe thead th {\n",
       "        text-align: right;\n",
       "    }\n",
       "</style>\n",
       "<table border=\"1\" class=\"dataframe\">\n",
       "  <thead>\n",
       "    <tr style=\"text-align: right;\">\n",
       "      <th></th>\n",
       "      <th>Date</th>\n",
       "      <th>Open</th>\n",
       "      <th>High</th>\n",
       "      <th>Low</th>\n",
       "      <th>Close</th>\n",
       "      <th>Adj Close</th>\n",
       "      <th>Volume</th>\n",
       "    </tr>\n",
       "  </thead>\n",
       "  <tbody>\n",
       "    <tr>\n",
       "      <th>1256</th>\n",
       "      <td>2019-11-04</td>\n",
       "      <td>3078.959961</td>\n",
       "      <td>3085.199951</td>\n",
       "      <td>3074.870117</td>\n",
       "      <td>3078.270020</td>\n",
       "      <td>3078.270020</td>\n",
       "      <td>4146850000</td>\n",
       "    </tr>\n",
       "    <tr>\n",
       "      <th>1257</th>\n",
       "      <td>2019-11-05</td>\n",
       "      <td>3080.800049</td>\n",
       "      <td>3083.949951</td>\n",
       "      <td>3072.149902</td>\n",
       "      <td>3074.620117</td>\n",
       "      <td>3074.620117</td>\n",
       "      <td>4486130000</td>\n",
       "    </tr>\n",
       "  </tbody>\n",
       "</table>\n",
       "</div>"
      ],
      "text/plain": [
       "           Date         Open         High          Low        Close  \\\n",
       "1256 2019-11-04  3078.959961  3085.199951  3074.870117  3078.270020   \n",
       "1257 2019-11-05  3080.800049  3083.949951  3072.149902  3074.620117   \n",
       "\n",
       "        Adj Close      Volume  \n",
       "1256  3078.270020  4146850000  \n",
       "1257  3074.620117  4486130000  "
      ]
     },
     "execution_count": 4,
     "metadata": {},
     "output_type": "execute_result"
    }
   ],
   "source": [
    "sp_prices.tail(2)"
   ]
  },
  {
   "cell_type": "code",
   "execution_count": 5,
   "metadata": {},
   "outputs": [
    {
     "data": {
      "text/html": [
       "<div>\n",
       "<style scoped>\n",
       "    .dataframe tbody tr th:only-of-type {\n",
       "        vertical-align: middle;\n",
       "    }\n",
       "\n",
       "    .dataframe tbody tr th {\n",
       "        vertical-align: top;\n",
       "    }\n",
       "\n",
       "    .dataframe thead th {\n",
       "        text-align: right;\n",
       "    }\n",
       "</style>\n",
       "<table border=\"1\" class=\"dataframe\">\n",
       "  <thead>\n",
       "    <tr style=\"text-align: right;\">\n",
       "      <th></th>\n",
       "      <th>Date</th>\n",
       "      <th>Open</th>\n",
       "      <th>High</th>\n",
       "      <th>Low</th>\n",
       "      <th>Close</th>\n",
       "      <th>Adj Close</th>\n",
       "      <th>Volume</th>\n",
       "    </tr>\n",
       "  </thead>\n",
       "  <tbody>\n",
       "    <tr>\n",
       "      <th>0</th>\n",
       "      <td>2014-11-06</td>\n",
       "      <td>78.150002</td>\n",
       "      <td>78.180000</td>\n",
       "      <td>77.169998</td>\n",
       "      <td>77.809998</td>\n",
       "      <td>68.586304</td>\n",
       "      <td>4621900</td>\n",
       "    </tr>\n",
       "    <tr>\n",
       "      <th>1</th>\n",
       "      <td>2014-11-07</td>\n",
       "      <td>77.839996</td>\n",
       "      <td>79.080002</td>\n",
       "      <td>77.610001</td>\n",
       "      <td>78.769997</td>\n",
       "      <td>69.432503</td>\n",
       "      <td>9498800</td>\n",
       "    </tr>\n",
       "    <tr>\n",
       "      <th>2</th>\n",
       "      <td>2014-11-10</td>\n",
       "      <td>78.599998</td>\n",
       "      <td>80.129997</td>\n",
       "      <td>78.419998</td>\n",
       "      <td>79.440002</td>\n",
       "      <td>70.023087</td>\n",
       "      <td>12640500</td>\n",
       "    </tr>\n",
       "    <tr>\n",
       "      <th>3</th>\n",
       "      <td>2014-11-11</td>\n",
       "      <td>79.400002</td>\n",
       "      <td>79.419998</td>\n",
       "      <td>78.849998</td>\n",
       "      <td>79.010002</td>\n",
       "      <td>69.644073</td>\n",
       "      <td>5602400</td>\n",
       "    </tr>\n",
       "    <tr>\n",
       "      <th>4</th>\n",
       "      <td>2014-11-12</td>\n",
       "      <td>78.830002</td>\n",
       "      <td>79.440002</td>\n",
       "      <td>78.650002</td>\n",
       "      <td>79.199997</td>\n",
       "      <td>69.811539</td>\n",
       "      <td>6791200</td>\n",
       "    </tr>\n",
       "  </tbody>\n",
       "</table>\n",
       "</div>"
      ],
      "text/plain": [
       "        Date       Open       High        Low      Close  Adj Close    Volume\n",
       "0 2014-11-06  78.150002  78.180000  77.169998  77.809998  68.586304   4621900\n",
       "1 2014-11-07  77.839996  79.080002  77.610001  78.769997  69.432503   9498800\n",
       "2 2014-11-10  78.599998  80.129997  78.419998  79.440002  70.023087  12640500\n",
       "3 2014-11-11  79.400002  79.419998  78.849998  79.010002  69.644073   5602400\n",
       "4 2014-11-12  78.830002  79.440002  78.650002  79.199997  69.811539   6791200"
      ]
     },
     "execution_count": 5,
     "metadata": {},
     "output_type": "execute_result"
    }
   ],
   "source": [
    "wmt_prices.head()"
   ]
  },
  {
   "cell_type": "code",
   "execution_count": 6,
   "metadata": {},
   "outputs": [
    {
     "data": {
      "text/html": [
       "<div>\n",
       "<style scoped>\n",
       "    .dataframe tbody tr th:only-of-type {\n",
       "        vertical-align: middle;\n",
       "    }\n",
       "\n",
       "    .dataframe tbody tr th {\n",
       "        vertical-align: top;\n",
       "    }\n",
       "\n",
       "    .dataframe thead th {\n",
       "        text-align: right;\n",
       "    }\n",
       "</style>\n",
       "<table border=\"1\" class=\"dataframe\">\n",
       "  <thead>\n",
       "    <tr style=\"text-align: right;\">\n",
       "      <th></th>\n",
       "      <th>Date</th>\n",
       "      <th>Open</th>\n",
       "      <th>High</th>\n",
       "      <th>Low</th>\n",
       "      <th>Close</th>\n",
       "      <th>Adj Close</th>\n",
       "      <th>Volume</th>\n",
       "    </tr>\n",
       "  </thead>\n",
       "  <tbody>\n",
       "    <tr>\n",
       "      <th>1256</th>\n",
       "      <td>2019-11-04</td>\n",
       "      <td>118.400002</td>\n",
       "      <td>119.110001</td>\n",
       "      <td>117.169998</td>\n",
       "      <td>117.570000</td>\n",
       "      <td>117.570000</td>\n",
       "      <td>4626500</td>\n",
       "    </tr>\n",
       "    <tr>\n",
       "      <th>1257</th>\n",
       "      <td>2019-11-05</td>\n",
       "      <td>117.680000</td>\n",
       "      <td>119.139999</td>\n",
       "      <td>117.080002</td>\n",
       "      <td>118.860001</td>\n",
       "      <td>118.860001</td>\n",
       "      <td>4215600</td>\n",
       "    </tr>\n",
       "  </tbody>\n",
       "</table>\n",
       "</div>"
      ],
      "text/plain": [
       "           Date        Open        High         Low       Close   Adj Close  \\\n",
       "1256 2019-11-04  118.400002  119.110001  117.169998  117.570000  117.570000   \n",
       "1257 2019-11-05  117.680000  119.139999  117.080002  118.860001  118.860001   \n",
       "\n",
       "       Volume  \n",
       "1256  4626500  \n",
       "1257  4215600  "
      ]
     },
     "execution_count": 6,
     "metadata": {},
     "output_type": "execute_result"
    }
   ],
   "source": [
    "wmt_prices.tail(2)"
   ]
  },
  {
   "cell_type": "markdown",
   "metadata": {},
   "source": [
    "We only care about adjusted close. The two `DataFrames` dates line up so we can simply concat them. "
   ]
  },
  {
   "cell_type": "code",
   "execution_count": 7,
   "metadata": {},
   "outputs": [
    {
     "data": {
      "text/html": [
       "<div>\n",
       "<style scoped>\n",
       "    .dataframe tbody tr th:only-of-type {\n",
       "        vertical-align: middle;\n",
       "    }\n",
       "\n",
       "    .dataframe tbody tr th {\n",
       "        vertical-align: top;\n",
       "    }\n",
       "\n",
       "    .dataframe thead th {\n",
       "        text-align: right;\n",
       "    }\n",
       "</style>\n",
       "<table border=\"1\" class=\"dataframe\">\n",
       "  <thead>\n",
       "    <tr style=\"text-align: right;\">\n",
       "      <th></th>\n",
       "      <th>SP500</th>\n",
       "      <th>WMT</th>\n",
       "    </tr>\n",
       "  </thead>\n",
       "  <tbody>\n",
       "    <tr>\n",
       "      <th>0</th>\n",
       "      <td>2031.209961</td>\n",
       "      <td>68.586304</td>\n",
       "    </tr>\n",
       "    <tr>\n",
       "      <th>1</th>\n",
       "      <td>2031.920044</td>\n",
       "      <td>69.432503</td>\n",
       "    </tr>\n",
       "    <tr>\n",
       "      <th>2</th>\n",
       "      <td>2038.260010</td>\n",
       "      <td>70.023087</td>\n",
       "    </tr>\n",
       "    <tr>\n",
       "      <th>3</th>\n",
       "      <td>2039.680054</td>\n",
       "      <td>69.644073</td>\n",
       "    </tr>\n",
       "    <tr>\n",
       "      <th>4</th>\n",
       "      <td>2038.250000</td>\n",
       "      <td>69.811539</td>\n",
       "    </tr>\n",
       "  </tbody>\n",
       "</table>\n",
       "</div>"
      ],
      "text/plain": [
       "         SP500        WMT\n",
       "0  2031.209961  68.586304\n",
       "1  2031.920044  69.432503\n",
       "2  2038.260010  70.023087\n",
       "3  2039.680054  69.644073\n",
       "4  2038.250000  69.811539"
      ]
     },
     "execution_count": 7,
     "metadata": {},
     "output_type": "execute_result"
    }
   ],
   "source": [
    "prices = pd.concat([sp_prices['Adj Close'], wmt_prices['Adj Close']], axis=1)\n",
    "prices.columns = ['SP500', 'WMT']\n",
    "prices.head()"
   ]
  },
  {
   "cell_type": "markdown",
   "metadata": {},
   "source": [
    "Calculate returns."
   ]
  },
  {
   "cell_type": "code",
   "execution_count": 8,
   "metadata": {},
   "outputs": [
    {
     "data": {
      "text/html": [
       "<div>\n",
       "<style scoped>\n",
       "    .dataframe tbody tr th:only-of-type {\n",
       "        vertical-align: middle;\n",
       "    }\n",
       "\n",
       "    .dataframe tbody tr th {\n",
       "        vertical-align: top;\n",
       "    }\n",
       "\n",
       "    .dataframe thead th {\n",
       "        text-align: right;\n",
       "    }\n",
       "</style>\n",
       "<table border=\"1\" class=\"dataframe\">\n",
       "  <thead>\n",
       "    <tr style=\"text-align: right;\">\n",
       "      <th></th>\n",
       "      <th>SP500</th>\n",
       "      <th>WMT</th>\n",
       "    </tr>\n",
       "  </thead>\n",
       "  <tbody>\n",
       "    <tr>\n",
       "      <th>1</th>\n",
       "      <td>0.000350</td>\n",
       "      <td>0.012338</td>\n",
       "    </tr>\n",
       "    <tr>\n",
       "      <th>2</th>\n",
       "      <td>0.003120</td>\n",
       "      <td>0.008506</td>\n",
       "    </tr>\n",
       "    <tr>\n",
       "      <th>3</th>\n",
       "      <td>0.000697</td>\n",
       "      <td>-0.005413</td>\n",
       "    </tr>\n",
       "    <tr>\n",
       "      <th>4</th>\n",
       "      <td>-0.000701</td>\n",
       "      <td>0.002405</td>\n",
       "    </tr>\n",
       "    <tr>\n",
       "      <th>5</th>\n",
       "      <td>0.000530</td>\n",
       "      <td>0.047222</td>\n",
       "    </tr>\n",
       "  </tbody>\n",
       "</table>\n",
       "</div>"
      ],
      "text/plain": [
       "      SP500       WMT\n",
       "1  0.000350  0.012338\n",
       "2  0.003120  0.008506\n",
       "3  0.000697 -0.005413\n",
       "4 -0.000701  0.002405\n",
       "5  0.000530  0.047222"
      ]
     },
     "execution_count": 8,
     "metadata": {},
     "output_type": "execute_result"
    }
   ],
   "source": [
    "returns = prices.pct_change().dropna()\n",
    "returns.head()"
   ]
  },
  {
   "cell_type": "markdown",
   "metadata": {},
   "source": [
    "Calculate MRP."
   ]
  },
  {
   "cell_type": "code",
   "execution_count": 9,
   "metadata": {},
   "outputs": [
    {
     "data": {
      "text/html": [
       "<div>\n",
       "<style scoped>\n",
       "    .dataframe tbody tr th:only-of-type {\n",
       "        vertical-align: middle;\n",
       "    }\n",
       "\n",
       "    .dataframe tbody tr th {\n",
       "        vertical-align: top;\n",
       "    }\n",
       "\n",
       "    .dataframe thead th {\n",
       "        text-align: right;\n",
       "    }\n",
       "</style>\n",
       "<table border=\"1\" class=\"dataframe\">\n",
       "  <thead>\n",
       "    <tr style=\"text-align: right;\">\n",
       "      <th></th>\n",
       "      <th>SP500</th>\n",
       "      <th>WMT</th>\n",
       "      <th>MRP</th>\n",
       "    </tr>\n",
       "  </thead>\n",
       "  <tbody>\n",
       "    <tr>\n",
       "      <th>1</th>\n",
       "      <td>0.000350</td>\n",
       "      <td>0.012338</td>\n",
       "      <td>0.000330</td>\n",
       "    </tr>\n",
       "    <tr>\n",
       "      <th>2</th>\n",
       "      <td>0.003120</td>\n",
       "      <td>0.008506</td>\n",
       "      <td>0.003100</td>\n",
       "    </tr>\n",
       "    <tr>\n",
       "      <th>3</th>\n",
       "      <td>0.000697</td>\n",
       "      <td>-0.005413</td>\n",
       "      <td>0.000677</td>\n",
       "    </tr>\n",
       "    <tr>\n",
       "      <th>4</th>\n",
       "      <td>-0.000701</td>\n",
       "      <td>0.002405</td>\n",
       "      <td>-0.000721</td>\n",
       "    </tr>\n",
       "    <tr>\n",
       "      <th>5</th>\n",
       "      <td>0.000530</td>\n",
       "      <td>0.047222</td>\n",
       "      <td>0.000510</td>\n",
       "    </tr>\n",
       "  </tbody>\n",
       "</table>\n",
       "</div>"
      ],
      "text/plain": [
       "      SP500       WMT       MRP\n",
       "1  0.000350  0.012338  0.000330\n",
       "2  0.003120  0.008506  0.003100\n",
       "3  0.000697 -0.005413  0.000677\n",
       "4 -0.000701  0.002405 -0.000721\n",
       "5  0.000530  0.047222  0.000510"
      ]
     },
     "execution_count": 9,
     "metadata": {},
     "output_type": "execute_result"
    }
   ],
   "source": [
    "returns['MRP'] = returns['SP500'] - risk_free / 252\n",
    "returns.head()"
   ]
  },
  {
   "cell_type": "code",
   "execution_count": 10,
   "metadata": {},
   "outputs": [
    {
     "name": "stderr",
     "output_type": "stream",
     "text": [
      "c:\\users\\admin\\.virtualenvs\\fin-model-course-gvj3lsuv\\lib\\site-packages\\numpy\\core\\fromnumeric.py:2495: FutureWarning: Method .ptp is deprecated and will be removed in a future version. Use numpy.ptp instead.\n",
      "  return ptp(axis=axis, out=out, **kwargs)\n"
     ]
    },
    {
     "data": {
      "text/html": [
       "<table class=\"simpletable\">\n",
       "<caption>OLS Regression Results</caption>\n",
       "<tr>\n",
       "  <th>Dep. Variable:</th>           <td>WMT</td>       <th>  R-squared:         </th> <td>   0.183</td>\n",
       "</tr>\n",
       "<tr>\n",
       "  <th>Model:</th>                   <td>OLS</td>       <th>  Adj. R-squared:    </th> <td>   0.182</td>\n",
       "</tr>\n",
       "<tr>\n",
       "  <th>Method:</th>             <td>Least Squares</td>  <th>  F-statistic:       </th> <td>   280.6</td>\n",
       "</tr>\n",
       "<tr>\n",
       "  <th>Date:</th>             <td>Tue, 03 Dec 2019</td> <th>  Prob (F-statistic):</th> <td>5.38e-57</td>\n",
       "</tr>\n",
       "<tr>\n",
       "  <th>Time:</th>                 <td>10:32:36</td>     <th>  Log-Likelihood:    </th> <td>  3854.8</td>\n",
       "</tr>\n",
       "<tr>\n",
       "  <th>No. Observations:</th>      <td>  1257</td>      <th>  AIC:               </th> <td>  -7706.</td>\n",
       "</tr>\n",
       "<tr>\n",
       "  <th>Df Residuals:</th>          <td>  1255</td>      <th>  BIC:               </th> <td>  -7695.</td>\n",
       "</tr>\n",
       "<tr>\n",
       "  <th>Df Model:</th>              <td>     1</td>      <th>                     </th>     <td> </td>   \n",
       "</tr>\n",
       "<tr>\n",
       "  <th>Covariance Type:</th>      <td>nonrobust</td>    <th>                     </th>     <td> </td>   \n",
       "</tr>\n",
       "</table>\n",
       "<table class=\"simpletable\">\n",
       "<tr>\n",
       "    <td></td>       <th>coef</th>     <th>std err</th>      <th>t</th>      <th>P>|t|</th>  <th>[0.025</th>    <th>0.975]</th>  \n",
       "</tr>\n",
       "<tr>\n",
       "  <th>const</th> <td>    0.0003</td> <td>    0.000</td> <td>    0.938</td> <td> 0.348</td> <td>   -0.000</td> <td>    0.001</td>\n",
       "</tr>\n",
       "<tr>\n",
       "  <th>MRP</th>   <td>    0.6248</td> <td>    0.037</td> <td>   16.751</td> <td> 0.000</td> <td>    0.552</td> <td>    0.698</td>\n",
       "</tr>\n",
       "</table>\n",
       "<table class=\"simpletable\">\n",
       "<tr>\n",
       "  <th>Omnibus:</th>       <td>383.484</td> <th>  Durbin-Watson:     </th> <td>   2.046</td> \n",
       "</tr>\n",
       "<tr>\n",
       "  <th>Prob(Omnibus):</th> <td> 0.000</td>  <th>  Jarque-Bera (JB):  </th> <td>26747.784</td>\n",
       "</tr>\n",
       "<tr>\n",
       "  <th>Skew:</th>          <td> 0.480</td>  <th>  Prob(JB):          </th> <td>    0.00</td> \n",
       "</tr>\n",
       "<tr>\n",
       "  <th>Kurtosis:</th>      <td>25.578</td>  <th>  Cond. No.          </th> <td>    117.</td> \n",
       "</tr>\n",
       "</table><br/><br/>Warnings:<br/>[1] Standard Errors assume that the covariance matrix of the errors is correctly specified."
      ],
      "text/plain": [
       "<class 'statsmodels.iolib.summary.Summary'>\n",
       "\"\"\"\n",
       "                            OLS Regression Results                            \n",
       "==============================================================================\n",
       "Dep. Variable:                    WMT   R-squared:                       0.183\n",
       "Model:                            OLS   Adj. R-squared:                  0.182\n",
       "Method:                 Least Squares   F-statistic:                     280.6\n",
       "Date:                Tue, 03 Dec 2019   Prob (F-statistic):           5.38e-57\n",
       "Time:                        10:32:36   Log-Likelihood:                 3854.8\n",
       "No. Observations:                1257   AIC:                            -7706.\n",
       "Df Residuals:                    1255   BIC:                            -7695.\n",
       "Df Model:                           1                                         \n",
       "Covariance Type:            nonrobust                                         \n",
       "==============================================================================\n",
       "                 coef    std err          t      P>|t|      [0.025      0.975]\n",
       "------------------------------------------------------------------------------\n",
       "const          0.0003      0.000      0.938      0.348      -0.000       0.001\n",
       "MRP            0.6248      0.037     16.751      0.000       0.552       0.698\n",
       "==============================================================================\n",
       "Omnibus:                      383.484   Durbin-Watson:                   2.046\n",
       "Prob(Omnibus):                  0.000   Jarque-Bera (JB):            26747.784\n",
       "Skew:                           0.480   Prob(JB):                         0.00\n",
       "Kurtosis:                      25.578   Cond. No.                         117.\n",
       "==============================================================================\n",
       "\n",
       "Warnings:\n",
       "[1] Standard Errors assume that the covariance matrix of the errors is correctly specified.\n",
       "\"\"\""
      ]
     },
     "execution_count": 10,
     "metadata": {},
     "output_type": "execute_result"
    }
   ],
   "source": [
    "import statsmodels.api as sm\n",
    "\n",
    "model = sm.OLS(returns['WMT'], sm.add_constant(returns['MRP']), hasconst=True)\n",
    "results = model.fit()\n",
    "results.summary()"
   ]
  },
  {
   "cell_type": "code",
   "execution_count": 11,
   "metadata": {},
   "outputs": [
    {
     "data": {
      "text/plain": [
       "0.6248324465315509"
      ]
     },
     "execution_count": 11,
     "metadata": {},
     "output_type": "execute_result"
    }
   ],
   "source": [
    "beta = results.params['MRP']\n",
    "beta"
   ]
  },
  {
   "cell_type": "markdown",
   "metadata": {},
   "source": [
    "Calculate historical average of market returns and annualize."
   ]
  },
  {
   "cell_type": "code",
   "execution_count": 12,
   "metadata": {},
   "outputs": [
    {
     "data": {
      "text/plain": [
       "0.0923072636525422"
      ]
     },
     "execution_count": 12,
     "metadata": {},
     "output_type": "execute_result"
    }
   ],
   "source": [
    "mkt_ret = returns['SP500'].mean() * 252\n",
    "mkt_ret"
   ]
  },
  {
   "cell_type": "markdown",
   "metadata": {},
   "source": [
    "Calculate CAPM"
   ]
  },
  {
   "cell_type": "code",
   "execution_count": 13,
   "metadata": {},
   "outputs": [
    {
     "name": "stdout",
     "output_type": "stream",
     "text": [
      "The cost of equity for Walmart is 5.955%\n"
     ]
    }
   ],
   "source": [
    "cost_of_equity = risk_free + beta * (mkt_ret - risk_free)\n",
    "print(f'The cost of equity for Walmart is {cost_of_equity:.3%}')"
   ]
  },
  {
   "cell_type": "markdown",
   "metadata": {},
   "source": [
    "## Market Value of Equity"
   ]
  },
  {
   "cell_type": "code",
   "execution_count": 14,
   "metadata": {},
   "outputs": [
    {
     "name": "stdout",
     "output_type": "stream",
     "text": [
      "WMT has a market cap of $340,603,500,000\n"
     ]
    }
   ],
   "source": [
    "mv_equity = wmt_price * wmt_shrout\n",
    "print(f'WMT has a market cap of ${mv_equity:,.0f}')"
   ]
  },
  {
   "cell_type": "markdown",
   "metadata": {},
   "source": [
    "## Load Info from Financial Statements"
   ]
  },
  {
   "cell_type": "markdown",
   "metadata": {},
   "source": [
    "### Balance Sheet"
   ]
  },
  {
   "cell_type": "code",
   "execution_count": 15,
   "metadata": {},
   "outputs": [
    {
     "data": {
      "text/html": [
       "<div>\n",
       "<style scoped>\n",
       "    .dataframe tbody tr th:only-of-type {\n",
       "        vertical-align: middle;\n",
       "    }\n",
       "\n",
       "    .dataframe tbody tr th {\n",
       "        vertical-align: top;\n",
       "    }\n",
       "\n",
       "    .dataframe thead th {\n",
       "        text-align: right;\n",
       "    }\n",
       "</style>\n",
       "<table border=\"1\" class=\"dataframe\">\n",
       "  <thead>\n",
       "    <tr style=\"text-align: right;\">\n",
       "      <th></th>\n",
       "      <th>2010-01-31</th>\n",
       "      <th>2010-04-30</th>\n",
       "      <th>2010-07-31</th>\n",
       "      <th>2010-10-31</th>\n",
       "      <th>2011-01-31</th>\n",
       "      <th>2011-04-30</th>\n",
       "      <th>2011-07-31</th>\n",
       "      <th>2011-10-31</th>\n",
       "      <th>2012-01-31</th>\n",
       "      <th>2012-04-30</th>\n",
       "      <th>...</th>\n",
       "      <th>2017-04-30</th>\n",
       "      <th>2017-07-31</th>\n",
       "      <th>2017-10-31</th>\n",
       "      <th>2018-01-31</th>\n",
       "      <th>2018-04-30</th>\n",
       "      <th>2018-07-31</th>\n",
       "      <th>2018-10-31</th>\n",
       "      <th>2019-01-31</th>\n",
       "      <th>2019-04-30</th>\n",
       "      <th>2019-07-31</th>\n",
       "    </tr>\n",
       "  </thead>\n",
       "  <tbody>\n",
       "    <tr>\n",
       "      <th>Cash and cash equivalents</th>\n",
       "      <td>7907000000</td>\n",
       "      <td>8516000000</td>\n",
       "      <td>10195000000</td>\n",
       "      <td>10616000000</td>\n",
       "      <td>7395000000</td>\n",
       "      <td>9400000000</td>\n",
       "      <td>8102000000</td>\n",
       "      <td>7063000000</td>\n",
       "      <td>6550000000</td>\n",
       "      <td>8117000000</td>\n",
       "      <td>...</td>\n",
       "      <td>6545000000</td>\n",
       "      <td>6469000000</td>\n",
       "      <td>7026000000</td>\n",
       "      <td>6756000000</td>\n",
       "      <td>7885000000</td>\n",
       "      <td>15840000000</td>\n",
       "      <td>9174000000</td>\n",
       "      <td>7722000000</td>\n",
       "      <td>9255000000</td>\n",
       "      <td>9283000000</td>\n",
       "    </tr>\n",
       "    <tr>\n",
       "      <th>Short-term investments</th>\n",
       "      <td>0</td>\n",
       "      <td>0</td>\n",
       "      <td>0</td>\n",
       "      <td>0</td>\n",
       "      <td>0</td>\n",
       "      <td>0</td>\n",
       "      <td>0</td>\n",
       "      <td>0</td>\n",
       "      <td>0</td>\n",
       "      <td>0</td>\n",
       "      <td>...</td>\n",
       "      <td>0</td>\n",
       "      <td>0</td>\n",
       "      <td>0</td>\n",
       "      <td>0</td>\n",
       "      <td>0</td>\n",
       "      <td>0</td>\n",
       "      <td>0</td>\n",
       "      <td>0</td>\n",
       "      <td>0</td>\n",
       "      <td>0</td>\n",
       "    </tr>\n",
       "    <tr>\n",
       "      <th>Cash and short-term investments</th>\n",
       "      <td>7907000000</td>\n",
       "      <td>8516000000</td>\n",
       "      <td>10195000000</td>\n",
       "      <td>10616000000</td>\n",
       "      <td>7395000000</td>\n",
       "      <td>9400000000</td>\n",
       "      <td>8102000000</td>\n",
       "      <td>7063000000</td>\n",
       "      <td>6550000000</td>\n",
       "      <td>8117000000</td>\n",
       "      <td>...</td>\n",
       "      <td>6545000000</td>\n",
       "      <td>6469000000</td>\n",
       "      <td>7026000000</td>\n",
       "      <td>6756000000</td>\n",
       "      <td>7885000000</td>\n",
       "      <td>15840000000</td>\n",
       "      <td>9174000000</td>\n",
       "      <td>7722000000</td>\n",
       "      <td>9255000000</td>\n",
       "      <td>9283000000</td>\n",
       "    </tr>\n",
       "    <tr>\n",
       "      <th>Receivables</th>\n",
       "      <td>4144000000</td>\n",
       "      <td>4235000000</td>\n",
       "      <td>4531000000</td>\n",
       "      <td>4374000000</td>\n",
       "      <td>5089000000</td>\n",
       "      <td>4785000000</td>\n",
       "      <td>5265000000</td>\n",
       "      <td>4757000000</td>\n",
       "      <td>5937000000</td>\n",
       "      <td>5574000000</td>\n",
       "      <td>...</td>\n",
       "      <td>5252000000</td>\n",
       "      <td>5395000000</td>\n",
       "      <td>5865000000</td>\n",
       "      <td>5614000000</td>\n",
       "      <td>4568000000</td>\n",
       "      <td>5002000000</td>\n",
       "      <td>5785000000</td>\n",
       "      <td>6283000000</td>\n",
       "      <td>5342000000</td>\n",
       "      <td>5382000000</td>\n",
       "    </tr>\n",
       "    <tr>\n",
       "      <th>Inventories</th>\n",
       "      <td>32713000000</td>\n",
       "      <td>35021000000</td>\n",
       "      <td>34793000000</td>\n",
       "      <td>41059000000</td>\n",
       "      <td>36437000000</td>\n",
       "      <td>38495000000</td>\n",
       "      <td>38867000000</td>\n",
       "      <td>44340000000</td>\n",
       "      <td>40714000000</td>\n",
       "      <td>41284000000</td>\n",
       "      <td>...</td>\n",
       "      <td>43361000000</td>\n",
       "      <td>43442000000</td>\n",
       "      <td>50147000000</td>\n",
       "      <td>43783000000</td>\n",
       "      <td>43303000000</td>\n",
       "      <td>41985000000</td>\n",
       "      <td>50380000000</td>\n",
       "      <td>44269000000</td>\n",
       "      <td>44751000000</td>\n",
       "      <td>44134000000</td>\n",
       "    </tr>\n",
       "  </tbody>\n",
       "</table>\n",
       "<p>5 rows × 39 columns</p>\n",
       "</div>"
      ],
      "text/plain": [
       "                                  2010-01-31   2010-04-30   2010-07-31  \\\n",
       "Cash and cash equivalents         7907000000   8516000000  10195000000   \n",
       "Short-term investments                     0            0            0   \n",
       "Cash and short-term investments   7907000000   8516000000  10195000000   \n",
       "Receivables                       4144000000   4235000000   4531000000   \n",
       "Inventories                      32713000000  35021000000  34793000000   \n",
       "\n",
       "                                  2010-10-31   2011-01-31   2011-04-30  \\\n",
       "Cash and cash equivalents        10616000000   7395000000   9400000000   \n",
       "Short-term investments                     0            0            0   \n",
       "Cash and short-term investments  10616000000   7395000000   9400000000   \n",
       "Receivables                       4374000000   5089000000   4785000000   \n",
       "Inventories                      41059000000  36437000000  38495000000   \n",
       "\n",
       "                                  2011-07-31   2011-10-31   2012-01-31  \\\n",
       "Cash and cash equivalents         8102000000   7063000000   6550000000   \n",
       "Short-term investments                     0            0            0   \n",
       "Cash and short-term investments   8102000000   7063000000   6550000000   \n",
       "Receivables                       5265000000   4757000000   5937000000   \n",
       "Inventories                      38867000000  44340000000  40714000000   \n",
       "\n",
       "                                  2012-04-30  ...   2017-04-30   2017-07-31  \\\n",
       "Cash and cash equivalents         8117000000  ...   6545000000   6469000000   \n",
       "Short-term investments                     0  ...            0            0   \n",
       "Cash and short-term investments   8117000000  ...   6545000000   6469000000   \n",
       "Receivables                       5574000000  ...   5252000000   5395000000   \n",
       "Inventories                      41284000000  ...  43361000000  43442000000   \n",
       "\n",
       "                                  2017-10-31   2018-01-31   2018-04-30  \\\n",
       "Cash and cash equivalents         7026000000   6756000000   7885000000   \n",
       "Short-term investments                     0            0            0   \n",
       "Cash and short-term investments   7026000000   6756000000   7885000000   \n",
       "Receivables                       5865000000   5614000000   4568000000   \n",
       "Inventories                      50147000000  43783000000  43303000000   \n",
       "\n",
       "                                  2018-07-31   2018-10-31   2019-01-31  \\\n",
       "Cash and cash equivalents        15840000000   9174000000   7722000000   \n",
       "Short-term investments                     0            0            0   \n",
       "Cash and short-term investments  15840000000   9174000000   7722000000   \n",
       "Receivables                       5002000000   5785000000   6283000000   \n",
       "Inventories                      41985000000  50380000000  44269000000   \n",
       "\n",
       "                                  2019-04-30   2019-07-31  \n",
       "Cash and cash equivalents         9255000000   9283000000  \n",
       "Short-term investments                     0            0  \n",
       "Cash and short-term investments   9255000000   9283000000  \n",
       "Receivables                       5342000000   5382000000  \n",
       "Inventories                      44751000000  44134000000  \n",
       "\n",
       "[5 rows x 39 columns]"
      ]
     },
     "execution_count": 15,
     "metadata": {},
     "output_type": "execute_result"
    }
   ],
   "source": [
    "wmt_bs = pd.read_excel('WMT Balance Sheet.xlsx', index_col=0)\n",
    "wmt_bs.head()"
   ]
  },
  {
   "cell_type": "markdown",
   "metadata": {},
   "source": [
    "We only need the latest values."
   ]
  },
  {
   "cell_type": "code",
   "execution_count": 16,
   "metadata": {},
   "outputs": [
    {
     "data": {
      "text/plain": [
       "Cash and cash equivalents            9283000000\n",
       "Short-term investments                        0\n",
       "Cash and short-term investments      9283000000\n",
       "Receivables                          5382000000\n",
       "Inventories                         44134000000\n",
       "Total current assets                61371000000\n",
       "Property, Plant & Equipment Net    125862000000\n",
       "Goodwill and Intangible Assets      31454000000\n",
       "Long-term investments                         0\n",
       "Tax assets                                    0\n",
       "Total non-current assets           173490000000\n",
       "Total assets                       234861000000\n",
       "Payables                            45871000000\n",
       "Short-term debt                     10311000000\n",
       "Total current liabilities           80283000000\n",
       "Long-term debt                      64398000000\n",
       "Total debt                          74709000000\n",
       "Deferred revenue                              0\n",
       "Tax Liabilities                     13436000000\n",
       "Deposit Liabilities                           0\n",
       "Total non-current liabilities       77447000000\n",
       "Total liabilities                  157730000000\n",
       "Other comprehensive income         -11270000000\n",
       "Retained earnings (deficit)         78432000000\n",
       "Total shareholders equity           70327000000\n",
       "Investments                                   0\n",
       "Net Debt                            65426000000\n",
       "Other Assets                         2572000000\n",
       "Other Liabilities                   24101000000\n",
       "Name: 2019-07-31 00:00:00, dtype: int64"
      ]
     },
     "execution_count": 16,
     "metadata": {},
     "output_type": "execute_result"
    }
   ],
   "source": [
    "wmt_bs = wmt_bs.iloc[:,-1]\n",
    "wmt_bs"
   ]
  },
  {
   "cell_type": "markdown",
   "metadata": {},
   "source": [
    "### Income Statement"
   ]
  },
  {
   "cell_type": "code",
   "execution_count": 17,
   "metadata": {},
   "outputs": [
    {
     "data": {
      "text/html": [
       "<div>\n",
       "<style scoped>\n",
       "    .dataframe tbody tr th:only-of-type {\n",
       "        vertical-align: middle;\n",
       "    }\n",
       "\n",
       "    .dataframe tbody tr th {\n",
       "        vertical-align: top;\n",
       "    }\n",
       "\n",
       "    .dataframe thead th {\n",
       "        text-align: right;\n",
       "    }\n",
       "</style>\n",
       "<table border=\"1\" class=\"dataframe\">\n",
       "  <thead>\n",
       "    <tr style=\"text-align: right;\">\n",
       "      <th></th>\n",
       "      <th>2010-01-31</th>\n",
       "      <th>2010-04-30</th>\n",
       "      <th>2010-07-31</th>\n",
       "      <th>2010-10-31</th>\n",
       "      <th>2011-01-31</th>\n",
       "      <th>2011-04-30</th>\n",
       "      <th>2011-07-31</th>\n",
       "      <th>2011-10-31</th>\n",
       "      <th>2012-01-31</th>\n",
       "      <th>2012-04-30</th>\n",
       "      <th>...</th>\n",
       "      <th>2017-04-30</th>\n",
       "      <th>2017-07-31</th>\n",
       "      <th>2017-10-31</th>\n",
       "      <th>2018-01-31</th>\n",
       "      <th>2018-04-30</th>\n",
       "      <th>2018-07-31</th>\n",
       "      <th>2018-10-31</th>\n",
       "      <th>2019-01-31</th>\n",
       "      <th>2019-04-30</th>\n",
       "      <th>2019-07-31</th>\n",
       "    </tr>\n",
       "  </thead>\n",
       "  <tbody>\n",
       "    <tr>\n",
       "      <th>Revenue</th>\n",
       "      <td>1.136220e+11</td>\n",
       "      <td>9.981100e+10</td>\n",
       "      <td>1.037260e+11</td>\n",
       "      <td>1.019520e+11</td>\n",
       "      <td>1.163600e+11</td>\n",
       "      <td>1.041890e+11</td>\n",
       "      <td>1.093660e+11</td>\n",
       "      <td>1.102260e+11</td>\n",
       "      <td>1.227280e+11</td>\n",
       "      <td>1.130100e+11</td>\n",
       "      <td>...</td>\n",
       "      <td>1.175420e+11</td>\n",
       "      <td>1.233550e+11</td>\n",
       "      <td>1.231790e+11</td>\n",
       "      <td>1.362670e+11</td>\n",
       "      <td>1.226900e+11</td>\n",
       "      <td>1.280280e+11</td>\n",
       "      <td>1.248940e+11</td>\n",
       "      <td>1.387930e+11</td>\n",
       "      <td>1.239250e+11</td>\n",
       "      <td>1.303770e+11</td>\n",
       "    </tr>\n",
       "    <tr>\n",
       "      <th>Revenue Growth</th>\n",
       "      <td>4.600000e-02</td>\n",
       "      <td>5.910000e-02</td>\n",
       "      <td>2.830000e-02</td>\n",
       "      <td>2.600000e-02</td>\n",
       "      <td>2.410000e-02</td>\n",
       "      <td>4.390000e-02</td>\n",
       "      <td>5.440000e-02</td>\n",
       "      <td>8.120000e-02</td>\n",
       "      <td>5.470000e-02</td>\n",
       "      <td>8.470000e-02</td>\n",
       "      <td>...</td>\n",
       "      <td>1.410000e-02</td>\n",
       "      <td>2.070000e-02</td>\n",
       "      <td>4.230000e-02</td>\n",
       "      <td>4.070000e-02</td>\n",
       "      <td>4.380000e-02</td>\n",
       "      <td>3.790000e-02</td>\n",
       "      <td>1.390000e-02</td>\n",
       "      <td>1.850000e-02</td>\n",
       "      <td>1.010000e-02</td>\n",
       "      <td>1.830000e-02</td>\n",
       "    </tr>\n",
       "    <tr>\n",
       "      <th>Cost of Revenue</th>\n",
       "      <td>8.474000e+10</td>\n",
       "      <td>7.461800e+10</td>\n",
       "      <td>7.743800e+10</td>\n",
       "      <td>7.581900e+10</td>\n",
       "      <td>8.707100e+10</td>\n",
       "      <td>7.817700e+10</td>\n",
       "      <td>8.177000e+10</td>\n",
       "      <td>8.259100e+10</td>\n",
       "      <td>9.245500e+10</td>\n",
       "      <td>8.517800e+10</td>\n",
       "      <td>...</td>\n",
       "      <td>8.768800e+10</td>\n",
       "      <td>9.152100e+10</td>\n",
       "      <td>9.154700e+10</td>\n",
       "      <td>1.026400e+11</td>\n",
       "      <td>9.170700e+10</td>\n",
       "      <td>9.557100e+10</td>\n",
       "      <td>9.311600e+10</td>\n",
       "      <td>1.049070e+11</td>\n",
       "      <td>9.303400e+10</td>\n",
       "      <td>9.792300e+10</td>\n",
       "    </tr>\n",
       "    <tr>\n",
       "      <th>Gross Profit</th>\n",
       "      <td>2.888200e+10</td>\n",
       "      <td>2.519300e+10</td>\n",
       "      <td>2.628800e+10</td>\n",
       "      <td>2.613300e+10</td>\n",
       "      <td>2.928900e+10</td>\n",
       "      <td>2.601200e+10</td>\n",
       "      <td>2.759600e+10</td>\n",
       "      <td>2.763500e+10</td>\n",
       "      <td>3.027300e+10</td>\n",
       "      <td>2.783200e+10</td>\n",
       "      <td>...</td>\n",
       "      <td>2.985400e+10</td>\n",
       "      <td>3.183400e+10</td>\n",
       "      <td>3.163200e+10</td>\n",
       "      <td>3.362700e+10</td>\n",
       "      <td>3.098300e+10</td>\n",
       "      <td>3.245700e+10</td>\n",
       "      <td>3.177800e+10</td>\n",
       "      <td>3.388600e+10</td>\n",
       "      <td>3.089100e+10</td>\n",
       "      <td>3.245400e+10</td>\n",
       "    </tr>\n",
       "    <tr>\n",
       "      <th>R&amp;D Expenses</th>\n",
       "      <td>0.000000e+00</td>\n",
       "      <td>0.000000e+00</td>\n",
       "      <td>0.000000e+00</td>\n",
       "      <td>0.000000e+00</td>\n",
       "      <td>0.000000e+00</td>\n",
       "      <td>0.000000e+00</td>\n",
       "      <td>0.000000e+00</td>\n",
       "      <td>0.000000e+00</td>\n",
       "      <td>0.000000e+00</td>\n",
       "      <td>0.000000e+00</td>\n",
       "      <td>...</td>\n",
       "      <td>0.000000e+00</td>\n",
       "      <td>0.000000e+00</td>\n",
       "      <td>0.000000e+00</td>\n",
       "      <td>0.000000e+00</td>\n",
       "      <td>0.000000e+00</td>\n",
       "      <td>0.000000e+00</td>\n",
       "      <td>0.000000e+00</td>\n",
       "      <td>0.000000e+00</td>\n",
       "      <td>0.000000e+00</td>\n",
       "      <td>0.000000e+00</td>\n",
       "    </tr>\n",
       "  </tbody>\n",
       "</table>\n",
       "<p>5 rows × 39 columns</p>\n",
       "</div>"
      ],
      "text/plain": [
       "                   2010-01-31    2010-04-30    2010-07-31    2010-10-31  \\\n",
       "Revenue          1.136220e+11  9.981100e+10  1.037260e+11  1.019520e+11   \n",
       "Revenue Growth   4.600000e-02  5.910000e-02  2.830000e-02  2.600000e-02   \n",
       "Cost of Revenue  8.474000e+10  7.461800e+10  7.743800e+10  7.581900e+10   \n",
       "Gross Profit     2.888200e+10  2.519300e+10  2.628800e+10  2.613300e+10   \n",
       "R&D Expenses     0.000000e+00  0.000000e+00  0.000000e+00  0.000000e+00   \n",
       "\n",
       "                   2011-01-31    2011-04-30    2011-07-31    2011-10-31  \\\n",
       "Revenue          1.163600e+11  1.041890e+11  1.093660e+11  1.102260e+11   \n",
       "Revenue Growth   2.410000e-02  4.390000e-02  5.440000e-02  8.120000e-02   \n",
       "Cost of Revenue  8.707100e+10  7.817700e+10  8.177000e+10  8.259100e+10   \n",
       "Gross Profit     2.928900e+10  2.601200e+10  2.759600e+10  2.763500e+10   \n",
       "R&D Expenses     0.000000e+00  0.000000e+00  0.000000e+00  0.000000e+00   \n",
       "\n",
       "                   2012-01-31    2012-04-30  ...    2017-04-30    2017-07-31  \\\n",
       "Revenue          1.227280e+11  1.130100e+11  ...  1.175420e+11  1.233550e+11   \n",
       "Revenue Growth   5.470000e-02  8.470000e-02  ...  1.410000e-02  2.070000e-02   \n",
       "Cost of Revenue  9.245500e+10  8.517800e+10  ...  8.768800e+10  9.152100e+10   \n",
       "Gross Profit     3.027300e+10  2.783200e+10  ...  2.985400e+10  3.183400e+10   \n",
       "R&D Expenses     0.000000e+00  0.000000e+00  ...  0.000000e+00  0.000000e+00   \n",
       "\n",
       "                   2017-10-31    2018-01-31    2018-04-30    2018-07-31  \\\n",
       "Revenue          1.231790e+11  1.362670e+11  1.226900e+11  1.280280e+11   \n",
       "Revenue Growth   4.230000e-02  4.070000e-02  4.380000e-02  3.790000e-02   \n",
       "Cost of Revenue  9.154700e+10  1.026400e+11  9.170700e+10  9.557100e+10   \n",
       "Gross Profit     3.163200e+10  3.362700e+10  3.098300e+10  3.245700e+10   \n",
       "R&D Expenses     0.000000e+00  0.000000e+00  0.000000e+00  0.000000e+00   \n",
       "\n",
       "                   2018-10-31    2019-01-31    2019-04-30    2019-07-31  \n",
       "Revenue          1.248940e+11  1.387930e+11  1.239250e+11  1.303770e+11  \n",
       "Revenue Growth   1.390000e-02  1.850000e-02  1.010000e-02  1.830000e-02  \n",
       "Cost of Revenue  9.311600e+10  1.049070e+11  9.303400e+10  9.792300e+10  \n",
       "Gross Profit     3.177800e+10  3.388600e+10  3.089100e+10  3.245400e+10  \n",
       "R&D Expenses     0.000000e+00  0.000000e+00  0.000000e+00  0.000000e+00  \n",
       "\n",
       "[5 rows x 39 columns]"
      ]
     },
     "execution_count": 17,
     "metadata": {},
     "output_type": "execute_result"
    }
   ],
   "source": [
    "wmt_is = pd.read_excel('WMT Income Statement.xlsx', index_col=0)\n",
    "wmt_is.head()"
   ]
  },
  {
   "cell_type": "code",
   "execution_count": 18,
   "metadata": {},
   "outputs": [
    {
     "data": {
      "text/plain": [
       "Revenue                             1.303770e+11\n",
       "Revenue Growth                      1.830000e-02\n",
       "Cost of Revenue                     9.792300e+10\n",
       "Gross Profit                        3.245400e+10\n",
       "R&D Expenses                        0.000000e+00\n",
       "SG&A Expense                        2.687100e+10\n",
       "Operating Expenses                  2.687100e+10\n",
       "Operating Income                    5.583000e+09\n",
       "Interest Expense                    6.410000e+08\n",
       "Earnings before Tax                 4.843000e+09\n",
       "Income Tax Expense                  1.233000e+09\n",
       "Net Income - Non-Controlling int    7.000000e+07\n",
       "Net Income - Discontinued ops       0.000000e+00\n",
       "Net Income                          3.610000e+09\n",
       "Preferred Dividends                 0.000000e+00\n",
       "Net Income Com                      3.610000e+09\n",
       "EPS                                 1.270000e+00\n",
       "EPS Diluted                         1.260000e+00\n",
       "Shares (basic)                      2.854722e+09\n",
       "Shares (weighted)                   2.853000e+09\n",
       "Shares (weighted, diluted)          2.869000e+09\n",
       "Dividend per Share                  5.300000e-01\n",
       "Gross Margin                        2.489000e-01\n",
       "EBITDA Margin                       6.300000e-02\n",
       "EBIT Margin                         4.210000e-02\n",
       "Profit Margin                       2.800000e-02\n",
       "Free Cash Flow margin               3.870000e-02\n",
       "EBITDA                              8.206000e+09\n",
       "EBIT                                5.484000e+09\n",
       "Consolidated Income                 3.680000e+09\n",
       "Earnings Before Tax Margin          3.710000e-02\n",
       "Net Profit Margin                   2.770000e-02\n",
       "Name: 2019-07-31 00:00:00, dtype: float64"
      ]
     },
     "execution_count": 18,
     "metadata": {},
     "output_type": "execute_result"
    }
   ],
   "source": [
    "wmt_is = wmt_is.iloc[:,-1]\n",
    "wmt_is"
   ]
  },
  {
   "cell_type": "markdown",
   "metadata": {},
   "source": [
    "### Calculate Tax Rate"
   ]
  },
  {
   "cell_type": "code",
   "execution_count": 19,
   "metadata": {},
   "outputs": [
    {
     "data": {
      "text/plain": [
       "Revenue                             1.303770e+11\n",
       "Revenue Growth                      1.830000e-02\n",
       "Cost of Revenue                     9.792300e+10\n",
       "Gross Profit                        3.245400e+10\n",
       "R&D Expenses                        0.000000e+00\n",
       "SG&A Expense                        2.687100e+10\n",
       "Operating Expenses                  2.687100e+10\n",
       "Operating Income                    5.583000e+09\n",
       "Interest Expense                    6.410000e+08\n",
       "Earnings before Tax                 4.843000e+09\n",
       "Income Tax Expense                  1.233000e+09\n",
       "Net Income - Non-Controlling int    7.000000e+07\n",
       "Net Income - Discontinued ops       0.000000e+00\n",
       "Net Income                          3.610000e+09\n",
       "Preferred Dividends                 0.000000e+00\n",
       "Net Income Com                      3.610000e+09\n",
       "EPS                                 1.270000e+00\n",
       "EPS Diluted                         1.260000e+00\n",
       "Shares (basic)                      2.854722e+09\n",
       "Shares (weighted)                   2.853000e+09\n",
       "Shares (weighted, diluted)          2.869000e+09\n",
       "Dividend per Share                  5.300000e-01\n",
       "Gross Margin                        2.489000e-01\n",
       "EBITDA Margin                       6.300000e-02\n",
       "EBIT Margin                         4.210000e-02\n",
       "Profit Margin                       2.800000e-02\n",
       "Free Cash Flow margin               3.870000e-02\n",
       "EBITDA                              8.206000e+09\n",
       "EBIT                                5.484000e+09\n",
       "Consolidated Income                 3.680000e+09\n",
       "Earnings Before Tax Margin          3.710000e-02\n",
       "Net Profit Margin                   2.770000e-02\n",
       "Name: 2019-07-31 00:00:00, dtype: float64"
      ]
     },
     "execution_count": 19,
     "metadata": {},
     "output_type": "execute_result"
    }
   ],
   "source": [
    "wmt_is"
   ]
  },
  {
   "cell_type": "code",
   "execution_count": 20,
   "metadata": {},
   "outputs": [
    {
     "data": {
      "text/plain": [
       "0.25459425975634936"
      ]
     },
     "execution_count": 20,
     "metadata": {},
     "output_type": "execute_result"
    }
   ],
   "source": [
    "tax_rate = wmt_is['Income Tax Expense'] / wmt_is['Earnings before Tax']\n",
    "tax_rate"
   ]
  },
  {
   "cell_type": "markdown",
   "metadata": {},
   "source": [
    "## Cost of Debt"
   ]
  },
  {
   "cell_type": "markdown",
   "metadata": {},
   "source": [
    "Use the current bond info to calculate the cost of debt."
   ]
  },
  {
   "cell_type": "code",
   "execution_count": 21,
   "metadata": {},
   "outputs": [
    {
     "data": {
      "text/plain": [
       "[5.25,\n",
       " 5.25,\n",
       " 5.25,\n",
       " 5.25,\n",
       " 5.25,\n",
       " 5.25,\n",
       " 5.25,\n",
       " 5.25,\n",
       " 5.25,\n",
       " 5.25,\n",
       " 5.25,\n",
       " 5.25,\n",
       " 5.25,\n",
       " 5.25,\n",
       " 105.25]"
      ]
     },
     "execution_count": 21,
     "metadata": {},
     "output_type": "execute_result"
    }
   ],
   "source": [
    "coupon_payment = wmt_bond_coupon * wmt_bond_par\n",
    "cash_flows = [coupon_payment for i in range(wmt_bond_years - 1)] + [coupon_payment + wmt_bond_par]\n",
    "cash_flows"
   ]
  },
  {
   "cell_type": "code",
   "execution_count": 22,
   "metadata": {},
   "outputs": [
    {
     "data": {
      "text/plain": [
       "0.027369148593149095"
      ]
     },
     "execution_count": 22,
     "metadata": {},
     "output_type": "execute_result"
    }
   ],
   "source": [
    "import numpy as np\n",
    "pretax_cost_of_debt = np.irr([-wmt_bond_price] + cash_flows)\n",
    "pretax_cost_of_debt"
   ]
  },
  {
   "cell_type": "code",
   "execution_count": 23,
   "metadata": {},
   "outputs": [
    {
     "name": "stdout",
     "output_type": "stream",
     "text": [
      "Walmart's pre-tax cost of debt is 2.74% and after-tax cost of debt is 2.04%.\n"
     ]
    }
   ],
   "source": [
    "aftertax_cost_of_debt = pretax_cost_of_debt * (1 - tax_rate)\n",
    "print(f\"Walmart's pre-tax cost of debt is {pretax_cost_of_debt:.2%} and after-tax cost of debt is {aftertax_cost_of_debt:.2%}.\")"
   ]
  },
  {
   "cell_type": "markdown",
   "metadata": {},
   "source": [
    "## Market Value of Debt"
   ]
  },
  {
   "cell_type": "markdown",
   "metadata": {},
   "source": [
    "Load in debt details. After some trial and error, found that the first 12 rows should be skipped."
   ]
  },
  {
   "cell_type": "code",
   "execution_count": 24,
   "metadata": {},
   "outputs": [],
   "source": [
    "debt_details = pd.read_excel('WMT Debt Details.xls', skiprows=12)"
   ]
  },
  {
   "cell_type": "markdown",
   "metadata": {},
   "source": [
    "Now need to remove the second table. The second table starts with Description in the Description column. Then we also want to remove one row above that which has the FY 2019. Then we want to trim the blanks off the bottom."
   ]
  },
  {
   "cell_type": "code",
   "execution_count": 25,
   "metadata": {},
   "outputs": [],
   "source": [
    "fy_row_index = debt_details[debt_details['Description'] == 'Description'].index.values[0] - 1\n",
    "debt_details = debt_details.iloc[:fy_row_index].dropna(how='all')"
   ]
  },
  {
   "cell_type": "code",
   "execution_count": 26,
   "metadata": {},
   "outputs": [
    {
     "data": {
      "text/html": [
       "<div>\n",
       "<style scoped>\n",
       "    .dataframe tbody tr th:only-of-type {\n",
       "        vertical-align: middle;\n",
       "    }\n",
       "\n",
       "    .dataframe tbody tr th {\n",
       "        vertical-align: top;\n",
       "    }\n",
       "\n",
       "    .dataframe thead th {\n",
       "        text-align: right;\n",
       "    }\n",
       "</style>\n",
       "<table border=\"1\" class=\"dataframe\">\n",
       "  <thead>\n",
       "    <tr style=\"text-align: right;\">\n",
       "      <th></th>\n",
       "      <th>Description</th>\n",
       "      <th>Type</th>\n",
       "      <th>Principal Due (USD)</th>\n",
       "      <th>Coupon/Base Rate</th>\n",
       "      <th>Floating Rate</th>\n",
       "      <th>Maturity</th>\n",
       "      <th>Seniority</th>\n",
       "      <th>Secured</th>\n",
       "      <th>Convertible</th>\n",
       "      <th>Repayment Currency</th>\n",
       "    </tr>\n",
       "  </thead>\n",
       "  <tbody>\n",
       "    <tr>\n",
       "      <th>0</th>\n",
       "      <td>0.183% Unsecured Note Due in July 15, 2022, JPY *</td>\n",
       "      <td>Bonds and Notes</td>\n",
       "      <td>619</td>\n",
       "      <td>0.183%</td>\n",
       "      <td>NaN</td>\n",
       "      <td>2022-07-15 00:00:00</td>\n",
       "      <td>Senior</td>\n",
       "      <td>No</td>\n",
       "      <td>No</td>\n",
       "      <td>JPY</td>\n",
       "    </tr>\n",
       "    <tr>\n",
       "      <th>1</th>\n",
       "      <td>0.298% Unsecured Note Due in July 18, 2024, JPY *</td>\n",
       "      <td>Bonds and Notes</td>\n",
       "      <td>354</td>\n",
       "      <td>0.298%</td>\n",
       "      <td>NaN</td>\n",
       "      <td>2024-07-18 00:00:00</td>\n",
       "      <td>Senior</td>\n",
       "      <td>No</td>\n",
       "      <td>No</td>\n",
       "      <td>JPY</td>\n",
       "    </tr>\n",
       "    <tr>\n",
       "      <th>2</th>\n",
       "      <td>0.520% Unsecured Note Due in July 16, 2027, JPY *</td>\n",
       "      <td>Bonds and Notes</td>\n",
       "      <td>530</td>\n",
       "      <td>0.520%</td>\n",
       "      <td>NaN</td>\n",
       "      <td>2027-07-16 00:00:00</td>\n",
       "      <td>Senior</td>\n",
       "      <td>No</td>\n",
       "      <td>No</td>\n",
       "      <td>JPY</td>\n",
       "    </tr>\n",
       "    <tr>\n",
       "      <th>3</th>\n",
       "      <td>1.60% Unsecured Fixed Rate Japanese Yen Bond *</td>\n",
       "      <td>Bonds and Notes</td>\n",
       "      <td>88</td>\n",
       "      <td>1.600%</td>\n",
       "      <td>NaN</td>\n",
       "      <td>2020-07-28 00:00:00</td>\n",
       "      <td>Senior</td>\n",
       "      <td>No</td>\n",
       "      <td>No</td>\n",
       "      <td>JPY</td>\n",
       "    </tr>\n",
       "    <tr>\n",
       "      <th>4</th>\n",
       "      <td>1.750% Unsecured Note Due in October 9, 2019 U...</td>\n",
       "      <td>Bonds and Notes</td>\n",
       "      <td>1198</td>\n",
       "      <td>1.750%</td>\n",
       "      <td>NaN</td>\n",
       "      <td>2019-10-09 00:00:00</td>\n",
       "      <td>Senior</td>\n",
       "      <td>No</td>\n",
       "      <td>No</td>\n",
       "      <td>USD</td>\n",
       "    </tr>\n",
       "  </tbody>\n",
       "</table>\n",
       "</div>"
      ],
      "text/plain": [
       "                                         Description             Type  \\\n",
       "0  0.183% Unsecured Note Due in July 15, 2022, JPY *  Bonds and Notes   \n",
       "1  0.298% Unsecured Note Due in July 18, 2024, JPY *  Bonds and Notes   \n",
       "2  0.520% Unsecured Note Due in July 16, 2027, JPY *  Bonds and Notes   \n",
       "3     1.60% Unsecured Fixed Rate Japanese Yen Bond *  Bonds and Notes   \n",
       "4  1.750% Unsecured Note Due in October 9, 2019 U...  Bonds and Notes   \n",
       "\n",
       "  Principal Due (USD) Coupon/Base Rate Floating Rate             Maturity  \\\n",
       "0                 619           0.183%           NaN  2022-07-15 00:00:00   \n",
       "1                 354           0.298%           NaN  2024-07-18 00:00:00   \n",
       "2                 530           0.520%           NaN  2027-07-16 00:00:00   \n",
       "3                  88           1.600%           NaN  2020-07-28 00:00:00   \n",
       "4                1198           1.750%           NaN  2019-10-09 00:00:00   \n",
       "\n",
       "  Seniority Secured Convertible Repayment Currency  \n",
       "0    Senior      No          No                JPY  \n",
       "1    Senior      No          No                JPY  \n",
       "2    Senior      No          No                JPY  \n",
       "3    Senior      No          No                JPY  \n",
       "4    Senior      No          No                USD  "
      ]
     },
     "execution_count": 26,
     "metadata": {},
     "output_type": "execute_result"
    }
   ],
   "source": [
    "debt_details.head()"
   ]
  },
  {
   "cell_type": "code",
   "execution_count": 27,
   "metadata": {},
   "outputs": [
    {
     "data": {
      "text/html": [
       "<div>\n",
       "<style scoped>\n",
       "    .dataframe tbody tr th:only-of-type {\n",
       "        vertical-align: middle;\n",
       "    }\n",
       "\n",
       "    .dataframe tbody tr th {\n",
       "        vertical-align: top;\n",
       "    }\n",
       "\n",
       "    .dataframe thead th {\n",
       "        text-align: right;\n",
       "    }\n",
       "</style>\n",
       "<table border=\"1\" class=\"dataframe\">\n",
       "  <thead>\n",
       "    <tr style=\"text-align: right;\">\n",
       "      <th></th>\n",
       "      <th>Description</th>\n",
       "      <th>Type</th>\n",
       "      <th>Principal Due (USD)</th>\n",
       "      <th>Coupon/Base Rate</th>\n",
       "      <th>Floating Rate</th>\n",
       "      <th>Maturity</th>\n",
       "      <th>Seniority</th>\n",
       "      <th>Secured</th>\n",
       "      <th>Convertible</th>\n",
       "      <th>Repayment Currency</th>\n",
       "    </tr>\n",
       "  </thead>\n",
       "  <tbody>\n",
       "    <tr>\n",
       "      <th>57</th>\n",
       "      <td>Senior, Unsecured Notes</td>\n",
       "      <td>Bonds and Notes</td>\n",
       "      <td>42</td>\n",
       "      <td>NaN</td>\n",
       "      <td>NaN</td>\n",
       "      <td>-</td>\n",
       "      <td>Senior</td>\n",
       "      <td>No</td>\n",
       "      <td>No</td>\n",
       "      <td>USD</td>\n",
       "    </tr>\n",
       "    <tr>\n",
       "      <th>58</th>\n",
       "      <td>Senior, Unsecured Notes</td>\n",
       "      <td>Bonds and Notes</td>\n",
       "      <td>1243</td>\n",
       "      <td>3.250%</td>\n",
       "      <td>NaN</td>\n",
       "      <td>2029-07-08 00:00:00</td>\n",
       "      <td>Senior</td>\n",
       "      <td>No</td>\n",
       "      <td>No</td>\n",
       "      <td>USD</td>\n",
       "    </tr>\n",
       "    <tr>\n",
       "      <th>59</th>\n",
       "      <td>Senior, Unsecured Notes</td>\n",
       "      <td>Bonds and Notes</td>\n",
       "      <td>1242</td>\n",
       "      <td>3.050%</td>\n",
       "      <td>NaN</td>\n",
       "      <td>2026-07-08 00:00:00</td>\n",
       "      <td>Senior</td>\n",
       "      <td>No</td>\n",
       "      <td>No</td>\n",
       "      <td>USD</td>\n",
       "    </tr>\n",
       "    <tr>\n",
       "      <th>60</th>\n",
       "      <td>Senior, Unsecured Notes</td>\n",
       "      <td>Bonds and Notes</td>\n",
       "      <td>1493</td>\n",
       "      <td>2.850%</td>\n",
       "      <td>NaN</td>\n",
       "      <td>2024-07-08 00:00:00</td>\n",
       "      <td>Senior</td>\n",
       "      <td>No</td>\n",
       "      <td>No</td>\n",
       "      <td>USD</td>\n",
       "    </tr>\n",
       "    <tr>\n",
       "      <th>61</th>\n",
       "      <td>Short-Term Borrowings</td>\n",
       "      <td>Other Borrowings</td>\n",
       "      <td>3681</td>\n",
       "      <td>NaN</td>\n",
       "      <td>NaN</td>\n",
       "      <td>2020-07-31 00:00:00</td>\n",
       "      <td>Senior</td>\n",
       "      <td>No</td>\n",
       "      <td>No</td>\n",
       "      <td>USD</td>\n",
       "    </tr>\n",
       "  </tbody>\n",
       "</table>\n",
       "</div>"
      ],
      "text/plain": [
       "                Description              Type Principal Due (USD)  \\\n",
       "57  Senior, Unsecured Notes   Bonds and Notes                  42   \n",
       "58  Senior, Unsecured Notes   Bonds and Notes                1243   \n",
       "59  Senior, Unsecured Notes   Bonds and Notes                1242   \n",
       "60  Senior, Unsecured Notes   Bonds and Notes                1493   \n",
       "61    Short-Term Borrowings  Other Borrowings                3681   \n",
       "\n",
       "   Coupon/Base Rate Floating Rate             Maturity Seniority Secured  \\\n",
       "57              NaN           NaN                    -    Senior      No   \n",
       "58           3.250%           NaN  2029-07-08 00:00:00    Senior      No   \n",
       "59           3.050%           NaN  2026-07-08 00:00:00    Senior      No   \n",
       "60           2.850%           NaN  2024-07-08 00:00:00    Senior      No   \n",
       "61              NaN           NaN  2020-07-31 00:00:00    Senior      No   \n",
       "\n",
       "   Convertible Repayment Currency  \n",
       "57          No                USD  \n",
       "58          No                USD  \n",
       "59          No                USD  \n",
       "60          No                USD  \n",
       "61          No                USD  "
      ]
     },
     "execution_count": 27,
     "metadata": {},
     "output_type": "execute_result"
    }
   ],
   "source": [
    "debt_details.tail()"
   ]
  },
  {
   "cell_type": "markdown",
   "metadata": {},
   "source": [
    "Now we have the right rows. But we have some \"-\" which actually should be missing."
   ]
  },
  {
   "cell_type": "code",
   "execution_count": 28,
   "metadata": {},
   "outputs": [],
   "source": [
    "debt_details = debt_details.replace('-', np.nan)"
   ]
  },
  {
   "cell_type": "markdown",
   "metadata": {},
   "source": [
    "### Check if Approach is Valid"
   ]
  },
  {
   "cell_type": "code",
   "execution_count": 29,
   "metadata": {},
   "outputs": [
    {
     "data": {
      "text/plain": [
       "76339.20000000001"
      ]
     },
     "execution_count": 29,
     "metadata": {},
     "output_type": "execute_result"
    }
   ],
   "source": [
    "debt_details['Principal Due (USD)'].sum()"
   ]
  },
  {
   "cell_type": "markdown",
   "metadata": {},
   "source": [
    "This is actually in millions. So that's 76 billion."
   ]
  },
  {
   "cell_type": "code",
   "execution_count": 30,
   "metadata": {},
   "outputs": [
    {
     "data": {
      "text/plain": [
       "74709000000"
      ]
     },
     "execution_count": 30,
     "metadata": {},
     "output_type": "execute_result"
    }
   ],
   "source": [
    "wmt_bs['Total debt']"
   ]
  },
  {
   "cell_type": "code",
   "execution_count": 31,
   "metadata": {},
   "outputs": [
    {
     "data": {
      "text/plain": [
       "0.02182066417700699"
      ]
     },
     "execution_count": 31,
     "metadata": {},
     "output_type": "execute_result"
    }
   ],
   "source": [
    "(debt_details['Principal Due (USD)'].sum() * 1000000 - wmt_bs['Total debt']) / wmt_bs['Total debt']"
   ]
  },
  {
   "cell_type": "markdown",
   "metadata": {},
   "source": [
    "Only 2% different, good enough."
   ]
  },
  {
   "cell_type": "markdown",
   "metadata": {},
   "source": [
    "### Clean up Coupons"
   ]
  },
  {
   "cell_type": "code",
   "execution_count": 32,
   "metadata": {},
   "outputs": [
    {
     "data": {
      "text/plain": [
       "Description             object\n",
       "Type                    object\n",
       "Principal Due (USD)    float64\n",
       "Coupon/Base Rate        object\n",
       "Floating Rate           object\n",
       "Maturity                object\n",
       "Seniority               object\n",
       "Secured                 object\n",
       "Convertible             object\n",
       "Repayment Currency      object\n",
       "dtype: object"
      ]
     },
     "execution_count": 32,
     "metadata": {},
     "output_type": "execute_result"
    }
   ],
   "source": [
    "debt_details.dtypes"
   ]
  },
  {
   "cell_type": "markdown",
   "metadata": {},
   "source": [
    "We can see coupons are not numbers right now. This is due to the coupon ranges. Also we have both floating rates and fixed rates, and since we have the LIBOR rate we can combine them all into one set of fixed coupons. For the ranges, we'll take the average of the range."
   ]
  },
  {
   "cell_type": "code",
   "execution_count": 33,
   "metadata": {},
   "outputs": [],
   "source": [
    "import re\n",
    "\n",
    "# Regular expressions are outside the scope of the course, but they are very powerful\n",
    "range_pattern = re.compile('([\\d.]+)% - ([\\d.]+)%')\n",
    "\n",
    "def standardize_fixed_coupons(coupon_str):\n",
    "    \"\"\"\n",
    "    Strips percentages, takes averages of percentage ranges\n",
    "    \"\"\"\n",
    "    # Handle missing values\n",
    "    if pd.isnull(coupon_str):\n",
    "        return coupon_str\n",
    "    \n",
    "    # More regular expression stuff. Extract the two percentages and take the average\n",
    "    match = range_pattern.match(coupon_str)\n",
    "    if match:\n",
    "        bottom_pct = float(match.group(1))\n",
    "        top_pct = float(match.group(2))\n",
    "        return (top_pct + bottom_pct) / 2\n",
    "    \n",
    "    # Single percentage\n",
    "    return float(coupon_str.strip('%'))\n",
    "\n",
    "\n",
    "debt_details['Coupon/Base Rate'] = debt_details['Coupon/Base Rate'].apply(standardize_fixed_coupons)"
   ]
  },
  {
   "cell_type": "code",
   "execution_count": 34,
   "metadata": {},
   "outputs": [],
   "source": [
    "# Regular expressions are outside the scope of the course, but they are very powerful\n",
    "libor_pattern = re.compile('LIBOR \\+ ([\\d.]+)%')\n",
    "\n",
    "def standardize_floating_coupons(coupon_str):\n",
    "    \"\"\"\n",
    "    Extracts percentages from string with LIBOR + pct, and fills in the value of LIBOR\n",
    "    \"\"\"\n",
    "    # Handle missing values\n",
    "    if pd.isnull(coupon_str):\n",
    "        return coupon_str\n",
    "    \n",
    "    # More regular expression stuff. Extract the two percentages and take the average\n",
    "    match = libor_pattern.match(coupon_str)\n",
    "    if match:\n",
    "        pct = float(match.group(1))\n",
    "        return (libor_rate * 100) + pct\n",
    "    \n",
    "    # Shouldn't be hitting here on the current data\n",
    "    return float(coupon_str.strip('%'))\n",
    "\n",
    "debt_details['Floating Rate'] = debt_details['Floating Rate'].apply(standardize_floating_coupons)"
   ]
  },
  {
   "cell_type": "markdown",
   "metadata": {},
   "source": [
    "Now the last step is to create one column which combines the two."
   ]
  },
  {
   "cell_type": "code",
   "execution_count": 35,
   "metadata": {},
   "outputs": [
    {
     "data": {
      "text/html": [
       "<div>\n",
       "<style scoped>\n",
       "    .dataframe tbody tr th:only-of-type {\n",
       "        vertical-align: middle;\n",
       "    }\n",
       "\n",
       "    .dataframe tbody tr th {\n",
       "        vertical-align: top;\n",
       "    }\n",
       "\n",
       "    .dataframe thead th {\n",
       "        text-align: right;\n",
       "    }\n",
       "</style>\n",
       "<table border=\"1\" class=\"dataframe\">\n",
       "  <thead>\n",
       "    <tr style=\"text-align: right;\">\n",
       "      <th></th>\n",
       "      <th>Description</th>\n",
       "      <th>Type</th>\n",
       "      <th>Principal Due (USD)</th>\n",
       "      <th>Coupon/Base Rate</th>\n",
       "      <th>Floating Rate</th>\n",
       "      <th>Maturity</th>\n",
       "      <th>Seniority</th>\n",
       "      <th>Secured</th>\n",
       "      <th>Convertible</th>\n",
       "      <th>Repayment Currency</th>\n",
       "      <th>Coupon</th>\n",
       "    </tr>\n",
       "  </thead>\n",
       "  <tbody>\n",
       "    <tr>\n",
       "      <th>0</th>\n",
       "      <td>0.183% Unsecured Note Due in July 15, 2022, JPY *</td>\n",
       "      <td>Bonds and Notes</td>\n",
       "      <td>619.0</td>\n",
       "      <td>0.183</td>\n",
       "      <td>NaN</td>\n",
       "      <td>2022-07-15 00:00:00</td>\n",
       "      <td>Senior</td>\n",
       "      <td>No</td>\n",
       "      <td>No</td>\n",
       "      <td>JPY</td>\n",
       "      <td>0.00183</td>\n",
       "    </tr>\n",
       "    <tr>\n",
       "      <th>1</th>\n",
       "      <td>0.298% Unsecured Note Due in July 18, 2024, JPY *</td>\n",
       "      <td>Bonds and Notes</td>\n",
       "      <td>354.0</td>\n",
       "      <td>0.298</td>\n",
       "      <td>NaN</td>\n",
       "      <td>2024-07-18 00:00:00</td>\n",
       "      <td>Senior</td>\n",
       "      <td>No</td>\n",
       "      <td>No</td>\n",
       "      <td>JPY</td>\n",
       "      <td>0.00298</td>\n",
       "    </tr>\n",
       "    <tr>\n",
       "      <th>2</th>\n",
       "      <td>0.520% Unsecured Note Due in July 16, 2027, JPY *</td>\n",
       "      <td>Bonds and Notes</td>\n",
       "      <td>530.0</td>\n",
       "      <td>0.520</td>\n",
       "      <td>NaN</td>\n",
       "      <td>2027-07-16 00:00:00</td>\n",
       "      <td>Senior</td>\n",
       "      <td>No</td>\n",
       "      <td>No</td>\n",
       "      <td>JPY</td>\n",
       "      <td>0.00520</td>\n",
       "    </tr>\n",
       "    <tr>\n",
       "      <th>3</th>\n",
       "      <td>1.60% Unsecured Fixed Rate Japanese Yen Bond *</td>\n",
       "      <td>Bonds and Notes</td>\n",
       "      <td>88.0</td>\n",
       "      <td>1.600</td>\n",
       "      <td>NaN</td>\n",
       "      <td>2020-07-28 00:00:00</td>\n",
       "      <td>Senior</td>\n",
       "      <td>No</td>\n",
       "      <td>No</td>\n",
       "      <td>JPY</td>\n",
       "      <td>0.01600</td>\n",
       "    </tr>\n",
       "    <tr>\n",
       "      <th>4</th>\n",
       "      <td>1.750% Unsecured Note Due in October 9, 2019 U...</td>\n",
       "      <td>Bonds and Notes</td>\n",
       "      <td>1198.0</td>\n",
       "      <td>1.750</td>\n",
       "      <td>NaN</td>\n",
       "      <td>2019-10-09 00:00:00</td>\n",
       "      <td>Senior</td>\n",
       "      <td>No</td>\n",
       "      <td>No</td>\n",
       "      <td>USD</td>\n",
       "      <td>0.01750</td>\n",
       "    </tr>\n",
       "  </tbody>\n",
       "</table>\n",
       "</div>"
      ],
      "text/plain": [
       "                                         Description             Type  \\\n",
       "0  0.183% Unsecured Note Due in July 15, 2022, JPY *  Bonds and Notes   \n",
       "1  0.298% Unsecured Note Due in July 18, 2024, JPY *  Bonds and Notes   \n",
       "2  0.520% Unsecured Note Due in July 16, 2027, JPY *  Bonds and Notes   \n",
       "3     1.60% Unsecured Fixed Rate Japanese Yen Bond *  Bonds and Notes   \n",
       "4  1.750% Unsecured Note Due in October 9, 2019 U...  Bonds and Notes   \n",
       "\n",
       "   Principal Due (USD)  Coupon/Base Rate  Floating Rate             Maturity  \\\n",
       "0                619.0             0.183            NaN  2022-07-15 00:00:00   \n",
       "1                354.0             0.298            NaN  2024-07-18 00:00:00   \n",
       "2                530.0             0.520            NaN  2027-07-16 00:00:00   \n",
       "3                 88.0             1.600            NaN  2020-07-28 00:00:00   \n",
       "4               1198.0             1.750            NaN  2019-10-09 00:00:00   \n",
       "\n",
       "  Seniority Secured Convertible Repayment Currency   Coupon  \n",
       "0    Senior      No          No                JPY  0.00183  \n",
       "1    Senior      No          No                JPY  0.00298  \n",
       "2    Senior      No          No                JPY  0.00520  \n",
       "3    Senior      No          No                JPY  0.01600  \n",
       "4    Senior      No          No                USD  0.01750  "
      ]
     },
     "execution_count": 35,
     "metadata": {},
     "output_type": "execute_result"
    }
   ],
   "source": [
    "debt_details['Coupon'] = debt_details['Coupon/Base Rate'].fillna(debt_details['Floating Rate'])\n",
    "debt_details['Coupon'] = debt_details['Coupon'] / 100\n",
    "debt_details.head()"
   ]
  },
  {
   "cell_type": "markdown",
   "metadata": {},
   "source": [
    "### Calculate Years to Maturity"
   ]
  },
  {
   "cell_type": "code",
   "execution_count": 36,
   "metadata": {},
   "outputs": [
    {
     "data": {
      "text/plain": [
       "Description             object\n",
       "Type                    object\n",
       "Principal Due (USD)    float64\n",
       "Coupon/Base Rate       float64\n",
       "Floating Rate          float64\n",
       "Maturity                object\n",
       "Seniority               object\n",
       "Secured                 object\n",
       "Convertible             object\n",
       "Repayment Currency      object\n",
       "Coupon                 float64\n",
       "dtype: object"
      ]
     },
     "execution_count": 36,
     "metadata": {},
     "output_type": "execute_result"
    }
   ],
   "source": [
    "debt_details.dtypes"
   ]
  },
  {
   "cell_type": "markdown",
   "metadata": {},
   "source": [
    "Maturity is still `object` so let's convert it. For some rows, it has only years and not dates. We need to handle those before passing to `pd.to_datetime`"
   ]
  },
  {
   "cell_type": "code",
   "execution_count": 37,
   "metadata": {},
   "outputs": [],
   "source": [
    "\n",
    "def standardize_maturity_dates(maturity):\n",
    "    \"\"\"\n",
    "    Converts years into end of year\n",
    "    \"\"\"\n",
    "    # Handle missing values and existing dates\n",
    "    if not isinstance(maturity, (str, int)):\n",
    "        return maturity\n",
    "    \n",
    "    # More regular expression stuff. Identify when it's just a year and create a date out of it\n",
    "    if isinstance(maturity, int):\n",
    "        return pd.to_datetime(f'Dec-31-{maturity}')\n",
    "    \n",
    "    # Regular date str\n",
    "    return maturity\n",
    "\n",
    "debt_details['Maturity'] = debt_details['Maturity'].apply(standardize_maturity_dates)"
   ]
  },
  {
   "cell_type": "code",
   "execution_count": 38,
   "metadata": {},
   "outputs": [
    {
     "data": {
      "text/html": [
       "<div>\n",
       "<style scoped>\n",
       "    .dataframe tbody tr th:only-of-type {\n",
       "        vertical-align: middle;\n",
       "    }\n",
       "\n",
       "    .dataframe tbody tr th {\n",
       "        vertical-align: top;\n",
       "    }\n",
       "\n",
       "    .dataframe thead th {\n",
       "        text-align: right;\n",
       "    }\n",
       "</style>\n",
       "<table border=\"1\" class=\"dataframe\">\n",
       "  <thead>\n",
       "    <tr style=\"text-align: right;\">\n",
       "      <th></th>\n",
       "      <th>Description</th>\n",
       "      <th>Type</th>\n",
       "      <th>Principal Due (USD)</th>\n",
       "      <th>Coupon/Base Rate</th>\n",
       "      <th>Floating Rate</th>\n",
       "      <th>Maturity</th>\n",
       "      <th>Seniority</th>\n",
       "      <th>Secured</th>\n",
       "      <th>Convertible</th>\n",
       "      <th>Repayment Currency</th>\n",
       "      <th>Coupon</th>\n",
       "    </tr>\n",
       "  </thead>\n",
       "  <tbody>\n",
       "    <tr>\n",
       "      <th>0</th>\n",
       "      <td>0.183% Unsecured Note Due in July 15, 2022, JPY *</td>\n",
       "      <td>Bonds and Notes</td>\n",
       "      <td>619.0</td>\n",
       "      <td>0.183</td>\n",
       "      <td>NaN</td>\n",
       "      <td>2022-07-15</td>\n",
       "      <td>Senior</td>\n",
       "      <td>No</td>\n",
       "      <td>No</td>\n",
       "      <td>JPY</td>\n",
       "      <td>0.00183</td>\n",
       "    </tr>\n",
       "    <tr>\n",
       "      <th>1</th>\n",
       "      <td>0.298% Unsecured Note Due in July 18, 2024, JPY *</td>\n",
       "      <td>Bonds and Notes</td>\n",
       "      <td>354.0</td>\n",
       "      <td>0.298</td>\n",
       "      <td>NaN</td>\n",
       "      <td>2024-07-18</td>\n",
       "      <td>Senior</td>\n",
       "      <td>No</td>\n",
       "      <td>No</td>\n",
       "      <td>JPY</td>\n",
       "      <td>0.00298</td>\n",
       "    </tr>\n",
       "    <tr>\n",
       "      <th>2</th>\n",
       "      <td>0.520% Unsecured Note Due in July 16, 2027, JPY *</td>\n",
       "      <td>Bonds and Notes</td>\n",
       "      <td>530.0</td>\n",
       "      <td>0.520</td>\n",
       "      <td>NaN</td>\n",
       "      <td>2027-07-16</td>\n",
       "      <td>Senior</td>\n",
       "      <td>No</td>\n",
       "      <td>No</td>\n",
       "      <td>JPY</td>\n",
       "      <td>0.00520</td>\n",
       "    </tr>\n",
       "    <tr>\n",
       "      <th>3</th>\n",
       "      <td>1.60% Unsecured Fixed Rate Japanese Yen Bond *</td>\n",
       "      <td>Bonds and Notes</td>\n",
       "      <td>88.0</td>\n",
       "      <td>1.600</td>\n",
       "      <td>NaN</td>\n",
       "      <td>2020-07-28</td>\n",
       "      <td>Senior</td>\n",
       "      <td>No</td>\n",
       "      <td>No</td>\n",
       "      <td>JPY</td>\n",
       "      <td>0.01600</td>\n",
       "    </tr>\n",
       "    <tr>\n",
       "      <th>4</th>\n",
       "      <td>1.750% Unsecured Note Due in October 9, 2019 U...</td>\n",
       "      <td>Bonds and Notes</td>\n",
       "      <td>1198.0</td>\n",
       "      <td>1.750</td>\n",
       "      <td>NaN</td>\n",
       "      <td>2019-10-09</td>\n",
       "      <td>Senior</td>\n",
       "      <td>No</td>\n",
       "      <td>No</td>\n",
       "      <td>USD</td>\n",
       "      <td>0.01750</td>\n",
       "    </tr>\n",
       "  </tbody>\n",
       "</table>\n",
       "</div>"
      ],
      "text/plain": [
       "                                         Description             Type  \\\n",
       "0  0.183% Unsecured Note Due in July 15, 2022, JPY *  Bonds and Notes   \n",
       "1  0.298% Unsecured Note Due in July 18, 2024, JPY *  Bonds and Notes   \n",
       "2  0.520% Unsecured Note Due in July 16, 2027, JPY *  Bonds and Notes   \n",
       "3     1.60% Unsecured Fixed Rate Japanese Yen Bond *  Bonds and Notes   \n",
       "4  1.750% Unsecured Note Due in October 9, 2019 U...  Bonds and Notes   \n",
       "\n",
       "   Principal Due (USD)  Coupon/Base Rate  Floating Rate   Maturity Seniority  \\\n",
       "0                619.0             0.183            NaN 2022-07-15    Senior   \n",
       "1                354.0             0.298            NaN 2024-07-18    Senior   \n",
       "2                530.0             0.520            NaN 2027-07-16    Senior   \n",
       "3                 88.0             1.600            NaN 2020-07-28    Senior   \n",
       "4               1198.0             1.750            NaN 2019-10-09    Senior   \n",
       "\n",
       "  Secured Convertible Repayment Currency   Coupon  \n",
       "0      No          No                JPY  0.00183  \n",
       "1      No          No                JPY  0.00298  \n",
       "2      No          No                JPY  0.00520  \n",
       "3      No          No                JPY  0.01600  \n",
       "4      No          No                USD  0.01750  "
      ]
     },
     "execution_count": 38,
     "metadata": {},
     "output_type": "execute_result"
    }
   ],
   "source": [
    "debt_details.head()"
   ]
  },
  {
   "cell_type": "markdown",
   "metadata": {},
   "source": [
    "Now calculate the maturity years."
   ]
  },
  {
   "cell_type": "code",
   "execution_count": 39,
   "metadata": {},
   "outputs": [],
   "source": [
    "import datetime\n",
    "\n",
    "def years_until_from_date(date):\n",
    "    \"\"\"\n",
    "    Calculate the number of years until a date, starting from today.\n",
    "    \"\"\"\n",
    "    today = datetime.datetime.today()\n",
    "#     today = datetime.datetime(2019, 11, 7)\n",
    "    diff = date - today\n",
    "    seconds = diff.total_seconds()\n",
    "    seconds_per_year = 60 * 60 * 24 * 365\n",
    "    years_elapsed = seconds / seconds_per_year\n",
    "    return years_elapsed\n",
    "\n",
    "debt_details['Maturity (years)'] = debt_details['Maturity'].apply(years_until_from_date)"
   ]
  },
  {
   "cell_type": "code",
   "execution_count": 40,
   "metadata": {},
   "outputs": [
    {
     "data": {
      "text/html": [
       "<div>\n",
       "<style scoped>\n",
       "    .dataframe tbody tr th:only-of-type {\n",
       "        vertical-align: middle;\n",
       "    }\n",
       "\n",
       "    .dataframe tbody tr th {\n",
       "        vertical-align: top;\n",
       "    }\n",
       "\n",
       "    .dataframe thead th {\n",
       "        text-align: right;\n",
       "    }\n",
       "</style>\n",
       "<table border=\"1\" class=\"dataframe\">\n",
       "  <thead>\n",
       "    <tr style=\"text-align: right;\">\n",
       "      <th></th>\n",
       "      <th>Description</th>\n",
       "      <th>Type</th>\n",
       "      <th>Principal Due (USD)</th>\n",
       "      <th>Coupon/Base Rate</th>\n",
       "      <th>Floating Rate</th>\n",
       "      <th>Maturity</th>\n",
       "      <th>Seniority</th>\n",
       "      <th>Secured</th>\n",
       "      <th>Convertible</th>\n",
       "      <th>Repayment Currency</th>\n",
       "      <th>Coupon</th>\n",
       "      <th>Maturity (years)</th>\n",
       "    </tr>\n",
       "  </thead>\n",
       "  <tbody>\n",
       "    <tr>\n",
       "      <th>0</th>\n",
       "      <td>0.183% Unsecured Note Due in July 15, 2022, JPY *</td>\n",
       "      <td>Bonds and Notes</td>\n",
       "      <td>619.0</td>\n",
       "      <td>0.183</td>\n",
       "      <td>NaN</td>\n",
       "      <td>2022-07-15</td>\n",
       "      <td>Senior</td>\n",
       "      <td>No</td>\n",
       "      <td>No</td>\n",
       "      <td>JPY</td>\n",
       "      <td>0.00183</td>\n",
       "      <td>2.615235</td>\n",
       "    </tr>\n",
       "    <tr>\n",
       "      <th>1</th>\n",
       "      <td>0.298% Unsecured Note Due in July 18, 2024, JPY *</td>\n",
       "      <td>Bonds and Notes</td>\n",
       "      <td>354.0</td>\n",
       "      <td>0.298</td>\n",
       "      <td>NaN</td>\n",
       "      <td>2024-07-18</td>\n",
       "      <td>Senior</td>\n",
       "      <td>No</td>\n",
       "      <td>No</td>\n",
       "      <td>JPY</td>\n",
       "      <td>0.00298</td>\n",
       "      <td>4.626194</td>\n",
       "    </tr>\n",
       "    <tr>\n",
       "      <th>2</th>\n",
       "      <td>0.520% Unsecured Note Due in July 16, 2027, JPY *</td>\n",
       "      <td>Bonds and Notes</td>\n",
       "      <td>530.0</td>\n",
       "      <td>0.520</td>\n",
       "      <td>NaN</td>\n",
       "      <td>2027-07-16</td>\n",
       "      <td>Senior</td>\n",
       "      <td>No</td>\n",
       "      <td>No</td>\n",
       "      <td>JPY</td>\n",
       "      <td>0.00520</td>\n",
       "      <td>7.620714</td>\n",
       "    </tr>\n",
       "    <tr>\n",
       "      <th>3</th>\n",
       "      <td>1.60% Unsecured Fixed Rate Japanese Yen Bond *</td>\n",
       "      <td>Bonds and Notes</td>\n",
       "      <td>88.0</td>\n",
       "      <td>1.600</td>\n",
       "      <td>NaN</td>\n",
       "      <td>2020-07-28</td>\n",
       "      <td>Senior</td>\n",
       "      <td>No</td>\n",
       "      <td>No</td>\n",
       "      <td>JPY</td>\n",
       "      <td>0.01600</td>\n",
       "      <td>0.650851</td>\n",
       "    </tr>\n",
       "    <tr>\n",
       "      <th>4</th>\n",
       "      <td>1.750% Unsecured Note Due in October 9, 2019 U...</td>\n",
       "      <td>Bonds and Notes</td>\n",
       "      <td>1198.0</td>\n",
       "      <td>1.750</td>\n",
       "      <td>NaN</td>\n",
       "      <td>2019-10-09</td>\n",
       "      <td>Senior</td>\n",
       "      <td>No</td>\n",
       "      <td>No</td>\n",
       "      <td>USD</td>\n",
       "      <td>0.01750</td>\n",
       "      <td>-0.151889</td>\n",
       "    </tr>\n",
       "  </tbody>\n",
       "</table>\n",
       "</div>"
      ],
      "text/plain": [
       "                                         Description             Type  \\\n",
       "0  0.183% Unsecured Note Due in July 15, 2022, JPY *  Bonds and Notes   \n",
       "1  0.298% Unsecured Note Due in July 18, 2024, JPY *  Bonds and Notes   \n",
       "2  0.520% Unsecured Note Due in July 16, 2027, JPY *  Bonds and Notes   \n",
       "3     1.60% Unsecured Fixed Rate Japanese Yen Bond *  Bonds and Notes   \n",
       "4  1.750% Unsecured Note Due in October 9, 2019 U...  Bonds and Notes   \n",
       "\n",
       "   Principal Due (USD)  Coupon/Base Rate  Floating Rate   Maturity Seniority  \\\n",
       "0                619.0             0.183            NaN 2022-07-15    Senior   \n",
       "1                354.0             0.298            NaN 2024-07-18    Senior   \n",
       "2                530.0             0.520            NaN 2027-07-16    Senior   \n",
       "3                 88.0             1.600            NaN 2020-07-28    Senior   \n",
       "4               1198.0             1.750            NaN 2019-10-09    Senior   \n",
       "\n",
       "  Secured Convertible Repayment Currency   Coupon  Maturity (years)  \n",
       "0      No          No                JPY  0.00183          2.615235  \n",
       "1      No          No                JPY  0.00298          4.626194  \n",
       "2      No          No                JPY  0.00520          7.620714  \n",
       "3      No          No                JPY  0.01600          0.650851  \n",
       "4      No          No                USD  0.01750         -0.151889  "
      ]
     },
     "execution_count": 40,
     "metadata": {},
     "output_type": "execute_result"
    }
   ],
   "source": [
    "debt_details.head()"
   ]
  },
  {
   "cell_type": "markdown",
   "metadata": {},
   "source": [
    "## Calculate the Value of Bonds"
   ]
  },
  {
   "cell_type": "markdown",
   "metadata": {},
   "source": [
    "Some of the rows are not valid. Either they are missing a coupon or they have already expired (negative maturity). Flag these rows as we will want to just use the principal as the market value for these rows."
   ]
  },
  {
   "cell_type": "code",
   "execution_count": 41,
   "metadata": {},
   "outputs": [
    {
     "data": {
      "text/html": [
       "<div>\n",
       "<style scoped>\n",
       "    .dataframe tbody tr th:only-of-type {\n",
       "        vertical-align: middle;\n",
       "    }\n",
       "\n",
       "    .dataframe tbody tr th {\n",
       "        vertical-align: top;\n",
       "    }\n",
       "\n",
       "    .dataframe thead th {\n",
       "        text-align: right;\n",
       "    }\n",
       "</style>\n",
       "<table border=\"1\" class=\"dataframe\">\n",
       "  <thead>\n",
       "    <tr style=\"text-align: right;\">\n",
       "      <th></th>\n",
       "      <th>Description</th>\n",
       "      <th>Type</th>\n",
       "      <th>Principal Due (USD)</th>\n",
       "      <th>Coupon/Base Rate</th>\n",
       "      <th>Floating Rate</th>\n",
       "      <th>Maturity</th>\n",
       "      <th>Seniority</th>\n",
       "      <th>Secured</th>\n",
       "      <th>Convertible</th>\n",
       "      <th>Repayment Currency</th>\n",
       "      <th>Coupon</th>\n",
       "      <th>Maturity (years)</th>\n",
       "      <th>Valid</th>\n",
       "    </tr>\n",
       "  </thead>\n",
       "  <tbody>\n",
       "    <tr>\n",
       "      <th>0</th>\n",
       "      <td>0.183% Unsecured Note Due in July 15, 2022, JPY *</td>\n",
       "      <td>Bonds and Notes</td>\n",
       "      <td>619.0</td>\n",
       "      <td>0.183</td>\n",
       "      <td>NaN</td>\n",
       "      <td>2022-07-15</td>\n",
       "      <td>Senior</td>\n",
       "      <td>No</td>\n",
       "      <td>No</td>\n",
       "      <td>JPY</td>\n",
       "      <td>0.00183</td>\n",
       "      <td>2.615235</td>\n",
       "      <td>True</td>\n",
       "    </tr>\n",
       "    <tr>\n",
       "      <th>1</th>\n",
       "      <td>0.298% Unsecured Note Due in July 18, 2024, JPY *</td>\n",
       "      <td>Bonds and Notes</td>\n",
       "      <td>354.0</td>\n",
       "      <td>0.298</td>\n",
       "      <td>NaN</td>\n",
       "      <td>2024-07-18</td>\n",
       "      <td>Senior</td>\n",
       "      <td>No</td>\n",
       "      <td>No</td>\n",
       "      <td>JPY</td>\n",
       "      <td>0.00298</td>\n",
       "      <td>4.626194</td>\n",
       "      <td>True</td>\n",
       "    </tr>\n",
       "    <tr>\n",
       "      <th>2</th>\n",
       "      <td>0.520% Unsecured Note Due in July 16, 2027, JPY *</td>\n",
       "      <td>Bonds and Notes</td>\n",
       "      <td>530.0</td>\n",
       "      <td>0.520</td>\n",
       "      <td>NaN</td>\n",
       "      <td>2027-07-16</td>\n",
       "      <td>Senior</td>\n",
       "      <td>No</td>\n",
       "      <td>No</td>\n",
       "      <td>JPY</td>\n",
       "      <td>0.00520</td>\n",
       "      <td>7.620714</td>\n",
       "      <td>True</td>\n",
       "    </tr>\n",
       "    <tr>\n",
       "      <th>3</th>\n",
       "      <td>1.60% Unsecured Fixed Rate Japanese Yen Bond *</td>\n",
       "      <td>Bonds and Notes</td>\n",
       "      <td>88.0</td>\n",
       "      <td>1.600</td>\n",
       "      <td>NaN</td>\n",
       "      <td>2020-07-28</td>\n",
       "      <td>Senior</td>\n",
       "      <td>No</td>\n",
       "      <td>No</td>\n",
       "      <td>JPY</td>\n",
       "      <td>0.01600</td>\n",
       "      <td>0.650851</td>\n",
       "      <td>True</td>\n",
       "    </tr>\n",
       "    <tr>\n",
       "      <th>4</th>\n",
       "      <td>1.750% Unsecured Note Due in October 9, 2019 U...</td>\n",
       "      <td>Bonds and Notes</td>\n",
       "      <td>1198.0</td>\n",
       "      <td>1.750</td>\n",
       "      <td>NaN</td>\n",
       "      <td>2019-10-09</td>\n",
       "      <td>Senior</td>\n",
       "      <td>No</td>\n",
       "      <td>No</td>\n",
       "      <td>USD</td>\n",
       "      <td>0.01750</td>\n",
       "      <td>-0.151889</td>\n",
       "      <td>False</td>\n",
       "    </tr>\n",
       "  </tbody>\n",
       "</table>\n",
       "</div>"
      ],
      "text/plain": [
       "                                         Description             Type  \\\n",
       "0  0.183% Unsecured Note Due in July 15, 2022, JPY *  Bonds and Notes   \n",
       "1  0.298% Unsecured Note Due in July 18, 2024, JPY *  Bonds and Notes   \n",
       "2  0.520% Unsecured Note Due in July 16, 2027, JPY *  Bonds and Notes   \n",
       "3     1.60% Unsecured Fixed Rate Japanese Yen Bond *  Bonds and Notes   \n",
       "4  1.750% Unsecured Note Due in October 9, 2019 U...  Bonds and Notes   \n",
       "\n",
       "   Principal Due (USD)  Coupon/Base Rate  Floating Rate   Maturity Seniority  \\\n",
       "0                619.0             0.183            NaN 2022-07-15    Senior   \n",
       "1                354.0             0.298            NaN 2024-07-18    Senior   \n",
       "2                530.0             0.520            NaN 2027-07-16    Senior   \n",
       "3                 88.0             1.600            NaN 2020-07-28    Senior   \n",
       "4               1198.0             1.750            NaN 2019-10-09    Senior   \n",
       "\n",
       "  Secured Convertible Repayment Currency   Coupon  Maturity (years)  Valid  \n",
       "0      No          No                JPY  0.00183          2.615235   True  \n",
       "1      No          No                JPY  0.00298          4.626194   True  \n",
       "2      No          No                JPY  0.00520          7.620714   True  \n",
       "3      No          No                JPY  0.01600          0.650851   True  \n",
       "4      No          No                USD  0.01750         -0.151889  False  "
      ]
     },
     "execution_count": 41,
     "metadata": {},
     "output_type": "execute_result"
    }
   ],
   "source": [
    "debt_details['Valid'] = True\n",
    "\n",
    "# Set the value of Valid for the matching rows to False\n",
    "debt_details.loc[\n",
    "    pd.isnull(debt_details['Coupon']) | \n",
    "    pd.isnull(debt_details['Maturity (years)']) |\n",
    "    (debt_details['Maturity (years)'] < 0),\n",
    "    'Valid'\n",
    "] = False\n",
    "\n",
    "debt_details.head()"
   ]
  },
  {
   "cell_type": "code",
   "execution_count": 42,
   "metadata": {},
   "outputs": [],
   "source": [
    "def mv_bond_annuity_approach(principal, coupon_rate, maturity, cost_of_debt):\n",
    "    \"\"\"\n",
    "    Calculate the market value of bond with non-integer maturity\n",
    "    \"\"\"\n",
    "    coupon_payment = coupon_rate * principal\n",
    "    return coupon_payment * ((1 - (1 + cost_of_debt)**(-maturity))/cost_of_debt) + principal/(1 + cost_of_debt)**maturity\n",
    "\n",
    "\n",
    "def mv_bond_annuity_approach_for_apply(series):\n",
    "    \"\"\"\n",
    "    Calculate market value of a bond with non-integer maturity. This version to be used with DataFrame.apply\n",
    "    \"\"\"\n",
    "    principal = series['Principal Due (USD)']\n",
    "    coupon_rate = series['Coupon']\n",
    "    maturity = series['Maturity (years)']\n",
    "    valid = series['Valid']\n",
    "    if not valid:\n",
    "        return principal\n",
    "    return mv_bond_annuity_approach(principal, coupon_rate, maturity, pretax_cost_of_debt)  # Note that I used the global cost_of_debt because we don't have a different one for each row\n",
    "\n",
    "debt_details['Value'] = debt_details.apply(mv_bond_annuity_approach_for_apply, axis=1)"
   ]
  },
  {
   "cell_type": "code",
   "execution_count": 43,
   "metadata": {},
   "outputs": [
    {
     "data": {
      "text/html": [
       "<div>\n",
       "<style scoped>\n",
       "    .dataframe tbody tr th:only-of-type {\n",
       "        vertical-align: middle;\n",
       "    }\n",
       "\n",
       "    .dataframe tbody tr th {\n",
       "        vertical-align: top;\n",
       "    }\n",
       "\n",
       "    .dataframe thead th {\n",
       "        text-align: right;\n",
       "    }\n",
       "</style>\n",
       "<table border=\"1\" class=\"dataframe\">\n",
       "  <thead>\n",
       "    <tr style=\"text-align: right;\">\n",
       "      <th></th>\n",
       "      <th>Description</th>\n",
       "      <th>Type</th>\n",
       "      <th>Principal Due (USD)</th>\n",
       "      <th>Coupon/Base Rate</th>\n",
       "      <th>Floating Rate</th>\n",
       "      <th>Maturity</th>\n",
       "      <th>Seniority</th>\n",
       "      <th>Secured</th>\n",
       "      <th>Convertible</th>\n",
       "      <th>Repayment Currency</th>\n",
       "      <th>Coupon</th>\n",
       "      <th>Maturity (years)</th>\n",
       "      <th>Valid</th>\n",
       "      <th>Value</th>\n",
       "    </tr>\n",
       "  </thead>\n",
       "  <tbody>\n",
       "    <tr>\n",
       "      <th>0</th>\n",
       "      <td>0.183% Unsecured Note Due in July 15, 2022, JPY *</td>\n",
       "      <td>Bonds and Notes</td>\n",
       "      <td>619.0</td>\n",
       "      <td>0.183</td>\n",
       "      <td>NaN</td>\n",
       "      <td>2022-07-15</td>\n",
       "      <td>Senior</td>\n",
       "      <td>No</td>\n",
       "      <td>No</td>\n",
       "      <td>JPY</td>\n",
       "      <td>0.00183</td>\n",
       "      <td>2.615235</td>\n",
       "      <td>True</td>\n",
       "      <td>579.618911</td>\n",
       "    </tr>\n",
       "    <tr>\n",
       "      <th>1</th>\n",
       "      <td>0.298% Unsecured Note Due in July 18, 2024, JPY *</td>\n",
       "      <td>Bonds and Notes</td>\n",
       "      <td>354.0</td>\n",
       "      <td>0.298</td>\n",
       "      <td>NaN</td>\n",
       "      <td>2024-07-18</td>\n",
       "      <td>Senior</td>\n",
       "      <td>No</td>\n",
       "      <td>No</td>\n",
       "      <td>JPY</td>\n",
       "      <td>0.00298</td>\n",
       "      <td>4.626194</td>\n",
       "      <td>True</td>\n",
       "      <td>316.957099</td>\n",
       "    </tr>\n",
       "    <tr>\n",
       "      <th>2</th>\n",
       "      <td>0.520% Unsecured Note Due in July 16, 2027, JPY *</td>\n",
       "      <td>Bonds and Notes</td>\n",
       "      <td>530.0</td>\n",
       "      <td>0.520</td>\n",
       "      <td>NaN</td>\n",
       "      <td>2027-07-16</td>\n",
       "      <td>Senior</td>\n",
       "      <td>No</td>\n",
       "      <td>No</td>\n",
       "      <td>JPY</td>\n",
       "      <td>0.00520</td>\n",
       "      <td>7.620714</td>\n",
       "      <td>True</td>\n",
       "      <td>450.158664</td>\n",
       "    </tr>\n",
       "    <tr>\n",
       "      <th>3</th>\n",
       "      <td>1.60% Unsecured Fixed Rate Japanese Yen Bond *</td>\n",
       "      <td>Bonds and Notes</td>\n",
       "      <td>88.0</td>\n",
       "      <td>1.600</td>\n",
       "      <td>NaN</td>\n",
       "      <td>2020-07-28</td>\n",
       "      <td>Senior</td>\n",
       "      <td>No</td>\n",
       "      <td>No</td>\n",
       "      <td>JPY</td>\n",
       "      <td>0.01600</td>\n",
       "      <td>0.650851</td>\n",
       "      <td>True</td>\n",
       "      <td>87.363197</td>\n",
       "    </tr>\n",
       "    <tr>\n",
       "      <th>4</th>\n",
       "      <td>1.750% Unsecured Note Due in October 9, 2019 U...</td>\n",
       "      <td>Bonds and Notes</td>\n",
       "      <td>1198.0</td>\n",
       "      <td>1.750</td>\n",
       "      <td>NaN</td>\n",
       "      <td>2019-10-09</td>\n",
       "      <td>Senior</td>\n",
       "      <td>No</td>\n",
       "      <td>No</td>\n",
       "      <td>USD</td>\n",
       "      <td>0.01750</td>\n",
       "      <td>-0.151889</td>\n",
       "      <td>False</td>\n",
       "      <td>1198.000000</td>\n",
       "    </tr>\n",
       "  </tbody>\n",
       "</table>\n",
       "</div>"
      ],
      "text/plain": [
       "                                         Description             Type  \\\n",
       "0  0.183% Unsecured Note Due in July 15, 2022, JPY *  Bonds and Notes   \n",
       "1  0.298% Unsecured Note Due in July 18, 2024, JPY *  Bonds and Notes   \n",
       "2  0.520% Unsecured Note Due in July 16, 2027, JPY *  Bonds and Notes   \n",
       "3     1.60% Unsecured Fixed Rate Japanese Yen Bond *  Bonds and Notes   \n",
       "4  1.750% Unsecured Note Due in October 9, 2019 U...  Bonds and Notes   \n",
       "\n",
       "   Principal Due (USD)  Coupon/Base Rate  Floating Rate   Maturity Seniority  \\\n",
       "0                619.0             0.183            NaN 2022-07-15    Senior   \n",
       "1                354.0             0.298            NaN 2024-07-18    Senior   \n",
       "2                530.0             0.520            NaN 2027-07-16    Senior   \n",
       "3                 88.0             1.600            NaN 2020-07-28    Senior   \n",
       "4               1198.0             1.750            NaN 2019-10-09    Senior   \n",
       "\n",
       "  Secured Convertible Repayment Currency   Coupon  Maturity (years)  Valid  \\\n",
       "0      No          No                JPY  0.00183          2.615235   True   \n",
       "1      No          No                JPY  0.00298          4.626194   True   \n",
       "2      No          No                JPY  0.00520          7.620714   True   \n",
       "3      No          No                JPY  0.01600          0.650851   True   \n",
       "4      No          No                USD  0.01750         -0.151889  False   \n",
       "\n",
       "         Value  \n",
       "0   579.618911  \n",
       "1   316.957099  \n",
       "2   450.158664  \n",
       "3    87.363197  \n",
       "4  1198.000000  "
      ]
     },
     "execution_count": 43,
     "metadata": {},
     "output_type": "execute_result"
    }
   ],
   "source": [
    "debt_details.head()"
   ]
  },
  {
   "cell_type": "code",
   "execution_count": 44,
   "metadata": {},
   "outputs": [
    {
     "data": {
      "text/html": [
       "<div>\n",
       "<style scoped>\n",
       "    .dataframe tbody tr th:only-of-type {\n",
       "        vertical-align: middle;\n",
       "    }\n",
       "\n",
       "    .dataframe tbody tr th {\n",
       "        vertical-align: top;\n",
       "    }\n",
       "\n",
       "    .dataframe thead th {\n",
       "        text-align: right;\n",
       "    }\n",
       "</style>\n",
       "<table border=\"1\" class=\"dataframe\">\n",
       "  <thead>\n",
       "    <tr style=\"text-align: right;\">\n",
       "      <th></th>\n",
       "      <th>Description</th>\n",
       "      <th>Type</th>\n",
       "      <th>Principal Due (USD)</th>\n",
       "      <th>Coupon/Base Rate</th>\n",
       "      <th>Floating Rate</th>\n",
       "      <th>Maturity</th>\n",
       "      <th>Seniority</th>\n",
       "      <th>Secured</th>\n",
       "      <th>Convertible</th>\n",
       "      <th>Repayment Currency</th>\n",
       "      <th>Coupon</th>\n",
       "      <th>Maturity (years)</th>\n",
       "      <th>Valid</th>\n",
       "      <th>Value</th>\n",
       "    </tr>\n",
       "  </thead>\n",
       "  <tbody>\n",
       "    <tr>\n",
       "      <th>4</th>\n",
       "      <td>1.750% Unsecured Note Due in October 9, 2019 U...</td>\n",
       "      <td>Bonds and Notes</td>\n",
       "      <td>1198.0</td>\n",
       "      <td>1.75</td>\n",
       "      <td>NaN</td>\n",
       "      <td>2019-10-09</td>\n",
       "      <td>Senior</td>\n",
       "      <td>No</td>\n",
       "      <td>No</td>\n",
       "      <td>USD</td>\n",
       "      <td>0.0175</td>\n",
       "      <td>-0.151889</td>\n",
       "      <td>False</td>\n",
       "      <td>1198.0</td>\n",
       "    </tr>\n",
       "    <tr>\n",
       "      <th>16</th>\n",
       "      <td>364-Day Revolving Credit Facility</td>\n",
       "      <td>Revolving Credit</td>\n",
       "      <td>NaN</td>\n",
       "      <td>NaN</td>\n",
       "      <td>2.71</td>\n",
       "      <td>NaT</td>\n",
       "      <td>Senior</td>\n",
       "      <td>No</td>\n",
       "      <td>No</td>\n",
       "      <td>USD</td>\n",
       "      <td>0.0271</td>\n",
       "      <td>NaN</td>\n",
       "      <td>False</td>\n",
       "      <td>NaN</td>\n",
       "    </tr>\n",
       "    <tr>\n",
       "      <th>43</th>\n",
       "      <td>Finance Leases</td>\n",
       "      <td>Capital Lease</td>\n",
       "      <td>4354.0</td>\n",
       "      <td>9.20</td>\n",
       "      <td>NaN</td>\n",
       "      <td>NaT</td>\n",
       "      <td>Senior</td>\n",
       "      <td>Yes</td>\n",
       "      <td>No</td>\n",
       "      <td>USD</td>\n",
       "      <td>0.0920</td>\n",
       "      <td>NaN</td>\n",
       "      <td>False</td>\n",
       "      <td>4354.0</td>\n",
       "    </tr>\n",
       "    <tr>\n",
       "      <th>45</th>\n",
       "      <td>Floating Unsecured Note Due in October 9, 2019...</td>\n",
       "      <td>Bonds and Notes</td>\n",
       "      <td>299.0</td>\n",
       "      <td>NaN</td>\n",
       "      <td>NaN</td>\n",
       "      <td>2019-10-09</td>\n",
       "      <td>Senior</td>\n",
       "      <td>No</td>\n",
       "      <td>No</td>\n",
       "      <td>USD</td>\n",
       "      <td>NaN</td>\n",
       "      <td>-0.151889</td>\n",
       "      <td>False</td>\n",
       "      <td>299.0</td>\n",
       "    </tr>\n",
       "    <tr>\n",
       "      <th>46</th>\n",
       "      <td>Operating Leases</td>\n",
       "      <td>Capital Lease</td>\n",
       "      <td>17874.0</td>\n",
       "      <td>5.30</td>\n",
       "      <td>NaN</td>\n",
       "      <td>NaT</td>\n",
       "      <td>Senior</td>\n",
       "      <td>Yes</td>\n",
       "      <td>No</td>\n",
       "      <td>USD</td>\n",
       "      <td>0.0530</td>\n",
       "      <td>NaN</td>\n",
       "      <td>False</td>\n",
       "      <td>17874.0</td>\n",
       "    </tr>\n",
       "    <tr>\n",
       "      <th>47</th>\n",
       "      <td>Senior Unsecured Notes *</td>\n",
       "      <td>Bonds and Notes</td>\n",
       "      <td>748.0</td>\n",
       "      <td>NaN</td>\n",
       "      <td>NaN</td>\n",
       "      <td>2021-06-23</td>\n",
       "      <td>Senior</td>\n",
       "      <td>No</td>\n",
       "      <td>No</td>\n",
       "      <td>USD</td>\n",
       "      <td>NaN</td>\n",
       "      <td>1.554961</td>\n",
       "      <td>False</td>\n",
       "      <td>748.0</td>\n",
       "    </tr>\n",
       "    <tr>\n",
       "      <th>54</th>\n",
       "      <td>Senior Unsecured Notes *</td>\n",
       "      <td>Bonds and Notes</td>\n",
       "      <td>748.0</td>\n",
       "      <td>NaN</td>\n",
       "      <td>NaN</td>\n",
       "      <td>2020-06-23</td>\n",
       "      <td>Senior</td>\n",
       "      <td>No</td>\n",
       "      <td>No</td>\n",
       "      <td>USD</td>\n",
       "      <td>NaN</td>\n",
       "      <td>0.554961</td>\n",
       "      <td>False</td>\n",
       "      <td>748.0</td>\n",
       "    </tr>\n",
       "    <tr>\n",
       "      <th>56</th>\n",
       "      <td>Senior Unsecured Notes *</td>\n",
       "      <td>Bonds and Notes</td>\n",
       "      <td>21.0</td>\n",
       "      <td>NaN</td>\n",
       "      <td>NaN</td>\n",
       "      <td>NaT</td>\n",
       "      <td>Senior</td>\n",
       "      <td>No</td>\n",
       "      <td>No</td>\n",
       "      <td>USD</td>\n",
       "      <td>NaN</td>\n",
       "      <td>NaN</td>\n",
       "      <td>False</td>\n",
       "      <td>21.0</td>\n",
       "    </tr>\n",
       "    <tr>\n",
       "      <th>57</th>\n",
       "      <td>Senior, Unsecured Notes</td>\n",
       "      <td>Bonds and Notes</td>\n",
       "      <td>42.0</td>\n",
       "      <td>NaN</td>\n",
       "      <td>NaN</td>\n",
       "      <td>NaT</td>\n",
       "      <td>Senior</td>\n",
       "      <td>No</td>\n",
       "      <td>No</td>\n",
       "      <td>USD</td>\n",
       "      <td>NaN</td>\n",
       "      <td>NaN</td>\n",
       "      <td>False</td>\n",
       "      <td>42.0</td>\n",
       "    </tr>\n",
       "    <tr>\n",
       "      <th>61</th>\n",
       "      <td>Short-Term Borrowings</td>\n",
       "      <td>Other Borrowings</td>\n",
       "      <td>3681.0</td>\n",
       "      <td>NaN</td>\n",
       "      <td>NaN</td>\n",
       "      <td>2020-07-31</td>\n",
       "      <td>Senior</td>\n",
       "      <td>No</td>\n",
       "      <td>No</td>\n",
       "      <td>USD</td>\n",
       "      <td>NaN</td>\n",
       "      <td>0.659070</td>\n",
       "      <td>False</td>\n",
       "      <td>3681.0</td>\n",
       "    </tr>\n",
       "  </tbody>\n",
       "</table>\n",
       "</div>"
      ],
      "text/plain": [
       "                                          Description              Type  \\\n",
       "4   1.750% Unsecured Note Due in October 9, 2019 U...   Bonds and Notes   \n",
       "16                  364-Day Revolving Credit Facility  Revolving Credit   \n",
       "43                                     Finance Leases     Capital Lease   \n",
       "45  Floating Unsecured Note Due in October 9, 2019...   Bonds and Notes   \n",
       "46                                   Operating Leases     Capital Lease   \n",
       "47                           Senior Unsecured Notes *   Bonds and Notes   \n",
       "54                           Senior Unsecured Notes *   Bonds and Notes   \n",
       "56                           Senior Unsecured Notes *   Bonds and Notes   \n",
       "57                            Senior, Unsecured Notes   Bonds and Notes   \n",
       "61                              Short-Term Borrowings  Other Borrowings   \n",
       "\n",
       "    Principal Due (USD)  Coupon/Base Rate  Floating Rate   Maturity Seniority  \\\n",
       "4                1198.0              1.75            NaN 2019-10-09    Senior   \n",
       "16                  NaN               NaN           2.71        NaT    Senior   \n",
       "43               4354.0              9.20            NaN        NaT    Senior   \n",
       "45                299.0               NaN            NaN 2019-10-09    Senior   \n",
       "46              17874.0              5.30            NaN        NaT    Senior   \n",
       "47                748.0               NaN            NaN 2021-06-23    Senior   \n",
       "54                748.0               NaN            NaN 2020-06-23    Senior   \n",
       "56                 21.0               NaN            NaN        NaT    Senior   \n",
       "57                 42.0               NaN            NaN        NaT    Senior   \n",
       "61               3681.0               NaN            NaN 2020-07-31    Senior   \n",
       "\n",
       "   Secured Convertible Repayment Currency  Coupon  Maturity (years)  Valid  \\\n",
       "4       No          No                USD  0.0175         -0.151889  False   \n",
       "16      No          No                USD  0.0271               NaN  False   \n",
       "43     Yes          No                USD  0.0920               NaN  False   \n",
       "45      No          No                USD     NaN         -0.151889  False   \n",
       "46     Yes          No                USD  0.0530               NaN  False   \n",
       "47      No          No                USD     NaN          1.554961  False   \n",
       "54      No          No                USD     NaN          0.554961  False   \n",
       "56      No          No                USD     NaN               NaN  False   \n",
       "57      No          No                USD     NaN               NaN  False   \n",
       "61      No          No                USD     NaN          0.659070  False   \n",
       "\n",
       "      Value  \n",
       "4    1198.0  \n",
       "16      NaN  \n",
       "43   4354.0  \n",
       "45    299.0  \n",
       "46  17874.0  \n",
       "47    748.0  \n",
       "54    748.0  \n",
       "56     21.0  \n",
       "57     42.0  \n",
       "61   3681.0  "
      ]
     },
     "execution_count": 44,
     "metadata": {},
     "output_type": "execute_result"
    }
   ],
   "source": [
    "debt_details[~debt_details['Valid']]"
   ]
  },
  {
   "cell_type": "code",
   "execution_count": 45,
   "metadata": {},
   "outputs": [
    {
     "name": "stdout",
     "output_type": "stream",
     "text": [
      "The market value of debt for Walmart is $82,991,904,524\n"
     ]
    }
   ],
   "source": [
    "mv_debt = debt_details['Value'].sum() * 1000000\n",
    "print(f'The market value of debt for Walmart is ${mv_debt:,.0f}')"
   ]
  },
  {
   "cell_type": "code",
   "execution_count": 62,
   "metadata": {},
   "outputs": [],
   "source": [
    "debt_details.to_excel('evaluated debt details.xlsx')"
   ]
  },
  {
   "cell_type": "markdown",
   "metadata": {},
   "source": [
    "# Calculate WACC"
   ]
  },
  {
   "cell_type": "code",
   "execution_count": 47,
   "metadata": {},
   "outputs": [
    {
     "name": "stdout",
     "output_type": "stream",
     "text": [
      "The WACC for Walmart is 5.19%\n"
     ]
    }
   ],
   "source": [
    "total_capital = mv_equity + mv_debt\n",
    "weight_equity = mv_equity / total_capital\n",
    "weight_debt = mv_debt / total_capital\n",
    "\n",
    "wacc = cost_of_equity * weight_equity + aftertax_cost_of_debt * weight_debt\n",
    "print(f'The WACC for Walmart is {wacc:.2%}')"
   ]
  },
  {
   "cell_type": "markdown",
   "metadata": {},
   "source": [
    "# Monte Carlo Simulations"
   ]
  },
  {
   "cell_type": "markdown",
   "metadata": {},
   "source": [
    "Let's wrap up the parts of the model that we need to re-run for the Monte Carlo Simulations. We need to recalculate the cost of debt and MV of debt from the changing bond price. We also need to recalculate the cost of equity from changing beta and market return. Then we need to recalculate the WACC from those parts."
   ]
  },
  {
   "cell_type": "code",
   "execution_count": 48,
   "metadata": {},
   "outputs": [
    {
     "data": {
      "text/plain": [
       "0.016421489155889455"
      ]
     },
     "execution_count": 48,
     "metadata": {},
     "output_type": "execute_result"
    }
   ],
   "source": [
    "def after_tax_cost_debt(wmt_bond_price, tax_rate):\n",
    "    coupon_payment = wmt_bond_coupon * wmt_bond_par\n",
    "    cash_flows = [coupon_payment for i in range(wmt_bond_years - 1)] + [coupon_payment + wmt_bond_par]\n",
    "    pretax_cost_of_debt = np.irr([-wmt_bond_price] + cash_flows)\n",
    "    aftertax_cost_of_debt = pretax_cost_of_debt * (1 - tax_rate)\n",
    "    return aftertax_cost_of_debt\n",
    "\n",
    "after_tax_cost_debt(130.58, 0.4)"
   ]
  },
  {
   "cell_type": "code",
   "execution_count": 49,
   "metadata": {},
   "outputs": [
    {
     "data": {
      "text/plain": [
       "0.050399184495231536"
      ]
     },
     "execution_count": 49,
     "metadata": {},
     "output_type": "execute_result"
    }
   ],
   "source": [
    "after_tax_cost_debt(90, 0.2)"
   ]
  },
  {
   "cell_type": "code",
   "execution_count": 50,
   "metadata": {},
   "outputs": [
    {
     "data": {
      "text/plain": [
       "82991904524.13521"
      ]
     },
     "execution_count": 50,
     "metadata": {},
     "output_type": "execute_result"
    }
   ],
   "source": [
    "debt_details.apply(mv_bond_annuity_approach_for_apply, axis=1).sum() * 1000000"
   ]
  },
  {
   "cell_type": "markdown",
   "metadata": {},
   "source": [
    "Because that's using the global `aftertax_cost_of_debt`, it will change after I redefine that."
   ]
  },
  {
   "cell_type": "code",
   "execution_count": 51,
   "metadata": {},
   "outputs": [],
   "source": [
    "aftertax_cost_of_debt = after_tax_cost_debt(90, tax_rate)"
   ]
  },
  {
   "cell_type": "code",
   "execution_count": 52,
   "metadata": {},
   "outputs": [
    {
     "data": {
      "text/plain": [
       "82991904524.13521"
      ]
     },
     "execution_count": 52,
     "metadata": {},
     "output_type": "execute_result"
    }
   ],
   "source": [
    "debt_details.apply(mv_bond_annuity_approach_for_apply, axis=1).sum() * 1000000"
   ]
  },
  {
   "cell_type": "code",
   "execution_count": 53,
   "metadata": {},
   "outputs": [
    {
     "data": {
      "text/plain": [
       "0.0865793032710313"
      ]
     },
     "execution_count": 53,
     "metadata": {},
     "output_type": "execute_result"
    }
   ],
   "source": [
    "new_bond_price = 100\n",
    "new_beta = 1\n",
    "new_mkt_ret = 0.1\n",
    "new_tax = 0.4\n",
    "\n",
    "\n",
    "aftertax_cost_of_debt = after_tax_cost_debt(new_bond_price, new_tax)\n",
    "mv_debt = debt_details.apply(mv_bond_annuity_approach_for_apply, axis=1).sum() * 1000000\n",
    "cost_of_equity =  risk_free + new_beta * (new_mkt_ret - risk_free)\n",
    "\n",
    "total_capital = mv_equity + mv_debt\n",
    "weight_equity = mv_equity / total_capital\n",
    "weight_debt = mv_debt / total_capital\n",
    "\n",
    "wacc = cost_of_equity * weight_equity + aftertax_cost_of_debt * weight_debt\n",
    "wacc"
   ]
  },
  {
   "cell_type": "markdown",
   "metadata": {},
   "source": [
    "Now just wrap this up in a loop for a number of iterations, randomly draw the values, and collect the outputs."
   ]
  },
  {
   "cell_type": "code",
   "execution_count": 54,
   "metadata": {},
   "outputs": [
    {
     "data": {
      "text/html": [
       "<div>\n",
       "<style scoped>\n",
       "    .dataframe tbody tr th:only-of-type {\n",
       "        vertical-align: middle;\n",
       "    }\n",
       "\n",
       "    .dataframe tbody tr th {\n",
       "        vertical-align: top;\n",
       "    }\n",
       "\n",
       "    .dataframe thead th {\n",
       "        text-align: right;\n",
       "    }\n",
       "</style>\n",
       "<table border=\"1\" class=\"dataframe\">\n",
       "  <thead>\n",
       "    <tr style=\"text-align: right;\">\n",
       "      <th></th>\n",
       "      <th>Bond Price</th>\n",
       "      <th>Beta</th>\n",
       "      <th>Market Return</th>\n",
       "      <th>Tax Rate</th>\n",
       "      <th>WACC</th>\n",
       "    </tr>\n",
       "  </thead>\n",
       "  <tbody>\n",
       "    <tr>\n",
       "      <th>0</th>\n",
       "      <td>169.685655</td>\n",
       "      <td>0.408577</td>\n",
       "      <td>0.085341</td>\n",
       "      <td>0.230709</td>\n",
       "      <td>0.031077</td>\n",
       "    </tr>\n",
       "    <tr>\n",
       "      <th>1</th>\n",
       "      <td>106.375922</td>\n",
       "      <td>1.049438</td>\n",
       "      <td>0.115734</td>\n",
       "      <td>0.253546</td>\n",
       "      <td>0.104262</td>\n",
       "    </tr>\n",
       "    <tr>\n",
       "      <th>2</th>\n",
       "      <td>147.188766</td>\n",
       "      <td>0.861073</td>\n",
       "      <td>0.082011</td>\n",
       "      <td>0.288889</td>\n",
       "      <td>0.059665</td>\n",
       "    </tr>\n",
       "    <tr>\n",
       "      <th>3</th>\n",
       "      <td>132.161661</td>\n",
       "      <td>0.365564</td>\n",
       "      <td>0.051443</td>\n",
       "      <td>0.217550</td>\n",
       "      <td>0.021700</td>\n",
       "    </tr>\n",
       "    <tr>\n",
       "      <th>4</th>\n",
       "      <td>117.094106</td>\n",
       "      <td>0.135470</td>\n",
       "      <td>0.122908</td>\n",
       "      <td>0.258183</td>\n",
       "      <td>0.022300</td>\n",
       "    </tr>\n",
       "  </tbody>\n",
       "</table>\n",
       "</div>"
      ],
      "text/plain": [
       "   Bond Price      Beta  Market Return  Tax Rate      WACC\n",
       "0  169.685655  0.408577       0.085341  0.230709  0.031077\n",
       "1  106.375922  1.049438       0.115734  0.253546  0.104262\n",
       "2  147.188766  0.861073       0.082011  0.288889  0.059665\n",
       "3  132.161661  0.365564       0.051443  0.217550  0.021700\n",
       "4  117.094106  0.135470       0.122908  0.258183  0.022300"
      ]
     },
     "execution_count": 54,
     "metadata": {},
     "output_type": "execute_result"
    }
   ],
   "source": [
    "import random\n",
    "\n",
    "num_iter = 10000\n",
    "beta_std = 0.2\n",
    "mkt_ret_std = 0.03\n",
    "wmt_bond_price_std = 30\n",
    "tax_rate_std = 0.05\n",
    "\n",
    "results = []\n",
    "for i in range(num_iter):\n",
    "    new_bond_price = random.normalvariate(wmt_bond_price, wmt_bond_price_std)\n",
    "    new_beta = random.normalvariate(beta, beta_std)\n",
    "    new_mkt_ret = random.normalvariate(mkt_ret, mkt_ret_std)\n",
    "    new_tax = random.normalvariate(tax_rate, tax_rate_std)\n",
    "    \n",
    "    aftertax_cost_of_debt = after_tax_cost_debt(new_bond_price, new_tax)\n",
    "    mv_debt = debt_details.apply(mv_bond_annuity_approach_for_apply, axis=1).sum() * 1000000\n",
    "    cost_of_equity =  risk_free + new_beta * (new_mkt_ret - risk_free)\n",
    "\n",
    "    total_capital = mv_equity + mv_debt\n",
    "    weight_equity = mv_equity / total_capital\n",
    "    weight_debt = mv_debt / total_capital\n",
    "\n",
    "    wacc = cost_of_equity * weight_equity + aftertax_cost_of_debt * weight_debt\n",
    "    results.append(\n",
    "        (new_bond_price, new_beta, new_mkt_ret, new_tax, wacc)\n",
    "    )\n",
    "    \n",
    "results_df = pd.DataFrame(results, columns=['Bond Price', 'Beta', 'Market Return', 'Tax Rate', 'WACC']).dropna()\n",
    "results_df.head()"
   ]
  },
  {
   "cell_type": "markdown",
   "metadata": {},
   "source": [
    "## Analyze Monte Carlo Results"
   ]
  },
  {
   "cell_type": "code",
   "execution_count": 55,
   "metadata": {},
   "outputs": [
    {
     "data": {
      "text/plain": [
       "<matplotlib.axes._subplots.AxesSubplot at 0x1c7c5470>"
      ]
     },
     "execution_count": 55,
     "metadata": {},
     "output_type": "execute_result"
    },
    {
     "data": {
      "image/png": "[encoded data removed]",
      "text/plain": [
       "<Figure size 432x288 with 1 Axes>"
      ]
     },
     "metadata": {
      "needs_background": "light"
     },
     "output_type": "display_data"
    }
   ],
   "source": [
    "%matplotlib inline\n",
    "results_df['WACC'].plot.hist(bins=100)"
   ]
  },
  {
   "cell_type": "code",
   "execution_count": 56,
   "metadata": {},
   "outputs": [
    {
     "data": {
      "text/html": [
       "<div>\n",
       "<style scoped>\n",
       "    .dataframe tbody tr th:only-of-type {\n",
       "        vertical-align: middle;\n",
       "    }\n",
       "\n",
       "    .dataframe tbody tr th {\n",
       "        vertical-align: top;\n",
       "    }\n",
       "\n",
       "    .dataframe thead th {\n",
       "        text-align: right;\n",
       "    }\n",
       "</style>\n",
       "<table border=\"1\" class=\"dataframe\">\n",
       "  <thead>\n",
       "    <tr style=\"text-align: right;\">\n",
       "      <th></th>\n",
       "      <th>Bond Price</th>\n",
       "      <th>Beta</th>\n",
       "      <th>Market Return</th>\n",
       "      <th>Tax Rate</th>\n",
       "      <th>WACC</th>\n",
       "    </tr>\n",
       "  </thead>\n",
       "  <tbody>\n",
       "    <tr>\n",
       "      <th>0.05</th>\n",
       "      <td>81.248402</td>\n",
       "      <td>0.295842</td>\n",
       "      <td>0.042261</td>\n",
       "      <td>0.173192</td>\n",
       "      <td>0.020810</td>\n",
       "    </tr>\n",
       "    <tr>\n",
       "      <th>0.10</th>\n",
       "      <td>92.282709</td>\n",
       "      <td>0.369973</td>\n",
       "      <td>0.052837</td>\n",
       "      <td>0.191403</td>\n",
       "      <td>0.026815</td>\n",
       "    </tr>\n",
       "    <tr>\n",
       "      <th>0.15</th>\n",
       "      <td>100.055707</td>\n",
       "      <td>0.418251</td>\n",
       "      <td>0.060765</td>\n",
       "      <td>0.203323</td>\n",
       "      <td>0.030472</td>\n",
       "    </tr>\n",
       "    <tr>\n",
       "      <th>0.20</th>\n",
       "      <td>105.380702</td>\n",
       "      <td>0.456998</td>\n",
       "      <td>0.066423</td>\n",
       "      <td>0.213415</td>\n",
       "      <td>0.033687</td>\n",
       "    </tr>\n",
       "    <tr>\n",
       "      <th>0.25</th>\n",
       "      <td>110.351751</td>\n",
       "      <td>0.491311</td>\n",
       "      <td>0.071775</td>\n",
       "      <td>0.221411</td>\n",
       "      <td>0.036729</td>\n",
       "    </tr>\n",
       "    <tr>\n",
       "      <th>0.30</th>\n",
       "      <td>114.709896</td>\n",
       "      <td>0.521523</td>\n",
       "      <td>0.076475</td>\n",
       "      <td>0.229000</td>\n",
       "      <td>0.039379</td>\n",
       "    </tr>\n",
       "    <tr>\n",
       "      <th>0.35</th>\n",
       "      <td>118.488199</td>\n",
       "      <td>0.547630</td>\n",
       "      <td>0.080880</td>\n",
       "      <td>0.235835</td>\n",
       "      <td>0.042193</td>\n",
       "    </tr>\n",
       "    <tr>\n",
       "      <th>0.40</th>\n",
       "      <td>122.621343</td>\n",
       "      <td>0.573140</td>\n",
       "      <td>0.084687</td>\n",
       "      <td>0.242635</td>\n",
       "      <td>0.044928</td>\n",
       "    </tr>\n",
       "    <tr>\n",
       "      <th>0.45</th>\n",
       "      <td>126.743803</td>\n",
       "      <td>0.598108</td>\n",
       "      <td>0.088634</td>\n",
       "      <td>0.248711</td>\n",
       "      <td>0.047429</td>\n",
       "    </tr>\n",
       "    <tr>\n",
       "      <th>0.50</th>\n",
       "      <td>130.352323</td>\n",
       "      <td>0.625594</td>\n",
       "      <td>0.092555</td>\n",
       "      <td>0.254822</td>\n",
       "      <td>0.050145</td>\n",
       "    </tr>\n",
       "    <tr>\n",
       "      <th>0.55</th>\n",
       "      <td>133.970009</td>\n",
       "      <td>0.650940</td>\n",
       "      <td>0.096495</td>\n",
       "      <td>0.260851</td>\n",
       "      <td>0.053040</td>\n",
       "    </tr>\n",
       "    <tr>\n",
       "      <th>0.60</th>\n",
       "      <td>137.930627</td>\n",
       "      <td>0.674242</td>\n",
       "      <td>0.100265</td>\n",
       "      <td>0.267478</td>\n",
       "      <td>0.055916</td>\n",
       "    </tr>\n",
       "    <tr>\n",
       "      <th>0.65</th>\n",
       "      <td>141.956036</td>\n",
       "      <td>0.702832</td>\n",
       "      <td>0.104450</td>\n",
       "      <td>0.273620</td>\n",
       "      <td>0.058934</td>\n",
       "    </tr>\n",
       "    <tr>\n",
       "      <th>0.70</th>\n",
       "      <td>146.229270</td>\n",
       "      <td>0.729353</td>\n",
       "      <td>0.108648</td>\n",
       "      <td>0.280128</td>\n",
       "      <td>0.062292</td>\n",
       "    </tr>\n",
       "    <tr>\n",
       "      <th>0.75</th>\n",
       "      <td>150.790460</td>\n",
       "      <td>0.755473</td>\n",
       "      <td>0.113732</td>\n",
       "      <td>0.288119</td>\n",
       "      <td>0.065821</td>\n",
       "    </tr>\n",
       "    <tr>\n",
       "      <th>0.80</th>\n",
       "      <td>155.741367</td>\n",
       "      <td>0.786772</td>\n",
       "      <td>0.118594</td>\n",
       "      <td>0.296597</td>\n",
       "      <td>0.070077</td>\n",
       "    </tr>\n",
       "    <tr>\n",
       "      <th>0.85</th>\n",
       "      <td>161.656340</td>\n",
       "      <td>0.824789</td>\n",
       "      <td>0.124439</td>\n",
       "      <td>0.306575</td>\n",
       "      <td>0.075007</td>\n",
       "    </tr>\n",
       "    <tr>\n",
       "      <th>0.90</th>\n",
       "      <td>169.086071</td>\n",
       "      <td>0.872764</td>\n",
       "      <td>0.131712</td>\n",
       "      <td>0.318768</td>\n",
       "      <td>0.081641</td>\n",
       "    </tr>\n",
       "    <tr>\n",
       "      <th>0.95</th>\n",
       "      <td>180.034985</td>\n",
       "      <td>0.952104</td>\n",
       "      <td>0.142242</td>\n",
       "      <td>0.337649</td>\n",
       "      <td>0.092335</td>\n",
       "    </tr>\n",
       "    <tr>\n",
       "      <th>1.00</th>\n",
       "      <td>236.820558</td>\n",
       "      <td>1.434370</td>\n",
       "      <td>0.198448</td>\n",
       "      <td>0.465252</td>\n",
       "      <td>0.157834</td>\n",
       "    </tr>\n",
       "  </tbody>\n",
       "</table>\n",
       "</div>"
      ],
      "text/plain": [
       "      Bond Price      Beta  Market Return  Tax Rate      WACC\n",
       "0.05   81.248402  0.295842       0.042261  0.173192  0.020810\n",
       "0.10   92.282709  0.369973       0.052837  0.191403  0.026815\n",
       "0.15  100.055707  0.418251       0.060765  0.203323  0.030472\n",
       "0.20  105.380702  0.456998       0.066423  0.213415  0.033687\n",
       "0.25  110.351751  0.491311       0.071775  0.221411  0.036729\n",
       "0.30  114.709896  0.521523       0.076475  0.229000  0.039379\n",
       "0.35  118.488199  0.547630       0.080880  0.235835  0.042193\n",
       "0.40  122.621343  0.573140       0.084687  0.242635  0.044928\n",
       "0.45  126.743803  0.598108       0.088634  0.248711  0.047429\n",
       "0.50  130.352323  0.625594       0.092555  0.254822  0.050145\n",
       "0.55  133.970009  0.650940       0.096495  0.260851  0.053040\n",
       "0.60  137.930627  0.674242       0.100265  0.267478  0.055916\n",
       "0.65  141.956036  0.702832       0.104450  0.273620  0.058934\n",
       "0.70  146.229270  0.729353       0.108648  0.280128  0.062292\n",
       "0.75  150.790460  0.755473       0.113732  0.288119  0.065821\n",
       "0.80  155.741367  0.786772       0.118594  0.296597  0.070077\n",
       "0.85  161.656340  0.824789       0.124439  0.306575  0.075007\n",
       "0.90  169.086071  0.872764       0.131712  0.318768  0.081641\n",
       "0.95  180.034985  0.952104       0.142242  0.337649  0.092335\n",
       "1.00  236.820558  1.434370       0.198448  0.465252  0.157834"
      ]
     },
     "execution_count": 56,
     "metadata": {},
     "output_type": "execute_result"
    }
   ],
   "source": [
    "quants = [i/20 for i in range(1, 21)]\n",
    "results_df.quantile(quants)"
   ]
  },
  {
   "cell_type": "code",
   "execution_count": 57,
   "metadata": {},
   "outputs": [
    {
     "data": {
      "text/html": [
       "<h2>Bond Price vs. WACC</h2>"
      ],
      "text/plain": [
       "<IPython.core.display.HTML object>"
      ]
     },
     "metadata": {},
     "output_type": "display_data"
    },
    {
     "data": {
      "image/png": "[encoded data removed]",
      "text/plain": [
       "<Figure size 432x288 with 1 Axes>"
      ]
     },
     "metadata": {
      "needs_background": "light"
     },
     "output_type": "display_data"
    },
    {
     "data": {
      "text/html": [
       "<h2>Beta vs. WACC</h2>"
      ],
      "text/plain": [
       "<IPython.core.display.HTML object>"
      ]
     },
     "metadata": {},
     "output_type": "display_data"
    },
    {
     "data": {
      "image/png": "[encoded data removed]",
      "text/plain": [
       "<Figure size 432x288 with 1 Axes>"
      ]
     },
     "metadata": {
      "needs_background": "light"
     },
     "output_type": "display_data"
    },
    {
     "data": {
      "text/html": [
       "<h2>Market Return vs. WACC</h2>"
      ],
      "text/plain": [
       "<IPython.core.display.HTML object>"
      ]
     },
     "metadata": {},
     "output_type": "display_data"
    },
    {
     "data": {
      "image/png": "[encoded data removed]",
      "text/plain": [
       "<Figure size 432x288 with 1 Axes>"
      ]
     },
     "metadata": {
      "needs_background": "light"
     },
     "output_type": "display_data"
    },
    {
     "data": {
      "text/html": [
       "<h2>Tax Rate vs. WACC</h2>"
      ],
      "text/plain": [
       "<IPython.core.display.HTML object>"
      ]
     },
     "metadata": {},
     "output_type": "display_data"
    },
    {
     "data": {
      "image/png": "[encoded data removed]",
      "text/plain": [
       "<Figure size 432x288 with 1 Axes>"
      ]
     },
     "metadata": {
      "needs_background": "light"
     },
     "output_type": "display_data"
    }
   ],
   "source": [
    "from IPython.display import display, HTML\n",
    "import matplotlib.pyplot as plt\n",
    "\n",
    "def display_header(header):\n",
    "    display(HTML(f'<h2>{header}</h2>'))\n",
    "    \n",
    "for x_var in ['Bond Price', 'Beta', 'Market Return', 'Tax Rate']:\n",
    "    display_header(f'{x_var} vs. WACC')\n",
    "    results_df.plot.scatter(x=x_var, y='WACC')\n",
    "    plt.show()"
   ]
  },
  {
   "cell_type": "code",
   "execution_count": 58,
   "metadata": {},
   "outputs": [
    {
     "data": {
      "text/html": [
       "<table class=\"simpletable\">\n",
       "<caption>OLS Regression Results</caption>\n",
       "<tr>\n",
       "  <th>Dep. Variable:</th>          <td>WACC</td>       <th>  R-squared (uncentered):</th>       <td>   0.990</td> \n",
       "</tr>\n",
       "<tr>\n",
       "  <th>Model:</th>                   <td>OLS</td>       <th>  Adj. R-squared (uncentered):</th>  <td>   0.990</td> \n",
       "</tr>\n",
       "<tr>\n",
       "  <th>Method:</th>             <td>Least Squares</td>  <th>  F-statistic:       </th>           <td>2.519e+05</td>\n",
       "</tr>\n",
       "<tr>\n",
       "  <th>Date:</th>             <td>Tue, 03 Dec 2019</td> <th>  Prob (F-statistic):</th>            <td>  0.00</td>  \n",
       "</tr>\n",
       "<tr>\n",
       "  <th>Time:</th>                 <td>10:33:46</td>     <th>  Log-Likelihood:    </th>           <td>  37585.</td> \n",
       "</tr>\n",
       "<tr>\n",
       "  <th>No. Observations:</th>      <td> 10000</td>      <th>  AIC:               </th>          <td>-7.516e+04</td>\n",
       "</tr>\n",
       "<tr>\n",
       "  <th>Df Residuals:</th>          <td>  9996</td>      <th>  BIC:               </th>          <td>-7.513e+04</td>\n",
       "</tr>\n",
       "<tr>\n",
       "  <th>Df Model:</th>              <td>     4</td>      <th>                     </th>               <td> </td>    \n",
       "</tr>\n",
       "<tr>\n",
       "  <th>Covariance Type:</th>      <td>nonrobust</td>    <th>                     </th>               <td> </td>    \n",
       "</tr>\n",
       "</table>\n",
       "<table class=\"simpletable\">\n",
       "<tr>\n",
       "        <td></td>           <th>coef</th>     <th>std err</th>      <th>t</th>      <th>P>|t|</th>  <th>[0.025</th>    <th>0.975]</th>  \n",
       "</tr>\n",
       "<tr>\n",
       "  <th>Bond Price</th>    <td>   -0.0002</td> <td> 1.57e-06</td> <td> -102.200</td> <td> 0.000</td> <td>   -0.000</td> <td>   -0.000</td>\n",
       "</tr>\n",
       "<tr>\n",
       "  <th>Beta</th>          <td>    0.0653</td> <td>    0.000</td> <td>  245.669</td> <td> 0.000</td> <td>    0.065</td> <td>    0.066</td>\n",
       "</tr>\n",
       "<tr>\n",
       "  <th>Market Return</th> <td>    0.4694</td> <td>    0.002</td> <td>  274.297</td> <td> 0.000</td> <td>    0.466</td> <td>    0.473</td>\n",
       "</tr>\n",
       "<tr>\n",
       "  <th>Tax Rate</th>      <td>   -0.0405</td> <td>    0.001</td> <td>  -46.745</td> <td> 0.000</td> <td>   -0.042</td> <td>   -0.039</td>\n",
       "</tr>\n",
       "</table>\n",
       "<table class=\"simpletable\">\n",
       "<tr>\n",
       "  <th>Omnibus:</th>       <td>942.769</td> <th>  Durbin-Watson:     </th> <td>   2.030</td>\n",
       "</tr>\n",
       "<tr>\n",
       "  <th>Prob(Omnibus):</th> <td> 0.000</td>  <th>  Jarque-Bera (JB):  </th> <td>6299.476</td>\n",
       "</tr>\n",
       "<tr>\n",
       "  <th>Skew:</th>          <td> 0.171</td>  <th>  Prob(JB):          </th> <td>    0.00</td>\n",
       "</tr>\n",
       "<tr>\n",
       "  <th>Kurtosis:</th>      <td> 6.873</td>  <th>  Cond. No.          </th> <td>4.13e+03</td>\n",
       "</tr>\n",
       "</table><br/><br/>Warnings:<br/>[1] Standard Errors assume that the covariance matrix of the errors is correctly specified.<br/>[2] The condition number is large, 4.13e+03. This might indicate that there are<br/>strong multicollinearity or other numerical problems."
      ],
      "text/plain": [
       "<class 'statsmodels.iolib.summary.Summary'>\n",
       "\"\"\"\n",
       "                                 OLS Regression Results                                \n",
       "=======================================================================================\n",
       "Dep. Variable:                   WACC   R-squared (uncentered):                   0.990\n",
       "Model:                            OLS   Adj. R-squared (uncentered):              0.990\n",
       "Method:                 Least Squares   F-statistic:                          2.519e+05\n",
       "Date:                Tue, 03 Dec 2019   Prob (F-statistic):                        0.00\n",
       "Time:                        10:33:46   Log-Likelihood:                          37585.\n",
       "No. Observations:               10000   AIC:                                 -7.516e+04\n",
       "Df Residuals:                    9996   BIC:                                 -7.513e+04\n",
       "Df Model:                           4                                                  \n",
       "Covariance Type:            nonrobust                                                  \n",
       "=================================================================================\n",
       "                    coef    std err          t      P>|t|      [0.025      0.975]\n",
       "---------------------------------------------------------------------------------\n",
       "Bond Price       -0.0002   1.57e-06   -102.200      0.000      -0.000      -0.000\n",
       "Beta              0.0653      0.000    245.669      0.000       0.065       0.066\n",
       "Market Return     0.4694      0.002    274.297      0.000       0.466       0.473\n",
       "Tax Rate         -0.0405      0.001    -46.745      0.000      -0.042      -0.039\n",
       "==============================================================================\n",
       "Omnibus:                      942.769   Durbin-Watson:                   2.030\n",
       "Prob(Omnibus):                  0.000   Jarque-Bera (JB):             6299.476\n",
       "Skew:                           0.171   Prob(JB):                         0.00\n",
       "Kurtosis:                       6.873   Cond. No.                     4.13e+03\n",
       "==============================================================================\n",
       "\n",
       "Warnings:\n",
       "[1] Standard Errors assume that the covariance matrix of the errors is correctly specified.\n",
       "[2] The condition number is large, 4.13e+03. This might indicate that there are\n",
       "strong multicollinearity or other numerical problems.\n",
       "\"\"\""
      ]
     },
     "execution_count": 58,
     "metadata": {},
     "output_type": "execute_result"
    }
   ],
   "source": [
    "model = sm.OLS(results_df['WACC'], results_df[['Bond Price', 'Beta', 'Market Return', 'Tax Rate']])\n",
    "mc_ols_results = model.fit()\n",
    "mc_ols_results.summary()"
   ]
  },
  {
   "cell_type": "code",
   "execution_count": 59,
   "metadata": {},
   "outputs": [
    {
     "data": {
      "text/plain": [
       "Bond Price       30.00\n",
       "Beta              0.20\n",
       "Market Return     0.03\n",
       "Tax Rate          0.05\n",
       "dtype: float64"
      ]
     },
     "execution_count": 59,
     "metadata": {},
     "output_type": "execute_result"
    }
   ],
   "source": [
    "std_series = pd.Series([wmt_bond_price_std, beta_std, mkt_ret_std, tax_rate_std], index=['Bond Price', 'Beta', 'Market Return', 'Tax Rate'])\n",
    "std_series"
   ]
  },
  {
   "cell_type": "code",
   "execution_count": 60,
   "metadata": {},
   "outputs": [
    {
     "data": {
      "text/plain": [
       "Bond Price      -0.000160\n",
       "Beta             0.065293\n",
       "Market Return    0.469410\n",
       "Tax Rate        -0.040475\n",
       "dtype: float64"
      ]
     },
     "execution_count": 60,
     "metadata": {},
     "output_type": "execute_result"
    }
   ],
   "source": [
    "mc_ols_results.params"
   ]
  },
  {
   "cell_type": "code",
   "execution_count": 61,
   "metadata": {},
   "outputs": [
    {
     "data": {
      "text/plain": [
       "Bond Price      -0.004814\n",
       "Beta             0.013059\n",
       "Market Return    0.014082\n",
       "Tax Rate        -0.002024\n",
       "dtype: float64"
      ]
     },
     "execution_count": 61,
     "metadata": {},
     "output_type": "execute_result"
    }
   ],
   "source": [
    "mc_ols_results.params * std_series"
   ]
  },
  {
   "cell_type": "markdown",
   "metadata": {},
   "source": [
    "The beta and market return have the greatest effect. Tax rate has very little effect."
   ]
  }
 ],
 "metadata": {
  "kernelspec": {
   "display_name": "Python 3",
   "language": "python",
   "name": "python3"
  },
  "language_info": {
   "codemirror_mode": {
    "name": "ipython",
    "version": 3
   },
   "file_extension": ".py",
   "mimetype": "text/x-python",
   "name": "python",
   "nbconvert_exporter": "python",
   "pygments_lexer": "ipython3",
   "version": "3.7.3"
  }
 },
 "nbformat": 4,
 "nbformat_minor": 4
}
