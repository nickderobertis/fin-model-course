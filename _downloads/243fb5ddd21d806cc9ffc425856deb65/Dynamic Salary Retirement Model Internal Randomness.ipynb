{
 "cells": [
  {
   "cell_type": "markdown",
   "metadata": {},
   "source": [
    "# Retirement Model\n",
    "\n",
    "This is a retirement model which models salary with both a constant growth rate for cost of living raises as well as regular salary increases for promotions. The model is broken up into the following sections:\n",
    "\n",
    "- [**Setup**](#Setup): Runs any imports and other setup\n",
    "- [**Inputs**](#Inputs): Defines the inputs for the model\n",
    "- [**Salaries**](#Salaries): Determining the salary in each year, considering cost of living raises and promotions\n",
    "- [**Wealths**](#Wealths): Determining the wealth in each year, considering a constant savings rate and investment rate\n",
    "- [**Retirement**](#Retirement): Determines years to retirement from the wealths over time, the main output from the model.\n",
    "- [**Results Summary**](#Results-Summary): Summarize the results with some visualizations\n",
    "- [**Sensitivity Analysis**](#Sensitivity-Analysis): Determine how sensitive the years to retirement is to the model inputs\n",
    "- [**Scenario Analysis**](#Scenario-Analysis): Examine cases of a bad, normal, and good economy to determine the years to retirement in these cases"
   ]
  },
  {
   "cell_type": "markdown",
   "metadata": {},
   "source": [
    "## Setup\n",
    "\n",
    "Setup for the later calculations are here. The necessary packages are imported."
   ]
  },
  {
   "cell_type": "code",
   "execution_count": 1,
   "metadata": {},
   "outputs": [],
   "source": [
    "from dataclasses import dataclass\n",
    "import pandas as pd\n",
    "import random\n",
    "%matplotlib inline\n",
    "from sensitivity import SensitivityAnalyzer\n",
    "import random"
   ]
  },
  {
   "cell_type": "markdown",
   "metadata": {},
   "source": [
    "## Inputs\n",
    "\n",
    "All of the inputs for the model are defined here. A class is constructed to manage the data, and an instance of the class containing the default inputs is created."
   ]
  },
  {
   "cell_type": "code",
   "execution_count": 2,
   "metadata": {},
   "outputs": [
    {
     "data": {
      "text/plain": [
       "ModelInputs(starting_salary=60000, promos_every_n_years=5, cost_of_living_raise=0.02, promo_raise=0.15, savings_rate=0.25, interest_rate=0.05, desired_cash=1500000)"
      ]
     },
     "execution_count": 2,
     "metadata": {},
     "output_type": "execute_result"
    }
   ],
   "source": [
    "@dataclass\n",
    "class ModelInputs:\n",
    "    starting_salary: int = 60000\n",
    "    promos_every_n_years: int = 5\n",
    "    cost_of_living_raise: float = 0.02\n",
    "    promo_raise: float = 0.15\n",
    "    savings_rate: float = 0.25\n",
    "    interest_rate: float = 0.05\n",
    "    desired_cash: int = 1500000\n",
    "        \n",
    "model_data = ModelInputs()\n",
    "model_data"
   ]
  },
  {
   "cell_type": "markdown",
   "metadata": {},
   "source": [
    "## Salaries\n",
    "\n",
    "Here the salary for each year is calculated. We assume that the salary grows at a constant rate each year for cost of living raises, and then also every number of years, the salary increases by a further percentage due to a promotion or switching jobs. Based on this assumption, the salary would evolve over time with the following equation:\n",
    "\n",
    "$$s_t = s_0 (1 + r_{cl})^n (1 + r_p)^p$$\n",
    "\n",
    "Where:\n",
    "- $s_t$: Salary at year $t$\n",
    "- $s_0$: Starting salary (year 0)\n",
    "- $r_{cl}$: Annual cost of living raise\n",
    "- $r_p$: Promotion raise\n",
    "- $p$: Number of promotions\n",
    "\n",
    "And in Python format:"
   ]
  },
  {
   "cell_type": "code",
   "execution_count": 3,
   "metadata": {},
   "outputs": [],
   "source": [
    "def salary_at_year(data: ModelInputs, year):\n",
    "    \"\"\"\n",
    "    Gets the salary at a given year from the start of the model based on cost of living raises and regular promotions.\n",
    "    \"\"\"\n",
    "    # Every n years we have a promotion, so dividing the years and taking out the decimals gets the number of promotions\n",
    "    num_promos = int(year / data.promos_every_n_years)\n",
    "    \n",
    "    # This is the formula above implemented in Python\n",
    "    salary_t = data.starting_salary * (1 + data.cost_of_living_raise) ** year * (1 + data.promo_raise) ** num_promos\n",
    "    return salary_t"
   ]
  },
  {
   "cell_type": "markdown",
   "metadata": {},
   "source": [
    "That function will get the salary at a given year, so to get all the salaries we just run it on each year. But we will not know how many years to run as we should run it until the individual is able to retire. So we are just showing the first few salaries for now and will later use this function in the [Wealths](#Wealths) section of the model."
   ]
  },
  {
   "cell_type": "code",
   "execution_count": 4,
   "metadata": {},
   "outputs": [
    {
     "name": "stdout",
     "output_type": "stream",
     "text": [
      "The salary at year 1 is $61,200.\n",
      "The salary at year 2 is $62,424.\n",
      "The salary at year 3 is $63,672.\n",
      "The salary at year 4 is $64,946.\n",
      "The salary at year 5 is $76,182.\n",
      "The salary at year 6 is $77,705.\n"
     ]
    }
   ],
   "source": [
    "for i in range(6):\n",
    "    year = i + 1\n",
    "    salary = salary_at_year(model_data, year)\n",
    "    print(f'The salary at year {year} is ${salary:,.0f}.')"
   ]
  },
  {
   "cell_type": "markdown",
   "metadata": {},
   "source": [
    "As expected, with the default inputs, the salary is increasing at 2% per year. Then at year 5, there is a promotion so there is a larger increase in salary."
   ]
  },
  {
   "cell_type": "markdown",
   "metadata": {},
   "source": [
    "## Wealths\n",
    "\n",
    "The wealths portion of the model is concerned with applying the savings rate to the earned salary to calculate the cash saved, accumulating the cash saved over time, and applying the investment rate to the accumulated wealth.\n",
    "\n",
    "To calculate cash saved, it is simply:\n",
    "\n",
    "$$c_t = s_t * r_s$$\n",
    "\n",
    "Where:\n",
    "- $c_t$: Cash saved during year $t$\n",
    "- $r_s$: Savings rate"
   ]
  },
  {
   "cell_type": "code",
   "execution_count": 5,
   "metadata": {},
   "outputs": [],
   "source": [
    "def cash_saved_during_year(data: ModelInputs, year):\n",
    "    \"\"\"\n",
    "    Calculated the cash saved within a given year, by first calculating the salary at that year then applying the \n",
    "    savings rate.\n",
    "    \"\"\"\n",
    "    salary = salary_at_year(data, year)\n",
    "    cash_saved = salary * data.savings_rate\n",
    "    return cash_saved"
   ]
  },
  {
   "cell_type": "markdown",
   "metadata": {},
   "source": [
    "To get the wealth at each year, it is just applying the investment return to last year's wealth, then adding this year's cash saved:\n",
    "\n",
    "$$w_t = w_{t-1} (1 + r_i) + c_t$$\n",
    "Where:\n",
    "- $w_t$: Wealth at year $t$\n",
    "- $r_i$: Investment rate"
   ]
  },
  {
   "cell_type": "code",
   "execution_count": 6,
   "metadata": {},
   "outputs": [],
   "source": [
    "def wealth_at_year(data: ModelInputs, year, prior_wealth):\n",
    "    \"\"\"\n",
    "    Calculate the accumulated wealth for a given year, based on previous wealth, the investment rate,\n",
    "    and cash saved during the year.\n",
    "    \"\"\"\n",
    "    cash_saved = cash_saved_during_year(data, year)\n",
    "    wealth = prior_wealth * (1 + data.interest_rate) + cash_saved\n",
    "    return wealth"
   ]
  },
  {
   "cell_type": "markdown",
   "metadata": {},
   "source": [
    "Again, just like in the [Salaries](#Salaries) section, we can now get the output for each year, but we don't know ultimately how many years we will have to run it. That will be determined in the [Retirement](#Retirement) section. So for now, just show the first few years of wealth accumulation:"
   ]
  },
  {
   "cell_type": "code",
   "execution_count": 7,
   "metadata": {},
   "outputs": [
    {
     "name": "stdout",
     "output_type": "stream",
     "text": [
      "The wealth at year 1 is $15,300.\n",
      "The wealth at year 2 is $31,671.\n",
      "The wealth at year 3 is $49,173.\n",
      "The wealth at year 4 is $67,868.\n",
      "The wealth at year 5 is $90,307.\n",
      "The wealth at year 6 is $114,248.\n"
     ]
    }
   ],
   "source": [
    "prior_wealth = 0  # starting with no cash saved\n",
    "for i in range(6):\n",
    "    year = i + 1\n",
    "    wealth = wealth_at_year(model_data, year, prior_wealth)\n",
    "    print(f'The wealth at year {year} is ${wealth:,.0f}.')\n",
    "    \n",
    "    # Set next year's prior wealth to this year's wealth\n",
    "    prior_wealth = wealth"
   ]
  },
  {
   "cell_type": "markdown",
   "metadata": {},
   "source": [
    "With default inputs, the wealth is going up by approximately 25% of the salary each year, plus a bit more for investment. Then in year 6 we see a substantially larger increase because the salary is substantially larger due to the promotion. So everything is looking correct."
   ]
  },
  {
   "cell_type": "markdown",
   "metadata": {},
   "source": [
    "## Retirement\n",
    "\n",
    "This section of the model puts everything together to produce the final output of years to retirement. It uses the logic to get the wealths at each year, which in turn uses the logic to the get salary at each year. The wealth at each year is tracked over time until it hits the desired cash. Once the wealth hits the desired cash, the individual is able to retire so that year is returned as the years to retirement."
   ]
  },
  {
   "cell_type": "code",
   "execution_count": 8,
   "metadata": {},
   "outputs": [],
   "source": [
    "def years_to_retirement(data: ModelInputs, print_output=True):\n",
    "    \n",
    "    # starting with no cash saved\n",
    "    prior_wealth = 0  \n",
    "    wealth = 0\n",
    "    \n",
    "    year = 0  # will become 1 on first loop\n",
    "    \n",
    "    if print_output:\n",
    "        print('Wealths over time:') # \\n makes a blank line in the output.\n",
    "    while wealth < data.desired_cash:\n",
    "        year = year + 1\n",
    "        wealth = wealth_at_year(data, year, prior_wealth)\n",
    "        if print_output:\n",
    "            print(f'The wealth at year {year} is ${wealth:,.0f}.')\n",
    "\n",
    "        # Set next year's prior wealth to this year's wealth\n",
    "        prior_wealth = wealth\n",
    "        \n",
    "    # Now we have exited the while loop, so wealth must be >= desired_cash. Whatever last year was set\n",
    "    # is the years to retirement.\n",
    "    if print_output:\n",
    "        print(f'\\nRetirement:\\nIt will take {year} years to retire.')  # \\n makes a blank line in the output.\n",
    "    return year"
   ]
  },
  {
   "cell_type": "markdown",
   "metadata": {},
   "source": [
    "With the default inputs:"
   ]
  },
  {
   "cell_type": "code",
   "execution_count": 9,
   "metadata": {},
   "outputs": [
    {
     "name": "stdout",
     "output_type": "stream",
     "text": [
      "Wealths over time:\n",
      "The wealth at year 1 is $15,300.\n",
      "The wealth at year 2 is $31,671.\n",
      "The wealth at year 3 is $49,173.\n",
      "The wealth at year 4 is $67,868.\n",
      "The wealth at year 5 is $90,307.\n",
      "The wealth at year 6 is $114,248.\n",
      "The wealth at year 7 is $139,775.\n",
      "The wealth at year 8 is $166,975.\n",
      "The wealth at year 9 is $195,939.\n",
      "The wealth at year 10 is $229,918.\n",
      "The wealth at year 11 is $266,080.\n",
      "The wealth at year 12 is $304,542.\n",
      "The wealth at year 13 is $345,431.\n",
      "The wealth at year 14 is $388,878.\n",
      "The wealth at year 15 is $439,025.\n",
      "The wealth at year 16 is $492,294.\n",
      "The wealth at year 17 is $548,853.\n",
      "The wealth at year 18 is $608,878.\n",
      "The wealth at year 19 is $672,557.\n",
      "The wealth at year 20 is $745,168.\n",
      "The wealth at year 21 is $822,190.\n",
      "The wealth at year 22 is $903,859.\n",
      "The wealth at year 23 is $990,422.\n",
      "The wealth at year 24 is $1,082,140.\n",
      "The wealth at year 25 is $1,185,745.\n",
      "The wealth at year 26 is $1,295,520.\n",
      "The wealth at year 27 is $1,411,793.\n",
      "The wealth at year 28 is $1,534,910.\n",
      "\n",
      "Retirement:\n",
      "It will take 28 years to retire.\n"
     ]
    }
   ],
   "source": [
    "years = years_to_retirement(model_data)"
   ]
  },
  {
   "cell_type": "markdown",
   "metadata": {},
   "source": [
    "# Results Summary\n",
    "\n",
    "## Put Results in a Table\n",
    "\n",
    "Now I will visualize the salaries and wealths over time. First create a function which runs the model to put these results in a DataFrame."
   ]
  },
  {
   "cell_type": "code",
   "execution_count": 10,
   "metadata": {},
   "outputs": [],
   "source": [
    "def get_salaries_wealths_df(data):\n",
    "    \"\"\"\n",
    "    Runs the retirement model, collecting salary and wealth information year by year and storing\n",
    "    into a DataFrame for further analysis.\n",
    "    \"\"\"\n",
    "    # starting with no cash saved\n",
    "    prior_wealth = 0  \n",
    "    wealth = 0\n",
    "    \n",
    "    year = 0  # will become 1 on first loop\n",
    "    \n",
    "    df_data_tups = []\n",
    "    while wealth < data.desired_cash:\n",
    "        year = year + 1\n",
    "        salary = salary_at_year(data, year)\n",
    "        wealth = wealth_at_year(data, year, prior_wealth)\n",
    "\n",
    "        # Set next year's prior wealth to this year's wealth\n",
    "        prior_wealth = wealth\n",
    "        \n",
    "        # Save the results in a tuple for later building the DataFrame\n",
    "        df_data_tups.append((year, salary, wealth))\n",
    "        \n",
    "    # Now we have exited the while loop, so wealth must be >= desired_cash\n",
    "    \n",
    "    # Now create the DataFrame\n",
    "    df = pd.DataFrame(df_data_tups, columns=['Year', 'Salary', 'Wealth'])\n",
    "    \n",
    "    return df"
   ]
  },
  {
   "cell_type": "markdown",
   "metadata": {},
   "source": [
    "Also set up a function which formats the `DataFrame` for display."
   ]
  },
  {
   "cell_type": "code",
   "execution_count": 11,
   "metadata": {},
   "outputs": [],
   "source": [
    "def styled_salaries_wealths(df):\n",
    "    return df.style.format({\n",
    "        'Salary': '${:,.2f}',\n",
    "        'Wealth': '${:,.2f}'\n",
    "    })"
   ]
  },
  {
   "cell_type": "markdown",
   "metadata": {},
   "source": [
    "Now call the function to save the results into the `DataFrame`."
   ]
  },
  {
   "cell_type": "code",
   "execution_count": 12,
   "metadata": {},
   "outputs": [
    {
     "data": {
      "text/html": [
       "<style  type=\"text/css\" >\n",
       "</style><table id=\"T_0a2dfd62_188d_11eb_9636_00224d4fcf6b\" ><thead>    <tr>        <th class=\"blank level0\" ></th>        <th class=\"col_heading level0 col0\" >Year</th>        <th class=\"col_heading level0 col1\" >Salary</th>        <th class=\"col_heading level0 col2\" >Wealth</th>    </tr></thead><tbody>\n",
       "                <tr>\n",
       "                        <th id=\"T_0a2dfd62_188d_11eb_9636_00224d4fcf6blevel0_row0\" class=\"row_heading level0 row0\" >0</th>\n",
       "                        <td id=\"T_0a2dfd62_188d_11eb_9636_00224d4fcf6brow0_col0\" class=\"data row0 col0\" >1</td>\n",
       "                        <td id=\"T_0a2dfd62_188d_11eb_9636_00224d4fcf6brow0_col1\" class=\"data row0 col1\" >$61,200.00</td>\n",
       "                        <td id=\"T_0a2dfd62_188d_11eb_9636_00224d4fcf6brow0_col2\" class=\"data row0 col2\" >$15,300.00</td>\n",
       "            </tr>\n",
       "            <tr>\n",
       "                        <th id=\"T_0a2dfd62_188d_11eb_9636_00224d4fcf6blevel0_row1\" class=\"row_heading level0 row1\" >1</th>\n",
       "                        <td id=\"T_0a2dfd62_188d_11eb_9636_00224d4fcf6brow1_col0\" class=\"data row1 col0\" >2</td>\n",
       "                        <td id=\"T_0a2dfd62_188d_11eb_9636_00224d4fcf6brow1_col1\" class=\"data row1 col1\" >$62,424.00</td>\n",
       "                        <td id=\"T_0a2dfd62_188d_11eb_9636_00224d4fcf6brow1_col2\" class=\"data row1 col2\" >$31,671.00</td>\n",
       "            </tr>\n",
       "            <tr>\n",
       "                        <th id=\"T_0a2dfd62_188d_11eb_9636_00224d4fcf6blevel0_row2\" class=\"row_heading level0 row2\" >2</th>\n",
       "                        <td id=\"T_0a2dfd62_188d_11eb_9636_00224d4fcf6brow2_col0\" class=\"data row2 col0\" >3</td>\n",
       "                        <td id=\"T_0a2dfd62_188d_11eb_9636_00224d4fcf6brow2_col1\" class=\"data row2 col1\" >$63,672.48</td>\n",
       "                        <td id=\"T_0a2dfd62_188d_11eb_9636_00224d4fcf6brow2_col2\" class=\"data row2 col2\" >$49,172.67</td>\n",
       "            </tr>\n",
       "            <tr>\n",
       "                        <th id=\"T_0a2dfd62_188d_11eb_9636_00224d4fcf6blevel0_row3\" class=\"row_heading level0 row3\" >3</th>\n",
       "                        <td id=\"T_0a2dfd62_188d_11eb_9636_00224d4fcf6brow3_col0\" class=\"data row3 col0\" >4</td>\n",
       "                        <td id=\"T_0a2dfd62_188d_11eb_9636_00224d4fcf6brow3_col1\" class=\"data row3 col1\" >$64,945.93</td>\n",
       "                        <td id=\"T_0a2dfd62_188d_11eb_9636_00224d4fcf6brow3_col2\" class=\"data row3 col2\" >$67,867.79</td>\n",
       "            </tr>\n",
       "            <tr>\n",
       "                        <th id=\"T_0a2dfd62_188d_11eb_9636_00224d4fcf6blevel0_row4\" class=\"row_heading level0 row4\" >4</th>\n",
       "                        <td id=\"T_0a2dfd62_188d_11eb_9636_00224d4fcf6brow4_col0\" class=\"data row4 col0\" >5</td>\n",
       "                        <td id=\"T_0a2dfd62_188d_11eb_9636_00224d4fcf6brow4_col1\" class=\"data row4 col1\" >$76,181.58</td>\n",
       "                        <td id=\"T_0a2dfd62_188d_11eb_9636_00224d4fcf6brow4_col2\" class=\"data row4 col2\" >$90,306.57</td>\n",
       "            </tr>\n",
       "            <tr>\n",
       "                        <th id=\"T_0a2dfd62_188d_11eb_9636_00224d4fcf6blevel0_row5\" class=\"row_heading level0 row5\" >5</th>\n",
       "                        <td id=\"T_0a2dfd62_188d_11eb_9636_00224d4fcf6brow5_col0\" class=\"data row5 col0\" >6</td>\n",
       "                        <td id=\"T_0a2dfd62_188d_11eb_9636_00224d4fcf6brow5_col1\" class=\"data row5 col1\" >$77,705.21</td>\n",
       "                        <td id=\"T_0a2dfd62_188d_11eb_9636_00224d4fcf6brow5_col2\" class=\"data row5 col2\" >$114,248.20</td>\n",
       "            </tr>\n",
       "            <tr>\n",
       "                        <th id=\"T_0a2dfd62_188d_11eb_9636_00224d4fcf6blevel0_row6\" class=\"row_heading level0 row6\" >6</th>\n",
       "                        <td id=\"T_0a2dfd62_188d_11eb_9636_00224d4fcf6brow6_col0\" class=\"data row6 col0\" >7</td>\n",
       "                        <td id=\"T_0a2dfd62_188d_11eb_9636_00224d4fcf6brow6_col1\" class=\"data row6 col1\" >$79,259.31</td>\n",
       "                        <td id=\"T_0a2dfd62_188d_11eb_9636_00224d4fcf6brow6_col2\" class=\"data row6 col2\" >$139,775.44</td>\n",
       "            </tr>\n",
       "            <tr>\n",
       "                        <th id=\"T_0a2dfd62_188d_11eb_9636_00224d4fcf6blevel0_row7\" class=\"row_heading level0 row7\" >7</th>\n",
       "                        <td id=\"T_0a2dfd62_188d_11eb_9636_00224d4fcf6brow7_col0\" class=\"data row7 col0\" >8</td>\n",
       "                        <td id=\"T_0a2dfd62_188d_11eb_9636_00224d4fcf6brow7_col1\" class=\"data row7 col1\" >$80,844.50</td>\n",
       "                        <td id=\"T_0a2dfd62_188d_11eb_9636_00224d4fcf6brow7_col2\" class=\"data row7 col2\" >$166,975.33</td>\n",
       "            </tr>\n",
       "            <tr>\n",
       "                        <th id=\"T_0a2dfd62_188d_11eb_9636_00224d4fcf6blevel0_row8\" class=\"row_heading level0 row8\" >8</th>\n",
       "                        <td id=\"T_0a2dfd62_188d_11eb_9636_00224d4fcf6brow8_col0\" class=\"data row8 col0\" >9</td>\n",
       "                        <td id=\"T_0a2dfd62_188d_11eb_9636_00224d4fcf6brow8_col1\" class=\"data row8 col1\" >$82,461.39</td>\n",
       "                        <td id=\"T_0a2dfd62_188d_11eb_9636_00224d4fcf6brow8_col2\" class=\"data row8 col2\" >$195,939.45</td>\n",
       "            </tr>\n",
       "            <tr>\n",
       "                        <th id=\"T_0a2dfd62_188d_11eb_9636_00224d4fcf6blevel0_row9\" class=\"row_heading level0 row9\" >9</th>\n",
       "                        <td id=\"T_0a2dfd62_188d_11eb_9636_00224d4fcf6brow9_col0\" class=\"data row9 col0\" >10</td>\n",
       "                        <td id=\"T_0a2dfd62_188d_11eb_9636_00224d4fcf6brow9_col1\" class=\"data row9 col1\" >$96,727.21</td>\n",
       "                        <td id=\"T_0a2dfd62_188d_11eb_9636_00224d4fcf6brow9_col2\" class=\"data row9 col2\" >$229,918.22</td>\n",
       "            </tr>\n",
       "            <tr>\n",
       "                        <th id=\"T_0a2dfd62_188d_11eb_9636_00224d4fcf6blevel0_row10\" class=\"row_heading level0 row10\" >10</th>\n",
       "                        <td id=\"T_0a2dfd62_188d_11eb_9636_00224d4fcf6brow10_col0\" class=\"data row10 col0\" >11</td>\n",
       "                        <td id=\"T_0a2dfd62_188d_11eb_9636_00224d4fcf6brow10_col1\" class=\"data row10 col1\" >$98,661.75</td>\n",
       "                        <td id=\"T_0a2dfd62_188d_11eb_9636_00224d4fcf6brow10_col2\" class=\"data row10 col2\" >$266,079.57</td>\n",
       "            </tr>\n",
       "            <tr>\n",
       "                        <th id=\"T_0a2dfd62_188d_11eb_9636_00224d4fcf6blevel0_row11\" class=\"row_heading level0 row11\" >11</th>\n",
       "                        <td id=\"T_0a2dfd62_188d_11eb_9636_00224d4fcf6brow11_col0\" class=\"data row11 col0\" >12</td>\n",
       "                        <td id=\"T_0a2dfd62_188d_11eb_9636_00224d4fcf6brow11_col1\" class=\"data row11 col1\" >$100,634.99</td>\n",
       "                        <td id=\"T_0a2dfd62_188d_11eb_9636_00224d4fcf6brow11_col2\" class=\"data row11 col2\" >$304,542.29</td>\n",
       "            </tr>\n",
       "            <tr>\n",
       "                        <th id=\"T_0a2dfd62_188d_11eb_9636_00224d4fcf6blevel0_row12\" class=\"row_heading level0 row12\" >12</th>\n",
       "                        <td id=\"T_0a2dfd62_188d_11eb_9636_00224d4fcf6brow12_col0\" class=\"data row12 col0\" >13</td>\n",
       "                        <td id=\"T_0a2dfd62_188d_11eb_9636_00224d4fcf6brow12_col1\" class=\"data row12 col1\" >$102,647.69</td>\n",
       "                        <td id=\"T_0a2dfd62_188d_11eb_9636_00224d4fcf6brow12_col2\" class=\"data row12 col2\" >$345,431.33</td>\n",
       "            </tr>\n",
       "            <tr>\n",
       "                        <th id=\"T_0a2dfd62_188d_11eb_9636_00224d4fcf6blevel0_row13\" class=\"row_heading level0 row13\" >13</th>\n",
       "                        <td id=\"T_0a2dfd62_188d_11eb_9636_00224d4fcf6brow13_col0\" class=\"data row13 col0\" >14</td>\n",
       "                        <td id=\"T_0a2dfd62_188d_11eb_9636_00224d4fcf6brow13_col1\" class=\"data row13 col1\" >$104,700.64</td>\n",
       "                        <td id=\"T_0a2dfd62_188d_11eb_9636_00224d4fcf6brow13_col2\" class=\"data row13 col2\" >$388,878.06</td>\n",
       "            </tr>\n",
       "            <tr>\n",
       "                        <th id=\"T_0a2dfd62_188d_11eb_9636_00224d4fcf6blevel0_row14\" class=\"row_heading level0 row14\" >14</th>\n",
       "                        <td id=\"T_0a2dfd62_188d_11eb_9636_00224d4fcf6brow14_col0\" class=\"data row14 col0\" >15</td>\n",
       "                        <td id=\"T_0a2dfd62_188d_11eb_9636_00224d4fcf6brow14_col1\" class=\"data row14 col1\" >$122,813.85</td>\n",
       "                        <td id=\"T_0a2dfd62_188d_11eb_9636_00224d4fcf6brow14_col2\" class=\"data row14 col2\" >$439,025.42</td>\n",
       "            </tr>\n",
       "            <tr>\n",
       "                        <th id=\"T_0a2dfd62_188d_11eb_9636_00224d4fcf6blevel0_row15\" class=\"row_heading level0 row15\" >15</th>\n",
       "                        <td id=\"T_0a2dfd62_188d_11eb_9636_00224d4fcf6brow15_col0\" class=\"data row15 col0\" >16</td>\n",
       "                        <td id=\"T_0a2dfd62_188d_11eb_9636_00224d4fcf6brow15_col1\" class=\"data row15 col1\" >$125,270.13</td>\n",
       "                        <td id=\"T_0a2dfd62_188d_11eb_9636_00224d4fcf6brow15_col2\" class=\"data row15 col2\" >$492,294.23</td>\n",
       "            </tr>\n",
       "            <tr>\n",
       "                        <th id=\"T_0a2dfd62_188d_11eb_9636_00224d4fcf6blevel0_row16\" class=\"row_heading level0 row16\" >16</th>\n",
       "                        <td id=\"T_0a2dfd62_188d_11eb_9636_00224d4fcf6brow16_col0\" class=\"data row16 col0\" >17</td>\n",
       "                        <td id=\"T_0a2dfd62_188d_11eb_9636_00224d4fcf6brow16_col1\" class=\"data row16 col1\" >$127,775.53</td>\n",
       "                        <td id=\"T_0a2dfd62_188d_11eb_9636_00224d4fcf6brow16_col2\" class=\"data row16 col2\" >$548,852.82</td>\n",
       "            </tr>\n",
       "            <tr>\n",
       "                        <th id=\"T_0a2dfd62_188d_11eb_9636_00224d4fcf6blevel0_row17\" class=\"row_heading level0 row17\" >17</th>\n",
       "                        <td id=\"T_0a2dfd62_188d_11eb_9636_00224d4fcf6brow17_col0\" class=\"data row17 col0\" >18</td>\n",
       "                        <td id=\"T_0a2dfd62_188d_11eb_9636_00224d4fcf6brow17_col1\" class=\"data row17 col1\" >$130,331.04</td>\n",
       "                        <td id=\"T_0a2dfd62_188d_11eb_9636_00224d4fcf6brow17_col2\" class=\"data row17 col2\" >$608,878.22</td>\n",
       "            </tr>\n",
       "            <tr>\n",
       "                        <th id=\"T_0a2dfd62_188d_11eb_9636_00224d4fcf6blevel0_row18\" class=\"row_heading level0 row18\" >18</th>\n",
       "                        <td id=\"T_0a2dfd62_188d_11eb_9636_00224d4fcf6brow18_col0\" class=\"data row18 col0\" >19</td>\n",
       "                        <td id=\"T_0a2dfd62_188d_11eb_9636_00224d4fcf6brow18_col1\" class=\"data row18 col1\" >$132,937.66</td>\n",
       "                        <td id=\"T_0a2dfd62_188d_11eb_9636_00224d4fcf6brow18_col2\" class=\"data row18 col2\" >$672,556.55</td>\n",
       "            </tr>\n",
       "            <tr>\n",
       "                        <th id=\"T_0a2dfd62_188d_11eb_9636_00224d4fcf6blevel0_row19\" class=\"row_heading level0 row19\" >19</th>\n",
       "                        <td id=\"T_0a2dfd62_188d_11eb_9636_00224d4fcf6brow19_col0\" class=\"data row19 col0\" >20</td>\n",
       "                        <td id=\"T_0a2dfd62_188d_11eb_9636_00224d4fcf6brow19_col1\" class=\"data row19 col1\" >$155,935.88</td>\n",
       "                        <td id=\"T_0a2dfd62_188d_11eb_9636_00224d4fcf6brow19_col2\" class=\"data row19 col2\" >$745,168.34</td>\n",
       "            </tr>\n",
       "            <tr>\n",
       "                        <th id=\"T_0a2dfd62_188d_11eb_9636_00224d4fcf6blevel0_row20\" class=\"row_heading level0 row20\" >20</th>\n",
       "                        <td id=\"T_0a2dfd62_188d_11eb_9636_00224d4fcf6brow20_col0\" class=\"data row20 col0\" >21</td>\n",
       "                        <td id=\"T_0a2dfd62_188d_11eb_9636_00224d4fcf6brow20_col1\" class=\"data row20 col1\" >$159,054.59</td>\n",
       "                        <td id=\"T_0a2dfd62_188d_11eb_9636_00224d4fcf6brow20_col2\" class=\"data row20 col2\" >$822,190.41</td>\n",
       "            </tr>\n",
       "            <tr>\n",
       "                        <th id=\"T_0a2dfd62_188d_11eb_9636_00224d4fcf6blevel0_row21\" class=\"row_heading level0 row21\" >21</th>\n",
       "                        <td id=\"T_0a2dfd62_188d_11eb_9636_00224d4fcf6brow21_col0\" class=\"data row21 col0\" >22</td>\n",
       "                        <td id=\"T_0a2dfd62_188d_11eb_9636_00224d4fcf6brow21_col1\" class=\"data row21 col1\" >$162,235.69</td>\n",
       "                        <td id=\"T_0a2dfd62_188d_11eb_9636_00224d4fcf6brow21_col2\" class=\"data row21 col2\" >$903,858.85</td>\n",
       "            </tr>\n",
       "            <tr>\n",
       "                        <th id=\"T_0a2dfd62_188d_11eb_9636_00224d4fcf6blevel0_row22\" class=\"row_heading level0 row22\" >22</th>\n",
       "                        <td id=\"T_0a2dfd62_188d_11eb_9636_00224d4fcf6brow22_col0\" class=\"data row22 col0\" >23</td>\n",
       "                        <td id=\"T_0a2dfd62_188d_11eb_9636_00224d4fcf6brow22_col1\" class=\"data row22 col1\" >$165,480.40</td>\n",
       "                        <td id=\"T_0a2dfd62_188d_11eb_9636_00224d4fcf6brow22_col2\" class=\"data row22 col2\" >$990,421.89</td>\n",
       "            </tr>\n",
       "            <tr>\n",
       "                        <th id=\"T_0a2dfd62_188d_11eb_9636_00224d4fcf6blevel0_row23\" class=\"row_heading level0 row23\" >23</th>\n",
       "                        <td id=\"T_0a2dfd62_188d_11eb_9636_00224d4fcf6brow23_col0\" class=\"data row23 col0\" >24</td>\n",
       "                        <td id=\"T_0a2dfd62_188d_11eb_9636_00224d4fcf6brow23_col1\" class=\"data row23 col1\" >$168,790.01</td>\n",
       "                        <td id=\"T_0a2dfd62_188d_11eb_9636_00224d4fcf6brow23_col2\" class=\"data row23 col2\" >$1,082,140.49</td>\n",
       "            </tr>\n",
       "            <tr>\n",
       "                        <th id=\"T_0a2dfd62_188d_11eb_9636_00224d4fcf6blevel0_row24\" class=\"row_heading level0 row24\" >24</th>\n",
       "                        <td id=\"T_0a2dfd62_188d_11eb_9636_00224d4fcf6brow24_col0\" class=\"data row24 col0\" >25</td>\n",
       "                        <td id=\"T_0a2dfd62_188d_11eb_9636_00224d4fcf6brow24_col1\" class=\"data row24 col1\" >$197,990.68</td>\n",
       "                        <td id=\"T_0a2dfd62_188d_11eb_9636_00224d4fcf6brow24_col2\" class=\"data row24 col2\" >$1,185,745.19</td>\n",
       "            </tr>\n",
       "            <tr>\n",
       "                        <th id=\"T_0a2dfd62_188d_11eb_9636_00224d4fcf6blevel0_row25\" class=\"row_heading level0 row25\" >25</th>\n",
       "                        <td id=\"T_0a2dfd62_188d_11eb_9636_00224d4fcf6brow25_col0\" class=\"data row25 col0\" >26</td>\n",
       "                        <td id=\"T_0a2dfd62_188d_11eb_9636_00224d4fcf6brow25_col1\" class=\"data row25 col1\" >$201,950.49</td>\n",
       "                        <td id=\"T_0a2dfd62_188d_11eb_9636_00224d4fcf6brow25_col2\" class=\"data row25 col2\" >$1,295,520.07</td>\n",
       "            </tr>\n",
       "            <tr>\n",
       "                        <th id=\"T_0a2dfd62_188d_11eb_9636_00224d4fcf6blevel0_row26\" class=\"row_heading level0 row26\" >26</th>\n",
       "                        <td id=\"T_0a2dfd62_188d_11eb_9636_00224d4fcf6brow26_col0\" class=\"data row26 col0\" >27</td>\n",
       "                        <td id=\"T_0a2dfd62_188d_11eb_9636_00224d4fcf6brow26_col1\" class=\"data row26 col1\" >$205,989.50</td>\n",
       "                        <td id=\"T_0a2dfd62_188d_11eb_9636_00224d4fcf6brow26_col2\" class=\"data row26 col2\" >$1,411,793.45</td>\n",
       "            </tr>\n",
       "            <tr>\n",
       "                        <th id=\"T_0a2dfd62_188d_11eb_9636_00224d4fcf6blevel0_row27\" class=\"row_heading level0 row27\" >27</th>\n",
       "                        <td id=\"T_0a2dfd62_188d_11eb_9636_00224d4fcf6brow27_col0\" class=\"data row27 col0\" >28</td>\n",
       "                        <td id=\"T_0a2dfd62_188d_11eb_9636_00224d4fcf6brow27_col1\" class=\"data row27 col1\" >$210,109.29</td>\n",
       "                        <td id=\"T_0a2dfd62_188d_11eb_9636_00224d4fcf6brow27_col2\" class=\"data row27 col2\" >$1,534,910.44</td>\n",
       "            </tr>\n",
       "    </tbody></table>"
      ],
      "text/plain": [
       "<pandas.io.formats.style.Styler at 0x2a81accd548>"
      ]
     },
     "execution_count": 12,
     "metadata": {},
     "output_type": "execute_result"
    }
   ],
   "source": [
    "df = get_salaries_wealths_df(model_data)\n",
    "styled_salaries_wealths(df)"
   ]
  },
  {
   "cell_type": "markdown",
   "metadata": {},
   "source": [
    "## Plot Results\n",
    "\n",
    "Now I will visualize the salaries and wealths over time."
   ]
  },
  {
   "cell_type": "markdown",
   "metadata": {},
   "source": [
    "### Salaries over Time"
   ]
  },
  {
   "cell_type": "code",
   "execution_count": 13,
   "metadata": {},
   "outputs": [
    {
     "data": {
      "text/plain": [
       "<AxesSubplot:xlabel='Year'>"
      ]
     },
     "execution_count": 13,
     "metadata": {},
     "output_type": "execute_result"
    },
    {
     "data": {
      "image/png": "[encoded data removed]",
      "text/plain": [
       "<Figure size 432x288 with 1 Axes>"
      ]
     },
     "metadata": {
      "needs_background": "light"
     },
     "output_type": "display_data"
    }
   ],
   "source": [
    "df.plot.line(x='Year', y='Salary')"
   ]
  },
  {
   "cell_type": "markdown",
   "metadata": {},
   "source": [
    "### Wealths over Time"
   ]
  },
  {
   "cell_type": "code",
   "execution_count": 14,
   "metadata": {},
   "outputs": [
    {
     "data": {
      "text/plain": [
       "<AxesSubplot:xlabel='Year'>"
      ]
     },
     "execution_count": 14,
     "metadata": {},
     "output_type": "execute_result"
    },
    {
     "data": {
      "image/png": "[encoded data removed]",
      "text/plain": [
       "<Figure size 432x288 with 1 Axes>"
      ]
     },
     "metadata": {
      "needs_background": "light"
     },
     "output_type": "display_data"
    }
   ],
   "source": [
    "df.plot.line(x='Year', y='Wealth')"
   ]
  },
  {
   "cell_type": "code",
   "execution_count": 15,
   "metadata": {},
   "outputs": [
    {
     "data": {
      "text/plain": [
       "<AxesSubplot:xlabel='Year'>"
      ]
     },
     "execution_count": 15,
     "metadata": {},
     "output_type": "execute_result"
    },
    {
     "data": {
      "image/png": "[encoded data removed]",
      "text/plain": [
       "<Figure size 432x288 with 1 Axes>"
      ]
     },
     "metadata": {
      "needs_background": "light"
     },
     "output_type": "display_data"
    }
   ],
   "source": [
    "df.plot.line(x='Year', y='Salary')"
   ]
  },
  {
   "cell_type": "markdown",
   "metadata": {},
   "source": [
    "# Sensitivity Analysis\n",
    "\n",
    "Now I will determine how much the years to retirement changes in response to the different inputs. To use `SensitivityAnalyzer`, first we need a function which accepts the individual parameters rather than the entire data."
   ]
  },
  {
   "cell_type": "code",
   "execution_count": 16,
   "metadata": {},
   "outputs": [
    {
     "data": {
      "text/plain": [
       "28"
      ]
     },
     "execution_count": 16,
     "metadata": {},
     "output_type": "execute_result"
    }
   ],
   "source": [
    "def years_to_retirement_separate_args(\n",
    "    starting_salary=60000, promos_every_n_years=5, cost_of_living_raise=0.02, \n",
    "    promo_raise=0.15, savings_rate=0.25, interest_rate=0.05, desired_cash=1500000\n",
    "):\n",
    "    data = ModelInputs(\n",
    "        starting_salary=starting_salary, \n",
    "        promos_every_n_years=promos_every_n_years, \n",
    "        cost_of_living_raise=cost_of_living_raise, \n",
    "        promo_raise=promo_raise, \n",
    "        savings_rate=savings_rate, \n",
    "        interest_rate=interest_rate, \n",
    "        desired_cash=desired_cash\n",
    "    )\n",
    "    \n",
    "    return years_to_retirement(data, print_output=False)\n",
    "\n",
    "years_to_retirement_separate_args()"
   ]
  },
  {
   "cell_type": "markdown",
   "metadata": {},
   "source": [
    "Now pick the values we want to look at for each input."
   ]
  },
  {
   "cell_type": "code",
   "execution_count": 17,
   "metadata": {},
   "outputs": [],
   "source": [
    "# It is certainly possible to specify all these hard-coded but using list comprehensions makes it easy to adjust\n",
    "sensitivity_values = {\n",
    "    'starting_salary': [i * 10000 for i in range(4, 8)],\n",
    "    'promos_every_n_years': [i for i in range(4, 8)],\n",
    "    'cost_of_living_raise': [i/100 for i in range(1, 4)],\n",
    "    'promo_raise': [i/100 for i in range(10, 25, 5)],\n",
    "    'savings_rate': [i/100 for i in range(10, 50, 10)],\n",
    "    'interest_rate': [i/100 for i in range(3, 8)],\n",
    "    'desired_cash': [i * 100000 for i in range(10, 26, 5)]\n",
    "}"
   ]
  },
  {
   "cell_type": "code",
   "execution_count": 18,
   "metadata": {},
   "outputs": [
    {
     "name": "stderr",
     "output_type": "stream",
     "text": [
      "100%|████████████████████████████████████████████████████████████████████████████████████████████████████████████████████████████████████████████████████████████████████████████████████| 11520/11520 [00:16<00:00, 696.06it/s]\n"
     ]
    }
   ],
   "source": [
    "sa = SensitivityAnalyzer(\n",
    "    sensitivity_values,\n",
    "    years_to_retirement_separate_args,\n",
    "    result_name='Years to Retirement',\n",
    "    reverse_colors=True,\n",
    "    grid_size=3\n",
    ")"
   ]
  },
  {
   "cell_type": "markdown",
   "metadata": {},
   "source": [
    "Now we've just run the model 11,520 times with all the combinations of the inputs."
   ]
  },
  {
   "cell_type": "code",
   "execution_count": 19,
   "metadata": {},
   "outputs": [
    {
     "data": {
      "text/html": [
       "<div>\n",
       "<style scoped>\n",
       "    .dataframe tbody tr th:only-of-type {\n",
       "        vertical-align: middle;\n",
       "    }\n",
       "\n",
       "    .dataframe tbody tr th {\n",
       "        vertical-align: top;\n",
       "    }\n",
       "\n",
       "    .dataframe thead th {\n",
       "        text-align: right;\n",
       "    }\n",
       "</style>\n",
       "<table border=\"1\" class=\"dataframe\">\n",
       "  <thead>\n",
       "    <tr style=\"text-align: right;\">\n",
       "      <th></th>\n",
       "      <th>starting_salary</th>\n",
       "      <th>promos_every_n_years</th>\n",
       "      <th>cost_of_living_raise</th>\n",
       "      <th>promo_raise</th>\n",
       "      <th>savings_rate</th>\n",
       "      <th>interest_rate</th>\n",
       "      <th>desired_cash</th>\n",
       "      <th>Years to Retirement</th>\n",
       "    </tr>\n",
       "  </thead>\n",
       "  <tbody>\n",
       "    <tr>\n",
       "      <th>0</th>\n",
       "      <td>40000</td>\n",
       "      <td>4</td>\n",
       "      <td>0.01</td>\n",
       "      <td>0.1</td>\n",
       "      <td>0.1</td>\n",
       "      <td>0.03</td>\n",
       "      <td>1000000</td>\n",
       "      <td>52</td>\n",
       "    </tr>\n",
       "    <tr>\n",
       "      <th>1</th>\n",
       "      <td>40000</td>\n",
       "      <td>4</td>\n",
       "      <td>0.01</td>\n",
       "      <td>0.1</td>\n",
       "      <td>0.1</td>\n",
       "      <td>0.03</td>\n",
       "      <td>1500000</td>\n",
       "      <td>60</td>\n",
       "    </tr>\n",
       "    <tr>\n",
       "      <th>2</th>\n",
       "      <td>40000</td>\n",
       "      <td>4</td>\n",
       "      <td>0.01</td>\n",
       "      <td>0.1</td>\n",
       "      <td>0.1</td>\n",
       "      <td>0.03</td>\n",
       "      <td>2000000</td>\n",
       "      <td>66</td>\n",
       "    </tr>\n",
       "    <tr>\n",
       "      <th>3</th>\n",
       "      <td>40000</td>\n",
       "      <td>4</td>\n",
       "      <td>0.01</td>\n",
       "      <td>0.1</td>\n",
       "      <td>0.1</td>\n",
       "      <td>0.03</td>\n",
       "      <td>2500000</td>\n",
       "      <td>71</td>\n",
       "    </tr>\n",
       "    <tr>\n",
       "      <th>4</th>\n",
       "      <td>40000</td>\n",
       "      <td>4</td>\n",
       "      <td>0.01</td>\n",
       "      <td>0.1</td>\n",
       "      <td>0.1</td>\n",
       "      <td>0.04</td>\n",
       "      <td>1000000</td>\n",
       "      <td>47</td>\n",
       "    </tr>\n",
       "    <tr>\n",
       "      <th>...</th>\n",
       "      <td>...</td>\n",
       "      <td>...</td>\n",
       "      <td>...</td>\n",
       "      <td>...</td>\n",
       "      <td>...</td>\n",
       "      <td>...</td>\n",
       "      <td>...</td>\n",
       "      <td>...</td>\n",
       "    </tr>\n",
       "    <tr>\n",
       "      <th>11515</th>\n",
       "      <td>70000</td>\n",
       "      <td>7</td>\n",
       "      <td>0.03</td>\n",
       "      <td>0.2</td>\n",
       "      <td>0.4</td>\n",
       "      <td>0.06</td>\n",
       "      <td>2500000</td>\n",
       "      <td>25</td>\n",
       "    </tr>\n",
       "    <tr>\n",
       "      <th>11516</th>\n",
       "      <td>70000</td>\n",
       "      <td>7</td>\n",
       "      <td>0.03</td>\n",
       "      <td>0.2</td>\n",
       "      <td>0.4</td>\n",
       "      <td>0.07</td>\n",
       "      <td>1000000</td>\n",
       "      <td>16</td>\n",
       "    </tr>\n",
       "    <tr>\n",
       "      <th>11517</th>\n",
       "      <td>70000</td>\n",
       "      <td>7</td>\n",
       "      <td>0.03</td>\n",
       "      <td>0.2</td>\n",
       "      <td>0.4</td>\n",
       "      <td>0.07</td>\n",
       "      <td>1500000</td>\n",
       "      <td>19</td>\n",
       "    </tr>\n",
       "    <tr>\n",
       "      <th>11518</th>\n",
       "      <td>70000</td>\n",
       "      <td>7</td>\n",
       "      <td>0.03</td>\n",
       "      <td>0.2</td>\n",
       "      <td>0.4</td>\n",
       "      <td>0.07</td>\n",
       "      <td>2000000</td>\n",
       "      <td>22</td>\n",
       "    </tr>\n",
       "    <tr>\n",
       "      <th>11519</th>\n",
       "      <td>70000</td>\n",
       "      <td>7</td>\n",
       "      <td>0.03</td>\n",
       "      <td>0.2</td>\n",
       "      <td>0.4</td>\n",
       "      <td>0.07</td>\n",
       "      <td>2500000</td>\n",
       "      <td>24</td>\n",
       "    </tr>\n",
       "  </tbody>\n",
       "</table>\n",
       "<p>11520 rows × 8 columns</p>\n",
       "</div>"
      ],
      "text/plain": [
       "       starting_salary  promos_every_n_years  cost_of_living_raise  \\\n",
       "0                40000                     4                  0.01   \n",
       "1                40000                     4                  0.01   \n",
       "2                40000                     4                  0.01   \n",
       "3                40000                     4                  0.01   \n",
       "4                40000                     4                  0.01   \n",
       "...                ...                   ...                   ...   \n",
       "11515            70000                     7                  0.03   \n",
       "11516            70000                     7                  0.03   \n",
       "11517            70000                     7                  0.03   \n",
       "11518            70000                     7                  0.03   \n",
       "11519            70000                     7                  0.03   \n",
       "\n",
       "       promo_raise  savings_rate  interest_rate  desired_cash  \\\n",
       "0              0.1           0.1           0.03       1000000   \n",
       "1              0.1           0.1           0.03       1500000   \n",
       "2              0.1           0.1           0.03       2000000   \n",
       "3              0.1           0.1           0.03       2500000   \n",
       "4              0.1           0.1           0.04       1000000   \n",
       "...            ...           ...            ...           ...   \n",
       "11515          0.2           0.4           0.06       2500000   \n",
       "11516          0.2           0.4           0.07       1000000   \n",
       "11517          0.2           0.4           0.07       1500000   \n",
       "11518          0.2           0.4           0.07       2000000   \n",
       "11519          0.2           0.4           0.07       2500000   \n",
       "\n",
       "       Years to Retirement  \n",
       "0                       52  \n",
       "1                       60  \n",
       "2                       66  \n",
       "3                       71  \n",
       "4                       47  \n",
       "...                    ...  \n",
       "11515                   25  \n",
       "11516                   16  \n",
       "11517                   19  \n",
       "11518                   22  \n",
       "11519                   24  \n",
       "\n",
       "[11520 rows x 8 columns]"
      ]
     },
     "execution_count": 19,
     "metadata": {},
     "output_type": "execute_result"
    }
   ],
   "source": [
    "sa.df"
   ]
  },
  {
   "cell_type": "markdown",
   "metadata": {},
   "source": [
    "Display as hex-bin plots."
   ]
  },
  {
   "cell_type": "code",
   "execution_count": 20,
   "metadata": {},
   "outputs": [
    {
     "data": {
      "image/png": "[encoded data removed]",
      "text/plain": [
       "<Figure size 1080x2016 with 42 Axes>"
      ]
     },
     "metadata": {
      "needs_background": "light"
     },
     "output_type": "display_data"
    }
   ],
   "source": [
    "plot = sa.plot()"
   ]
  },
  {
   "cell_type": "markdown",
   "metadata": {},
   "source": [
    "Display as styled DataFrames with conditional formatting. "
   ]
  },
  {
   "cell_type": "code",
   "execution_count": 21,
   "metadata": {},
   "outputs": [
    {
     "data": {
      "text/html": [
       "<h2>Years to Retirement by starting_salary vs. promos_every_n_years</h2>"
      ],
      "text/plain": [
       "<IPython.core.display.HTML object>"
      ]
     },
     "metadata": {},
     "output_type": "display_data"
    },
    {
     "data": {
      "text/html": [
       "<style  type=\"text/css\" >\n",
       "#T_196af1e4_188d_11eb_8b05_00224d4fcf6brow0_col0{\n",
       "            background-color:  #fece7c;\n",
       "            color:  #000000;\n",
       "        }#T_196af1e4_188d_11eb_8b05_00224d4fcf6brow0_col1{\n",
       "            background-color:  #f46d43;\n",
       "            color:  #000000;\n",
       "        }#T_196af1e4_188d_11eb_8b05_00224d4fcf6brow0_col2{\n",
       "            background-color:  #d02927;\n",
       "            color:  #f1f1f1;\n",
       "        }#T_196af1e4_188d_11eb_8b05_00224d4fcf6brow0_col3{\n",
       "            background-color:  #a50026;\n",
       "            color:  #f1f1f1;\n",
       "        }#T_196af1e4_188d_11eb_8b05_00224d4fcf6brow1_col0{\n",
       "            background-color:  #cbe982;\n",
       "            color:  #000000;\n",
       "        }#T_196af1e4_188d_11eb_8b05_00224d4fcf6brow1_col1{\n",
       "            background-color:  #fff8b4;\n",
       "            color:  #000000;\n",
       "        }#T_196af1e4_188d_11eb_8b05_00224d4fcf6brow1_col2{\n",
       "            background-color:  #fed27f;\n",
       "            color:  #000000;\n",
       "        }#T_196af1e4_188d_11eb_8b05_00224d4fcf6brow1_col3{\n",
       "            background-color:  #fdad60;\n",
       "            color:  #000000;\n",
       "        }#T_196af1e4_188d_11eb_8b05_00224d4fcf6brow2_col0{\n",
       "            background-color:  #4eb15d;\n",
       "            color:  #000000;\n",
       "        }#T_196af1e4_188d_11eb_8b05_00224d4fcf6brow2_col1{\n",
       "            background-color:  #a7d96b;\n",
       "            color:  #000000;\n",
       "        }#T_196af1e4_188d_11eb_8b05_00224d4fcf6brow2_col2{\n",
       "            background-color:  #d7ee8a;\n",
       "            color:  #000000;\n",
       "        }#T_196af1e4_188d_11eb_8b05_00224d4fcf6brow2_col3{\n",
       "            background-color:  #f2faae;\n",
       "            color:  #000000;\n",
       "        }#T_196af1e4_188d_11eb_8b05_00224d4fcf6brow3_col0{\n",
       "            background-color:  #006837;\n",
       "            color:  #f1f1f1;\n",
       "        }#T_196af1e4_188d_11eb_8b05_00224d4fcf6brow3_col1{\n",
       "            background-color:  #2aa054;\n",
       "            color:  #000000;\n",
       "        }#T_196af1e4_188d_11eb_8b05_00224d4fcf6brow3_col2{\n",
       "            background-color:  #6bbf64;\n",
       "            color:  #000000;\n",
       "        }#T_196af1e4_188d_11eb_8b05_00224d4fcf6brow3_col3{\n",
       "            background-color:  #96d268;\n",
       "            color:  #000000;\n",
       "        }</style><table id=\"T_196af1e4_188d_11eb_8b05_00224d4fcf6b\" ><caption>Years to Retirement - starting_salary vs. promos_every_n_years</caption><thead>    <tr>        <th class=\"blank level0\" ></th>        <th class=\"col_heading level0 col0\" >4</th>        <th class=\"col_heading level0 col1\" >5</th>        <th class=\"col_heading level0 col2\" >6</th>        <th class=\"col_heading level0 col3\" >7</th>    </tr>    <tr>        <th class=\"index_name level0\" >starting_salary</th>        <th class=\"blank\" ></th>        <th class=\"blank\" ></th>        <th class=\"blank\" ></th>        <th class=\"blank\" ></th>    </tr></thead><tbody>\n",
       "                <tr>\n",
       "                        <th id=\"T_196af1e4_188d_11eb_8b05_00224d4fcf6blevel0_row0\" class=\"row_heading level0 row0\" >40000</th>\n",
       "                        <td id=\"T_196af1e4_188d_11eb_8b05_00224d4fcf6brow0_col0\" class=\"data row0 col0\" >35.1</td>\n",
       "                        <td id=\"T_196af1e4_188d_11eb_8b05_00224d4fcf6brow0_col1\" class=\"data row0 col1\" >36.8</td>\n",
       "                        <td id=\"T_196af1e4_188d_11eb_8b05_00224d4fcf6brow0_col2\" class=\"data row0 col2\" >38.0</td>\n",
       "                        <td id=\"T_196af1e4_188d_11eb_8b05_00224d4fcf6brow0_col3\" class=\"data row0 col3\" >38.9</td>\n",
       "            </tr>\n",
       "            <tr>\n",
       "                        <th id=\"T_196af1e4_188d_11eb_8b05_00224d4fcf6blevel0_row1\" class=\"row_heading level0 row1\" >50000</th>\n",
       "                        <td id=\"T_196af1e4_188d_11eb_8b05_00224d4fcf6brow1_col0\" class=\"data row1 col0\" >32.4</td>\n",
       "                        <td id=\"T_196af1e4_188d_11eb_8b05_00224d4fcf6brow1_col1\" class=\"data row1 col1\" >33.9</td>\n",
       "                        <td id=\"T_196af1e4_188d_11eb_8b05_00224d4fcf6brow1_col2\" class=\"data row1 col2\" >35.0</td>\n",
       "                        <td id=\"T_196af1e4_188d_11eb_8b05_00224d4fcf6brow1_col3\" class=\"data row1 col3\" >35.8</td>\n",
       "            </tr>\n",
       "            <tr>\n",
       "                        <th id=\"T_196af1e4_188d_11eb_8b05_00224d4fcf6blevel0_row2\" class=\"row_heading level0 row2\" >60000</th>\n",
       "                        <td id=\"T_196af1e4_188d_11eb_8b05_00224d4fcf6brow2_col0\" class=\"data row2 col0\" >30.2</td>\n",
       "                        <td id=\"T_196af1e4_188d_11eb_8b05_00224d4fcf6brow2_col1\" class=\"data row2 col1\" >31.6</td>\n",
       "                        <td id=\"T_196af1e4_188d_11eb_8b05_00224d4fcf6brow2_col2\" class=\"data row2 col2\" >32.6</td>\n",
       "                        <td id=\"T_196af1e4_188d_11eb_8b05_00224d4fcf6brow2_col3\" class=\"data row2 col3\" >33.3</td>\n",
       "            </tr>\n",
       "            <tr>\n",
       "                        <th id=\"T_196af1e4_188d_11eb_8b05_00224d4fcf6blevel0_row3\" class=\"row_heading level0 row3\" >70000</th>\n",
       "                        <td id=\"T_196af1e4_188d_11eb_8b05_00224d4fcf6brow3_col0\" class=\"data row3 col0\" >28.4</td>\n",
       "                        <td id=\"T_196af1e4_188d_11eb_8b05_00224d4fcf6brow3_col1\" class=\"data row3 col1\" >29.7</td>\n",
       "                        <td id=\"T_196af1e4_188d_11eb_8b05_00224d4fcf6brow3_col2\" class=\"data row3 col2\" >30.6</td>\n",
       "                        <td id=\"T_196af1e4_188d_11eb_8b05_00224d4fcf6brow3_col3\" class=\"data row3 col3\" >31.3</td>\n",
       "            </tr>\n",
       "    </tbody></table>"
      ],
      "text/plain": [
       "<IPython.core.display.HTML object>"
      ]
     },
     "metadata": {},
     "output_type": "display_data"
    },
    {
     "data": {
      "text/html": [
       "<h2>Years to Retirement by starting_salary vs. cost_of_living_raise</h2>"
      ],
      "text/plain": [
       "<IPython.core.display.HTML object>"
      ]
     },
     "metadata": {},
     "output_type": "display_data"
    },
    {
     "data": {
      "text/html": [
       "<style  type=\"text/css\" >\n",
       "#T_196db0da_188d_11eb_9e4a_00224d4fcf6brow0_col0{\n",
       "            background-color:  #a50026;\n",
       "            color:  #f1f1f1;\n",
       "        }#T_196db0da_188d_11eb_9e4a_00224d4fcf6brow0_col1{\n",
       "            background-color:  #f7814c;\n",
       "            color:  #000000;\n",
       "        }#T_196db0da_188d_11eb_9e4a_00224d4fcf6brow0_col2{\n",
       "            background-color:  #feec9f;\n",
       "            color:  #000000;\n",
       "        }#T_196db0da_188d_11eb_9e4a_00224d4fcf6brow1_col0{\n",
       "            background-color:  #fb9d59;\n",
       "            color:  #000000;\n",
       "        }#T_196db0da_188d_11eb_9e4a_00224d4fcf6brow1_col1{\n",
       "            background-color:  #fffab6;\n",
       "            color:  #000000;\n",
       "        }#T_196db0da_188d_11eb_9e4a_00224d4fcf6brow1_col2{\n",
       "            background-color:  #b5df74;\n",
       "            color:  #000000;\n",
       "        }#T_196db0da_188d_11eb_9e4a_00224d4fcf6brow2_col0{\n",
       "            background-color:  #fffdbc;\n",
       "            color:  #000000;\n",
       "        }#T_196db0da_188d_11eb_9e4a_00224d4fcf6brow2_col1{\n",
       "            background-color:  #afdd70;\n",
       "            color:  #000000;\n",
       "        }#T_196db0da_188d_11eb_9e4a_00224d4fcf6brow2_col2{\n",
       "            background-color:  #3faa59;\n",
       "            color:  #000000;\n",
       "        }#T_196db0da_188d_11eb_9e4a_00224d4fcf6brow3_col0{\n",
       "            background-color:  #b3df72;\n",
       "            color:  #000000;\n",
       "        }#T_196db0da_188d_11eb_9e4a_00224d4fcf6brow3_col1{\n",
       "            background-color:  #42ac5a;\n",
       "            color:  #000000;\n",
       "        }#T_196db0da_188d_11eb_9e4a_00224d4fcf6brow3_col2{\n",
       "            background-color:  #006837;\n",
       "            color:  #f1f1f1;\n",
       "        }</style><table id=\"T_196db0da_188d_11eb_9e4a_00224d4fcf6b\" ><caption>Years to Retirement - starting_salary vs. cost_of_living_raise</caption><thead>    <tr>        <th class=\"blank level0\" ></th>        <th class=\"col_heading level0 col0\" >0.01</th>        <th class=\"col_heading level0 col1\" >0.02</th>        <th class=\"col_heading level0 col2\" >0.03</th>    </tr>    <tr>        <th class=\"index_name level0\" >starting_salary</th>        <th class=\"blank\" ></th>        <th class=\"blank\" ></th>        <th class=\"blank\" ></th>    </tr></thead><tbody>\n",
       "                <tr>\n",
       "                        <th id=\"T_196db0da_188d_11eb_9e4a_00224d4fcf6blevel0_row0\" class=\"row_heading level0 row0\" >40000</th>\n",
       "                        <td id=\"T_196db0da_188d_11eb_9e4a_00224d4fcf6brow0_col0\" class=\"data row0 col0\" >39.8</td>\n",
       "                        <td id=\"T_196db0da_188d_11eb_9e4a_00224d4fcf6brow0_col1\" class=\"data row0 col1\" >37.1</td>\n",
       "                        <td id=\"T_196db0da_188d_11eb_9e4a_00224d4fcf6brow0_col2\" class=\"data row0 col2\" >34.7</td>\n",
       "            </tr>\n",
       "            <tr>\n",
       "                        <th id=\"T_196db0da_188d_11eb_9e4a_00224d4fcf6blevel0_row1\" class=\"row_heading level0 row1\" >50000</th>\n",
       "                        <td id=\"T_196db0da_188d_11eb_9e4a_00224d4fcf6brow1_col0\" class=\"data row1 col0\" >36.6</td>\n",
       "                        <td id=\"T_196db0da_188d_11eb_9e4a_00224d4fcf6brow1_col1\" class=\"data row1 col1\" >34.2</td>\n",
       "                        <td id=\"T_196db0da_188d_11eb_9e4a_00224d4fcf6brow1_col2\" class=\"data row1 col2\" >32.0</td>\n",
       "            </tr>\n",
       "            <tr>\n",
       "                        <th id=\"T_196db0da_188d_11eb_9e4a_00224d4fcf6blevel0_row2\" class=\"row_heading level0 row2\" >60000</th>\n",
       "                        <td id=\"T_196db0da_188d_11eb_9e4a_00224d4fcf6brow2_col0\" class=\"data row2 col0\" >34.0</td>\n",
       "                        <td id=\"T_196db0da_188d_11eb_9e4a_00224d4fcf6brow2_col1\" class=\"data row2 col1\" >31.9</td>\n",
       "                        <td id=\"T_196db0da_188d_11eb_9e4a_00224d4fcf6brow2_col2\" class=\"data row2 col2\" >29.9</td>\n",
       "            </tr>\n",
       "            <tr>\n",
       "                        <th id=\"T_196db0da_188d_11eb_9e4a_00224d4fcf6blevel0_row3\" class=\"row_heading level0 row3\" >70000</th>\n",
       "                        <td id=\"T_196db0da_188d_11eb_9e4a_00224d4fcf6brow3_col0\" class=\"data row3 col0\" >32.0</td>\n",
       "                        <td id=\"T_196db0da_188d_11eb_9e4a_00224d4fcf6brow3_col1\" class=\"data row3 col1\" >29.9</td>\n",
       "                        <td id=\"T_196db0da_188d_11eb_9e4a_00224d4fcf6brow3_col2\" class=\"data row3 col2\" >28.2</td>\n",
       "            </tr>\n",
       "    </tbody></table>"
      ],
      "text/plain": [
       "<IPython.core.display.HTML object>"
      ]
     },
     "metadata": {},
     "output_type": "display_data"
    },
    {
     "data": {
      "text/html": [
       "<h2>Years to Retirement by starting_salary vs. promo_raise</h2>"
      ],
      "text/plain": [
       "<IPython.core.display.HTML object>"
      ]
     },
     "metadata": {},
     "output_type": "display_data"
    },
    {
     "data": {
      "text/html": [
       "<style  type=\"text/css\" >\n",
       "#T_196fd37a_188d_11eb_9981_00224d4fcf6brow0_col0{\n",
       "            background-color:  #a50026;\n",
       "            color:  #f1f1f1;\n",
       "        }#T_196fd37a_188d_11eb_9981_00224d4fcf6brow0_col1{\n",
       "            background-color:  #f26841;\n",
       "            color:  #000000;\n",
       "        }#T_196fd37a_188d_11eb_9981_00224d4fcf6brow0_col2{\n",
       "            background-color:  #fecc7b;\n",
       "            color:  #000000;\n",
       "        }#T_196fd37a_188d_11eb_9981_00224d4fcf6brow1_col0{\n",
       "            background-color:  #fdaf62;\n",
       "            color:  #000000;\n",
       "        }#T_196fd37a_188d_11eb_9981_00224d4fcf6brow1_col1{\n",
       "            background-color:  #fff6b0;\n",
       "            color:  #000000;\n",
       "        }#T_196fd37a_188d_11eb_9981_00224d4fcf6brow1_col2{\n",
       "            background-color:  #cdea83;\n",
       "            color:  #000000;\n",
       "        }#T_196fd37a_188d_11eb_9981_00224d4fcf6brow2_col0{\n",
       "            background-color:  #eff8aa;\n",
       "            color:  #000000;\n",
       "        }#T_196fd37a_188d_11eb_9981_00224d4fcf6brow2_col1{\n",
       "            background-color:  #a9da6c;\n",
       "            color:  #000000;\n",
       "        }#T_196fd37a_188d_11eb_9981_00224d4fcf6brow2_col2{\n",
       "            background-color:  #4eb15d;\n",
       "            color:  #000000;\n",
       "        }#T_196fd37a_188d_11eb_9981_00224d4fcf6brow3_col0{\n",
       "            background-color:  #8ecf67;\n",
       "            color:  #000000;\n",
       "        }#T_196fd37a_188d_11eb_9981_00224d4fcf6brow3_col1{\n",
       "            background-color:  #2aa054;\n",
       "            color:  #000000;\n",
       "        }#T_196fd37a_188d_11eb_9981_00224d4fcf6brow3_col2{\n",
       "            background-color:  #006837;\n",
       "            color:  #f1f1f1;\n",
       "        }</style><table id=\"T_196fd37a_188d_11eb_9981_00224d4fcf6b\" ><caption>Years to Retirement - starting_salary vs. promo_raise</caption><thead>    <tr>        <th class=\"blank level0\" ></th>        <th class=\"col_heading level0 col0\" >0.1</th>        <th class=\"col_heading level0 col1\" >0.15</th>        <th class=\"col_heading level0 col2\" >0.2</th>    </tr>    <tr>        <th class=\"index_name level0\" >starting_salary</th>        <th class=\"blank\" ></th>        <th class=\"blank\" ></th>        <th class=\"blank\" ></th>    </tr></thead><tbody>\n",
       "                <tr>\n",
       "                        <th id=\"T_196fd37a_188d_11eb_9981_00224d4fcf6blevel0_row0\" class=\"row_heading level0 row0\" >40000</th>\n",
       "                        <td id=\"T_196fd37a_188d_11eb_9981_00224d4fcf6brow0_col0\" class=\"data row0 col0\" >39.1</td>\n",
       "                        <td id=\"T_196fd37a_188d_11eb_9981_00224d4fcf6brow0_col1\" class=\"data row0 col1\" >37.1</td>\n",
       "                        <td id=\"T_196fd37a_188d_11eb_9981_00224d4fcf6brow0_col2\" class=\"data row0 col2\" >35.4</td>\n",
       "            </tr>\n",
       "            <tr>\n",
       "                        <th id=\"T_196fd37a_188d_11eb_9981_00224d4fcf6blevel0_row1\" class=\"row_heading level0 row1\" >50000</th>\n",
       "                        <td id=\"T_196fd37a_188d_11eb_9981_00224d4fcf6brow1_col0\" class=\"data row1 col0\" >36.0</td>\n",
       "                        <td id=\"T_196fd37a_188d_11eb_9981_00224d4fcf6brow1_col1\" class=\"data row1 col1\" >34.2</td>\n",
       "                        <td id=\"T_196fd37a_188d_11eb_9981_00224d4fcf6brow1_col2\" class=\"data row1 col2\" >32.6</td>\n",
       "            </tr>\n",
       "            <tr>\n",
       "                        <th id=\"T_196fd37a_188d_11eb_9981_00224d4fcf6blevel0_row2\" class=\"row_heading level0 row2\" >60000</th>\n",
       "                        <td id=\"T_196fd37a_188d_11eb_9981_00224d4fcf6brow2_col0\" class=\"data row2 col0\" >33.5</td>\n",
       "                        <td id=\"T_196fd37a_188d_11eb_9981_00224d4fcf6brow2_col1\" class=\"data row2 col1\" >31.9</td>\n",
       "                        <td id=\"T_196fd37a_188d_11eb_9981_00224d4fcf6brow2_col2\" class=\"data row2 col2\" >30.5</td>\n",
       "            </tr>\n",
       "            <tr>\n",
       "                        <th id=\"T_196fd37a_188d_11eb_9981_00224d4fcf6blevel0_row3\" class=\"row_heading level0 row3\" >70000</th>\n",
       "                        <td id=\"T_196fd37a_188d_11eb_9981_00224d4fcf6brow3_col0\" class=\"data row3 col0\" >31.4</td>\n",
       "                        <td id=\"T_196fd37a_188d_11eb_9981_00224d4fcf6brow3_col1\" class=\"data row3 col1\" >30.0</td>\n",
       "                        <td id=\"T_196fd37a_188d_11eb_9981_00224d4fcf6brow3_col2\" class=\"data row3 col2\" >28.7</td>\n",
       "            </tr>\n",
       "    </tbody></table>"
      ],
      "text/plain": [
       "<IPython.core.display.HTML object>"
      ]
     },
     "metadata": {},
     "output_type": "display_data"
    },
    {
     "data": {
      "text/html": [
       "<h2>Years to Retirement by starting_salary vs. savings_rate</h2>"
      ],
      "text/plain": [
       "<IPython.core.display.HTML object>"
      ]
     },
     "metadata": {},
     "output_type": "display_data"
    },
    {
     "data": {
      "text/html": [
       "<style  type=\"text/css\" >\n",
       "#T_19726b52_188d_11eb_a5f7_00224d4fcf6brow0_col0{\n",
       "            background-color:  #a50026;\n",
       "            color:  #f1f1f1;\n",
       "        }#T_19726b52_188d_11eb_a5f7_00224d4fcf6brow0_col1{\n",
       "            background-color:  #feda86;\n",
       "            color:  #000000;\n",
       "        }#T_19726b52_188d_11eb_a5f7_00224d4fcf6brow0_col2,#T_19726b52_188d_11eb_a5f7_00224d4fcf6brow2_col1{\n",
       "            background-color:  #d9ef8b;\n",
       "            color:  #000000;\n",
       "        }#T_19726b52_188d_11eb_a5f7_00224d4fcf6brow0_col3{\n",
       "            background-color:  #89cc67;\n",
       "            color:  #000000;\n",
       "        }#T_19726b52_188d_11eb_a5f7_00224d4fcf6brow1_col0{\n",
       "            background-color:  #de402e;\n",
       "            color:  #f1f1f1;\n",
       "        }#T_19726b52_188d_11eb_a5f7_00224d4fcf6brow1_col1{\n",
       "            background-color:  #fdfebc;\n",
       "            color:  #000000;\n",
       "        }#T_19726b52_188d_11eb_a5f7_00224d4fcf6brow1_col2{\n",
       "            background-color:  #9dd569;\n",
       "            color:  #000000;\n",
       "        }#T_19726b52_188d_11eb_a5f7_00224d4fcf6brow1_col3{\n",
       "            background-color:  #3faa59;\n",
       "            color:  #000000;\n",
       "        }#T_19726b52_188d_11eb_a5f7_00224d4fcf6brow2_col0{\n",
       "            background-color:  #f7814c;\n",
       "            color:  #000000;\n",
       "        }#T_19726b52_188d_11eb_a5f7_00224d4fcf6brow2_col2{\n",
       "            background-color:  #66bd63;\n",
       "            color:  #000000;\n",
       "        }#T_19726b52_188d_11eb_a5f7_00224d4fcf6brow2_col3{\n",
       "            background-color:  #118848;\n",
       "            color:  #000000;\n",
       "        }#T_19726b52_188d_11eb_a5f7_00224d4fcf6brow3_col0{\n",
       "            background-color:  #fdb567;\n",
       "            color:  #000000;\n",
       "        }#T_19726b52_188d_11eb_a5f7_00224d4fcf6brow3_col1{\n",
       "            background-color:  #b1de71;\n",
       "            color:  #000000;\n",
       "        }#T_19726b52_188d_11eb_a5f7_00224d4fcf6brow3_col2{\n",
       "            background-color:  #2da155;\n",
       "            color:  #000000;\n",
       "        }#T_19726b52_188d_11eb_a5f7_00224d4fcf6brow3_col3{\n",
       "            background-color:  #006837;\n",
       "            color:  #f1f1f1;\n",
       "        }</style><table id=\"T_19726b52_188d_11eb_a5f7_00224d4fcf6b\" ><caption>Years to Retirement - starting_salary vs. savings_rate</caption><thead>    <tr>        <th class=\"blank level0\" ></th>        <th class=\"col_heading level0 col0\" >0.1</th>        <th class=\"col_heading level0 col1\" >0.2</th>        <th class=\"col_heading level0 col2\" >0.3</th>        <th class=\"col_heading level0 col3\" >0.4</th>    </tr>    <tr>        <th class=\"index_name level0\" >starting_salary</th>        <th class=\"blank\" ></th>        <th class=\"blank\" ></th>        <th class=\"blank\" ></th>        <th class=\"blank\" ></th>    </tr></thead><tbody>\n",
       "                <tr>\n",
       "                        <th id=\"T_19726b52_188d_11eb_a5f7_00224d4fcf6blevel0_row0\" class=\"row_heading level0 row0\" >40000</th>\n",
       "                        <td id=\"T_19726b52_188d_11eb_a5f7_00224d4fcf6brow0_col0\" class=\"data row0 col0\" >48.1</td>\n",
       "                        <td id=\"T_19726b52_188d_11eb_a5f7_00224d4fcf6brow0_col1\" class=\"data row0 col1\" >38.3</td>\n",
       "                        <td id=\"T_19726b52_188d_11eb_a5f7_00224d4fcf6brow0_col2\" class=\"data row0 col2\" >33.0</td>\n",
       "                        <td id=\"T_19726b52_188d_11eb_a5f7_00224d4fcf6brow0_col3\" class=\"data row0 col3\" >29.3</td>\n",
       "            </tr>\n",
       "            <tr>\n",
       "                        <th id=\"T_19726b52_188d_11eb_a5f7_00224d4fcf6blevel0_row1\" class=\"row_heading level0 row1\" >50000</th>\n",
       "                        <td id=\"T_19726b52_188d_11eb_a5f7_00224d4fcf6brow1_col0\" class=\"data row1 col0\" >44.9</td>\n",
       "                        <td id=\"T_19726b52_188d_11eb_a5f7_00224d4fcf6brow1_col1\" class=\"data row1 col1\" >35.3</td>\n",
       "                        <td id=\"T_19726b52_188d_11eb_a5f7_00224d4fcf6brow1_col2\" class=\"data row1 col2\" >30.1</td>\n",
       "                        <td id=\"T_19726b52_188d_11eb_a5f7_00224d4fcf6brow1_col3\" class=\"data row1 col3\" >26.7</td>\n",
       "            </tr>\n",
       "            <tr>\n",
       "                        <th id=\"T_19726b52_188d_11eb_a5f7_00224d4fcf6blevel0_row2\" class=\"row_heading level0 row2\" >60000</th>\n",
       "                        <td id=\"T_19726b52_188d_11eb_a5f7_00224d4fcf6brow2_col0\" class=\"data row2 col0\" >42.3</td>\n",
       "                        <td id=\"T_19726b52_188d_11eb_a5f7_00224d4fcf6brow2_col1\" class=\"data row2 col1\" >33.0</td>\n",
       "                        <td id=\"T_19726b52_188d_11eb_a5f7_00224d4fcf6brow2_col2\" class=\"data row2 col2\" >27.9</td>\n",
       "                        <td id=\"T_19726b52_188d_11eb_a5f7_00224d4fcf6brow2_col3\" class=\"data row2 col3\" >24.6</td>\n",
       "            </tr>\n",
       "            <tr>\n",
       "                        <th id=\"T_19726b52_188d_11eb_a5f7_00224d4fcf6blevel0_row3\" class=\"row_heading level0 row3\" >70000</th>\n",
       "                        <td id=\"T_19726b52_188d_11eb_a5f7_00224d4fcf6brow3_col0\" class=\"data row3 col0\" >40.2</td>\n",
       "                        <td id=\"T_19726b52_188d_11eb_a5f7_00224d4fcf6brow3_col1\" class=\"data row3 col1\" >31.0</td>\n",
       "                        <td id=\"T_19726b52_188d_11eb_a5f7_00224d4fcf6brow3_col2\" class=\"data row3 col2\" >26.1</td>\n",
       "                        <td id=\"T_19726b52_188d_11eb_a5f7_00224d4fcf6brow3_col3\" class=\"data row3 col3\" >22.9</td>\n",
       "            </tr>\n",
       "    </tbody></table>"
      ],
      "text/plain": [
       "<IPython.core.display.HTML object>"
      ]
     },
     "metadata": {},
     "output_type": "display_data"
    },
    {
     "data": {
      "text/html": [
       "<h2>Years to Retirement by starting_salary vs. interest_rate</h2>"
      ],
      "text/plain": [
       "<IPython.core.display.HTML object>"
      ]
     },
     "metadata": {},
     "output_type": "display_data"
    },
    {
     "data": {
      "text/html": [
       "<style  type=\"text/css\" >\n",
       "#T_19788562_188d_11eb_b8f6_00224d4fcf6brow0_col0{\n",
       "            background-color:  #a50026;\n",
       "            color:  #f1f1f1;\n",
       "        }#T_19788562_188d_11eb_b8f6_00224d4fcf6brow0_col1{\n",
       "            background-color:  #ef633f;\n",
       "            color:  #000000;\n",
       "        }#T_19788562_188d_11eb_b8f6_00224d4fcf6brow0_col2{\n",
       "            background-color:  #fdc372;\n",
       "            color:  #000000;\n",
       "        }#T_19788562_188d_11eb_b8f6_00224d4fcf6brow0_col3{\n",
       "            background-color:  #fffcba;\n",
       "            color:  #000000;\n",
       "        }#T_19788562_188d_11eb_b8f6_00224d4fcf6brow0_col4{\n",
       "            background-color:  #d1ec86;\n",
       "            color:  #000000;\n",
       "        }#T_19788562_188d_11eb_b8f6_00224d4fcf6brow1_col0{\n",
       "            background-color:  #f67c4a;\n",
       "            color:  #000000;\n",
       "        }#T_19788562_188d_11eb_b8f6_00224d4fcf6brow1_col1{\n",
       "            background-color:  #feda86;\n",
       "            color:  #000000;\n",
       "        }#T_19788562_188d_11eb_b8f6_00224d4fcf6brow1_col2{\n",
       "            background-color:  #f4fab0;\n",
       "            color:  #000000;\n",
       "        }#T_19788562_188d_11eb_b8f6_00224d4fcf6brow1_col3{\n",
       "            background-color:  #bbe278;\n",
       "            color:  #000000;\n",
       "        }#T_19788562_188d_11eb_b8f6_00224d4fcf6brow1_col4{\n",
       "            background-color:  #78c565;\n",
       "            color:  #000000;\n",
       "        }#T_19788562_188d_11eb_b8f6_00224d4fcf6brow2_col0{\n",
       "            background-color:  #fee08b;\n",
       "            color:  #000000;\n",
       "        }#T_19788562_188d_11eb_b8f6_00224d4fcf6brow2_col1{\n",
       "            background-color:  #ecf7a6;\n",
       "            color:  #000000;\n",
       "        }#T_19788562_188d_11eb_b8f6_00224d4fcf6brow2_col2{\n",
       "            background-color:  #b1de71;\n",
       "            color:  #000000;\n",
       "        }#T_19788562_188d_11eb_b8f6_00224d4fcf6brow2_col3{\n",
       "            background-color:  #69be63;\n",
       "            color:  #000000;\n",
       "        }#T_19788562_188d_11eb_b8f6_00224d4fcf6brow2_col4{\n",
       "            background-color:  #1b9950;\n",
       "            color:  #000000;\n",
       "        }#T_19788562_188d_11eb_b8f6_00224d4fcf6brow3_col0{\n",
       "            background-color:  #eef8a8;\n",
       "            color:  #000000;\n",
       "        }#T_19788562_188d_11eb_b8f6_00224d4fcf6brow3_col1{\n",
       "            background-color:  #afdd70;\n",
       "            color:  #000000;\n",
       "        }#T_19788562_188d_11eb_b8f6_00224d4fcf6brow3_col2{\n",
       "            background-color:  #63bc62;\n",
       "            color:  #000000;\n",
       "        }#T_19788562_188d_11eb_b8f6_00224d4fcf6brow3_col3{\n",
       "            background-color:  #17934e;\n",
       "            color:  #000000;\n",
       "        }#T_19788562_188d_11eb_b8f6_00224d4fcf6brow3_col4{\n",
       "            background-color:  #006837;\n",
       "            color:  #f1f1f1;\n",
       "        }</style><table id=\"T_19788562_188d_11eb_b8f6_00224d4fcf6b\" ><caption>Years to Retirement - starting_salary vs. interest_rate</caption><thead>    <tr>        <th class=\"blank level0\" ></th>        <th class=\"col_heading level0 col0\" >0.03</th>        <th class=\"col_heading level0 col1\" >0.04</th>        <th class=\"col_heading level0 col2\" >0.05</th>        <th class=\"col_heading level0 col3\" >0.06</th>        <th class=\"col_heading level0 col4\" >0.07</th>    </tr>    <tr>        <th class=\"index_name level0\" >starting_salary</th>        <th class=\"blank\" ></th>        <th class=\"blank\" ></th>        <th class=\"blank\" ></th>        <th class=\"blank\" ></th>        <th class=\"blank\" ></th>    </tr></thead><tbody>\n",
       "                <tr>\n",
       "                        <th id=\"T_19788562_188d_11eb_b8f6_00224d4fcf6blevel0_row0\" class=\"row_heading level0 row0\" >40000</th>\n",
       "                        <td id=\"T_19788562_188d_11eb_b8f6_00224d4fcf6brow0_col0\" class=\"data row0 col0\" >42.3</td>\n",
       "                        <td id=\"T_19788562_188d_11eb_b8f6_00224d4fcf6brow0_col1\" class=\"data row0 col1\" >39.4</td>\n",
       "                        <td id=\"T_19788562_188d_11eb_b8f6_00224d4fcf6brow0_col2\" class=\"data row0 col2\" >36.9</td>\n",
       "                        <td id=\"T_19788562_188d_11eb_b8f6_00224d4fcf6brow0_col3\" class=\"data row0 col3\" >34.7</td>\n",
       "                        <td id=\"T_19788562_188d_11eb_b8f6_00224d4fcf6brow0_col4\" class=\"data row0 col4\" >32.7</td>\n",
       "            </tr>\n",
       "            <tr>\n",
       "                        <th id=\"T_19788562_188d_11eb_b8f6_00224d4fcf6blevel0_row1\" class=\"row_heading level0 row1\" >50000</th>\n",
       "                        <td id=\"T_19788562_188d_11eb_b8f6_00224d4fcf6brow1_col0\" class=\"data row1 col0\" >38.8</td>\n",
       "                        <td id=\"T_19788562_188d_11eb_b8f6_00224d4fcf6brow1_col1\" class=\"data row1 col1\" >36.2</td>\n",
       "                        <td id=\"T_19788562_188d_11eb_b8f6_00224d4fcf6brow1_col2\" class=\"data row1 col2\" >34.0</td>\n",
       "                        <td id=\"T_19788562_188d_11eb_b8f6_00224d4fcf6brow1_col3\" class=\"data row1 col3\" >32.0</td>\n",
       "                        <td id=\"T_19788562_188d_11eb_b8f6_00224d4fcf6brow1_col4\" class=\"data row1 col4\" >30.3</td>\n",
       "            </tr>\n",
       "            <tr>\n",
       "                        <th id=\"T_19788562_188d_11eb_b8f6_00224d4fcf6blevel0_row2\" class=\"row_heading level0 row2\" >60000</th>\n",
       "                        <td id=\"T_19788562_188d_11eb_b8f6_00224d4fcf6brow2_col0\" class=\"data row2 col0\" >36.0</td>\n",
       "                        <td id=\"T_19788562_188d_11eb_b8f6_00224d4fcf6brow2_col1\" class=\"data row2 col1\" >33.7</td>\n",
       "                        <td id=\"T_19788562_188d_11eb_b8f6_00224d4fcf6brow2_col2\" class=\"data row2 col2\" >31.7</td>\n",
       "                        <td id=\"T_19788562_188d_11eb_b8f6_00224d4fcf6brow2_col3\" class=\"data row2 col3\" >29.9</td>\n",
       "                        <td id=\"T_19788562_188d_11eb_b8f6_00224d4fcf6brow2_col4\" class=\"data row2 col4\" >28.3</td>\n",
       "            </tr>\n",
       "            <tr>\n",
       "                        <th id=\"T_19788562_188d_11eb_b8f6_00224d4fcf6blevel0_row3\" class=\"row_heading level0 row3\" >70000</th>\n",
       "                        <td id=\"T_19788562_188d_11eb_b8f6_00224d4fcf6brow3_col0\" class=\"data row3 col0\" >33.8</td>\n",
       "                        <td id=\"T_19788562_188d_11eb_b8f6_00224d4fcf6brow3_col1\" class=\"data row3 col1\" >31.7</td>\n",
       "                        <td id=\"T_19788562_188d_11eb_b8f6_00224d4fcf6brow3_col2\" class=\"data row3 col2\" >29.8</td>\n",
       "                        <td id=\"T_19788562_188d_11eb_b8f6_00224d4fcf6brow3_col3\" class=\"data row3 col3\" >28.2</td>\n",
       "                        <td id=\"T_19788562_188d_11eb_b8f6_00224d4fcf6brow3_col4\" class=\"data row3 col4\" >26.7</td>\n",
       "            </tr>\n",
       "    </tbody></table>"
      ],
      "text/plain": [
       "<IPython.core.display.HTML object>"
      ]
     },
     "metadata": {},
     "output_type": "display_data"
    },
    {
     "data": {
      "text/html": [
       "<h2>Years to Retirement by starting_salary vs. desired_cash</h2>"
      ],
      "text/plain": [
       "<IPython.core.display.HTML object>"
      ]
     },
     "metadata": {},
     "output_type": "display_data"
    },
    {
     "data": {
      "text/html": [
       "<style  type=\"text/css\" >\n",
       "#T_197c077a_188d_11eb_803f_00224d4fcf6brow0_col0,#T_197c077a_188d_11eb_803f_00224d4fcf6brow2_col1{\n",
       "            background-color:  #bfe47a;\n",
       "            color:  #000000;\n",
       "        }#T_197c077a_188d_11eb_803f_00224d4fcf6brow0_col1{\n",
       "            background-color:  #fed27f;\n",
       "            color:  #000000;\n",
       "        }#T_197c077a_188d_11eb_803f_00224d4fcf6brow0_col2,#T_197c077a_188d_11eb_803f_00224d4fcf6brow1_col3{\n",
       "            background-color:  #ea5739;\n",
       "            color:  #000000;\n",
       "        }#T_197c077a_188d_11eb_803f_00224d4fcf6brow0_col3{\n",
       "            background-color:  #a50026;\n",
       "            color:  #f1f1f1;\n",
       "        }#T_197c077a_188d_11eb_803f_00224d4fcf6brow1_col0{\n",
       "            background-color:  #6bbf64;\n",
       "            color:  #000000;\n",
       "        }#T_197c077a_188d_11eb_803f_00224d4fcf6brow1_col1{\n",
       "            background-color:  #f5fbb2;\n",
       "            color:  #000000;\n",
       "        }#T_197c077a_188d_11eb_803f_00224d4fcf6brow1_col2{\n",
       "            background-color:  #fdbb6c;\n",
       "            color:  #000000;\n",
       "        }#T_197c077a_188d_11eb_803f_00224d4fcf6brow2_col0{\n",
       "            background-color:  #17934e;\n",
       "            color:  #000000;\n",
       "        }#T_197c077a_188d_11eb_803f_00224d4fcf6brow2_col2{\n",
       "            background-color:  #fff1a8;\n",
       "            color:  #000000;\n",
       "        }#T_197c077a_188d_11eb_803f_00224d4fcf6brow2_col3{\n",
       "            background-color:  #fdad60;\n",
       "            color:  #000000;\n",
       "        }#T_197c077a_188d_11eb_803f_00224d4fcf6brow3_col0{\n",
       "            background-color:  #006837;\n",
       "            color:  #f1f1f1;\n",
       "        }#T_197c077a_188d_11eb_803f_00224d4fcf6brow3_col1{\n",
       "            background-color:  #87cb67;\n",
       "            color:  #000000;\n",
       "        }#T_197c077a_188d_11eb_803f_00224d4fcf6brow3_col2{\n",
       "            background-color:  #e8f59f;\n",
       "            color:  #000000;\n",
       "        }#T_197c077a_188d_11eb_803f_00224d4fcf6brow3_col3{\n",
       "            background-color:  #fee28f;\n",
       "            color:  #000000;\n",
       "        }</style><table id=\"T_197c077a_188d_11eb_803f_00224d4fcf6b\" ><caption>Years to Retirement - starting_salary vs. desired_cash</caption><thead>    <tr>        <th class=\"blank level0\" ></th>        <th class=\"col_heading level0 col0\" >1000000</th>        <th class=\"col_heading level0 col1\" >1500000</th>        <th class=\"col_heading level0 col2\" >2000000</th>        <th class=\"col_heading level0 col3\" >2500000</th>    </tr>    <tr>        <th class=\"index_name level0\" >starting_salary</th>        <th class=\"blank\" ></th>        <th class=\"blank\" ></th>        <th class=\"blank\" ></th>        <th class=\"blank\" ></th>    </tr></thead><tbody>\n",
       "                <tr>\n",
       "                        <th id=\"T_197c077a_188d_11eb_803f_00224d4fcf6blevel0_row0\" class=\"row_heading level0 row0\" >40000</th>\n",
       "                        <td id=\"T_197c077a_188d_11eb_803f_00224d4fcf6brow0_col0\" class=\"data row0 col0\" >30.6</td>\n",
       "                        <td id=\"T_197c077a_188d_11eb_803f_00224d4fcf6brow0_col1\" class=\"data row0 col1\" >35.8</td>\n",
       "                        <td id=\"T_197c077a_188d_11eb_803f_00224d4fcf6brow0_col2\" class=\"data row0 col2\" >39.6</td>\n",
       "                        <td id=\"T_197c077a_188d_11eb_803f_00224d4fcf6brow0_col3\" class=\"data row0 col3\" >42.8</td>\n",
       "            </tr>\n",
       "            <tr>\n",
       "                        <th id=\"T_197c077a_188d_11eb_803f_00224d4fcf6blevel0_row1\" class=\"row_heading level0 row1\" >50000</th>\n",
       "                        <td id=\"T_197c077a_188d_11eb_803f_00224d4fcf6brow1_col0\" class=\"data row1 col0\" >27.9</td>\n",
       "                        <td id=\"T_197c077a_188d_11eb_803f_00224d4fcf6brow1_col1\" class=\"data row1 col1\" >32.9</td>\n",
       "                        <td id=\"T_197c077a_188d_11eb_803f_00224d4fcf6brow1_col2\" class=\"data row1 col2\" >36.6</td>\n",
       "                        <td id=\"T_197c077a_188d_11eb_803f_00224d4fcf6brow1_col3\" class=\"data row1 col3\" >39.6</td>\n",
       "            </tr>\n",
       "            <tr>\n",
       "                        <th id=\"T_197c077a_188d_11eb_803f_00224d4fcf6blevel0_row2\" class=\"row_heading level0 row2\" >60000</th>\n",
       "                        <td id=\"T_197c077a_188d_11eb_803f_00224d4fcf6brow2_col0\" class=\"data row2 col0\" >25.8</td>\n",
       "                        <td id=\"T_197c077a_188d_11eb_803f_00224d4fcf6brow2_col1\" class=\"data row2 col1\" >30.6</td>\n",
       "                        <td id=\"T_197c077a_188d_11eb_803f_00224d4fcf6brow2_col2\" class=\"data row2 col2\" >34.2</td>\n",
       "                        <td id=\"T_197c077a_188d_11eb_803f_00224d4fcf6brow2_col3\" class=\"data row2 col3\" >37.2</td>\n",
       "            </tr>\n",
       "            <tr>\n",
       "                        <th id=\"T_197c077a_188d_11eb_803f_00224d4fcf6blevel0_row3\" class=\"row_heading level0 row3\" >70000</th>\n",
       "                        <td id=\"T_197c077a_188d_11eb_803f_00224d4fcf6brow3_col0\" class=\"data row3 col0\" >24.0</td>\n",
       "                        <td id=\"T_197c077a_188d_11eb_803f_00224d4fcf6brow3_col1\" class=\"data row3 col1\" >28.7</td>\n",
       "                        <td id=\"T_197c077a_188d_11eb_803f_00224d4fcf6brow3_col2\" class=\"data row3 col2\" >32.3</td>\n",
       "                        <td id=\"T_197c077a_188d_11eb_803f_00224d4fcf6brow3_col3\" class=\"data row3 col3\" >35.1</td>\n",
       "            </tr>\n",
       "    </tbody></table>"
      ],
      "text/plain": [
       "<IPython.core.display.HTML object>"
      ]
     },
     "metadata": {},
     "output_type": "display_data"
    },
    {
     "data": {
      "text/html": [
       "<h2>Years to Retirement by promos_every_n_years vs. cost_of_living_raise</h2>"
      ],
      "text/plain": [
       "<IPython.core.display.HTML object>"
      ]
     },
     "metadata": {},
     "output_type": "display_data"
    },
    {
     "data": {
      "text/html": [
       "<style  type=\"text/css\" >\n",
       "#T_197e9f62_188d_11eb_81cb_00224d4fcf6brow0_col0{\n",
       "            background-color:  #fff8b4;\n",
       "            color:  #000000;\n",
       "        }#T_197e9f62_188d_11eb_81cb_00224d4fcf6brow0_col1{\n",
       "            background-color:  #82c966;\n",
       "            color:  #000000;\n",
       "        }#T_197e9f62_188d_11eb_81cb_00224d4fcf6brow0_col2{\n",
       "            background-color:  #006837;\n",
       "            color:  #f1f1f1;\n",
       "        }#T_197e9f62_188d_11eb_81cb_00224d4fcf6brow1_col0{\n",
       "            background-color:  #fa9656;\n",
       "            color:  #000000;\n",
       "        }#T_197e9f62_188d_11eb_81cb_00224d4fcf6brow1_col1{\n",
       "            background-color:  #e6f59d;\n",
       "            color:  #000000;\n",
       "        }#T_197e9f62_188d_11eb_81cb_00224d4fcf6brow1_col2{\n",
       "            background-color:  #4eb15d;\n",
       "            color:  #000000;\n",
       "        }#T_197e9f62_188d_11eb_81cb_00224d4fcf6brow2_col0{\n",
       "            background-color:  #db382b;\n",
       "            color:  #f1f1f1;\n",
       "        }#T_197e9f62_188d_11eb_81cb_00224d4fcf6brow2_col1{\n",
       "            background-color:  #fee999;\n",
       "            color:  #000000;\n",
       "        }#T_197e9f62_188d_11eb_81cb_00224d4fcf6brow2_col2{\n",
       "            background-color:  #a2d76a;\n",
       "            color:  #000000;\n",
       "        }#T_197e9f62_188d_11eb_81cb_00224d4fcf6brow3_col0{\n",
       "            background-color:  #a50026;\n",
       "            color:  #f1f1f1;\n",
       "        }#T_197e9f62_188d_11eb_81cb_00224d4fcf6brow3_col1{\n",
       "            background-color:  #fdb96a;\n",
       "            color:  #000000;\n",
       "        }#T_197e9f62_188d_11eb_81cb_00224d4fcf6brow3_col2{\n",
       "            background-color:  #d1ec86;\n",
       "            color:  #000000;\n",
       "        }</style><table id=\"T_197e9f62_188d_11eb_81cb_00224d4fcf6b\" ><caption>Years to Retirement - promos_every_n_years vs. cost_of_living_raise</caption><thead>    <tr>        <th class=\"blank level0\" ></th>        <th class=\"col_heading level0 col0\" >0.01</th>        <th class=\"col_heading level0 col1\" >0.02</th>        <th class=\"col_heading level0 col2\" >0.03</th>    </tr>    <tr>        <th class=\"index_name level0\" >promos_every_n_years</th>        <th class=\"blank\" ></th>        <th class=\"blank\" ></th>        <th class=\"blank\" ></th>    </tr></thead><tbody>\n",
       "                <tr>\n",
       "                        <th id=\"T_197e9f62_188d_11eb_81cb_00224d4fcf6blevel0_row0\" class=\"row_heading level0 row0\" >4</th>\n",
       "                        <td id=\"T_197e9f62_188d_11eb_81cb_00224d4fcf6brow0_col0\" class=\"data row0 col0\" >33.6</td>\n",
       "                        <td id=\"T_197e9f62_188d_11eb_81cb_00224d4fcf6brow0_col1\" class=\"data row0 col1\" >31.4</td>\n",
       "                        <td id=\"T_197e9f62_188d_11eb_81cb_00224d4fcf6brow0_col2\" class=\"data row0 col2\" >29.6</td>\n",
       "            </tr>\n",
       "            <tr>\n",
       "                        <th id=\"T_197e9f62_188d_11eb_81cb_00224d4fcf6blevel0_row1\" class=\"row_heading level0 row1\" >5</th>\n",
       "                        <td id=\"T_197e9f62_188d_11eb_81cb_00224d4fcf6brow1_col0\" class=\"data row1 col0\" >35.2</td>\n",
       "                        <td id=\"T_197e9f62_188d_11eb_81cb_00224d4fcf6brow1_col1\" class=\"data row1 col1\" >32.9</td>\n",
       "                        <td id=\"T_197e9f62_188d_11eb_81cb_00224d4fcf6brow1_col2\" class=\"data row1 col2\" >30.9</td>\n",
       "            </tr>\n",
       "            <tr>\n",
       "                        <th id=\"T_197e9f62_188d_11eb_81cb_00224d4fcf6blevel0_row2\" class=\"row_heading level0 row2\" >6</th>\n",
       "                        <td id=\"T_197e9f62_188d_11eb_81cb_00224d4fcf6brow2_col0\" class=\"data row2 col0\" >36.4</td>\n",
       "                        <td id=\"T_197e9f62_188d_11eb_81cb_00224d4fcf6brow2_col1\" class=\"data row2 col1\" >34.0</td>\n",
       "                        <td id=\"T_197e9f62_188d_11eb_81cb_00224d4fcf6brow2_col2\" class=\"data row2 col2\" >31.8</td>\n",
       "            </tr>\n",
       "            <tr>\n",
       "                        <th id=\"T_197e9f62_188d_11eb_81cb_00224d4fcf6blevel0_row3\" class=\"row_heading level0 row3\" >7</th>\n",
       "                        <td id=\"T_197e9f62_188d_11eb_81cb_00224d4fcf6brow3_col0\" class=\"data row3 col0\" >37.2</td>\n",
       "                        <td id=\"T_197e9f62_188d_11eb_81cb_00224d4fcf6brow3_col1\" class=\"data row3 col1\" >34.8</td>\n",
       "                        <td id=\"T_197e9f62_188d_11eb_81cb_00224d4fcf6brow3_col2\" class=\"data row3 col2\" >32.5</td>\n",
       "            </tr>\n",
       "    </tbody></table>"
      ],
      "text/plain": [
       "<IPython.core.display.HTML object>"
      ]
     },
     "metadata": {},
     "output_type": "display_data"
    },
    {
     "data": {
      "text/html": [
       "<h2>Years to Retirement by promos_every_n_years vs. promo_raise</h2>"
      ],
      "text/plain": [
       "<IPython.core.display.HTML object>"
      ]
     },
     "metadata": {},
     "output_type": "display_data"
    },
    {
     "data": {
      "text/html": [
       "<style  type=\"text/css\" >\n",
       "#T_19809b02_188d_11eb_aa0d_00224d4fcf6brow0_col0,#T_19809b02_188d_11eb_aa0d_00224d4fcf6brow3_col2{\n",
       "            background-color:  #fed683;\n",
       "            color:  #000000;\n",
       "        }#T_19809b02_188d_11eb_aa0d_00224d4fcf6brow0_col1{\n",
       "            background-color:  #9dd569;\n",
       "            color:  #000000;\n",
       "        }#T_19809b02_188d_11eb_aa0d_00224d4fcf6brow0_col2{\n",
       "            background-color:  #006837;\n",
       "            color:  #f1f1f1;\n",
       "        }#T_19809b02_188d_11eb_aa0d_00224d4fcf6brow1_col0{\n",
       "            background-color:  #f57547;\n",
       "            color:  #000000;\n",
       "        }#T_19809b02_188d_11eb_aa0d_00224d4fcf6brow1_col1{\n",
       "            background-color:  #fffab6;\n",
       "            color:  #000000;\n",
       "        }#T_19809b02_188d_11eb_aa0d_00224d4fcf6brow1_col2{\n",
       "            background-color:  #96d268;\n",
       "            color:  #000000;\n",
       "        }#T_19809b02_188d_11eb_aa0d_00224d4fcf6brow2_col0{\n",
       "            background-color:  #d02927;\n",
       "            color:  #f1f1f1;\n",
       "        }#T_19809b02_188d_11eb_aa0d_00224d4fcf6brow2_col1{\n",
       "            background-color:  #fdbb6c;\n",
       "            color:  #000000;\n",
       "        }#T_19809b02_188d_11eb_aa0d_00224d4fcf6brow2_col2{\n",
       "            background-color:  #f4fab0;\n",
       "            color:  #000000;\n",
       "        }#T_19809b02_188d_11eb_aa0d_00224d4fcf6brow3_col0{\n",
       "            background-color:  #a50026;\n",
       "            color:  #f1f1f1;\n",
       "        }#T_19809b02_188d_11eb_aa0d_00224d4fcf6brow3_col1{\n",
       "            background-color:  #f46d43;\n",
       "            color:  #000000;\n",
       "        }</style><table id=\"T_19809b02_188d_11eb_aa0d_00224d4fcf6b\" ><caption>Years to Retirement - promos_every_n_years vs. promo_raise</caption><thead>    <tr>        <th class=\"blank level0\" ></th>        <th class=\"col_heading level0 col0\" >0.1</th>        <th class=\"col_heading level0 col1\" >0.15</th>        <th class=\"col_heading level0 col2\" >0.2</th>    </tr>    <tr>        <th class=\"index_name level0\" >promos_every_n_years</th>        <th class=\"blank\" ></th>        <th class=\"blank\" ></th>        <th class=\"blank\" ></th>    </tr></thead><tbody>\n",
       "                <tr>\n",
       "                        <th id=\"T_19809b02_188d_11eb_aa0d_00224d4fcf6blevel0_row0\" class=\"row_heading level0 row0\" >4</th>\n",
       "                        <td id=\"T_19809b02_188d_11eb_aa0d_00224d4fcf6brow0_col0\" class=\"data row0 col0\" >33.6</td>\n",
       "                        <td id=\"T_19809b02_188d_11eb_aa0d_00224d4fcf6brow0_col1\" class=\"data row0 col1\" >31.4</td>\n",
       "                        <td id=\"T_19809b02_188d_11eb_aa0d_00224d4fcf6brow0_col2\" class=\"data row0 col2\" >29.5</td>\n",
       "            </tr>\n",
       "            <tr>\n",
       "                        <th id=\"T_19809b02_188d_11eb_aa0d_00224d4fcf6blevel0_row1\" class=\"row_heading level0 row1\" >5</th>\n",
       "                        <td id=\"T_19809b02_188d_11eb_aa0d_00224d4fcf6brow1_col0\" class=\"data row1 col0\" >34.7</td>\n",
       "                        <td id=\"T_19809b02_188d_11eb_aa0d_00224d4fcf6brow1_col1\" class=\"data row1 col1\" >32.9</td>\n",
       "                        <td id=\"T_19809b02_188d_11eb_aa0d_00224d4fcf6brow1_col2\" class=\"data row1 col2\" >31.4</td>\n",
       "            </tr>\n",
       "            <tr>\n",
       "                        <th id=\"T_19809b02_188d_11eb_aa0d_00224d4fcf6blevel0_row2\" class=\"row_heading level0 row2\" >6</th>\n",
       "                        <td id=\"T_19809b02_188d_11eb_aa0d_00224d4fcf6brow2_col0\" class=\"data row2 col0\" >35.5</td>\n",
       "                        <td id=\"T_19809b02_188d_11eb_aa0d_00224d4fcf6brow2_col1\" class=\"data row2 col1\" >34.0</td>\n",
       "                        <td id=\"T_19809b02_188d_11eb_aa0d_00224d4fcf6brow2_col2\" class=\"data row2 col2\" >32.6</td>\n",
       "            </tr>\n",
       "            <tr>\n",
       "                        <th id=\"T_19809b02_188d_11eb_aa0d_00224d4fcf6blevel0_row3\" class=\"row_heading level0 row3\" >7</th>\n",
       "                        <td id=\"T_19809b02_188d_11eb_aa0d_00224d4fcf6brow3_col0\" class=\"data row3 col0\" >36.1</td>\n",
       "                        <td id=\"T_19809b02_188d_11eb_aa0d_00224d4fcf6brow3_col1\" class=\"data row3 col1\" >34.8</td>\n",
       "                        <td id=\"T_19809b02_188d_11eb_aa0d_00224d4fcf6brow3_col2\" class=\"data row3 col2\" >33.6</td>\n",
       "            </tr>\n",
       "    </tbody></table>"
      ],
      "text/plain": [
       "<IPython.core.display.HTML object>"
      ]
     },
     "metadata": {},
     "output_type": "display_data"
    },
    {
     "data": {
      "text/html": [
       "<h2>Years to Retirement by promos_every_n_years vs. savings_rate</h2>"
      ],
      "text/plain": [
       "<IPython.core.display.HTML object>"
      ]
     },
     "metadata": {},
     "output_type": "display_data"
    },
    {
     "data": {
      "text/html": [
       "<style  type=\"text/css\" >\n",
       "#T_1982e4b8_188d_11eb_ba83_00224d4fcf6brow0_col0{\n",
       "            background-color:  #f67a49;\n",
       "            color:  #000000;\n",
       "        }#T_1982e4b8_188d_11eb_ba83_00224d4fcf6brow0_col1{\n",
       "            background-color:  #c9e881;\n",
       "            color:  #000000;\n",
       "        }#T_1982e4b8_188d_11eb_ba83_00224d4fcf6brow0_col2{\n",
       "            background-color:  #3ca959;\n",
       "            color:  #000000;\n",
       "        }#T_1982e4b8_188d_11eb_ba83_00224d4fcf6brow0_col3{\n",
       "            background-color:  #006837;\n",
       "            color:  #f1f1f1;\n",
       "        }#T_1982e4b8_188d_11eb_ba83_00224d4fcf6brow1_col0{\n",
       "            background-color:  #dd3d2d;\n",
       "            color:  #f1f1f1;\n",
       "        }#T_1982e4b8_188d_11eb_ba83_00224d4fcf6brow1_col1{\n",
       "            background-color:  #e8f59f;\n",
       "            color:  #000000;\n",
       "        }#T_1982e4b8_188d_11eb_ba83_00224d4fcf6brow1_col2{\n",
       "            background-color:  #69be63;\n",
       "            color:  #000000;\n",
       "        }#T_1982e4b8_188d_11eb_ba83_00224d4fcf6brow1_col3{\n",
       "            background-color:  #0c7f43;\n",
       "            color:  #f1f1f1;\n",
       "        }#T_1982e4b8_188d_11eb_ba83_00224d4fcf6brow2_col0{\n",
       "            background-color:  #be1827;\n",
       "            color:  #f1f1f1;\n",
       "        }#T_1982e4b8_188d_11eb_ba83_00224d4fcf6brow2_col1{\n",
       "            background-color:  #fbfdba;\n",
       "            color:  #000000;\n",
       "        }#T_1982e4b8_188d_11eb_ba83_00224d4fcf6brow2_col2{\n",
       "            background-color:  #82c966;\n",
       "            color:  #000000;\n",
       "        }#T_1982e4b8_188d_11eb_ba83_00224d4fcf6brow2_col3{\n",
       "            background-color:  #15904c;\n",
       "            color:  #000000;\n",
       "        }#T_1982e4b8_188d_11eb_ba83_00224d4fcf6brow3_col0{\n",
       "            background-color:  #a50026;\n",
       "            color:  #f1f1f1;\n",
       "        }#T_1982e4b8_188d_11eb_ba83_00224d4fcf6brow3_col1{\n",
       "            background-color:  #fff6b0;\n",
       "            color:  #000000;\n",
       "        }#T_1982e4b8_188d_11eb_ba83_00224d4fcf6brow3_col2{\n",
       "            background-color:  #96d268;\n",
       "            color:  #000000;\n",
       "        }#T_1982e4b8_188d_11eb_ba83_00224d4fcf6brow3_col3{\n",
       "            background-color:  #1e9a51;\n",
       "            color:  #000000;\n",
       "        }</style><table id=\"T_1982e4b8_188d_11eb_ba83_00224d4fcf6b\" ><caption>Years to Retirement - promos_every_n_years vs. savings_rate</caption><thead>    <tr>        <th class=\"blank level0\" ></th>        <th class=\"col_heading level0 col0\" >0.1</th>        <th class=\"col_heading level0 col1\" >0.2</th>        <th class=\"col_heading level0 col2\" >0.3</th>        <th class=\"col_heading level0 col3\" >0.4</th>    </tr>    <tr>        <th class=\"index_name level0\" >promos_every_n_years</th>        <th class=\"blank\" ></th>        <th class=\"blank\" ></th>        <th class=\"blank\" ></th>        <th class=\"blank\" ></th>    </tr></thead><tbody>\n",
       "                <tr>\n",
       "                        <th id=\"T_1982e4b8_188d_11eb_ba83_00224d4fcf6blevel0_row0\" class=\"row_heading level0 row0\" >4</th>\n",
       "                        <td id=\"T_1982e4b8_188d_11eb_ba83_00224d4fcf6brow0_col0\" class=\"data row0 col0\" >41.2</td>\n",
       "                        <td id=\"T_1982e4b8_188d_11eb_ba83_00224d4fcf6brow0_col1\" class=\"data row0 col1\" >32.5</td>\n",
       "                        <td id=\"T_1982e4b8_188d_11eb_ba83_00224d4fcf6brow0_col2\" class=\"data row0 col2\" >27.8</td>\n",
       "                        <td id=\"T_1982e4b8_188d_11eb_ba83_00224d4fcf6brow0_col3\" class=\"data row0 col3\" >24.6</td>\n",
       "            </tr>\n",
       "            <tr>\n",
       "                        <th id=\"T_1982e4b8_188d_11eb_ba83_00224d4fcf6blevel0_row1\" class=\"row_heading level0 row1\" >5</th>\n",
       "                        <td id=\"T_1982e4b8_188d_11eb_ba83_00224d4fcf6brow1_col0\" class=\"data row1 col0\" >43.4</td>\n",
       "                        <td id=\"T_1982e4b8_188d_11eb_ba83_00224d4fcf6brow1_col1\" class=\"data row1 col1\" >34.0</td>\n",
       "                        <td id=\"T_1982e4b8_188d_11eb_ba83_00224d4fcf6brow1_col2\" class=\"data row1 col2\" >29.0</td>\n",
       "                        <td id=\"T_1982e4b8_188d_11eb_ba83_00224d4fcf6brow1_col3\" class=\"data row1 col3\" >25.6</td>\n",
       "            </tr>\n",
       "            <tr>\n",
       "                        <th id=\"T_1982e4b8_188d_11eb_ba83_00224d4fcf6blevel0_row2\" class=\"row_heading level0 row2\" >6</th>\n",
       "                        <td id=\"T_1982e4b8_188d_11eb_ba83_00224d4fcf6brow2_col0\" class=\"data row2 col0\" >44.9</td>\n",
       "                        <td id=\"T_1982e4b8_188d_11eb_ba83_00224d4fcf6brow2_col1\" class=\"data row2 col1\" >35.1</td>\n",
       "                        <td id=\"T_1982e4b8_188d_11eb_ba83_00224d4fcf6brow2_col2\" class=\"data row2 col2\" >29.9</td>\n",
       "                        <td id=\"T_1982e4b8_188d_11eb_ba83_00224d4fcf6brow2_col3\" class=\"data row2 col3\" >26.3</td>\n",
       "            </tr>\n",
       "            <tr>\n",
       "                        <th id=\"T_1982e4b8_188d_11eb_ba83_00224d4fcf6blevel0_row3\" class=\"row_heading level0 row3\" >7</th>\n",
       "                        <td id=\"T_1982e4b8_188d_11eb_ba83_00224d4fcf6brow3_col0\" class=\"data row3 col0\" >46.0</td>\n",
       "                        <td id=\"T_1982e4b8_188d_11eb_ba83_00224d4fcf6brow3_col1\" class=\"data row3 col1\" >36.0</td>\n",
       "                        <td id=\"T_1982e4b8_188d_11eb_ba83_00224d4fcf6brow3_col2\" class=\"data row3 col2\" >30.5</td>\n",
       "                        <td id=\"T_1982e4b8_188d_11eb_ba83_00224d4fcf6brow3_col3\" class=\"data row3 col3\" >26.9</td>\n",
       "            </tr>\n",
       "    </tbody></table>"
      ],
      "text/plain": [
       "<IPython.core.display.HTML object>"
      ]
     },
     "metadata": {},
     "output_type": "display_data"
    },
    {
     "data": {
      "text/html": [
       "<h2>Years to Retirement by promos_every_n_years vs. interest_rate</h2>"
      ],
      "text/plain": [
       "<IPython.core.display.HTML object>"
      ]
     },
     "metadata": {},
     "output_type": "display_data"
    },
    {
     "data": {
      "text/html": [
       "<style  type=\"text/css\" >\n",
       "#T_198555a2_188d_11eb_aa2f_00224d4fcf6brow0_col0{\n",
       "            background-color:  #fee28f;\n",
       "            color:  #000000;\n",
       "        }#T_198555a2_188d_11eb_aa2f_00224d4fcf6brow0_col1{\n",
       "            background-color:  #dff293;\n",
       "            color:  #000000;\n",
       "        }#T_198555a2_188d_11eb_aa2f_00224d4fcf6brow0_col2{\n",
       "            background-color:  #91d068;\n",
       "            color:  #000000;\n",
       "        }#T_198555a2_188d_11eb_aa2f_00224d4fcf6brow0_col3{\n",
       "            background-color:  #2aa054;\n",
       "            color:  #000000;\n",
       "        }#T_198555a2_188d_11eb_aa2f_00224d4fcf6brow0_col4{\n",
       "            background-color:  #006837;\n",
       "            color:  #f1f1f1;\n",
       "        }#T_198555a2_188d_11eb_aa2f_00224d4fcf6brow1_col0{\n",
       "            background-color:  #f7814c;\n",
       "            color:  #000000;\n",
       "        }#T_198555a2_188d_11eb_aa2f_00224d4fcf6brow1_col1{\n",
       "            background-color:  #feea9b;\n",
       "            color:  #000000;\n",
       "        }#T_198555a2_188d_11eb_aa2f_00224d4fcf6brow1_col2{\n",
       "            background-color:  #d3ec87;\n",
       "            color:  #000000;\n",
       "        }#T_198555a2_188d_11eb_aa2f_00224d4fcf6brow1_col3{\n",
       "            background-color:  #78c565;\n",
       "            color:  #000000;\n",
       "        }#T_198555a2_188d_11eb_aa2f_00224d4fcf6brow1_col4{\n",
       "            background-color:  #15904c;\n",
       "            color:  #000000;\n",
       "        }#T_198555a2_188d_11eb_aa2f_00224d4fcf6brow2_col0{\n",
       "            background-color:  #d83128;\n",
       "            color:  #f1f1f1;\n",
       "        }#T_198555a2_188d_11eb_aa2f_00224d4fcf6brow2_col1{\n",
       "            background-color:  #fdbb6c;\n",
       "            color:  #000000;\n",
       "        }#T_198555a2_188d_11eb_aa2f_00224d4fcf6brow2_col2{\n",
       "            background-color:  #f5fbb2;\n",
       "            color:  #000000;\n",
       "        }#T_198555a2_188d_11eb_aa2f_00224d4fcf6brow2_col3{\n",
       "            background-color:  #a5d86a;\n",
       "            color:  #000000;\n",
       "        }#T_198555a2_188d_11eb_aa2f_00224d4fcf6brow2_col4{\n",
       "            background-color:  #39a758;\n",
       "            color:  #000000;\n",
       "        }#T_198555a2_188d_11eb_aa2f_00224d4fcf6brow3_col0{\n",
       "            background-color:  #a50026;\n",
       "            color:  #f1f1f1;\n",
       "        }#T_198555a2_188d_11eb_aa2f_00224d4fcf6brow3_col1{\n",
       "            background-color:  #f88c51;\n",
       "            color:  #000000;\n",
       "        }#T_198555a2_188d_11eb_aa2f_00224d4fcf6brow3_col2{\n",
       "            background-color:  #fff2aa;\n",
       "            color:  #000000;\n",
       "        }#T_198555a2_188d_11eb_aa2f_00224d4fcf6brow3_col3{\n",
       "            background-color:  #bfe47a;\n",
       "            color:  #000000;\n",
       "        }#T_198555a2_188d_11eb_aa2f_00224d4fcf6brow3_col4{\n",
       "            background-color:  #5db961;\n",
       "            color:  #000000;\n",
       "        }</style><table id=\"T_198555a2_188d_11eb_aa2f_00224d4fcf6b\" ><caption>Years to Retirement - promos_every_n_years vs. interest_rate</caption><thead>    <tr>        <th class=\"blank level0\" ></th>        <th class=\"col_heading level0 col0\" >0.03</th>        <th class=\"col_heading level0 col1\" >0.04</th>        <th class=\"col_heading level0 col2\" >0.05</th>        <th class=\"col_heading level0 col3\" >0.06</th>        <th class=\"col_heading level0 col4\" >0.07</th>    </tr>    <tr>        <th class=\"index_name level0\" >promos_every_n_years</th>        <th class=\"blank\" ></th>        <th class=\"blank\" ></th>        <th class=\"blank\" ></th>        <th class=\"blank\" ></th>        <th class=\"blank\" ></th>    </tr></thead><tbody>\n",
       "                <tr>\n",
       "                        <th id=\"T_198555a2_188d_11eb_aa2f_00224d4fcf6blevel0_row0\" class=\"row_heading level0 row0\" >4</th>\n",
       "                        <td id=\"T_198555a2_188d_11eb_aa2f_00224d4fcf6brow0_col0\" class=\"data row0 col0\" >35.1</td>\n",
       "                        <td id=\"T_198555a2_188d_11eb_aa2f_00224d4fcf6brow0_col1\" class=\"data row0 col1\" >33.1</td>\n",
       "                        <td id=\"T_198555a2_188d_11eb_aa2f_00224d4fcf6brow0_col2\" class=\"data row0 col2\" >31.4</td>\n",
       "                        <td id=\"T_198555a2_188d_11eb_aa2f_00224d4fcf6brow0_col3\" class=\"data row0 col3\" >29.7</td>\n",
       "                        <td id=\"T_198555a2_188d_11eb_aa2f_00224d4fcf6brow0_col4\" class=\"data row0 col4\" >28.3</td>\n",
       "            </tr>\n",
       "            <tr>\n",
       "                        <th id=\"T_198555a2_188d_11eb_aa2f_00224d4fcf6blevel0_row1\" class=\"row_heading level0 row1\" >5</th>\n",
       "                        <td id=\"T_198555a2_188d_11eb_aa2f_00224d4fcf6brow1_col0\" class=\"data row1 col0\" >37.2</td>\n",
       "                        <td id=\"T_198555a2_188d_11eb_aa2f_00224d4fcf6brow1_col1\" class=\"data row1 col1\" >34.8</td>\n",
       "                        <td id=\"T_198555a2_188d_11eb_aa2f_00224d4fcf6brow1_col2\" class=\"data row1 col2\" >32.8</td>\n",
       "                        <td id=\"T_198555a2_188d_11eb_aa2f_00224d4fcf6brow1_col3\" class=\"data row1 col3\" >30.9</td>\n",
       "                        <td id=\"T_198555a2_188d_11eb_aa2f_00224d4fcf6brow1_col4\" class=\"data row1 col4\" >29.3</td>\n",
       "            </tr>\n",
       "            <tr>\n",
       "                        <th id=\"T_198555a2_188d_11eb_aa2f_00224d4fcf6blevel0_row2\" class=\"row_heading level0 row2\" >6</th>\n",
       "                        <td id=\"T_198555a2_188d_11eb_aa2f_00224d4fcf6brow2_col0\" class=\"data row2 col0\" >38.7</td>\n",
       "                        <td id=\"T_198555a2_188d_11eb_aa2f_00224d4fcf6brow2_col1\" class=\"data row2 col1\" >36.1</td>\n",
       "                        <td id=\"T_198555a2_188d_11eb_aa2f_00224d4fcf6brow2_col2\" class=\"data row2 col2\" >33.8</td>\n",
       "                        <td id=\"T_198555a2_188d_11eb_aa2f_00224d4fcf6brow2_col3\" class=\"data row2 col3\" >31.8</td>\n",
       "                        <td id=\"T_198555a2_188d_11eb_aa2f_00224d4fcf6brow2_col4\" class=\"data row2 col4\" >29.9</td>\n",
       "            </tr>\n",
       "            <tr>\n",
       "                        <th id=\"T_198555a2_188d_11eb_aa2f_00224d4fcf6blevel0_row3\" class=\"row_heading level0 row3\" >7</th>\n",
       "                        <td id=\"T_198555a2_188d_11eb_aa2f_00224d4fcf6brow3_col0\" class=\"data row3 col0\" >39.9</td>\n",
       "                        <td id=\"T_198555a2_188d_11eb_aa2f_00224d4fcf6brow3_col1\" class=\"data row3 col1\" >37.0</td>\n",
       "                        <td id=\"T_198555a2_188d_11eb_aa2f_00224d4fcf6brow3_col2\" class=\"data row3 col2\" >34.6</td>\n",
       "                        <td id=\"T_198555a2_188d_11eb_aa2f_00224d4fcf6brow3_col3\" class=\"data row3 col3\" >32.3</td>\n",
       "                        <td id=\"T_198555a2_188d_11eb_aa2f_00224d4fcf6brow3_col4\" class=\"data row3 col4\" >30.5</td>\n",
       "            </tr>\n",
       "    </tbody></table>"
      ],
      "text/plain": [
       "<IPython.core.display.HTML object>"
      ]
     },
     "metadata": {},
     "output_type": "display_data"
    },
    {
     "data": {
      "text/html": [
       "<h2>Years to Retirement by promos_every_n_years vs. desired_cash</h2>"
      ],
      "text/plain": [
       "<IPython.core.display.HTML object>"
      ]
     },
     "metadata": {},
     "output_type": "display_data"
    },
    {
     "data": {
      "text/html": [
       "<style  type=\"text/css\" >\n",
       "#T_1987ed7e_188d_11eb_8dc4_00224d4fcf6brow0_col0{\n",
       "            background-color:  #006837;\n",
       "            color:  #f1f1f1;\n",
       "        }#T_1987ed7e_188d_11eb_8dc4_00224d4fcf6brow0_col1{\n",
       "            background-color:  #abdb6d;\n",
       "            color:  #000000;\n",
       "        }#T_1987ed7e_188d_11eb_8dc4_00224d4fcf6brow0_col2{\n",
       "            background-color:  #fff2aa;\n",
       "            color:  #000000;\n",
       "        }#T_1987ed7e_188d_11eb_8dc4_00224d4fcf6brow0_col3,#T_1987ed7e_188d_11eb_8dc4_00224d4fcf6brow2_col2{\n",
       "            background-color:  #fa9b58;\n",
       "            color:  #000000;\n",
       "        }#T_1987ed7e_188d_11eb_8dc4_00224d4fcf6brow1_col0{\n",
       "            background-color:  #138c4a;\n",
       "            color:  #000000;\n",
       "        }#T_1987ed7e_188d_11eb_8dc4_00224d4fcf6brow1_col1{\n",
       "            background-color:  #daf08d;\n",
       "            color:  #000000;\n",
       "        }#T_1987ed7e_188d_11eb_8dc4_00224d4fcf6brow1_col2{\n",
       "            background-color:  #fdc776;\n",
       "            color:  #000000;\n",
       "        }#T_1987ed7e_188d_11eb_8dc4_00224d4fcf6brow1_col3{\n",
       "            background-color:  #e54e35;\n",
       "            color:  #000000;\n",
       "        }#T_1987ed7e_188d_11eb_8dc4_00224d4fcf6brow2_col0{\n",
       "            background-color:  #2da155;\n",
       "            color:  #000000;\n",
       "        }#T_1987ed7e_188d_11eb_8dc4_00224d4fcf6brow2_col1{\n",
       "            background-color:  #f4fab0;\n",
       "            color:  #000000;\n",
       "        }#T_1987ed7e_188d_11eb_8dc4_00224d4fcf6brow2_col3{\n",
       "            background-color:  #c41e27;\n",
       "            color:  #f1f1f1;\n",
       "        }#T_1987ed7e_188d_11eb_8dc4_00224d4fcf6brow3_col0{\n",
       "            background-color:  #4bb05c;\n",
       "            color:  #000000;\n",
       "        }#T_1987ed7e_188d_11eb_8dc4_00224d4fcf6brow3_col1{\n",
       "            background-color:  #fff8b4;\n",
       "            color:  #000000;\n",
       "        }#T_1987ed7e_188d_11eb_8dc4_00224d4fcf6brow3_col2{\n",
       "            background-color:  #f57547;\n",
       "            color:  #000000;\n",
       "        }#T_1987ed7e_188d_11eb_8dc4_00224d4fcf6brow3_col3{\n",
       "            background-color:  #a50026;\n",
       "            color:  #f1f1f1;\n",
       "        }</style><table id=\"T_1987ed7e_188d_11eb_8dc4_00224d4fcf6b\" ><caption>Years to Retirement - promos_every_n_years vs. desired_cash</caption><thead>    <tr>        <th class=\"blank level0\" ></th>        <th class=\"col_heading level0 col0\" >1000000</th>        <th class=\"col_heading level0 col1\" >1500000</th>        <th class=\"col_heading level0 col2\" >2000000</th>        <th class=\"col_heading level0 col3\" >2500000</th>    </tr>    <tr>        <th class=\"index_name level0\" >promos_every_n_years</th>        <th class=\"blank\" ></th>        <th class=\"blank\" ></th>        <th class=\"blank\" ></th>        <th class=\"blank\" ></th>    </tr></thead><tbody>\n",
       "                <tr>\n",
       "                        <th id=\"T_1987ed7e_188d_11eb_8dc4_00224d4fcf6blevel0_row0\" class=\"row_heading level0 row0\" >4</th>\n",
       "                        <td id=\"T_1987ed7e_188d_11eb_8dc4_00224d4fcf6brow0_col0\" class=\"data row0 col0\" >25.7</td>\n",
       "                        <td id=\"T_1987ed7e_188d_11eb_8dc4_00224d4fcf6brow0_col1\" class=\"data row0 col1\" >30.3</td>\n",
       "                        <td id=\"T_1987ed7e_188d_11eb_8dc4_00224d4fcf6brow0_col2\" class=\"data row0 col2\" >33.7</td>\n",
       "                        <td id=\"T_1987ed7e_188d_11eb_8dc4_00224d4fcf6brow0_col3\" class=\"data row0 col3\" >36.5</td>\n",
       "            </tr>\n",
       "            <tr>\n",
       "                        <th id=\"T_1987ed7e_188d_11eb_8dc4_00224d4fcf6blevel0_row1\" class=\"row_heading level0 row1\" >5</th>\n",
       "                        <td id=\"T_1987ed7e_188d_11eb_8dc4_00224d4fcf6brow1_col0\" class=\"data row1 col0\" >26.8</td>\n",
       "                        <td id=\"T_1987ed7e_188d_11eb_8dc4_00224d4fcf6brow1_col1\" class=\"data row1 col1\" >31.7</td>\n",
       "                        <td id=\"T_1987ed7e_188d_11eb_8dc4_00224d4fcf6brow1_col2\" class=\"data row1 col2\" >35.3</td>\n",
       "                        <td id=\"T_1987ed7e_188d_11eb_8dc4_00224d4fcf6brow1_col3\" class=\"data row1 col3\" >38.3</td>\n",
       "            </tr>\n",
       "            <tr>\n",
       "                        <th id=\"T_1987ed7e_188d_11eb_8dc4_00224d4fcf6blevel0_row2\" class=\"row_heading level0 row2\" >6</th>\n",
       "                        <td id=\"T_1987ed7e_188d_11eb_8dc4_00224d4fcf6brow2_col0\" class=\"data row2 col0\" >27.6</td>\n",
       "                        <td id=\"T_1987ed7e_188d_11eb_8dc4_00224d4fcf6brow2_col1\" class=\"data row2 col1\" >32.6</td>\n",
       "                        <td id=\"T_1987ed7e_188d_11eb_8dc4_00224d4fcf6brow2_col2\" class=\"data row2 col2\" >36.5</td>\n",
       "                        <td id=\"T_1987ed7e_188d_11eb_8dc4_00224d4fcf6brow2_col3\" class=\"data row2 col3\" >39.5</td>\n",
       "            </tr>\n",
       "            <tr>\n",
       "                        <th id=\"T_1987ed7e_188d_11eb_8dc4_00224d4fcf6blevel0_row3\" class=\"row_heading level0 row3\" >7</th>\n",
       "                        <td id=\"T_1987ed7e_188d_11eb_8dc4_00224d4fcf6brow3_col0\" class=\"data row3 col0\" >28.2</td>\n",
       "                        <td id=\"T_1987ed7e_188d_11eb_8dc4_00224d4fcf6brow3_col1\" class=\"data row3 col1\" >33.4</td>\n",
       "                        <td id=\"T_1987ed7e_188d_11eb_8dc4_00224d4fcf6brow3_col2\" class=\"data row3 col2\" >37.3</td>\n",
       "                        <td id=\"T_1987ed7e_188d_11eb_8dc4_00224d4fcf6brow3_col3\" class=\"data row3 col3\" >40.5</td>\n",
       "            </tr>\n",
       "    </tbody></table>"
      ],
      "text/plain": [
       "<IPython.core.display.HTML object>"
      ]
     },
     "metadata": {},
     "output_type": "display_data"
    },
    {
     "data": {
      "text/html": [
       "<h2>Years to Retirement by cost_of_living_raise vs. promo_raise</h2>"
      ],
      "text/plain": [
       "<IPython.core.display.HTML object>"
      ]
     },
     "metadata": {},
     "output_type": "display_data"
    },
    {
     "data": {
      "text/html": [
       "<style  type=\"text/css\" >\n",
       "#T_198bbd98_188d_11eb_842b_00224d4fcf6brow0_col0{\n",
       "            background-color:  #a50026;\n",
       "            color:  #f1f1f1;\n",
       "        }#T_198bbd98_188d_11eb_842b_00224d4fcf6brow0_col1{\n",
       "            background-color:  #f88c51;\n",
       "            color:  #000000;\n",
       "        }#T_198bbd98_188d_11eb_842b_00224d4fcf6brow0_col2{\n",
       "            background-color:  #fff6b0;\n",
       "            color:  #000000;\n",
       "        }#T_198bbd98_188d_11eb_842b_00224d4fcf6brow1_col0{\n",
       "            background-color:  #fdbd6d;\n",
       "            color:  #000000;\n",
       "        }#T_198bbd98_188d_11eb_842b_00224d4fcf6brow1_col1{\n",
       "            background-color:  #ebf7a3;\n",
       "            color:  #000000;\n",
       "        }#T_198bbd98_188d_11eb_842b_00224d4fcf6brow1_col2{\n",
       "            background-color:  #84ca66;\n",
       "            color:  #000000;\n",
       "        }#T_198bbd98_188d_11eb_842b_00224d4fcf6brow2_col0{\n",
       "            background-color:  #cbe982;\n",
       "            color:  #000000;\n",
       "        }#T_198bbd98_188d_11eb_842b_00224d4fcf6brow2_col1{\n",
       "            background-color:  #51b35e;\n",
       "            color:  #000000;\n",
       "        }#T_198bbd98_188d_11eb_842b_00224d4fcf6brow2_col2{\n",
       "            background-color:  #006837;\n",
       "            color:  #f1f1f1;\n",
       "        }</style><table id=\"T_198bbd98_188d_11eb_842b_00224d4fcf6b\" ><caption>Years to Retirement - cost_of_living_raise vs. promo_raise</caption><thead>    <tr>        <th class=\"blank level0\" ></th>        <th class=\"col_heading level0 col0\" >0.1</th>        <th class=\"col_heading level0 col1\" >0.15</th>        <th class=\"col_heading level0 col2\" >0.2</th>    </tr>    <tr>        <th class=\"index_name level0\" >cost_of_living_raise</th>        <th class=\"blank\" ></th>        <th class=\"blank\" ></th>        <th class=\"blank\" ></th>    </tr></thead><tbody>\n",
       "                <tr>\n",
       "                        <th id=\"T_198bbd98_188d_11eb_842b_00224d4fcf6blevel0_row0\" class=\"row_heading level0 row0\" >0.01</th>\n",
       "                        <td id=\"T_198bbd98_188d_11eb_842b_00224d4fcf6brow0_col0\" class=\"data row0 col0\" >37.4</td>\n",
       "                        <td id=\"T_198bbd98_188d_11eb_842b_00224d4fcf6brow0_col1\" class=\"data row0 col1\" >35.5</td>\n",
       "                        <td id=\"T_198bbd98_188d_11eb_842b_00224d4fcf6brow0_col2\" class=\"data row0 col2\" >33.8</td>\n",
       "            </tr>\n",
       "            <tr>\n",
       "                        <th id=\"T_198bbd98_188d_11eb_842b_00224d4fcf6blevel0_row1\" class=\"row_heading level0 row1\" >0.02</th>\n",
       "                        <td id=\"T_198bbd98_188d_11eb_842b_00224d4fcf6brow1_col0\" class=\"data row1 col0\" >34.9</td>\n",
       "                        <td id=\"T_198bbd98_188d_11eb_842b_00224d4fcf6brow1_col1\" class=\"data row1 col1\" >33.2</td>\n",
       "                        <td id=\"T_198bbd98_188d_11eb_842b_00224d4fcf6brow1_col2\" class=\"data row1 col2\" >31.7</td>\n",
       "            </tr>\n",
       "            <tr>\n",
       "                        <th id=\"T_198bbd98_188d_11eb_842b_00224d4fcf6blevel0_row2\" class=\"row_heading level0 row2\" >0.03</th>\n",
       "                        <td id=\"T_198bbd98_188d_11eb_842b_00224d4fcf6brow2_col0\" class=\"data row2 col0\" >32.6</td>\n",
       "                        <td id=\"T_198bbd98_188d_11eb_842b_00224d4fcf6brow2_col1\" class=\"data row2 col1\" >31.1</td>\n",
       "                        <td id=\"T_198bbd98_188d_11eb_842b_00224d4fcf6brow2_col2\" class=\"data row2 col2\" >29.8</td>\n",
       "            </tr>\n",
       "    </tbody></table>"
      ],
      "text/plain": [
       "<IPython.core.display.HTML object>"
      ]
     },
     "metadata": {},
     "output_type": "display_data"
    },
    {
     "data": {
      "text/html": [
       "<h2>Years to Retirement by cost_of_living_raise vs. savings_rate</h2>"
      ],
      "text/plain": [
       "<IPython.core.display.HTML object>"
      ]
     },
     "metadata": {},
     "output_type": "display_data"
    },
    {
     "data": {
      "text/html": [
       "<style  type=\"text/css\" >\n",
       "#T_198de048_188d_11eb_b8e2_00224d4fcf6brow0_col0{\n",
       "            background-color:  #a50026;\n",
       "            color:  #f1f1f1;\n",
       "        }#T_198de048_188d_11eb_b8e2_00224d4fcf6brow0_col1{\n",
       "            background-color:  #fff1a8;\n",
       "            color:  #000000;\n",
       "        }#T_198de048_188d_11eb_b8e2_00224d4fcf6brow0_col2{\n",
       "            background-color:  #a5d86a;\n",
       "            color:  #000000;\n",
       "        }#T_198de048_188d_11eb_b8e2_00224d4fcf6brow0_col3,#T_198de048_188d_11eb_b8e2_00224d4fcf6brow2_col2{\n",
       "            background-color:  #33a456;\n",
       "            color:  #000000;\n",
       "        }#T_198de048_188d_11eb_b8e2_00224d4fcf6brow1_col0{\n",
       "            background-color:  #e44c34;\n",
       "            color:  #000000;\n",
       "        }#T_198de048_188d_11eb_b8e2_00224d4fcf6brow1_col1{\n",
       "            background-color:  #e8f59f;\n",
       "            color:  #000000;\n",
       "        }#T_198de048_188d_11eb_b8e2_00224d4fcf6brow1_col2{\n",
       "            background-color:  #6ec064;\n",
       "            color:  #000000;\n",
       "        }#T_198de048_188d_11eb_b8e2_00224d4fcf6brow1_col3{\n",
       "            background-color:  #108647;\n",
       "            color:  #000000;\n",
       "        }#T_198de048_188d_11eb_b8e2_00224d4fcf6brow2_col0{\n",
       "            background-color:  #fba05b;\n",
       "            color:  #000000;\n",
       "        }#T_198de048_188d_11eb_b8e2_00224d4fcf6brow2_col1{\n",
       "            background-color:  #bbe278;\n",
       "            color:  #000000;\n",
       "        }#T_198de048_188d_11eb_b8e2_00224d4fcf6brow2_col3{\n",
       "            background-color:  #006837;\n",
       "            color:  #f1f1f1;\n",
       "        }</style><table id=\"T_198de048_188d_11eb_b8e2_00224d4fcf6b\" ><caption>Years to Retirement - cost_of_living_raise vs. savings_rate</caption><thead>    <tr>        <th class=\"blank level0\" ></th>        <th class=\"col_heading level0 col0\" >0.1</th>        <th class=\"col_heading level0 col1\" >0.2</th>        <th class=\"col_heading level0 col2\" >0.3</th>        <th class=\"col_heading level0 col3\" >0.4</th>    </tr>    <tr>        <th class=\"index_name level0\" >cost_of_living_raise</th>        <th class=\"blank\" ></th>        <th class=\"blank\" ></th>        <th class=\"blank\" ></th>        <th class=\"blank\" ></th>    </tr></thead><tbody>\n",
       "                <tr>\n",
       "                        <th id=\"T_198de048_188d_11eb_b8e2_00224d4fcf6blevel0_row0\" class=\"row_heading level0 row0\" >0.01</th>\n",
       "                        <td id=\"T_198de048_188d_11eb_b8e2_00224d4fcf6brow0_col0\" class=\"data row0 col0\" >47.1</td>\n",
       "                        <td id=\"T_198de048_188d_11eb_b8e2_00224d4fcf6brow0_col1\" class=\"data row0 col1\" >36.7</td>\n",
       "                        <td id=\"T_198de048_188d_11eb_b8e2_00224d4fcf6brow0_col2\" class=\"data row0 col2\" >31.1</td>\n",
       "                        <td id=\"T_198de048_188d_11eb_b8e2_00224d4fcf6brow0_col3\" class=\"data row0 col3\" >27.4</td>\n",
       "            </tr>\n",
       "            <tr>\n",
       "                        <th id=\"T_198de048_188d_11eb_b8e2_00224d4fcf6blevel0_row1\" class=\"row_heading level0 row1\" >0.02</th>\n",
       "                        <td id=\"T_198de048_188d_11eb_b8e2_00224d4fcf6brow1_col0\" class=\"data row1 col0\" >43.8</td>\n",
       "                        <td id=\"T_198de048_188d_11eb_b8e2_00224d4fcf6brow1_col1\" class=\"data row1 col1\" >34.3</td>\n",
       "                        <td id=\"T_198de048_188d_11eb_b8e2_00224d4fcf6brow1_col2\" class=\"data row1 col2\" >29.2</td>\n",
       "                        <td id=\"T_198de048_188d_11eb_b8e2_00224d4fcf6brow1_col3\" class=\"data row1 col3\" >25.8</td>\n",
       "            </tr>\n",
       "            <tr>\n",
       "                        <th id=\"T_198de048_188d_11eb_b8e2_00224d4fcf6blevel0_row2\" class=\"row_heading level0 row2\" >0.03</th>\n",
       "                        <td id=\"T_198de048_188d_11eb_b8e2_00224d4fcf6brow2_col0\" class=\"data row2 col0\" >40.8</td>\n",
       "                        <td id=\"T_198de048_188d_11eb_b8e2_00224d4fcf6brow2_col1\" class=\"data row2 col1\" >32.2</td>\n",
       "                        <td id=\"T_198de048_188d_11eb_b8e2_00224d4fcf6brow2_col2\" class=\"data row2 col2\" >27.5</td>\n",
       "                        <td id=\"T_198de048_188d_11eb_b8e2_00224d4fcf6brow2_col3\" class=\"data row2 col3\" >24.4</td>\n",
       "            </tr>\n",
       "    </tbody></table>"
      ],
      "text/plain": [
       "<IPython.core.display.HTML object>"
      ]
     },
     "metadata": {},
     "output_type": "display_data"
    },
    {
     "data": {
      "text/html": [
       "<h2>Years to Retirement by cost_of_living_raise vs. interest_rate</h2>"
      ],
      "text/plain": [
       "<IPython.core.display.HTML object>"
      ]
     },
     "metadata": {},
     "output_type": "display_data"
    },
    {
     "data": {
      "text/html": [
       "<style  type=\"text/css\" >\n",
       "#T_198fdbec_188d_11eb_a05a_00224d4fcf6brow0_col0{\n",
       "            background-color:  #a50026;\n",
       "            color:  #f1f1f1;\n",
       "        }#T_198fdbec_188d_11eb_a05a_00224d4fcf6brow0_col1{\n",
       "            background-color:  #f88950;\n",
       "            color:  #000000;\n",
       "        }#T_198fdbec_188d_11eb_a05a_00224d4fcf6brow0_col2{\n",
       "            background-color:  #feeda1;\n",
       "            color:  #000000;\n",
       "        }#T_198fdbec_188d_11eb_a05a_00224d4fcf6brow0_col3{\n",
       "            background-color:  #cbe982;\n",
       "            color:  #000000;\n",
       "        }#T_198fdbec_188d_11eb_a05a_00224d4fcf6brow0_col4{\n",
       "            background-color:  #73c264;\n",
       "            color:  #000000;\n",
       "        }#T_198fdbec_188d_11eb_a05a_00224d4fcf6brow1_col0{\n",
       "            background-color:  #fa9b58;\n",
       "            color:  #000000;\n",
       "        }#T_198fdbec_188d_11eb_a05a_00224d4fcf6brow1_col1{\n",
       "            background-color:  #fff0a6;\n",
       "            color:  #000000;\n",
       "        }#T_198fdbec_188d_11eb_a05a_00224d4fcf6brow1_col2{\n",
       "            background-color:  #d1ec86;\n",
       "            color:  #000000;\n",
       "        }#T_198fdbec_188d_11eb_a05a_00224d4fcf6brow1_col3{\n",
       "            background-color:  #7dc765;\n",
       "            color:  #000000;\n",
       "        }#T_198fdbec_188d_11eb_a05a_00224d4fcf6brow1_col4{\n",
       "            background-color:  #1e9a51;\n",
       "            color:  #000000;\n",
       "        }#T_198fdbec_188d_11eb_a05a_00224d4fcf6brow2_col0{\n",
       "            background-color:  #fffebe;\n",
       "            color:  #000000;\n",
       "        }#T_198fdbec_188d_11eb_a05a_00224d4fcf6brow2_col1{\n",
       "            background-color:  #c5e67e;\n",
       "            color:  #000000;\n",
       "        }#T_198fdbec_188d_11eb_a05a_00224d4fcf6brow2_col2{\n",
       "            background-color:  #78c565;\n",
       "            color:  #000000;\n",
       "        }#T_198fdbec_188d_11eb_a05a_00224d4fcf6brow2_col3{\n",
       "            background-color:  #219c52;\n",
       "            color:  #000000;\n",
       "        }#T_198fdbec_188d_11eb_a05a_00224d4fcf6brow2_col4{\n",
       "            background-color:  #006837;\n",
       "            color:  #f1f1f1;\n",
       "        }</style><table id=\"T_198fdbec_188d_11eb_a05a_00224d4fcf6b\" ><caption>Years to Retirement - cost_of_living_raise vs. interest_rate</caption><thead>    <tr>        <th class=\"blank level0\" ></th>        <th class=\"col_heading level0 col0\" >0.03</th>        <th class=\"col_heading level0 col1\" >0.04</th>        <th class=\"col_heading level0 col2\" >0.05</th>        <th class=\"col_heading level0 col3\" >0.06</th>        <th class=\"col_heading level0 col4\" >0.07</th>    </tr>    <tr>        <th class=\"index_name level0\" >cost_of_living_raise</th>        <th class=\"blank\" ></th>        <th class=\"blank\" ></th>        <th class=\"blank\" ></th>        <th class=\"blank\" ></th>        <th class=\"blank\" ></th>    </tr></thead><tbody>\n",
       "                <tr>\n",
       "                        <th id=\"T_198fdbec_188d_11eb_a05a_00224d4fcf6blevel0_row0\" class=\"row_heading level0 row0\" >0.01</th>\n",
       "                        <td id=\"T_198fdbec_188d_11eb_a05a_00224d4fcf6brow0_col0\" class=\"data row0 col0\" >41.0</td>\n",
       "                        <td id=\"T_198fdbec_188d_11eb_a05a_00224d4fcf6brow0_col1\" class=\"data row0 col1\" >37.9</td>\n",
       "                        <td id=\"T_198fdbec_188d_11eb_a05a_00224d4fcf6brow0_col2\" class=\"data row0 col2\" >35.3</td>\n",
       "                        <td id=\"T_198fdbec_188d_11eb_a05a_00224d4fcf6brow0_col3\" class=\"data row0 col3\" >32.9</td>\n",
       "                        <td id=\"T_198fdbec_188d_11eb_a05a_00224d4fcf6brow0_col4\" class=\"data row0 col4\" >30.9</td>\n",
       "            </tr>\n",
       "            <tr>\n",
       "                        <th id=\"T_198fdbec_188d_11eb_a05a_00224d4fcf6blevel0_row1\" class=\"row_heading level0 row1\" >0.02</th>\n",
       "                        <td id=\"T_198fdbec_188d_11eb_a05a_00224d4fcf6brow1_col0\" class=\"data row1 col0\" >37.5</td>\n",
       "                        <td id=\"T_198fdbec_188d_11eb_a05a_00224d4fcf6brow1_col1\" class=\"data row1 col1\" >35.2</td>\n",
       "                        <td id=\"T_198fdbec_188d_11eb_a05a_00224d4fcf6brow1_col2\" class=\"data row1 col2\" >33.1</td>\n",
       "                        <td id=\"T_198fdbec_188d_11eb_a05a_00224d4fcf6brow1_col3\" class=\"data row1 col3\" >31.2</td>\n",
       "                        <td id=\"T_198fdbec_188d_11eb_a05a_00224d4fcf6brow1_col4\" class=\"data row1 col4\" >29.5</td>\n",
       "            </tr>\n",
       "            <tr>\n",
       "                        <th id=\"T_198fdbec_188d_11eb_a05a_00224d4fcf6blevel0_row2\" class=\"row_heading level0 row2\" >0.03</th>\n",
       "                        <td id=\"T_198fdbec_188d_11eb_a05a_00224d4fcf6brow2_col0\" class=\"data row2 col0\" >34.6</td>\n",
       "                        <td id=\"T_198fdbec_188d_11eb_a05a_00224d4fcf6brow2_col1\" class=\"data row2 col1\" >32.7</td>\n",
       "                        <td id=\"T_198fdbec_188d_11eb_a05a_00224d4fcf6brow2_col2\" class=\"data row2 col2\" >31.1</td>\n",
       "                        <td id=\"T_198fdbec_188d_11eb_a05a_00224d4fcf6brow2_col3\" class=\"data row2 col3\" >29.5</td>\n",
       "                        <td id=\"T_198fdbec_188d_11eb_a05a_00224d4fcf6brow2_col4\" class=\"data row2 col4\" >28.1</td>\n",
       "            </tr>\n",
       "    </tbody></table>"
      ],
      "text/plain": [
       "<IPython.core.display.HTML object>"
      ]
     },
     "metadata": {},
     "output_type": "display_data"
    },
    {
     "data": {
      "text/html": [
       "<h2>Years to Retirement by cost_of_living_raise vs. desired_cash</h2>"
      ],
      "text/plain": [
       "<IPython.core.display.HTML object>"
      ]
     },
     "metadata": {},
     "output_type": "display_data"
    },
    {
     "data": {
      "text/html": [
       "<style  type=\"text/css\" >\n",
       "#T_1991fe9e_188d_11eb_a5a7_00224d4fcf6brow0_col0{\n",
       "            background-color:  #69be63;\n",
       "            color:  #000000;\n",
       "        }#T_1991fe9e_188d_11eb_a5a7_00224d4fcf6brow0_col1{\n",
       "            background-color:  #fff2aa;\n",
       "            color:  #000000;\n",
       "        }#T_1991fe9e_188d_11eb_a5a7_00224d4fcf6brow0_col2{\n",
       "            background-color:  #f47044;\n",
       "            color:  #000000;\n",
       "        }#T_1991fe9e_188d_11eb_a5a7_00224d4fcf6brow0_col3{\n",
       "            background-color:  #a50026;\n",
       "            color:  #f1f1f1;\n",
       "        }#T_1991fe9e_188d_11eb_a5a7_00224d4fcf6brow1_col0{\n",
       "            background-color:  #18954f;\n",
       "            color:  #000000;\n",
       "        }#T_1991fe9e_188d_11eb_a5a7_00224d4fcf6brow1_col1{\n",
       "            background-color:  #daf08d;\n",
       "            color:  #000000;\n",
       "        }#T_1991fe9e_188d_11eb_a5a7_00224d4fcf6brow1_col2{\n",
       "            background-color:  #fece7c;\n",
       "            color:  #000000;\n",
       "        }#T_1991fe9e_188d_11eb_a5a7_00224d4fcf6brow1_col3{\n",
       "            background-color:  #ed5f3c;\n",
       "            color:  #000000;\n",
       "        }#T_1991fe9e_188d_11eb_a5a7_00224d4fcf6brow2_col0{\n",
       "            background-color:  #006837;\n",
       "            color:  #f1f1f1;\n",
       "        }#T_1991fe9e_188d_11eb_a5a7_00224d4fcf6brow2_col1{\n",
       "            background-color:  #9bd469;\n",
       "            color:  #000000;\n",
       "        }#T_1991fe9e_188d_11eb_a5a7_00224d4fcf6brow2_col2{\n",
       "            background-color:  #fdfebc;\n",
       "            color:  #000000;\n",
       "        }#T_1991fe9e_188d_11eb_a5a7_00224d4fcf6brow2_col3{\n",
       "            background-color:  #fdc171;\n",
       "            color:  #000000;\n",
       "        }</style><table id=\"T_1991fe9e_188d_11eb_a5a7_00224d4fcf6b\" ><caption>Years to Retirement - cost_of_living_raise vs. desired_cash</caption><thead>    <tr>        <th class=\"blank level0\" ></th>        <th class=\"col_heading level0 col0\" >1000000</th>        <th class=\"col_heading level0 col1\" >1500000</th>        <th class=\"col_heading level0 col2\" >2000000</th>        <th class=\"col_heading level0 col3\" >2500000</th>    </tr>    <tr>        <th class=\"index_name level0\" >cost_of_living_raise</th>        <th class=\"blank\" ></th>        <th class=\"blank\" ></th>        <th class=\"blank\" ></th>        <th class=\"blank\" ></th>    </tr></thead><tbody>\n",
       "                <tr>\n",
       "                        <th id=\"T_1991fe9e_188d_11eb_a5a7_00224d4fcf6blevel0_row0\" class=\"row_heading level0 row0\" >0.01</th>\n",
       "                        <td id=\"T_1991fe9e_188d_11eb_a5a7_00224d4fcf6brow0_col0\" class=\"data row0 col0\" >28.7</td>\n",
       "                        <td id=\"T_1991fe9e_188d_11eb_a5a7_00224d4fcf6brow0_col1\" class=\"data row0 col1\" >34.1</td>\n",
       "                        <td id=\"T_1991fe9e_188d_11eb_a5a7_00224d4fcf6brow0_col2\" class=\"data row0 col2\" >38.1</td>\n",
       "                        <td id=\"T_1991fe9e_188d_11eb_a5a7_00224d4fcf6brow0_col3\" class=\"data row0 col3\" >41.4</td>\n",
       "            </tr>\n",
       "            <tr>\n",
       "                        <th id=\"T_1991fe9e_188d_11eb_a5a7_00224d4fcf6blevel0_row1\" class=\"row_heading level0 row1\" >0.02</th>\n",
       "                        <td id=\"T_1991fe9e_188d_11eb_a5a7_00224d4fcf6brow1_col0\" class=\"data row1 col0\" >27.0</td>\n",
       "                        <td id=\"T_1991fe9e_188d_11eb_a5a7_00224d4fcf6brow1_col1\" class=\"data row1 col1\" >31.9</td>\n",
       "                        <td id=\"T_1991fe9e_188d_11eb_a5a7_00224d4fcf6brow1_col2\" class=\"data row1 col2\" >35.6</td>\n",
       "                        <td id=\"T_1991fe9e_188d_11eb_a5a7_00224d4fcf6brow1_col3\" class=\"data row1 col3\" >38.6</td>\n",
       "            </tr>\n",
       "            <tr>\n",
       "                        <th id=\"T_1991fe9e_188d_11eb_a5a7_00224d4fcf6blevel0_row2\" class=\"row_heading level0 row2\" >0.03</th>\n",
       "                        <td id=\"T_1991fe9e_188d_11eb_a5a7_00224d4fcf6brow2_col0\" class=\"data row2 col0\" >25.4</td>\n",
       "                        <td id=\"T_1991fe9e_188d_11eb_a5a7_00224d4fcf6brow2_col1\" class=\"data row2 col1\" >30.0</td>\n",
       "                        <td id=\"T_1991fe9e_188d_11eb_a5a7_00224d4fcf6brow2_col2\" class=\"data row2 col2\" >33.3</td>\n",
       "                        <td id=\"T_1991fe9e_188d_11eb_a5a7_00224d4fcf6brow2_col3\" class=\"data row2 col3\" >36.0</td>\n",
       "            </tr>\n",
       "    </tbody></table>"
      ],
      "text/plain": [
       "<IPython.core.display.HTML object>"
      ]
     },
     "metadata": {},
     "output_type": "display_data"
    },
    {
     "data": {
      "text/html": [
       "<h2>Years to Retirement by promo_raise vs. savings_rate</h2>"
      ],
      "text/plain": [
       "<IPython.core.display.HTML object>"
      ]
     },
     "metadata": {},
     "output_type": "display_data"
    },
    {
     "data": {
      "text/html": [
       "<style  type=\"text/css\" >\n",
       "#T_19975574_188d_11eb_a184_00224d4fcf6brow0_col0{\n",
       "            background-color:  #a50026;\n",
       "            color:  #f1f1f1;\n",
       "        }#T_19975574_188d_11eb_a184_00224d4fcf6brow0_col1{\n",
       "            background-color:  #fff7b2;\n",
       "            color:  #000000;\n",
       "        }#T_19975574_188d_11eb_a184_00224d4fcf6brow0_col2{\n",
       "            background-color:  #91d068;\n",
       "            color:  #000000;\n",
       "        }#T_19975574_188d_11eb_a184_00224d4fcf6brow0_col3{\n",
       "            background-color:  #199750;\n",
       "            color:  #000000;\n",
       "        }#T_19975574_188d_11eb_a184_00224d4fcf6brow1_col0{\n",
       "            background-color:  #dc3b2c;\n",
       "            color:  #f1f1f1;\n",
       "        }#T_19975574_188d_11eb_a184_00224d4fcf6brow1_col1{\n",
       "            background-color:  #e9f6a1;\n",
       "            color:  #000000;\n",
       "        }#T_19975574_188d_11eb_a184_00224d4fcf6brow1_col2{\n",
       "            background-color:  #69be63;\n",
       "            color:  #000000;\n",
       "        }#T_19975574_188d_11eb_a184_00224d4fcf6brow1_col3{\n",
       "            background-color:  #0b7d42;\n",
       "            color:  #f1f1f1;\n",
       "        }#T_19975574_188d_11eb_a184_00224d4fcf6brow2_col0{\n",
       "            background-color:  #f67a49;\n",
       "            color:  #000000;\n",
       "        }#T_19975574_188d_11eb_a184_00224d4fcf6brow2_col1{\n",
       "            background-color:  #c9e881;\n",
       "            color:  #000000;\n",
       "        }#T_19975574_188d_11eb_a184_00224d4fcf6brow2_col2{\n",
       "            background-color:  #3ca959;\n",
       "            color:  #000000;\n",
       "        }#T_19975574_188d_11eb_a184_00224d4fcf6brow2_col3{\n",
       "            background-color:  #006837;\n",
       "            color:  #f1f1f1;\n",
       "        }</style><table id=\"T_19975574_188d_11eb_a184_00224d4fcf6b\" ><caption>Years to Retirement - promo_raise vs. savings_rate</caption><thead>    <tr>        <th class=\"blank level0\" ></th>        <th class=\"col_heading level0 col0\" >0.1</th>        <th class=\"col_heading level0 col1\" >0.2</th>        <th class=\"col_heading level0 col2\" >0.3</th>        <th class=\"col_heading level0 col3\" >0.4</th>    </tr>    <tr>        <th class=\"index_name level0\" >promo_raise</th>        <th class=\"blank\" ></th>        <th class=\"blank\" ></th>        <th class=\"blank\" ></th>        <th class=\"blank\" ></th>    </tr></thead><tbody>\n",
       "                <tr>\n",
       "                        <th id=\"T_19975574_188d_11eb_a184_00224d4fcf6blevel0_row0\" class=\"row_heading level0 row0\" >0.1</th>\n",
       "                        <td id=\"T_19975574_188d_11eb_a184_00224d4fcf6brow0_col0\" class=\"data row0 col0\" >46.3</td>\n",
       "                        <td id=\"T_19975574_188d_11eb_a184_00224d4fcf6brow0_col1\" class=\"data row0 col1\" >36.1</td>\n",
       "                        <td id=\"T_19975574_188d_11eb_a184_00224d4fcf6brow0_col2\" class=\"data row0 col2\" >30.6</td>\n",
       "                        <td id=\"T_19975574_188d_11eb_a184_00224d4fcf6brow0_col3\" class=\"data row0 col3\" >27.0</td>\n",
       "            </tr>\n",
       "            <tr>\n",
       "                        <th id=\"T_19975574_188d_11eb_a184_00224d4fcf6blevel0_row1\" class=\"row_heading level0 row1\" >0.15</th>\n",
       "                        <td id=\"T_19975574_188d_11eb_a184_00224d4fcf6brow1_col0\" class=\"data row1 col0\" >43.8</td>\n",
       "                        <td id=\"T_19975574_188d_11eb_a184_00224d4fcf6brow1_col1\" class=\"data row1 col1\" >34.3</td>\n",
       "                        <td id=\"T_19975574_188d_11eb_a184_00224d4fcf6brow1_col2\" class=\"data row1 col2\" >29.2</td>\n",
       "                        <td id=\"T_19975574_188d_11eb_a184_00224d4fcf6brow1_col3\" class=\"data row1 col3\" >25.8</td>\n",
       "            </tr>\n",
       "            <tr>\n",
       "                        <th id=\"T_19975574_188d_11eb_a184_00224d4fcf6blevel0_row2\" class=\"row_heading level0 row2\" >0.2</th>\n",
       "                        <td id=\"T_19975574_188d_11eb_a184_00224d4fcf6brow2_col0\" class=\"data row2 col0\" >41.5</td>\n",
       "                        <td id=\"T_19975574_188d_11eb_a184_00224d4fcf6brow2_col1\" class=\"data row2 col1\" >32.8</td>\n",
       "                        <td id=\"T_19975574_188d_11eb_a184_00224d4fcf6brow2_col2\" class=\"data row2 col2\" >28.0</td>\n",
       "                        <td id=\"T_19975574_188d_11eb_a184_00224d4fcf6brow2_col3\" class=\"data row2 col3\" >24.8</td>\n",
       "            </tr>\n",
       "    </tbody></table>"
      ],
      "text/plain": [
       "<IPython.core.display.HTML object>"
      ]
     },
     "metadata": {},
     "output_type": "display_data"
    },
    {
     "data": {
      "text/html": [
       "<h2>Years to Retirement by promo_raise vs. interest_rate</h2>"
      ],
      "text/plain": [
       "<IPython.core.display.HTML object>"
      ]
     },
     "metadata": {},
     "output_type": "display_data"
    },
    {
     "data": {
      "text/html": [
       "<style  type=\"text/css\" >\n",
       "#T_1999781e_188d_11eb_9332_00224d4fcf6brow0_col0{\n",
       "            background-color:  #a50026;\n",
       "            color:  #f1f1f1;\n",
       "        }#T_1999781e_188d_11eb_9332_00224d4fcf6brow0_col1{\n",
       "            background-color:  #f98e52;\n",
       "            color:  #000000;\n",
       "        }#T_1999781e_188d_11eb_9332_00224d4fcf6brow0_col2{\n",
       "            background-color:  #fff6b0;\n",
       "            color:  #000000;\n",
       "        }#T_1999781e_188d_11eb_9332_00224d4fcf6brow0_col3{\n",
       "            background-color:  #b9e176;\n",
       "            color:  #000000;\n",
       "        }#T_1999781e_188d_11eb_9332_00224d4fcf6brow0_col4{\n",
       "            background-color:  #4eb15d;\n",
       "            color:  #000000;\n",
       "        }#T_1999781e_188d_11eb_9332_00224d4fcf6brow1_col0{\n",
       "            background-color:  #f67a49;\n",
       "            color:  #000000;\n",
       "        }#T_1999781e_188d_11eb_9332_00224d4fcf6brow1_col1{\n",
       "            background-color:  #fee999;\n",
       "            color:  #000000;\n",
       "        }#T_1999781e_188d_11eb_9332_00224d4fcf6brow1_col2{\n",
       "            background-color:  #d5ed88;\n",
       "            color:  #000000;\n",
       "        }#T_1999781e_188d_11eb_9332_00224d4fcf6brow1_col3{\n",
       "            background-color:  #78c565;\n",
       "            color:  #000000;\n",
       "        }#T_1999781e_188d_11eb_9332_00224d4fcf6brow1_col4{\n",
       "            background-color:  #15904c;\n",
       "            color:  #000000;\n",
       "        }#T_1999781e_188d_11eb_9332_00224d4fcf6brow2_col0{\n",
       "            background-color:  #fee28f;\n",
       "            color:  #000000;\n",
       "        }#T_1999781e_188d_11eb_9332_00224d4fcf6brow2_col1{\n",
       "            background-color:  #e0f295;\n",
       "            color:  #000000;\n",
       "        }#T_1999781e_188d_11eb_9332_00224d4fcf6brow2_col2{\n",
       "            background-color:  #93d168;\n",
       "            color:  #000000;\n",
       "        }#T_1999781e_188d_11eb_9332_00224d4fcf6brow2_col3{\n",
       "            background-color:  #2da155;\n",
       "            color:  #000000;\n",
       "        }#T_1999781e_188d_11eb_9332_00224d4fcf6brow2_col4{\n",
       "            background-color:  #006837;\n",
       "            color:  #f1f1f1;\n",
       "        }</style><table id=\"T_1999781e_188d_11eb_9332_00224d4fcf6b\" ><caption>Years to Retirement - promo_raise vs. interest_rate</caption><thead>    <tr>        <th class=\"blank level0\" ></th>        <th class=\"col_heading level0 col0\" >0.03</th>        <th class=\"col_heading level0 col1\" >0.04</th>        <th class=\"col_heading level0 col2\" >0.05</th>        <th class=\"col_heading level0 col3\" >0.06</th>        <th class=\"col_heading level0 col4\" >0.07</th>    </tr>    <tr>        <th class=\"index_name level0\" >promo_raise</th>        <th class=\"blank\" ></th>        <th class=\"blank\" ></th>        <th class=\"blank\" ></th>        <th class=\"blank\" ></th>        <th class=\"blank\" ></th>    </tr></thead><tbody>\n",
       "                <tr>\n",
       "                        <th id=\"T_1999781e_188d_11eb_9332_00224d4fcf6blevel0_row0\" class=\"row_heading level0 row0\" >0.1</th>\n",
       "                        <td id=\"T_1999781e_188d_11eb_9332_00224d4fcf6brow0_col0\" class=\"data row0 col0\" >40.1</td>\n",
       "                        <td id=\"T_1999781e_188d_11eb_9332_00224d4fcf6brow0_col1\" class=\"data row0 col1\" >37.2</td>\n",
       "                        <td id=\"T_1999781e_188d_11eb_9332_00224d4fcf6brow0_col2\" class=\"data row0 col2\" >34.7</td>\n",
       "                        <td id=\"T_1999781e_188d_11eb_9332_00224d4fcf6brow0_col3\" class=\"data row0 col3\" >32.4</td>\n",
       "                        <td id=\"T_1999781e_188d_11eb_9332_00224d4fcf6brow0_col4\" class=\"data row0 col4\" >30.5</td>\n",
       "            </tr>\n",
       "            <tr>\n",
       "                        <th id=\"T_1999781e_188d_11eb_9332_00224d4fcf6blevel0_row1\" class=\"row_heading level0 row1\" >0.15</th>\n",
       "                        <td id=\"T_1999781e_188d_11eb_9332_00224d4fcf6brow1_col0\" class=\"data row1 col0\" >37.6</td>\n",
       "                        <td id=\"T_1999781e_188d_11eb_9332_00224d4fcf6brow1_col1\" class=\"data row1 col1\" >35.1</td>\n",
       "                        <td id=\"T_1999781e_188d_11eb_9332_00224d4fcf6brow1_col2\" class=\"data row1 col2\" >33.1</td>\n",
       "                        <td id=\"T_1999781e_188d_11eb_9332_00224d4fcf6brow1_col3\" class=\"data row1 col3\" >31.2</td>\n",
       "                        <td id=\"T_1999781e_188d_11eb_9332_00224d4fcf6brow1_col4\" class=\"data row1 col4\" >29.5</td>\n",
       "            </tr>\n",
       "            <tr>\n",
       "                        <th id=\"T_1999781e_188d_11eb_9332_00224d4fcf6blevel0_row2\" class=\"row_heading level0 row2\" >0.2</th>\n",
       "                        <td id=\"T_1999781e_188d_11eb_9332_00224d4fcf6brow2_col0\" class=\"data row2 col0\" >35.4</td>\n",
       "                        <td id=\"T_1999781e_188d_11eb_9332_00224d4fcf6brow2_col1\" class=\"data row2 col1\" >33.4</td>\n",
       "                        <td id=\"T_1999781e_188d_11eb_9332_00224d4fcf6brow2_col2\" class=\"data row2 col2\" >31.7</td>\n",
       "                        <td id=\"T_1999781e_188d_11eb_9332_00224d4fcf6brow2_col3\" class=\"data row2 col3\" >30.0</td>\n",
       "                        <td id=\"T_1999781e_188d_11eb_9332_00224d4fcf6brow2_col4\" class=\"data row2 col4\" >28.5</td>\n",
       "            </tr>\n",
       "    </tbody></table>"
      ],
      "text/plain": [
       "<IPython.core.display.HTML object>"
      ]
     },
     "metadata": {},
     "output_type": "display_data"
    },
    {
     "data": {
      "text/html": [
       "<h2>Years to Retirement by promo_raise vs. desired_cash</h2>"
      ],
      "text/plain": [
       "<IPython.core.display.HTML object>"
      ]
     },
     "metadata": {},
     "output_type": "display_data"
    },
    {
     "data": {
      "text/html": [
       "<style  type=\"text/css\" >\n",
       "#T_199b73ba_188d_11eb_99cb_00224d4fcf6brow0_col0{\n",
       "            background-color:  #42ac5a;\n",
       "            color:  #000000;\n",
       "        }#T_199b73ba_188d_11eb_99cb_00224d4fcf6brow0_col1{\n",
       "            background-color:  #fffbb8;\n",
       "            color:  #000000;\n",
       "        }#T_199b73ba_188d_11eb_99cb_00224d4fcf6brow0_col2{\n",
       "            background-color:  #f57748;\n",
       "            color:  #000000;\n",
       "        }#T_199b73ba_188d_11eb_99cb_00224d4fcf6brow0_col3{\n",
       "            background-color:  #a50026;\n",
       "            color:  #f1f1f1;\n",
       "        }#T_199b73ba_188d_11eb_99cb_00224d4fcf6brow1_col0{\n",
       "            background-color:  #128a49;\n",
       "            color:  #000000;\n",
       "        }#T_199b73ba_188d_11eb_99cb_00224d4fcf6brow1_col1{\n",
       "            background-color:  #daf08d;\n",
       "            color:  #000000;\n",
       "        }#T_199b73ba_188d_11eb_99cb_00224d4fcf6brow1_col2{\n",
       "            background-color:  #fdc574;\n",
       "            color:  #000000;\n",
       "        }#T_199b73ba_188d_11eb_99cb_00224d4fcf6brow1_col3{\n",
       "            background-color:  #e34933;\n",
       "            color:  #f1f1f1;\n",
       "        }#T_199b73ba_188d_11eb_99cb_00224d4fcf6brow2_col0{\n",
       "            background-color:  #006837;\n",
       "            color:  #f1f1f1;\n",
       "        }#T_199b73ba_188d_11eb_99cb_00224d4fcf6brow2_col1{\n",
       "            background-color:  #abdb6d;\n",
       "            color:  #000000;\n",
       "        }#T_199b73ba_188d_11eb_99cb_00224d4fcf6brow2_col2{\n",
       "            background-color:  #fff1a8;\n",
       "            color:  #000000;\n",
       "        }#T_199b73ba_188d_11eb_99cb_00224d4fcf6brow2_col3{\n",
       "            background-color:  #fa9857;\n",
       "            color:  #000000;\n",
       "        }</style><table id=\"T_199b73ba_188d_11eb_99cb_00224d4fcf6b\" ><caption>Years to Retirement - promo_raise vs. desired_cash</caption><thead>    <tr>        <th class=\"blank level0\" ></th>        <th class=\"col_heading level0 col0\" >1000000</th>        <th class=\"col_heading level0 col1\" >1500000</th>        <th class=\"col_heading level0 col2\" >2000000</th>        <th class=\"col_heading level0 col3\" >2500000</th>    </tr>    <tr>        <th class=\"index_name level0\" >promo_raise</th>        <th class=\"blank\" ></th>        <th class=\"blank\" ></th>        <th class=\"blank\" ></th>        <th class=\"blank\" ></th>    </tr></thead><tbody>\n",
       "                <tr>\n",
       "                        <th id=\"T_199b73ba_188d_11eb_99cb_00224d4fcf6blevel0_row0\" class=\"row_heading level0 row0\" >0.1</th>\n",
       "                        <td id=\"T_199b73ba_188d_11eb_99cb_00224d4fcf6brow0_col0\" class=\"data row0 col0\" >28.2</td>\n",
       "                        <td id=\"T_199b73ba_188d_11eb_99cb_00224d4fcf6brow0_col1\" class=\"data row0 col1\" >33.5</td>\n",
       "                        <td id=\"T_199b73ba_188d_11eb_99cb_00224d4fcf6brow0_col2\" class=\"data row0 col2\" >37.5</td>\n",
       "                        <td id=\"T_199b73ba_188d_11eb_99cb_00224d4fcf6brow0_col3\" class=\"data row0 col3\" >40.7</td>\n",
       "            </tr>\n",
       "            <tr>\n",
       "                        <th id=\"T_199b73ba_188d_11eb_99cb_00224d4fcf6blevel0_row1\" class=\"row_heading level0 row1\" >0.15</th>\n",
       "                        <td id=\"T_199b73ba_188d_11eb_99cb_00224d4fcf6brow1_col0\" class=\"data row1 col0\" >27.0</td>\n",
       "                        <td id=\"T_199b73ba_188d_11eb_99cb_00224d4fcf6brow1_col1\" class=\"data row1 col1\" >31.9</td>\n",
       "                        <td id=\"T_199b73ba_188d_11eb_99cb_00224d4fcf6brow1_col2\" class=\"data row1 col2\" >35.6</td>\n",
       "                        <td id=\"T_199b73ba_188d_11eb_99cb_00224d4fcf6brow1_col3\" class=\"data row1 col3\" >38.6</td>\n",
       "            </tr>\n",
       "            <tr>\n",
       "                        <th id=\"T_199b73ba_188d_11eb_99cb_00224d4fcf6blevel0_row2\" class=\"row_heading level0 row2\" >0.2</th>\n",
       "                        <td id=\"T_199b73ba_188d_11eb_99cb_00224d4fcf6brow2_col0\" class=\"data row2 col0\" >25.9</td>\n",
       "                        <td id=\"T_199b73ba_188d_11eb_99cb_00224d4fcf6brow2_col1\" class=\"data row2 col1\" >30.5</td>\n",
       "                        <td id=\"T_199b73ba_188d_11eb_99cb_00224d4fcf6brow2_col2\" class=\"data row2 col2\" >34.0</td>\n",
       "                        <td id=\"T_199b73ba_188d_11eb_99cb_00224d4fcf6brow2_col3\" class=\"data row2 col3\" >36.7</td>\n",
       "            </tr>\n",
       "    </tbody></table>"
      ],
      "text/plain": [
       "<IPython.core.display.HTML object>"
      ]
     },
     "metadata": {},
     "output_type": "display_data"
    },
    {
     "data": {
      "text/html": [
       "<h2>Years to Retirement by savings_rate vs. interest_rate</h2>"
      ],
      "text/plain": [
       "<IPython.core.display.HTML object>"
      ]
     },
     "metadata": {},
     "output_type": "display_data"
    },
    {
     "data": {
      "text/html": [
       "<style  type=\"text/css\" >\n",
       "#T_199d965c_188d_11eb_bf3d_00224d4fcf6brow0_col0{\n",
       "            background-color:  #a50026;\n",
       "            color:  #f1f1f1;\n",
       "        }#T_199d965c_188d_11eb_bf3d_00224d4fcf6brow0_col1{\n",
       "            background-color:  #e0422f;\n",
       "            color:  #f1f1f1;\n",
       "        }#T_199d965c_188d_11eb_bf3d_00224d4fcf6brow0_col2{\n",
       "            background-color:  #f88c51;\n",
       "            color:  #000000;\n",
       "        }#T_199d965c_188d_11eb_bf3d_00224d4fcf6brow0_col3{\n",
       "            background-color:  #fec877;\n",
       "            color:  #000000;\n",
       "        }#T_199d965c_188d_11eb_bf3d_00224d4fcf6brow0_col4{\n",
       "            background-color:  #feefa3;\n",
       "            color:  #000000;\n",
       "        }#T_199d965c_188d_11eb_bf3d_00224d4fcf6brow1_col0{\n",
       "            background-color:  #fee695;\n",
       "            color:  #000000;\n",
       "        }#T_199d965c_188d_11eb_bf3d_00224d4fcf6brow1_col1{\n",
       "            background-color:  #fafdb8;\n",
       "            color:  #000000;\n",
       "        }#T_199d965c_188d_11eb_bf3d_00224d4fcf6brow1_col2{\n",
       "            background-color:  #daf08d;\n",
       "            color:  #000000;\n",
       "        }#T_199d965c_188d_11eb_bf3d_00224d4fcf6brow1_col3{\n",
       "            background-color:  #b5df74;\n",
       "            color:  #000000;\n",
       "        }#T_199d965c_188d_11eb_bf3d_00224d4fcf6brow1_col4{\n",
       "            background-color:  #8ecf67;\n",
       "            color:  #000000;\n",
       "        }#T_199d965c_188d_11eb_bf3d_00224d4fcf6brow2_col0{\n",
       "            background-color:  #c3e67d;\n",
       "            color:  #000000;\n",
       "        }#T_199d965c_188d_11eb_bf3d_00224d4fcf6brow2_col1{\n",
       "            background-color:  #98d368;\n",
       "            color:  #000000;\n",
       "        }#T_199d965c_188d_11eb_bf3d_00224d4fcf6brow2_col2{\n",
       "            background-color:  #70c164;\n",
       "            color:  #000000;\n",
       "        }#T_199d965c_188d_11eb_bf3d_00224d4fcf6brow2_col3{\n",
       "            background-color:  #45ad5b;\n",
       "            color:  #000000;\n",
       "        }#T_199d965c_188d_11eb_bf3d_00224d4fcf6brow2_col4{\n",
       "            background-color:  #1e9a51;\n",
       "            color:  #000000;\n",
       "        }#T_199d965c_188d_11eb_bf3d_00224d4fcf6brow3_col0{\n",
       "            background-color:  #69be63;\n",
       "            color:  #000000;\n",
       "        }#T_199d965c_188d_11eb_bf3d_00224d4fcf6brow3_col1{\n",
       "            background-color:  #3ca959;\n",
       "            color:  #000000;\n",
       "        }#T_199d965c_188d_11eb_bf3d_00224d4fcf6brow3_col2{\n",
       "            background-color:  #17934e;\n",
       "            color:  #000000;\n",
       "        }#T_199d965c_188d_11eb_bf3d_00224d4fcf6brow3_col3{\n",
       "            background-color:  #0a7b41;\n",
       "            color:  #f1f1f1;\n",
       "        }#T_199d965c_188d_11eb_bf3d_00224d4fcf6brow3_col4{\n",
       "            background-color:  #006837;\n",
       "            color:  #f1f1f1;\n",
       "        }</style><table id=\"T_199d965c_188d_11eb_bf3d_00224d4fcf6b\" ><caption>Years to Retirement - savings_rate vs. interest_rate</caption><thead>    <tr>        <th class=\"blank level0\" ></th>        <th class=\"col_heading level0 col0\" >0.03</th>        <th class=\"col_heading level0 col1\" >0.04</th>        <th class=\"col_heading level0 col2\" >0.05</th>        <th class=\"col_heading level0 col3\" >0.06</th>        <th class=\"col_heading level0 col4\" >0.07</th>    </tr>    <tr>        <th class=\"index_name level0\" >savings_rate</th>        <th class=\"blank\" ></th>        <th class=\"blank\" ></th>        <th class=\"blank\" ></th>        <th class=\"blank\" ></th>        <th class=\"blank\" ></th>    </tr></thead><tbody>\n",
       "                <tr>\n",
       "                        <th id=\"T_199d965c_188d_11eb_bf3d_00224d4fcf6blevel0_row0\" class=\"row_heading level0 row0\" >0.1</th>\n",
       "                        <td id=\"T_199d965c_188d_11eb_bf3d_00224d4fcf6brow0_col0\" class=\"data row0 col0\" >50.2</td>\n",
       "                        <td id=\"T_199d965c_188d_11eb_bf3d_00224d4fcf6brow0_col1\" class=\"data row0 col1\" >46.7</td>\n",
       "                        <td id=\"T_199d965c_188d_11eb_bf3d_00224d4fcf6brow0_col2\" class=\"data row0 col2\" >43.5</td>\n",
       "                        <td id=\"T_199d965c_188d_11eb_bf3d_00224d4fcf6brow0_col3\" class=\"data row0 col3\" >40.7</td>\n",
       "                        <td id=\"T_199d965c_188d_11eb_bf3d_00224d4fcf6brow0_col4\" class=\"data row0 col4\" >38.2</td>\n",
       "            </tr>\n",
       "            <tr>\n",
       "                        <th id=\"T_199d965c_188d_11eb_bf3d_00224d4fcf6blevel0_row1\" class=\"row_heading level0 row1\" >0.2</th>\n",
       "                        <td id=\"T_199d965c_188d_11eb_bf3d_00224d4fcf6brow1_col0\" class=\"data row1 col0\" >38.9</td>\n",
       "                        <td id=\"T_199d965c_188d_11eb_bf3d_00224d4fcf6brow1_col1\" class=\"data row1 col1\" >36.3</td>\n",
       "                        <td id=\"T_199d965c_188d_11eb_bf3d_00224d4fcf6brow1_col2\" class=\"data row1 col2\" >34.2</td>\n",
       "                        <td id=\"T_199d965c_188d_11eb_bf3d_00224d4fcf6brow1_col3\" class=\"data row1 col3\" >32.2</td>\n",
       "                        <td id=\"T_199d965c_188d_11eb_bf3d_00224d4fcf6brow1_col4\" class=\"data row1 col4\" >30.4</td>\n",
       "            </tr>\n",
       "            <tr>\n",
       "                        <th id=\"T_199d965c_188d_11eb_bf3d_00224d4fcf6blevel0_row2\" class=\"row_heading level0 row2\" >0.3</th>\n",
       "                        <td id=\"T_199d965c_188d_11eb_bf3d_00224d4fcf6brow2_col0\" class=\"data row2 col0\" >32.8</td>\n",
       "                        <td id=\"T_199d965c_188d_11eb_bf3d_00224d4fcf6brow2_col1\" class=\"data row2 col1\" >30.8</td>\n",
       "                        <td id=\"T_199d965c_188d_11eb_bf3d_00224d4fcf6brow2_col2\" class=\"data row2 col2\" >29.1</td>\n",
       "                        <td id=\"T_199d965c_188d_11eb_bf3d_00224d4fcf6brow2_col3\" class=\"data row2 col3\" >27.5</td>\n",
       "                        <td id=\"T_199d965c_188d_11eb_bf3d_00224d4fcf6brow2_col4\" class=\"data row2 col4\" >26.1</td>\n",
       "            </tr>\n",
       "            <tr>\n",
       "                        <th id=\"T_199d965c_188d_11eb_bf3d_00224d4fcf6blevel0_row3\" class=\"row_heading level0 row3\" >0.4</th>\n",
       "                        <td id=\"T_199d965c_188d_11eb_bf3d_00224d4fcf6brow3_col0\" class=\"data row3 col0\" >28.8</td>\n",
       "                        <td id=\"T_199d965c_188d_11eb_bf3d_00224d4fcf6brow3_col1\" class=\"data row3 col1\" >27.2</td>\n",
       "                        <td id=\"T_199d965c_188d_11eb_bf3d_00224d4fcf6brow3_col2\" class=\"data row3 col2\" >25.7</td>\n",
       "                        <td id=\"T_199d965c_188d_11eb_bf3d_00224d4fcf6brow3_col3\" class=\"data row3 col3\" >24.4</td>\n",
       "                        <td id=\"T_199d965c_188d_11eb_bf3d_00224d4fcf6brow3_col4\" class=\"data row3 col4\" >23.2</td>\n",
       "            </tr>\n",
       "    </tbody></table>"
      ],
      "text/plain": [
       "<IPython.core.display.HTML object>"
      ]
     },
     "metadata": {},
     "output_type": "display_data"
    },
    {
     "data": {
      "text/html": [
       "<h2>Years to Retirement by savings_rate vs. desired_cash</h2>"
      ],
      "text/plain": [
       "<IPython.core.display.HTML object>"
      ]
     },
     "metadata": {},
     "output_type": "display_data"
    },
    {
     "data": {
      "text/html": [
       "<style  type=\"text/css\" >\n",
       "#T_199fb91c_188d_11eb_be4e_00224d4fcf6brow0_col0,#T_199fb91c_188d_11eb_be4e_00224d4fcf6brow1_col2{\n",
       "            background-color:  #feec9f;\n",
       "            color:  #000000;\n",
       "        }#T_199fb91c_188d_11eb_be4e_00224d4fcf6brow0_col1{\n",
       "            background-color:  #f98e52;\n",
       "            color:  #000000;\n",
       "        }#T_199fb91c_188d_11eb_be4e_00224d4fcf6brow0_col2{\n",
       "            background-color:  #da362a;\n",
       "            color:  #f1f1f1;\n",
       "        }#T_199fb91c_188d_11eb_be4e_00224d4fcf6brow0_col3{\n",
       "            background-color:  #a50026;\n",
       "            color:  #f1f1f1;\n",
       "        }#T_199fb91c_188d_11eb_be4e_00224d4fcf6brow1_col0,#T_199fb91c_188d_11eb_be4e_00224d4fcf6brow2_col1,#T_199fb91c_188d_11eb_be4e_00224d4fcf6brow3_col2{\n",
       "            background-color:  #8ecf67;\n",
       "            color:  #000000;\n",
       "        }#T_199fb91c_188d_11eb_be4e_00224d4fcf6brow1_col1{\n",
       "            background-color:  #e5f49b;\n",
       "            color:  #000000;\n",
       "        }#T_199fb91c_188d_11eb_be4e_00224d4fcf6brow1_col3{\n",
       "            background-color:  #fdc171;\n",
       "            color:  #000000;\n",
       "        }#T_199fb91c_188d_11eb_be4e_00224d4fcf6brow2_col0{\n",
       "            background-color:  #1b9950;\n",
       "            color:  #000000;\n",
       "        }#T_199fb91c_188d_11eb_be4e_00224d4fcf6brow2_col2{\n",
       "            background-color:  #cfeb85;\n",
       "            color:  #000000;\n",
       "        }#T_199fb91c_188d_11eb_be4e_00224d4fcf6brow2_col3{\n",
       "            background-color:  #f7fcb4;\n",
       "            color:  #000000;\n",
       "        }#T_199fb91c_188d_11eb_be4e_00224d4fcf6brow3_col0{\n",
       "            background-color:  #006837;\n",
       "            color:  #f1f1f1;\n",
       "        }#T_199fb91c_188d_11eb_be4e_00224d4fcf6brow3_col1{\n",
       "            background-color:  #3faa59;\n",
       "            color:  #000000;\n",
       "        }#T_199fb91c_188d_11eb_be4e_00224d4fcf6brow3_col3{\n",
       "            background-color:  #c1e57b;\n",
       "            color:  #000000;\n",
       "        }</style><table id=\"T_199fb91c_188d_11eb_be4e_00224d4fcf6b\" ><caption>Years to Retirement - savings_rate vs. desired_cash</caption><thead>    <tr>        <th class=\"blank level0\" ></th>        <th class=\"col_heading level0 col0\" >1000000</th>        <th class=\"col_heading level0 col1\" >1500000</th>        <th class=\"col_heading level0 col2\" >2000000</th>        <th class=\"col_heading level0 col3\" >2500000</th>    </tr>    <tr>        <th class=\"index_name level0\" >savings_rate</th>        <th class=\"blank\" ></th>        <th class=\"blank\" ></th>        <th class=\"blank\" ></th>        <th class=\"blank\" ></th>    </tr></thead><tbody>\n",
       "                <tr>\n",
       "                        <th id=\"T_199fb91c_188d_11eb_be4e_00224d4fcf6blevel0_row0\" class=\"row_heading level0 row0\" >0.1</th>\n",
       "                        <td id=\"T_199fb91c_188d_11eb_be4e_00224d4fcf6brow0_col0\" class=\"data row0 col0\" >36.8</td>\n",
       "                        <td id=\"T_199fb91c_188d_11eb_be4e_00224d4fcf6brow0_col1\" class=\"data row0 col1\" >42.4</td>\n",
       "                        <td id=\"T_199fb91c_188d_11eb_be4e_00224d4fcf6brow0_col2\" class=\"data row0 col2\" >46.5</td>\n",
       "                        <td id=\"T_199fb91c_188d_11eb_be4e_00224d4fcf6brow0_col3\" class=\"data row0 col3\" >49.8</td>\n",
       "            </tr>\n",
       "            <tr>\n",
       "                        <th id=\"T_199fb91c_188d_11eb_be4e_00224d4fcf6blevel0_row1\" class=\"row_heading level0 row1\" >0.2</th>\n",
       "                        <td id=\"T_199fb91c_188d_11eb_be4e_00224d4fcf6brow1_col0\" class=\"data row1 col0\" >28.0</td>\n",
       "                        <td id=\"T_199fb91c_188d_11eb_be4e_00224d4fcf6brow1_col1\" class=\"data row1 col1\" >33.0</td>\n",
       "                        <td id=\"T_199fb91c_188d_11eb_be4e_00224d4fcf6brow1_col2\" class=\"data row1 col2\" >36.8</td>\n",
       "                        <td id=\"T_199fb91c_188d_11eb_be4e_00224d4fcf6brow1_col3\" class=\"data row1 col3\" >39.8</td>\n",
       "            </tr>\n",
       "            <tr>\n",
       "                        <th id=\"T_199fb91c_188d_11eb_be4e_00224d4fcf6blevel0_row2\" class=\"row_heading level0 row2\" >0.3</th>\n",
       "                        <td id=\"T_199fb91c_188d_11eb_be4e_00224d4fcf6brow2_col0\" class=\"data row2 col0\" >23.3</td>\n",
       "                        <td id=\"T_199fb91c_188d_11eb_be4e_00224d4fcf6brow2_col1\" class=\"data row2 col1\" >28.0</td>\n",
       "                        <td id=\"T_199fb91c_188d_11eb_be4e_00224d4fcf6brow2_col2\" class=\"data row2 col2\" >31.5</td>\n",
       "                        <td id=\"T_199fb91c_188d_11eb_be4e_00224d4fcf6brow2_col3\" class=\"data row2 col3\" >34.4</td>\n",
       "            </tr>\n",
       "            <tr>\n",
       "                        <th id=\"T_199fb91c_188d_11eb_be4e_00224d4fcf6blevel0_row3\" class=\"row_heading level0 row3\" >0.4</th>\n",
       "                        <td id=\"T_199fb91c_188d_11eb_be4e_00224d4fcf6brow3_col0\" class=\"data row3 col0\" >20.2</td>\n",
       "                        <td id=\"T_199fb91c_188d_11eb_be4e_00224d4fcf6brow3_col1\" class=\"data row3 col1\" >24.6</td>\n",
       "                        <td id=\"T_199fb91c_188d_11eb_be4e_00224d4fcf6brow3_col2\" class=\"data row3 col2\" >28.0</td>\n",
       "                        <td id=\"T_199fb91c_188d_11eb_be4e_00224d4fcf6brow3_col3\" class=\"data row3 col3\" >30.7</td>\n",
       "            </tr>\n",
       "    </tbody></table>"
      ],
      "text/plain": [
       "<IPython.core.display.HTML object>"
      ]
     },
     "metadata": {},
     "output_type": "display_data"
    },
    {
     "data": {
      "text/html": [
       "<h2>Years to Retirement by interest_rate vs. desired_cash</h2>"
      ],
      "text/plain": [
       "<IPython.core.display.HTML object>"
      ]
     },
     "metadata": {},
     "output_type": "display_data"
    },
    {
     "data": {
      "text/html": [
       "<style  type=\"text/css\" >\n",
       "#T_19a50fd2_188d_11eb_ba67_00224d4fcf6brow0_col0{\n",
       "            background-color:  #a7d96b;\n",
       "            color:  #000000;\n",
       "        }#T_19a50fd2_188d_11eb_ba67_00224d4fcf6brow0_col1,#T_19a50fd2_188d_11eb_ba67_00224d4fcf6brow3_col3{\n",
       "            background-color:  #fee18d;\n",
       "            color:  #000000;\n",
       "        }#T_19a50fd2_188d_11eb_ba67_00224d4fcf6brow0_col2{\n",
       "            background-color:  #ee613e;\n",
       "            color:  #000000;\n",
       "        }#T_19a50fd2_188d_11eb_ba67_00224d4fcf6brow0_col3{\n",
       "            background-color:  #a50026;\n",
       "            color:  #f1f1f1;\n",
       "        }#T_19a50fd2_188d_11eb_ba67_00224d4fcf6brow1_col0{\n",
       "            background-color:  #6ec064;\n",
       "            color:  #000000;\n",
       "        }#T_19a50fd2_188d_11eb_ba67_00224d4fcf6brow1_col1{\n",
       "            background-color:  #f8fcb6;\n",
       "            color:  #000000;\n",
       "        }#T_19a50fd2_188d_11eb_ba67_00224d4fcf6brow1_col2{\n",
       "            background-color:  #fdb567;\n",
       "            color:  #000000;\n",
       "        }#T_19a50fd2_188d_11eb_ba67_00224d4fcf6brow1_col3{\n",
       "            background-color:  #e65036;\n",
       "            color:  #000000;\n",
       "        }#T_19a50fd2_188d_11eb_ba67_00224d4fcf6brow2_col0{\n",
       "            background-color:  #33a456;\n",
       "            color:  #000000;\n",
       "        }#T_19a50fd2_188d_11eb_ba67_00224d4fcf6brow2_col1{\n",
       "            background-color:  #cfeb85;\n",
       "            color:  #000000;\n",
       "        }#T_19a50fd2_188d_11eb_ba67_00224d4fcf6brow2_col2{\n",
       "            background-color:  #feeb9d;\n",
       "            color:  #000000;\n",
       "        }#T_19a50fd2_188d_11eb_ba67_00224d4fcf6brow2_col3{\n",
       "            background-color:  #fba35c;\n",
       "            color:  #000000;\n",
       "        }#T_19a50fd2_188d_11eb_ba67_00224d4fcf6brow3_col0{\n",
       "            background-color:  #108647;\n",
       "            color:  #000000;\n",
       "        }#T_19a50fd2_188d_11eb_ba67_00224d4fcf6brow3_col1{\n",
       "            background-color:  #a0d669;\n",
       "            color:  #000000;\n",
       "        }#T_19a50fd2_188d_11eb_ba67_00224d4fcf6brow3_col2{\n",
       "            background-color:  #eff8aa;\n",
       "            color:  #000000;\n",
       "        }#T_19a50fd2_188d_11eb_ba67_00224d4fcf6brow4_col0{\n",
       "            background-color:  #006837;\n",
       "            color:  #f1f1f1;\n",
       "        }#T_19a50fd2_188d_11eb_ba67_00224d4fcf6brow4_col1{\n",
       "            background-color:  #6bbf64;\n",
       "            color:  #000000;\n",
       "        }#T_19a50fd2_188d_11eb_ba67_00224d4fcf6brow4_col2{\n",
       "            background-color:  #c7e77f;\n",
       "            color:  #000000;\n",
       "        }#T_19a50fd2_188d_11eb_ba67_00224d4fcf6brow4_col3{\n",
       "            background-color:  #fbfdba;\n",
       "            color:  #000000;\n",
       "        }</style><table id=\"T_19a50fd2_188d_11eb_ba67_00224d4fcf6b\" ><caption>Years to Retirement - interest_rate vs. desired_cash</caption><thead>    <tr>        <th class=\"blank level0\" ></th>        <th class=\"col_heading level0 col0\" >1000000</th>        <th class=\"col_heading level0 col1\" >1500000</th>        <th class=\"col_heading level0 col2\" >2000000</th>        <th class=\"col_heading level0 col3\" >2500000</th>    </tr>    <tr>        <th class=\"index_name level0\" >interest_rate</th>        <th class=\"blank\" ></th>        <th class=\"blank\" ></th>        <th class=\"blank\" ></th>        <th class=\"blank\" ></th>    </tr></thead><tbody>\n",
       "                <tr>\n",
       "                        <th id=\"T_19a50fd2_188d_11eb_ba67_00224d4fcf6blevel0_row0\" class=\"row_heading level0 row0\" >0.03</th>\n",
       "                        <td id=\"T_19a50fd2_188d_11eb_ba67_00224d4fcf6brow0_col0\" class=\"data row0 col0\" >30.2</td>\n",
       "                        <td id=\"T_19a50fd2_188d_11eb_ba67_00224d4fcf6brow0_col1\" class=\"data row0 col1\" >36.1</td>\n",
       "                        <td id=\"T_19a50fd2_188d_11eb_ba67_00224d4fcf6brow0_col2\" class=\"data row0 col2\" >40.5</td>\n",
       "                        <td id=\"T_19a50fd2_188d_11eb_ba67_00224d4fcf6brow0_col3\" class=\"data row0 col3\" >44.0</td>\n",
       "            </tr>\n",
       "            <tr>\n",
       "                        <th id=\"T_19a50fd2_188d_11eb_ba67_00224d4fcf6blevel0_row1\" class=\"row_heading level0 row1\" >0.04</th>\n",
       "                        <td id=\"T_19a50fd2_188d_11eb_ba67_00224d4fcf6brow1_col0\" class=\"data row1 col0\" >28.4</td>\n",
       "                        <td id=\"T_19a50fd2_188d_11eb_ba67_00224d4fcf6brow1_col1\" class=\"data row1 col1\" >33.8</td>\n",
       "                        <td id=\"T_19a50fd2_188d_11eb_ba67_00224d4fcf6brow1_col2\" class=\"data row1 col2\" >37.8</td>\n",
       "                        <td id=\"T_19a50fd2_188d_11eb_ba67_00224d4fcf6brow1_col3\" class=\"data row1 col3\" >41.0</td>\n",
       "            </tr>\n",
       "            <tr>\n",
       "                        <th id=\"T_19a50fd2_188d_11eb_ba67_00224d4fcf6blevel0_row2\" class=\"row_heading level0 row2\" >0.05</th>\n",
       "                        <td id=\"T_19a50fd2_188d_11eb_ba67_00224d4fcf6brow2_col0\" class=\"data row2 col0\" >26.9</td>\n",
       "                        <td id=\"T_19a50fd2_188d_11eb_ba67_00224d4fcf6brow2_col1\" class=\"data row2 col1\" >31.8</td>\n",
       "                        <td id=\"T_19a50fd2_188d_11eb_ba67_00224d4fcf6brow2_col2\" class=\"data row2 col2\" >35.4</td>\n",
       "                        <td id=\"T_19a50fd2_188d_11eb_ba67_00224d4fcf6brow2_col3\" class=\"data row2 col3\" >38.4</td>\n",
       "            </tr>\n",
       "            <tr>\n",
       "                        <th id=\"T_19a50fd2_188d_11eb_ba67_00224d4fcf6blevel0_row3\" class=\"row_heading level0 row3\" >0.06</th>\n",
       "                        <td id=\"T_19a50fd2_188d_11eb_ba67_00224d4fcf6brow3_col0\" class=\"data row3 col0\" >25.5</td>\n",
       "                        <td id=\"T_19a50fd2_188d_11eb_ba67_00224d4fcf6brow3_col1\" class=\"data row3 col1\" >30.0</td>\n",
       "                        <td id=\"T_19a50fd2_188d_11eb_ba67_00224d4fcf6brow3_col2\" class=\"data row3 col2\" >33.3</td>\n",
       "                        <td id=\"T_19a50fd2_188d_11eb_ba67_00224d4fcf6brow3_col3\" class=\"data row3 col3\" >36.0</td>\n",
       "            </tr>\n",
       "            <tr>\n",
       "                        <th id=\"T_19a50fd2_188d_11eb_ba67_00224d4fcf6blevel0_row4\" class=\"row_heading level0 row4\" >0.07</th>\n",
       "                        <td id=\"T_19a50fd2_188d_11eb_ba67_00224d4fcf6brow4_col0\" class=\"data row4 col0\" >24.2</td>\n",
       "                        <td id=\"T_19a50fd2_188d_11eb_ba67_00224d4fcf6brow4_col1\" class=\"data row4 col1\" >28.4</td>\n",
       "                        <td id=\"T_19a50fd2_188d_11eb_ba67_00224d4fcf6brow4_col2\" class=\"data row4 col2\" >31.4</td>\n",
       "                        <td id=\"T_19a50fd2_188d_11eb_ba67_00224d4fcf6brow4_col3\" class=\"data row4 col3\" >33.9</td>\n",
       "            </tr>\n",
       "    </tbody></table>"
      ],
      "text/plain": [
       "<IPython.core.display.HTML object>"
      ]
     },
     "metadata": {},
     "output_type": "display_data"
    }
   ],
   "source": [
    "styled_dict = sa.styled_dfs(num_fmt='{:.1f}')"
   ]
  },
  {
   "cell_type": "markdown",
   "metadata": {},
   "source": [
    "# Scenario Analysis\n",
    "\n",
    "This section examines realistic cases of a bad and good economy and sees how it affects the years to retirement. The original result is the assumed case for a normal economy.\n",
    "\n",
    "Note: This example shows external scenario analysis, which is easy to add to the model after you've built it. There is also internal scenario analysis which can be more appropriate if you're building scenarios into the model from the beginning. Since we already have an existing model, I will show external scenario analysis here."
   ]
  },
  {
   "cell_type": "markdown",
   "metadata": {},
   "source": [
    "## External\n",
    "\n",
    "First I will set up the three cases of inputs for the bad economy, normal economy (baseline inputs), and good economy. All of the inputs are adjusted together."
   ]
  },
  {
   "cell_type": "code",
   "execution_count": 22,
   "metadata": {},
   "outputs": [],
   "source": [
    "bad_economy_data = ModelInputs(\n",
    "    starting_salary=40000,\n",
    "    promos_every_n_years=8,\n",
    "    cost_of_living_raise=0.01,\n",
    "    promo_raise=0.07,\n",
    "    savings_rate=0.15,\n",
    "    interest_rate=0.03,\n",
    ")\n",
    "\n",
    "good_economy_data = ModelInputs(\n",
    "    starting_salary=70000,\n",
    "    promos_every_n_years=4,\n",
    "    cost_of_living_raise=0.03,\n",
    "    promo_raise=0.20,\n",
    "    savings_rate=0.35,\n",
    "    interest_rate=0.06,\n",
    ")\n",
    "\n",
    "cases = {\n",
    "    'Bad': bad_economy_data,\n",
    "    'Normal': model_data, # Original inputs were set to assume a normal economy\n",
    "    'Good': good_economy_data\n",
    "}"
   ]
  },
  {
   "cell_type": "markdown",
   "metadata": {},
   "source": [
    "Now run the model with each of the three cases, and display the results."
   ]
  },
  {
   "cell_type": "code",
   "execution_count": 23,
   "metadata": {},
   "outputs": [
    {
     "name": "stdout",
     "output_type": "stream",
     "text": [
      "It would take 61 years to retire in a Bad economy.\n",
      "It would take 28 years to retire in a Normal economy.\n",
      "It would take 19 years to retire in a Good economy.\n"
     ]
    }
   ],
   "source": [
    "for case_type, case_inputs in cases.items():\n",
    "    ytr = years_to_retirement(case_inputs, print_output=False)\n",
    "    print(f'It would take {ytr} years to retire in a {case_type} economy.')"
   ]
  },
  {
   "cell_type": "markdown",
   "metadata": {},
   "source": [
    "As we can see, if there were a sustained bad economy for the entire career, the individual would essentially never be able to retire, whereas if there was a sustained good economy for the entire career, the individual could retire almost 10 years earlier."
   ]
  },
  {
   "cell_type": "markdown",
   "metadata": {},
   "source": [
    "If we assign probabilities to these cases, we can also get a new expected years to retirement based on these probabilities."
   ]
  },
  {
   "cell_type": "code",
   "execution_count": 24,
   "metadata": {},
   "outputs": [
    {
     "name": "stdout",
     "output_type": "stream",
     "text": [
      "It would take 32 years to retire considering a 20% chance of a bad economy and 30% chance of a good economy.\n"
     ]
    }
   ],
   "source": [
    "case_probabilities = {\n",
    "    'Bad': 0.2,\n",
    "    'Normal': 0.5,\n",
    "    'Good': 0.3\n",
    "}\n",
    "\n",
    "# Take expected value over the cases\n",
    "expected_ytr = 0\n",
    "for case_type, case_inputs in cases.items():\n",
    "    ytr = years_to_retirement(case_inputs, print_output=False)\n",
    "    weighted_ytr = ytr * case_probabilities[case_type]\n",
    "    expected_ytr += weighted_ytr\n",
    "print(f'It would take {expected_ytr:.0f} years to retire considering a {case_probabilities[\"Bad\"]:.0%} chance of a bad economy and {case_probabilities[\"Good\"]:.0%} chance of a good economy.')"
   ]
  },
  {
   "cell_type": "markdown",
   "metadata": {},
   "source": [
    "Considering the scenario analysis, we should expect that it takes a few years longer to retire than the baseline case, as the saving and investment potential is vastly lower in the bad economy. "
   ]
  },
  {
   "cell_type": "markdown",
   "metadata": {},
   "source": [
    "# Internal Randomness\n",
    "\n",
    "It's not realistic for the economy to be bad or good for the entire career of the individual. Really, in a given year there should be some probability of whether it is a good/bad/neutral economy. So it really makes sense to build these scenarios inside the model rather than use them externally.\n",
    "\n",
    "Note: Again, you would just pick one of internal or external but I show both for example. But, some planning is required, because if you already made the model and want to use internal scenario analysis, it requires rewriting parts of the model, whereas external can always be added on later. So here I will be rewriting portions of the model. But in a realistic problem I would have considered that by year probabilities of the cases are a lot more realistic, so I would have built out the model the first time with the scenarios already included. This will add substantially to the complexity of the model and so was not appropriate as the intro model."
   ]
  },
  {
   "cell_type": "code",
   "execution_count": 25,
   "metadata": {},
   "outputs": [
    {
     "data": {
      "text/plain": [
       "ModelInputs(starting_salary=(40000, 60000, 70000), promos_every_n_years=(8, 5, 4), cost_of_living_raise=(0.01, 0.02, 0.03), promo_raise=(0.07, 0.15, 0.2), savings_rate=(0.15, 0.25, 0.35), interest_rate=(0.03, 0.05, 0.06), desired_cash=1500000, recession_prob=0.2, expansion_prob=0.3, case_names=('Recession', 'Normal', 'Expansion'), n_iter=1000)"
      ]
     },
     "execution_count": 25,
     "metadata": {},
     "output_type": "execute_result"
    }
   ],
   "source": [
    "@dataclass\n",
    "class ModelInputs:\n",
    "    starting_salary: tuple = (40000, 60000, 70000)\n",
    "    promos_every_n_years: tuple = (8, 5, 4)\n",
    "    cost_of_living_raise: tuple = (0.01, 0.02, 0.03)\n",
    "    promo_raise: tuple = (0.07, 0.15, 0.2)\n",
    "    savings_rate: tuple = (0.15, 0.25, 0.35)\n",
    "    interest_rate: tuple = (0.03, 0.05, 0.06)\n",
    "    desired_cash: int = 1500000\n",
    "    recession_prob: float = 0.2\n",
    "    expansion_prob: float = 0.3\n",
    "    case_names: tuple = ('Recession', 'Normal', 'Expansion')\n",
    "    n_iter: int = 1000\n",
    "        \n",
    "model_data = ModelInputs()\n",
    "model_data"
   ]
  },
  {
   "cell_type": "markdown",
   "metadata": {},
   "source": [
    "First create a function which determines which economy case we are in for a given year. Here I will number the cases as:\n",
    "\n",
    "- 0: Bad economy\n",
    "- 1: Normal economy\n",
    "- 2: Good economy\n",
    "\n",
    "As this lines up with how we've defined the inputs. The function will return the case number."
   ]
  },
  {
   "cell_type": "code",
   "execution_count": 26,
   "metadata": {},
   "outputs": [
    {
     "data": {
      "text/plain": [
       "1"
      ]
     },
     "execution_count": 26,
     "metadata": {},
     "output_type": "execute_result"
    }
   ],
   "source": [
    "def get_economy_case_number(data):\n",
    "    \"\"\"\n",
    "    Uses the probabilities of a bad and good economy to output the economy case number for a given year.\n",
    "    \n",
    "    0 corresponsds to a bad economy, 1 to a normal economy, and 2 to a good economy.\n",
    "    \"\"\"\n",
    "    normal_probability = 1 - data.recession_prob - data.expansion_prob\n",
    "    case_num = random.choices([0, 1, 2], weights=[data.recession_prob, normal_probability, data.expansion_prob])[0]\n",
    "    return case_num\n",
    "\n",
    "\n",
    "get_economy_case_number(model_data)"
   ]
  },
  {
   "cell_type": "markdown",
   "metadata": {},
   "source": [
    "Now I will rewrite the main functions by replacing any access to the inputs as looking up the input for the case number, and making sure case is passed to each of the functions. Now the `years_to_retirement` function will also determine the economy case in each year."
   ]
  },
  {
   "cell_type": "code",
   "execution_count": 27,
   "metadata": {},
   "outputs": [],
   "source": [
    "def salary_at_year(data: ModelInputs, year, case):\n",
    "    \"\"\"\n",
    "    Gets the salary at a given year from the start of the model based on cost of living raises and regular promotions.\n",
    "    \"\"\"\n",
    "    # Every n years we have a promotion, so dividing the years and taking out the decimals gets the number of promotions\n",
    "    num_promos = int(year / data.promos_every_n_years[case])\n",
    "    \n",
    "    # This is the formula above implemented in Python\n",
    "    salary_t = data.starting_salary[case] * (1 + data.cost_of_living_raise[case]) ** year * (1 + data.promo_raise[case]) ** num_promos\n",
    "    return salary_t\n",
    "\n",
    "\n",
    "def cash_saved_during_year(data: ModelInputs, year, case):\n",
    "    \"\"\"\n",
    "    Calculated the cash saved within a given year, by first calculating the salary at that year then applying the \n",
    "    savings rate.\n",
    "    \"\"\"\n",
    "    salary = salary_at_year(data, year, case)\n",
    "    cash_saved = salary * data.savings_rate[case]\n",
    "    return cash_saved\n",
    "\n",
    "\n",
    "def wealth_at_year(data: ModelInputs, year, prior_wealth, case):\n",
    "    \"\"\"\n",
    "    Calculate the accumulated wealth for a given year, based on previous wealth, the investment rate,\n",
    "    and cash saved during the year.\n",
    "    \"\"\"\n",
    "    cash_saved = cash_saved_during_year(data, year, case)\n",
    "    wealth = prior_wealth * (1 + data.interest_rate[case]) + cash_saved\n",
    "    return wealth\n",
    "\n",
    "\n",
    "def years_to_retirement(data: ModelInputs, print_output=True):\n",
    "    \"\"\"\n",
    "    The main model function which calculates the years to retirement based on the model inputs,\n",
    "    calling the other functions to determine the salaries and wealths over time.\n",
    "    \"\"\"\n",
    "    # starting with no cash saved\n",
    "    prior_wealth = 0  \n",
    "    wealth = 0\n",
    "\n",
    "    year = 0  # will become 1 on first loop\n",
    "\n",
    "    if print_output:\n",
    "        print('Wealths over time:') # \\n makes a blank line in the output.\n",
    "    while wealth < data.desired_cash:\n",
    "        year = year + 1\n",
    "        case = get_economy_case_number(data)  # 0 = recession, 1 = normal, 2 = expansion\n",
    "        case_type = data.case_names[case]\n",
    "        wealth = wealth_at_year(data, year, prior_wealth, case)\n",
    "        if print_output:\n",
    "            print(f'The wealth at year {year} ({case_type} economy) is ${wealth:,.0f}.')\n",
    "\n",
    "        # Set next year's prior wealth to this year's wealth\n",
    "        prior_wealth = wealth\n",
    "\n",
    "    # Now we have exited the while loop, so wealth must be >= desired_cash. Whatever last year was set\n",
    "    # is the years to retirement.\n",
    "    if print_output:\n",
    "        print(f'\\nRetirement:\\nIt will take {year} years to retire.')  # \\n makes a blank line in the output.\n",
    "    return year"
   ]
  },
  {
   "cell_type": "markdown",
   "metadata": {},
   "source": [
    "We can see now that everything is working as expected. However now the model is internally random, so we must run it many times and take the expected value of the result."
   ]
  },
  {
   "cell_type": "code",
   "execution_count": 28,
   "metadata": {},
   "outputs": [
    {
     "name": "stdout",
     "output_type": "stream",
     "text": [
      "Wealths over time:\n",
      "The wealth at year 1 (Normal economy) is $15,300.\n",
      "The wealth at year 2 (Expansion economy) is $42,210.\n",
      "The wealth at year 3 (Normal economy) is $60,239.\n",
      "The wealth at year 4 (Normal economy) is $79,487.\n",
      "The wealth at year 5 (Normal economy) is $102,507.\n",
      "The wealth at year 6 (Recession economy) is $111,951.\n",
      "The wealth at year 7 (Recession economy) is $121,743.\n",
      "The wealth at year 8 (Normal economy) is $148,041.\n",
      "The wealth at year 9 (Expansion economy) is $202,956.\n",
      "The wealth at year 10 (Normal economy) is $237,285.\n",
      "The wealth at year 11 (Expansion economy) is $300,358.\n",
      "The wealth at year 12 (Expansion economy) is $378,741.\n",
      "The wealth at year 13 (Recession economy) is $397,409.\n",
      "The wealth at year 14 (Normal economy) is $443,455.\n",
      "The wealth at year 15 (Expansion economy) is $536,020.\n",
      "The wealth at year 16 (Normal economy) is $594,139.\n",
      "The wealth at year 17 (Normal economy) is $655,790.\n",
      "The wealth at year 18 (Normal economy) is $721,162.\n",
      "The wealth at year 19 (Normal economy) is $790,455.\n",
      "The wealth at year 20 (Expansion economy) is $947,989.\n",
      "The wealth at year 21 (Normal economy) is $1,035,152.\n",
      "The wealth at year 22 (Expansion economy) is $1,214,075.\n",
      "The wealth at year 23 (Expansion economy) is $1,407,236.\n",
      "The wealth at year 24 (Normal economy) is $1,519,796.\n",
      "\n",
      "Retirement:\n",
      "It will take 24 years to retire.\n"
     ]
    },
    {
     "data": {
      "text/plain": [
       "24"
      ]
     },
     "execution_count": 28,
     "metadata": {},
     "output_type": "execute_result"
    }
   ],
   "source": [
    "years_to_retirement(model_data)"
   ]
  },
  {
   "cell_type": "markdown",
   "metadata": {},
   "source": [
    "Run the model for a number of iterations to see how long it would take to retire in each case, and print\n",
    "some summary statistics."
   ]
  },
  {
   "cell_type": "code",
   "execution_count": 29,
   "metadata": {},
   "outputs": [],
   "source": [
    "def years_to_retirement_case_df(data):\n",
    "    \"\"\"\n",
    "    Runs the model repeatedly based on the number of iterations and puts the resulting\n",
    "    years to retirement in a DataFrame\n",
    "    \"\"\"\n",
    "    all_ytrs = []\n",
    "    for i in range(data.n_iter):\n",
    "        ytr = years_to_retirement(data, print_output=False)\n",
    "        all_ytrs.append(ytr)\n",
    "\n",
    "    df = pd.DataFrame()\n",
    "    df['Years to Retirement'] = all_ytrs\n",
    "    return df\n",
    "\n",
    "def summarize_ytr_df(df):\n",
    "    \"\"\"\n",
    "    Summarizes the DataFrame which contains years to retirement from multiple runs\n",
    "    of the model\n",
    "    \"\"\"\n",
    "    avg_ytr = df['Years to Retirement'].mean()\n",
    "    std_ytr = df['Years to Retirement'].std()\n",
    "    max_ytr = df['Years to Retirement'].max()\n",
    "    min_ytr = df['Years to Retirement'].min()\n",
    "\n",
    "    print(\n",
    "        f'It will take {avg_ytr:.0f} years to retire on average, with a standard deviation '\n",
    "        f'of {std_ytr:.1f}, max of {max_ytr:.0f}, and min of {min_ytr:.0f}.'\n",
    "    )\n",
    "    \n",
    "\n",
    "def years_to_retirment_cases_and_summarize(data):\n",
    "    \"\"\"\n",
    "    Runs the model for the number of iterations in the inputs, extracts the years to \n",
    "    retirement, and summarizes the years to retirement across the iterations before \n",
    "    returning the DataFrame containing the years to retirement\n",
    "    \"\"\"\n",
    "    df = years_to_retirement_case_df(data)\n",
    "    summarize_ytr_df(df)\n",
    "    return df"
   ]
  },
  {
   "cell_type": "code",
   "execution_count": 30,
   "metadata": {},
   "outputs": [
    {
     "name": "stdout",
     "output_type": "stream",
     "text": [
      "It will take 26 years to retire on average, with a standard deviation of 1.6, max of 31, and min of 21.\n"
     ]
    }
   ],
   "source": [
    "years_to_retirment_cases_and_summarize(model_data);"
   ]
  }
 ],
 "metadata": {
  "kernelspec": {
   "display_name": "Python 3",
   "language": "python",
   "name": "python3"
  },
  "language_info": {
   "codemirror_mode": {
    "name": "ipython",
    "version": 3
   },
   "file_extension": ".py",
   "mimetype": "text/x-python",
   "name": "python",
   "nbconvert_exporter": "python",
   "pygments_lexer": "ipython3",
   "version": "3.7.6"
  }
 },
 "nbformat": 4,
 "nbformat_minor": 4
}
