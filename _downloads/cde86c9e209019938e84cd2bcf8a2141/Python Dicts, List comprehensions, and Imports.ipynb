{
 "cells": [
  {
   "cell_type": "markdown",
   "metadata": {},
   "source": [
    "# Some Additional Python Basics from Sensitivity Analysis Lecture \n",
    "\n",
    "Covered topics:\n",
    "\n",
    "- [**Dictionaries**](#Dictionaries)\n",
    "- [**List Comprehensions**](#List-Comprehensions)\n",
    "- [**Imports and Installing Packages**](#Imports-and-Installing-Packages)"
   ]
  },
  {
   "cell_type": "markdown",
   "metadata": {},
   "source": [
    "## Dictionaries\n",
    "\n",
    "We already introduced dictionaries in the Python Basics lecture and accompanying Jupyter notebook. Let's look a little more at how to use them. We will need to use them for sensitivity analysis.\n",
    "\n",
    "### Creating Dictionaries\n",
    "\n",
    "Already covered in the basics, the general way to create a dictionary is to use curly braces to construct it."
   ]
  },
  {
   "cell_type": "code",
   "execution_count": 1,
   "metadata": {},
   "outputs": [
    {
     "data": {
      "text/plain": [
       "{'a': 1, 'b': 2}"
      ]
     },
     "execution_count": 1,
     "metadata": {},
     "output_type": "execute_result"
    }
   ],
   "source": [
    "my_dict = {\n",
    "    'a': 1,\n",
    "    'b': 2\n",
    "}\n",
    "my_dict"
   ]
  },
  {
   "cell_type": "markdown",
   "metadata": {},
   "source": [
    "### Keys, Values, and Items\n",
    "\n",
    "As covered in the basics, whatever is on the left side of the colons are called keys and whatever is on the right side are called values. Collectively, they are called items. We can access all of those keys or values with some dictionary methods:"
   ]
  },
  {
   "cell_type": "code",
   "execution_count": 4,
   "metadata": {},
   "outputs": [
    {
     "data": {
      "text/plain": [
       "dict_keys(['a', 'b'])"
      ]
     },
     "execution_count": 4,
     "metadata": {},
     "output_type": "execute_result"
    }
   ],
   "source": [
    "my_dict.keys()"
   ]
  },
  {
   "cell_type": "code",
   "execution_count": 5,
   "metadata": {},
   "outputs": [
    {
     "data": {
      "text/plain": [
       "dict_values([1, 2])"
      ]
     },
     "execution_count": 5,
     "metadata": {},
     "output_type": "execute_result"
    }
   ],
   "source": [
    "my_dict.values()"
   ]
  },
  {
   "cell_type": "code",
   "execution_count": 6,
   "metadata": {},
   "outputs": [
    {
     "data": {
      "text/plain": [
       "dict_items([('a', 1), ('b', 2)])"
      ]
     },
     "execution_count": 6,
     "metadata": {},
     "output_type": "execute_result"
    }
   ],
   "source": [
    "my_dict.items()"
   ]
  },
  {
   "cell_type": "markdown",
   "metadata": {},
   "source": [
    "### Looking Up Values\n",
    "\n",
    "As covered in the basics, you can look up the value corresponding to a key by putting the key in brackets:"
   ]
  },
  {
   "cell_type": "code",
   "execution_count": 2,
   "metadata": {},
   "outputs": [
    {
     "data": {
      "text/plain": [
       "1"
      ]
     },
     "execution_count": 2,
     "metadata": {},
     "output_type": "execute_result"
    }
   ],
   "source": [
    "my_dict['a']"
   ]
  },
  {
   "cell_type": "code",
   "execution_count": 3,
   "metadata": {},
   "outputs": [
    {
     "data": {
      "text/plain": [
       "2"
      ]
     },
     "execution_count": 3,
     "metadata": {},
     "output_type": "execute_result"
    }
   ],
   "source": [
    "my_dict['b']"
   ]
  },
  {
   "cell_type": "markdown",
   "metadata": {},
   "source": [
    "### Add Items\n",
    "\n",
    "To add one item at a time, simply do an assignment where you use brackets to specify the key, and put the value after the equals."
   ]
  },
  {
   "cell_type": "code",
   "execution_count": 7,
   "metadata": {},
   "outputs": [
    {
     "data": {
      "text/plain": [
       "{'a': 1, 'b': 2, 'c': 10}"
      ]
     },
     "execution_count": 7,
     "metadata": {},
     "output_type": "execute_result"
    }
   ],
   "source": [
    "my_dict['c'] = 10\n",
    "my_dict"
   ]
  },
  {
   "cell_type": "markdown",
   "metadata": {},
   "source": [
    "You can also add an entire second dictionary at once using `.update`:"
   ]
  },
  {
   "cell_type": "code",
   "execution_count": 8,
   "metadata": {},
   "outputs": [
    {
     "data": {
      "text/plain": [
       "{'a': 1, 'b': 2, 'c': 10, 'd': 5, 'e': 10}"
      ]
     },
     "execution_count": 8,
     "metadata": {},
     "output_type": "execute_result"
    }
   ],
   "source": [
    "my_second_dict = {\n",
    "    'd': 5,\n",
    "    'e': 10\n",
    "}\n",
    "my_dict.update(my_second_dict)\n",
    "my_dict"
   ]
  },
  {
   "cell_type": "markdown",
   "metadata": {},
   "source": [
    "### Remove Items\n",
    "\n",
    "`.pop` can be used to remove an item from the dictionary, and it also returns the value associated with the passed key."
   ]
  },
  {
   "cell_type": "code",
   "execution_count": 9,
   "metadata": {},
   "outputs": [
    {
     "name": "stdout",
     "output_type": "stream",
     "text": [
      "Value for a is 1 and now dictionary contents are {'b': 2, 'c': 10, 'd': 5, 'e': 10}\n"
     ]
    }
   ],
   "source": [
    "a_value = my_dict.pop('a')\n",
    "print(f'Value for a is {a_value} and now dictionary contents are {my_dict}')"
   ]
  },
  {
   "cell_type": "markdown",
   "metadata": {},
   "source": [
    "You also don't need to do the assignment if you don't care about the value you just popped."
   ]
  },
  {
   "cell_type": "code",
   "execution_count": 10,
   "metadata": {},
   "outputs": [
    {
     "data": {
      "text/plain": [
       "{'c': 10, 'd': 5, 'e': 10}"
      ]
     },
     "execution_count": 10,
     "metadata": {},
     "output_type": "execute_result"
    }
   ],
   "source": [
    "my_dict.pop('b')\n",
    "my_dict"
   ]
  },
  {
   "cell_type": "markdown",
   "metadata": {},
   "source": [
    "### Looping Through Dictionaries\n",
    "\n",
    "Just list lists and tuples, dictionaries are also collections of other objects and so we can loop through them. It's a bit more complicated with dictionaries. With lists, there's only one object at a time to think about. With dictionaries, we have one item at a time, but that item is made up of both a key and a value. Do you want to loop over the keys? Or the values? Or both at the same time?\n",
    "\n",
    "#### Looping Through Dictionary Keys\n",
    "\n",
    "This is the default. If you try to just loop through a dictionary, you will get all of its keys:"
   ]
  },
  {
   "cell_type": "code",
   "execution_count": 11,
   "metadata": {},
   "outputs": [
    {
     "name": "stdout",
     "output_type": "stream",
     "text": [
      "c\n",
      "d\n",
      "e\n"
     ]
    }
   ],
   "source": [
    "for key in my_dict:\n",
    "    print(key)"
   ]
  },
  {
   "cell_type": "markdown",
   "metadata": {},
   "source": [
    "This is equivalent to explicitly looping through the keys of the dictionary:"
   ]
  },
  {
   "cell_type": "code",
   "execution_count": 12,
   "metadata": {},
   "outputs": [
    {
     "name": "stdout",
     "output_type": "stream",
     "text": [
      "c\n",
      "d\n",
      "e\n"
     ]
    }
   ],
   "source": [
    "for key in my_dict.keys():\n",
    "    print(key)"
   ]
  },
  {
   "cell_type": "markdown",
   "metadata": {},
   "source": [
    "#### Looping Through Dictionary Values\n",
    "\n",
    "If you want just the values, but don't care about the keys (this is not often the case), then you can loop through `.values()` on the dictionary:"
   ]
  },
  {
   "cell_type": "code",
   "execution_count": 13,
   "metadata": {},
   "outputs": [
    {
     "name": "stdout",
     "output_type": "stream",
     "text": [
      "10\n",
      "5\n",
      "10\n"
     ]
    }
   ],
   "source": [
    "for val in my_dict.values():\n",
    "    print(val)"
   ]
  },
  {
   "cell_type": "markdown",
   "metadata": {},
   "source": [
    "#### Looping Through Items (Both Keys and Values, at the Same Time)\n",
    "\n",
    "This is probably what you want most of the time. If you had to pick one style of dictionary loop and weren't sure which, go with this one. Here we will loop through the `.items()` of the dictionary. It gets just slightly more complicated though now that we're handling two values at once for each loop."
   ]
  },
  {
   "cell_type": "code",
   "execution_count": 14,
   "metadata": {},
   "outputs": [
    {
     "name": "stdout",
     "output_type": "stream",
     "text": [
      "key is c and value is 10\n",
      "key is d and value is 5\n",
      "key is e and value is 10\n"
     ]
    }
   ],
   "source": [
    "for key, val in my_dict.items():\n",
    "    print(f'key is {key} and value is {val}')"
   ]
  },
  {
   "cell_type": "markdown",
   "metadata": {},
   "source": [
    "You'll notice that in the first two loop styles, we had just `key` or `val` as the loop variable (which could have been any name we wanted, and would be best to pick a name that corresponds to what the data actually are). But now for this third loop, we now have `key, val` as the loop variable. This comma and two names is very important. It's what tells Python: \"I'm getting both and a key and a value at once, please split them into two separate variables\" and without it you will get a tuple of the key and value together. For example:"
   ]
  },
  {
   "cell_type": "code",
   "execution_count": 16,
   "metadata": {},
   "outputs": [
    {
     "name": "stdout",
     "output_type": "stream",
     "text": [
      "('c', 10)\n",
      "Looking up the key c and the value 10 becomes less straightforward\n",
      "('d', 5)\n",
      "Looking up the key d and the value 5 becomes less straightforward\n",
      "('e', 10)\n",
      "Looking up the key e and the value 10 becomes less straightforward\n"
     ]
    }
   ],
   "source": [
    "for both_key_and_val in my_dict.items():  # you probably don't want to do this, use the last loop as an example\n",
    "    print(both_key_and_val)\n",
    "    print(f'Looking up the key {both_key_and_val[0]} and the value {both_key_and_val[1]} becomes less straightforward')"
   ]
  },
  {
   "cell_type": "markdown",
   "metadata": {},
   "source": [
    "## List Comprehensions\n",
    "\n",
    "List comprehensions are considered \"syntactic sugar\", i.e. a way to write a piece of code which is \"sweeter\" to write and/or read, but not functionally different. In other words, list comprehensions are never necessary but can save you time and make your code more readable. They are basically a one-line way to write a simple for loop which adds items to a list. Most students had many such loops in their first project, which could have been greatly simplified with list comprehensions.\n",
    "\n",
    "### List Comprehension Basics\n",
    "\n",
    "First, let's write out a standard for loop which processes some inputs and produces a list of outputs which are just 5 added to the inputs."
   ]
  },
  {
   "cell_type": "code",
   "execution_count": 18,
   "metadata": {},
   "outputs": [],
   "source": [
    "inputs = [1, 2, 3]"
   ]
  },
  {
   "cell_type": "code",
   "execution_count": 19,
   "metadata": {},
   "outputs": [
    {
     "data": {
      "text/plain": [
       "[6, 7, 8]"
      ]
     },
     "execution_count": 19,
     "metadata": {},
     "output_type": "execute_result"
    }
   ],
   "source": [
    "outputs = []\n",
    "for inp in inputs:\n",
    "    this_output = inp + 5\n",
    "    outputs.append(this_output)\n",
    "outputs"
   ]
  },
  {
   "cell_type": "markdown",
   "metadata": {},
   "source": [
    "All in all, after starting with the inputs, it took 4 lines of code to achieve this. Let's write the same thing with a list comprehension."
   ]
  },
  {
   "cell_type": "code",
   "execution_count": 20,
   "metadata": {},
   "outputs": [
    {
     "data": {
      "text/plain": [
       "[6, 7, 8]"
      ]
     },
     "execution_count": 20,
     "metadata": {},
     "output_type": "execute_result"
    }
   ],
   "source": [
    "outputs = [inp + 5 for inp in inputs]\n",
    "outputs"
   ]
  },
  {
   "cell_type": "markdown",
   "metadata": {},
   "source": [
    "You can see all the important parts of the loop are captured in that one line. What is missing is the first definition of an empty list, then appending each time in the loop. These are done automatically for you in the list comprehension. Then at that point, all that remains is what you're looping over and what you want to do with each value. Of course this is a simple example, but we can do arbirarily complex things if we combine this with functions. Let's define some example function which works on a single value, then see how it can be applied with both plain for loops and with list comprehensions."
   ]
  },
  {
   "cell_type": "code",
   "execution_count": 21,
   "metadata": {},
   "outputs": [],
   "source": [
    "def my_complex_func(value):\n",
    "    \"\"\"\n",
    "    An example function with non-trivial logic involved\n",
    "    \"\"\"\n",
    "    if value < 2:\n",
    "        return 'low'\n",
    "    elif value < 3:\n",
    "        return 'mid'\n",
    "    else:\n",
    "        return 'high'\n"
   ]
  },
  {
   "cell_type": "markdown",
   "metadata": {},
   "source": [
    "Now let's see how it looks in a for loop:"
   ]
  },
  {
   "cell_type": "code",
   "execution_count": 22,
   "metadata": {},
   "outputs": [
    {
     "data": {
      "text/plain": [
       "['low', 'mid', 'high']"
      ]
     },
     "execution_count": 22,
     "metadata": {},
     "output_type": "execute_result"
    }
   ],
   "source": [
    "outputs = []\n",
    "for inp in inputs:\n",
    "    this_output = my_complex_func(inp)\n",
    "    outputs.append(this_output)\n",
    "outputs"
   ]
  },
  {
   "cell_type": "markdown",
   "metadata": {},
   "source": [
    "And with the list comprehension:"
   ]
  },
  {
   "cell_type": "code",
   "execution_count": 23,
   "metadata": {},
   "outputs": [
    {
     "data": {
      "text/plain": [
       "['low', 'mid', 'high']"
      ]
     },
     "execution_count": 23,
     "metadata": {},
     "output_type": "execute_result"
    }
   ],
   "source": [
    "outputs = [my_complex_func(inp) for inp in inputs]\n",
    "outputs"
   ]
  },
  {
   "cell_type": "markdown",
   "metadata": {},
   "source": [
    "#### More Advanced Comprehensions\n",
    "\n",
    "Note: Advanced comprehensions are optional material. I will only briefly mention them in class.\n",
    "\n",
    "We can do a bit more with these comprehensions. We can include conditionals both on whether to keep the value in the output, as well as for the resulting value. \n",
    "\n",
    "##### **Conditional For Whether to Keep Values**\n",
    "\n",
    "Here you write the conditional after the loop. First, here's the for loop equivalent:"
   ]
  },
  {
   "cell_type": "code",
   "execution_count": 26,
   "metadata": {},
   "outputs": [
    {
     "data": {
      "text/plain": [
       "[1, 2]"
      ]
     },
     "execution_count": 26,
     "metadata": {},
     "output_type": "execute_result"
    }
   ],
   "source": [
    "outputs = []\n",
    "for inp in inputs:\n",
    "    if inp < 3:\n",
    "        outputs.append(inp)\n",
    "outputs"
   ]
  },
  {
   "cell_type": "markdown",
   "metadata": {},
   "source": [
    "We can see the third input, which is greater than 3, is never added to the list. We can do the same in the list comprehension:"
   ]
  },
  {
   "cell_type": "code",
   "execution_count": 27,
   "metadata": {},
   "outputs": [
    {
     "data": {
      "text/plain": [
       "[1, 2]"
      ]
     },
     "execution_count": 27,
     "metadata": {},
     "output_type": "execute_result"
    }
   ],
   "source": [
    "outputs = [inp for inp in inputs if inp < 3]\n",
    "outputs"
   ]
  },
  {
   "cell_type": "markdown",
   "metadata": {},
   "source": [
    "And these can be combined with transformations of the inputs as well:"
   ]
  },
  {
   "cell_type": "code",
   "execution_count": 28,
   "metadata": {},
   "outputs": [
    {
     "data": {
      "text/plain": [
       "[6, 7]"
      ]
     },
     "execution_count": 28,
     "metadata": {},
     "output_type": "execute_result"
    }
   ],
   "source": [
    "outputs = [inp + 5 for inp in inputs if inp < 3]\n",
    "outputs"
   ]
  },
  {
   "cell_type": "markdown",
   "metadata": {},
   "source": [
    "##### **Conditional for Value**\n",
    "\n",
    "You can also change the resulting value based on a conditional. First, here's the example for loop:"
   ]
  },
  {
   "cell_type": "code",
   "execution_count": 29,
   "metadata": {},
   "outputs": [
    {
     "data": {
      "text/plain": [
       "[1, 2, 'too high']"
      ]
     },
     "execution_count": 29,
     "metadata": {},
     "output_type": "execute_result"
    }
   ],
   "source": [
    "outputs = []\n",
    "for inp in inputs:\n",
    "    if inp < 3:\n",
    "        outputs.append(inp)\n",
    "    else:\n",
    "        outputs.append('too high')\n",
    "outputs"
   ]
  },
  {
   "cell_type": "markdown",
   "metadata": {},
   "source": [
    "And the equivalent list comprehension:"
   ]
  },
  {
   "cell_type": "code",
   "execution_count": 30,
   "metadata": {},
   "outputs": [
    {
     "data": {
      "text/plain": [
       "[1, 2, 'too high']"
      ]
     },
     "execution_count": 30,
     "metadata": {},
     "output_type": "execute_result"
    }
   ],
   "source": [
    "outputs = [inp if inp < 3 else 'too high' for inp in inputs]\n",
    "outputs"
   ]
  },
  {
   "cell_type": "markdown",
   "metadata": {},
   "source": [
    "All the prior elements can be combined, though if you're trying to do anything more complicated than this it would probably be more readable to use a loop:"
   ]
  },
  {
   "cell_type": "code",
   "execution_count": 32,
   "metadata": {},
   "outputs": [
    {
     "data": {
      "text/plain": [
       "[7, 'too high']"
      ]
     },
     "execution_count": 32,
     "metadata": {},
     "output_type": "execute_result"
    }
   ],
   "source": [
    "outputs = [inp + 5 if inp < 3 else 'too high' for inp in inputs if inp > 1]\n",
    "outputs"
   ]
  },
  {
   "cell_type": "markdown",
   "metadata": {},
   "source": [
    "##### **Other Comprehensions**\n",
    "\n",
    "You can do comprehensions for dictionaries, sets, and generators. We will not cover sets and generators in the course as they are generally more advanced (especially generators). \n",
    "\n",
    "See [this resource](https://www.geeksforgeeks.org/comprehensions-in-python/) for more details on comprehensions."
   ]
  },
  {
   "cell_type": "markdown",
   "metadata": {},
   "source": [
    "## Imports and Installing Packages\n",
    "\n",
    "I had you download Anaconda, rather than just base Python, as Anaconda is Python with a bunch of common packages bundled with it. So far, we've used a couple packages such as `numpy` and `pandas`. These are very popular and so are definitely included in Anaconda. But there are over 200k packages available, and certainly that download would be far too large to include in Anaconda! So from time to time, you will want to use a package that was not included with Anaconda. In this case, you need to install the package. Thankfully, it's straightforward (most of the time!). \n",
    "\n",
    "When I started this course, I went to do sensitivity analysis in Python and found the current tools a bit lacking. It was certainly possible but required more code than I thought it should, and I couldn't find this functionality in any of the Anaconda packages.\n",
    "\n",
    "But the beauty of Python is if you envision a tool, you can create it, and then you can distribute it so that nobody else ever suffers the same pain!\n",
    "\n",
    "So I created `sensitivity`, a sensitivity analysis package for Python. It makes it very easy to run sensitivity anlysis and show your results as either a styled DataFrame or a hex-bin plot. Of course it doesn't come with Anaconda because I just created it! So we need to install this to use it.\n",
    "\n",
    "To install packages in Python, the general way is `pip install mypackage` replacing `mypackage` with whatever you want to install. You would run this command inside the `Anaconda Prompt`. An alternative is to run it through Jupyter. If you put `!` before a command in Jupyter, Jupyter interprets that as you wanting to run that on the command line and not in the Jupyter notebook. Let's see that here. Run the next line and it should install the package for you. It may take a minute or so before any output is displayed."
   ]
  },
  {
   "cell_type": "code",
   "execution_count": null,
   "metadata": {},
   "outputs": [],
   "source": [
    "!pip install sensitivity"
   ]
  },
  {
   "cell_type": "markdown",
   "metadata": {},
   "source": [
    "You only need to install packages once. Now you will always have the `sensitivity` package and all you need to do to use it is `import sensitivity`. Give that a try here just to make sure it worked:"
   ]
  },
  {
   "cell_type": "code",
   "execution_count": null,
   "metadata": {},
   "outputs": [],
   "source": [
    "import sensitivity"
   ]
  }
 ],
 "metadata": {
  "kernelspec": {
   "display_name": "Python 3",
   "language": "python",
   "name": "python3"
  },
  "language_info": {
   "codemirror_mode": {
    "name": "ipython",
    "version": 3
   },
   "file_extension": ".py",
   "mimetype": "text/x-python",
   "name": "python",
   "nbconvert_exporter": "python",
   "pygments_lexer": "ipython3",
   "version": "3.7.1"
  }
 },
 "nbformat": 4,
 "nbformat_minor": 4
}
