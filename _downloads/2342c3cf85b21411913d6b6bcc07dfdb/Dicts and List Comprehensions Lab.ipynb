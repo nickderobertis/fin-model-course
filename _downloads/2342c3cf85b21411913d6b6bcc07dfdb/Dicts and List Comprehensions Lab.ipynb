{
 "cells": [
  {
   "cell_type": "markdown",
   "metadata": {},
   "source": [
    "# Lab for Dictionaries and List Comprehensions\n",
    "\n",
    "## Dictionaries\n",
    "\n",
    "We already covered the most basic dictionary usage in the Python Basics Lab, let's do some more with them.\n",
    "\n",
    "### Exercise 1\n",
    "\n",
    "Remove the `'oops': 'bad'` item from the dictionary and add a `price` key associated with the value `184.71`. Do this without modifying the code which creates `my_dict`."
   ]
  },
  {
   "cell_type": "code",
   "execution_count": null,
   "metadata": {},
   "outputs": [],
   "source": [
    "my_dict = {\n",
    "    'name': 'Microsoft',\n",
    "    'ticker': 'MSFT',\n",
    "    'oops': 'bad'\n",
    "}\n",
    "# Don't touch above this comment\n",
    "# Exercise 1 solution goes here"
   ]
  },
  {
   "cell_type": "markdown",
   "metadata": {},
   "source": [
    "### Exercise 2\n",
    "\n",
    "Loop through `my_dict` printing both the key and the value, within a formatted string. An example string that would get printed would be `The name for this company is Microsoft.`"
   ]
  },
  {
   "cell_type": "code",
   "execution_count": null,
   "metadata": {},
   "outputs": [],
   "source": [
    "# Exercise 2 solution goes here"
   ]
  },
  {
   "cell_type": "markdown",
   "metadata": {},
   "source": [
    "## List Comprehensions\n",
    "\n",
    "### Exercise 1\n",
    "\n",
    "Re-write the following loop as a list comprehension. "
   ]
  },
  {
   "cell_type": "code",
   "execution_count": 1,
   "metadata": {},
   "outputs": [
    {
     "data": {
      "text/plain": [
       "[4000, 10000, 12000]"
      ]
     },
     "execution_count": 1,
     "metadata": {},
     "output_type": "execute_result"
    }
   ],
   "source": [
    "millions = [4, 10, 12]\n",
    "thousands = []\n",
    "for mil in millions:\n",
    "    thousand = mil * 1000\n",
    "    thousands.append(thousand)\n",
    "thousands"
   ]
  },
  {
   "cell_type": "code",
   "execution_count": null,
   "metadata": {},
   "outputs": [],
   "source": [
    "millions = [4, 10, 12]\n",
    "# Exercise 1 solution goes here"
   ]
  },
  {
   "cell_type": "markdown",
   "metadata": {},
   "source": [
    "### Exercise 2\n",
    "\n",
    "Re-write the following loop as a list comphrension. You will need to create a function which captures the main logic from the loop."
   ]
  },
  {
   "cell_type": "code",
   "execution_count": 6,
   "metadata": {},
   "outputs": [
    {
     "name": "stdout",
     "output_type": "stream",
     "text": [
      "Yeah, I guess I can pay $1,000 for some burritos.\n",
      "Whoa, $1,250 is too much to pay for some hard drives!\n",
      "Whoa, $2,625 is too much to pay for some shirts!\n"
     ]
    },
    {
     "data": {
      "text/plain": [
       "[1000, 1250, 2625]"
      ]
     },
     "execution_count": 6,
     "metadata": {},
     "output_type": "execute_result"
    }
   ],
   "source": [
    "price_quantities = [\n",
    "    ('burrito', 10, 100),\n",
    "    ('hard drive', 50, 25),\n",
    "    ('shirt', 15, 175),\n",
    "]\n",
    "max_revenue = 1200\n",
    "\n",
    "revenues = []\n",
    "for pq_tup in price_quantities:\n",
    "    item, price, quantity = pq_tup\n",
    "    revenue = price * quantity\n",
    "    if revenue > max_revenue:\n",
    "        print(f\"Whoa, ${revenue:,.0f} is too much to pay for some {item}s!\")\n",
    "    else:\n",
    "        print(f\"Yeah, I guess I can pay ${revenue:,.0f} for some {item}s.\")\n",
    "    revenues.append(revenue)\n",
    "revenues"
   ]
  },
  {
   "cell_type": "code",
   "execution_count": null,
   "metadata": {},
   "outputs": [],
   "source": [
    "price_quantities = [\n",
    "    ('burrito', 10, 100),\n",
    "    ('hard drive', 50, 25),\n",
    "    ('shirt', 15, 175),\n",
    "]\n",
    "max_revenue = 1200\n",
    "# Exercise 2 answer goes here"
   ]
  }
 ],
 "metadata": {
  "kernelspec": {
   "display_name": "Python 3",
   "language": "python",
   "name": "python3"
  },
  "language_info": {
   "codemirror_mode": {
    "name": "ipython",
    "version": 3
   },
   "file_extension": ".py",
   "mimetype": "text/x-python",
   "name": "python",
   "nbconvert_exporter": "python",
   "pygments_lexer": "ipython3",
   "version": "3.7.1"
  }
 },
 "nbformat": 4,
 "nbformat_minor": 2
}
