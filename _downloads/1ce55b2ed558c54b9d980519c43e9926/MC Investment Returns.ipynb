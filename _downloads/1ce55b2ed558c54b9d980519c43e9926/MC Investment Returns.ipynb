{
 "cells": [
  {
   "cell_type": "markdown",
   "metadata": {},
   "source": [
    "# Analyzing Investment Returns with Monte Carlo Simulations"
   ]
  },
  {
   "cell_type": "markdown",
   "metadata": {},
   "source": [
    "## The Problem\n",
    "\n",
    "You have \\\\$1,000 now and need to pay \\\\$1,050 in one year. You have\n",
    "available to you two assets: a risk free asset that returns 3%, and a stock\n",
    "that returns 10% with a 20% standard deviation. How much should you\n",
    "invest in the two assets to maximize your probability of having at least\n",
    "\\\\$1,050 in one year?"
   ]
  },
  {
   "cell_type": "markdown",
   "metadata": {},
   "source": [
    "## The Basic Model"
   ]
  },
  {
   "cell_type": "markdown",
   "metadata": {},
   "source": [
    "You should first build the model which handles a single set of inputs to produce a single set of outputs. Once that is working correctly, then you can run Monte Carlo simulations using the model.\n",
    "\n",
    "In this model, we will want to build it for a given return for each of the assets. Then later we can bring in the standard deviations by drawing the returns from normal distributions in the simulations."
   ]
  },
  {
   "cell_type": "markdown",
   "metadata": {},
   "source": [
    "### Portfolio Returns"
   ]
  },
  {
   "cell_type": "markdown",
   "metadata": {},
   "source": [
    "We need to determine the returns on the portfolio. It matters what weights we have invested in each of the assets, as well as each of the asset's returns.\n",
    "\n",
    "This is just a one period model, so the portfolio return is $r_p = r_{rf} w_{rf} + r_s w_s$\n",
    "\n",
    "This can be simplified even further. There are only two assets, and we will be fully invested, so $w_{rf} + w_s = 1$, therefore $w_{rf} = 1 - w_s$ and we can just eliminate the $w_{rf}$, yielding:\n",
    "\n",
    "$r_p = r_{rf} (1 - w_s) + r_s w_s$"
   ]
  },
  {
   "cell_type": "code",
   "execution_count": 2,
   "metadata": {},
   "outputs": [
    {
     "data": {
      "text/plain": [
       "0.065"
      ]
     },
     "execution_count": 2,
     "metadata": {},
     "output_type": "execute_result"
    }
   ],
   "source": [
    "stock_ret = 0.1\n",
    "rf = 0.03\n",
    "stock_weight = 0.5\n",
    "\n",
    "portfolio_ret = rf * (1 - stock_weight) + stock_ret * stock_weight\n",
    "portfolio_ret"
   ]
  },
  {
   "cell_type": "markdown",
   "metadata": {},
   "source": [
    "Now let's apply that return to the initial portfolio value to get the final portfolio value."
   ]
  },
  {
   "cell_type": "code",
   "execution_count": 3,
   "metadata": {},
   "outputs": [
    {
     "data": {
      "text/plain": [
       "1065.0"
      ]
     },
     "execution_count": 3,
     "metadata": {},
     "output_type": "execute_result"
    }
   ],
   "source": [
    "portfolio_initial_value = 1000\n",
    "\n",
    "portfolio_end_value = portfolio_initial_value * (1 + portfolio_ret)\n",
    "portfolio_end_value"
   ]
  },
  {
   "cell_type": "markdown",
   "metadata": {},
   "source": [
    "Now let's wrap this up into one function that will represent our model."
   ]
  },
  {
   "cell_type": "code",
   "execution_count": 4,
   "metadata": {},
   "outputs": [
    {
     "data": {
      "text/plain": [
       "1065.0"
      ]
     },
     "execution_count": 4,
     "metadata": {},
     "output_type": "execute_result"
    }
   ],
   "source": [
    "def port_end_value(stock_ret=0.1, rf=0.03, stock_weight=0.5, portfolio_initial_value=1000):\n",
    "    portfolio_ret = rf * (1 - stock_weight) + stock_ret * stock_weight\n",
    "    portfolio_end_value = portfolio_initial_value * (1 + portfolio_ret)\n",
    "    return portfolio_end_value\n",
    "\n",
    "port_end_value()"
   ]
  },
  {
   "cell_type": "markdown",
   "metadata": {},
   "source": [
    "It works for the initial inputs, also trying with other inputs."
   ]
  },
  {
   "cell_type": "code",
   "execution_count": 6,
   "metadata": {},
   "outputs": [
    {
     "data": {
      "text/plain": [
       "1044.0"
      ]
     },
     "execution_count": 6,
     "metadata": {},
     "output_type": "execute_result"
    }
   ],
   "source": [
    "port_end_value(0.05, 0.03, 0.7)"
   ]
  },
  {
   "cell_type": "markdown",
   "metadata": {},
   "source": [
    "So it seems our model function is working correctly."
   ]
  },
  {
   "cell_type": "markdown",
   "metadata": {},
   "source": [
    "## Monte Carlo Simulations\n",
    "\n",
    "So now we know that if we earn 10% on the stock and invest 50% in it, we will have enough money. We also know if it returns only 5%, it's not going to be enough to meet our required \\$1,050. But we don't know anything about the probability of having enough money.\n",
    "\n",
    "To run a Monte Carlo simulation, all we do is assign distributions as necessary to any inputs, then run the model a bunch of times, drawing inputs from the distributions, passing them into the model, and collecting the outputs."
   ]
  },
  {
   "cell_type": "markdown",
   "metadata": {},
   "source": [
    "### Draw Inputs From Distributions\n",
    "\n",
    "So here, we are only concerned with assigning the stock return to a distribution. We will not vary the risk free rate as it has a standard deviation of zero, so it would always be the same value anyway. We will not vary the weight as that is a decision variable. We will not vary the inital portfolio value as it shouldn't change.\n",
    "\n",
    "We will assume that the stock's returns are normally distributed. Let's try to pull a single return from the normal distribution for this stock."
   ]
  },
  {
   "cell_type": "code",
   "execution_count": 17,
   "metadata": {},
   "outputs": [
    {
     "data": {
      "text/plain": [
       "0.09204613130011177"
      ]
     },
     "execution_count": 17,
     "metadata": {},
     "output_type": "execute_result"
    }
   ],
   "source": [
    "import random\n",
    "\n",
    "stock_mean = 0.1\n",
    "stock_std = 0.2\n",
    "\n",
    "random.normalvariate(stock_mean, stock_std)"
   ]
  },
  {
   "cell_type": "markdown",
   "metadata": {},
   "source": [
    "You can run the above cell multiple times to see that it will choose a different return each time. This is what we need to pass into our model each time."
   ]
  },
  {
   "cell_type": "markdown",
   "metadata": {},
   "source": [
    "### Run the Model\n",
    "\n",
    "Now rather than taking stock return as fixed, let's run the model using the randomly drawn stock return."
   ]
  },
  {
   "cell_type": "code",
   "execution_count": 45,
   "metadata": {},
   "outputs": [
    {
     "name": "stdout",
     "output_type": "stream",
     "text": [
      "running with stock return 2.3%\n"
     ]
    },
    {
     "data": {
      "text/plain": [
       "1026.3825468142243"
      ]
     },
     "execution_count": 45,
     "metadata": {},
     "output_type": "execute_result"
    }
   ],
   "source": [
    "stock_ret = random.normalvariate(stock_mean, stock_std)\n",
    "print(f'running with stock return {stock_ret:.1%}')\n",
    "port_end_value(stock_ret)"
   ]
  },
  {
   "cell_type": "markdown",
   "metadata": {},
   "source": [
    "You can run the above cell multiple times to see that we will get a different portfolio end value each time."
   ]
  },
  {
   "cell_type": "markdown",
   "metadata": {},
   "source": [
    "### Collect the Outputs\n",
    "\n",
    "All we need to do here is run the above steps in a loop, appending the result to a list each time we run the model. This is especially simple because we only have one output from the model. If you have multiple outputs from a single run of your model, you will have to use some other data structure, such as multiple lists, a list of lists, a list of dictionaries, or a `DataFrame`."
   ]
  },
  {
   "cell_type": "code",
   "execution_count": 46,
   "metadata": {},
   "outputs": [
    {
     "data": {
      "text/plain": [
       "[784.538482547536, 1011.9361545284564, 1090.6837287076135]"
      ]
     },
     "execution_count": 46,
     "metadata": {},
     "output_type": "execute_result"
    }
   ],
   "source": [
    "n_iter = 3\n",
    "outputs = []\n",
    "for i in range(n_iter):\n",
    "    stock_ret = random.normalvariate(stock_mean, stock_std)\n",
    "    result = port_end_value(stock_ret)\n",
    "    outputs.append(result)\n",
    "outputs"
   ]
  },
  {
   "cell_type": "markdown",
   "metadata": {},
   "source": [
    "### Create a Function for This\n",
    "\n",
    "Now just put it all together into a function. I will also allow passing of different stock weights in the function."
   ]
  },
  {
   "cell_type": "code",
   "execution_count": 50,
   "metadata": {},
   "outputs": [
    {
     "name": "stdout",
     "output_type": "stream",
     "text": [
      "There are 1000 results. First five:\n"
     ]
    },
    {
     "data": {
      "text/plain": [
       "[992.7222276172728,\n",
       " 817.3935730094954,\n",
       " 1006.8524862258859,\n",
       " 923.9987269097874,\n",
       " 971.9047569889326]"
      ]
     },
     "execution_count": 50,
     "metadata": {},
     "output_type": "execute_result"
    }
   ],
   "source": [
    "def port_end_value_simulations(stock_mean=0.1, stock_std=0.2, stock_weight=0.5, n_iter=1000):\n",
    "    outputs = []\n",
    "    for i in range(n_iter):\n",
    "        stock_ret = random.normalvariate(stock_mean, stock_std)\n",
    "        result = port_end_value(stock_ret, stock_weight=stock_weight)\n",
    "        outputs.append(result)\n",
    "    return outputs\n",
    "\n",
    "results = port_end_value_simulations()\n",
    "print(f'There are {len(results)} results. First five:')\n",
    "results[:5]"
   ]
  },
  {
   "cell_type": "markdown",
   "metadata": {},
   "source": [
    "## Analyze the Outputs"
   ]
  },
  {
   "cell_type": "markdown",
   "metadata": {},
   "source": [
    "### Visualize"
   ]
  },
  {
   "cell_type": "markdown",
   "metadata": {},
   "source": [
    "Usually a first good way to analyze the outputs is to visualize them. Let's plot the results. A histogram or KDE plot is usually most appropriate for visualizing a single output. The KDE is basically a smoothed out histogram."
   ]
  },
  {
   "cell_type": "code",
   "execution_count": 57,
   "metadata": {},
   "outputs": [
    {
     "data": {
      "text/plain": [
       "<matplotlib.axes._subplots.AxesSubplot at 0x7fa93fb4d898>"
      ]
     },
     "execution_count": 57,
     "metadata": {},
     "output_type": "execute_result"
    },
    {
     "data": {
      "image/png": "[encoded data removed]",
      "text/plain": [
       "<Figure size 432x288 with 1 Axes>"
      ]
     },
     "metadata": {
      "needs_background": "light"
     },
     "output_type": "display_data"
    }
   ],
   "source": [
    "%matplotlib inline\n",
    "import pandas as pd\n",
    "\n",
    "df = pd.DataFrame()\n",
    "df['Portfolio End Values'] = results\n",
    "df.plot.hist(bins=100)"
   ]
  },
  {
   "cell_type": "code",
   "execution_count": 58,
   "metadata": {},
   "outputs": [
    {
     "data": {
      "text/plain": [
       "<matplotlib.axes._subplots.AxesSubplot at 0x7fa93f7295f8>"
      ]
     },
     "execution_count": 58,
     "metadata": {},
     "output_type": "execute_result"
    },
    {
     "data": {
      "image/png": "[encoded data removed]",
      "text/plain": [
       "<Figure size 432x288 with 1 Axes>"
      ]
     },
     "metadata": {
      "needs_background": "light"
     },
     "output_type": "display_data"
    }
   ],
   "source": [
    "df.plot.kde()"
   ]
  },
  {
   "cell_type": "markdown",
   "metadata": {},
   "source": [
    "As we can see, the results look basically like a normal distribution. Which makes sense because we only have one input changing and it is following a normal distribution."
   ]
  },
  {
   "cell_type": "markdown",
   "metadata": {},
   "source": [
    "### Probability Outputs"
   ]
  },
  {
   "cell_type": "markdown",
   "metadata": {},
   "source": [
    "#### Probability Table"
   ]
  },
  {
   "cell_type": "markdown",
   "metadata": {},
   "source": [
    "We would like to see two other kinds of outputs. One is a table of probabilities, along with the result which is achived at that probability in the distribution. E.g. at 5%, only 5% of cases are lower than the given value. At 75%, 75% of cases are lower than the given value."
   ]
  },
  {
   "cell_type": "markdown",
   "metadata": {},
   "source": [
    "First we'll get the percentiles we want to explore in the table."
   ]
  },
  {
   "cell_type": "code",
   "execution_count": 64,
   "metadata": {},
   "outputs": [
    {
     "data": {
      "text/plain": [
       "[0.05,\n",
       " 0.1,\n",
       " 0.15,\n",
       " 0.2,\n",
       " 0.25,\n",
       " 0.3,\n",
       " 0.35,\n",
       " 0.4,\n",
       " 0.45,\n",
       " 0.5,\n",
       " 0.55,\n",
       " 0.6,\n",
       " 0.65,\n",
       " 0.7,\n",
       " 0.75,\n",
       " 0.8,\n",
       " 0.85,\n",
       " 0.9,\n",
       " 0.95]"
      ]
     },
     "execution_count": 64,
     "metadata": {},
     "output_type": "execute_result"
    }
   ],
   "source": [
    "percentiles = [i/20 for i in range(1, 20)]\n",
    "percentiles"
   ]
  },
  {
   "cell_type": "markdown",
   "metadata": {},
   "source": [
    "Now we can use the `.quantile` method from `pandas` to get this table easily. "
   ]
  },
  {
   "cell_type": "code",
   "execution_count": 65,
   "metadata": {},
   "outputs": [
    {
     "data": {
      "text/plain": [
       "0.05     901.980625\n",
       "0.10     932.022019\n",
       "0.15     955.384775\n",
       "0.20     975.536926\n",
       "0.25     991.571768\n",
       "0.30    1005.481240\n",
       "0.35    1021.936595\n",
       "0.40    1035.563001\n",
       "0.45    1049.403687\n",
       "0.50    1061.474279\n",
       "0.55    1072.093851\n",
       "0.60    1086.176051\n",
       "0.65    1099.360810\n",
       "0.70    1114.646174\n",
       "0.75    1131.182222\n",
       "0.80    1144.897702\n",
       "0.85    1166.551092\n",
       "0.90    1190.032014\n",
       "0.95    1221.658577\n",
       "Name: Portfolio End Values, dtype: float64"
      ]
     },
     "execution_count": 65,
     "metadata": {},
     "output_type": "execute_result"
    }
   ],
   "source": [
    "df['Portfolio End Values'].quantile(percentiles)"
   ]
  },
  {
   "cell_type": "markdown",
   "metadata": {},
   "source": [
    "#### Probability of Acheiving Objective"
   ]
  },
  {
   "cell_type": "markdown",
   "metadata": {},
   "source": [
    "The other kind of output is the probability that we will achieve our objective. Here we want \\\\$1,050. So we want to find the probability we will have at least that much money. We can see from the prior table that the probability of getting a value lower than about \\\\$1,050 is 45%, so then the probability of getting at least \\\\$1,050 would be $1 - p$ or about 55%. But we want to get to that directly rather than using the table as the tables values might not line up well with our desired value.\n",
    "\n",
    "There's not a direct `pandas` function for this. But as having more money still meets the objective, what we want to calculate is basically the percentage of observations that have a value equal to or higher than our desired objective."
   ]
  },
  {
   "cell_type": "code",
   "execution_count": 69,
   "metadata": {},
   "outputs": [
    {
     "data": {
      "text/plain": [
       "0.548"
      ]
     },
     "execution_count": 69,
     "metadata": {},
     "output_type": "execute_result"
    }
   ],
   "source": [
    "( df['Portfolio End Values'] >= 1050 ).astype(int).mean()"
   ]
  },
  {
   "cell_type": "markdown",
   "metadata": {},
   "source": [
    "The above one-liner achieves this. Let's break it down. First we are comparing each portfolio end value to \\\\$1,050. We will have a `Series` of boolean values for whether the original value was greater than \\\\$1,050."
   ]
  },
  {
   "cell_type": "code",
   "execution_count": 70,
   "metadata": {},
   "outputs": [
    {
     "data": {
      "text/plain": [
       "0      False\n",
       "1      False\n",
       "2      False\n",
       "3      False\n",
       "4      False\n",
       "       ...  \n",
       "995     True\n",
       "996    False\n",
       "997    False\n",
       "998     True\n",
       "999    False\n",
       "Name: Portfolio End Values, Length: 1000, dtype: bool"
      ]
     },
     "execution_count": 70,
     "metadata": {},
     "output_type": "execute_result"
    }
   ],
   "source": [
    "df['Portfolio End Values'] >= 1050"
   ]
  },
  {
   "cell_type": "markdown",
   "metadata": {},
   "source": [
    "We then convert those booleans to integers."
   ]
  },
  {
   "cell_type": "code",
   "execution_count": 71,
   "metadata": {},
   "outputs": [
    {
     "data": {
      "text/plain": [
       "0      0\n",
       "1      0\n",
       "2      0\n",
       "3      0\n",
       "4      0\n",
       "      ..\n",
       "995    1\n",
       "996    0\n",
       "997    0\n",
       "998    1\n",
       "999    0\n",
       "Name: Portfolio End Values, Length: 1000, dtype: int64"
      ]
     },
     "execution_count": 71,
     "metadata": {},
     "output_type": "execute_result"
    }
   ],
   "source": [
    "( df['Portfolio End Values'] >= 1050 ).astype(int)"
   ]
  },
  {
   "cell_type": "markdown",
   "metadata": {},
   "source": [
    "Now we have 1 when it is greater, and 0 otherwise. So the average of this will produce the probability."
   ]
  },
  {
   "cell_type": "markdown",
   "metadata": {},
   "source": [
    "### Putting the Visualization and Probabilities Together"
   ]
  },
  {
   "cell_type": "markdown",
   "metadata": {},
   "source": [
    "We just want to wrap this up into a few functions, to make it easier to run for the next step."
   ]
  },
  {
   "cell_type": "code",
   "execution_count": 80,
   "metadata": {},
   "outputs": [
    {
     "data": {
      "image/png": "[encoded data removed]",
      "text/plain": [
       "<Figure size 432x288 with 1 Axes>"
      ]
     },
     "metadata": {
      "needs_background": "light"
     },
     "output_type": "display_data"
    },
    {
     "name": "stdout",
     "output_type": "stream",
     "text": [
      "Probability Table\n",
      "0.05     $787.99\n",
      "0.10     $863.62\n",
      "0.15     $907.30\n",
      "0.20     $947.28\n",
      "0.25     $974.81\n",
      "0.30     $997.98\n",
      "0.35    $1021.70\n",
      "0.40    $1042.60\n",
      "0.45    $1068.28\n",
      "0.50    $1090.92\n",
      "0.55    $1115.59\n",
      "0.60    $1139.49\n",
      "0.65    $1162.45\n",
      "0.70    $1187.45\n",
      "0.75    $1213.79\n",
      "0.80    $1246.24\n",
      "0.85    $1277.14\n",
      "0.90    $1316.84\n",
      "0.95    $1390.70\n",
      "Name: Portfolio End Values, dtype: object\n",
      "\n",
      "Probability of getting $1,050 in cash: 58.7%\n",
      "\n"
     ]
    }
   ],
   "source": [
    "import matplotlib.pyplot as plt\n",
    "\n",
    "def create_dataframe_from_results(results):\n",
    "    df = pd.DataFrame()\n",
    "    df['Portfolio End Values'] = results\n",
    "    return df\n",
    "\n",
    "\n",
    "def visualize_results(df):\n",
    "    df.plot.hist(bins=100)\n",
    "    plt.show()  # makes plot show right now, which we will need when running this multiple times\n",
    "\n",
    "\n",
    "def probability_table(df):\n",
    "    percentiles = [i/20 for i in range(1, 20)]\n",
    "    return df['Portfolio End Values'].quantile(percentiles)\n",
    "\n",
    "\n",
    "def probability_of_objective(df, desired_cash=1050):\n",
    "    return ( df['Portfolio End Values'] >= desired_cash ).astype(int).mean()\n",
    "\n",
    "\n",
    "def model_outputs(results, desired_cash=1050):\n",
    "    df = create_dataframe_from_results(results)\n",
    "    visualize_results(df)\n",
    "    prob_table = probability_table(df)\n",
    "    prob_objective = probability_of_objective(df, desired_cash=desired_cash)\n",
    "    return prob_table, prob_objective\n",
    "\n",
    "\n",
    "def display_model_summary(results, desired_cash=1050):\n",
    "    prob_table, prob_objective = model_outputs(results, desired_cash=desired_cash)\n",
    "    print('Probability Table')\n",
    "    print(prob_table.apply(lambda x: f'${x:.2f}'))  # a way of formatting a pandas series\n",
    "    print('')\n",
    "    print(f'Probability of getting ${desired_cash:,.0f} in cash: {prob_objective:.1%}')\n",
    "    print('')\n",
    "    \n",
    "    \n",
    "display_model_summary(results)"
   ]
  },
  {
   "cell_type": "markdown",
   "metadata": {},
   "source": [
    "## Choosing an Appropriate Weight\n",
    "\n",
    "Now we have our full model and Monte Carlo simulation set up. We want to use it to decide what weight to invest in the stock versus the risk free asset. Therefore we will run the full model outputs through the simulation for a bunch of different weights.\n",
    "\n",
    "### A Quick Aside to Formatting\n",
    "\n",
    "However it will start getting difficult to tell which weight's section we are in because there are so many outputs. So let's add a bit more formatting as well. In Jupyter you can directly display HTML. So let's write a little utility function to display a header in our output."
   ]
  },
  {
   "cell_type": "code",
   "execution_count": 89,
   "metadata": {},
   "outputs": [
    {
     "data": {
      "text/html": [
       "<h2>My Title</h2>"
      ],
      "text/plain": [
       "<IPython.core.display.HTML object>"
      ]
     },
     "metadata": {},
     "output_type": "display_data"
    }
   ],
   "source": [
    "from IPython.display import HTML, display\n",
    "display(HTML('<h2>My Title</h2>'))"
   ]
  },
  {
   "cell_type": "markdown",
   "metadata": {},
   "source": [
    "The above title is being generated by the code and not a special markdown cell. `h2` is a second-level header in HTML. We just wrap what we want in the `h2` tags. Here's a general function which can add a header for us."
   ]
  },
  {
   "cell_type": "code",
   "execution_count": 90,
   "metadata": {},
   "outputs": [
    {
     "data": {
      "text/html": [
       "<h2>Another Title</h2>"
      ],
      "text/plain": [
       "<IPython.core.display.HTML object>"
      ]
     },
     "metadata": {},
     "output_type": "display_data"
    }
   ],
   "source": [
    "def display_header(header):\n",
    "    return display(HTML(f'<h2>{header}</h2>'))\n",
    "\n",
    "display_header('Another Title')"
   ]
  },
  {
   "cell_type": "markdown",
   "metadata": {},
   "source": [
    "### Back to Choosing an Appropriate Weight"
   ]
  },
  {
   "cell_type": "markdown",
   "metadata": {},
   "source": [
    "We want to evaluate weights from 10% to 90% in 10% increments:"
   ]
  },
  {
   "cell_type": "code",
   "execution_count": 91,
   "metadata": {},
   "outputs": [
    {
     "data": {
      "text/plain": [
       "[0.1, 0.2, 0.3, 0.4, 0.5, 0.6, 0.7, 0.8, 0.9]"
      ]
     },
     "execution_count": 91,
     "metadata": {},
     "output_type": "execute_result"
    }
   ],
   "source": [
    "weights = [i/10 for i in range(1, 10)]\n",
    "weights"
   ]
  },
  {
   "cell_type": "code",
   "execution_count": 92,
   "metadata": {},
   "outputs": [
    {
     "data": {
      "text/html": [
       "<h2>Results with 10% in the Stock</h2>"
      ],
      "text/plain": [
       "<IPython.core.display.HTML object>"
      ]
     },
     "metadata": {},
     "output_type": "display_data"
    },
    {
     "data": {
      "image/png": "[encoded data removed]",
      "text/plain": [
       "<Figure size 432x288 with 1 Axes>"
      ]
     },
     "metadata": {
      "needs_background": "light"
     },
     "output_type": "display_data"
    },
    {
     "name": "stdout",
     "output_type": "stream",
     "text": [
      "Probability Table\n",
      "0.05    $1004.25\n",
      "0.10    $1011.12\n",
      "0.15    $1016.01\n",
      "0.20    $1019.57\n",
      "0.25    $1022.98\n",
      "0.30    $1026.60\n",
      "0.35    $1029.46\n",
      "0.40    $1032.73\n",
      "0.45    $1034.64\n",
      "0.50    $1037.32\n",
      "0.55    $1039.63\n",
      "0.60    $1042.84\n",
      "0.65    $1045.17\n",
      "0.70    $1048.26\n",
      "0.75    $1051.69\n",
      "0.80    $1054.57\n",
      "0.85    $1059.10\n",
      "0.90    $1063.77\n",
      "0.95    $1071.19\n",
      "Name: Portfolio End Values, dtype: object\n",
      "\n",
      "Probability of getting $1,050 in cash: 27.1%\n",
      "\n"
     ]
    },
    {
     "data": {
      "text/html": [
       "<h2>Results with 20% in the Stock</h2>"
      ],
      "text/plain": [
       "<IPython.core.display.HTML object>"
      ]
     },
     "metadata": {},
     "output_type": "display_data"
    },
    {
     "data": {
      "image/png": "[encoded data removed]",
      "text/plain": [
       "<Figure size 432x288 with 1 Axes>"
      ]
     },
     "metadata": {
      "needs_background": "light"
     },
     "output_type": "display_data"
    },
    {
     "name": "stdout",
     "output_type": "stream",
     "text": [
      "Probability Table\n",
      "0.05     $977.31\n",
      "0.10     $992.93\n",
      "0.15    $1002.97\n",
      "0.20    $1009.39\n",
      "0.25    $1014.34\n",
      "0.30    $1020.30\n",
      "0.35    $1025.13\n",
      "0.40    $1030.16\n",
      "0.45    $1036.27\n",
      "0.50    $1040.85\n",
      "0.55    $1046.05\n",
      "0.60    $1052.48\n",
      "0.65    $1058.01\n",
      "0.70    $1063.95\n",
      "0.75    $1070.53\n",
      "0.80    $1077.06\n",
      "0.85    $1086.11\n",
      "0.90    $1100.62\n",
      "0.95    $1114.60\n",
      "Name: Portfolio End Values, dtype: object\n",
      "\n",
      "Probability of getting $1,050 in cash: 41.5%\n",
      "\n"
     ]
    },
    {
     "data": {
      "text/html": [
       "<h2>Results with 30% in the Stock</h2>"
      ],
      "text/plain": [
       "<IPython.core.display.HTML object>"
      ]
     },
     "metadata": {},
     "output_type": "display_data"
    },
    {
     "data": {
      "image/png": "[encoded data removed]",
      "text/plain": [
       "<Figure size 432x288 with 1 Axes>"
      ]
     },
     "metadata": {
      "needs_background": "light"
     },
     "output_type": "display_data"
    },
    {
     "name": "stdout",
     "output_type": "stream",
     "text": [
      "Probability Table\n",
      "0.05     $948.65\n",
      "0.10     $972.97\n",
      "0.15     $989.70\n",
      "0.20    $1003.48\n",
      "0.25    $1013.76\n",
      "0.30    $1022.08\n",
      "0.35    $1030.24\n",
      "0.40    $1036.54\n",
      "0.45    $1044.50\n",
      "0.50    $1051.67\n",
      "0.55    $1059.36\n",
      "0.60    $1067.14\n",
      "0.65    $1074.82\n",
      "0.70    $1085.47\n",
      "0.75    $1092.93\n",
      "0.80    $1102.41\n",
      "0.85    $1116.70\n",
      "0.90    $1132.93\n",
      "0.95    $1155.07\n",
      "Name: Portfolio End Values, dtype: object\n",
      "\n",
      "Probability of getting $1,050 in cash: 51.6%\n",
      "\n"
     ]
    },
    {
     "data": {
      "text/html": [
       "<h2>Results with 40% in the Stock</h2>"
      ],
      "text/plain": [
       "<IPython.core.display.HTML object>"
      ]
     },
     "metadata": {},
     "output_type": "display_data"
    },
    {
     "data": {
      "image/png": "[encoded data removed]",
      "text/plain": [
       "<Figure size 432x288 with 1 Axes>"
      ]
     },
     "metadata": {
      "needs_background": "light"
     },
     "output_type": "display_data"
    },
    {
     "name": "stdout",
     "output_type": "stream",
     "text": [
      "Probability Table\n",
      "0.05     $923.25\n",
      "0.10     $954.05\n",
      "0.15     $973.07\n",
      "0.20     $988.85\n",
      "0.25    $1000.28\n",
      "0.30    $1009.75\n",
      "0.35    $1024.95\n",
      "0.40    $1036.53\n",
      "0.45    $1046.94\n",
      "0.50    $1056.70\n",
      "0.55    $1065.49\n",
      "0.60    $1076.63\n",
      "0.65    $1086.52\n",
      "0.70    $1098.94\n",
      "0.75    $1111.08\n",
      "0.80    $1124.62\n",
      "0.85    $1139.04\n",
      "0.90    $1158.14\n",
      "0.95    $1185.31\n",
      "Name: Portfolio End Values, dtype: object\n",
      "\n",
      "Probability of getting $1,050 in cash: 53.4%\n",
      "\n"
     ]
    },
    {
     "data": {
      "text/html": [
       "<h2>Results with 50% in the Stock</h2>"
      ],
      "text/plain": [
       "<IPython.core.display.HTML object>"
      ]
     },
     "metadata": {},
     "output_type": "display_data"
    },
    {
     "data": {
      "image/png": "[encoded data removed]",
      "text/plain": [
       "<Figure size 432x288 with 1 Axes>"
      ]
     },
     "metadata": {
      "needs_background": "light"
     },
     "output_type": "display_data"
    },
    {
     "name": "stdout",
     "output_type": "stream",
     "text": [
      "Probability Table\n",
      "0.05     $900.11\n",
      "0.10     $938.37\n",
      "0.15     $967.74\n",
      "0.20     $988.35\n",
      "0.25    $1004.65\n",
      "0.30    $1017.37\n",
      "0.35    $1031.60\n",
      "0.40    $1044.69\n",
      "0.45    $1057.98\n",
      "0.50    $1073.36\n",
      "0.55    $1085.82\n",
      "0.60    $1095.50\n",
      "0.65    $1109.72\n",
      "0.70    $1123.29\n",
      "0.75    $1137.49\n",
      "0.80    $1156.41\n",
      "0.85    $1177.95\n",
      "0.90    $1203.18\n",
      "0.95    $1244.43\n",
      "Name: Portfolio End Values, dtype: object\n",
      "\n",
      "Probability of getting $1,050 in cash: 58.2%\n",
      "\n"
     ]
    },
    {
     "data": {
      "text/html": [
       "<h2>Results with 60% in the Stock</h2>"
      ],
      "text/plain": [
       "<IPython.core.display.HTML object>"
      ]
     },
     "metadata": {},
     "output_type": "display_data"
    },
    {
     "data": {
      "image/png": "[encoded data removed]",
      "text/plain": [
       "<Figure size 432x288 with 1 Axes>"
      ]
     },
     "metadata": {
      "needs_background": "light"
     },
     "output_type": "display_data"
    },
    {
     "name": "stdout",
     "output_type": "stream",
     "text": [
      "Probability Table\n",
      "0.05     $861.60\n",
      "0.10     $907.39\n",
      "0.15     $937.40\n",
      "0.20     $965.73\n",
      "0.25     $987.03\n",
      "0.30    $1005.56\n",
      "0.35    $1021.72\n",
      "0.40    $1039.27\n",
      "0.45    $1051.85\n",
      "0.50    $1069.91\n",
      "0.55    $1086.63\n",
      "0.60    $1102.20\n",
      "0.65    $1116.94\n",
      "0.70    $1135.01\n",
      "0.75    $1151.63\n",
      "0.80    $1172.27\n",
      "0.85    $1193.31\n",
      "0.90    $1222.01\n",
      "0.95    $1258.71\n",
      "Name: Portfolio End Values, dtype: object\n",
      "\n",
      "Probability of getting $1,050 in cash: 55.7%\n",
      "\n"
     ]
    },
    {
     "data": {
      "text/html": [
       "<h2>Results with 70% in the Stock</h2>"
      ],
      "text/plain": [
       "<IPython.core.display.HTML object>"
      ]
     },
     "metadata": {},
     "output_type": "display_data"
    },
    {
     "data": {
      "image/png": "[encoded data removed]",
      "text/plain": [
       "<Figure size 432x288 with 1 Axes>"
      ]
     },
     "metadata": {
      "needs_background": "light"
     },
     "output_type": "display_data"
    },
    {
     "name": "stdout",
     "output_type": "stream",
     "text": [
      "Probability Table\n",
      "0.05     $844.67\n",
      "0.10     $896.45\n",
      "0.15     $931.27\n",
      "0.20     $962.63\n",
      "0.25     $980.99\n",
      "0.30    $1000.64\n",
      "0.35    $1021.51\n",
      "0.40    $1040.44\n",
      "0.45    $1059.26\n",
      "0.50    $1075.74\n",
      "0.55    $1092.19\n",
      "0.60    $1109.76\n",
      "0.65    $1127.43\n",
      "0.70    $1148.51\n",
      "0.75    $1170.99\n",
      "0.80    $1194.50\n",
      "0.85    $1221.39\n",
      "0.90    $1253.32\n",
      "0.95    $1302.49\n",
      "Name: Portfolio End Values, dtype: object\n",
      "\n",
      "Probability of getting $1,050 in cash: 57.5%\n",
      "\n"
     ]
    },
    {
     "data": {
      "text/html": [
       "<h2>Results with 80% in the Stock</h2>"
      ],
      "text/plain": [
       "<IPython.core.display.HTML object>"
      ]
     },
     "metadata": {},
     "output_type": "display_data"
    },
    {
     "data": {
      "image/png": "[encoded data removed]",
      "text/plain": [
       "<Figure size 432x288 with 1 Axes>"
      ]
     },
     "metadata": {
      "needs_background": "light"
     },
     "output_type": "display_data"
    },
    {
     "name": "stdout",
     "output_type": "stream",
     "text": [
      "Probability Table\n",
      "0.05     $824.70\n",
      "0.10     $884.32\n",
      "0.15     $921.39\n",
      "0.20     $951.91\n",
      "0.25     $978.31\n",
      "0.30     $999.88\n",
      "0.35    $1023.99\n",
      "0.40    $1041.95\n",
      "0.45    $1064.69\n",
      "0.50    $1083.58\n",
      "0.55    $1110.55\n",
      "0.60    $1131.38\n",
      "0.65    $1153.04\n",
      "0.70    $1171.87\n",
      "0.75    $1199.74\n",
      "0.80    $1228.33\n",
      "0.85    $1252.39\n",
      "0.90    $1287.35\n",
      "0.95    $1328.47\n",
      "Name: Portfolio End Values, dtype: object\n",
      "\n",
      "Probability of getting $1,050 in cash: 58.2%\n",
      "\n"
     ]
    },
    {
     "data": {
      "text/html": [
       "<h2>Results with 90% in the Stock</h2>"
      ],
      "text/plain": [
       "<IPython.core.display.HTML object>"
      ]
     },
     "metadata": {},
     "output_type": "display_data"
    },
    {
     "data": {
      "image/png": "[encoded data removed]",
      "text/plain": [
       "<Figure size 432x288 with 1 Axes>"
      ]
     },
     "metadata": {
      "needs_background": "light"
     },
     "output_type": "display_data"
    },
    {
     "name": "stdout",
     "output_type": "stream",
     "text": [
      "Probability Table\n",
      "0.05     $797.48\n",
      "0.10     $847.28\n",
      "0.15     $896.76\n",
      "0.20     $933.09\n",
      "0.25     $967.03\n",
      "0.30     $993.59\n",
      "0.35    $1018.84\n",
      "0.40    $1038.45\n",
      "0.45    $1065.30\n",
      "0.50    $1092.65\n",
      "0.55    $1114.71\n",
      "0.60    $1135.70\n",
      "0.65    $1158.40\n",
      "0.70    $1180.38\n",
      "0.75    $1209.65\n",
      "0.80    $1235.06\n",
      "0.85    $1272.72\n",
      "0.90    $1327.01\n",
      "0.95    $1408.52\n",
      "Name: Portfolio End Values, dtype: object\n",
      "\n",
      "Probability of getting $1,050 in cash: 58.4%\n",
      "\n"
     ]
    }
   ],
   "source": [
    "for weight in weights:\n",
    "    display_header(f'Results with {weight:.0%} in the Stock')\n",
    "    results = port_end_value_simulations(stock_weight=weight)\n",
    "    display_model_summary(results)"
   ]
  },
  {
   "cell_type": "markdown",
   "metadata": {},
   "source": [
    "## Conclusions"
   ]
  },
  {
   "cell_type": "markdown",
   "metadata": {},
   "source": [
    "We got sort of an unintuitive outcome, which we wouldn't have thought about without going through such an exercise. It turns out the the probability of reaching our desired cash starts out to be increasing with the weight in the stock, but with 50% in the stock and higher it is relatively stable. What is mainly changing beyond that point is the extreme outcomes. With a higher weight in the stock, it is more likely to earn more money on the top end, but also to lose more money on the bottom end. So it depends on the manager's risk tolerance which stock weight should be picked, but likely lower than 50% in the stock would be a bad choice due to lower probability of hitting the objective. "
   ]
  }
 ],
 "metadata": {
  "kernelspec": {
   "display_name": "Python 3",
   "language": "python",
   "name": "python3"
  },
  "language_info": {
   "codemirror_mode": {
    "name": "ipython",
    "version": 3
   },
   "file_extension": ".py",
   "mimetype": "text/x-python",
   "name": "python",
   "nbconvert_exporter": "python",
   "pygments_lexer": "ipython3",
   "version": "3.7.3"
  }
 },
 "nbformat": 4,
 "nbformat_minor": 4
}
