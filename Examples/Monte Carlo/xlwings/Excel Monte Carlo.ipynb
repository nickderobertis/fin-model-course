{
 "cells": [
  {
   "cell_type": "markdown",
   "metadata": {},
   "source": [
    "# Running Monte Carlo Simulations on an Excel Model\n",
    "\n",
    "Here I will demonstrate using `xlwings` to drive Excel to run Monte Carlo Simulations. For this exercise, please download the Excel retirement model \"Excel with Salary.xlsx\" from Canvas. Then open the workbook and keep it open. Make sure you have no other workbooks open. Switch to the \"Wealth\" tab if it is not open."
   ]
  },
  {
   "cell_type": "markdown",
   "metadata": {},
   "source": [
    "## Basic `xlwings` Operations"
   ]
  },
  {
   "cell_type": "markdown",
   "metadata": {},
   "source": [
    "You can do anything with `xlwings` in Python that you could do in Excel. Most of this is outside of the scope of the course. Here we will focus on reading values from Excel, writing values to Excel, and recalculating the workbook."
   ]
  },
  {
   "cell_type": "code",
   "execution_count": 2,
   "metadata": {},
   "outputs": [],
   "source": [
    "import xlwings as xw  # the convention is to import as xw"
   ]
  },
  {
   "cell_type": "markdown",
   "metadata": {},
   "source": [
    "We will use this `xw` directly to talk to the workbook."
   ]
  },
  {
   "cell_type": "markdown",
   "metadata": {},
   "source": [
    "### Range"
   ]
  },
  {
   "cell_type": "markdown",
   "metadata": {},
   "source": [
    "The first concept to understand in driving Excel from Python with `xlwings` is how you can reference cells. `xw.Range` will let you get a cell range, for either reading or writing to the cells. It is always a `Range`, even if it is a single cell. What you pass to `Range` is what you're used to working with in Excel for cell ranges. `xw.Range('B2')` will reference the cell `B2`. `xw.Range('B2:C4')` will reference six cells, from columns `B` and `C` in rows 2-4."
   ]
  },
  {
   "cell_type": "code",
   "execution_count": 36,
   "metadata": {},
   "outputs": [
    {
     "data": {
      "text/plain": [
       "<Range [Excel with Salary.xlsx]Wealth!$B$18>"
      ]
     },
     "execution_count": 36,
     "metadata": {},
     "output_type": "execute_result"
    }
   ],
   "source": [
    "xw.Range('B18')"
   ]
  },
  {
   "cell_type": "markdown",
   "metadata": {},
   "source": [
    "We can see this is a `Range` object, but we haven't done anything with it yet. Here are some examples of things we can do. We will discuss more in the following sections."
   ]
  },
  {
   "cell_type": "code",
   "execution_count": 37,
   "metadata": {},
   "outputs": [
    {
     "data": {
      "text/plain": [
       "98661.75137111562"
      ]
     },
     "execution_count": 37,
     "metadata": {},
     "output_type": "execute_result"
    }
   ],
   "source": [
    "xw.Range('B18').value"
   ]
  },
  {
   "cell_type": "code",
   "execution_count": 38,
   "metadata": {},
   "outputs": [
    {
     "data": {
      "text/plain": [
       "'=Salary!G19'"
      ]
     },
     "execution_count": 38,
     "metadata": {},
     "output_type": "execute_result"
    }
   ],
   "source": [
    "xw.Range('B18').formula"
   ]
  },
  {
   "cell_type": "code",
   "execution_count": 40,
   "metadata": {},
   "outputs": [
    {
     "data": {
      "text/plain": [
       "[60000.0, 0.25, 0.05]"
      ]
     },
     "execution_count": 40,
     "metadata": {},
     "output_type": "execute_result"
    }
   ],
   "source": [
    "xw.Range('B3:B5').value"
   ]
  },
  {
   "cell_type": "markdown",
   "metadata": {},
   "source": [
    "### Read Values from Excel\n"
   ]
  },
  {
   "cell_type": "markdown",
   "metadata": {},
   "source": [
    "All we have to do to read values from Excel is find the correct range and then access `.value` on that range."
   ]
  },
  {
   "cell_type": "code",
   "execution_count": 41,
   "metadata": {},
   "outputs": [
    {
     "data": {
      "text/plain": [
       "0.25"
      ]
     },
     "execution_count": 41,
     "metadata": {},
     "output_type": "execute_result"
    }
   ],
   "source": [
    "savings_rate = xw.Range('B4').value\n",
    "savings_rate"
   ]
  },
  {
   "cell_type": "markdown",
   "metadata": {},
   "source": [
    "This works for single cells as well as ranges of cells. If you get a single column or row of cells, it will come into Python as a list."
   ]
  },
  {
   "cell_type": "code",
   "execution_count": 44,
   "metadata": {},
   "outputs": [
    {
     "data": {
      "text/plain": [
       "[15300.0, 15606.0, 15918.119999999999, 16236.482399999999, 19045.393855199996]"
      ]
     },
     "execution_count": 44,
     "metadata": {},
     "output_type": "execute_result"
    }
   ],
   "source": [
    "amount_saved = xw.Range('C8:C12').value  # read a column of cells\n",
    "amount_saved"
   ]
  },
  {
   "cell_type": "code",
   "execution_count": 45,
   "metadata": {},
   "outputs": [
    {
     "data": {
      "text/plain": [
       "[61200.0, 15300.0, 31050.0]"
      ]
     },
     "execution_count": 45,
     "metadata": {},
     "output_type": "execute_result"
    }
   ],
   "source": [
    "t_1_values = xw.Range('B8:D8').value  # read a row of cells\n",
    "t_1_values"
   ]
  },
  {
   "cell_type": "markdown",
   "metadata": {},
   "source": [
    "If we reference a two-dimensional range (both rows and columns, i.e. a table), then it will come as a list of lists."
   ]
  },
  {
   "cell_type": "code",
   "execution_count": 46,
   "metadata": {},
   "outputs": [
    {
     "data": {
      "text/plain": [
       "[[61200.0, 15300.0, 31050.0],\n",
       " [62424.0, 15606.0, 48208.5],\n",
       " [63672.479999999996, 15918.119999999999, 66537.045],\n",
       " [64945.929599999996, 16236.482399999999, 86100.37964999999]]"
      ]
     },
     "execution_count": 46,
     "metadata": {},
     "output_type": "execute_result"
    }
   ],
   "source": [
    "t_1_to_4_values = xw.Range('B8:D11').value  # read a table of cells\n",
    "t_1_to_4_values"
   ]
  },
  {
   "cell_type": "markdown",
   "metadata": {},
   "source": [
    "If you reference blank cells, the values will come as None."
   ]
  },
  {
   "cell_type": "code",
   "execution_count": 47,
   "metadata": {},
   "outputs": [
    {
     "data": {
      "text/plain": [
       "[[None, None], [None, None], [None, None]]"
      ]
     },
     "execution_count": 47,
     "metadata": {},
     "output_type": "execute_result"
    }
   ],
   "source": [
    "xw.Range('G5:H7').value"
   ]
  },
  {
   "cell_type": "code",
   "execution_count": 48,
   "metadata": {},
   "outputs": [
    {
     "data": {
      "text/plain": [
       "[31050.0, None]"
      ]
     },
     "execution_count": 48,
     "metadata": {},
     "output_type": "execute_result"
    }
   ],
   "source": [
    "xw.Range('D8:E8').value"
   ]
  },
  {
   "cell_type": "markdown",
   "metadata": {},
   "source": [
    "Be careful that a single None value won't display in Jupyter. If you are getting no output from reading a cell it might just be blank."
   ]
  },
  {
   "cell_type": "code",
   "execution_count": 50,
   "metadata": {},
   "outputs": [],
   "source": [
    "my_value = xw.Range('G5').value\n",
    "my_value"
   ]
  },
  {
   "cell_type": "code",
   "execution_count": 51,
   "metadata": {},
   "outputs": [
    {
     "data": {
      "text/plain": [
       "True"
      ]
     },
     "execution_count": 51,
     "metadata": {},
     "output_type": "execute_result"
    }
   ],
   "source": [
    "my_value is None"
   ]
  },
  {
   "cell_type": "markdown",
   "metadata": {},
   "source": [
    "### Write Values to Excel"
   ]
  },
  {
   "cell_type": "markdown",
   "metadata": {},
   "source": [
    "Writing values to Excel works very similarly to reading them. All that changes is instead of just accessing `.value`, we will assign to `.value`. So basically the command is flipped."
   ]
  },
  {
   "cell_type": "code",
   "execution_count": 52,
   "metadata": {},
   "outputs": [],
   "source": [
    "xw.Range('G5').value = 10"
   ]
  },
  {
   "cell_type": "markdown",
   "metadata": {},
   "source": [
    "Now we can see that the value 10 has appeared in cell `G5`."
   ]
  },
  {
   "cell_type": "markdown",
   "metadata": {},
   "source": [
    "You can also write to multiple cells at once. Passing a single value will cause that value to be written in every cell in the range."
   ]
  },
  {
   "cell_type": "code",
   "execution_count": 53,
   "metadata": {},
   "outputs": [],
   "source": [
    "xw.Range('G6:H6').value = 15"
   ]
  },
  {
   "cell_type": "markdown",
   "metadata": {},
   "source": [
    "Now we can see both cells `G6` and `H6` have a value of 15."
   ]
  },
  {
   "cell_type": "markdown",
   "metadata": {},
   "source": [
    "We can also use lists to put multiple different values into Excel at one time. To do this, you only have to reference the top-left cell. Then it works similarly to when we return lists from UDFs. A single list will output horizontally, a list of lists where each inner list has a single value will output vertically, and a table can be created with lists of lists as well."
   ]
  },
  {
   "cell_type": "markdown",
   "metadata": {},
   "source": [
    "#### Horizontal Output"
   ]
  },
  {
   "cell_type": "code",
   "execution_count": 59,
   "metadata": {},
   "outputs": [],
   "source": [
    "xw.Range('G7').value = [20, 30]"
   ]
  },
  {
   "cell_type": "markdown",
   "metadata": {},
   "source": [
    "#### Vertical Output\n",
    "\n",
    "Just as we did with UDFs, we need to wrap each item in its own list to get it to output vertically."
   ]
  },
  {
   "cell_type": "code",
   "execution_count": 60,
   "metadata": {},
   "outputs": [],
   "source": [
    "xw.Range('G8').value = [[40], [50]]"
   ]
  },
  {
   "cell_type": "markdown",
   "metadata": {},
   "source": [
    "#### Table Output\n",
    "\n",
    "You can think of the inner lists as rows of the data. Set it up in this way to output a table."
   ]
  },
  {
   "cell_type": "code",
   "execution_count": 61,
   "metadata": {},
   "outputs": [],
   "source": [
    "xw.Range('G11').value = [\n",
    "    [60, 70], \n",
    "    [80, 90]\n",
    "]"
   ]
  },
  {
   "cell_type": "markdown",
   "metadata": {},
   "source": [
    "### Recalculate the Workbook"
   ]
  },
  {
   "cell_type": "markdown",
   "metadata": {},
   "source": [
    "I'll first add a `=RAND()` call to the Excel workbook so we can see it being recalculated."
   ]
  },
  {
   "cell_type": "markdown",
   "metadata": {},
   "source": [
    "When we recalculate, it is at the application or workbook level and not at the cell range level. So we need to interact with `xlwings` a bit differently. First we need to get access to the application object. Here is an easy one-liner to do this:"
   ]
  },
  {
   "cell_type": "code",
   "execution_count": 65,
   "metadata": {},
   "outputs": [],
   "source": [
    "app = list(xw.apps)[0]"
   ]
  },
  {
   "cell_type": "markdown",
   "metadata": {},
   "source": [
    "Now that we have access to the application object, we can recalculate the workbook."
   ]
  },
  {
   "cell_type": "code",
   "execution_count": 74,
   "metadata": {},
   "outputs": [],
   "source": [
    "app.api.CalculateFull()"
   ]
  },
  {
   "cell_type": "markdown",
   "metadata": {},
   "source": [
    "Notice that the `=RAND()` value is changing with each call to `CalculateFull`.\n",
    "\n",
    "Note that it is not always necessary to recalculate the workbook to get your simulations. Usually changing the inputs is enough to recalculate it. Recalculating is particularly useful for internal randomness models where you want to run it multiple times with the same inputs. Also there are some situations where UDFs will not recalculate upon changes to the inputs."
   ]
  },
  {
   "cell_type": "markdown",
   "metadata": {},
   "source": [
    "### Picking a Different Sheet"
   ]
  },
  {
   "cell_type": "markdown",
   "metadata": {},
   "source": [
    "I told you to make sure you were on the Wealth tab. What if you wanted to use a different tab? Well you could just switch it manually in Excel. But what if you needed to work with multiple sheets, without human intervention?"
   ]
  },
  {
   "cell_type": "markdown",
   "metadata": {},
   "source": [
    "So far we have been using `xlwings` in the easiest way. By directly using `xw.Range`, it will pick the cell range from the currently active workbook and the currently active sheet. But we can tell `xlwings` which sheet or workbook to work on."
   ]
  },
  {
   "cell_type": "markdown",
   "metadata": {},
   "source": [
    "The sheets of the currently active workbook are stored in `xw.sheets`."
   ]
  },
  {
   "cell_type": "code",
   "execution_count": 75,
   "metadata": {},
   "outputs": [
    {
     "data": {
      "text/plain": [
       "Sheets([<Sheet [Excel with Salary.xlsx]Inputs and Outputs>, <Sheet [Excel with Salary.xlsx]Salary>, <Sheet [Excel with Salary.xlsx]Wealth>, ...])"
      ]
     },
     "execution_count": 75,
     "metadata": {},
     "output_type": "execute_result"
    }
   ],
   "source": [
    "xw.sheets"
   ]
  },
  {
   "cell_type": "markdown",
   "metadata": {},
   "source": [
    "We can access these sheets either by their position (0=index) or their name."
   ]
  },
  {
   "cell_type": "code",
   "execution_count": 76,
   "metadata": {},
   "outputs": [
    {
     "data": {
      "text/plain": [
       "<Sheet [Excel with Salary.xlsx]Inputs and Outputs>"
      ]
     },
     "execution_count": 76,
     "metadata": {},
     "output_type": "execute_result"
    }
   ],
   "source": [
    "xw.sheets[0]"
   ]
  },
  {
   "cell_type": "code",
   "execution_count": 78,
   "metadata": {},
   "outputs": [
    {
     "data": {
      "text/plain": [
       "<Sheet [Excel with Salary.xlsx]Inputs and Outputs>"
      ]
     },
     "execution_count": 78,
     "metadata": {},
     "output_type": "execute_result"
    }
   ],
   "source": [
    "xw.sheets['Inputs and Outputs']"
   ]
  },
  {
   "cell_type": "markdown",
   "metadata": {},
   "source": [
    "Once we have the sheet we want to work on, we can access the range. The only difference there is it becomes lower-case `range` and not `Range`."
   ]
  },
  {
   "cell_type": "code",
   "execution_count": 79,
   "metadata": {},
   "outputs": [],
   "source": [
    "sht = xw.sheets[0]"
   ]
  },
  {
   "cell_type": "code",
   "execution_count": 82,
   "metadata": {},
   "outputs": [
    {
     "data": {
      "text/plain": [
       "0.02"
      ]
     },
     "execution_count": 82,
     "metadata": {},
     "output_type": "execute_result"
    }
   ],
   "source": [
    "sht.range('B5').value  # cost of living raise from Inputs and Outputs tab"
   ]
  },
  {
   "cell_type": "markdown",
   "metadata": {},
   "source": [
    "### How does `xlwings` Find our Workbook? How to Pick a Different Workbook"
   ]
  },
  {
   "cell_type": "markdown",
   "metadata": {},
   "source": [
    "As mentioned in the prior section, using `xw.Range` it will automatically pick the active workbook and sheet. We can also tell it to look at a different workbook, in case we need to have multiple open. Here I will open one more workbook, \"Excel Basic.xlsx\"."
   ]
  },
  {
   "cell_type": "markdown",
   "metadata": {},
   "source": [
    "`.books` works similarly to `.sheets` from the last section. "
   ]
  },
  {
   "cell_type": "code",
   "execution_count": 83,
   "metadata": {},
   "outputs": [
    {
     "data": {
      "text/plain": [
       "Books([<Book [Excel with Salary.xlsx]>, <Book [Excel Basic.xlsx]>])"
      ]
     },
     "execution_count": 83,
     "metadata": {},
     "output_type": "execute_result"
    }
   ],
   "source": [
    "xw.books"
   ]
  },
  {
   "cell_type": "code",
   "execution_count": 84,
   "metadata": {},
   "outputs": [
    {
     "data": {
      "text/plain": [
       "<Book [Excel with Salary.xlsx]>"
      ]
     },
     "execution_count": 84,
     "metadata": {},
     "output_type": "execute_result"
    }
   ],
   "source": [
    "xw.books[0]"
   ]
  },
  {
   "cell_type": "code",
   "execution_count": 86,
   "metadata": {},
   "outputs": [
    {
     "data": {
      "text/plain": [
       "<Book [Excel with Salary.xlsx]>"
      ]
     },
     "execution_count": 86,
     "metadata": {},
     "output_type": "execute_result"
    }
   ],
   "source": [
    "xw.books['Excel with Salary.xlsx']"
   ]
  },
  {
   "cell_type": "markdown",
   "metadata": {},
   "source": [
    "Now we can pick up a workbook. However when using this approach we will also have to pick the sheet."
   ]
  },
  {
   "cell_type": "code",
   "execution_count": 90,
   "metadata": {},
   "outputs": [
    {
     "data": {
      "text/plain": [
       "<Book [Excel with Salary.xlsx]>"
      ]
     },
     "execution_count": 90,
     "metadata": {},
     "output_type": "execute_result"
    }
   ],
   "source": [
    "bk = xw.books[0]\n",
    "bk"
   ]
  },
  {
   "cell_type": "code",
   "execution_count": 91,
   "metadata": {},
   "outputs": [
    {
     "data": {
      "text/plain": [
       "<Sheet [Excel with Salary.xlsx]Inputs and Outputs>"
      ]
     },
     "execution_count": 91,
     "metadata": {},
     "output_type": "execute_result"
    }
   ],
   "source": [
    "sht = bk.sheets[0]\n",
    "sht"
   ]
  },
  {
   "cell_type": "markdown",
   "metadata": {},
   "source": [
    "Then we can use the lower-case `.range` as shown in the section for sheets."
   ]
  },
  {
   "cell_type": "code",
   "execution_count": 92,
   "metadata": {},
   "outputs": [
    {
     "data": {
      "text/plain": [
       "0.02"
      ]
     },
     "execution_count": 92,
     "metadata": {},
     "output_type": "execute_result"
    }
   ],
   "source": [
    "sht.range('B5').value  # cost of living raise from Inputs and Outputs tab"
   ]
  },
  {
   "cell_type": "markdown",
   "metadata": {},
   "source": [
    "**NOTE:** I am now closing the \"Excel Basic.xlsx\" workbook and ensuring that I am on the Wealths tab in the \"Excel with Salary.xlsx\"."
   ]
  },
  {
   "cell_type": "markdown",
   "metadata": {},
   "source": [
    "### Expand Range"
   ]
  },
  {
   "cell_type": "markdown",
   "metadata": {},
   "source": [
    "Just as we have functionality to expand the input range in UDFs, we also have it for referencing cells from Python. We can also use the same options `table`, `vertical`, and `horizontal` as we use for UDFs."
   ]
  },
  {
   "cell_type": "markdown",
   "metadata": {},
   "source": [
    "The default is `table`, so pasing `table` is the same as not passing anything."
   ]
  },
  {
   "cell_type": "code",
   "execution_count": 98,
   "metadata": {},
   "outputs": [
    {
     "data": {
      "text/plain": [
       "[['Time', 'Salary', 'Amount Saved', 'Wealth'],\n",
       " [1.0, 61200.0, 15300.0, 31050.0],\n",
       " [2.0, 62424.0, 15606.0, 48208.5],\n",
       " [3.0, 63672.479999999996, 15918.119999999999, 66537.045],\n",
       " [4.0, 64945.929599999996, 16236.482399999999, 86100.37964999999],\n",
       " [5.0, 76181.57542079999, 19045.393855199996, 109450.79248769998],\n",
       " [6.0, 77705.206929216, 19426.301732304, 134349.63384438897],\n",
       " [7.0, 79259.3110678003, 19814.827766950075, 160881.94330355848],\n",
       " [8.0, 80844.49728915632, 20211.12432228908, 189137.16479102548],\n",
       " [9.0, 82461.38723493945, 20615.346808734863, 219209.36983931164],\n",
       " [10.0, 96727.20722658395, 24181.801806645988, 254351.6401379232],\n",
       " [11.0, 98661.75137111562, 24665.437842778905, 291734.6599875983],\n",
       " [12.0, 100634.98639853795, 25158.746599634487, 331480.1395866127],\n",
       " [13.0, 102647.6861265087, 25661.921531627177, 373716.06809757056],\n",
       " [14.0, 104700.6398490389, 26175.159962259724, 418577.0314647088],\n",
       " [15.0, 122813.85054292256, 30703.46263573064, 470209.3456736749],\n",
       " [16.0, 125270.12755378104, 31317.53188844526, 525037.3448458039],\n",
       " [17.0, 127775.53010485666, 31943.882526214165, 583233.0946143082],\n",
       " [18.0, 130331.04070695378, 32582.760176738444, 644977.5095217621],\n",
       " [19.0, 132937.66152109287, 33234.41538027322, 710460.8003781235],\n",
       " [20.0, 155935.87696424194, 38983.969241060484, 784967.8096380902],\n",
       " [21.0, 159054.59450352675, 39763.64862588169, 863979.8487458763],\n",
       " [22.0, 162235.6863935973, 40558.92159839933, 947737.7627815695],\n",
       " [23.0, 165480.40012146923, 41370.100030367306, 1036494.7509510153],\n",
       " [24.0, 168790.00812389862, 42197.502030974654, 1130516.9905295407],\n",
       " [25.0, 197990.67952933308, 49497.66988233327, 1236540.509938351],\n",
       " [26.0, 201950.49311991976, 50487.62327997994, 1348855.1587152486],\n",
       " [27.0, 205989.5029823181, 51497.37574557953, 1467795.2923965906],\n",
       " [28.0, 210109.29304196453, 52527.32326049113, 1593712.3802769114],\n",
       " [29.0, 214311.4789028038, 53577.86972570095, 1726975.869016458],\n",
       " [30.0, 251387.36475298885, 62846.841188247214, 1876171.5036555284],\n",
       " [31.0, 256415.11204804858, 64103.778012012146, 2034083.856850317],\n",
       " [32.0, 261543.41428900958, 65385.853572252396, 2201173.903265085],\n",
       " [33.0, 266774.2825747898, 66693.57064369744, 2377926.1690720366],\n",
       " [34.0, 272109.7682262856, 68027.4420565714, 2564849.91958221],\n",
       " [35.0, 319184.75812943286, 79796.18953235821, 2772888.605093679],\n",
       " [36.0, 325568.4532920215, 81392.11332300538, 2992925.1486713686],\n",
       " [37.0, 332079.82235786197, 83019.95558946549, 3225591.3616944025],\n",
       " [38.0, 338721.4188050193, 84680.35470125482, 3471551.2844803776],\n",
       " [39.0, 345495.8471811195, 86373.96179527987, 3731502.8104996765],\n",
       " [40.0, 405266.6287434533, 101316.65718586333, 4019394.6082105236]]"
      ]
     },
     "execution_count": 98,
     "metadata": {},
     "output_type": "execute_result"
    }
   ],
   "source": [
    "xw.Range('A7').expand().value"
   ]
  },
  {
   "cell_type": "markdown",
   "metadata": {},
   "source": [
    "Get only values to the right."
   ]
  },
  {
   "cell_type": "code",
   "execution_count": 99,
   "metadata": {},
   "outputs": [
    {
     "data": {
      "text/plain": [
       "['Time', 'Salary', 'Amount Saved', 'Wealth']"
      ]
     },
     "execution_count": 99,
     "metadata": {},
     "output_type": "execute_result"
    }
   ],
   "source": [
    "xw.Range('A7').expand('horizontal').value"
   ]
  },
  {
   "cell_type": "markdown",
   "metadata": {},
   "source": [
    "Get only values going down."
   ]
  },
  {
   "cell_type": "code",
   "execution_count": 100,
   "metadata": {},
   "outputs": [
    {
     "data": {
      "text/plain": [
       "['Time',\n",
       " 1.0,\n",
       " 2.0,\n",
       " 3.0,\n",
       " 4.0,\n",
       " 5.0,\n",
       " 6.0,\n",
       " 7.0,\n",
       " 8.0,\n",
       " 9.0,\n",
       " 10.0,\n",
       " 11.0,\n",
       " 12.0,\n",
       " 13.0,\n",
       " 14.0,\n",
       " 15.0,\n",
       " 16.0,\n",
       " 17.0,\n",
       " 18.0,\n",
       " 19.0,\n",
       " 20.0,\n",
       " 21.0,\n",
       " 22.0,\n",
       " 23.0,\n",
       " 24.0,\n",
       " 25.0,\n",
       " 26.0,\n",
       " 27.0,\n",
       " 28.0,\n",
       " 29.0,\n",
       " 30.0,\n",
       " 31.0,\n",
       " 32.0,\n",
       " 33.0,\n",
       " 34.0,\n",
       " 35.0,\n",
       " 36.0,\n",
       " 37.0,\n",
       " 38.0,\n",
       " 39.0,\n",
       " 40.0]"
      ]
     },
     "execution_count": 100,
     "metadata": {},
     "output_type": "execute_result"
    }
   ],
   "source": [
    "xw.Range('A7').expand('vertical').value"
   ]
  },
  {
   "cell_type": "markdown",
   "metadata": {},
   "source": [
    "## The Monte Carlo Setup\n",
    "\n",
    "**NOTE:** I am now switching to the Inputs and Outputs tab.\n",
    "\n",
    "### Running a Single Simulation\n",
    "\n",
    "We want to evaluate how interest rate affects years until retirement. Let's first just try changing the interest rate and getting the years to retirement as the output."
   ]
  },
  {
   "cell_type": "code",
   "execution_count": 101,
   "metadata": {},
   "outputs": [],
   "source": [
    "xw.Range('B10').value = 0.08"
   ]
  },
  {
   "cell_type": "markdown",
   "metadata": {},
   "source": [
    "Now we can see that the interest rate has changed to 8% in Excel and that the years to retirement has changed to 24. But we want to get that output out of Excel as well."
   ]
  },
  {
   "cell_type": "code",
   "execution_count": 102,
   "metadata": {},
   "outputs": [
    {
     "data": {
      "text/plain": [
       "24.0"
      ]
     },
     "execution_count": 102,
     "metadata": {},
     "output_type": "execute_result"
    }
   ],
   "source": [
    "years_to_retirement = xw.Range('B18').value\n",
    "years_to_retirement"
   ]
  },
  {
   "cell_type": "markdown",
   "metadata": {},
   "source": [
    "Now that we have the value in Python we can analyze it in Python. Or if we want to analyze the results in Excel, we can output it back to the Excel workbook as a hard-coded value in a different cell, so that it will still be saved when the inputs change."
   ]
  },
  {
   "cell_type": "code",
   "execution_count": 104,
   "metadata": {},
   "outputs": [],
   "source": [
    "xw.Range('E2').value = years_to_retirement"
   ]
  },
  {
   "cell_type": "markdown",
   "metadata": {},
   "source": [
    "Now we can see the value is in Excel in the cell `E2`."
   ]
  },
  {
   "cell_type": "markdown",
   "metadata": {},
   "source": [
    "### Running Multiple Simulations"
   ]
  },
  {
   "cell_type": "markdown",
   "metadata": {},
   "source": [
    "Just as we have done with pure Python Monte Carlo simulations, now we want to run this process many times. We'll use a loop over the number of iterations to do this. We will collect the results in Python and then output to Excel at the end."
   ]
  },
  {
   "cell_type": "markdown",
   "metadata": {},
   "source": [
    "First we need to be getting the interest rate randomly from a normal distribution:"
   ]
  },
  {
   "cell_type": "code",
   "execution_count": 109,
   "metadata": {},
   "outputs": [
    {
     "data": {
      "text/plain": [
       "0.10706606063356855"
      ]
     },
     "execution_count": 109,
     "metadata": {},
     "output_type": "execute_result"
    }
   ],
   "source": [
    "import random\n",
    "\n",
    "interest_mean = 0.05\n",
    "interest_std = 0.03\n",
    "\n",
    "interest_rate = random.normalvariate(interest_mean, interest_std)\n",
    "interest_rate"
   ]
  },
  {
   "cell_type": "code",
   "execution_count": 106,
   "metadata": {},
   "outputs": [
    {
     "data": {
      "text/plain": [
       "[21.0, 29.0, 26.0, 30.0, 22.0, 26.0, 23.0, 26.0, 20.0, 26.0]"
      ]
     },
     "execution_count": 106,
     "metadata": {},
     "output_type": "execute_result"
    }
   ],
   "source": [
    "num_iter = 10\n",
    "\n",
    "all_retirement_years = []\n",
    "for i in range(num_iter):\n",
    "    interest_rate = random.normalvariate(interest_mean, interest_std)\n",
    "    xw.Range('B10').value = interest_rate\n",
    "    years_to_retirement = xw.Range('B18').value\n",
    "    all_retirement_years.append(years_to_retirement)\n",
    "all_retirement_years"
   ]
  },
  {
   "cell_type": "markdown",
   "metadata": {},
   "source": [
    "Now output back to Excel. We want them in a column so we will do the list comprehension trick."
   ]
  },
  {
   "cell_type": "code",
   "execution_count": 108,
   "metadata": {},
   "outputs": [],
   "source": [
    "vertical_retirement_years = [[ret_year] for ret_year in all_retirement_years]\n",
    "xw.Range('E2').value = vertical_retirement_years"
   ]
  },
  {
   "cell_type": "markdown",
   "metadata": {},
   "source": [
    "Now wrap this all up in a function."
   ]
  },
  {
   "cell_type": "code",
   "execution_count": 110,
   "metadata": {},
   "outputs": [
    {
     "data": {
      "text/plain": [
       "[22.0, 20.0, 26.0, 25.0, 30.0, 27.0, 29.0, 24.0, 29.0, 26.0]"
      ]
     },
     "execution_count": 110,
     "metadata": {},
     "output_type": "execute_result"
    }
   ],
   "source": [
    "def retirement_simulations(num_iter, interest_mean, interest_std):\n",
    "    all_retirement_years = []\n",
    "    for i in range(num_iter):\n",
    "        interest_rate = random.normalvariate(interest_mean, interest_std)\n",
    "        xw.Range('B10').value = interest_rate\n",
    "        years_to_retirement = xw.Range('B18').value\n",
    "        all_retirement_years.append(years_to_retirement)\n",
    "    \n",
    "    vertical_retirement_years = [[ret_year] for ret_year in all_retirement_years]\n",
    "    xw.Range('E2').value = vertical_retirement_years\n",
    "    \n",
    "    return all_retirement_years  # return it so we will also have it in Python in addition to Excel\n",
    "\n",
    "results = retirement_simulations(100, 0.1, 0.05)\n",
    "results[:10]"
   ]
  },
  {
   "cell_type": "markdown",
   "metadata": {},
   "source": [
    "### Visualize and Analyze"
   ]
  },
  {
   "cell_type": "markdown",
   "metadata": {},
   "source": [
    "From here, we could follow the same exact process to visualize and analyze in Python as is shown in the Monte Carlo example and practice problem. Here I will show a similar process but doing it in Excel."
   ]
  },
  {
   "cell_type": "markdown",
   "metadata": {},
   "source": [
    "#### Histogram"
   ]
  },
  {
   "cell_type": "markdown",
   "metadata": {},
   "source": [
    "Select the values in Excel, then do Insert > Charts > Histogram. You can change the number of bins by going to axis formatting options."
   ]
  },
  {
   "cell_type": "markdown",
   "metadata": {},
   "source": [
    "#### Percentile Table"
   ]
  },
  {
   "cell_type": "markdown",
   "metadata": {},
   "source": [
    "Excel has the `=PERCENTILE` function. Set up your table with the probabilities you want to examine, then in the first cell call the `=PERCENTILE` function on the entire data with a fixed reference, then the probability with a relative reference. Then you can drag it down to iterate through the probabilities."
   ]
  },
  {
   "cell_type": "markdown",
   "metadata": {},
   "source": [
    "### Probability of a Certain Outcome"
   ]
  },
  {
   "cell_type": "markdown",
   "metadata": {},
   "source": [
    "We can recreate what we did in Python by using a simple `=IF` call. E.g. if we wanted to see the probability that years to retirement is greater than 25, we would do `=IF(E2>25,1,0)` so that we get a 1 if it is meeting the condition and zero otherwise. Then we just take an average of all the 1s and 0s."
   ]
  }
 ],
 "metadata": {
  "kernelspec": {
   "display_name": "Python 3",
   "language": "python",
   "name": "python3"
  },
  "language_info": {
   "codemirror_mode": {
    "name": "ipython",
    "version": 3
   },
   "file_extension": ".py",
   "mimetype": "text/x-python",
   "name": "python",
   "nbconvert_exporter": "python",
   "pygments_lexer": "ipython3",
   "version": "3.7.1"
  }
 },
 "nbformat": 4,
 "nbformat_minor": 2
}
