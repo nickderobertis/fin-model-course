{
 "cells": [
  {
   "cell_type": "markdown",
   "metadata": {},
   "source": [
    "# Dynamic Array UDFs"
   ]
  },
  {
   "cell_type": "markdown",
   "metadata": {},
   "source": [
    "## Why use them?"
   ]
  },
  {
   "cell_type": "markdown",
   "metadata": {},
   "source": [
    "`xlwings` has some great features for working with arrays where you may not know the size in advance. This is very useful in cases where you want to take the number of time periods in a model as an input. It could also be useful in a lot of other cases where you don't know the size of the data. E.g. you are calculating average portfolio returns, but you want the workbook to automatically pick it up when you add a new asset."
   ]
  },
  {
   "cell_type": "markdown",
   "metadata": {},
   "source": [
    "## What are they exactly?"
   ]
  },
  {
   "cell_type": "markdown",
   "metadata": {},
   "source": [
    "### Array functions"
   ]
  },
  {
   "cell_type": "markdown",
   "metadata": {},
   "source": [
    "Array functions are actually nothing new. Excel has had support for array functions for a long time. An example of a built-in excel array function is `=MMULT`. You can pass it two cell ranges, and have those cell ranges multiplied together as matrices. The defining characteristic of an array function is that it returns multiple cells in its output."
   ]
  },
  {
   "cell_type": "markdown",
   "metadata": {},
   "source": [
    "### Array UDFs"
   ]
  },
  {
   "cell_type": "markdown",
   "metadata": {},
   "source": [
    "This is just a UDF that returns multiple values. You call it in one cell, and the output will be in not only that cell, but other cells as well. To get a UDF to return multiple values, add `@xw.ret(expand='table')` above the function. "
   ]
  },
  {
   "cell_type": "markdown",
   "metadata": {},
   "source": [
    "### Dynamic UDFs"
   ]
  },
  {
   "cell_type": "markdown",
   "metadata": {},
   "source": [
    "These are UDFs that take advantage of an `xlwings` feature to resize the input. If you put `@xw.arg('my_arg', expand='table')` above your function, and have a parameter `my_arg` in your function, then you can select a single cell in Excel, and it will resize the input down and to the right until it hits blank cells. So this is a very easy way to reference a single cell, but get the entire table, regardless of the size of that table. "
   ]
  },
  {
   "cell_type": "markdown",
   "metadata": {},
   "source": [
    "### Dynamic Array UDFs"
   ]
  },
  {
   "cell_type": "markdown",
   "metadata": {},
   "source": [
    "These are dynamic UDFS that also return multiple values. So these will have `@xw.arg` and `@xw.ret` both with `expand`."
   ]
  },
  {
   "cell_type": "markdown",
   "metadata": {},
   "source": [
    "# An Example Using Dynamic Array UDFs"
   ]
  },
  {
   "cell_type": "markdown",
   "metadata": {},
   "source": [
    "Let's take calculating a portfolio return as an example. Work off of the `portfolio_ret` example `xlwings` project. We want to be able to add a new asset to the `Data` sheet whenever we're adding another asset to the portfolio, but we don't want to have to update all our calculations to include it each time."
   ]
  },
  {
   "cell_type": "markdown",
   "metadata": {},
   "source": [
    "## Average all the returns"
   ]
  },
  {
   "cell_type": "markdown",
   "metadata": {},
   "source": [
    "We can take advantage of the `DataFrame.mean` method to average all of the returns at once. Write a UDF as follows:"
   ]
  },
  {
   "cell_type": "raw",
   "metadata": {},
   "source": [
    "@xw.func\n",
    "@xw.arg('data', pd.DataFrame, expand='table')\n",
    "@xw.ret(expand='table')\n",
    "def average_all(data):\n",
    "    return data.mean()"
   ]
  },
  {
   "cell_type": "markdown",
   "metadata": {},
   "source": [
    "Notice it has `@xw.func` which makes it a UDF. It also now has `@xw.arg('data', pd.DataFrame, expand='table')`. You can pass in `pd.DataFrame` as the second argument there to have the data come into the Python function as a `DataFrame`, which is very useful for our purpose here. You can also exclude that, instead have `@xw.arg('data', expand='table')`, and then it would come in as a list of lists."
   ]
  },
  {
   "cell_type": "markdown",
   "metadata": {},
   "source": [
    "Notice also that we have added `@xw.ret(expand='table')`. This is because we are going to have multiple cells in the output, one for each average return, as well as one for each name of the asset."
   ]
  },
  {
   "cell_type": "markdown",
   "metadata": {},
   "source": [
    "Call this function on a new sheet, referencing only the `Date` cell (top left cell) in the `Data` tab. You will see that it is able to calculate averages for the entire table of returns."
   ]
  },
  {
   "cell_type": "markdown",
   "metadata": {},
   "source": [
    "### Other options with `pd.DataFrame`s"
   ]
  },
  {
   "cell_type": "markdown",
   "metadata": {},
   "source": [
    "You can also add `index=False` or `header=False` into either `@xw.arg` or `@xw.ret` when using them with `pd.DataFrame`. These will cause the index or column names, repsectively, to get cut off. If you have a `0, 1, 2...` coming back in your output that you don't want, pass `@xw.arg('data', pd.DataFrame, expand='table', index=False)`. If you wanted to remove the column names from the output, then `@xw.arg('data', pd.DataFrame, expand='table', header=False)` and you can also pass both: `@xw.arg('data', pd.DataFrame, expand='table', index=False, header=False)`"
   ]
  },
  {
   "cell_type": "markdown",
   "metadata": {},
   "source": [
    "## Get the Expected Return on the Portfolio"
   ]
  },
  {
   "cell_type": "markdown",
   "metadata": {},
   "source": [
    "Now we want to add some weights for how much the portfolio has in each asset. Then use the returns and weights to calculate an expected return on the portfoliolo. We want this function to work seamlessly as we add more assets."
   ]
  },
  {
   "cell_type": "markdown",
   "metadata": {},
   "source": [
    "Add a weights column next to the output of the average returns. Add a weight for each asset, they should sum up to 100%."
   ]
  },
  {
   "cell_type": "markdown",
   "metadata": {},
   "source": [
    "Now add the following UDF:"
   ]
  },
  {
   "cell_type": "raw",
   "metadata": {},
   "source": [
    "@xw.func\n",
    "@xw.arg('returns', expand='vertical')\n",
    "@xw.arg('weights', expand='vertical')\n",
    "def portfolio_return(returns, weights):\n",
    "    er = 0\n",
    "    for i, ret in enumerate(returns):\n",
    "        er = er + ret * weights[i]\n",
    "    return er"
   ]
  },
  {
   "cell_type": "markdown",
   "metadata": {},
   "source": [
    "The main logic here calculates the expected return on the portfolio. Call this function by referencing the first average return and the first weight. It will pick up all the returns and weights."
   ]
  },
  {
   "cell_type": "markdown",
   "metadata": {},
   "source": [
    "### Other options with `expand`"
   ]
  },
  {
   "cell_type": "markdown",
   "metadata": {},
   "source": [
    "We explored `expand='table'` initially which will grab all cells in the table, going right and down from the referenced cell until it hits blank cells. We can also have this go only for a column or row. With `expand='vertical'`, it will grab all the values going down from the referenced cell until it hits a blank. It will not grab any cells to the right. With `expand='horiztonal'`, it will grab all the values going right from the referenced cell until it hits a blank. It will not grab any cells below the referenced cell."
   ]
  },
  {
   "cell_type": "markdown",
   "metadata": {},
   "source": [
    "Here we used `expand='vertical'` because we only wanted one column of returns and one column of weights, separately, and they were next to each other in a table. If we had used `expand='table'` for the returns, it would also get the weights in that argument."
   ]
  },
  {
   "cell_type": "markdown",
   "metadata": {},
   "source": [
    "# Add a New Asset"
   ]
  },
  {
   "cell_type": "markdown",
   "metadata": {},
   "source": [
    "Add another weight below the current weights, and adjust them so that they still sum to 1. Copy the `Asset 1` column, place it to the right of the `Asset 2` column, and rename the header to `Asset 3`. Go back to the main sheet and recalculate the workbook by hitting `CTRL + ALT + F9`. You will see the new average return added, and the expected portfolio return will update for that asset as well."
   ]
  }
 ],
 "metadata": {
  "kernelspec": {
   "display_name": "Python 3",
   "language": "python",
   "name": "python3"
  },
  "language_info": {
   "codemirror_mode": {
    "name": "ipython",
    "version": 3
   },
   "file_extension": ".py",
   "mimetype": "text/x-python",
   "name": "python",
   "nbconvert_exporter": "python",
   "pygments_lexer": "ipython3",
   "version": "3.7.3"
  }
 },
 "nbformat": 4,
 "nbformat_minor": 4
}
