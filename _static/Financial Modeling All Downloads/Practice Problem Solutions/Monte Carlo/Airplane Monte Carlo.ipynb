{
 "cells": [
  {
   "cell_type": "markdown",
   "metadata": {},
   "source": [
    "# Airplane Capital Budgeting Monte Carlo Problem"
   ]
  },
  {
   "cell_type": "markdown",
   "metadata": {},
   "source": [
    "# The Basic Model"
   ]
  },
  {
   "cell_type": "markdown",
   "metadata": {},
   "source": [
    "Before we get to the Monte Carlo part or bringing in any of the distributions, we just want to be able to get the base NPV for a plane. To get there, we will need to find the cash flows of the plane. We already have the research and manufacture costs as our $t=0$ and $t=1$ cash flows. So then it's just figuring out the $t=2$ cash flow. "
   ]
  },
  {
   "cell_type": "markdown",
   "metadata": {},
   "source": [
    "## Setup\n",
    "\n",
    "The required packages are imported."
   ]
  },
  {
   "cell_type": "code",
   "execution_count": 1,
   "metadata": {},
   "outputs": [],
   "source": [
    "import numpy as np\n",
    "from dataclasses import dataclass\n",
    "import random\n",
    "import pandas as pd\n",
    "from IPython.display import display, HTML\n",
    "import matplotlib.pyplot as plt\n",
    "%matplotlib inline"
   ]
  },
  {
   "cell_type": "markdown",
   "metadata": {},
   "source": [
    "## Inputs"
   ]
  },
  {
   "cell_type": "markdown",
   "metadata": {},
   "source": [
    "In this model, we will be modeling three planes separately. So I will set up the overall model inputs, as well as the inputs for a particular plane."
   ]
  },
  {
   "cell_type": "code",
   "execution_count": 2,
   "metadata": {},
   "outputs": [
    {
     "data": {
      "text/plain": [
       "ModelInputs(planes=(PlaneInputs(name='Super Size', num_units=200, num_units_mean=200, num_units_std=120, price=11500000, research_cost=100000000, manufacture_cost=10000000), PlaneInputs(name='Large', num_units=400, num_units_mean=400, num_units_std=50, price=5600000, research_cost=50000000, manufacture_cost=5000000), PlaneInputs(name='Mid-Size', num_units=500, num_units_mean=500, num_units_std=20, price=33500000, research_cost=25000000, manufacture_cost=3000000)), interest_rate=0.07, interest_rate_mean=0.07, interest_rate_std=0.04, num_simulations=10000)"
      ]
     },
     "execution_count": 2,
     "metadata": {},
     "output_type": "execute_result"
    }
   ],
   "source": [
    "@dataclass\n",
    "class PlaneInputs:\n",
    "    name: str = 'Super Size'\n",
    "    num_units: int = 200\n",
    "    num_units_mean: int = 200\n",
    "    num_units_std: float = 120\n",
    "    price: float = 11500000\n",
    "    research_cost: float = 100000000\n",
    "    manufacture_cost: float = 10000000\n",
    "        \n",
    "\n",
    "@dataclass\n",
    "class ModelInputs:\n",
    "    planes: tuple = (\n",
    "        PlaneInputs(\n",
    "            name='Super Size',\n",
    "            num_units=200,\n",
    "            num_units_mean=200,\n",
    "            num_units_std=120,\n",
    "            price=11500000,\n",
    "            research_cost=100000000,\n",
    "            manufacture_cost=10000000,\n",
    "        ),\n",
    "        PlaneInputs(\n",
    "            name='Large',\n",
    "            num_units=400,\n",
    "            num_units_mean=400,\n",
    "            num_units_std=50,\n",
    "            price=5600000,\n",
    "            research_cost=50000000,\n",
    "            manufacture_cost=5000000,\n",
    "        ),\n",
    "        PlaneInputs(\n",
    "            name='Mid-Size',\n",
    "            num_units=500,\n",
    "            num_units_mean=500,\n",
    "            num_units_std=20,\n",
    "            price=33500000,\n",
    "            research_cost=25000000,\n",
    "            manufacture_cost=3000000,\n",
    "        )\n",
    "    )\n",
    "    interest_rate: float = 0.07\n",
    "    interest_rate_mean: float = 0.07\n",
    "    interest_rate_std: float = 0.04\n",
    "    num_simulations: int = 10000\n",
    "        \n",
    "model_data = ModelInputs()\n",
    "model_data"
   ]
  },
  {
   "cell_type": "markdown",
   "metadata": {},
   "source": [
    "To help put together the functions and show examples, also take the plane inputs separately."
   ]
  },
  {
   "cell_type": "code",
   "execution_count": 3,
   "metadata": {},
   "outputs": [
    {
     "data": {
      "text/plain": [
       "PlaneInputs(name='Super Size', num_units=200, num_units_mean=200, num_units_std=120, price=11500000, research_cost=100000000, manufacture_cost=10000000)"
      ]
     },
     "execution_count": 3,
     "metadata": {},
     "output_type": "execute_result"
    }
   ],
   "source": [
    "plane = PlaneInputs()\n",
    "plane"
   ]
  },
  {
   "cell_type": "markdown",
   "metadata": {},
   "source": [
    "## Getting the $t=2$ Cash Flow\n",
    "\n",
    "For this cash flow, it will simply be: $$\\pi = PQ$$ Where $\\pi$ is the profit, $P$ is the price, and $Q$ is the quantity of planes sold."
   ]
  },
  {
   "cell_type": "code",
   "execution_count": 4,
   "metadata": {},
   "outputs": [
    {
     "data": {
      "text/plain": [
       "2300000000"
      ]
     },
     "execution_count": 4,
     "metadata": {},
     "output_type": "execute_result"
    }
   ],
   "source": [
    "profit = plane.price * plane.num_units\n",
    "profit"
   ]
  },
  {
   "cell_type": "markdown",
   "metadata": {},
   "source": [
    "## Putting the Cash Flows Together"
   ]
  },
  {
   "cell_type": "markdown",
   "metadata": {},
   "source": [
    "At $t=0$, we pay the research cost, and at $t=1$, we pay the manufacture cost. Just add the $t=2$ cash flow we added to these and we will have all the cash flows for the plane."
   ]
  },
  {
   "cell_type": "code",
   "execution_count": 5,
   "metadata": {},
   "outputs": [
    {
     "data": {
      "text/plain": [
       "[-100000000, -2000000000, 2300000000]"
      ]
     },
     "execution_count": 5,
     "metadata": {},
     "output_type": "execute_result"
    }
   ],
   "source": [
    "cash_flows = [\n",
    "    -plane.research_cost,\n",
    "    -plane.manufacture_cost * plane.num_units,\n",
    "    profit\n",
    "]\n",
    "cash_flows"
   ]
  },
  {
   "cell_type": "markdown",
   "metadata": {},
   "source": [
    "## Calculating NPV"
   ]
  },
  {
   "cell_type": "markdown",
   "metadata": {},
   "source": [
    "`numpy` has an NPV function to calculate this for us. Recall that `numpy`'s NPV function expects the first cash flow to be period 0, which is what we have, so we can pass the cash flows directly in."
   ]
  },
  {
   "cell_type": "code",
   "execution_count": 6,
   "metadata": {},
   "outputs": [
    {
     "name": "stderr",
     "output_type": "stream",
     "text": [
      "/home/nick/.local/share/virtualenvs/fin-model-course-eIFMSc8A/lib/python3.7/site-packages/ipykernel_launcher.py:1: DeprecationWarning: numpy.npv is deprecated and will be removed from NumPy 1.20. Use numpy_financial.npv instead (https://pypi.org/project/numpy-financial/).\n",
      "  \"\"\"Entry point for launching an IPython kernel.\n"
     ]
    },
    {
     "data": {
      "text/plain": [
       "39750196.52371383"
      ]
     },
     "execution_count": 6,
     "metadata": {},
     "output_type": "execute_result"
    }
   ],
   "source": [
    "np.npv(model_data.interest_rate, cash_flows)"
   ]
  },
  {
   "cell_type": "markdown",
   "metadata": {},
   "source": [
    "Now let's put all the preceding steps in a function for later use."
   ]
  },
  {
   "cell_type": "code",
   "execution_count": 7,
   "metadata": {},
   "outputs": [
    {
     "name": "stderr",
     "output_type": "stream",
     "text": [
      "/home/nick/.local/share/virtualenvs/fin-model-course-eIFMSc8A/lib/python3.7/site-packages/ipykernel_launcher.py:22: DeprecationWarning: numpy.npv is deprecated and will be removed from NumPy 1.20. Use numpy_financial.npv instead (https://pypi.org/project/numpy-financial/).\n"
     ]
    },
    {
     "data": {
      "text/plain": [
       "39750196.52371383"
      ]
     },
     "execution_count": 7,
     "metadata": {},
     "output_type": "execute_result"
    }
   ],
   "source": [
    "def plane_cash_flows(plane):\n",
    "    \"\"\"\n",
    "    Calculates the expected profit from a plane as units muliplied by price,\n",
    "    then puts together cash flows which include first paying a research cost,\n",
    "    then a manuafacturing cost, then earning the profit.\n",
    "    \"\"\"\n",
    "    profit = plane.price * plane.num_units\n",
    "    cash_flows = [\n",
    "        -plane.research_cost,\n",
    "        -plane.manufacture_cost * plane.num_units,\n",
    "        profit\n",
    "    ]\n",
    "    return cash_flows\n",
    "\n",
    "\n",
    "def plane_npv(data, plane):\n",
    "    \"\"\"\n",
    "    Uses the plane_cash_flows function to determine cash flows of a plane,\n",
    "    then calculates the NPV from those cash flows and the interest rate.\n",
    "    \"\"\"\n",
    "    cash_flows = plane_cash_flows(plane)\n",
    "    npv = np.npv(data.interest_rate, cash_flows)\n",
    "    return npv\n",
    "\n",
    "plane_npv(model_data, plane)"
   ]
  },
  {
   "cell_type": "markdown",
   "metadata": {},
   "source": [
    "# Monte Carlo Simulations"
   ]
  },
  {
   "cell_type": "markdown",
   "metadata": {},
   "source": [
    "## Getting Random Interest Rates and Units"
   ]
  },
  {
   "cell_type": "markdown",
   "metadata": {},
   "source": [
    "Now we have the basic model set up. Now for each type of plane, we want to assign a distribution to both the number of units sold and the interest rate. For interest rate, it is straightforward to pull it from a normal distribution. For the units, we have some additional complications discussed below."
   ]
  },
  {
   "cell_type": "code",
   "execution_count": 8,
   "metadata": {},
   "outputs": [
    {
     "data": {
      "text/plain": [
       "0.07073732751344351"
      ]
     },
     "execution_count": 8,
     "metadata": {},
     "output_type": "execute_result"
    }
   ],
   "source": [
    "interest_rate = random.normalvariate(model_data.interest_rate_mean, model_data.interest_rate_std)\n",
    "interest_rate"
   ]
  },
  {
   "cell_type": "markdown",
   "metadata": {},
   "source": [
    "One snag with the units is we can't sell a partial plane. So we'll also round it. Further, we can't sell negative planes, so we will take the max of 0 and the number of planes."
   ]
  },
  {
   "cell_type": "code",
   "execution_count": 9,
   "metadata": {},
   "outputs": [
    {
     "data": {
      "text/plain": [
       "164.80445947079468"
      ]
     },
     "execution_count": 9,
     "metadata": {},
     "output_type": "execute_result"
    }
   ],
   "source": [
    "num_units = random.normalvariate(plane.num_units_mean, plane.num_units_std)\n",
    "num_units"
   ]
  },
  {
   "cell_type": "code",
   "execution_count": 10,
   "metadata": {},
   "outputs": [
    {
     "data": {
      "text/plain": [
       "165"
      ]
     },
     "execution_count": 10,
     "metadata": {},
     "output_type": "execute_result"
    }
   ],
   "source": [
    "round(num_units)"
   ]
  },
  {
   "cell_type": "code",
   "execution_count": 11,
   "metadata": {},
   "outputs": [
    {
     "data": {
      "text/plain": [
       "165"
      ]
     },
     "execution_count": 11,
     "metadata": {},
     "output_type": "execute_result"
    }
   ],
   "source": [
    "max(0, round(num_units))"
   ]
  },
  {
   "cell_type": "markdown",
   "metadata": {},
   "source": [
    "Now put this all into a function."
   ]
  },
  {
   "cell_type": "code",
   "execution_count": 12,
   "metadata": {},
   "outputs": [
    {
     "data": {
      "text/plain": [
       "(0.08341294704424548, 0)"
      ]
     },
     "execution_count": 12,
     "metadata": {},
     "output_type": "execute_result"
    }
   ],
   "source": [
    "def random_interest_num_units(data, plane):\n",
    "    \"\"\"\n",
    "    Gets a random interest rate and number of plane units.\n",
    "    \n",
    "    Both are drawn from normal distributions. For number of units, it is also\n",
    "    rounded and set to 0 if it is negative.\n",
    "    \"\"\"\n",
    "    interest_rate = random.normalvariate(data.interest_rate_mean, data.interest_rate_std)\n",
    "    num_units = random.normalvariate(plane.num_units_mean, plane.num_units_std)\n",
    "    num_units = max(0, round(num_units))\n",
    "    return interest_rate, num_units\n",
    "\n",
    "random_interest_num_units(model_data, plane)"
   ]
  },
  {
   "cell_type": "markdown",
   "metadata": {},
   "source": [
    "## Running a Simulation"
   ]
  },
  {
   "cell_type": "markdown",
   "metadata": {},
   "source": [
    "To run one simulation, we need to pick those random values for units and interest rate and then pass them into the plane and collect the NPV. As you run this multiple times, you can see the NPV change."
   ]
  },
  {
   "cell_type": "code",
   "execution_count": 13,
   "metadata": {},
   "outputs": [
    {
     "name": "stderr",
     "output_type": "stream",
     "text": [
      "/home/nick/.local/share/virtualenvs/fin-model-course-eIFMSc8A/lib/python3.7/site-packages/ipykernel_launcher.py:22: DeprecationWarning: numpy.npv is deprecated and will be removed from NumPy 1.20. Use numpy_financial.npv instead (https://pypi.org/project/numpy-financial/).\n"
     ]
    },
    {
     "data": {
      "text/plain": [
       "57247210.08716822"
      ]
     },
     "execution_count": 13,
     "metadata": {},
     "output_type": "execute_result"
    }
   ],
   "source": [
    "interest_rate, num_units = random_interest_num_units(model_data, plane)\n",
    "plane.num_units = num_units\n",
    "model_data.interest_rate = interest_rate\n",
    "npv = plane_npv(model_data, plane)\n",
    "npv"
   ]
  },
  {
   "cell_type": "markdown",
   "metadata": {},
   "source": [
    "We're going to have to run this for each plane 10,000 times. So let's make a function for this to stay organized. We also want to return the interest rate and number of units used for later analysis."
   ]
  },
  {
   "cell_type": "code",
   "execution_count": 14,
   "metadata": {},
   "outputs": [
    {
     "name": "stderr",
     "output_type": "stream",
     "text": [
      "/home/nick/.local/share/virtualenvs/fin-model-course-eIFMSc8A/lib/python3.7/site-packages/ipykernel_launcher.py:22: DeprecationWarning: numpy.npv is deprecated and will be removed from NumPy 1.20. Use numpy_financial.npv instead (https://pypi.org/project/numpy-financial/).\n"
     ]
    },
    {
     "data": {
      "text/plain": [
       "(0.03948724626200871, 97, -792203.2977284193)"
      ]
     },
     "execution_count": 14,
     "metadata": {},
     "output_type": "execute_result"
    }
   ],
   "source": [
    "def plane_simulation(data, plane):\n",
    "    \"\"\"\n",
    "    Runs a single Monte Carlo simulation for a single plane.\n",
    "    \n",
    "    Varies the interest rate and number of units according to normal\n",
    "    distributions with each simulation.\n",
    "    \"\"\"\n",
    "    interest_rate, num_units = random_interest_num_units(data, plane)\n",
    "    plane.num_units = num_units\n",
    "    model_data.interest_rate = interest_rate\n",
    "    npv = plane_npv(data, plane)\n",
    "    return interest_rate, num_units, npv\n",
    "\n",
    "plane_simulation(model_data, plane)"
   ]
  },
  {
   "cell_type": "markdown",
   "metadata": {},
   "source": [
    "## Running all the Simulations for One Plane\n",
    "\n",
    "Now we have a function that runs a single simulation for a single plane. So now we want to run 10,000 of these for that plane."
   ]
  },
  {
   "cell_type": "code",
   "execution_count": 15,
   "metadata": {},
   "outputs": [
    {
     "name": "stderr",
     "output_type": "stream",
     "text": [
      "/home/nick/.local/share/virtualenvs/fin-model-course-eIFMSc8A/lib/python3.7/site-packages/ipykernel_launcher.py:22: DeprecationWarning: numpy.npv is deprecated and will be removed from NumPy 1.20. Use numpy_financial.npv instead (https://pypi.org/project/numpy-financial/).\n"
     ]
    }
   ],
   "source": [
    "outputs = [plane_simulation(model_data, plane) for i in range(model_data.num_simulations)]"
   ]
  },
  {
   "cell_type": "code",
   "execution_count": 16,
   "metadata": {},
   "outputs": [
    {
     "data": {
      "text/plain": [
       "[(0.022925576320880547, 268, 225465431.49248838),\n",
       " (0.14223210622618038, 282, -83210272.029634),\n",
       " (0.010165939715250996, 117, 60329481.38494372),\n",
       " (0.004884234935234585, 442, 535191677.84482193),\n",
       " (0.06228690381323236, 124, -3616549.0670495033)]"
      ]
     },
     "execution_count": 16,
     "metadata": {},
     "output_type": "execute_result"
    }
   ],
   "source": [
    "outputs[:5]"
   ]
  },
  {
   "cell_type": "code",
   "execution_count": 17,
   "metadata": {},
   "outputs": [
    {
     "data": {
      "text/plain": [
       "10000"
      ]
     },
     "execution_count": 17,
     "metadata": {},
     "output_type": "execute_result"
    }
   ],
   "source": [
    "len(outputs)"
   ]
  },
  {
   "cell_type": "markdown",
   "metadata": {},
   "source": [
    "Everything looks right, so now let's put it into a `DataFrame`."
   ]
  },
  {
   "cell_type": "code",
   "execution_count": 18,
   "metadata": {},
   "outputs": [
    {
     "data": {
      "text/html": [
       "<div>\n",
       "<style scoped>\n",
       "    .dataframe tbody tr th:only-of-type {\n",
       "        vertical-align: middle;\n",
       "    }\n",
       "\n",
       "    .dataframe tbody tr th {\n",
       "        vertical-align: top;\n",
       "    }\n",
       "\n",
       "    .dataframe thead th {\n",
       "        text-align: right;\n",
       "    }\n",
       "</style>\n",
       "<table border=\"1\" class=\"dataframe\">\n",
       "  <thead>\n",
       "    <tr style=\"text-align: right;\">\n",
       "      <th></th>\n",
       "      <th>Interest Rate</th>\n",
       "      <th>Number of Units Sold</th>\n",
       "      <th>NPV</th>\n",
       "    </tr>\n",
       "  </thead>\n",
       "  <tbody>\n",
       "    <tr>\n",
       "      <th>0</th>\n",
       "      <td>0.022926</td>\n",
       "      <td>268</td>\n",
       "      <td>2.254654e+08</td>\n",
       "    </tr>\n",
       "    <tr>\n",
       "      <th>1</th>\n",
       "      <td>0.142232</td>\n",
       "      <td>282</td>\n",
       "      <td>-8.321027e+07</td>\n",
       "    </tr>\n",
       "    <tr>\n",
       "      <th>2</th>\n",
       "      <td>0.010166</td>\n",
       "      <td>117</td>\n",
       "      <td>6.032948e+07</td>\n",
       "    </tr>\n",
       "    <tr>\n",
       "      <th>3</th>\n",
       "      <td>0.004884</td>\n",
       "      <td>442</td>\n",
       "      <td>5.351917e+08</td>\n",
       "    </tr>\n",
       "    <tr>\n",
       "      <th>4</th>\n",
       "      <td>0.062287</td>\n",
       "      <td>124</td>\n",
       "      <td>-3.616549e+06</td>\n",
       "    </tr>\n",
       "  </tbody>\n",
       "</table>\n",
       "</div>"
      ],
      "text/plain": [
       "   Interest Rate  Number of Units Sold           NPV\n",
       "0       0.022926                   268  2.254654e+08\n",
       "1       0.142232                   282 -8.321027e+07\n",
       "2       0.010166                   117  6.032948e+07\n",
       "3       0.004884                   442  5.351917e+08\n",
       "4       0.062287                   124 -3.616549e+06"
      ]
     },
     "execution_count": 18,
     "metadata": {},
     "output_type": "execute_result"
    }
   ],
   "source": [
    "df = pd.DataFrame(\n",
    "    outputs,\n",
    "    columns=['Interest Rate', 'Number of Units Sold', 'NPV']\n",
    ")\n",
    "\n",
    "df.head()  # view first rows"
   ]
  },
  {
   "cell_type": "markdown",
   "metadata": {},
   "source": [
    "Let's add some styling to these `DataFrames` as well."
   ]
  },
  {
   "cell_type": "code",
   "execution_count": 19,
   "metadata": {},
   "outputs": [
    {
     "data": {
      "text/html": [
       "<style  type=\"text/css\" >\n",
       "    #T_5f920c7c_7100_11ea_8660_1803734f38ebrow0_col2 {\n",
       "            background-color:  #fffebe;\n",
       "            color:  #000000;\n",
       "        }    #T_5f920c7c_7100_11ea_8660_1803734f38ebrow1_col2 {\n",
       "            background-color:  #a50026;\n",
       "            color:  #f1f1f1;\n",
       "        }    #T_5f920c7c_7100_11ea_8660_1803734f38ebrow2_col2 {\n",
       "            background-color:  #f7814c;\n",
       "            color:  #000000;\n",
       "        }    #T_5f920c7c_7100_11ea_8660_1803734f38ebrow3_col2 {\n",
       "            background-color:  #006837;\n",
       "            color:  #f1f1f1;\n",
       "        }    #T_5f920c7c_7100_11ea_8660_1803734f38ebrow4_col2 {\n",
       "            background-color:  #de402e;\n",
       "            color:  #f1f1f1;\n",
       "        }</style><table id=\"T_5f920c7c_7100_11ea_8660_1803734f38eb\" ><thead>    <tr>        <th class=\"blank level0\" ></th>        <th class=\"col_heading level0 col0\" >Interest Rate</th>        <th class=\"col_heading level0 col1\" >Number of Units Sold</th>        <th class=\"col_heading level0 col2\" >NPV</th>    </tr></thead><tbody>\n",
       "                <tr>\n",
       "                        <th id=\"T_5f920c7c_7100_11ea_8660_1803734f38eblevel0_row0\" class=\"row_heading level0 row0\" >0</th>\n",
       "                        <td id=\"T_5f920c7c_7100_11ea_8660_1803734f38ebrow0_col0\" class=\"data row0 col0\" >2.3%</td>\n",
       "                        <td id=\"T_5f920c7c_7100_11ea_8660_1803734f38ebrow0_col1\" class=\"data row0 col1\" >268</td>\n",
       "                        <td id=\"T_5f920c7c_7100_11ea_8660_1803734f38ebrow0_col2\" class=\"data row0 col2\" >$225,465,431</td>\n",
       "            </tr>\n",
       "            <tr>\n",
       "                        <th id=\"T_5f920c7c_7100_11ea_8660_1803734f38eblevel0_row1\" class=\"row_heading level0 row1\" >1</th>\n",
       "                        <td id=\"T_5f920c7c_7100_11ea_8660_1803734f38ebrow1_col0\" class=\"data row1 col0\" >14.2%</td>\n",
       "                        <td id=\"T_5f920c7c_7100_11ea_8660_1803734f38ebrow1_col1\" class=\"data row1 col1\" >282</td>\n",
       "                        <td id=\"T_5f920c7c_7100_11ea_8660_1803734f38ebrow1_col2\" class=\"data row1 col2\" >$-83,210,272</td>\n",
       "            </tr>\n",
       "            <tr>\n",
       "                        <th id=\"T_5f920c7c_7100_11ea_8660_1803734f38eblevel0_row2\" class=\"row_heading level0 row2\" >2</th>\n",
       "                        <td id=\"T_5f920c7c_7100_11ea_8660_1803734f38ebrow2_col0\" class=\"data row2 col0\" >1.0%</td>\n",
       "                        <td id=\"T_5f920c7c_7100_11ea_8660_1803734f38ebrow2_col1\" class=\"data row2 col1\" >117</td>\n",
       "                        <td id=\"T_5f920c7c_7100_11ea_8660_1803734f38ebrow2_col2\" class=\"data row2 col2\" >$60,329,481</td>\n",
       "            </tr>\n",
       "            <tr>\n",
       "                        <th id=\"T_5f920c7c_7100_11ea_8660_1803734f38eblevel0_row3\" class=\"row_heading level0 row3\" >3</th>\n",
       "                        <td id=\"T_5f920c7c_7100_11ea_8660_1803734f38ebrow3_col0\" class=\"data row3 col0\" >0.5%</td>\n",
       "                        <td id=\"T_5f920c7c_7100_11ea_8660_1803734f38ebrow3_col1\" class=\"data row3 col1\" >442</td>\n",
       "                        <td id=\"T_5f920c7c_7100_11ea_8660_1803734f38ebrow3_col2\" class=\"data row3 col2\" >$535,191,678</td>\n",
       "            </tr>\n",
       "            <tr>\n",
       "                        <th id=\"T_5f920c7c_7100_11ea_8660_1803734f38eblevel0_row4\" class=\"row_heading level0 row4\" >4</th>\n",
       "                        <td id=\"T_5f920c7c_7100_11ea_8660_1803734f38ebrow4_col0\" class=\"data row4 col0\" >6.2%</td>\n",
       "                        <td id=\"T_5f920c7c_7100_11ea_8660_1803734f38ebrow4_col1\" class=\"data row4 col1\" >124</td>\n",
       "                        <td id=\"T_5f920c7c_7100_11ea_8660_1803734f38ebrow4_col2\" class=\"data row4 col2\" >$-3,616,549</td>\n",
       "            </tr>\n",
       "    </tbody></table>"
      ],
      "text/plain": [
       "<pandas.io.formats.style.Styler at 0x7f516e0cbef0>"
      ]
     },
     "execution_count": 19,
     "metadata": {},
     "output_type": "execute_result"
    }
   ],
   "source": [
    "def styled_df(df):\n",
    "    \"\"\"\n",
    "    Add formatting to a simulation DataFrame\n",
    "    \"\"\"\n",
    "    return df.style.format({\n",
    "        'Interest Rate': '{:.1%}',\n",
    "        'Number of Units Sold': '{:,.0f}',\n",
    "        'NPV': '${:,.0f}'\n",
    "    }).background_gradient(cmap='RdYlGn', subset='NPV')\n",
    "\n",
    "styled_df(df.head())"
   ]
  },
  {
   "cell_type": "code",
   "execution_count": 20,
   "metadata": {},
   "outputs": [
    {
     "data": {
      "text/plain": [
       "10000"
      ]
     },
     "execution_count": 20,
     "metadata": {},
     "output_type": "execute_result"
    }
   ],
   "source": [
    "len(df)"
   ]
  },
  {
   "cell_type": "code",
   "execution_count": 21,
   "metadata": {},
   "outputs": [
    {
     "data": {
      "text/html": [
       "<style  type=\"text/css\" >\n",
       "    #T_5f920c7d_7100_11ea_8660_1803734f38ebrow0_col2 {\n",
       "            background-color:  #f57748;\n",
       "            color:  #000000;\n",
       "        }    #T_5f920c7d_7100_11ea_8660_1803734f38ebrow1_col2 {\n",
       "            background-color:  #fba05b;\n",
       "            color:  #000000;\n",
       "        }    #T_5f920c7d_7100_11ea_8660_1803734f38ebrow2_col2 {\n",
       "            background-color:  #a50026;\n",
       "            color:  #f1f1f1;\n",
       "        }    #T_5f920c7d_7100_11ea_8660_1803734f38ebrow3_col2 {\n",
       "            background-color:  #e34933;\n",
       "            color:  #f1f1f1;\n",
       "        }    #T_5f920c7d_7100_11ea_8660_1803734f38ebrow4_col2 {\n",
       "            background-color:  #f26841;\n",
       "            color:  #000000;\n",
       "        }    #T_5f920c7d_7100_11ea_8660_1803734f38ebrow5_col2 {\n",
       "            background-color:  #fa9857;\n",
       "            color:  #000000;\n",
       "        }    #T_5f920c7d_7100_11ea_8660_1803734f38ebrow6_col2 {\n",
       "            background-color:  #006837;\n",
       "            color:  #f1f1f1;\n",
       "        }</style><table id=\"T_5f920c7d_7100_11ea_8660_1803734f38eb\" ><thead>    <tr>        <th class=\"blank level0\" ></th>        <th class=\"col_heading level0 col0\" >Interest Rate</th>        <th class=\"col_heading level0 col1\" >Number of Units Sold</th>        <th class=\"col_heading level0 col2\" >NPV</th>    </tr></thead><tbody>\n",
       "                <tr>\n",
       "                        <th id=\"T_5f920c7d_7100_11ea_8660_1803734f38eblevel0_row0\" class=\"row_heading level0 row0\" >mean</th>\n",
       "                        <td id=\"T_5f920c7d_7100_11ea_8660_1803734f38ebrow0_col0\" class=\"data row0 col0\" >7.0%</td>\n",
       "                        <td id=\"T_5f920c7d_7100_11ea_8660_1803734f38ebrow0_col1\" class=\"data row0 col1\" >201</td>\n",
       "                        <td id=\"T_5f920c7d_7100_11ea_8660_1803734f38ebrow0_col2\" class=\"data row0 col2\" >$47,746,010</td>\n",
       "            </tr>\n",
       "            <tr>\n",
       "                        <th id=\"T_5f920c7d_7100_11ea_8660_1803734f38eblevel0_row1\" class=\"row_heading level0 row1\" >std</th>\n",
       "                        <td id=\"T_5f920c7d_7100_11ea_8660_1803734f38ebrow1_col0\" class=\"data row1 col0\" >4.0%</td>\n",
       "                        <td id=\"T_5f920c7d_7100_11ea_8660_1803734f38ebrow1_col1\" class=\"data row1 col1\" >115</td>\n",
       "                        <td id=\"T_5f920c7d_7100_11ea_8660_1803734f38ebrow1_col2\" class=\"data row1 col2\" >$127,118,199</td>\n",
       "            </tr>\n",
       "            <tr>\n",
       "                        <th id=\"T_5f920c7d_7100_11ea_8660_1803734f38eblevel0_row2\" class=\"row_heading level0 row2\" >min</th>\n",
       "                        <td id=\"T_5f920c7d_7100_11ea_8660_1803734f38ebrow2_col0\" class=\"data row2 col0\" >-8.5%</td>\n",
       "                        <td id=\"T_5f920c7d_7100_11ea_8660_1803734f38ebrow2_col1\" class=\"data row2 col1\" >0</td>\n",
       "                        <td id=\"T_5f920c7d_7100_11ea_8660_1803734f38ebrow2_col2\" class=\"data row2 col2\" >$-222,437,343</td>\n",
       "            </tr>\n",
       "            <tr>\n",
       "                        <th id=\"T_5f920c7d_7100_11ea_8660_1803734f38eblevel0_row3\" class=\"row_heading level0 row3\" >25%</th>\n",
       "                        <td id=\"T_5f920c7d_7100_11ea_8660_1803734f38ebrow3_col0\" class=\"data row3 col0\" >4.2%</td>\n",
       "                        <td id=\"T_5f920c7d_7100_11ea_8660_1803734f38ebrow3_col1\" class=\"data row3 col1\" >117</td>\n",
       "                        <td id=\"T_5f920c7d_7100_11ea_8660_1803734f38ebrow3_col2\" class=\"data row3 col2\" >$-47,041,083</td>\n",
       "            </tr>\n",
       "            <tr>\n",
       "                        <th id=\"T_5f920c7d_7100_11ea_8660_1803734f38eblevel0_row4\" class=\"row_heading level0 row4\" >50%</th>\n",
       "                        <td id=\"T_5f920c7d_7100_11ea_8660_1803734f38ebrow4_col0\" class=\"data row4 col0\" >7.0%</td>\n",
       "                        <td id=\"T_5f920c7d_7100_11ea_8660_1803734f38ebrow4_col1\" class=\"data row4 col1\" >199</td>\n",
       "                        <td id=\"T_5f920c7d_7100_11ea_8660_1803734f38ebrow4_col2\" class=\"data row4 col2\" >$20,990,563</td>\n",
       "            </tr>\n",
       "            <tr>\n",
       "                        <th id=\"T_5f920c7d_7100_11ea_8660_1803734f38eblevel0_row5\" class=\"row_heading level0 row5\" >75%</th>\n",
       "                        <td id=\"T_5f920c7d_7100_11ea_8660_1803734f38ebrow5_col0\" class=\"data row5 col0\" >9.6%</td>\n",
       "                        <td id=\"T_5f920c7d_7100_11ea_8660_1803734f38ebrow5_col1\" class=\"data row5 col1\" >279</td>\n",
       "                        <td id=\"T_5f920c7d_7100_11ea_8660_1803734f38ebrow5_col2\" class=\"data row5 col2\" >$113,355,723</td>\n",
       "            </tr>\n",
       "            <tr>\n",
       "                        <th id=\"T_5f920c7d_7100_11ea_8660_1803734f38eblevel0_row6\" class=\"row_heading level0 row6\" >max</th>\n",
       "                        <td id=\"T_5f920c7d_7100_11ea_8660_1803734f38ebrow6_col0\" class=\"data row6 col0\" >23.5%</td>\n",
       "                        <td id=\"T_5f920c7d_7100_11ea_8660_1803734f38ebrow6_col1\" class=\"data row6 col1\" >649</td>\n",
       "                        <td id=\"T_5f920c7d_7100_11ea_8660_1803734f38ebrow6_col2\" class=\"data row6 col2\" >$1,024,107,578</td>\n",
       "            </tr>\n",
       "    </tbody></table>"
      ],
      "text/plain": [
       "<pandas.io.formats.style.Styler at 0x7f516e129240>"
      ]
     },
     "execution_count": 21,
     "metadata": {},
     "output_type": "execute_result"
    }
   ],
   "source": [
    "styled_df(df.describe().drop('count'))"
   ]
  },
  {
   "cell_type": "markdown",
   "metadata": {},
   "source": [
    "Everything looks right. So now let's wrap this up in a function."
   ]
  },
  {
   "cell_type": "code",
   "execution_count": 22,
   "metadata": {},
   "outputs": [
    {
     "name": "stderr",
     "output_type": "stream",
     "text": [
      "/home/nick/.local/share/virtualenvs/fin-model-course-eIFMSc8A/lib/python3.7/site-packages/ipykernel_launcher.py:22: DeprecationWarning: numpy.npv is deprecated and will be removed from NumPy 1.20. Use numpy_financial.npv instead (https://pypi.org/project/numpy-financial/).\n"
     ]
    },
    {
     "data": {
      "text/html": [
       "<style  type=\"text/css\" >\n",
       "    #T_5f920c7e_7100_11ea_8660_1803734f38ebrow0_col2 {\n",
       "            background-color:  #dc3b2c;\n",
       "            color:  #f1f1f1;\n",
       "        }    #T_5f920c7e_7100_11ea_8660_1803734f38ebrow1_col2 {\n",
       "            background-color:  #fee491;\n",
       "            color:  #000000;\n",
       "        }    #T_5f920c7e_7100_11ea_8660_1803734f38ebrow2_col2 {\n",
       "            background-color:  #a50026;\n",
       "            color:  #f1f1f1;\n",
       "        }    #T_5f920c7e_7100_11ea_8660_1803734f38ebrow3_col2 {\n",
       "            background-color:  #006837;\n",
       "            color:  #f1f1f1;\n",
       "        }    #T_5f920c7e_7100_11ea_8660_1803734f38ebrow4_col2 {\n",
       "            background-color:  #fecc7b;\n",
       "            color:  #000000;\n",
       "        }</style><table id=\"T_5f920c7e_7100_11ea_8660_1803734f38eb\" ><thead>    <tr>        <th class=\"blank level0\" ></th>        <th class=\"col_heading level0 col0\" >Interest Rate</th>        <th class=\"col_heading level0 col1\" >Number of Units Sold</th>        <th class=\"col_heading level0 col2\" >NPV</th>    </tr></thead><tbody>\n",
       "                <tr>\n",
       "                        <th id=\"T_5f920c7e_7100_11ea_8660_1803734f38eblevel0_row0\" class=\"row_heading level0 row0\" >0</th>\n",
       "                        <td id=\"T_5f920c7e_7100_11ea_8660_1803734f38ebrow0_col0\" class=\"data row0 col0\" >9.2%</td>\n",
       "                        <td id=\"T_5f920c7e_7100_11ea_8660_1803734f38ebrow0_col1\" class=\"data row0 col1\" >40</td>\n",
       "                        <td id=\"T_5f920c7e_7100_11ea_8660_1803734f38ebrow0_col2\" class=\"data row0 col2\" >$-80,475,048</td>\n",
       "            </tr>\n",
       "            <tr>\n",
       "                        <th id=\"T_5f920c7e_7100_11ea_8660_1803734f38eblevel0_row1\" class=\"row_heading level0 row1\" >1</th>\n",
       "                        <td id=\"T_5f920c7e_7100_11ea_8660_1803734f38ebrow1_col0\" class=\"data row1 col0\" >11.3%</td>\n",
       "                        <td id=\"T_5f920c7e_7100_11ea_8660_1803734f38ebrow1_col1\" class=\"data row1 col1\" >275</td>\n",
       "                        <td id=\"T_5f920c7e_7100_11ea_8660_1803734f38ebrow1_col2\" class=\"data row1 col2\" >$-17,602,811</td>\n",
       "            </tr>\n",
       "            <tr>\n",
       "                        <th id=\"T_5f920c7e_7100_11ea_8660_1803734f38eblevel0_row2\" class=\"row_heading level0 row2\" >2</th>\n",
       "                        <td id=\"T_5f920c7e_7100_11ea_8660_1803734f38ebrow2_col0\" class=\"data row2 col0\" >15.4%</td>\n",
       "                        <td id=\"T_5f920c7e_7100_11ea_8660_1803734f38ebrow2_col1\" class=\"data row2 col1\" >198</td>\n",
       "                        <td id=\"T_5f920c7e_7100_11ea_8660_1803734f38ebrow2_col2\" class=\"data row2 col2\" >$-105,350,807</td>\n",
       "            </tr>\n",
       "            <tr>\n",
       "                        <th id=\"T_5f920c7e_7100_11ea_8660_1803734f38eblevel0_row3\" class=\"row_heading level0 row3\" >3</th>\n",
       "                        <td id=\"T_5f920c7e_7100_11ea_8660_1803734f38ebrow3_col0\" class=\"data row3 col0\" >7.4%</td>\n",
       "                        <td id=\"T_5f920c7e_7100_11ea_8660_1803734f38ebrow3_col1\" class=\"data row3 col1\" >316</td>\n",
       "                        <td id=\"T_5f920c7e_7100_11ea_8660_1803734f38ebrow3_col2\" class=\"data row3 col2\" >$106,707,694</td>\n",
       "            </tr>\n",
       "            <tr>\n",
       "                        <th id=\"T_5f920c7e_7100_11ea_8660_1803734f38eblevel0_row4\" class=\"row_heading level0 row4\" >4</th>\n",
       "                        <td id=\"T_5f920c7e_7100_11ea_8660_1803734f38ebrow4_col0\" class=\"data row4 col0\" >5.9%</td>\n",
       "                        <td id=\"T_5f920c7e_7100_11ea_8660_1803734f38ebrow4_col1\" class=\"data row4 col1\" >87</td>\n",
       "                        <td id=\"T_5f920c7e_7100_11ea_8660_1803734f38ebrow4_col2\" class=\"data row4 col2\" >$-28,957,592</td>\n",
       "            </tr>\n",
       "    </tbody></table>"
      ],
      "text/plain": [
       "<pandas.io.formats.style.Styler at 0x7f516e0cbb00>"
      ]
     },
     "execution_count": 22,
     "metadata": {},
     "output_type": "execute_result"
    }
   ],
   "source": [
    "def plane_simulations(data, plane):\n",
    "    \"\"\"\n",
    "    Runs all the simulations for a given plane, and outputs the results to a DataFrame\n",
    "    \n",
    "    Uses the plane_simulation function to run each simulation.\n",
    "    \"\"\"\n",
    "    outputs = [plane_simulation(data, plane) for i in range(data.num_simulations)]\n",
    "    df = pd.DataFrame(\n",
    "        outputs,\n",
    "        columns=['Interest Rate', 'Number of Units Sold', 'NPV']\n",
    "    )\n",
    "    return df\n",
    "\n",
    "df = plane_simulations(model_data, plane)\n",
    "styled_df(df.head())"
   ]
  },
  {
   "cell_type": "markdown",
   "metadata": {},
   "source": [
    "# Visualizing and Analyzing Simulations"
   ]
  },
  {
   "cell_type": "markdown",
   "metadata": {},
   "source": [
    "## Expected NPV and Standard Deviation of NPV"
   ]
  },
  {
   "cell_type": "code",
   "execution_count": 23,
   "metadata": {},
   "outputs": [
    {
     "data": {
      "text/plain": [
       "50829037.467981674"
      ]
     },
     "execution_count": 23,
     "metadata": {},
     "output_type": "execute_result"
    }
   ],
   "source": [
    "df['NPV'].mean()  # expected NPV"
   ]
  },
  {
   "cell_type": "code",
   "execution_count": 24,
   "metadata": {},
   "outputs": [
    {
     "data": {
      "text/plain": [
       "127729724.07202509"
      ]
     },
     "execution_count": 24,
     "metadata": {},
     "output_type": "execute_result"
    }
   ],
   "source": [
    "df['NPV'].std()  # stdev of NPV"
   ]
  },
  {
   "cell_type": "markdown",
   "metadata": {},
   "source": [
    "## NPV Visualization"
   ]
  },
  {
   "cell_type": "markdown",
   "metadata": {},
   "source": [
    "### Plotting"
   ]
  },
  {
   "cell_type": "markdown",
   "metadata": {},
   "source": [
    "We can use a histogram to visualize the probability distribution of the NPV."
   ]
  },
  {
   "cell_type": "code",
   "execution_count": 25,
   "metadata": {},
   "outputs": [
    {
     "data": {
      "text/plain": [
       "<matplotlib.axes._subplots.AxesSubplot at 0x7f516ddb91d0>"
      ]
     },
     "execution_count": 25,
     "metadata": {},
     "output_type": "execute_result"
    },
    {
     "data": {
      "image/png": "[encoded data removed]",
      "text/plain": [
       "<Figure size 432x288 with 1 Axes>"
      ]
     },
     "metadata": {
      "needs_background": "light"
     },
     "output_type": "display_data"
    }
   ],
   "source": [
    "%matplotlib inline\n",
    "df['NPV'].plot.hist(bins=100)"
   ]
  },
  {
   "cell_type": "markdown",
   "metadata": {},
   "source": [
    "We can see for this \"test plane\" that the NPV will usually be somewhere between -500 and 1,000, with the most likely being -500. The distribution is highly skewed to the left."
   ]
  },
  {
   "cell_type": "markdown",
   "metadata": {},
   "source": [
    "### Probability Table"
   ]
  },
  {
   "cell_type": "code",
   "execution_count": 26,
   "metadata": {},
   "outputs": [
    {
     "data": {
      "text/html": [
       "<style  type=\"text/css\" >\n",
       "    #T_5f920c7f_7100_11ea_8660_1803734f38ebrow0_col2 {\n",
       "            background-color:  #a50026;\n",
       "            color:  #f1f1f1;\n",
       "        }    #T_5f920c7f_7100_11ea_8660_1803734f38ebrow1_col2 {\n",
       "            background-color:  #b30d26;\n",
       "            color:  #f1f1f1;\n",
       "        }    #T_5f920c7f_7100_11ea_8660_1803734f38ebrow2_col2 {\n",
       "            background-color:  #c82227;\n",
       "            color:  #f1f1f1;\n",
       "        }    #T_5f920c7f_7100_11ea_8660_1803734f38ebrow3_col2 {\n",
       "            background-color:  #d93429;\n",
       "            color:  #f1f1f1;\n",
       "        }    #T_5f920c7f_7100_11ea_8660_1803734f38ebrow4_col2 {\n",
       "            background-color:  #e34933;\n",
       "            color:  #f1f1f1;\n",
       "        }    #T_5f920c7f_7100_11ea_8660_1803734f38ebrow5_col2 {\n",
       "            background-color:  #ed5f3c;\n",
       "            color:  #000000;\n",
       "        }    #T_5f920c7f_7100_11ea_8660_1803734f38ebrow6_col2 {\n",
       "            background-color:  #f57245;\n",
       "            color:  #000000;\n",
       "        }    #T_5f920c7f_7100_11ea_8660_1803734f38ebrow7_col2 {\n",
       "            background-color:  #f88950;\n",
       "            color:  #000000;\n",
       "        }    #T_5f920c7f_7100_11ea_8660_1803734f38ebrow8_col2 {\n",
       "            background-color:  #fb9d59;\n",
       "            color:  #000000;\n",
       "        }    #T_5f920c7f_7100_11ea_8660_1803734f38ebrow9_col2 {\n",
       "            background-color:  #fdb567;\n",
       "            color:  #000000;\n",
       "        }    #T_5f920c7f_7100_11ea_8660_1803734f38ebrow10_col2 {\n",
       "            background-color:  #fdc776;\n",
       "            color:  #000000;\n",
       "        }    #T_5f920c7f_7100_11ea_8660_1803734f38ebrow11_col2 {\n",
       "            background-color:  #feda86;\n",
       "            color:  #000000;\n",
       "        }    #T_5f920c7f_7100_11ea_8660_1803734f38ebrow12_col2 {\n",
       "            background-color:  #feec9f;\n",
       "            color:  #000000;\n",
       "        }    #T_5f920c7f_7100_11ea_8660_1803734f38ebrow13_col2 {\n",
       "            background-color:  #fffcba;\n",
       "            color:  #000000;\n",
       "        }    #T_5f920c7f_7100_11ea_8660_1803734f38ebrow14_col2 {\n",
       "            background-color:  #ecf7a6;\n",
       "            color:  #000000;\n",
       "        }    #T_5f920c7f_7100_11ea_8660_1803734f38ebrow15_col2 {\n",
       "            background-color:  #d1ec86;\n",
       "            color:  #000000;\n",
       "        }    #T_5f920c7f_7100_11ea_8660_1803734f38ebrow16_col2 {\n",
       "            background-color:  #a7d96b;\n",
       "            color:  #000000;\n",
       "        }    #T_5f920c7f_7100_11ea_8660_1803734f38ebrow17_col2 {\n",
       "            background-color:  #5db961;\n",
       "            color:  #000000;\n",
       "        }    #T_5f920c7f_7100_11ea_8660_1803734f38ebrow18_col2 {\n",
       "            background-color:  #006837;\n",
       "            color:  #f1f1f1;\n",
       "        }</style><table id=\"T_5f920c7f_7100_11ea_8660_1803734f38eb\" ><thead>    <tr>        <th class=\"blank level0\" ></th>        <th class=\"col_heading level0 col0\" >Interest Rate</th>        <th class=\"col_heading level0 col1\" >Number of Units Sold</th>        <th class=\"col_heading level0 col2\" >NPV</th>    </tr></thead><tbody>\n",
       "                <tr>\n",
       "                        <th id=\"T_5f920c7f_7100_11ea_8660_1803734f38eblevel0_row0\" class=\"row_heading level0 row0\" >0.05</th>\n",
       "                        <td id=\"T_5f920c7f_7100_11ea_8660_1803734f38ebrow0_col0\" class=\"data row0 col0\" >0.4%</td>\n",
       "                        <td id=\"T_5f920c7f_7100_11ea_8660_1803734f38ebrow0_col1\" class=\"data row0 col1\" >3</td>\n",
       "                        <td id=\"T_5f920c7f_7100_11ea_8660_1803734f38ebrow0_col2\" class=\"data row0 col2\" >$-100,000,000</td>\n",
       "            </tr>\n",
       "            <tr>\n",
       "                        <th id=\"T_5f920c7f_7100_11ea_8660_1803734f38eblevel0_row1\" class=\"row_heading level0 row1\" >0.1</th>\n",
       "                        <td id=\"T_5f920c7f_7100_11ea_8660_1803734f38ebrow1_col0\" class=\"data row1 col0\" >1.8%</td>\n",
       "                        <td id=\"T_5f920c7f_7100_11ea_8660_1803734f38ebrow1_col1\" class=\"data row1 col1\" >47</td>\n",
       "                        <td id=\"T_5f920c7f_7100_11ea_8660_1803734f38ebrow1_col2\" class=\"data row1 col2\" >$-87,693,668</td>\n",
       "            </tr>\n",
       "            <tr>\n",
       "                        <th id=\"T_5f920c7f_7100_11ea_8660_1803734f38eblevel0_row2\" class=\"row_heading level0 row2\" >0.15</th>\n",
       "                        <td id=\"T_5f920c7f_7100_11ea_8660_1803734f38ebrow2_col0\" class=\"data row2 col0\" >2.8%</td>\n",
       "                        <td id=\"T_5f920c7f_7100_11ea_8660_1803734f38ebrow2_col1\" class=\"data row2 col1\" >76</td>\n",
       "                        <td id=\"T_5f920c7f_7100_11ea_8660_1803734f38ebrow2_col2\" class=\"data row2 col2\" >$-71,309,161</td>\n",
       "            </tr>\n",
       "            <tr>\n",
       "                        <th id=\"T_5f920c7f_7100_11ea_8660_1803734f38eblevel0_row3\" class=\"row_heading level0 row3\" >0.2</th>\n",
       "                        <td id=\"T_5f920c7f_7100_11ea_8660_1803734f38ebrow3_col0\" class=\"data row3 col0\" >3.6%</td>\n",
       "                        <td id=\"T_5f920c7f_7100_11ea_8660_1803734f38ebrow3_col1\" class=\"data row3 col1\" >101</td>\n",
       "                        <td id=\"T_5f920c7f_7100_11ea_8660_1803734f38ebrow3_col2\" class=\"data row3 col2\" >$-57,449,231</td>\n",
       "            </tr>\n",
       "            <tr>\n",
       "                        <th id=\"T_5f920c7f_7100_11ea_8660_1803734f38eblevel0_row4\" class=\"row_heading level0 row4\" >0.25</th>\n",
       "                        <td id=\"T_5f920c7f_7100_11ea_8660_1803734f38ebrow4_col0\" class=\"data row4 col0\" >4.2%</td>\n",
       "                        <td id=\"T_5f920c7f_7100_11ea_8660_1803734f38ebrow4_col1\" class=\"data row4 col1\" >120</td>\n",
       "                        <td id=\"T_5f920c7f_7100_11ea_8660_1803734f38ebrow4_col2\" class=\"data row4 col2\" >$-43,569,431</td>\n",
       "            </tr>\n",
       "            <tr>\n",
       "                        <th id=\"T_5f920c7f_7100_11ea_8660_1803734f38eblevel0_row5\" class=\"row_heading level0 row5\" >0.3</th>\n",
       "                        <td id=\"T_5f920c7f_7100_11ea_8660_1803734f38ebrow5_col0\" class=\"data row5 col0\" >4.8%</td>\n",
       "                        <td id=\"T_5f920c7f_7100_11ea_8660_1803734f38ebrow5_col1\" class=\"data row5 col1\" >138</td>\n",
       "                        <td id=\"T_5f920c7f_7100_11ea_8660_1803734f38ebrow5_col2\" class=\"data row5 col2\" >$-30,060,082</td>\n",
       "            </tr>\n",
       "            <tr>\n",
       "                        <th id=\"T_5f920c7f_7100_11ea_8660_1803734f38eblevel0_row6\" class=\"row_heading level0 row6\" >0.35</th>\n",
       "                        <td id=\"T_5f920c7f_7100_11ea_8660_1803734f38ebrow6_col0\" class=\"data row6 col0\" >5.4%</td>\n",
       "                        <td id=\"T_5f920c7f_7100_11ea_8660_1803734f38ebrow6_col1\" class=\"data row6 col1\" >155</td>\n",
       "                        <td id=\"T_5f920c7f_7100_11ea_8660_1803734f38ebrow6_col2\" class=\"data row6 col2\" >$-17,163,479</td>\n",
       "            </tr>\n",
       "            <tr>\n",
       "                        <th id=\"T_5f920c7f_7100_11ea_8660_1803734f38eblevel0_row7\" class=\"row_heading level0 row7\" >0.4</th>\n",
       "                        <td id=\"T_5f920c7f_7100_11ea_8660_1803734f38ebrow7_col0\" class=\"data row7 col0\" >5.9%</td>\n",
       "                        <td id=\"T_5f920c7f_7100_11ea_8660_1803734f38ebrow7_col1\" class=\"data row7 col1\" >171</td>\n",
       "                        <td id=\"T_5f920c7f_7100_11ea_8660_1803734f38ebrow7_col2\" class=\"data row7 col2\" >$-4,100,158</td>\n",
       "            </tr>\n",
       "            <tr>\n",
       "                        <th id=\"T_5f920c7f_7100_11ea_8660_1803734f38eblevel0_row8\" class=\"row_heading level0 row8\" >0.45</th>\n",
       "                        <td id=\"T_5f920c7f_7100_11ea_8660_1803734f38ebrow8_col0\" class=\"data row8 col0\" >6.4%</td>\n",
       "                        <td id=\"T_5f920c7f_7100_11ea_8660_1803734f38ebrow8_col1\" class=\"data row8 col1\" >186</td>\n",
       "                        <td id=\"T_5f920c7f_7100_11ea_8660_1803734f38ebrow8_col2\" class=\"data row8 col2\" >$9,176,607</td>\n",
       "            </tr>\n",
       "            <tr>\n",
       "                        <th id=\"T_5f920c7f_7100_11ea_8660_1803734f38eblevel0_row9\" class=\"row_heading level0 row9\" >0.5</th>\n",
       "                        <td id=\"T_5f920c7f_7100_11ea_8660_1803734f38ebrow9_col0\" class=\"data row9 col0\" >6.9%</td>\n",
       "                        <td id=\"T_5f920c7f_7100_11ea_8660_1803734f38ebrow9_col1\" class=\"data row9 col1\" >202</td>\n",
       "                        <td id=\"T_5f920c7f_7100_11ea_8660_1803734f38ebrow9_col2\" class=\"data row9 col2\" >$23,650,582</td>\n",
       "            </tr>\n",
       "            <tr>\n",
       "                        <th id=\"T_5f920c7f_7100_11ea_8660_1803734f38eblevel0_row10\" class=\"row_heading level0 row10\" >0.55</th>\n",
       "                        <td id=\"T_5f920c7f_7100_11ea_8660_1803734f38ebrow10_col0\" class=\"data row10 col0\" >7.4%</td>\n",
       "                        <td id=\"T_5f920c7f_7100_11ea_8660_1803734f38ebrow10_col1\" class=\"data row10 col1\" >217</td>\n",
       "                        <td id=\"T_5f920c7f_7100_11ea_8660_1803734f38ebrow10_col2\" class=\"data row10 col2\" >$37,779,315</td>\n",
       "            </tr>\n",
       "            <tr>\n",
       "                        <th id=\"T_5f920c7f_7100_11ea_8660_1803734f38eblevel0_row11\" class=\"row_heading level0 row11\" >0.6</th>\n",
       "                        <td id=\"T_5f920c7f_7100_11ea_8660_1803734f38ebrow11_col0\" class=\"data row11 col0\" >7.9%</td>\n",
       "                        <td id=\"T_5f920c7f_7100_11ea_8660_1803734f38ebrow11_col1\" class=\"data row11 col1\" >232</td>\n",
       "                        <td id=\"T_5f920c7f_7100_11ea_8660_1803734f38ebrow11_col2\" class=\"data row11 col2\" >$54,122,654</td>\n",
       "            </tr>\n",
       "            <tr>\n",
       "                        <th id=\"T_5f920c7f_7100_11ea_8660_1803734f38eblevel0_row12\" class=\"row_heading level0 row12\" >0.65</th>\n",
       "                        <td id=\"T_5f920c7f_7100_11ea_8660_1803734f38ebrow12_col0\" class=\"data row12 col0\" >8.4%</td>\n",
       "                        <td id=\"T_5f920c7f_7100_11ea_8660_1803734f38ebrow12_col1\" class=\"data row12 col1\" >248</td>\n",
       "                        <td id=\"T_5f920c7f_7100_11ea_8660_1803734f38ebrow12_col2\" class=\"data row12 col2\" >$73,034,691</td>\n",
       "            </tr>\n",
       "            <tr>\n",
       "                        <th id=\"T_5f920c7f_7100_11ea_8660_1803734f38eblevel0_row13\" class=\"row_heading level0 row13\" >0.7</th>\n",
       "                        <td id=\"T_5f920c7f_7100_11ea_8660_1803734f38ebrow13_col0\" class=\"data row13 col0\" >9.0%</td>\n",
       "                        <td id=\"T_5f920c7f_7100_11ea_8660_1803734f38ebrow13_col1\" class=\"data row13 col1\" >265</td>\n",
       "                        <td id=\"T_5f920c7f_7100_11ea_8660_1803734f38ebrow13_col2\" class=\"data row13 col2\" >$93,388,845</td>\n",
       "            </tr>\n",
       "            <tr>\n",
       "                        <th id=\"T_5f920c7f_7100_11ea_8660_1803734f38eblevel0_row14\" class=\"row_heading level0 row14\" >0.75</th>\n",
       "                        <td id=\"T_5f920c7f_7100_11ea_8660_1803734f38ebrow14_col0\" class=\"data row14 col0\" >9.5%</td>\n",
       "                        <td id=\"T_5f920c7f_7100_11ea_8660_1803734f38ebrow14_col1\" class=\"data row14 col1\" >283</td>\n",
       "                        <td id=\"T_5f920c7f_7100_11ea_8660_1803734f38ebrow14_col2\" class=\"data row14 col2\" >$116,377,622</td>\n",
       "            </tr>\n",
       "            <tr>\n",
       "                        <th id=\"T_5f920c7f_7100_11ea_8660_1803734f38eblevel0_row15\" class=\"row_heading level0 row15\" >0.8</th>\n",
       "                        <td id=\"T_5f920c7f_7100_11ea_8660_1803734f38ebrow15_col0\" class=\"data row15 col0\" >10.1%</td>\n",
       "                        <td id=\"T_5f920c7f_7100_11ea_8660_1803734f38ebrow15_col1\" class=\"data row15 col1\" >303</td>\n",
       "                        <td id=\"T_5f920c7f_7100_11ea_8660_1803734f38ebrow15_col2\" class=\"data row15 col2\" >$143,665,645</td>\n",
       "            </tr>\n",
       "            <tr>\n",
       "                        <th id=\"T_5f920c7f_7100_11ea_8660_1803734f38eblevel0_row16\" class=\"row_heading level0 row16\" >0.85</th>\n",
       "                        <td id=\"T_5f920c7f_7100_11ea_8660_1803734f38ebrow16_col0\" class=\"data row16 col0\" >11.0%</td>\n",
       "                        <td id=\"T_5f920c7f_7100_11ea_8660_1803734f38ebrow16_col1\" class=\"data row16 col1\" >325</td>\n",
       "                        <td id=\"T_5f920c7f_7100_11ea_8660_1803734f38ebrow16_col2\" class=\"data row16 col2\" >$176,388,529</td>\n",
       "            </tr>\n",
       "            <tr>\n",
       "                        <th id=\"T_5f920c7f_7100_11ea_8660_1803734f38eblevel0_row17\" class=\"row_heading level0 row17\" >0.9</th>\n",
       "                        <td id=\"T_5f920c7f_7100_11ea_8660_1803734f38ebrow17_col0\" class=\"data row17 col0\" >11.9%</td>\n",
       "                        <td id=\"T_5f920c7f_7100_11ea_8660_1803734f38ebrow17_col1\" class=\"data row17 col1\" >354</td>\n",
       "                        <td id=\"T_5f920c7f_7100_11ea_8660_1803734f38ebrow17_col2\" class=\"data row17 col2\" >$220,342,663</td>\n",
       "            </tr>\n",
       "            <tr>\n",
       "                        <th id=\"T_5f920c7f_7100_11ea_8660_1803734f38eblevel0_row18\" class=\"row_heading level0 row18\" >0.95</th>\n",
       "                        <td id=\"T_5f920c7f_7100_11ea_8660_1803734f38ebrow18_col0\" class=\"data row18 col0\" >13.4%</td>\n",
       "                        <td id=\"T_5f920c7f_7100_11ea_8660_1803734f38ebrow18_col1\" class=\"data row18 col1\" >396</td>\n",
       "                        <td id=\"T_5f920c7f_7100_11ea_8660_1803734f38ebrow18_col2\" class=\"data row18 col2\" >$295,472,350</td>\n",
       "            </tr>\n",
       "    </tbody></table>"
      ],
      "text/plain": [
       "<pandas.io.formats.style.Styler at 0x7f516b6be048>"
      ]
     },
     "execution_count": 26,
     "metadata": {},
     "output_type": "execute_result"
    }
   ],
   "source": [
    "styled_df(df.quantile([i/20 for i in range(1, 20)]))"
   ]
  },
  {
   "cell_type": "markdown",
   "metadata": {},
   "source": [
    "## Chance of Positive/Negative NPV"
   ]
  },
  {
   "cell_type": "markdown",
   "metadata": {},
   "source": [
    "We will find the chance of positive NPV by finding the percentage of cases which had a positive NPV. Then the chance of negative NPV will be 1 - (positive NPV prob), as the chance of receiving exactly 0 NPV is 0."
   ]
  },
  {
   "cell_type": "code",
   "execution_count": 27,
   "metadata": {},
   "outputs": [
    {
     "name": "stdout",
     "output_type": "stream",
     "text": [
      "The chance of a positive NPV is 58.3% and the chance of a negative NPV is 41.7%\n"
     ]
    }
   ],
   "source": [
    "positive_npv_prob = ( df['NPV'] > 0 ).astype(int).mean()\n",
    "negative_npv_prob = 1 - positive_npv_prob\n",
    "print(f'The chance of a positive NPV is {positive_npv_prob:.1%} and the chance of a negative NPV is {negative_npv_prob:.1%}')"
   ]
  },
  {
   "cell_type": "markdown",
   "metadata": {},
   "source": [
    "## Analyzing the Impacts on NPV for Different Inputs"
   ]
  },
  {
   "cell_type": "markdown",
   "metadata": {},
   "source": [
    "## Plotting"
   ]
  },
  {
   "cell_type": "markdown",
   "metadata": {},
   "source": [
    "We want to see whether interest rate or units has a larger effect on the NPV. A first look at this is to form some plots."
   ]
  },
  {
   "cell_type": "code",
   "execution_count": 28,
   "metadata": {},
   "outputs": [
    {
     "data": {
      "text/plain": [
       "<matplotlib.axes._subplots.AxesSubplot at 0x7f516e2ac518>"
      ]
     },
     "execution_count": 28,
     "metadata": {},
     "output_type": "execute_result"
    },
    {
     "data": {
      "image/png": "[encoded data removed]",
      "text/plain": [
       "<Figure size 432x288 with 1 Axes>"
      ]
     },
     "metadata": {
      "needs_background": "light"
     },
     "output_type": "display_data"
    }
   ],
   "source": [
    "df.plot.scatter(x='Interest Rate', y='NPV')"
   ]
  },
  {
   "cell_type": "code",
   "execution_count": 29,
   "metadata": {},
   "outputs": [
    {
     "data": {
      "text/plain": [
       "<matplotlib.axes._subplots.AxesSubplot at 0x7f516b6372b0>"
      ]
     },
     "execution_count": 29,
     "metadata": {},
     "output_type": "execute_result"
    },
    {
     "data": {
      "image/png": "[encoded data removed]",
      "text/plain": [
       "<Figure size 432x288 with 1 Axes>"
      ]
     },
     "metadata": {
      "needs_background": "light"
     },
     "output_type": "display_data"
    }
   ],
   "source": [
    "df.plot.scatter(x='Number of Units Sold', y='NPV')"
   ]
  },
  {
   "cell_type": "markdown",
   "metadata": {},
   "source": [
    "Just based off looking at the scatter plots, it seems that interest rate does not have much of an effect, while number of units sold has a very direct relation with the NPV. Because of how different the plots are, this would be enough to conclude that number of units has a greater effect. But let's take it one step further to quantify the difference."
   ]
  },
  {
   "cell_type": "markdown",
   "metadata": {},
   "source": [
    "## Regressions"
   ]
  },
  {
   "cell_type": "markdown",
   "metadata": {},
   "source": [
    "Note: this is an advanced section for additional learning. We don't have time to cover this in detail in the class so you won't be required to use it for any projects."
   ]
  },
  {
   "cell_type": "markdown",
   "metadata": {},
   "source": [
    "### Run the Regression"
   ]
  },
  {
   "cell_type": "markdown",
   "metadata": {},
   "source": [
    "We can use `statsmodels` to run a multivariate regression to quantify the effects of interest rate and number of units on the NPV."
   ]
  },
  {
   "cell_type": "code",
   "execution_count": 30,
   "metadata": {},
   "outputs": [
    {
     "data": {
      "text/html": [
       "<table class=\"simpletable\">\n",
       "<caption>OLS Regression Results</caption>\n",
       "<tr>\n",
       "  <th>Dep. Variable:</th>           <td>NPV</td>       <th>  R-squared:         </th>  <td>   0.862</td>  \n",
       "</tr>\n",
       "<tr>\n",
       "  <th>Model:</th>                   <td>OLS</td>       <th>  Adj. R-squared:    </th>  <td>   0.862</td>  \n",
       "</tr>\n",
       "<tr>\n",
       "  <th>Method:</th>             <td>Least Squares</td>  <th>  F-statistic:       </th>  <td>3.120e+04</td> \n",
       "</tr>\n",
       "<tr>\n",
       "  <th>Date:</th>             <td>Sat, 28 Mar 2020</td> <th>  Prob (F-statistic):</th>   <td>  0.00</td>   \n",
       "</tr>\n",
       "<tr>\n",
       "  <th>Time:</th>                 <td>10:28:22</td>     <th>  Log-Likelihood:    </th> <td>-1.9094e+05</td>\n",
       "</tr>\n",
       "<tr>\n",
       "  <th>No. Observations:</th>      <td> 10000</td>      <th>  AIC:               </th>  <td>3.819e+05</td> \n",
       "</tr>\n",
       "<tr>\n",
       "  <th>Df Residuals:</th>          <td>  9997</td>      <th>  BIC:               </th>  <td>3.819e+05</td> \n",
       "</tr>\n",
       "<tr>\n",
       "  <th>Df Model:</th>              <td>     2</td>      <th>                     </th>      <td> </td>     \n",
       "</tr>\n",
       "<tr>\n",
       "  <th>Covariance Type:</th>      <td>nonrobust</td>    <th>                     </th>      <td> </td>     \n",
       "</tr>\n",
       "</table>\n",
       "<table class=\"simpletable\">\n",
       "<tr>\n",
       "            <td></td>              <th>coef</th>     <th>std err</th>      <th>t</th>      <th>P>|t|</th>  <th>[0.025</th>    <th>0.975]</th>  \n",
       "</tr>\n",
       "<tr>\n",
       "  <th>const</th>                <td> 4.174e+07</td> <td> 1.28e+06</td> <td>   32.676</td> <td> 0.000</td> <td> 3.92e+07</td> <td> 4.42e+07</td>\n",
       "</tr>\n",
       "<tr>\n",
       "  <th>Interest Rate</th>        <td>-2.058e+09</td> <td>  1.2e+07</td> <td> -171.223</td> <td> 0.000</td> <td>-2.08e+09</td> <td>-2.03e+09</td>\n",
       "</tr>\n",
       "<tr>\n",
       "  <th>Number of Units Sold</th> <td> 7.412e+05</td> <td> 4118.286</td> <td>  179.977</td> <td> 0.000</td> <td> 7.33e+05</td> <td> 7.49e+05</td>\n",
       "</tr>\n",
       "</table>\n",
       "<table class=\"simpletable\">\n",
       "<tr>\n",
       "  <th>Omnibus:</th>       <td>2492.586</td> <th>  Durbin-Watson:     </th> <td>   2.014</td> \n",
       "</tr>\n",
       "<tr>\n",
       "  <th>Prob(Omnibus):</th>  <td> 0.000</td>  <th>  Jarque-Bera (JB):  </th> <td>19994.168</td>\n",
       "</tr>\n",
       "<tr>\n",
       "  <th>Skew:</th>           <td> 0.973</td>  <th>  Prob(JB):          </th> <td>    0.00</td> \n",
       "</tr>\n",
       "<tr>\n",
       "  <th>Kurtosis:</th>       <td> 9.648</td>  <th>  Cond. No.          </th> <td>5.94e+03</td> \n",
       "</tr>\n",
       "</table><br/><br/>Warnings:<br/>[1] Standard Errors assume that the covariance matrix of the errors is correctly specified.<br/>[2] The condition number is large, 5.94e+03. This might indicate that there are<br/>strong multicollinearity or other numerical problems."
      ],
      "text/plain": [
       "<class 'statsmodels.iolib.summary.Summary'>\n",
       "\"\"\"\n",
       "                            OLS Regression Results                            \n",
       "==============================================================================\n",
       "Dep. Variable:                    NPV   R-squared:                       0.862\n",
       "Model:                            OLS   Adj. R-squared:                  0.862\n",
       "Method:                 Least Squares   F-statistic:                 3.120e+04\n",
       "Date:                Sat, 28 Mar 2020   Prob (F-statistic):               0.00\n",
       "Time:                        10:28:22   Log-Likelihood:            -1.9094e+05\n",
       "No. Observations:               10000   AIC:                         3.819e+05\n",
       "Df Residuals:                    9997   BIC:                         3.819e+05\n",
       "Df Model:                           2                                         \n",
       "Covariance Type:            nonrobust                                         \n",
       "========================================================================================\n",
       "                           coef    std err          t      P>|t|      [0.025      0.975]\n",
       "----------------------------------------------------------------------------------------\n",
       "const                 4.174e+07   1.28e+06     32.676      0.000    3.92e+07    4.42e+07\n",
       "Interest Rate        -2.058e+09    1.2e+07   -171.223      0.000   -2.08e+09   -2.03e+09\n",
       "Number of Units Sold  7.412e+05   4118.286    179.977      0.000    7.33e+05    7.49e+05\n",
       "==============================================================================\n",
       "Omnibus:                     2492.586   Durbin-Watson:                   2.014\n",
       "Prob(Omnibus):                  0.000   Jarque-Bera (JB):            19994.168\n",
       "Skew:                           0.973   Prob(JB):                         0.00\n",
       "Kurtosis:                       9.648   Cond. No.                     5.94e+03\n",
       "==============================================================================\n",
       "\n",
       "Warnings:\n",
       "[1] Standard Errors assume that the covariance matrix of the errors is correctly specified.\n",
       "[2] The condition number is large, 5.94e+03. This might indicate that there are\n",
       "strong multicollinearity or other numerical problems.\n",
       "\"\"\""
      ]
     },
     "execution_count": 30,
     "metadata": {},
     "output_type": "execute_result"
    }
   ],
   "source": [
    "import statsmodels.api as sm\n",
    "\n",
    "X = sm.add_constant(df[['Interest Rate', 'Number of Units Sold']])\n",
    "y = df['NPV']\n",
    "\n",
    "model = sm.OLS(y, X)\n",
    "result = model.fit()\n",
    "result.summary()"
   ]
  },
  {
   "cell_type": "markdown",
   "metadata": {},
   "source": [
    "### Interpret the Regression"
   ]
  },
  {
   "cell_type": "markdown",
   "metadata": {},
   "source": [
    "#### One Unit Change"
   ]
  },
  {
   "cell_type": "markdown",
   "metadata": {},
   "source": [
    "There we can see the coefficients under the `coef` column. We can also access them via `result.params`:"
   ]
  },
  {
   "cell_type": "code",
   "execution_count": 31,
   "metadata": {},
   "outputs": [
    {
     "data": {
      "text/plain": [
       "const                   4.173698e+07\n",
       "Interest Rate          -2.058473e+09\n",
       "Number of Units Sold    7.411950e+05\n",
       "dtype: float64"
      ]
     },
     "execution_count": 31,
     "metadata": {},
     "output_type": "execute_result"
    }
   ],
   "source": [
    "result.params"
   ]
  },
  {
   "cell_type": "code",
   "execution_count": 32,
   "metadata": {},
   "outputs": [
    {
     "data": {
      "text/plain": [
       "-2058473116.3305802"
      ]
     },
     "execution_count": 32,
     "metadata": {},
     "output_type": "execute_result"
    }
   ],
   "source": [
    "result.params['Interest Rate']"
   ]
  },
  {
   "cell_type": "code",
   "execution_count": 33,
   "metadata": {},
   "outputs": [
    {
     "name": "stdout",
     "output_type": "stream",
     "text": [
      "Selling one additional unit leads to a $741,195.00 change in NPV\n"
     ]
    }
   ],
   "source": [
    "print(f'Selling one additional unit leads to a ${result.params[\"Number of Units Sold\"]:,.2f} change in NPV')"
   ]
  },
  {
   "cell_type": "markdown",
   "metadata": {},
   "source": [
    "Also notice that because I am using quotes inside quotes there, I have used single quotes for one and double quotes for the other to avoid conflicts."
   ]
  },
  {
   "cell_type": "markdown",
   "metadata": {},
   "source": [
    "We need to be careful about the interpretation of the interest rate. As we have it in decimal, a one unit change is a 100% change. So the value we see as the coefficient is the change in NPV for a 100% change in interest rate. To get to a 1% change in interest rate, we need to divide by 100."
   ]
  },
  {
   "cell_type": "code",
   "execution_count": 34,
   "metadata": {},
   "outputs": [
    {
     "name": "stdout",
     "output_type": "stream",
     "text": [
      "A one percent increase in interest rate leads to a $-20,584,731.16 change in NPV\n"
     ]
    }
   ],
   "source": [
    "print(f'A one percent increase in interest rate leads to a ${result.params[\"Interest Rate\"]/100:,.2f} change in NPV')"
   ]
  },
  {
   "cell_type": "markdown",
   "metadata": {},
   "source": [
    "#### One Standard Deviation Change"
   ]
  },
  {
   "cell_type": "markdown",
   "metadata": {},
   "source": [
    "Now we know which has a greater impact by unit. A 1% increase in interest rate has a larger impact that a 1 unit increase on the NPV. This doesn't sqaure up with what we saw in the scatter plots. Why?\n",
    "\n",
    "Just looking at a one unit change ignores what a typical change is for the different inputs. The number of units sold here is changing around a lot more than the interest rate. So even though it has a smaller impact by unit, it could have a larger impact overall once we consider how much it is changing.\n",
    "\n",
    "We can measure how much they are changing with the standard deviation, and compare the changes for a one standard deviation change in each input to get what a typical impact would be."
   ]
  },
  {
   "cell_type": "code",
   "execution_count": 35,
   "metadata": {},
   "outputs": [
    {
     "data": {
      "text/plain": [
       "115.26942543469194"
      ]
     },
     "execution_count": 35,
     "metadata": {},
     "output_type": "execute_result"
    }
   ],
   "source": [
    "df[\"Number of Units Sold\"].std()"
   ]
  },
  {
   "cell_type": "code",
   "execution_count": 36,
   "metadata": {},
   "outputs": [
    {
     "data": {
      "text/plain": [
       "0.03948648536235224"
      ]
     },
     "execution_count": 36,
     "metadata": {},
     "output_type": "execute_result"
    }
   ],
   "source": [
    "df[\"Interest Rate\"].std()"
   ]
  },
  {
   "cell_type": "markdown",
   "metadata": {},
   "source": [
    "We can see the standard deviation for number of units is much larger."
   ]
  },
  {
   "cell_type": "code",
   "execution_count": 37,
   "metadata": {},
   "outputs": [
    {
     "name": "stdout",
     "output_type": "stream",
     "text": [
      "A one standard deviation increase in the number of units leads to a $85,437,122.16 change in NPV\n"
     ]
    }
   ],
   "source": [
    "print(f'A one standard deviation increase in the number of units leads to a ${result.params[\"Number of Units Sold\"] * df[\"Number of Units Sold\"].std():,.2f} change in NPV')"
   ]
  },
  {
   "cell_type": "code",
   "execution_count": 38,
   "metadata": {},
   "outputs": [
    {
     "name": "stdout",
     "output_type": "stream",
     "text": [
      "A one standard deviation increase in the interest rate leads to a $-812,818.69 change in NPV\n"
     ]
    }
   ],
   "source": [
    "print(f'A one standard deviation increase in the interest rate leads to a ${(result.params[\"Interest Rate\"] * df[\"Interest Rate\"].std()) / 100:,.2f} change in NPV')"
   ]
  },
  {
   "cell_type": "markdown",
   "metadata": {},
   "source": [
    "## Putting the Analysis and Visualization Together"
   ]
  },
  {
   "cell_type": "markdown",
   "metadata": {},
   "source": [
    "We just did a lot of things with the output. We will have to repeat this process for each plane simulation. So let's create a function to run all of this."
   ]
  },
  {
   "cell_type": "code",
   "execution_count": 39,
   "metadata": {},
   "outputs": [
    {
     "data": {
      "text/html": [
       "<h2>Super Size</h2>"
      ],
      "text/plain": [
       "<IPython.core.display.HTML object>"
      ]
     },
     "metadata": {},
     "output_type": "display_data"
    },
    {
     "data": {
      "image/png": "[encoded data removed]",
      "text/plain": [
       "<Figure size 432x288 with 1 Axes>"
      ]
     },
     "metadata": {
      "needs_background": "light"
     },
     "output_type": "display_data"
    },
    {
     "data": {
      "image/png": "[encoded data removed]",
      "text/plain": [
       "<Figure size 432x288 with 1 Axes>"
      ]
     },
     "metadata": {
      "needs_background": "light"
     },
     "output_type": "display_data"
    },
    {
     "data": {
      "image/png": "[encoded data removed]",
      "text/plain": [
       "<Figure size 432x288 with 1 Axes>"
      ]
     },
     "metadata": {
      "needs_background": "light"
     },
     "output_type": "display_data"
    },
    {
     "name": "stdout",
     "output_type": "stream",
     "text": [
      "Probability Table\n"
     ]
    },
    {
     "data": {
      "text/html": [
       "<style  type=\"text/css\" >\n",
       "    #T_614ba6a4_7100_11ea_8660_1803734f38ebrow0_col2 {\n",
       "            background-color:  #a50026;\n",
       "            color:  #f1f1f1;\n",
       "        }    #T_614ba6a4_7100_11ea_8660_1803734f38ebrow1_col2 {\n",
       "            background-color:  #b30d26;\n",
       "            color:  #f1f1f1;\n",
       "        }    #T_614ba6a4_7100_11ea_8660_1803734f38ebrow2_col2 {\n",
       "            background-color:  #c82227;\n",
       "            color:  #f1f1f1;\n",
       "        }    #T_614ba6a4_7100_11ea_8660_1803734f38ebrow3_col2 {\n",
       "            background-color:  #d93429;\n",
       "            color:  #f1f1f1;\n",
       "        }    #T_614ba6a4_7100_11ea_8660_1803734f38ebrow4_col2 {\n",
       "            background-color:  #e34933;\n",
       "            color:  #f1f1f1;\n",
       "        }    #T_614ba6a4_7100_11ea_8660_1803734f38ebrow5_col2 {\n",
       "            background-color:  #ed5f3c;\n",
       "            color:  #000000;\n",
       "        }    #T_614ba6a4_7100_11ea_8660_1803734f38ebrow6_col2 {\n",
       "            background-color:  #f57245;\n",
       "            color:  #000000;\n",
       "        }    #T_614ba6a4_7100_11ea_8660_1803734f38ebrow7_col2 {\n",
       "            background-color:  #f88950;\n",
       "            color:  #000000;\n",
       "        }    #T_614ba6a4_7100_11ea_8660_1803734f38ebrow8_col2 {\n",
       "            background-color:  #fb9d59;\n",
       "            color:  #000000;\n",
       "        }    #T_614ba6a4_7100_11ea_8660_1803734f38ebrow9_col2 {\n",
       "            background-color:  #fdb567;\n",
       "            color:  #000000;\n",
       "        }    #T_614ba6a4_7100_11ea_8660_1803734f38ebrow10_col2 {\n",
       "            background-color:  #fdc776;\n",
       "            color:  #000000;\n",
       "        }    #T_614ba6a4_7100_11ea_8660_1803734f38ebrow11_col2 {\n",
       "            background-color:  #feda86;\n",
       "            color:  #000000;\n",
       "        }    #T_614ba6a4_7100_11ea_8660_1803734f38ebrow12_col2 {\n",
       "            background-color:  #feec9f;\n",
       "            color:  #000000;\n",
       "        }    #T_614ba6a4_7100_11ea_8660_1803734f38ebrow13_col2 {\n",
       "            background-color:  #fffcba;\n",
       "            color:  #000000;\n",
       "        }    #T_614ba6a4_7100_11ea_8660_1803734f38ebrow14_col2 {\n",
       "            background-color:  #ecf7a6;\n",
       "            color:  #000000;\n",
       "        }    #T_614ba6a4_7100_11ea_8660_1803734f38ebrow15_col2 {\n",
       "            background-color:  #d1ec86;\n",
       "            color:  #000000;\n",
       "        }    #T_614ba6a4_7100_11ea_8660_1803734f38ebrow16_col2 {\n",
       "            background-color:  #a7d96b;\n",
       "            color:  #000000;\n",
       "        }    #T_614ba6a4_7100_11ea_8660_1803734f38ebrow17_col2 {\n",
       "            background-color:  #5db961;\n",
       "            color:  #000000;\n",
       "        }    #T_614ba6a4_7100_11ea_8660_1803734f38ebrow18_col2 {\n",
       "            background-color:  #006837;\n",
       "            color:  #f1f1f1;\n",
       "        }</style><table id=\"T_614ba6a4_7100_11ea_8660_1803734f38eb\" ><thead>    <tr>        <th class=\"blank level0\" ></th>        <th class=\"col_heading level0 col0\" >Interest Rate</th>        <th class=\"col_heading level0 col1\" >Number of Units Sold</th>        <th class=\"col_heading level0 col2\" >NPV</th>    </tr></thead><tbody>\n",
       "                <tr>\n",
       "                        <th id=\"T_614ba6a4_7100_11ea_8660_1803734f38eblevel0_row0\" class=\"row_heading level0 row0\" >0.05</th>\n",
       "                        <td id=\"T_614ba6a4_7100_11ea_8660_1803734f38ebrow0_col0\" class=\"data row0 col0\" >0.4%</td>\n",
       "                        <td id=\"T_614ba6a4_7100_11ea_8660_1803734f38ebrow0_col1\" class=\"data row0 col1\" >3</td>\n",
       "                        <td id=\"T_614ba6a4_7100_11ea_8660_1803734f38ebrow0_col2\" class=\"data row0 col2\" >$-100,000,000</td>\n",
       "            </tr>\n",
       "            <tr>\n",
       "                        <th id=\"T_614ba6a4_7100_11ea_8660_1803734f38eblevel0_row1\" class=\"row_heading level0 row1\" >0.1</th>\n",
       "                        <td id=\"T_614ba6a4_7100_11ea_8660_1803734f38ebrow1_col0\" class=\"data row1 col0\" >1.8%</td>\n",
       "                        <td id=\"T_614ba6a4_7100_11ea_8660_1803734f38ebrow1_col1\" class=\"data row1 col1\" >47</td>\n",
       "                        <td id=\"T_614ba6a4_7100_11ea_8660_1803734f38ebrow1_col2\" class=\"data row1 col2\" >$-87,693,668</td>\n",
       "            </tr>\n",
       "            <tr>\n",
       "                        <th id=\"T_614ba6a4_7100_11ea_8660_1803734f38eblevel0_row2\" class=\"row_heading level0 row2\" >0.15</th>\n",
       "                        <td id=\"T_614ba6a4_7100_11ea_8660_1803734f38ebrow2_col0\" class=\"data row2 col0\" >2.8%</td>\n",
       "                        <td id=\"T_614ba6a4_7100_11ea_8660_1803734f38ebrow2_col1\" class=\"data row2 col1\" >76</td>\n",
       "                        <td id=\"T_614ba6a4_7100_11ea_8660_1803734f38ebrow2_col2\" class=\"data row2 col2\" >$-71,309,161</td>\n",
       "            </tr>\n",
       "            <tr>\n",
       "                        <th id=\"T_614ba6a4_7100_11ea_8660_1803734f38eblevel0_row3\" class=\"row_heading level0 row3\" >0.2</th>\n",
       "                        <td id=\"T_614ba6a4_7100_11ea_8660_1803734f38ebrow3_col0\" class=\"data row3 col0\" >3.6%</td>\n",
       "                        <td id=\"T_614ba6a4_7100_11ea_8660_1803734f38ebrow3_col1\" class=\"data row3 col1\" >101</td>\n",
       "                        <td id=\"T_614ba6a4_7100_11ea_8660_1803734f38ebrow3_col2\" class=\"data row3 col2\" >$-57,449,231</td>\n",
       "            </tr>\n",
       "            <tr>\n",
       "                        <th id=\"T_614ba6a4_7100_11ea_8660_1803734f38eblevel0_row4\" class=\"row_heading level0 row4\" >0.25</th>\n",
       "                        <td id=\"T_614ba6a4_7100_11ea_8660_1803734f38ebrow4_col0\" class=\"data row4 col0\" >4.2%</td>\n",
       "                        <td id=\"T_614ba6a4_7100_11ea_8660_1803734f38ebrow4_col1\" class=\"data row4 col1\" >120</td>\n",
       "                        <td id=\"T_614ba6a4_7100_11ea_8660_1803734f38ebrow4_col2\" class=\"data row4 col2\" >$-43,569,431</td>\n",
       "            </tr>\n",
       "            <tr>\n",
       "                        <th id=\"T_614ba6a4_7100_11ea_8660_1803734f38eblevel0_row5\" class=\"row_heading level0 row5\" >0.3</th>\n",
       "                        <td id=\"T_614ba6a4_7100_11ea_8660_1803734f38ebrow5_col0\" class=\"data row5 col0\" >4.8%</td>\n",
       "                        <td id=\"T_614ba6a4_7100_11ea_8660_1803734f38ebrow5_col1\" class=\"data row5 col1\" >138</td>\n",
       "                        <td id=\"T_614ba6a4_7100_11ea_8660_1803734f38ebrow5_col2\" class=\"data row5 col2\" >$-30,060,082</td>\n",
       "            </tr>\n",
       "            <tr>\n",
       "                        <th id=\"T_614ba6a4_7100_11ea_8660_1803734f38eblevel0_row6\" class=\"row_heading level0 row6\" >0.35</th>\n",
       "                        <td id=\"T_614ba6a4_7100_11ea_8660_1803734f38ebrow6_col0\" class=\"data row6 col0\" >5.4%</td>\n",
       "                        <td id=\"T_614ba6a4_7100_11ea_8660_1803734f38ebrow6_col1\" class=\"data row6 col1\" >155</td>\n",
       "                        <td id=\"T_614ba6a4_7100_11ea_8660_1803734f38ebrow6_col2\" class=\"data row6 col2\" >$-17,163,479</td>\n",
       "            </tr>\n",
       "            <tr>\n",
       "                        <th id=\"T_614ba6a4_7100_11ea_8660_1803734f38eblevel0_row7\" class=\"row_heading level0 row7\" >0.4</th>\n",
       "                        <td id=\"T_614ba6a4_7100_11ea_8660_1803734f38ebrow7_col0\" class=\"data row7 col0\" >5.9%</td>\n",
       "                        <td id=\"T_614ba6a4_7100_11ea_8660_1803734f38ebrow7_col1\" class=\"data row7 col1\" >171</td>\n",
       "                        <td id=\"T_614ba6a4_7100_11ea_8660_1803734f38ebrow7_col2\" class=\"data row7 col2\" >$-4,100,158</td>\n",
       "            </tr>\n",
       "            <tr>\n",
       "                        <th id=\"T_614ba6a4_7100_11ea_8660_1803734f38eblevel0_row8\" class=\"row_heading level0 row8\" >0.45</th>\n",
       "                        <td id=\"T_614ba6a4_7100_11ea_8660_1803734f38ebrow8_col0\" class=\"data row8 col0\" >6.4%</td>\n",
       "                        <td id=\"T_614ba6a4_7100_11ea_8660_1803734f38ebrow8_col1\" class=\"data row8 col1\" >186</td>\n",
       "                        <td id=\"T_614ba6a4_7100_11ea_8660_1803734f38ebrow8_col2\" class=\"data row8 col2\" >$9,176,607</td>\n",
       "            </tr>\n",
       "            <tr>\n",
       "                        <th id=\"T_614ba6a4_7100_11ea_8660_1803734f38eblevel0_row9\" class=\"row_heading level0 row9\" >0.5</th>\n",
       "                        <td id=\"T_614ba6a4_7100_11ea_8660_1803734f38ebrow9_col0\" class=\"data row9 col0\" >6.9%</td>\n",
       "                        <td id=\"T_614ba6a4_7100_11ea_8660_1803734f38ebrow9_col1\" class=\"data row9 col1\" >202</td>\n",
       "                        <td id=\"T_614ba6a4_7100_11ea_8660_1803734f38ebrow9_col2\" class=\"data row9 col2\" >$23,650,582</td>\n",
       "            </tr>\n",
       "            <tr>\n",
       "                        <th id=\"T_614ba6a4_7100_11ea_8660_1803734f38eblevel0_row10\" class=\"row_heading level0 row10\" >0.55</th>\n",
       "                        <td id=\"T_614ba6a4_7100_11ea_8660_1803734f38ebrow10_col0\" class=\"data row10 col0\" >7.4%</td>\n",
       "                        <td id=\"T_614ba6a4_7100_11ea_8660_1803734f38ebrow10_col1\" class=\"data row10 col1\" >217</td>\n",
       "                        <td id=\"T_614ba6a4_7100_11ea_8660_1803734f38ebrow10_col2\" class=\"data row10 col2\" >$37,779,315</td>\n",
       "            </tr>\n",
       "            <tr>\n",
       "                        <th id=\"T_614ba6a4_7100_11ea_8660_1803734f38eblevel0_row11\" class=\"row_heading level0 row11\" >0.6</th>\n",
       "                        <td id=\"T_614ba6a4_7100_11ea_8660_1803734f38ebrow11_col0\" class=\"data row11 col0\" >7.9%</td>\n",
       "                        <td id=\"T_614ba6a4_7100_11ea_8660_1803734f38ebrow11_col1\" class=\"data row11 col1\" >232</td>\n",
       "                        <td id=\"T_614ba6a4_7100_11ea_8660_1803734f38ebrow11_col2\" class=\"data row11 col2\" >$54,122,654</td>\n",
       "            </tr>\n",
       "            <tr>\n",
       "                        <th id=\"T_614ba6a4_7100_11ea_8660_1803734f38eblevel0_row12\" class=\"row_heading level0 row12\" >0.65</th>\n",
       "                        <td id=\"T_614ba6a4_7100_11ea_8660_1803734f38ebrow12_col0\" class=\"data row12 col0\" >8.4%</td>\n",
       "                        <td id=\"T_614ba6a4_7100_11ea_8660_1803734f38ebrow12_col1\" class=\"data row12 col1\" >248</td>\n",
       "                        <td id=\"T_614ba6a4_7100_11ea_8660_1803734f38ebrow12_col2\" class=\"data row12 col2\" >$73,034,691</td>\n",
       "            </tr>\n",
       "            <tr>\n",
       "                        <th id=\"T_614ba6a4_7100_11ea_8660_1803734f38eblevel0_row13\" class=\"row_heading level0 row13\" >0.7</th>\n",
       "                        <td id=\"T_614ba6a4_7100_11ea_8660_1803734f38ebrow13_col0\" class=\"data row13 col0\" >9.0%</td>\n",
       "                        <td id=\"T_614ba6a4_7100_11ea_8660_1803734f38ebrow13_col1\" class=\"data row13 col1\" >265</td>\n",
       "                        <td id=\"T_614ba6a4_7100_11ea_8660_1803734f38ebrow13_col2\" class=\"data row13 col2\" >$93,388,845</td>\n",
       "            </tr>\n",
       "            <tr>\n",
       "                        <th id=\"T_614ba6a4_7100_11ea_8660_1803734f38eblevel0_row14\" class=\"row_heading level0 row14\" >0.75</th>\n",
       "                        <td id=\"T_614ba6a4_7100_11ea_8660_1803734f38ebrow14_col0\" class=\"data row14 col0\" >9.5%</td>\n",
       "                        <td id=\"T_614ba6a4_7100_11ea_8660_1803734f38ebrow14_col1\" class=\"data row14 col1\" >283</td>\n",
       "                        <td id=\"T_614ba6a4_7100_11ea_8660_1803734f38ebrow14_col2\" class=\"data row14 col2\" >$116,377,622</td>\n",
       "            </tr>\n",
       "            <tr>\n",
       "                        <th id=\"T_614ba6a4_7100_11ea_8660_1803734f38eblevel0_row15\" class=\"row_heading level0 row15\" >0.8</th>\n",
       "                        <td id=\"T_614ba6a4_7100_11ea_8660_1803734f38ebrow15_col0\" class=\"data row15 col0\" >10.1%</td>\n",
       "                        <td id=\"T_614ba6a4_7100_11ea_8660_1803734f38ebrow15_col1\" class=\"data row15 col1\" >303</td>\n",
       "                        <td id=\"T_614ba6a4_7100_11ea_8660_1803734f38ebrow15_col2\" class=\"data row15 col2\" >$143,665,645</td>\n",
       "            </tr>\n",
       "            <tr>\n",
       "                        <th id=\"T_614ba6a4_7100_11ea_8660_1803734f38eblevel0_row16\" class=\"row_heading level0 row16\" >0.85</th>\n",
       "                        <td id=\"T_614ba6a4_7100_11ea_8660_1803734f38ebrow16_col0\" class=\"data row16 col0\" >11.0%</td>\n",
       "                        <td id=\"T_614ba6a4_7100_11ea_8660_1803734f38ebrow16_col1\" class=\"data row16 col1\" >325</td>\n",
       "                        <td id=\"T_614ba6a4_7100_11ea_8660_1803734f38ebrow16_col2\" class=\"data row16 col2\" >$176,388,529</td>\n",
       "            </tr>\n",
       "            <tr>\n",
       "                        <th id=\"T_614ba6a4_7100_11ea_8660_1803734f38eblevel0_row17\" class=\"row_heading level0 row17\" >0.9</th>\n",
       "                        <td id=\"T_614ba6a4_7100_11ea_8660_1803734f38ebrow17_col0\" class=\"data row17 col0\" >11.9%</td>\n",
       "                        <td id=\"T_614ba6a4_7100_11ea_8660_1803734f38ebrow17_col1\" class=\"data row17 col1\" >354</td>\n",
       "                        <td id=\"T_614ba6a4_7100_11ea_8660_1803734f38ebrow17_col2\" class=\"data row17 col2\" >$220,342,663</td>\n",
       "            </tr>\n",
       "            <tr>\n",
       "                        <th id=\"T_614ba6a4_7100_11ea_8660_1803734f38eblevel0_row18\" class=\"row_heading level0 row18\" >0.95</th>\n",
       "                        <td id=\"T_614ba6a4_7100_11ea_8660_1803734f38ebrow18_col0\" class=\"data row18 col0\" >13.4%</td>\n",
       "                        <td id=\"T_614ba6a4_7100_11ea_8660_1803734f38ebrow18_col1\" class=\"data row18 col1\" >396</td>\n",
       "                        <td id=\"T_614ba6a4_7100_11ea_8660_1803734f38ebrow18_col2\" class=\"data row18 col2\" >$295,472,350</td>\n",
       "            </tr>\n",
       "    </tbody></table>"
      ],
      "text/plain": [
       "<pandas.io.formats.style.Styler at 0x7f516b69bd68>"
      ]
     },
     "metadata": {},
     "output_type": "display_data"
    },
    {
     "name": "stdout",
     "output_type": "stream",
     "text": [
      "\n",
      "The expected NPV is $50,829,037 with $127,729,724 standard deviation.\n",
      "\n",
      "The chance of a positive NPV is 58.3% and the chance of a negative NPV is 41.7%\n",
      "\n",
      "Regression Results\n",
      "Selling one additional unit leads to a $741,195 change in NPV\n",
      "A one percent increase in interest rate leads to a $-20,584,731 change in NPV\n",
      "A one standard deviation increase in the number of units leads to a $85,437,122 change in NPV\n",
      "A one standard deviation increase in the interest rate leads to a $-812,819 change in NPV\n"
     ]
    }
   ],
   "source": [
    "def simulation_plots(df):\n",
    "    \"\"\"\n",
    "    Uses the simulation results create plots.\n",
    "    \n",
    "    Included plots:\n",
    "    - Histogram of NPV probability distribution\n",
    "    - Scatter plots of the relationships between:\n",
    "        - Interest rate and NPV\n",
    "        - Number of units sold and NPV\n",
    "    \"\"\"\n",
    "    df['NPV'].plot.hist(bins=100)\n",
    "    df.plot.scatter(x='Interest Rate', y='NPV')\n",
    "    df.plot.scatter(x='Number of Units Sold', y='NPV')\n",
    "    plt.show()  # show the plots as soon as this command is run\n",
    "    \n",
    "    \n",
    "def probability_table(df):\n",
    "    \"\"\"\n",
    "    Produces a table quantifying the probability distributions\n",
    "    of the simulation inputs and resulting NPV.\n",
    "    \"\"\"\n",
    "    return styled_df(df.quantile([i/20 for i in range(1, 20)]))\n",
    "\n",
    "\n",
    "def expected_and_stdev_npv(df):\n",
    "    \"\"\"\n",
    "    Calculates the average and standard deviation of the NPV \n",
    "    from the simulations.\n",
    "    \"\"\"\n",
    "    mean = df['NPV'].mean()  # expected NPV\n",
    "    std = df['NPV'].std()  # stdev of NPV\n",
    "    return mean, std\n",
    "\n",
    "\n",
    "def chance_of_positive_negative_npv(df):\n",
    "    \"\"\"\n",
    "    Calculates the probabilities of a positive and negative NPV \n",
    "    based on the simulation data.\n",
    "    \"\"\"\n",
    "    positive_npv_prob = ( df['NPV'] > 0 ).astype(int).mean()\n",
    "    negative_npv_prob = 1 - positive_npv_prob\n",
    "    return positive_npv_prob, negative_npv_prob\n",
    "\n",
    "\n",
    "def simulation_regression(df):\n",
    "    \"\"\"\n",
    "    Quantifies the relationship between the inputs and NPV\n",
    "    in the simulation.\n",
    "    \"\"\"\n",
    "    X = sm.add_constant(df[['Interest Rate', 'Number of Units Sold']])\n",
    "    y = df['NPV']\n",
    "\n",
    "    model = sm.OLS(y, X)\n",
    "    result = model.fit()\n",
    "    \n",
    "    units_coef = result.params[\"Number of Units Sold\"]\n",
    "    units_std = df[\"Number of Units Sold\"].std()\n",
    "    units_std_effect = units_coef * units_std\n",
    "    \n",
    "    interest_coef = result.params[\"Interest Rate\"] / 100\n",
    "    interest_std = df[\"Interest Rate\"].std()\n",
    "    interest_std_effect = interest_coef * interest_std\n",
    "    \n",
    "    print(f'Selling one additional unit leads to a ${units_coef:,.0f} change in NPV')\n",
    "    print(f'A one percent increase in interest rate leads to a ${interest_coef:,.0f} change in NPV')\n",
    "    print(f'A one standard deviation increase in the number of units leads to a ${units_std_effect:,.0f} change in NPV')\n",
    "    print(f'A one standard deviation increase in the interest rate leads to a ${interest_std_effect:,.0f} change in NPV')\n",
    "\n",
    "    \n",
    "def display_header(header):\n",
    "    \"\"\"\n",
    "    Displays a formatted header, for separating results\n",
    "    \"\"\"\n",
    "    display(HTML(f'<h2>{header}</h2>'))\n",
    "    \n",
    "    \n",
    "def simulation_summary(df, plane):\n",
    "    \"\"\"\n",
    "    Takes the simulation results and produces a full analysis and\n",
    "    visualization of the results.\n",
    "    \"\"\"\n",
    "    display_header(plane.name)\n",
    "    simulation_plots(df)\n",
    "    table = probability_table(df)\n",
    "    mean, std = expected_and_stdev_npv(df)\n",
    "    pos_chance, neg_chance = chance_of_positive_negative_npv(df)\n",
    "    print('Probability Table')\n",
    "    display(table)  # print won't work on Styler objects, use display\n",
    "    print('')\n",
    "    print(f'The expected NPV is ${mean:,.0f} with ${std:,.0f} standard deviation.')\n",
    "    print('')\n",
    "    print(f'The chance of a positive NPV is {pos_chance:.1%} and the chance of a negative NPV is {neg_chance:.1%}')\n",
    "    print('')\n",
    "    print('Regression Results')\n",
    "    simulation_regression(df)\n",
    "    \n",
    "    \n",
    "simulation_summary(df, plane)"
   ]
  },
  {
   "cell_type": "markdown",
   "metadata": {},
   "source": [
    "# Running the Actual Simulations for Each Plane"
   ]
  },
  {
   "cell_type": "markdown",
   "metadata": {},
   "source": [
    "Now we have a function which does the full simulation, visualization, and analysis process for a plane. Now we want to repeat this for each plane."
   ]
  },
  {
   "cell_type": "code",
   "execution_count": 40,
   "metadata": {},
   "outputs": [
    {
     "name": "stderr",
     "output_type": "stream",
     "text": [
      "/home/nick/.local/share/virtualenvs/fin-model-course-eIFMSc8A/lib/python3.7/site-packages/ipykernel_launcher.py:22: DeprecationWarning: numpy.npv is deprecated and will be removed from NumPy 1.20. Use numpy_financial.npv instead (https://pypi.org/project/numpy-financial/).\n"
     ]
    },
    {
     "data": {
      "text/html": [
       "<h2>Super Size</h2>"
      ],
      "text/plain": [
       "<IPython.core.display.HTML object>"
      ]
     },
     "metadata": {},
     "output_type": "display_data"
    },
    {
     "data": {
      "image/png": "[encoded data removed]",
      "text/plain": [
       "<Figure size 432x288 with 1 Axes>"
      ]
     },
     "metadata": {
      "needs_background": "light"
     },
     "output_type": "display_data"
    },
    {
     "data": {
      "image/png": "[encoded data removed]",
      "text/plain": [
       "<Figure size 432x288 with 1 Axes>"
      ]
     },
     "metadata": {
      "needs_background": "light"
     },
     "output_type": "display_data"
    },
    {
     "data": {
      "image/png": "[encoded data removed]",
      "text/plain": [
       "<Figure size 432x288 with 1 Axes>"
      ]
     },
     "metadata": {
      "needs_background": "light"
     },
     "output_type": "display_data"
    },
    {
     "name": "stdout",
     "output_type": "stream",
     "text": [
      "Probability Table\n"
     ]
    },
    {
     "data": {
      "text/html": [
       "<style  type=\"text/css\" >\n",
       "    #T_614ba6a5_7100_11ea_8660_1803734f38ebrow0_col2 {\n",
       "            background-color:  #a50026;\n",
       "            color:  #f1f1f1;\n",
       "        }    #T_614ba6a5_7100_11ea_8660_1803734f38ebrow1_col2 {\n",
       "            background-color:  #b30d26;\n",
       "            color:  #f1f1f1;\n",
       "        }    #T_614ba6a5_7100_11ea_8660_1803734f38ebrow2_col2 {\n",
       "            background-color:  #c62027;\n",
       "            color:  #f1f1f1;\n",
       "        }    #T_614ba6a5_7100_11ea_8660_1803734f38ebrow3_col2 {\n",
       "            background-color:  #d83128;\n",
       "            color:  #f1f1f1;\n",
       "        }    #T_614ba6a5_7100_11ea_8660_1803734f38ebrow4_col2 {\n",
       "            background-color:  #e24731;\n",
       "            color:  #f1f1f1;\n",
       "        }    #T_614ba6a5_7100_11ea_8660_1803734f38ebrow5_col2 {\n",
       "            background-color:  #eb5a3a;\n",
       "            color:  #000000;\n",
       "        }    #T_614ba6a5_7100_11ea_8660_1803734f38ebrow6_col2 {\n",
       "            background-color:  #f46d43;\n",
       "            color:  #000000;\n",
       "        }    #T_614ba6a5_7100_11ea_8660_1803734f38ebrow7_col2 {\n",
       "            background-color:  #f7814c;\n",
       "            color:  #000000;\n",
       "        }    #T_614ba6a5_7100_11ea_8660_1803734f38ebrow8_col2 {\n",
       "            background-color:  #fa9857;\n",
       "            color:  #000000;\n",
       "        }    #T_614ba6a5_7100_11ea_8660_1803734f38ebrow9_col2 {\n",
       "            background-color:  #fdb163;\n",
       "            color:  #000000;\n",
       "        }    #T_614ba6a5_7100_11ea_8660_1803734f38ebrow10_col2 {\n",
       "            background-color:  #fdc574;\n",
       "            color:  #000000;\n",
       "        }    #T_614ba6a5_7100_11ea_8660_1803734f38ebrow11_col2 {\n",
       "            background-color:  #fed884;\n",
       "            color:  #000000;\n",
       "        }    #T_614ba6a5_7100_11ea_8660_1803734f38ebrow12_col2 {\n",
       "            background-color:  #feeb9d;\n",
       "            color:  #000000;\n",
       "        }    #T_614ba6a5_7100_11ea_8660_1803734f38ebrow13_col2 {\n",
       "            background-color:  #fffbb8;\n",
       "            color:  #000000;\n",
       "        }    #T_614ba6a5_7100_11ea_8660_1803734f38ebrow14_col2 {\n",
       "            background-color:  #eff8aa;\n",
       "            color:  #000000;\n",
       "        }    #T_614ba6a5_7100_11ea_8660_1803734f38ebrow15_col2 {\n",
       "            background-color:  #d7ee8a;\n",
       "            color:  #000000;\n",
       "        }    #T_614ba6a5_7100_11ea_8660_1803734f38ebrow16_col2 {\n",
       "            background-color:  #abdb6d;\n",
       "            color:  #000000;\n",
       "        }    #T_614ba6a5_7100_11ea_8660_1803734f38ebrow17_col2 {\n",
       "            background-color:  #5db961;\n",
       "            color:  #000000;\n",
       "        }    #T_614ba6a5_7100_11ea_8660_1803734f38ebrow18_col2 {\n",
       "            background-color:  #006837;\n",
       "            color:  #f1f1f1;\n",
       "        }</style><table id=\"T_614ba6a5_7100_11ea_8660_1803734f38eb\" ><thead>    <tr>        <th class=\"blank level0\" ></th>        <th class=\"col_heading level0 col0\" >Interest Rate</th>        <th class=\"col_heading level0 col1\" >Number of Units Sold</th>        <th class=\"col_heading level0 col2\" >NPV</th>    </tr></thead><tbody>\n",
       "                <tr>\n",
       "                        <th id=\"T_614ba6a5_7100_11ea_8660_1803734f38eblevel0_row0\" class=\"row_heading level0 row0\" >0.05</th>\n",
       "                        <td id=\"T_614ba6a5_7100_11ea_8660_1803734f38ebrow0_col0\" class=\"data row0 col0\" >0.3%</td>\n",
       "                        <td id=\"T_614ba6a5_7100_11ea_8660_1803734f38ebrow0_col1\" class=\"data row0 col1\" >6</td>\n",
       "                        <td id=\"T_614ba6a5_7100_11ea_8660_1803734f38ebrow0_col2\" class=\"data row0 col2\" >$-100,000,000</td>\n",
       "            </tr>\n",
       "            <tr>\n",
       "                        <th id=\"T_614ba6a5_7100_11ea_8660_1803734f38eblevel0_row1\" class=\"row_heading level0 row1\" >0.1</th>\n",
       "                        <td id=\"T_614ba6a5_7100_11ea_8660_1803734f38ebrow1_col0\" class=\"data row1 col0\" >1.8%</td>\n",
       "                        <td id=\"T_614ba6a5_7100_11ea_8660_1803734f38ebrow1_col1\" class=\"data row1 col1\" >49</td>\n",
       "                        <td id=\"T_614ba6a5_7100_11ea_8660_1803734f38ebrow1_col2\" class=\"data row1 col2\" >$-88,174,412</td>\n",
       "            </tr>\n",
       "            <tr>\n",
       "                        <th id=\"T_614ba6a5_7100_11ea_8660_1803734f38eblevel0_row2\" class=\"row_heading level0 row2\" >0.15</th>\n",
       "                        <td id=\"T_614ba6a5_7100_11ea_8660_1803734f38ebrow2_col0\" class=\"data row2 col0\" >2.8%</td>\n",
       "                        <td id=\"T_614ba6a5_7100_11ea_8660_1803734f38ebrow2_col1\" class=\"data row2 col1\" >78</td>\n",
       "                        <td id=\"T_614ba6a5_7100_11ea_8660_1803734f38ebrow2_col2\" class=\"data row2 col2\" >$-72,487,059</td>\n",
       "            </tr>\n",
       "            <tr>\n",
       "                        <th id=\"T_614ba6a5_7100_11ea_8660_1803734f38eblevel0_row3\" class=\"row_heading level0 row3\" >0.2</th>\n",
       "                        <td id=\"T_614ba6a5_7100_11ea_8660_1803734f38ebrow3_col0\" class=\"data row3 col0\" >3.6%</td>\n",
       "                        <td id=\"T_614ba6a5_7100_11ea_8660_1803734f38ebrow3_col1\" class=\"data row3 col1\" >100</td>\n",
       "                        <td id=\"T_614ba6a5_7100_11ea_8660_1803734f38ebrow3_col2\" class=\"data row3 col2\" >$-58,595,342</td>\n",
       "            </tr>\n",
       "            <tr>\n",
       "                        <th id=\"T_614ba6a5_7100_11ea_8660_1803734f38eblevel0_row4\" class=\"row_heading level0 row4\" >0.25</th>\n",
       "                        <td id=\"T_614ba6a5_7100_11ea_8660_1803734f38ebrow4_col0\" class=\"data row4 col0\" >4.3%</td>\n",
       "                        <td id=\"T_614ba6a5_7100_11ea_8660_1803734f38ebrow4_col1\" class=\"data row4 col1\" >121</td>\n",
       "                        <td id=\"T_614ba6a5_7100_11ea_8660_1803734f38ebrow4_col2\" class=\"data row4 col2\" >$-44,640,500</td>\n",
       "            </tr>\n",
       "            <tr>\n",
       "                        <th id=\"T_614ba6a5_7100_11ea_8660_1803734f38eblevel0_row5\" class=\"row_heading level0 row5\" >0.3</th>\n",
       "                        <td id=\"T_614ba6a5_7100_11ea_8660_1803734f38ebrow5_col0\" class=\"data row5 col0\" >4.9%</td>\n",
       "                        <td id=\"T_614ba6a5_7100_11ea_8660_1803734f38ebrow5_col1\" class=\"data row5 col1\" >138</td>\n",
       "                        <td id=\"T_614ba6a5_7100_11ea_8660_1803734f38ebrow5_col2\" class=\"data row5 col2\" >$-33,239,332</td>\n",
       "            </tr>\n",
       "            <tr>\n",
       "                        <th id=\"T_614ba6a5_7100_11ea_8660_1803734f38eblevel0_row6\" class=\"row_heading level0 row6\" >0.35</th>\n",
       "                        <td id=\"T_614ba6a5_7100_11ea_8660_1803734f38ebrow6_col0\" class=\"data row6 col0\" >5.4%</td>\n",
       "                        <td id=\"T_614ba6a5_7100_11ea_8660_1803734f38ebrow6_col1\" class=\"data row6 col1\" >153</td>\n",
       "                        <td id=\"T_614ba6a5_7100_11ea_8660_1803734f38ebrow6_col2\" class=\"data row6 col2\" >$-20,701,599</td>\n",
       "            </tr>\n",
       "            <tr>\n",
       "                        <th id=\"T_614ba6a5_7100_11ea_8660_1803734f38eblevel0_row7\" class=\"row_heading level0 row7\" >0.4</th>\n",
       "                        <td id=\"T_614ba6a5_7100_11ea_8660_1803734f38ebrow7_col0\" class=\"data row7 col0\" >5.9%</td>\n",
       "                        <td id=\"T_614ba6a5_7100_11ea_8660_1803734f38ebrow7_col1\" class=\"data row7 col1\" >169</td>\n",
       "                        <td id=\"T_614ba6a5_7100_11ea_8660_1803734f38ebrow7_col2\" class=\"data row7 col2\" >$-7,533,386</td>\n",
       "            </tr>\n",
       "            <tr>\n",
       "                        <th id=\"T_614ba6a5_7100_11ea_8660_1803734f38eblevel0_row8\" class=\"row_heading level0 row8\" >0.45</th>\n",
       "                        <td id=\"T_614ba6a5_7100_11ea_8660_1803734f38ebrow8_col0\" class=\"data row8 col0\" >6.4%</td>\n",
       "                        <td id=\"T_614ba6a5_7100_11ea_8660_1803734f38ebrow8_col1\" class=\"data row8 col1\" >185</td>\n",
       "                        <td id=\"T_614ba6a5_7100_11ea_8660_1803734f38ebrow8_col2\" class=\"data row8 col2\" >$6,451,952</td>\n",
       "            </tr>\n",
       "            <tr>\n",
       "                        <th id=\"T_614ba6a5_7100_11ea_8660_1803734f38eblevel0_row9\" class=\"row_heading level0 row9\" >0.5</th>\n",
       "                        <td id=\"T_614ba6a5_7100_11ea_8660_1803734f38ebrow9_col0\" class=\"data row9 col0\" >7.0%</td>\n",
       "                        <td id=\"T_614ba6a5_7100_11ea_8660_1803734f38ebrow9_col1\" class=\"data row9 col1\" >200</td>\n",
       "                        <td id=\"T_614ba6a5_7100_11ea_8660_1803734f38ebrow9_col2\" class=\"data row9 col2\" >$21,078,524</td>\n",
       "            </tr>\n",
       "            <tr>\n",
       "                        <th id=\"T_614ba6a5_7100_11ea_8660_1803734f38eblevel0_row10\" class=\"row_heading level0 row10\" >0.55</th>\n",
       "                        <td id=\"T_614ba6a5_7100_11ea_8660_1803734f38ebrow10_col0\" class=\"data row10 col0\" >7.5%</td>\n",
       "                        <td id=\"T_614ba6a5_7100_11ea_8660_1803734f38ebrow10_col1\" class=\"data row10 col1\" >215</td>\n",
       "                        <td id=\"T_614ba6a5_7100_11ea_8660_1803734f38ebrow10_col2\" class=\"data row10 col2\" >$37,295,911</td>\n",
       "            </tr>\n",
       "            <tr>\n",
       "                        <th id=\"T_614ba6a5_7100_11ea_8660_1803734f38eblevel0_row11\" class=\"row_heading level0 row11\" >0.6</th>\n",
       "                        <td id=\"T_614ba6a5_7100_11ea_8660_1803734f38ebrow11_col0\" class=\"data row11 col0\" >8.0%</td>\n",
       "                        <td id=\"T_614ba6a5_7100_11ea_8660_1803734f38ebrow11_col1\" class=\"data row11 col1\" >230</td>\n",
       "                        <td id=\"T_614ba6a5_7100_11ea_8660_1803734f38ebrow11_col2\" class=\"data row11 col2\" >$52,796,445</td>\n",
       "            </tr>\n",
       "            <tr>\n",
       "                        <th id=\"T_614ba6a5_7100_11ea_8660_1803734f38eblevel0_row12\" class=\"row_heading level0 row12\" >0.65</th>\n",
       "                        <td id=\"T_614ba6a5_7100_11ea_8660_1803734f38ebrow12_col0\" class=\"data row12 col0\" >8.5%</td>\n",
       "                        <td id=\"T_614ba6a5_7100_11ea_8660_1803734f38ebrow12_col1\" class=\"data row12 col1\" >246</td>\n",
       "                        <td id=\"T_614ba6a5_7100_11ea_8660_1803734f38ebrow12_col2\" class=\"data row12 col2\" >$72,239,936</td>\n",
       "            </tr>\n",
       "            <tr>\n",
       "                        <th id=\"T_614ba6a5_7100_11ea_8660_1803734f38eblevel0_row13\" class=\"row_heading level0 row13\" >0.7</th>\n",
       "                        <td id=\"T_614ba6a5_7100_11ea_8660_1803734f38ebrow13_col0\" class=\"data row13 col0\" >9.1%</td>\n",
       "                        <td id=\"T_614ba6a5_7100_11ea_8660_1803734f38ebrow13_col1\" class=\"data row13 col1\" >264</td>\n",
       "                        <td id=\"T_614ba6a5_7100_11ea_8660_1803734f38ebrow13_col2\" class=\"data row13 col2\" >$92,679,842</td>\n",
       "            </tr>\n",
       "            <tr>\n",
       "                        <th id=\"T_614ba6a5_7100_11ea_8660_1803734f38eblevel0_row14\" class=\"row_heading level0 row14\" >0.75</th>\n",
       "                        <td id=\"T_614ba6a5_7100_11ea_8660_1803734f38ebrow14_col0\" class=\"data row14 col0\" >9.6%</td>\n",
       "                        <td id=\"T_614ba6a5_7100_11ea_8660_1803734f38ebrow14_col1\" class=\"data row14 col1\" >282</td>\n",
       "                        <td id=\"T_614ba6a5_7100_11ea_8660_1803734f38ebrow14_col2\" class=\"data row14 col2\" >$114,371,202</td>\n",
       "            </tr>\n",
       "            <tr>\n",
       "                        <th id=\"T_614ba6a5_7100_11ea_8660_1803734f38eblevel0_row15\" class=\"row_heading level0 row15\" >0.8</th>\n",
       "                        <td id=\"T_614ba6a5_7100_11ea_8660_1803734f38ebrow15_col0\" class=\"data row15 col0\" >10.4%</td>\n",
       "                        <td id=\"T_614ba6a5_7100_11ea_8660_1803734f38ebrow15_col1\" class=\"data row15 col1\" >303</td>\n",
       "                        <td id=\"T_614ba6a5_7100_11ea_8660_1803734f38ebrow15_col2\" class=\"data row15 col2\" >$139,708,344</td>\n",
       "            </tr>\n",
       "            <tr>\n",
       "                        <th id=\"T_614ba6a5_7100_11ea_8660_1803734f38eblevel0_row16\" class=\"row_heading level0 row16\" >0.85</th>\n",
       "                        <td id=\"T_614ba6a5_7100_11ea_8660_1803734f38ebrow16_col0\" class=\"data row16 col0\" >11.1%</td>\n",
       "                        <td id=\"T_614ba6a5_7100_11ea_8660_1803734f38ebrow16_col1\" class=\"data row16 col1\" >327</td>\n",
       "                        <td id=\"T_614ba6a5_7100_11ea_8660_1803734f38ebrow16_col2\" class=\"data row16 col2\" >$173,920,825</td>\n",
       "            </tr>\n",
       "            <tr>\n",
       "                        <th id=\"T_614ba6a5_7100_11ea_8660_1803734f38eblevel0_row17\" class=\"row_heading level0 row17\" >0.9</th>\n",
       "                        <td id=\"T_614ba6a5_7100_11ea_8660_1803734f38ebrow17_col0\" class=\"data row17 col0\" >12.1%</td>\n",
       "                        <td id=\"T_614ba6a5_7100_11ea_8660_1803734f38ebrow17_col1\" class=\"data row17 col1\" >357</td>\n",
       "                        <td id=\"T_614ba6a5_7100_11ea_8660_1803734f38ebrow17_col2\" class=\"data row17 col2\" >$222,497,491</td>\n",
       "            </tr>\n",
       "            <tr>\n",
       "                        <th id=\"T_614ba6a5_7100_11ea_8660_1803734f38eblevel0_row18\" class=\"row_heading level0 row18\" >0.95</th>\n",
       "                        <td id=\"T_614ba6a5_7100_11ea_8660_1803734f38ebrow18_col0\" class=\"data row18 col0\" >13.6%</td>\n",
       "                        <td id=\"T_614ba6a5_7100_11ea_8660_1803734f38ebrow18_col1\" class=\"data row18 col1\" >398</td>\n",
       "                        <td id=\"T_614ba6a5_7100_11ea_8660_1803734f38ebrow18_col2\" class=\"data row18 col2\" >$297,186,190</td>\n",
       "            </tr>\n",
       "    </tbody></table>"
      ],
      "text/plain": [
       "<pandas.io.formats.style.Styler at 0x7f515c892fd0>"
      ]
     },
     "metadata": {},
     "output_type": "display_data"
    },
    {
     "name": "stdout",
     "output_type": "stream",
     "text": [
      "\n",
      "The expected NPV is $48,758,097 with $126,611,218 standard deviation.\n",
      "\n",
      "The chance of a positive NPV is 57.2% and the chance of a negative NPV is 42.8%\n",
      "\n",
      "Regression Results\n",
      "Selling one additional unit leads to a $725,431 change in NPV\n",
      "A one percent increase in interest rate leads to a $-20,418,728 change in NPV\n",
      "A one standard deviation increase in the number of units leads to a $83,448,299 change in NPV\n",
      "A one standard deviation increase in the interest rate leads to a $-822,025 change in NPV\n"
     ]
    },
    {
     "data": {
      "text/html": [
       "<h2>Large</h2>"
      ],
      "text/plain": [
       "<IPython.core.display.HTML object>"
      ]
     },
     "metadata": {},
     "output_type": "display_data"
    },
    {
     "data": {
      "image/png": "[encoded data removed]",
      "text/plain": [
       "<Figure size 432x288 with 1 Axes>"
      ]
     },
     "metadata": {
      "needs_background": "light"
     },
     "output_type": "display_data"
    },
    {
     "data": {
      "image/png": "[encoded data removed]",
      "text/plain": [
       "<Figure size 432x288 with 1 Axes>"
      ]
     },
     "metadata": {
      "needs_background": "light"
     },
     "output_type": "display_data"
    },
    {
     "data": {
      "image/png": "[encoded data removed]",
      "text/plain": [
       "<Figure size 432x288 with 1 Axes>"
      ]
     },
     "metadata": {
      "needs_background": "light"
     },
     "output_type": "display_data"
    },
    {
     "name": "stdout",
     "output_type": "stream",
     "text": [
      "Probability Table\n"
     ]
    },
    {
     "data": {
      "text/html": [
       "<style  type=\"text/css\" >\n",
       "    #T_62a35376_7100_11ea_8660_1803734f38ebrow0_col2 {\n",
       "            background-color:  #a50026;\n",
       "            color:  #f1f1f1;\n",
       "        }    #T_62a35376_7100_11ea_8660_1803734f38ebrow1_col2 {\n",
       "            background-color:  #d02927;\n",
       "            color:  #f1f1f1;\n",
       "        }    #T_62a35376_7100_11ea_8660_1803734f38ebrow2_col2 {\n",
       "            background-color:  #e44c34;\n",
       "            color:  #000000;\n",
       "        }    #T_62a35376_7100_11ea_8660_1803734f38ebrow3_col2 {\n",
       "            background-color:  #f46d43;\n",
       "            color:  #000000;\n",
       "        }    #T_62a35376_7100_11ea_8660_1803734f38ebrow4_col2 {\n",
       "            background-color:  #f88950;\n",
       "            color:  #000000;\n",
       "        }    #T_62a35376_7100_11ea_8660_1803734f38ebrow5_col2 {\n",
       "            background-color:  #fca55d;\n",
       "            color:  #000000;\n",
       "        }    #T_62a35376_7100_11ea_8660_1803734f38ebrow6_col2 {\n",
       "            background-color:  #fdbb6c;\n",
       "            color:  #000000;\n",
       "        }    #T_62a35376_7100_11ea_8660_1803734f38ebrow7_col2 {\n",
       "            background-color:  #fecc7b;\n",
       "            color:  #000000;\n",
       "        }    #T_62a35376_7100_11ea_8660_1803734f38ebrow8_col2 {\n",
       "            background-color:  #fee08b;\n",
       "            color:  #000000;\n",
       "        }    #T_62a35376_7100_11ea_8660_1803734f38ebrow9_col2 {\n",
       "            background-color:  #feeb9d;\n",
       "            color:  #000000;\n",
       "        }    #T_62a35376_7100_11ea_8660_1803734f38ebrow10_col2 {\n",
       "            background-color:  #fff7b2;\n",
       "            color:  #000000;\n",
       "        }    #T_62a35376_7100_11ea_8660_1803734f38ebrow11_col2 {\n",
       "            background-color:  #fafdb8;\n",
       "            color:  #000000;\n",
       "        }    #T_62a35376_7100_11ea_8660_1803734f38ebrow12_col2 {\n",
       "            background-color:  #e9f6a1;\n",
       "            color:  #000000;\n",
       "        }    #T_62a35376_7100_11ea_8660_1803734f38ebrow13_col2 {\n",
       "            background-color:  #d9ef8b;\n",
       "            color:  #000000;\n",
       "        }    #T_62a35376_7100_11ea_8660_1803734f38ebrow14_col2 {\n",
       "            background-color:  #c3e67d;\n",
       "            color:  #000000;\n",
       "        }    #T_62a35376_7100_11ea_8660_1803734f38ebrow15_col2 {\n",
       "            background-color:  #a5d86a;\n",
       "            color:  #000000;\n",
       "        }    #T_62a35376_7100_11ea_8660_1803734f38ebrow16_col2 {\n",
       "            background-color:  #7ac665;\n",
       "            color:  #000000;\n",
       "        }    #T_62a35376_7100_11ea_8660_1803734f38ebrow17_col2 {\n",
       "            background-color:  #36a657;\n",
       "            color:  #000000;\n",
       "        }    #T_62a35376_7100_11ea_8660_1803734f38ebrow18_col2 {\n",
       "            background-color:  #006837;\n",
       "            color:  #f1f1f1;\n",
       "        }</style><table id=\"T_62a35376_7100_11ea_8660_1803734f38eb\" ><thead>    <tr>        <th class=\"blank level0\" ></th>        <th class=\"col_heading level0 col0\" >Interest Rate</th>        <th class=\"col_heading level0 col1\" >Number of Units Sold</th>        <th class=\"col_heading level0 col2\" >NPV</th>    </tr></thead><tbody>\n",
       "                <tr>\n",
       "                        <th id=\"T_62a35376_7100_11ea_8660_1803734f38eblevel0_row0\" class=\"row_heading level0 row0\" >0.05</th>\n",
       "                        <td id=\"T_62a35376_7100_11ea_8660_1803734f38ebrow0_col0\" class=\"data row0 col0\" >0.4%</td>\n",
       "                        <td id=\"T_62a35376_7100_11ea_8660_1803734f38ebrow0_col1\" class=\"data row0 col1\" >317</td>\n",
       "                        <td id=\"T_62a35376_7100_11ea_8660_1803734f38ebrow0_col2\" class=\"data row0 col2\" >$-75,554,445</td>\n",
       "            </tr>\n",
       "            <tr>\n",
       "                        <th id=\"T_62a35376_7100_11ea_8660_1803734f38eblevel0_row1\" class=\"row_heading level0 row1\" >0.1</th>\n",
       "                        <td id=\"T_62a35376_7100_11ea_8660_1803734f38ebrow1_col0\" class=\"data row1 col0\" >2.0%</td>\n",
       "                        <td id=\"T_62a35376_7100_11ea_8660_1803734f38ebrow1_col1\" class=\"data row1 col1\" >336</td>\n",
       "                        <td id=\"T_62a35376_7100_11ea_8660_1803734f38ebrow1_col2\" class=\"data row1 col2\" >$-53,545,118</td>\n",
       "            </tr>\n",
       "            <tr>\n",
       "                        <th id=\"T_62a35376_7100_11ea_8660_1803734f38eblevel0_row2\" class=\"row_heading level0 row2\" >0.15</th>\n",
       "                        <td id=\"T_62a35376_7100_11ea_8660_1803734f38ebrow2_col0\" class=\"data row2 col0\" >2.9%</td>\n",
       "                        <td id=\"T_62a35376_7100_11ea_8660_1803734f38ebrow2_col1\" class=\"data row2 col1\" >348</td>\n",
       "                        <td id=\"T_62a35376_7100_11ea_8660_1803734f38ebrow2_col2\" class=\"data row2 col2\" >$-37,618,629</td>\n",
       "            </tr>\n",
       "            <tr>\n",
       "                        <th id=\"T_62a35376_7100_11ea_8660_1803734f38eblevel0_row3\" class=\"row_heading level0 row3\" >0.2</th>\n",
       "                        <td id=\"T_62a35376_7100_11ea_8660_1803734f38ebrow3_col0\" class=\"data row3 col0\" >3.7%</td>\n",
       "                        <td id=\"T_62a35376_7100_11ea_8660_1803734f38ebrow3_col1\" class=\"data row3 col1\" >357</td>\n",
       "                        <td id=\"T_62a35376_7100_11ea_8660_1803734f38ebrow3_col2\" class=\"data row3 col2\" >$-24,467,685</td>\n",
       "            </tr>\n",
       "            <tr>\n",
       "                        <th id=\"T_62a35376_7100_11ea_8660_1803734f38eblevel0_row4\" class=\"row_heading level0 row4\" >0.25</th>\n",
       "                        <td id=\"T_62a35376_7100_11ea_8660_1803734f38ebrow4_col0\" class=\"data row4 col0\" >4.4%</td>\n",
       "                        <td id=\"T_62a35376_7100_11ea_8660_1803734f38ebrow4_col1\" class=\"data row4 col1\" >366</td>\n",
       "                        <td id=\"T_62a35376_7100_11ea_8660_1803734f38ebrow4_col2\" class=\"data row4 col2\" >$-13,068,124</td>\n",
       "            </tr>\n",
       "            <tr>\n",
       "                        <th id=\"T_62a35376_7100_11ea_8660_1803734f38eblevel0_row5\" class=\"row_heading level0 row5\" >0.3</th>\n",
       "                        <td id=\"T_62a35376_7100_11ea_8660_1803734f38ebrow5_col0\" class=\"data row5 col0\" >4.9%</td>\n",
       "                        <td id=\"T_62a35376_7100_11ea_8660_1803734f38ebrow5_col1\" class=\"data row5 col1\" >374</td>\n",
       "                        <td id=\"T_62a35376_7100_11ea_8660_1803734f38ebrow5_col2\" class=\"data row5 col2\" >$-2,021,974</td>\n",
       "            </tr>\n",
       "            <tr>\n",
       "                        <th id=\"T_62a35376_7100_11ea_8660_1803734f38eblevel0_row6\" class=\"row_heading level0 row6\" >0.35</th>\n",
       "                        <td id=\"T_62a35376_7100_11ea_8660_1803734f38ebrow6_col0\" class=\"data row6 col0\" >5.5%</td>\n",
       "                        <td id=\"T_62a35376_7100_11ea_8660_1803734f38ebrow6_col1\" class=\"data row6 col1\" >381</td>\n",
       "                        <td id=\"T_62a35376_7100_11ea_8660_1803734f38ebrow6_col2\" class=\"data row6 col2\" >$7,521,435</td>\n",
       "            </tr>\n",
       "            <tr>\n",
       "                        <th id=\"T_62a35376_7100_11ea_8660_1803734f38eblevel0_row7\" class=\"row_heading level0 row7\" >0.4</th>\n",
       "                        <td id=\"T_62a35376_7100_11ea_8660_1803734f38ebrow7_col0\" class=\"data row7 col0\" >6.0%</td>\n",
       "                        <td id=\"T_62a35376_7100_11ea_8660_1803734f38ebrow7_col1\" class=\"data row7 col1\" >387</td>\n",
       "                        <td id=\"T_62a35376_7100_11ea_8660_1803734f38ebrow7_col2\" class=\"data row7 col2\" >$17,031,176</td>\n",
       "            </tr>\n",
       "            <tr>\n",
       "                        <th id=\"T_62a35376_7100_11ea_8660_1803734f38eblevel0_row8\" class=\"row_heading level0 row8\" >0.45</th>\n",
       "                        <td id=\"T_62a35376_7100_11ea_8660_1803734f38ebrow8_col0\" class=\"data row8 col0\" >6.5%</td>\n",
       "                        <td id=\"T_62a35376_7100_11ea_8660_1803734f38ebrow8_col1\" class=\"data row8 col1\" >393</td>\n",
       "                        <td id=\"T_62a35376_7100_11ea_8660_1803734f38ebrow8_col2\" class=\"data row8 col2\" >$26,384,428</td>\n",
       "            </tr>\n",
       "            <tr>\n",
       "                        <th id=\"T_62a35376_7100_11ea_8660_1803734f38eblevel0_row9\" class=\"row_heading level0 row9\" >0.5</th>\n",
       "                        <td id=\"T_62a35376_7100_11ea_8660_1803734f38ebrow9_col0\" class=\"data row9 col0\" >7.0%</td>\n",
       "                        <td id=\"T_62a35376_7100_11ea_8660_1803734f38ebrow9_col1\" class=\"data row9 col1\" >400</td>\n",
       "                        <td id=\"T_62a35376_7100_11ea_8660_1803734f38ebrow9_col2\" class=\"data row9 col2\" >$36,042,423</td>\n",
       "            </tr>\n",
       "            <tr>\n",
       "                        <th id=\"T_62a35376_7100_11ea_8660_1803734f38eblevel0_row10\" class=\"row_heading level0 row10\" >0.55</th>\n",
       "                        <td id=\"T_62a35376_7100_11ea_8660_1803734f38ebrow10_col0\" class=\"data row10 col0\" >7.5%</td>\n",
       "                        <td id=\"T_62a35376_7100_11ea_8660_1803734f38ebrow10_col1\" class=\"data row10 col1\" >406</td>\n",
       "                        <td id=\"T_62a35376_7100_11ea_8660_1803734f38ebrow10_col2\" class=\"data row10 col2\" >$45,363,361</td>\n",
       "            </tr>\n",
       "            <tr>\n",
       "                        <th id=\"T_62a35376_7100_11ea_8660_1803734f38eblevel0_row11\" class=\"row_heading level0 row11\" >0.6</th>\n",
       "                        <td id=\"T_62a35376_7100_11ea_8660_1803734f38ebrow11_col0\" class=\"data row11 col0\" >8.0%</td>\n",
       "                        <td id=\"T_62a35376_7100_11ea_8660_1803734f38ebrow11_col1\" class=\"data row11 col1\" >412</td>\n",
       "                        <td id=\"T_62a35376_7100_11ea_8660_1803734f38ebrow11_col2\" class=\"data row11 col2\" >$55,990,506</td>\n",
       "            </tr>\n",
       "            <tr>\n",
       "                        <th id=\"T_62a35376_7100_11ea_8660_1803734f38eblevel0_row12\" class=\"row_heading level0 row12\" >0.65</th>\n",
       "                        <td id=\"T_62a35376_7100_11ea_8660_1803734f38ebrow12_col0\" class=\"data row12 col0\" >8.5%</td>\n",
       "                        <td id=\"T_62a35376_7100_11ea_8660_1803734f38ebrow12_col1\" class=\"data row12 col1\" >419</td>\n",
       "                        <td id=\"T_62a35376_7100_11ea_8660_1803734f38ebrow12_col2\" class=\"data row12 col2\" >$66,459,860</td>\n",
       "            </tr>\n",
       "            <tr>\n",
       "                        <th id=\"T_62a35376_7100_11ea_8660_1803734f38eblevel0_row13\" class=\"row_heading level0 row13\" >0.7</th>\n",
       "                        <td id=\"T_62a35376_7100_11ea_8660_1803734f38ebrow13_col0\" class=\"data row13 col0\" >9.1%</td>\n",
       "                        <td id=\"T_62a35376_7100_11ea_8660_1803734f38ebrow13_col1\" class=\"data row13 col1\" >425</td>\n",
       "                        <td id=\"T_62a35376_7100_11ea_8660_1803734f38ebrow13_col2\" class=\"data row13 col2\" >$77,406,251</td>\n",
       "            </tr>\n",
       "            <tr>\n",
       "                        <th id=\"T_62a35376_7100_11ea_8660_1803734f38eblevel0_row14\" class=\"row_heading level0 row14\" >0.75</th>\n",
       "                        <td id=\"T_62a35376_7100_11ea_8660_1803734f38ebrow14_col0\" class=\"data row14 col0\" >9.7%</td>\n",
       "                        <td id=\"T_62a35376_7100_11ea_8660_1803734f38ebrow14_col1\" class=\"data row14 col1\" >433</td>\n",
       "                        <td id=\"T_62a35376_7100_11ea_8660_1803734f38ebrow14_col2\" class=\"data row14 col2\" >$89,028,741</td>\n",
       "            </tr>\n",
       "            <tr>\n",
       "                        <th id=\"T_62a35376_7100_11ea_8660_1803734f38eblevel0_row15\" class=\"row_heading level0 row15\" >0.8</th>\n",
       "                        <td id=\"T_62a35376_7100_11ea_8660_1803734f38ebrow15_col0\" class=\"data row15 col0\" >10.4%</td>\n",
       "                        <td id=\"T_62a35376_7100_11ea_8660_1803734f38ebrow15_col1\" class=\"data row15 col1\" >441</td>\n",
       "                        <td id=\"T_62a35376_7100_11ea_8660_1803734f38ebrow15_col2\" class=\"data row15 col2\" >$103,501,430</td>\n",
       "            </tr>\n",
       "            <tr>\n",
       "                        <th id=\"T_62a35376_7100_11ea_8660_1803734f38eblevel0_row16\" class=\"row_heading level0 row16\" >0.85</th>\n",
       "                        <td id=\"T_62a35376_7100_11ea_8660_1803734f38ebrow16_col0\" class=\"data row16 col0\" >11.2%</td>\n",
       "                        <td id=\"T_62a35376_7100_11ea_8660_1803734f38ebrow16_col1\" class=\"data row16 col1\" >451</td>\n",
       "                        <td id=\"T_62a35376_7100_11ea_8660_1803734f38ebrow16_col2\" class=\"data row16 col2\" >$120,722,746</td>\n",
       "            </tr>\n",
       "            <tr>\n",
       "                        <th id=\"T_62a35376_7100_11ea_8660_1803734f38eblevel0_row17\" class=\"row_heading level0 row17\" >0.9</th>\n",
       "                        <td id=\"T_62a35376_7100_11ea_8660_1803734f38ebrow17_col0\" class=\"data row17 col0\" >12.2%</td>\n",
       "                        <td id=\"T_62a35376_7100_11ea_8660_1803734f38ebrow17_col1\" class=\"data row17 col1\" >463</td>\n",
       "                        <td id=\"T_62a35376_7100_11ea_8660_1803734f38ebrow17_col2\" class=\"data row17 col2\" >$144,550,810</td>\n",
       "            </tr>\n",
       "            <tr>\n",
       "                        <th id=\"T_62a35376_7100_11ea_8660_1803734f38eblevel0_row18\" class=\"row_heading level0 row18\" >0.95</th>\n",
       "                        <td id=\"T_62a35376_7100_11ea_8660_1803734f38ebrow18_col0\" class=\"data row18 col0\" >13.7%</td>\n",
       "                        <td id=\"T_62a35376_7100_11ea_8660_1803734f38ebrow18_col1\" class=\"data row18 col1\" >481</td>\n",
       "                        <td id=\"T_62a35376_7100_11ea_8660_1803734f38ebrow18_col2\" class=\"data row18 col2\" >$180,039,220</td>\n",
       "            </tr>\n",
       "    </tbody></table>"
      ],
      "text/plain": [
       "<pandas.io.formats.style.Styler at 0x7f515ca2ce48>"
      ]
     },
     "metadata": {},
     "output_type": "display_data"
    },
    {
     "name": "stdout",
     "output_type": "stream",
     "text": [
      "\n",
      "The expected NPV is $41,718,213 with $78,290,563 standard deviation.\n",
      "\n",
      "The chance of a positive NPV is 69.0% and the chance of a negative NPV is 31.0%\n",
      "\n",
      "Regression Results\n",
      "Selling one additional unit leads to a $222,784 change in NPV\n",
      "A one percent increase in interest rate leads to a $-19,116,152 change in NPV\n",
      "A one standard deviation increase in the number of units leads to a $11,061,776 change in NPV\n",
      "A one standard deviation increase in the interest rate leads to a $-766,162 change in NPV\n"
     ]
    },
    {
     "data": {
      "text/html": [
       "<h2>Mid-Size</h2>"
      ],
      "text/plain": [
       "<IPython.core.display.HTML object>"
      ]
     },
     "metadata": {},
     "output_type": "display_data"
    },
    {
     "data": {
      "image/png": "[encoded data removed]",
      "text/plain": [
       "<Figure size 432x288 with 1 Axes>"
      ]
     },
     "metadata": {
      "needs_background": "light"
     },
     "output_type": "display_data"
    },
    {
     "data": {
      "image/png": "[encoded data removed]",
      "text/plain": [
       "<Figure size 432x288 with 1 Axes>"
      ]
     },
     "metadata": {
      "needs_background": "light"
     },
     "output_type": "display_data"
    },
    {
     "data": {
      "image/png": "[encoded data removed]",
      "text/plain": [
       "<Figure size 432x288 with 1 Axes>"
      ]
     },
     "metadata": {
      "needs_background": "light"
     },
     "output_type": "display_data"
    },
    {
     "name": "stdout",
     "output_type": "stream",
     "text": [
      "Probability Table\n"
     ]
    },
    {
     "data": {
      "text/html": [
       "<style  type=\"text/css\" >\n",
       "    #T_62a35377_7100_11ea_8660_1803734f38ebrow0_col2 {\n",
       "            background-color:  #a50026;\n",
       "            color:  #f1f1f1;\n",
       "        }    #T_62a35377_7100_11ea_8660_1803734f38ebrow1_col2 {\n",
       "            background-color:  #d42d27;\n",
       "            color:  #f1f1f1;\n",
       "        }    #T_62a35377_7100_11ea_8660_1803734f38ebrow2_col2 {\n",
       "            background-color:  #e95538;\n",
       "            color:  #000000;\n",
       "        }    #T_62a35377_7100_11ea_8660_1803734f38ebrow3_col2 {\n",
       "            background-color:  #f57748;\n",
       "            color:  #000000;\n",
       "        }    #T_62a35377_7100_11ea_8660_1803734f38ebrow4_col2 {\n",
       "            background-color:  #fa9656;\n",
       "            color:  #000000;\n",
       "        }    #T_62a35377_7100_11ea_8660_1803734f38ebrow5_col2 {\n",
       "            background-color:  #fdad60;\n",
       "            color:  #000000;\n",
       "        }    #T_62a35377_7100_11ea_8660_1803734f38ebrow6_col2 {\n",
       "            background-color:  #fdc171;\n",
       "            color:  #000000;\n",
       "        }    #T_62a35377_7100_11ea_8660_1803734f38ebrow7_col2 {\n",
       "            background-color:  #fed481;\n",
       "            color:  #000000;\n",
       "        }    #T_62a35377_7100_11ea_8660_1803734f38ebrow8_col2 {\n",
       "            background-color:  #fee593;\n",
       "            color:  #000000;\n",
       "        }    #T_62a35377_7100_11ea_8660_1803734f38ebrow9_col2 {\n",
       "            background-color:  #fff1a8;\n",
       "            color:  #000000;\n",
       "        }    #T_62a35377_7100_11ea_8660_1803734f38ebrow10_col2 {\n",
       "            background-color:  #fffdbc;\n",
       "            color:  #000000;\n",
       "        }    #T_62a35377_7100_11ea_8660_1803734f38ebrow11_col2 {\n",
       "            background-color:  #f2faae;\n",
       "            color:  #000000;\n",
       "        }    #T_62a35377_7100_11ea_8660_1803734f38ebrow12_col2 {\n",
       "            background-color:  #e2f397;\n",
       "            color:  #000000;\n",
       "        }    #T_62a35377_7100_11ea_8660_1803734f38ebrow13_col2 {\n",
       "            background-color:  #cfeb85;\n",
       "            color:  #000000;\n",
       "        }    #T_62a35377_7100_11ea_8660_1803734f38ebrow14_col2 {\n",
       "            background-color:  #b9e176;\n",
       "            color:  #000000;\n",
       "        }    #T_62a35377_7100_11ea_8660_1803734f38ebrow15_col2 {\n",
       "            background-color:  #9bd469;\n",
       "            color:  #000000;\n",
       "        }    #T_62a35377_7100_11ea_8660_1803734f38ebrow16_col2 {\n",
       "            background-color:  #70c164;\n",
       "            color:  #000000;\n",
       "        }    #T_62a35377_7100_11ea_8660_1803734f38ebrow17_col2 {\n",
       "            background-color:  #33a456;\n",
       "            color:  #000000;\n",
       "        }    #T_62a35377_7100_11ea_8660_1803734f38ebrow18_col2 {\n",
       "            background-color:  #006837;\n",
       "            color:  #f1f1f1;\n",
       "        }</style><table id=\"T_62a35377_7100_11ea_8660_1803734f38eb\" ><thead>    <tr>        <th class=\"blank level0\" ></th>        <th class=\"col_heading level0 col0\" >Interest Rate</th>        <th class=\"col_heading level0 col1\" >Number of Units Sold</th>        <th class=\"col_heading level0 col2\" >NPV</th>    </tr></thead><tbody>\n",
       "                <tr>\n",
       "                        <th id=\"T_62a35377_7100_11ea_8660_1803734f38eblevel0_row0\" class=\"row_heading level0 row0\" >0.05</th>\n",
       "                        <td id=\"T_62a35377_7100_11ea_8660_1803734f38ebrow0_col0\" class=\"data row0 col0\" >0.5%</td>\n",
       "                        <td id=\"T_62a35377_7100_11ea_8660_1803734f38ebrow0_col1\" class=\"data row0 col1\" >467</td>\n",
       "                        <td id=\"T_62a35377_7100_11ea_8660_1803734f38ebrow0_col2\" class=\"data row0 col2\" >$11,436,720,561</td>\n",
       "            </tr>\n",
       "            <tr>\n",
       "                        <th id=\"T_62a35377_7100_11ea_8660_1803734f38eblevel0_row1\" class=\"row_heading level0 row1\" >0.1</th>\n",
       "                        <td id=\"T_62a35377_7100_11ea_8660_1803734f38ebrow1_col0\" class=\"data row1 col0\" >2.0%</td>\n",
       "                        <td id=\"T_62a35377_7100_11ea_8660_1803734f38ebrow1_col1\" class=\"data row1 col1\" >474</td>\n",
       "                        <td id=\"T_62a35377_7100_11ea_8660_1803734f38ebrow1_col2\" class=\"data row1 col2\" >$11,798,764,315</td>\n",
       "            </tr>\n",
       "            <tr>\n",
       "                        <th id=\"T_62a35377_7100_11ea_8660_1803734f38eblevel0_row2\" class=\"row_heading level0 row2\" >0.15</th>\n",
       "                        <td id=\"T_62a35377_7100_11ea_8660_1803734f38ebrow2_col0\" class=\"data row2 col0\" >2.9%</td>\n",
       "                        <td id=\"T_62a35377_7100_11ea_8660_1803734f38ebrow2_col1\" class=\"data row2 col1\" >479</td>\n",
       "                        <td id=\"T_62a35377_7100_11ea_8660_1803734f38ebrow2_col2\" class=\"data row2 col2\" >$12,059,755,043</td>\n",
       "            </tr>\n",
       "            <tr>\n",
       "                        <th id=\"T_62a35377_7100_11ea_8660_1803734f38eblevel0_row3\" class=\"row_heading level0 row3\" >0.2</th>\n",
       "                        <td id=\"T_62a35377_7100_11ea_8660_1803734f38ebrow3_col0\" class=\"data row3 col0\" >3.7%</td>\n",
       "                        <td id=\"T_62a35377_7100_11ea_8660_1803734f38ebrow3_col1\" class=\"data row3 col1\" >483</td>\n",
       "                        <td id=\"T_62a35377_7100_11ea_8660_1803734f38ebrow3_col2\" class=\"data row3 col2\" >$12,266,692,172</td>\n",
       "            </tr>\n",
       "            <tr>\n",
       "                        <th id=\"T_62a35377_7100_11ea_8660_1803734f38eblevel0_row4\" class=\"row_heading level0 row4\" >0.25</th>\n",
       "                        <td id=\"T_62a35377_7100_11ea_8660_1803734f38ebrow4_col0\" class=\"data row4 col0\" >4.4%</td>\n",
       "                        <td id=\"T_62a35377_7100_11ea_8660_1803734f38ebrow4_col1\" class=\"data row4 col1\" >486</td>\n",
       "                        <td id=\"T_62a35377_7100_11ea_8660_1803734f38ebrow4_col2\" class=\"data row4 col2\" >$12,443,842,889</td>\n",
       "            </tr>\n",
       "            <tr>\n",
       "                        <th id=\"T_62a35377_7100_11ea_8660_1803734f38eblevel0_row5\" class=\"row_heading level0 row5\" >0.3</th>\n",
       "                        <td id=\"T_62a35377_7100_11ea_8660_1803734f38ebrow5_col0\" class=\"data row5 col0\" >4.9%</td>\n",
       "                        <td id=\"T_62a35377_7100_11ea_8660_1803734f38ebrow5_col1\" class=\"data row5 col1\" >490</td>\n",
       "                        <td id=\"T_62a35377_7100_11ea_8660_1803734f38ebrow5_col2\" class=\"data row5 col2\" >$12,586,488,649</td>\n",
       "            </tr>\n",
       "            <tr>\n",
       "                        <th id=\"T_62a35377_7100_11ea_8660_1803734f38eblevel0_row6\" class=\"row_heading level0 row6\" >0.35</th>\n",
       "                        <td id=\"T_62a35377_7100_11ea_8660_1803734f38ebrow6_col0\" class=\"data row6 col0\" >5.5%</td>\n",
       "                        <td id=\"T_62a35377_7100_11ea_8660_1803734f38ebrow6_col1\" class=\"data row6 col1\" >492</td>\n",
       "                        <td id=\"T_62a35377_7100_11ea_8660_1803734f38ebrow6_col2\" class=\"data row6 col2\" >$12,737,914,663</td>\n",
       "            </tr>\n",
       "            <tr>\n",
       "                        <th id=\"T_62a35377_7100_11ea_8660_1803734f38eblevel0_row7\" class=\"row_heading level0 row7\" >0.4</th>\n",
       "                        <td id=\"T_62a35377_7100_11ea_8660_1803734f38ebrow7_col0\" class=\"data row7 col0\" >6.0%</td>\n",
       "                        <td id=\"T_62a35377_7100_11ea_8660_1803734f38ebrow7_col1\" class=\"data row7 col1\" >495</td>\n",
       "                        <td id=\"T_62a35377_7100_11ea_8660_1803734f38ebrow7_col2\" class=\"data row7 col2\" >$12,887,538,663</td>\n",
       "            </tr>\n",
       "            <tr>\n",
       "                        <th id=\"T_62a35377_7100_11ea_8660_1803734f38eblevel0_row8\" class=\"row_heading level0 row8\" >0.45</th>\n",
       "                        <td id=\"T_62a35377_7100_11ea_8660_1803734f38ebrow8_col0\" class=\"data row8 col0\" >6.6%</td>\n",
       "                        <td id=\"T_62a35377_7100_11ea_8660_1803734f38ebrow8_col1\" class=\"data row8 col1\" >498</td>\n",
       "                        <td id=\"T_62a35377_7100_11ea_8660_1803734f38ebrow8_col2\" class=\"data row8 col2\" >$13,041,652,157</td>\n",
       "            </tr>\n",
       "            <tr>\n",
       "                        <th id=\"T_62a35377_7100_11ea_8660_1803734f38eblevel0_row9\" class=\"row_heading level0 row9\" >0.5</th>\n",
       "                        <td id=\"T_62a35377_7100_11ea_8660_1803734f38ebrow9_col0\" class=\"data row9 col0\" >7.1%</td>\n",
       "                        <td id=\"T_62a35377_7100_11ea_8660_1803734f38ebrow9_col1\" class=\"data row9 col1\" >500</td>\n",
       "                        <td id=\"T_62a35377_7100_11ea_8660_1803734f38ebrow9_col2\" class=\"data row9 col2\" >$13,187,413,843</td>\n",
       "            </tr>\n",
       "            <tr>\n",
       "                        <th id=\"T_62a35377_7100_11ea_8660_1803734f38eblevel0_row10\" class=\"row_heading level0 row10\" >0.55</th>\n",
       "                        <td id=\"T_62a35377_7100_11ea_8660_1803734f38ebrow10_col0\" class=\"data row10 col0\" >7.6%</td>\n",
       "                        <td id=\"T_62a35377_7100_11ea_8660_1803734f38ebrow10_col1\" class=\"data row10 col1\" >503</td>\n",
       "                        <td id=\"T_62a35377_7100_11ea_8660_1803734f38ebrow10_col2\" class=\"data row10 col2\" >$13,332,247,283</td>\n",
       "            </tr>\n",
       "            <tr>\n",
       "                        <th id=\"T_62a35377_7100_11ea_8660_1803734f38eblevel0_row11\" class=\"row_heading level0 row11\" >0.6</th>\n",
       "                        <td id=\"T_62a35377_7100_11ea_8660_1803734f38ebrow11_col0\" class=\"data row11 col0\" >8.1%</td>\n",
       "                        <td id=\"T_62a35377_7100_11ea_8660_1803734f38ebrow11_col1\" class=\"data row11 col1\" >505</td>\n",
       "                        <td id=\"T_62a35377_7100_11ea_8660_1803734f38ebrow11_col2\" class=\"data row11 col2\" >$13,478,989,614</td>\n",
       "            </tr>\n",
       "            <tr>\n",
       "                        <th id=\"T_62a35377_7100_11ea_8660_1803734f38eblevel0_row12\" class=\"row_heading level0 row12\" >0.65</th>\n",
       "                        <td id=\"T_62a35377_7100_11ea_8660_1803734f38ebrow12_col0\" class=\"data row12 col0\" >8.5%</td>\n",
       "                        <td id=\"T_62a35377_7100_11ea_8660_1803734f38ebrow12_col1\" class=\"data row12 col1\" >508</td>\n",
       "                        <td id=\"T_62a35377_7100_11ea_8660_1803734f38ebrow12_col2\" class=\"data row12 col2\" >$13,644,057,299</td>\n",
       "            </tr>\n",
       "            <tr>\n",
       "                        <th id=\"T_62a35377_7100_11ea_8660_1803734f38eblevel0_row13\" class=\"row_heading level0 row13\" >0.7</th>\n",
       "                        <td id=\"T_62a35377_7100_11ea_8660_1803734f38ebrow13_col0\" class=\"data row13 col0\" >9.1%</td>\n",
       "                        <td id=\"T_62a35377_7100_11ea_8660_1803734f38ebrow13_col1\" class=\"data row13 col1\" >511</td>\n",
       "                        <td id=\"T_62a35377_7100_11ea_8660_1803734f38ebrow13_col2\" class=\"data row13 col2\" >$13,811,604,971</td>\n",
       "            </tr>\n",
       "            <tr>\n",
       "                        <th id=\"T_62a35377_7100_11ea_8660_1803734f38eblevel0_row14\" class=\"row_heading level0 row14\" >0.75</th>\n",
       "                        <td id=\"T_62a35377_7100_11ea_8660_1803734f38ebrow14_col0\" class=\"data row14 col0\" >9.7%</td>\n",
       "                        <td id=\"T_62a35377_7100_11ea_8660_1803734f38ebrow14_col1\" class=\"data row14 col1\" >514</td>\n",
       "                        <td id=\"T_62a35377_7100_11ea_8660_1803734f38ebrow14_col2\" class=\"data row14 col2\" >$13,981,165,895</td>\n",
       "            </tr>\n",
       "            <tr>\n",
       "                        <th id=\"T_62a35377_7100_11ea_8660_1803734f38eblevel0_row15\" class=\"row_heading level0 row15\" >0.8</th>\n",
       "                        <td id=\"T_62a35377_7100_11ea_8660_1803734f38ebrow15_col0\" class=\"data row15 col0\" >10.4%</td>\n",
       "                        <td id=\"T_62a35377_7100_11ea_8660_1803734f38ebrow15_col1\" class=\"data row15 col1\" >517</td>\n",
       "                        <td id=\"T_62a35377_7100_11ea_8660_1803734f38ebrow15_col2\" class=\"data row15 col2\" >$14,199,096,740</td>\n",
       "            </tr>\n",
       "            <tr>\n",
       "                        <th id=\"T_62a35377_7100_11ea_8660_1803734f38eblevel0_row16\" class=\"row_heading level0 row16\" >0.85</th>\n",
       "                        <td id=\"T_62a35377_7100_11ea_8660_1803734f38ebrow16_col0\" class=\"data row16 col0\" >11.2%</td>\n",
       "                        <td id=\"T_62a35377_7100_11ea_8660_1803734f38ebrow16_col1\" class=\"data row16 col1\" >521</td>\n",
       "                        <td id=\"T_62a35377_7100_11ea_8660_1803734f38ebrow16_col2\" class=\"data row16 col2\" >$14,452,996,498</td>\n",
       "            </tr>\n",
       "            <tr>\n",
       "                        <th id=\"T_62a35377_7100_11ea_8660_1803734f38eblevel0_row17\" class=\"row_heading level0 row17\" >0.9</th>\n",
       "                        <td id=\"T_62a35377_7100_11ea_8660_1803734f38ebrow17_col0\" class=\"data row17 col0\" >12.2%</td>\n",
       "                        <td id=\"T_62a35377_7100_11ea_8660_1803734f38ebrow17_col1\" class=\"data row17 col1\" >525</td>\n",
       "                        <td id=\"T_62a35377_7100_11ea_8660_1803734f38ebrow17_col2\" class=\"data row17 col2\" >$14,766,881,499</td>\n",
       "            </tr>\n",
       "            <tr>\n",
       "                        <th id=\"T_62a35377_7100_11ea_8660_1803734f38eblevel0_row18\" class=\"row_heading level0 row18\" >0.95</th>\n",
       "                        <td id=\"T_62a35377_7100_11ea_8660_1803734f38ebrow18_col0\" class=\"data row18 col0\" >13.6%</td>\n",
       "                        <td id=\"T_62a35377_7100_11ea_8660_1803734f38ebrow18_col1\" class=\"data row18 col1\" >533</td>\n",
       "                        <td id=\"T_62a35377_7100_11ea_8660_1803734f38ebrow18_col2\" class=\"data row18 col2\" >$15,280,242,336</td>\n",
       "            </tr>\n",
       "    </tbody></table>"
      ],
      "text/plain": [
       "<pandas.io.formats.style.Styler at 0x7f515c962e48>"
      ]
     },
     "metadata": {},
     "output_type": "display_data"
    },
    {
     "name": "stdout",
     "output_type": "stream",
     "text": [
      "\n",
      "The expected NPV is $13,250,436,079 with $1,171,203,537 standard deviation.\n",
      "\n",
      "The chance of a positive NPV is 100.0% and the chance of a negative NPV is 0.0%\n",
      "\n",
      "Regression Results\n",
      "Selling one additional unit leads to a $26,665,584 change in NPV\n",
      "A one percent increase in interest rate leads to a $-262,695,786 change in NPV\n",
      "A one standard deviation increase in the number of units leads to a $536,646,509 change in NPV\n",
      "A one standard deviation increase in the interest rate leads to a $-10,456,764 change in NPV\n"
     ]
    }
   ],
   "source": [
    "def all_plane_simulations(data):\n",
    "    \"\"\"\n",
    "    Runs all the Monte Carlo simulations for each of the planes in the passed data.\n",
    "    \n",
    "    Visualizes and analyzes the simulations for each plane for the full presentation\n",
    "    of the analysis.\n",
    "    \"\"\"\n",
    "    for plane in data.planes:\n",
    "        df = plane_simulations(model_data, plane)\n",
    "        simulation_summary(df, plane)\n",
    "        \n",
    "all_plane_simulations(model_data)"
   ]
  },
  {
   "cell_type": "markdown",
   "metadata": {},
   "source": [
    "# Observations"
   ]
  },
  {
   "cell_type": "markdown",
   "metadata": {},
   "source": [
    "We can see that the expected NPV increases with the size of the plane, but so does the standard deviation of the NPV and the probability of getting a negative NPV. In other words, the larger planes are riskier but also offer higher returns. The ultimate choice of plane will depend on the risk tolerance of the manufacturer."
   ]
  },
  {
   "cell_type": "markdown",
   "metadata": {},
   "source": [
    "The distribution of the super size plane looks highly skewed to the left, because there is a reasonable chance of not selling any planes. Once you are not selling any planes, the NPV doesn't change much, just a bit due to the interest rate."
   ]
  },
  {
   "cell_type": "markdown",
   "metadata": {},
   "source": [
    "The scatter plot comparing NPV to interest rate looks odd for the super size plane because so many of the NPVs are negative. Using a lower interest rate will increase the NPV if it's negative and decrease it if it's positive."
   ]
  },
  {
   "cell_type": "markdown",
   "metadata": {},
   "source": [
    "Across the board, the number of units sold is a much more important factor than the interest rate. This makes sense because everything is happening in two years. If plane sales were spread across 10 or 15 years, we would see a larger impact of the interest rate."
   ]
  }
 ],
 "metadata": {
  "kernelspec": {
   "display_name": "Python 3",
   "language": "python",
   "name": "python3"
  },
  "language_info": {
   "codemirror_mode": {
    "name": "ipython",
    "version": 3
   },
   "file_extension": ".py",
   "mimetype": "text/x-python",
   "name": "python",
   "nbconvert_exporter": "python",
   "pygments_lexer": "ipython3",
   "version": "3.7.3"
  }
 },
 "nbformat": 4,
 "nbformat_minor": 4
}
