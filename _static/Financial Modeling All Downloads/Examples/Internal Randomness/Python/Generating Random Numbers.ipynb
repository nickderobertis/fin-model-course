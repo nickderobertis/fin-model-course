{
 "cells": [
  {
   "cell_type": "markdown",
   "metadata": {},
   "source": [
    "# Generating Random Numbers\n",
    "\n",
    "This notebook focuses on how we can generate both continuous and discrete random variables in Python.\n",
    "\n",
    "We have the built-in module `random` which helps with generating random numbers in Python, whether continous or discrete. We will also look at `numpy.random` which allows generating more than one random number at once with a single command.\n",
    "\n",
    "\n",
    "## Continuous\n",
    "\n",
    "Continous random variables are those which can take on any value in some range. The probability distribution is defined by a curve which describes the probability of any given value in the range, e.g. the normal distribution. We will focus on the normal distribution because as mentioned in the lecture, it fits well with most of the inputs we'll be modeling.\n",
    "\n",
    "### A Single Continuous Random Number\n",
    "\n",
    "Let's use the `random` built-in module to generate numbers from a normal distribution. Every normal distribution has a mean and standard deviation. So we must decide which mean and standard deviation are appropriate for our variable. \n",
    "\n",
    "Let's look at the case of an investment portfolio return. A typical portfolio return may be in the range of 2-10%, but can go outside that sometimes. So let's pick the midpoint of that range, 6%, as the mean. For the standard deviation, you can think of a single standard deviation as a typical deviation, two standard deviations as occurring occasionally, three standard deviations occurring rarely. So if we use 3% as the standard deviation, that should fit the return distribution well.\n",
    "\n",
    "We have the `random.normalvariate` function to pull a random number from a normal distribution with a given mean and standard deviation."
   ]
  },
  {
   "cell_type": "code",
   "execution_count": 42,
   "metadata": {},
   "outputs": [
    {
     "data": {
      "text/plain": [
       "0.05747182189930102"
      ]
     },
     "execution_count": 42,
     "metadata": {},
     "output_type": "execute_result"
    }
   ],
   "source": [
    "import random\n",
    "\n",
    "mean = 0.06\n",
    "std = 0.03\n",
    "\n",
    "random.normalvariate(mean, std)"
   ]
  },
  {
   "cell_type": "markdown",
   "metadata": {},
   "source": [
    "We can see that the above cell gives us a single random portfolio return. If you run it multiple times, you will see the return changing each time, in the range that we want."
   ]
  },
  {
   "cell_type": "markdown",
   "metadata": {},
   "source": [
    "## Multiple Continuous Random Numbers\n",
    "\n",
    "Of course you can set up a loop or list comprehension to get multiple random numbers using `random.normalvariate`. But we can do it more directly with \n",
    "`numpy.random.normal`.\n",
    "\n",
    "We can see that passing it the same arguments as `random.normalvariate` produces a single random number."
   ]
  },
  {
   "cell_type": "code",
   "execution_count": 49,
   "metadata": {},
   "outputs": [
    {
     "data": {
      "text/plain": [
       "0.07792419607011702"
      ]
     },
     "execution_count": 49,
     "metadata": {},
     "output_type": "execute_result"
    }
   ],
   "source": [
    "import numpy as np\n",
    "\n",
    "np.random.normal(mean, std)"
   ]
  },
  {
   "cell_type": "markdown",
   "metadata": {},
   "source": [
    "But if we pass it a size, then we can get multiple. The output is a `numpy` array, which we have not covered, but you can work with them similarly to lists most of the time."
   ]
  },
  {
   "cell_type": "code",
   "execution_count": 53,
   "metadata": {},
   "outputs": [
    {
     "data": {
      "text/plain": [
       "array([0.02216381, 0.06113887, 0.06945086, 0.05225531, 0.08183498])"
      ]
     },
     "execution_count": 53,
     "metadata": {},
     "output_type": "execute_result"
    }
   ],
   "source": [
    "random_arr = np.random.normal(mean, std, 5)\n",
    "random_arr"
   ]
  },
  {
   "cell_type": "code",
   "execution_count": 54,
   "metadata": {},
   "outputs": [
    {
     "name": "stdout",
     "output_type": "stream",
     "text": [
      "0.022163813853263756\n",
      "0.06113887475095184\n",
      "0.0694508609776023\n",
      "0.05225530571248366\n",
      "0.081834976297928\n"
     ]
    }
   ],
   "source": [
    "for num in random_arr:\n",
    "    print(num)"
   ]
  },
  {
   "cell_type": "code",
   "execution_count": 55,
   "metadata": {},
   "outputs": [
    {
     "data": {
      "text/plain": [
       "0.05225530571248366"
      ]
     },
     "execution_count": 55,
     "metadata": {},
     "output_type": "execute_result"
    }
   ],
   "source": [
    "random_arr[3]"
   ]
  },
  {
   "cell_type": "markdown",
   "metadata": {},
   "source": [
    "You can also convert it back to a list by passing it to `list` if you desire."
   ]
  },
  {
   "cell_type": "code",
   "execution_count": 56,
   "metadata": {},
   "outputs": [
    {
     "data": {
      "text/plain": [
       "[0.022163813853263756,\n",
       " 0.06113887475095184,\n",
       " 0.0694508609776023,\n",
       " 0.05225530571248366,\n",
       " 0.081834976297928]"
      ]
     },
     "execution_count": 56,
     "metadata": {},
     "output_type": "execute_result"
    }
   ],
   "source": [
    "list(random_arr)"
   ]
  },
  {
   "cell_type": "markdown",
   "metadata": {},
   "source": [
    "So then the one-liner to get a list of random numbers would be:"
   ]
  },
  {
   "cell_type": "code",
   "execution_count": 57,
   "metadata": {},
   "outputs": [
    {
     "data": {
      "text/plain": [
       "[0.026557082933670186,\n",
       " 0.0727833692975772,\n",
       " 0.0013128752610761588,\n",
       " 0.11124963180515264,\n",
       " 0.05493162067976261]"
      ]
     },
     "execution_count": 57,
     "metadata": {},
     "output_type": "execute_result"
    }
   ],
   "source": [
    "random_list = list(np.random.normal(mean, std, 5))\n",
    "random_list"
   ]
  },
  {
   "cell_type": "code",
   "execution_count": 58,
   "metadata": {},
   "outputs": [
    {
     "data": {
      "text/plain": [
       "list"
      ]
     },
     "execution_count": 58,
     "metadata": {},
     "output_type": "execute_result"
    }
   ],
   "source": [
    "type(random_list)"
   ]
  },
  {
   "cell_type": "markdown",
   "metadata": {},
   "source": [
    "## Discrete\n",
    "\n",
    "Discrete random variables are those which can only take on a fixed number of values. Each one of those values is associated with a probability of the variable being that value.\n",
    "\n",
    "Let's still look at drawing the state of the economy based on the following probability distribution:\n",
    "\n",
    "| Economic Case | Probability |\n",
    "| --- | --- | \n",
    "| Recession | 20% | \n",
    "| Normal | 50% | \n",
    "| Expansion | 30% | \n",
    "\n",
    "### A Single Discrete Random Number\n",
    "\n",
    "We can use the built-in function `random.choices` to pick a random value for a discrete variable. You first pass the possible values to pick from, then pass the probabilities of them."
   ]
  },
  {
   "cell_type": "code",
   "execution_count": 77,
   "metadata": {},
   "outputs": [
    {
     "data": {
      "text/plain": [
       "['Normal']"
      ]
     },
     "execution_count": 77,
     "metadata": {},
     "output_type": "execute_result"
    }
   ],
   "source": [
    "cases = ['Recession', 'Normal', 'Expansion']\n",
    "case_probabilities = [0.2, 0.5, 0.3]\n",
    "\n",
    "random.choices(cases, case_probabilities)"
   ]
  },
  {
   "cell_type": "markdown",
   "metadata": {},
   "source": [
    "If you run that cell above multiple times, you will see a different random case coming up each time, with normal being the most often. But once thing you might notice is that we have the result coming within a list. This is because the `random.choices` function is natively set up to return multiple values at once. So if you want just a single number out of it, you can index it with `[0]` to get the first item out of the resulting list."
   ]
  },
  {
   "cell_type": "code",
   "execution_count": 80,
   "metadata": {},
   "outputs": [
    {
     "data": {
      "text/plain": [
       "'Normal'"
      ]
     },
     "execution_count": 80,
     "metadata": {},
     "output_type": "execute_result"
    }
   ],
   "source": [
    "random.choices(cases, case_probabilities)[0]"
   ]
  },
  {
   "cell_type": "markdown",
   "metadata": {},
   "source": [
    "Now we can see that we get the result just as a single value and not a list containing a single value."
   ]
  },
  {
   "cell_type": "markdown",
   "metadata": {},
   "source": [
    "### Multiple Discrete Random Numbers\n",
    "\n",
    "We can still use the same function, all we need to do is pass `k=` with the number we want."
   ]
  },
  {
   "cell_type": "code",
   "execution_count": 81,
   "metadata": {},
   "outputs": [
    {
     "data": {
      "text/plain": [
       "['Expansion', 'Recession', 'Expansion', 'Expansion', 'Recession']"
      ]
     },
     "execution_count": 81,
     "metadata": {},
     "output_type": "execute_result"
    }
   ],
   "source": [
    "random.choices(cases, case_probabilities, k=5)"
   ]
  },
  {
   "cell_type": "markdown",
   "metadata": {},
   "source": [
    "This is already coming as a list so no conversion to list is necessary, as it was with continous variables and `numpy.random.normal`."
   ]
  }
 ],
 "metadata": {
  "kernelspec": {
   "display_name": "Python 3",
   "language": "python",
   "name": "python3"
  },
  "language_info": {
   "codemirror_mode": {
    "name": "ipython",
    "version": 3
   },
   "file_extension": ".py",
   "mimetype": "text/x-python",
   "name": "python",
   "nbconvert_exporter": "python",
   "pygments_lexer": "ipython3",
   "version": "3.7.3"
  }
 },
 "nbformat": 4,
 "nbformat_minor": 4
}
