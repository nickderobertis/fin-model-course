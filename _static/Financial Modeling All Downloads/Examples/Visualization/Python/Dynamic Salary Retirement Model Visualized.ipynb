{
 "cells": [
  {
   "cell_type": "markdown",
   "metadata": {},
   "source": [
    "# Retirement Model\n",
    "\n",
    "This is a retirement model which models salary with both a constant growth rate for cost of living raises as well as regular salary increases for promotions. The model is broken up into the following sections:\n",
    "\n",
    "- [**Setup**](#Setup): Runs any imports and other setup\n",
    "- [**Inputs**](#Inputs): Defines the inputs for the model\n",
    "- [**Salaries**](#Salaries): Determining the salary in each year, considering cost of living raises and promotions\n",
    "- [**Wealths**](#Wealths): Determining the wealth in each year, considering a constant savings rate and investment rate\n",
    "- [**Retirement**](#Retirement): Determines years to retirement from the wealths over time, the main output from the model.\n",
    "- [**Results Summary**](#Results-Summary): Summarize the results with some visualizations"
   ]
  },
  {
   "cell_type": "markdown",
   "metadata": {},
   "source": [
    "## Setup\n",
    "\n",
    "Setup for the later calculations are here. The necessary packages are imported."
   ]
  },
  {
   "cell_type": "code",
   "execution_count": 1,
   "metadata": {},
   "outputs": [],
   "source": [
    "from dataclasses import dataclass\n",
    "import pandas as pd\n",
    "%matplotlib inline"
   ]
  },
  {
   "cell_type": "markdown",
   "metadata": {},
   "source": [
    "## Inputs\n",
    "\n",
    "All of the inputs for the model are defined here. A class is constructed to manage the data, and an instance of the class containing the default inputs is created."
   ]
  },
  {
   "cell_type": "code",
   "execution_count": 2,
   "metadata": {},
   "outputs": [
    {
     "data": {
      "text/plain": [
       "ModelInputs(starting_salary=60000, promos_every_n_years=5, cost_of_living_raise=0.02, promo_raise=0.15, savings_rate=0.25, interest_rate=0.05, desired_cash=1500000)"
      ]
     },
     "execution_count": 2,
     "metadata": {},
     "output_type": "execute_result"
    }
   ],
   "source": [
    "@dataclass\n",
    "class ModelInputs:\n",
    "    starting_salary: int = 60000\n",
    "    promos_every_n_years: int = 5\n",
    "    cost_of_living_raise: float = 0.02\n",
    "    promo_raise: float = 0.15\n",
    "    savings_rate: float = 0.25\n",
    "    interest_rate: float = 0.05\n",
    "    desired_cash: int = 1500000\n",
    "        \n",
    "model_data = ModelInputs()\n",
    "model_data"
   ]
  },
  {
   "cell_type": "markdown",
   "metadata": {},
   "source": [
    "## Salaries\n",
    "\n",
    "Here the salary for each year is calculated. We assume that the salary grows at a constant rate each year for cost of living raises, and then also every number of years, the salary increases by a further percentage due to a promotion or switching jobs. Based on this assumption, the salary would evolve over time with the following equation:\n",
    "\n",
    "$$s_t = s_0 (1 + r_{cl})^n (1 + r_p)^p$$\n",
    "\n",
    "Where:\n",
    "- $s_t$: Salary at year $t$\n",
    "- $s_0$: Starting salary (year 0)\n",
    "- $r_{cl}$: Annual cost of living raise\n",
    "- $r_p$: Promotion raise\n",
    "- $p$: Number of promotions\n",
    "\n",
    "And in Python format:"
   ]
  },
  {
   "cell_type": "code",
   "execution_count": 3,
   "metadata": {},
   "outputs": [],
   "source": [
    "def salary_at_year(data: ModelInputs, year):\n",
    "    \"\"\"\n",
    "    Gets the salary at a given year from the start of the model based on cost of living raises and regular promotions.\n",
    "    \"\"\"\n",
    "    # Every n years we have a promotion, so dividing the years and taking out the decimals gets the number of promotions\n",
    "    num_promos = int(year / data.promos_every_n_years)\n",
    "    \n",
    "    # This is the formula above implemented in Python\n",
    "    salary_t = data.starting_salary * (1 + data.cost_of_living_raise) ** year * (1 + data.promo_raise) ** num_promos\n",
    "    return salary_t"
   ]
  },
  {
   "cell_type": "markdown",
   "metadata": {},
   "source": [
    "That function will get the salary at a given year, so to get all the salaries we just run it on each year. But we will not know how many years to run as we should run it until the individual is able to retire. So we are just showing the first few salaries for now and will later use this function in the [Wealths](#Wealths) section of the model."
   ]
  },
  {
   "cell_type": "code",
   "execution_count": 4,
   "metadata": {},
   "outputs": [
    {
     "name": "stdout",
     "output_type": "stream",
     "text": [
      "The salary at year 1 is $61,200.\n",
      "The salary at year 2 is $62,424.\n",
      "The salary at year 3 is $63,672.\n",
      "The salary at year 4 is $64,946.\n",
      "The salary at year 5 is $76,182.\n",
      "The salary at year 6 is $77,705.\n"
     ]
    }
   ],
   "source": [
    "for i in range(6):\n",
    "    year = i + 1\n",
    "    salary = salary_at_year(model_data, year)\n",
    "    print(f'The salary at year {year} is ${salary:,.0f}.')"
   ]
  },
  {
   "cell_type": "markdown",
   "metadata": {},
   "source": [
    "As expected, with the default inputs, the salary is increasing at 2% per year. Then at year 5, there is a promotion so there is a larger increase in salary."
   ]
  },
  {
   "cell_type": "markdown",
   "metadata": {},
   "source": [
    "## Wealths\n",
    "\n",
    "The wealths portion of the model is concerned with applying the savings rate to the earned salary to calculate the cash saved, accumulating the cash saved over time, and applying the investment rate to the accumulated wealth.\n",
    "\n",
    "To calculate cash saved, it is simply:\n",
    "\n",
    "$$c_t = s_t * r_s$$\n",
    "\n",
    "Where:\n",
    "- $c_t$: Cash saved during year $t$\n",
    "- $r_s$: Savings rate"
   ]
  },
  {
   "cell_type": "code",
   "execution_count": 5,
   "metadata": {},
   "outputs": [],
   "source": [
    "def cash_saved_during_year(data: ModelInputs, year):\n",
    "    \"\"\"\n",
    "    Calculated the cash saved within a given year, by first calculating the salary at that year then applying the \n",
    "    savings rate.\n",
    "    \"\"\"\n",
    "    salary = salary_at_year(data, year)\n",
    "    cash_saved = salary * data.savings_rate\n",
    "    return cash_saved"
   ]
  },
  {
   "cell_type": "markdown",
   "metadata": {},
   "source": [
    "To get the wealth at each year, it is just applying the investment return to last year's wealth, then adding this year's cash saved:\n",
    "\n",
    "$$w_t = w_{t-1} (1 + r_i) + c_t$$\n",
    "Where:\n",
    "- $w_t$: Wealth at year $t$\n",
    "- $r_i$: Investment rate"
   ]
  },
  {
   "cell_type": "code",
   "execution_count": 6,
   "metadata": {},
   "outputs": [],
   "source": [
    "def wealth_at_year(data: ModelInputs, year, prior_wealth):\n",
    "    \"\"\"\n",
    "    Calculate the accumulated wealth for a given year, based on previous wealth, the investment rate,\n",
    "    and cash saved during the year.\n",
    "    \"\"\"\n",
    "    cash_saved = cash_saved_during_year(data, year)\n",
    "    wealth = prior_wealth * (1 + data.interest_rate) + cash_saved\n",
    "    return wealth"
   ]
  },
  {
   "cell_type": "markdown",
   "metadata": {},
   "source": [
    "Again, just like in the [Salaries](#Salaries) section, we can now get the output for each year, but we don't know ultimately how many years we will have to run it. That will be determined in the [Retirement](#Retirement) section. So for now, just show the first few years of wealth accumulation:"
   ]
  },
  {
   "cell_type": "code",
   "execution_count": 7,
   "metadata": {},
   "outputs": [
    {
     "name": "stdout",
     "output_type": "stream",
     "text": [
      "The wealth at year 1 is $15,300.\n",
      "The wealth at year 2 is $31,671.\n",
      "The wealth at year 3 is $49,173.\n",
      "The wealth at year 4 is $67,868.\n",
      "The wealth at year 5 is $90,307.\n",
      "The wealth at year 6 is $114,248.\n"
     ]
    }
   ],
   "source": [
    "prior_wealth = 0  # starting with no cash saved\n",
    "for i in range(6):\n",
    "    year = i + 1\n",
    "    wealth = wealth_at_year(model_data, year, prior_wealth)\n",
    "    print(f'The wealth at year {year} is ${wealth:,.0f}.')\n",
    "    \n",
    "    # Set next year's prior wealth to this year's wealth\n",
    "    prior_wealth = wealth"
   ]
  },
  {
   "cell_type": "markdown",
   "metadata": {},
   "source": [
    "With default inputs, the wealth is going up by approximately 25% of the salary each year, plus a bit more for investment. Then in year 6 we see a substantially larger increase because the salary is substantially larger due to the promotion. So everything is looking correct."
   ]
  },
  {
   "cell_type": "markdown",
   "metadata": {},
   "source": [
    "## Retirement\n",
    "\n",
    "This section of the model puts everything together to produce the final output of years to retirement. It uses the logic to get the wealths at each year, which in turn uses the logic to the get salary at each year. The wealth at each year is tracked over time until it hits the desired cash. Once the wealth hits the desired cash, the individual is able to retire so that year is returned as the years to retirement."
   ]
  },
  {
   "cell_type": "code",
   "execution_count": 8,
   "metadata": {},
   "outputs": [],
   "source": [
    "def years_to_retirement(data: ModelInputs):\n",
    "    \n",
    "    # starting with no cash saved\n",
    "    prior_wealth = 0  \n",
    "    wealth = 0\n",
    "    \n",
    "    year = 0  # will become 1 on first loop\n",
    "    \n",
    "    print('Wealths over time:') # \\n makes a blank line in the output.\n",
    "    while wealth < data.desired_cash:\n",
    "        year = year + 1\n",
    "        wealth = wealth_at_year(model_data, year, prior_wealth)\n",
    "        print(f'The wealth at year {year} is ${wealth:,.0f}.')\n",
    "\n",
    "        # Set next year's prior wealth to this year's wealth\n",
    "        prior_wealth = wealth\n",
    "        \n",
    "    # Now we have exited the while loop, so wealth must be >= desired_cash. Whatever last year was set\n",
    "    # is the years to retirement.\n",
    "    print(f'\\nRetirement:\\nIt will take {year} years to retire.')  # \\n makes a blank line in the output.\n",
    "    return year"
   ]
  },
  {
   "cell_type": "markdown",
   "metadata": {},
   "source": [
    "With the default inputs:"
   ]
  },
  {
   "cell_type": "code",
   "execution_count": 9,
   "metadata": {},
   "outputs": [
    {
     "name": "stdout",
     "output_type": "stream",
     "text": [
      "Wealths over time:\n",
      "The wealth at year 1 is $15,300.\n",
      "The wealth at year 2 is $31,671.\n",
      "The wealth at year 3 is $49,173.\n",
      "The wealth at year 4 is $67,868.\n",
      "The wealth at year 5 is $90,307.\n",
      "The wealth at year 6 is $114,248.\n",
      "The wealth at year 7 is $139,775.\n",
      "The wealth at year 8 is $166,975.\n",
      "The wealth at year 9 is $195,939.\n",
      "The wealth at year 10 is $229,918.\n",
      "The wealth at year 11 is $266,080.\n",
      "The wealth at year 12 is $304,542.\n",
      "The wealth at year 13 is $345,431.\n",
      "The wealth at year 14 is $388,878.\n",
      "The wealth at year 15 is $439,025.\n",
      "The wealth at year 16 is $492,294.\n",
      "The wealth at year 17 is $548,853.\n",
      "The wealth at year 18 is $608,878.\n",
      "The wealth at year 19 is $672,557.\n",
      "The wealth at year 20 is $745,168.\n",
      "The wealth at year 21 is $822,190.\n",
      "The wealth at year 22 is $903,859.\n",
      "The wealth at year 23 is $990,422.\n",
      "The wealth at year 24 is $1,082,140.\n",
      "The wealth at year 25 is $1,185,745.\n",
      "The wealth at year 26 is $1,295,520.\n",
      "The wealth at year 27 is $1,411,793.\n",
      "The wealth at year 28 is $1,534,910.\n",
      "\n",
      "Retirement:\n",
      "It will take 28 years to retire.\n"
     ]
    }
   ],
   "source": [
    "years = years_to_retirement(model_data)"
   ]
  },
  {
   "cell_type": "markdown",
   "metadata": {},
   "source": [
    "# Results Summary\n",
    "\n",
    "## Put Results in a Table\n",
    "\n",
    "Now I will visualize the salaries and wealths over time. First create a function which runs the model to put these results in a DataFrame."
   ]
  },
  {
   "cell_type": "code",
   "execution_count": 10,
   "metadata": {},
   "outputs": [],
   "source": [
    "def get_salaries_wealths_df(data):\n",
    "    \"\"\"\n",
    "    Runs the retirement model, collecting salary and wealth information year by year and storing\n",
    "    into a DataFrame for further analysis.\n",
    "    \"\"\"\n",
    "    # starting with no cash saved\n",
    "    prior_wealth = 0  \n",
    "    wealth = 0\n",
    "    \n",
    "    year = 0  # will become 1 on first loop\n",
    "    \n",
    "    df_data_tups = []\n",
    "    while wealth < data.desired_cash:\n",
    "        year = year + 1\n",
    "        salary = salary_at_year(data, year)\n",
    "        wealth = wealth_at_year(model_data, year, prior_wealth)\n",
    "\n",
    "        # Set next year's prior wealth to this year's wealth\n",
    "        prior_wealth = wealth\n",
    "        \n",
    "        # Save the results in a tuple for later building the DataFrame\n",
    "        df_data_tups.append((year, salary, wealth))\n",
    "        \n",
    "    # Now we have exited the while loop, so wealth must be >= desired_cash\n",
    "    \n",
    "    # Now create the DataFrame\n",
    "    df = pd.DataFrame(df_data_tups, columns=['Year', 'Salary', 'Wealth'])\n",
    "    \n",
    "    return df"
   ]
  },
  {
   "cell_type": "markdown",
   "metadata": {},
   "source": [
    "Also set up a function which formats the `DataFrame` for display."
   ]
  },
  {
   "cell_type": "code",
   "execution_count": 11,
   "metadata": {},
   "outputs": [],
   "source": [
    "def styled_salaries_wealths(df):\n",
    "    return df.style.format({\n",
    "        'Salary': '${:,.2f}',\n",
    "        'Wealth': '${:,.2f}'\n",
    "    })"
   ]
  },
  {
   "cell_type": "markdown",
   "metadata": {},
   "source": [
    "Now call the function to save the results into the `DataFrame`."
   ]
  },
  {
   "cell_type": "code",
   "execution_count": 12,
   "metadata": {},
   "outputs": [
    {
     "data": {
      "text/html": [
       "<style  type=\"text/css\" >\n",
       "</style><table id=\"T_ffd8e19a_53c5_11ea_a025_11c927e671d6\" ><thead>    <tr>        <th class=\"blank level0\" ></th>        <th class=\"col_heading level0 col0\" >Year</th>        <th class=\"col_heading level0 col1\" >Salary</th>        <th class=\"col_heading level0 col2\" >Wealth</th>    </tr></thead><tbody>\n",
       "                <tr>\n",
       "                        <th id=\"T_ffd8e19a_53c5_11ea_a025_11c927e671d6level0_row0\" class=\"row_heading level0 row0\" >0</th>\n",
       "                        <td id=\"T_ffd8e19a_53c5_11ea_a025_11c927e671d6row0_col0\" class=\"data row0 col0\" >1</td>\n",
       "                        <td id=\"T_ffd8e19a_53c5_11ea_a025_11c927e671d6row0_col1\" class=\"data row0 col1\" >$61,200.00</td>\n",
       "                        <td id=\"T_ffd8e19a_53c5_11ea_a025_11c927e671d6row0_col2\" class=\"data row0 col2\" >$15,300.00</td>\n",
       "            </tr>\n",
       "            <tr>\n",
       "                        <th id=\"T_ffd8e19a_53c5_11ea_a025_11c927e671d6level0_row1\" class=\"row_heading level0 row1\" >1</th>\n",
       "                        <td id=\"T_ffd8e19a_53c5_11ea_a025_11c927e671d6row1_col0\" class=\"data row1 col0\" >2</td>\n",
       "                        <td id=\"T_ffd8e19a_53c5_11ea_a025_11c927e671d6row1_col1\" class=\"data row1 col1\" >$62,424.00</td>\n",
       "                        <td id=\"T_ffd8e19a_53c5_11ea_a025_11c927e671d6row1_col2\" class=\"data row1 col2\" >$31,671.00</td>\n",
       "            </tr>\n",
       "            <tr>\n",
       "                        <th id=\"T_ffd8e19a_53c5_11ea_a025_11c927e671d6level0_row2\" class=\"row_heading level0 row2\" >2</th>\n",
       "                        <td id=\"T_ffd8e19a_53c5_11ea_a025_11c927e671d6row2_col0\" class=\"data row2 col0\" >3</td>\n",
       "                        <td id=\"T_ffd8e19a_53c5_11ea_a025_11c927e671d6row2_col1\" class=\"data row2 col1\" >$63,672.48</td>\n",
       "                        <td id=\"T_ffd8e19a_53c5_11ea_a025_11c927e671d6row2_col2\" class=\"data row2 col2\" >$49,172.67</td>\n",
       "            </tr>\n",
       "            <tr>\n",
       "                        <th id=\"T_ffd8e19a_53c5_11ea_a025_11c927e671d6level0_row3\" class=\"row_heading level0 row3\" >3</th>\n",
       "                        <td id=\"T_ffd8e19a_53c5_11ea_a025_11c927e671d6row3_col0\" class=\"data row3 col0\" >4</td>\n",
       "                        <td id=\"T_ffd8e19a_53c5_11ea_a025_11c927e671d6row3_col1\" class=\"data row3 col1\" >$64,945.93</td>\n",
       "                        <td id=\"T_ffd8e19a_53c5_11ea_a025_11c927e671d6row3_col2\" class=\"data row3 col2\" >$67,867.79</td>\n",
       "            </tr>\n",
       "            <tr>\n",
       "                        <th id=\"T_ffd8e19a_53c5_11ea_a025_11c927e671d6level0_row4\" class=\"row_heading level0 row4\" >4</th>\n",
       "                        <td id=\"T_ffd8e19a_53c5_11ea_a025_11c927e671d6row4_col0\" class=\"data row4 col0\" >5</td>\n",
       "                        <td id=\"T_ffd8e19a_53c5_11ea_a025_11c927e671d6row4_col1\" class=\"data row4 col1\" >$76,181.58</td>\n",
       "                        <td id=\"T_ffd8e19a_53c5_11ea_a025_11c927e671d6row4_col2\" class=\"data row4 col2\" >$90,306.57</td>\n",
       "            </tr>\n",
       "            <tr>\n",
       "                        <th id=\"T_ffd8e19a_53c5_11ea_a025_11c927e671d6level0_row5\" class=\"row_heading level0 row5\" >5</th>\n",
       "                        <td id=\"T_ffd8e19a_53c5_11ea_a025_11c927e671d6row5_col0\" class=\"data row5 col0\" >6</td>\n",
       "                        <td id=\"T_ffd8e19a_53c5_11ea_a025_11c927e671d6row5_col1\" class=\"data row5 col1\" >$77,705.21</td>\n",
       "                        <td id=\"T_ffd8e19a_53c5_11ea_a025_11c927e671d6row5_col2\" class=\"data row5 col2\" >$114,248.20</td>\n",
       "            </tr>\n",
       "            <tr>\n",
       "                        <th id=\"T_ffd8e19a_53c5_11ea_a025_11c927e671d6level0_row6\" class=\"row_heading level0 row6\" >6</th>\n",
       "                        <td id=\"T_ffd8e19a_53c5_11ea_a025_11c927e671d6row6_col0\" class=\"data row6 col0\" >7</td>\n",
       "                        <td id=\"T_ffd8e19a_53c5_11ea_a025_11c927e671d6row6_col1\" class=\"data row6 col1\" >$79,259.31</td>\n",
       "                        <td id=\"T_ffd8e19a_53c5_11ea_a025_11c927e671d6row6_col2\" class=\"data row6 col2\" >$139,775.44</td>\n",
       "            </tr>\n",
       "            <tr>\n",
       "                        <th id=\"T_ffd8e19a_53c5_11ea_a025_11c927e671d6level0_row7\" class=\"row_heading level0 row7\" >7</th>\n",
       "                        <td id=\"T_ffd8e19a_53c5_11ea_a025_11c927e671d6row7_col0\" class=\"data row7 col0\" >8</td>\n",
       "                        <td id=\"T_ffd8e19a_53c5_11ea_a025_11c927e671d6row7_col1\" class=\"data row7 col1\" >$80,844.50</td>\n",
       "                        <td id=\"T_ffd8e19a_53c5_11ea_a025_11c927e671d6row7_col2\" class=\"data row7 col2\" >$166,975.33</td>\n",
       "            </tr>\n",
       "            <tr>\n",
       "                        <th id=\"T_ffd8e19a_53c5_11ea_a025_11c927e671d6level0_row8\" class=\"row_heading level0 row8\" >8</th>\n",
       "                        <td id=\"T_ffd8e19a_53c5_11ea_a025_11c927e671d6row8_col0\" class=\"data row8 col0\" >9</td>\n",
       "                        <td id=\"T_ffd8e19a_53c5_11ea_a025_11c927e671d6row8_col1\" class=\"data row8 col1\" >$82,461.39</td>\n",
       "                        <td id=\"T_ffd8e19a_53c5_11ea_a025_11c927e671d6row8_col2\" class=\"data row8 col2\" >$195,939.45</td>\n",
       "            </tr>\n",
       "            <tr>\n",
       "                        <th id=\"T_ffd8e19a_53c5_11ea_a025_11c927e671d6level0_row9\" class=\"row_heading level0 row9\" >9</th>\n",
       "                        <td id=\"T_ffd8e19a_53c5_11ea_a025_11c927e671d6row9_col0\" class=\"data row9 col0\" >10</td>\n",
       "                        <td id=\"T_ffd8e19a_53c5_11ea_a025_11c927e671d6row9_col1\" class=\"data row9 col1\" >$96,727.21</td>\n",
       "                        <td id=\"T_ffd8e19a_53c5_11ea_a025_11c927e671d6row9_col2\" class=\"data row9 col2\" >$229,918.22</td>\n",
       "            </tr>\n",
       "            <tr>\n",
       "                        <th id=\"T_ffd8e19a_53c5_11ea_a025_11c927e671d6level0_row10\" class=\"row_heading level0 row10\" >10</th>\n",
       "                        <td id=\"T_ffd8e19a_53c5_11ea_a025_11c927e671d6row10_col0\" class=\"data row10 col0\" >11</td>\n",
       "                        <td id=\"T_ffd8e19a_53c5_11ea_a025_11c927e671d6row10_col1\" class=\"data row10 col1\" >$98,661.75</td>\n",
       "                        <td id=\"T_ffd8e19a_53c5_11ea_a025_11c927e671d6row10_col2\" class=\"data row10 col2\" >$266,079.57</td>\n",
       "            </tr>\n",
       "            <tr>\n",
       "                        <th id=\"T_ffd8e19a_53c5_11ea_a025_11c927e671d6level0_row11\" class=\"row_heading level0 row11\" >11</th>\n",
       "                        <td id=\"T_ffd8e19a_53c5_11ea_a025_11c927e671d6row11_col0\" class=\"data row11 col0\" >12</td>\n",
       "                        <td id=\"T_ffd8e19a_53c5_11ea_a025_11c927e671d6row11_col1\" class=\"data row11 col1\" >$100,634.99</td>\n",
       "                        <td id=\"T_ffd8e19a_53c5_11ea_a025_11c927e671d6row11_col2\" class=\"data row11 col2\" >$304,542.29</td>\n",
       "            </tr>\n",
       "            <tr>\n",
       "                        <th id=\"T_ffd8e19a_53c5_11ea_a025_11c927e671d6level0_row12\" class=\"row_heading level0 row12\" >12</th>\n",
       "                        <td id=\"T_ffd8e19a_53c5_11ea_a025_11c927e671d6row12_col0\" class=\"data row12 col0\" >13</td>\n",
       "                        <td id=\"T_ffd8e19a_53c5_11ea_a025_11c927e671d6row12_col1\" class=\"data row12 col1\" >$102,647.69</td>\n",
       "                        <td id=\"T_ffd8e19a_53c5_11ea_a025_11c927e671d6row12_col2\" class=\"data row12 col2\" >$345,431.33</td>\n",
       "            </tr>\n",
       "            <tr>\n",
       "                        <th id=\"T_ffd8e19a_53c5_11ea_a025_11c927e671d6level0_row13\" class=\"row_heading level0 row13\" >13</th>\n",
       "                        <td id=\"T_ffd8e19a_53c5_11ea_a025_11c927e671d6row13_col0\" class=\"data row13 col0\" >14</td>\n",
       "                        <td id=\"T_ffd8e19a_53c5_11ea_a025_11c927e671d6row13_col1\" class=\"data row13 col1\" >$104,700.64</td>\n",
       "                        <td id=\"T_ffd8e19a_53c5_11ea_a025_11c927e671d6row13_col2\" class=\"data row13 col2\" >$388,878.06</td>\n",
       "            </tr>\n",
       "            <tr>\n",
       "                        <th id=\"T_ffd8e19a_53c5_11ea_a025_11c927e671d6level0_row14\" class=\"row_heading level0 row14\" >14</th>\n",
       "                        <td id=\"T_ffd8e19a_53c5_11ea_a025_11c927e671d6row14_col0\" class=\"data row14 col0\" >15</td>\n",
       "                        <td id=\"T_ffd8e19a_53c5_11ea_a025_11c927e671d6row14_col1\" class=\"data row14 col1\" >$122,813.85</td>\n",
       "                        <td id=\"T_ffd8e19a_53c5_11ea_a025_11c927e671d6row14_col2\" class=\"data row14 col2\" >$439,025.42</td>\n",
       "            </tr>\n",
       "            <tr>\n",
       "                        <th id=\"T_ffd8e19a_53c5_11ea_a025_11c927e671d6level0_row15\" class=\"row_heading level0 row15\" >15</th>\n",
       "                        <td id=\"T_ffd8e19a_53c5_11ea_a025_11c927e671d6row15_col0\" class=\"data row15 col0\" >16</td>\n",
       "                        <td id=\"T_ffd8e19a_53c5_11ea_a025_11c927e671d6row15_col1\" class=\"data row15 col1\" >$125,270.13</td>\n",
       "                        <td id=\"T_ffd8e19a_53c5_11ea_a025_11c927e671d6row15_col2\" class=\"data row15 col2\" >$492,294.23</td>\n",
       "            </tr>\n",
       "            <tr>\n",
       "                        <th id=\"T_ffd8e19a_53c5_11ea_a025_11c927e671d6level0_row16\" class=\"row_heading level0 row16\" >16</th>\n",
       "                        <td id=\"T_ffd8e19a_53c5_11ea_a025_11c927e671d6row16_col0\" class=\"data row16 col0\" >17</td>\n",
       "                        <td id=\"T_ffd8e19a_53c5_11ea_a025_11c927e671d6row16_col1\" class=\"data row16 col1\" >$127,775.53</td>\n",
       "                        <td id=\"T_ffd8e19a_53c5_11ea_a025_11c927e671d6row16_col2\" class=\"data row16 col2\" >$548,852.82</td>\n",
       "            </tr>\n",
       "            <tr>\n",
       "                        <th id=\"T_ffd8e19a_53c5_11ea_a025_11c927e671d6level0_row17\" class=\"row_heading level0 row17\" >17</th>\n",
       "                        <td id=\"T_ffd8e19a_53c5_11ea_a025_11c927e671d6row17_col0\" class=\"data row17 col0\" >18</td>\n",
       "                        <td id=\"T_ffd8e19a_53c5_11ea_a025_11c927e671d6row17_col1\" class=\"data row17 col1\" >$130,331.04</td>\n",
       "                        <td id=\"T_ffd8e19a_53c5_11ea_a025_11c927e671d6row17_col2\" class=\"data row17 col2\" >$608,878.22</td>\n",
       "            </tr>\n",
       "            <tr>\n",
       "                        <th id=\"T_ffd8e19a_53c5_11ea_a025_11c927e671d6level0_row18\" class=\"row_heading level0 row18\" >18</th>\n",
       "                        <td id=\"T_ffd8e19a_53c5_11ea_a025_11c927e671d6row18_col0\" class=\"data row18 col0\" >19</td>\n",
       "                        <td id=\"T_ffd8e19a_53c5_11ea_a025_11c927e671d6row18_col1\" class=\"data row18 col1\" >$132,937.66</td>\n",
       "                        <td id=\"T_ffd8e19a_53c5_11ea_a025_11c927e671d6row18_col2\" class=\"data row18 col2\" >$672,556.55</td>\n",
       "            </tr>\n",
       "            <tr>\n",
       "                        <th id=\"T_ffd8e19a_53c5_11ea_a025_11c927e671d6level0_row19\" class=\"row_heading level0 row19\" >19</th>\n",
       "                        <td id=\"T_ffd8e19a_53c5_11ea_a025_11c927e671d6row19_col0\" class=\"data row19 col0\" >20</td>\n",
       "                        <td id=\"T_ffd8e19a_53c5_11ea_a025_11c927e671d6row19_col1\" class=\"data row19 col1\" >$155,935.88</td>\n",
       "                        <td id=\"T_ffd8e19a_53c5_11ea_a025_11c927e671d6row19_col2\" class=\"data row19 col2\" >$745,168.34</td>\n",
       "            </tr>\n",
       "            <tr>\n",
       "                        <th id=\"T_ffd8e19a_53c5_11ea_a025_11c927e671d6level0_row20\" class=\"row_heading level0 row20\" >20</th>\n",
       "                        <td id=\"T_ffd8e19a_53c5_11ea_a025_11c927e671d6row20_col0\" class=\"data row20 col0\" >21</td>\n",
       "                        <td id=\"T_ffd8e19a_53c5_11ea_a025_11c927e671d6row20_col1\" class=\"data row20 col1\" >$159,054.59</td>\n",
       "                        <td id=\"T_ffd8e19a_53c5_11ea_a025_11c927e671d6row20_col2\" class=\"data row20 col2\" >$822,190.41</td>\n",
       "            </tr>\n",
       "            <tr>\n",
       "                        <th id=\"T_ffd8e19a_53c5_11ea_a025_11c927e671d6level0_row21\" class=\"row_heading level0 row21\" >21</th>\n",
       "                        <td id=\"T_ffd8e19a_53c5_11ea_a025_11c927e671d6row21_col0\" class=\"data row21 col0\" >22</td>\n",
       "                        <td id=\"T_ffd8e19a_53c5_11ea_a025_11c927e671d6row21_col1\" class=\"data row21 col1\" >$162,235.69</td>\n",
       "                        <td id=\"T_ffd8e19a_53c5_11ea_a025_11c927e671d6row21_col2\" class=\"data row21 col2\" >$903,858.85</td>\n",
       "            </tr>\n",
       "            <tr>\n",
       "                        <th id=\"T_ffd8e19a_53c5_11ea_a025_11c927e671d6level0_row22\" class=\"row_heading level0 row22\" >22</th>\n",
       "                        <td id=\"T_ffd8e19a_53c5_11ea_a025_11c927e671d6row22_col0\" class=\"data row22 col0\" >23</td>\n",
       "                        <td id=\"T_ffd8e19a_53c5_11ea_a025_11c927e671d6row22_col1\" class=\"data row22 col1\" >$165,480.40</td>\n",
       "                        <td id=\"T_ffd8e19a_53c5_11ea_a025_11c927e671d6row22_col2\" class=\"data row22 col2\" >$990,421.89</td>\n",
       "            </tr>\n",
       "            <tr>\n",
       "                        <th id=\"T_ffd8e19a_53c5_11ea_a025_11c927e671d6level0_row23\" class=\"row_heading level0 row23\" >23</th>\n",
       "                        <td id=\"T_ffd8e19a_53c5_11ea_a025_11c927e671d6row23_col0\" class=\"data row23 col0\" >24</td>\n",
       "                        <td id=\"T_ffd8e19a_53c5_11ea_a025_11c927e671d6row23_col1\" class=\"data row23 col1\" >$168,790.01</td>\n",
       "                        <td id=\"T_ffd8e19a_53c5_11ea_a025_11c927e671d6row23_col2\" class=\"data row23 col2\" >$1,082,140.49</td>\n",
       "            </tr>\n",
       "            <tr>\n",
       "                        <th id=\"T_ffd8e19a_53c5_11ea_a025_11c927e671d6level0_row24\" class=\"row_heading level0 row24\" >24</th>\n",
       "                        <td id=\"T_ffd8e19a_53c5_11ea_a025_11c927e671d6row24_col0\" class=\"data row24 col0\" >25</td>\n",
       "                        <td id=\"T_ffd8e19a_53c5_11ea_a025_11c927e671d6row24_col1\" class=\"data row24 col1\" >$197,990.68</td>\n",
       "                        <td id=\"T_ffd8e19a_53c5_11ea_a025_11c927e671d6row24_col2\" class=\"data row24 col2\" >$1,185,745.19</td>\n",
       "            </tr>\n",
       "            <tr>\n",
       "                        <th id=\"T_ffd8e19a_53c5_11ea_a025_11c927e671d6level0_row25\" class=\"row_heading level0 row25\" >25</th>\n",
       "                        <td id=\"T_ffd8e19a_53c5_11ea_a025_11c927e671d6row25_col0\" class=\"data row25 col0\" >26</td>\n",
       "                        <td id=\"T_ffd8e19a_53c5_11ea_a025_11c927e671d6row25_col1\" class=\"data row25 col1\" >$201,950.49</td>\n",
       "                        <td id=\"T_ffd8e19a_53c5_11ea_a025_11c927e671d6row25_col2\" class=\"data row25 col2\" >$1,295,520.07</td>\n",
       "            </tr>\n",
       "            <tr>\n",
       "                        <th id=\"T_ffd8e19a_53c5_11ea_a025_11c927e671d6level0_row26\" class=\"row_heading level0 row26\" >26</th>\n",
       "                        <td id=\"T_ffd8e19a_53c5_11ea_a025_11c927e671d6row26_col0\" class=\"data row26 col0\" >27</td>\n",
       "                        <td id=\"T_ffd8e19a_53c5_11ea_a025_11c927e671d6row26_col1\" class=\"data row26 col1\" >$205,989.50</td>\n",
       "                        <td id=\"T_ffd8e19a_53c5_11ea_a025_11c927e671d6row26_col2\" class=\"data row26 col2\" >$1,411,793.45</td>\n",
       "            </tr>\n",
       "            <tr>\n",
       "                        <th id=\"T_ffd8e19a_53c5_11ea_a025_11c927e671d6level0_row27\" class=\"row_heading level0 row27\" >27</th>\n",
       "                        <td id=\"T_ffd8e19a_53c5_11ea_a025_11c927e671d6row27_col0\" class=\"data row27 col0\" >28</td>\n",
       "                        <td id=\"T_ffd8e19a_53c5_11ea_a025_11c927e671d6row27_col1\" class=\"data row27 col1\" >$210,109.29</td>\n",
       "                        <td id=\"T_ffd8e19a_53c5_11ea_a025_11c927e671d6row27_col2\" class=\"data row27 col2\" >$1,534,910.44</td>\n",
       "            </tr>\n",
       "    </tbody></table>"
      ],
      "text/plain": [
       "<pandas.io.formats.style.Styler at 0x7f6db569f898>"
      ]
     },
     "execution_count": 12,
     "metadata": {},
     "output_type": "execute_result"
    }
   ],
   "source": [
    "df = get_salaries_wealths_df(model_data)\n",
    "styled_salaries_wealths(df)"
   ]
  },
  {
   "cell_type": "markdown",
   "metadata": {},
   "source": [
    "## Plot Results\n",
    "\n",
    "Now I will visualize the salaries and wealths over time."
   ]
  },
  {
   "cell_type": "markdown",
   "metadata": {},
   "source": [
    "### Salaries over Time"
   ]
  },
  {
   "cell_type": "code",
   "execution_count": 13,
   "metadata": {},
   "outputs": [
    {
     "data": {
      "text/plain": [
       "<matplotlib.axes._subplots.AxesSubplot at 0x7f6dd5a184e0>"
      ]
     },
     "execution_count": 13,
     "metadata": {},
     "output_type": "execute_result"
    },
    {
     "data": {
      "image/png": "[encoded data removed]",
      "text/plain": [
       "<Figure size 432x288 with 1 Axes>"
      ]
     },
     "metadata": {
      "needs_background": "light"
     },
     "output_type": "display_data"
    }
   ],
   "source": [
    "df.plot.line(x='Year', y='Salary')"
   ]
  },
  {
   "cell_type": "markdown",
   "metadata": {},
   "source": [
    "### Wealths over Time"
   ]
  },
  {
   "cell_type": "code",
   "execution_count": 14,
   "metadata": {},
   "outputs": [
    {
     "data": {
      "text/plain": [
       "<matplotlib.axes._subplots.AxesSubplot at 0x7f6dd5975d30>"
      ]
     },
     "execution_count": 14,
     "metadata": {},
     "output_type": "execute_result"
    },
    {
     "data": {
      "image/png": "[encoded data removed]",
      "text/plain": [
       "<Figure size 432x288 with 1 Axes>"
      ]
     },
     "metadata": {
      "needs_background": "light"
     },
     "output_type": "display_data"
    }
   ],
   "source": [
    "df.plot.line(x='Year', y='Wealth')"
   ]
  }
 ],
 "metadata": {
  "kernelspec": {
   "display_name": "Python 3",
   "language": "python",
   "name": "python3"
  },
  "language_info": {
   "codemirror_mode": {
    "name": "ipython",
    "version": 3
   },
   "file_extension": ".py",
   "mimetype": "text/x-python",
   "name": "python",
   "nbconvert_exporter": "python",
   "pygments_lexer": "ipython3",
   "version": "3.7.3"
  }
 },
 "nbformat": 4,
 "nbformat_minor": 4
}
