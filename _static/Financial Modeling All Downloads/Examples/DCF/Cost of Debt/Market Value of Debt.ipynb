{
 "cells": [
  {
   "cell_type": "markdown",
   "metadata": {},
   "source": [
    "# Determining the Market Value of Debt"
   ]
  },
  {
   "cell_type": "markdown",
   "metadata": {},
   "source": [
    "If we cannot get access to data on the individual debt instruments issued by the company, then all we can do is use the book value of debt from the balance sheet as an estimate of the market value of debt.\n",
    "\n",
    "If we still don't have data on the individual debt instruments, but do have an average maturity of the debt, we can do a bit better job with estimating the market value of debt.\n",
    "\n",
    "If we have data on all the individual debt instruments, the combined with an estimate of the cost of debt, we can get an accurate estimate the market value of debt to be used in the WACC calculation.\n",
    "\n",
    "This example is divided into three sections, depending on what data are available."
   ]
  },
  {
   "cell_type": "markdown",
   "metadata": {},
   "source": [
    "# Some Setup\n",
    "\n",
    "These inputs will be used throughout."
   ]
  },
  {
   "cell_type": "code",
   "execution_count": 1,
   "metadata": {},
   "outputs": [],
   "source": [
    "total_book_debt = 1000000\n",
    "interest_expense = 60000\n",
    "cost_of_debt = 0.08"
   ]
  },
  {
   "cell_type": "markdown",
   "metadata": {},
   "source": [
    "# MV Debt with No Additional Data\n",
    "\n",
    "Since we don't have access to an average maturity or the individual debt instruments, all we can do is just use the book value of debt."
   ]
  },
  {
   "cell_type": "code",
   "execution_count": 2,
   "metadata": {},
   "outputs": [
    {
     "data": {
      "text/plain": [
       "1000000"
      ]
     },
     "execution_count": 2,
     "metadata": {},
     "output_type": "execute_result"
    }
   ],
   "source": [
    "mv_debt = total_book_debt\n",
    "mv_debt"
   ]
  },
  {
   "cell_type": "markdown",
   "metadata": {},
   "source": [
    "And we are done. It's not a very good estimate though."
   ]
  },
  {
   "cell_type": "markdown",
   "metadata": {},
   "source": [
    "# MV Debt with Average Maturity\n",
    "\n",
    "Let's just say we also knew that the average maturity of the debt was 5 years. You may be able to find this info when the individual debt instruments are not available. The general approach is then to treat the entire total book debt from the balance sheet as a single coupon bond, and determine the value of that coupon bond."
   ]
  },
  {
   "cell_type": "code",
   "execution_count": 3,
   "metadata": {},
   "outputs": [],
   "source": [
    "average_maturity = 5"
   ]
  },
  {
   "cell_type": "markdown",
   "metadata": {},
   "source": [
    "## Determine the Coupon Payment on the Hypothetical Bond\n",
    "\n",
    "The coupon payment on this hypothetical bond can be estimated by taking the interest expense divided by the total book debt. "
   ]
  },
  {
   "cell_type": "code",
   "execution_count": 4,
   "metadata": {},
   "outputs": [
    {
     "data": {
      "text/plain": [
       "0.06"
      ]
     },
     "execution_count": 4,
     "metadata": {},
     "output_type": "execute_result"
    }
   ],
   "source": [
    "coupon_rate = interest_expense / total_book_debt\n",
    "coupon_rate"
   ]
  },
  {
   "cell_type": "markdown",
   "metadata": {},
   "source": [
    "Now that we have a coupon rate, we can form the bond cash flows. It should be the coupon rate multiplied by principal for each period up until the final period, which is (1 + coupon rate) multiplied by principal."
   ]
  },
  {
   "cell_type": "markdown",
   "metadata": {},
   "source": [
    "## Calculate Hypothetical Bond Cash Flows"
   ]
  },
  {
   "cell_type": "code",
   "execution_count": 5,
   "metadata": {},
   "outputs": [
    {
     "data": {
      "text/plain": [
       "[60000.0, 60000.0, 60000.0, 60000.0, 1060000.0]"
      ]
     },
     "execution_count": 5,
     "metadata": {},
     "output_type": "execute_result"
    }
   ],
   "source": [
    "principal = total_book_debt\n",
    "coupon_payment = coupon_rate * principal\n",
    "cash_flows = [coupon_rate * principal for i in range(average_maturity - 1)] + [(1 + coupon_rate) * principal]\n",
    "cash_flows"
   ]
  },
  {
   "cell_type": "markdown",
   "metadata": {},
   "source": [
    "## Calculate Value of Hypothetical Bond as MV of Debt"
   ]
  },
  {
   "cell_type": "markdown",
   "metadata": {},
   "source": [
    "Now we can calculate the value of this bond by taking the NPV with the cost of debt. Recall that `numpy`'s NPV function takes the first cash flow as year 0, so we will need to add a 0 at the beginning."
   ]
  },
  {
   "cell_type": "code",
   "execution_count": 6,
   "metadata": {},
   "outputs": [
    {
     "name": "stderr",
     "output_type": "stream",
     "text": [
      "/home/nick/.local/share/virtualenvs/fin-model-course-eIFMSc8A/lib/python3.7/site-packages/ipykernel_launcher.py:3: DeprecationWarning: numpy.npv is deprecated and will be removed from NumPy 1.20. Use numpy_financial.npv instead (https://pypi.org/project/numpy-financial/).\n",
      "  This is separate from the ipykernel package so we can avoid doing imports until\n"
     ]
    },
    {
     "data": {
      "text/plain": [
       "920145.7992584379"
      ]
     },
     "execution_count": 6,
     "metadata": {},
     "output_type": "execute_result"
    }
   ],
   "source": [
    "import numpy as np\n",
    "\n",
    "mv_debt = np.npv(cost_of_debt, [0] + cash_flows)\n",
    "mv_debt"
   ]
  },
  {
   "cell_type": "markdown",
   "metadata": {},
   "source": [
    "Therefore we have \\\\$9.2 million as our estimate for the market value of debt."
   ]
  },
  {
   "cell_type": "markdown",
   "metadata": {},
   "source": [
    "## Complete the Preceding Steps with One Forumla\n",
    "\n",
    "We can wrap all the prior steps into one formula, which calculates the value of an annuity with an additional terminal payment. The formula is: $$V = C (\\frac{1 - (1 + r_d)^{-t}}{r_d}) + \\frac{P}{(1 + r_d)^t} $$"
   ]
  },
  {
   "cell_type": "code",
   "execution_count": 7,
   "metadata": {},
   "outputs": [
    {
     "data": {
      "text/plain": [
       "920145.7992584382"
      ]
     },
     "execution_count": 7,
     "metadata": {},
     "output_type": "execute_result"
    }
   ],
   "source": [
    "mv_debt = coupon_payment * ((1 - (1 + cost_of_debt)**(-average_maturity))/cost_of_debt) + principal/(1 + cost_of_debt)**average_maturity\n",
    "mv_debt"
   ]
  },
  {
   "cell_type": "markdown",
   "metadata": {},
   "source": [
    "We can wrap this all up in a function."
   ]
  },
  {
   "cell_type": "code",
   "execution_count": 8,
   "metadata": {},
   "outputs": [
    {
     "data": {
      "text/plain": [
       "920145.7992584382"
      ]
     },
     "execution_count": 8,
     "metadata": {},
     "output_type": "execute_result"
    }
   ],
   "source": [
    "def mv_debt_by_average_maturity(average_maturity, cost_of_debt, total_book_debt, interest_expense):\n",
    "    \"\"\"\n",
    "    Calculate the market value of debt based off financial statement data, cost of debt, and average maturity.\n",
    "    \"\"\"\n",
    "    coupon_rate = interest_expense / total_book_debt\n",
    "    principal = total_book_debt\n",
    "    coupon_payment = coupon_rate * principal\n",
    "    \n",
    "    return coupon_payment * ((1 - (1 + cost_of_debt)**(-average_maturity))/cost_of_debt) + principal/(1 + cost_of_debt)**average_maturity\n",
    "\n",
    "mv_debt_by_average_maturity(average_maturity, cost_of_debt, total_book_debt, interest_expense)"
   ]
  },
  {
   "cell_type": "markdown",
   "metadata": {},
   "source": [
    "This formula is especially useful when the average maturity is not a whole number of years, say 5.5 years."
   ]
  },
  {
   "cell_type": "code",
   "execution_count": 9,
   "metadata": {},
   "outputs": [
    {
     "data": {
      "text/plain": [
       "913722.8716722389"
      ]
     },
     "execution_count": 9,
     "metadata": {},
     "output_type": "execute_result"
    }
   ],
   "source": [
    "mv_debt_by_average_maturity(5.5, cost_of_debt, total_book_debt, interest_expense)"
   ]
  },
  {
   "cell_type": "markdown",
   "metadata": {},
   "source": [
    "# MV Debt with Individual Debt Instruments\n",
    "\n",
    "The basic process is to value each debt instrument based on its coupon rate and the overall cost of debt, similar to what we did for the hypothetical bond in the last section. Then we sum of the values of all the instruments to find the total market value of debt.\n",
    "\n",
    "Please note that you must have data on all the debt instruments to use this approach. If any are missing, then it is better to determine the average maturity from the ones you have, and use the approach described in the last section. \n",
    "\n",
    "Another approach for missing some instruments is to calculate the ratio of the total instrument principal to total balance sheet debt, then after determining the total market value of the instruments, divide that by the ratio to get an estimate of the market value of debt. But we will not explore this option here.\n",
    "\n",
    "Here I will load in some data which has information on the individual debt instruments for this company."
   ]
  },
  {
   "cell_type": "code",
   "execution_count": 10,
   "metadata": {},
   "outputs": [
    {
     "data": {
      "text/html": [
       "<div>\n",
       "<style scoped>\n",
       "    .dataframe tbody tr th:only-of-type {\n",
       "        vertical-align: middle;\n",
       "    }\n",
       "\n",
       "    .dataframe tbody tr th {\n",
       "        vertical-align: top;\n",
       "    }\n",
       "\n",
       "    .dataframe thead th {\n",
       "        text-align: right;\n",
       "    }\n",
       "</style>\n",
       "<table border=\"1\" class=\"dataframe\">\n",
       "  <thead>\n",
       "    <tr style=\"text-align: right;\">\n",
       "      <th></th>\n",
       "      <th>Principal</th>\n",
       "      <th>Coupon Rate</th>\n",
       "      <th>Maturity (years)</th>\n",
       "      <th>Maturity (Date)</th>\n",
       "    </tr>\n",
       "  </thead>\n",
       "  <tbody>\n",
       "    <tr>\n",
       "      <th>0</th>\n",
       "      <td>300000</td>\n",
       "      <td>0.07</td>\n",
       "      <td>2</td>\n",
       "      <td>2021-11-06</td>\n",
       "    </tr>\n",
       "    <tr>\n",
       "      <th>1</th>\n",
       "      <td>500000</td>\n",
       "      <td>0.05</td>\n",
       "      <td>3</td>\n",
       "      <td>2022-11-06</td>\n",
       "    </tr>\n",
       "    <tr>\n",
       "      <th>2</th>\n",
       "      <td>200000</td>\n",
       "      <td>0.06</td>\n",
       "      <td>4</td>\n",
       "      <td>2023-11-06</td>\n",
       "    </tr>\n",
       "  </tbody>\n",
       "</table>\n",
       "</div>"
      ],
      "text/plain": [
       "   Principal  Coupon Rate  Maturity (years) Maturity (Date)\n",
       "0     300000         0.07                 2      2021-11-06\n",
       "1     500000         0.05                 3      2022-11-06\n",
       "2     200000         0.06                 4      2023-11-06"
      ]
     },
     "execution_count": 10,
     "metadata": {},
     "output_type": "execute_result"
    }
   ],
   "source": [
    "import pandas as pd\n",
    "\n",
    "df = pd.read_excel('debt data.xlsx')\n",
    "df"
   ]
  },
  {
   "cell_type": "markdown",
   "metadata": {},
   "source": [
    "## Checking if the Approach will be Valid\n",
    "\n",
    "Let's see if the total of the principal on the instruments matches up to the firm's total debt."
   ]
  },
  {
   "cell_type": "code",
   "execution_count": 11,
   "metadata": {},
   "outputs": [
    {
     "data": {
      "text/plain": [
       "1000000"
      ]
     },
     "execution_count": 11,
     "metadata": {},
     "output_type": "execute_result"
    }
   ],
   "source": [
    "df['Principal'].sum()"
   ]
  },
  {
   "cell_type": "code",
   "execution_count": 12,
   "metadata": {},
   "outputs": [
    {
     "data": {
      "text/plain": [
       "1000000"
      ]
     },
     "execution_count": 12,
     "metadata": {},
     "output_type": "execute_result"
    }
   ],
   "source": [
    "total_book_debt"
   ]
  },
  {
   "cell_type": "markdown",
   "metadata": {},
   "source": [
    "We can see these two are the same, so we are fine to go ahead with this approach. For a real company, it will likely never match exactly. If you're close (within a couple percent) then this approach should be fine."
   ]
  },
  {
   "cell_type": "markdown",
   "metadata": {},
   "source": [
    "## Calculating the Value of a Debt Instrument\n",
    "\n",
    "Here we will follow a similar valuation approach to the last section. Since we need to do this for every bond, we will create a function which does this for a single bond and apply it to all the bonds. Let's create this function before working with the `DataFrame`. Here we use the exact same logic from the last section to get the cash flows."
   ]
  },
  {
   "cell_type": "code",
   "execution_count": 13,
   "metadata": {},
   "outputs": [
    {
     "data": {
      "text/plain": [
       "[21000.000000000004, 321000.0]"
      ]
     },
     "execution_count": 13,
     "metadata": {},
     "output_type": "execute_result"
    }
   ],
   "source": [
    "principal = 300000\n",
    "coupon_rate = 0.07\n",
    "maturity = 2\n",
    "\n",
    "coupon_payment = coupon_rate * principal\n",
    "cash_flows = [coupon_rate * principal for i in range(maturity - 1)] + [(1 + coupon_rate) * principal]\n",
    "cash_flows"
   ]
  },
  {
   "cell_type": "markdown",
   "metadata": {},
   "source": [
    "And get the value in the same way as the last section."
   ]
  },
  {
   "cell_type": "code",
   "execution_count": 14,
   "metadata": {},
   "outputs": [
    {
     "name": "stderr",
     "output_type": "stream",
     "text": [
      "/home/nick/.local/share/virtualenvs/fin-model-course-eIFMSc8A/lib/python3.7/site-packages/ipykernel_launcher.py:1: DeprecationWarning: numpy.npv is deprecated and will be removed from NumPy 1.20. Use numpy_financial.npv instead (https://pypi.org/project/numpy-financial/).\n",
      "  \"\"\"Entry point for launching an IPython kernel.\n"
     ]
    },
    {
     "data": {
      "text/plain": [
       "294650.2057613168"
      ]
     },
     "execution_count": 14,
     "metadata": {},
     "output_type": "execute_result"
    }
   ],
   "source": [
    "mv_debt = np.npv(cost_of_debt, [0] + cash_flows)\n",
    "mv_debt"
   ]
  },
  {
   "cell_type": "markdown",
   "metadata": {},
   "source": [
    "Let's wrap this up in one function."
   ]
  },
  {
   "cell_type": "code",
   "execution_count": 15,
   "metadata": {},
   "outputs": [
    {
     "name": "stderr",
     "output_type": "stream",
     "text": [
      "/home/nick/.local/share/virtualenvs/fin-model-course-eIFMSc8A/lib/python3.7/site-packages/ipykernel_launcher.py:7: DeprecationWarning: numpy.npv is deprecated and will be removed from NumPy 1.20. Use numpy_financial.npv instead (https://pypi.org/project/numpy-financial/).\n",
      "  import sys\n"
     ]
    },
    {
     "data": {
      "text/plain": [
       "294650.2057613168"
      ]
     },
     "execution_count": 15,
     "metadata": {},
     "output_type": "execute_result"
    }
   ],
   "source": [
    "def mv_bond(principal, coupon_rate, maturity, cost_of_debt):\n",
    "    \"\"\"\n",
    "    Calculate the market value of bond\n",
    "    \"\"\"\n",
    "    coupon_payment = coupon_rate * principal\n",
    "    cash_flows = [coupon_payment for i in range(maturity - 1)] + [coupon_payment + principal]\n",
    "    return np.npv(cost_of_debt, [0] + cash_flows)\n",
    "\n",
    "mv_bond(principal, coupon_rate, maturity, cost_of_debt)"
   ]
  },
  {
   "cell_type": "markdown",
   "metadata": {},
   "source": [
    "### A Quick Aside to `DataFrame.apply`"
   ]
  },
  {
   "cell_type": "markdown",
   "metadata": {},
   "source": [
    "Here we have just three securities, it would be pretty easy to manually call this on each of them. But what if there are 50 securities? You want an automated approach to apply this function to all the rows in the `DataFrame`. This is where we bring in `.apply` on the `DataFrame`. When you do `.apply(function, axis=1)` on a `DataFrame`, it will take each row of the `DataFrame` (the row is now a `Series`) and pass it to the function. Then it will take the result of the function call and put it into a new `Series`.\n",
    "\n",
    "Let's see how this works with a simple example that just prints out what we're getting from the `.apply` call."
   ]
  },
  {
   "cell_type": "code",
   "execution_count": 16,
   "metadata": {},
   "outputs": [
    {
     "name": "stdout",
     "output_type": "stream",
     "text": [
      "Calling understand_apply\n",
      "Got values:\n",
      "Principal                        300000\n",
      "Coupon Rate                        0.07\n",
      "Maturity (years)                      2\n",
      "Maturity (Date)     2021-11-06 00:00:00\n",
      "Name: 0, dtype: object\n",
      "\n",
      "Values have type <class 'pandas.core.series.Series'>\n",
      "Value of principal in the series: 300000\n",
      "\n",
      "\n",
      "\n",
      "\n",
      "Calling understand_apply\n",
      "Got values:\n",
      "Principal                        500000\n",
      "Coupon Rate                        0.05\n",
      "Maturity (years)                      3\n",
      "Maturity (Date)     2022-11-06 00:00:00\n",
      "Name: 1, dtype: object\n",
      "\n",
      "Values have type <class 'pandas.core.series.Series'>\n",
      "Value of principal in the series: 500000\n",
      "\n",
      "\n",
      "\n",
      "\n",
      "Calling understand_apply\n",
      "Got values:\n",
      "Principal                        200000\n",
      "Coupon Rate                        0.06\n",
      "Maturity (years)                      4\n",
      "Maturity (Date)     2023-11-06 00:00:00\n",
      "Name: 2, dtype: object\n",
      "\n",
      "Values have type <class 'pandas.core.series.Series'>\n",
      "Value of principal in the series: 200000\n",
      "\n",
      "\n",
      "\n",
      "\n"
     ]
    },
    {
     "data": {
      "text/plain": [
       "0    None\n",
       "1    None\n",
       "2    None\n",
       "dtype: object"
      ]
     },
     "execution_count": 16,
     "metadata": {},
     "output_type": "execute_result"
    }
   ],
   "source": [
    "def understand_apply(series):\n",
    "    \"\"\"\n",
    "    For demonstration purposes to understand DataFrame.apply\n",
    "    \"\"\"\n",
    "    print('Calling understand_apply')\n",
    "    print(f'Got values:\\n{series}\\n')\n",
    "    print(f'Values have type {type(series)}')\n",
    "    principal = series['Principal']\n",
    "    print(f'Value of principal in the series: {principal}')\n",
    "    print('\\n\\n\\n')  # separate output\n",
    "\n",
    "df.apply(understand_apply, axis=1)"
   ]
  },
  {
   "cell_type": "markdown",
   "metadata": {},
   "source": [
    "## Calculating the Value of All the Debt Instruments\n",
    "\n",
    "Now that we understand `.apply`, we can use it to apply this `mv_bond` function to all the `DataFrame` rows. But we'll need to make a new function based off the `mv_bond` function which can take a `Series` rather than the individual values."
   ]
  },
  {
   "cell_type": "code",
   "execution_count": 17,
   "metadata": {},
   "outputs": [
    {
     "name": "stderr",
     "output_type": "stream",
     "text": [
      "/home/nick/.local/share/virtualenvs/fin-model-course-eIFMSc8A/lib/python3.7/site-packages/ipykernel_launcher.py:7: DeprecationWarning: numpy.npv is deprecated and will be removed from NumPy 1.20. Use numpy_financial.npv instead (https://pypi.org/project/numpy-financial/).\n",
      "  import sys\n"
     ]
    },
    {
     "data": {
      "text/plain": [
       "0    294650.205761\n",
       "1    461343.545191\n",
       "2    186751.492640\n",
       "dtype: float64"
      ]
     },
     "execution_count": 17,
     "metadata": {},
     "output_type": "execute_result"
    }
   ],
   "source": [
    "def mv_bond_for_apply(series, cost_of_debt):\n",
    "    \"\"\"\n",
    "    Calculate market value of a bond. This version to be used with DataFrame.apply\n",
    "    \"\"\"\n",
    "    principal = series['Principal']\n",
    "    coupon_rate = series['Coupon Rate']\n",
    "    maturity = series['Maturity (years)']\n",
    "    return mv_bond(principal, coupon_rate, maturity, cost_of_debt)\n",
    "\n",
    "df.apply(mv_bond_for_apply, axis=1, cost_of_debt=cost_of_debt)"
   ]
  },
  {
   "cell_type": "markdown",
   "metadata": {},
   "source": [
    "You can now see we get the value of each bond in a `Series`. The last thing to do is assign that back to the `DataFrame` as a column."
   ]
  },
  {
   "cell_type": "code",
   "execution_count": 18,
   "metadata": {},
   "outputs": [
    {
     "name": "stderr",
     "output_type": "stream",
     "text": [
      "/home/nick/.local/share/virtualenvs/fin-model-course-eIFMSc8A/lib/python3.7/site-packages/ipykernel_launcher.py:7: DeprecationWarning: numpy.npv is deprecated and will be removed from NumPy 1.20. Use numpy_financial.npv instead (https://pypi.org/project/numpy-financial/).\n",
      "  import sys\n"
     ]
    },
    {
     "data": {
      "text/html": [
       "<div>\n",
       "<style scoped>\n",
       "    .dataframe tbody tr th:only-of-type {\n",
       "        vertical-align: middle;\n",
       "    }\n",
       "\n",
       "    .dataframe tbody tr th {\n",
       "        vertical-align: top;\n",
       "    }\n",
       "\n",
       "    .dataframe thead th {\n",
       "        text-align: right;\n",
       "    }\n",
       "</style>\n",
       "<table border=\"1\" class=\"dataframe\">\n",
       "  <thead>\n",
       "    <tr style=\"text-align: right;\">\n",
       "      <th></th>\n",
       "      <th>Principal</th>\n",
       "      <th>Coupon Rate</th>\n",
       "      <th>Maturity (years)</th>\n",
       "      <th>Maturity (Date)</th>\n",
       "      <th>Value</th>\n",
       "    </tr>\n",
       "  </thead>\n",
       "  <tbody>\n",
       "    <tr>\n",
       "      <th>0</th>\n",
       "      <td>300000</td>\n",
       "      <td>0.07</td>\n",
       "      <td>2</td>\n",
       "      <td>2021-11-06</td>\n",
       "      <td>294650.205761</td>\n",
       "    </tr>\n",
       "    <tr>\n",
       "      <th>1</th>\n",
       "      <td>500000</td>\n",
       "      <td>0.05</td>\n",
       "      <td>3</td>\n",
       "      <td>2022-11-06</td>\n",
       "      <td>461343.545191</td>\n",
       "    </tr>\n",
       "    <tr>\n",
       "      <th>2</th>\n",
       "      <td>200000</td>\n",
       "      <td>0.06</td>\n",
       "      <td>4</td>\n",
       "      <td>2023-11-06</td>\n",
       "      <td>186751.492640</td>\n",
       "    </tr>\n",
       "  </tbody>\n",
       "</table>\n",
       "</div>"
      ],
      "text/plain": [
       "   Principal  Coupon Rate  Maturity (years) Maturity (Date)          Value\n",
       "0     300000         0.07                 2      2021-11-06  294650.205761\n",
       "1     500000         0.05                 3      2022-11-06  461343.545191\n",
       "2     200000         0.06                 4      2023-11-06  186751.492640"
      ]
     },
     "execution_count": 18,
     "metadata": {},
     "output_type": "execute_result"
    }
   ],
   "source": [
    "df['Value'] = df.apply(mv_bond_for_apply, axis=1, cost_of_debt=cost_of_debt)\n",
    "df"
   ]
  },
  {
   "cell_type": "markdown",
   "metadata": {},
   "source": [
    "Now we can simply take the sum of those values to get the market value of debt for the firm."
   ]
  },
  {
   "cell_type": "code",
   "execution_count": 19,
   "metadata": {},
   "outputs": [
    {
     "data": {
      "text/plain": [
       "942745.2435924213"
      ]
     },
     "execution_count": 19,
     "metadata": {},
     "output_type": "execute_result"
    }
   ],
   "source": [
    "mv_debt = df['Value'].sum()\n",
    "mv_debt"
   ]
  },
  {
   "cell_type": "markdown",
   "metadata": {},
   "source": [
    "## Using Dates Instead of Years to Maturity\n",
    "\n",
    "Usually with individual debt instruments you will not get a number of years remaining until maturity, but instead a maturity date, and you need to calculate the years to maturity.\n",
    "\n",
    "When using this approach, the annuity formula should be used to handle non-integer years. Let's first swap that out and make sure it works the same."
   ]
  },
  {
   "cell_type": "code",
   "execution_count": 20,
   "metadata": {},
   "outputs": [
    {
     "data": {
      "text/plain": [
       "0    294650.205761\n",
       "1    461343.545191\n",
       "2    186751.492640\n",
       "dtype: float64"
      ]
     },
     "execution_count": 20,
     "metadata": {},
     "output_type": "execute_result"
    }
   ],
   "source": [
    "def mv_bond_annuity_approach(principal, coupon_rate, maturity, cost_of_debt):\n",
    "    \"\"\"\n",
    "    Calculate the market value of bond with non-integer maturity\n",
    "    \"\"\"\n",
    "    coupon_payment = coupon_rate * principal\n",
    "    return coupon_payment * ((1 - (1 + cost_of_debt)**(-maturity))/cost_of_debt) + principal/(1 + cost_of_debt)**maturity\n",
    "\n",
    "\n",
    "def mv_bond_annuity_approach_for_apply(series, cost_of_debt):\n",
    "    \"\"\"\n",
    "    Calculate market value of a bond with non-integer maturity. This version to be used with DataFrame.apply\n",
    "    \"\"\"\n",
    "    principal = series['Principal']\n",
    "    coupon_rate = series['Coupon Rate']\n",
    "    maturity = series['Maturity (years)']\n",
    "    return mv_bond_annuity_approach(principal, coupon_rate, maturity, cost_of_debt)\n",
    "\n",
    "df.apply(mv_bond_annuity_approach_for_apply, axis=1, cost_of_debt=cost_of_debt)"
   ]
  },
  {
   "cell_type": "markdown",
   "metadata": {},
   "source": [
    "We see we get the same results. Now let's go to calculating the maturities. First, so we're not cheating, let's drop the years to maturity and the value we already calculated."
   ]
  },
  {
   "cell_type": "code",
   "execution_count": 21,
   "metadata": {},
   "outputs": [
    {
     "data": {
      "text/html": [
       "<div>\n",
       "<style scoped>\n",
       "    .dataframe tbody tr th:only-of-type {\n",
       "        vertical-align: middle;\n",
       "    }\n",
       "\n",
       "    .dataframe tbody tr th {\n",
       "        vertical-align: top;\n",
       "    }\n",
       "\n",
       "    .dataframe thead th {\n",
       "        text-align: right;\n",
       "    }\n",
       "</style>\n",
       "<table border=\"1\" class=\"dataframe\">\n",
       "  <thead>\n",
       "    <tr style=\"text-align: right;\">\n",
       "      <th></th>\n",
       "      <th>Principal</th>\n",
       "      <th>Coupon Rate</th>\n",
       "      <th>Maturity (Date)</th>\n",
       "    </tr>\n",
       "  </thead>\n",
       "  <tbody>\n",
       "    <tr>\n",
       "      <th>0</th>\n",
       "      <td>300000</td>\n",
       "      <td>0.07</td>\n",
       "      <td>2021-11-06</td>\n",
       "    </tr>\n",
       "    <tr>\n",
       "      <th>1</th>\n",
       "      <td>500000</td>\n",
       "      <td>0.05</td>\n",
       "      <td>2022-11-06</td>\n",
       "    </tr>\n",
       "    <tr>\n",
       "      <th>2</th>\n",
       "      <td>200000</td>\n",
       "      <td>0.06</td>\n",
       "      <td>2023-11-06</td>\n",
       "    </tr>\n",
       "  </tbody>\n",
       "</table>\n",
       "</div>"
      ],
      "text/plain": [
       "   Principal  Coupon Rate Maturity (Date)\n",
       "0     300000         0.07      2021-11-06\n",
       "1     500000         0.05      2022-11-06\n",
       "2     200000         0.06      2023-11-06"
      ]
     },
     "execution_count": 21,
     "metadata": {},
     "output_type": "execute_result"
    }
   ],
   "source": [
    "df = df.drop(['Maturity (years)', 'Value'], axis=1)  # axis=1 here means column, the command can also be used to drop rows with axis=0\n",
    "df"
   ]
  },
  {
   "cell_type": "markdown",
   "metadata": {},
   "source": [
    "### Setting the Data Type Correctly\n",
    "\n",
    "Depending on your data, `pandas` may or may not know where your dates are. You can check this by looking at the data types (`dtypes`) of the columns:"
   ]
  },
  {
   "cell_type": "code",
   "execution_count": 22,
   "metadata": {},
   "outputs": [
    {
     "data": {
      "text/plain": [
       "Principal                   int64\n",
       "Coupon Rate               float64\n",
       "Maturity (Date)    datetime64[ns]\n",
       "dtype: object"
      ]
     },
     "execution_count": 22,
     "metadata": {},
     "output_type": "execute_result"
    }
   ],
   "source": [
    "df.dtypes"
   ]
  },
  {
   "cell_type": "markdown",
   "metadata": {},
   "source": [
    "We can see here the data type for maturity is listed as `datetime64[ns]`, which means it's a date, which is what we want. If it instead was coming as `object`, then we would have to run the following command:"
   ]
  },
  {
   "cell_type": "code",
   "execution_count": 23,
   "metadata": {},
   "outputs": [],
   "source": [
    "df['Maturity (Date)'] = pd.to_datetime(df['Maturity (Date)'])"
   ]
  },
  {
   "cell_type": "code",
   "execution_count": 24,
   "metadata": {},
   "outputs": [
    {
     "data": {
      "text/html": [
       "<div>\n",
       "<style scoped>\n",
       "    .dataframe tbody tr th:only-of-type {\n",
       "        vertical-align: middle;\n",
       "    }\n",
       "\n",
       "    .dataframe tbody tr th {\n",
       "        vertical-align: top;\n",
       "    }\n",
       "\n",
       "    .dataframe thead th {\n",
       "        text-align: right;\n",
       "    }\n",
       "</style>\n",
       "<table border=\"1\" class=\"dataframe\">\n",
       "  <thead>\n",
       "    <tr style=\"text-align: right;\">\n",
       "      <th></th>\n",
       "      <th>Principal</th>\n",
       "      <th>Coupon Rate</th>\n",
       "      <th>Maturity (Date)</th>\n",
       "    </tr>\n",
       "  </thead>\n",
       "  <tbody>\n",
       "    <tr>\n",
       "      <th>0</th>\n",
       "      <td>300000</td>\n",
       "      <td>0.07</td>\n",
       "      <td>2021-11-06</td>\n",
       "    </tr>\n",
       "    <tr>\n",
       "      <th>1</th>\n",
       "      <td>500000</td>\n",
       "      <td>0.05</td>\n",
       "      <td>2022-11-06</td>\n",
       "    </tr>\n",
       "    <tr>\n",
       "      <th>2</th>\n",
       "      <td>200000</td>\n",
       "      <td>0.06</td>\n",
       "      <td>2023-11-06</td>\n",
       "    </tr>\n",
       "  </tbody>\n",
       "</table>\n",
       "</div>"
      ],
      "text/plain": [
       "   Principal  Coupon Rate Maturity (Date)\n",
       "0     300000         0.07      2021-11-06\n",
       "1     500000         0.05      2022-11-06\n",
       "2     200000         0.06      2023-11-06"
      ]
     },
     "execution_count": 24,
     "metadata": {},
     "output_type": "execute_result"
    }
   ],
   "source": [
    "df"
   ]
  },
  {
   "cell_type": "code",
   "execution_count": 25,
   "metadata": {},
   "outputs": [
    {
     "data": {
      "text/plain": [
       "Principal                   int64\n",
       "Coupon Rate               float64\n",
       "Maturity (Date)    datetime64[ns]\n",
       "dtype: object"
      ]
     },
     "execution_count": 25,
     "metadata": {},
     "output_type": "execute_result"
    }
   ],
   "source": [
    "df.dtypes"
   ]
  },
  {
   "cell_type": "markdown",
   "metadata": {},
   "source": [
    "As we already had it as a date, it had no effect, but it didn't hurt."
   ]
  },
  {
   "cell_type": "markdown",
   "metadata": {},
   "source": [
    "### Calculating the Difference Between the Maturity Date and Today\n",
    "\n",
    "Let's first pull a single date from the `DataFrame` to work with."
   ]
  },
  {
   "cell_type": "code",
   "execution_count": 26,
   "metadata": {},
   "outputs": [
    {
     "data": {
      "text/plain": [
       "Timestamp('2021-11-06 00:00:00')"
      ]
     },
     "execution_count": 26,
     "metadata": {},
     "output_type": "execute_result"
    }
   ],
   "source": [
    "date = df.loc[0, 'Maturity (Date)']  # get the first row (0-indexed) value from the Maturity (Date) column\n",
    "date"
   ]
  },
  {
   "cell_type": "markdown",
   "metadata": {},
   "source": [
    "We can see this value shows as a `Timestamp`, which is the way `pandas` represents dates.\n",
    "\n",
    "Next we need to get the value for today. We can use the built-in `datetime` module for this."
   ]
  },
  {
   "cell_type": "code",
   "execution_count": 27,
   "metadata": {},
   "outputs": [
    {
     "data": {
      "text/plain": [
       "datetime.datetime(2020, 3, 30, 18, 11, 30, 188646)"
      ]
     },
     "execution_count": 27,
     "metadata": {},
     "output_type": "execute_result"
    }
   ],
   "source": [
    "import datetime\n",
    "today = datetime.datetime.today()\n",
    "today"
   ]
  },
  {
   "cell_type": "markdown",
   "metadata": {},
   "source": [
    "This is a `datetime.datetime` object, which works just fine with `pandas`' `Timestamp`. We can directly do math with them:"
   ]
  },
  {
   "cell_type": "code",
   "execution_count": 28,
   "metadata": {},
   "outputs": [
    {
     "data": {
      "text/plain": [
       "Timedelta('585 days 05:48:29.811354')"
      ]
     },
     "execution_count": 28,
     "metadata": {},
     "output_type": "execute_result"
    }
   ],
   "source": [
    "diff = date - today\n",
    "diff"
   ]
  },
  {
   "cell_type": "markdown",
   "metadata": {},
   "source": [
    "The difference between two datetime objects is a `Timedelta` object. Now to get a number of years (or any time horizon), we convert it into the total number of seconds, then convert the seconds into years."
   ]
  },
  {
   "cell_type": "code",
   "execution_count": 29,
   "metadata": {},
   "outputs": [
    {
     "data": {
      "text/plain": [
       "50564909.811354"
      ]
     },
     "execution_count": 29,
     "metadata": {},
     "output_type": "execute_result"
    }
   ],
   "source": [
    "seconds = diff.total_seconds()\n",
    "seconds"
   ]
  },
  {
   "cell_type": "code",
   "execution_count": 30,
   "metadata": {},
   "outputs": [
    {
     "data": {
      "text/plain": [
       "31536000"
      ]
     },
     "execution_count": 30,
     "metadata": {},
     "output_type": "execute_result"
    }
   ],
   "source": [
    "seconds_per_year = 60 * 60 * 24 * 365\n",
    "seconds_per_year"
   ]
  },
  {
   "cell_type": "code",
   "execution_count": 31,
   "metadata": {},
   "outputs": [
    {
     "data": {
      "text/plain": [
       "1.6034027717958523"
      ]
     },
     "execution_count": 31,
     "metadata": {},
     "output_type": "execute_result"
    }
   ],
   "source": [
    "years_elapsed = seconds / seconds_per_year\n",
    "years_elapsed"
   ]
  },
  {
   "cell_type": "markdown",
   "metadata": {},
   "source": [
    "It may be a little bit off due to leap years. You can certainly adjust for this, but this is usually \"good enough\" and handling leap years is outside the scope of the class.\n",
    "\n",
    "Let's create a function for this."
   ]
  },
  {
   "cell_type": "code",
   "execution_count": 32,
   "metadata": {},
   "outputs": [
    {
     "data": {
      "text/plain": [
       "1.6034027682953134"
      ]
     },
     "execution_count": 32,
     "metadata": {},
     "output_type": "execute_result"
    }
   ],
   "source": [
    "def years_until_from_date(date):\n",
    "    \"\"\"\n",
    "    Calculate the number of years until a date, starting from today.\n",
    "    \"\"\"\n",
    "    today = datetime.datetime.today()\n",
    "    diff = date - today\n",
    "    seconds = diff.total_seconds()\n",
    "    seconds_per_year = 60 * 60 * 24 * 365\n",
    "    years_elapsed = seconds / seconds_per_year\n",
    "    return years_elapsed\n",
    "\n",
    "years_until_from_date(date)"
   ]
  },
  {
   "cell_type": "markdown",
   "metadata": {},
   "source": [
    "You'll notice it's slightly different, because some seconds have elapsed since running the prior commands! Now let's create the version to use with `DataFrame.apply`."
   ]
  },
  {
   "cell_type": "code",
   "execution_count": 33,
   "metadata": {},
   "outputs": [
    {
     "data": {
      "text/plain": [
       "0    1.603403\n",
       "1    2.603403\n",
       "2    3.603403\n",
       "dtype: float64"
      ]
     },
     "execution_count": 33,
     "metadata": {},
     "output_type": "execute_result"
    }
   ],
   "source": [
    "def years_until_from_date_for_apply(series, date_col='Maturity (Date)'):\n",
    "    date = series[date_col]\n",
    "    return years_until_from_date(date)\n",
    "\n",
    "df.apply(years_until_from_date_for_apply, axis=1)"
   ]
  },
  {
   "cell_type": "markdown",
   "metadata": {},
   "source": [
    "Now to wrap it up we can assign back to the `DataFrame`."
   ]
  },
  {
   "cell_type": "code",
   "execution_count": 34,
   "metadata": {},
   "outputs": [
    {
     "data": {
      "text/html": [
       "<div>\n",
       "<style scoped>\n",
       "    .dataframe tbody tr th:only-of-type {\n",
       "        vertical-align: middle;\n",
       "    }\n",
       "\n",
       "    .dataframe tbody tr th {\n",
       "        vertical-align: top;\n",
       "    }\n",
       "\n",
       "    .dataframe thead th {\n",
       "        text-align: right;\n",
       "    }\n",
       "</style>\n",
       "<table border=\"1\" class=\"dataframe\">\n",
       "  <thead>\n",
       "    <tr style=\"text-align: right;\">\n",
       "      <th></th>\n",
       "      <th>Principal</th>\n",
       "      <th>Coupon Rate</th>\n",
       "      <th>Maturity (Date)</th>\n",
       "      <th>Maturity (years)</th>\n",
       "    </tr>\n",
       "  </thead>\n",
       "  <tbody>\n",
       "    <tr>\n",
       "      <th>0</th>\n",
       "      <td>300000</td>\n",
       "      <td>0.07</td>\n",
       "      <td>2021-11-06</td>\n",
       "      <td>1.603403</td>\n",
       "    </tr>\n",
       "    <tr>\n",
       "      <th>1</th>\n",
       "      <td>500000</td>\n",
       "      <td>0.05</td>\n",
       "      <td>2022-11-06</td>\n",
       "      <td>2.603403</td>\n",
       "    </tr>\n",
       "    <tr>\n",
       "      <th>2</th>\n",
       "      <td>200000</td>\n",
       "      <td>0.06</td>\n",
       "      <td>2023-11-06</td>\n",
       "      <td>3.603403</td>\n",
       "    </tr>\n",
       "  </tbody>\n",
       "</table>\n",
       "</div>"
      ],
      "text/plain": [
       "   Principal  Coupon Rate Maturity (Date)  Maturity (years)\n",
       "0     300000         0.07      2021-11-06          1.603403\n",
       "1     500000         0.05      2022-11-06          2.603403\n",
       "2     200000         0.06      2023-11-06          3.603403"
      ]
     },
     "execution_count": 34,
     "metadata": {},
     "output_type": "execute_result"
    }
   ],
   "source": [
    "df['Maturity (years)'] = df.apply(years_until_from_date_for_apply, axis=1)\n",
    "df"
   ]
  },
  {
   "cell_type": "markdown",
   "metadata": {},
   "source": [
    "Which now allows us to calculate the value, this time using our calculated maturity."
   ]
  },
  {
   "cell_type": "code",
   "execution_count": 35,
   "metadata": {},
   "outputs": [
    {
     "data": {
      "text/html": [
       "<div>\n",
       "<style scoped>\n",
       "    .dataframe tbody tr th:only-of-type {\n",
       "        vertical-align: middle;\n",
       "    }\n",
       "\n",
       "    .dataframe tbody tr th {\n",
       "        vertical-align: top;\n",
       "    }\n",
       "\n",
       "    .dataframe thead th {\n",
       "        text-align: right;\n",
       "    }\n",
       "</style>\n",
       "<table border=\"1\" class=\"dataframe\">\n",
       "  <thead>\n",
       "    <tr style=\"text-align: right;\">\n",
       "      <th></th>\n",
       "      <th>Principal</th>\n",
       "      <th>Coupon Rate</th>\n",
       "      <th>Maturity (Date)</th>\n",
       "      <th>Maturity (years)</th>\n",
       "      <th>Value</th>\n",
       "    </tr>\n",
       "  </thead>\n",
       "  <tbody>\n",
       "    <tr>\n",
       "      <th>0</th>\n",
       "      <td>300000</td>\n",
       "      <td>0.07</td>\n",
       "      <td>2021-11-06</td>\n",
       "      <td>1.603403</td>\n",
       "      <td>295646.641081</td>\n",
       "    </tr>\n",
       "    <tr>\n",
       "      <th>1</th>\n",
       "      <td>500000</td>\n",
       "      <td>0.05</td>\n",
       "      <td>2022-11-06</td>\n",
       "      <td>2.603403</td>\n",
       "      <td>465956.671673</td>\n",
       "    </tr>\n",
       "    <tr>\n",
       "      <th>2</th>\n",
       "      <td>200000</td>\n",
       "      <td>0.06</td>\n",
       "      <td>2023-11-06</td>\n",
       "      <td>3.603403</td>\n",
       "      <td>187890.536216</td>\n",
       "    </tr>\n",
       "  </tbody>\n",
       "</table>\n",
       "</div>"
      ],
      "text/plain": [
       "   Principal  Coupon Rate Maturity (Date)  Maturity (years)          Value\n",
       "0     300000         0.07      2021-11-06          1.603403  295646.641081\n",
       "1     500000         0.05      2022-11-06          2.603403  465956.671673\n",
       "2     200000         0.06      2023-11-06          3.603403  187890.536216"
      ]
     },
     "execution_count": 35,
     "metadata": {},
     "output_type": "execute_result"
    }
   ],
   "source": [
    "df['Value'] = df.apply(mv_bond_annuity_approach_for_apply, axis=1, cost_of_debt=cost_of_debt)\n",
    "df"
   ]
  },
  {
   "cell_type": "markdown",
   "metadata": {},
   "source": [
    "And again, we can simply take the sum of those values to get the market value of debt for the firm."
   ]
  },
  {
   "cell_type": "code",
   "execution_count": 36,
   "metadata": {},
   "outputs": [
    {
     "data": {
      "text/plain": [
       "949493.848970559"
      ]
     },
     "execution_count": 36,
     "metadata": {},
     "output_type": "execute_result"
    }
   ],
   "source": [
    "mv_debt = df['Value'].sum()\n",
    "mv_debt"
   ]
  }
 ],
 "metadata": {
  "kernelspec": {
   "display_name": "Python 3",
   "language": "python",
   "name": "python3"
  },
  "language_info": {
   "codemirror_mode": {
    "name": "ipython",
    "version": 3
   },
   "file_extension": ".py",
   "mimetype": "text/x-python",
   "name": "python",
   "nbconvert_exporter": "python",
   "pygments_lexer": "ipython3",
   "version": "3.7.3"
  }
 },
 "nbformat": 4,
 "nbformat_minor": 4
}
