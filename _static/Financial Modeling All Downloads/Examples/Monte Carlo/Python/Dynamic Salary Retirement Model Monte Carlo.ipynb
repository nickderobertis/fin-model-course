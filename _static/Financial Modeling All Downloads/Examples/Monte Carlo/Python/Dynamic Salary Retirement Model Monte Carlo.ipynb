{
 "cells": [
  {
   "cell_type": "markdown",
   "metadata": {},
   "source": [
    "# Retirement Model\n",
    "\n",
    "This is a retirement model which models salary with both a constant growth rate for cost of living raises as well as regular salary increases for promotions. The model is broken up into the following sections:\n",
    "\n",
    "- [**Setup**](#Setup): Runs any imports and other setup\n",
    "- [**Inputs**](#Inputs): Defines the inputs for the model\n",
    "- [**Salaries**](#Salaries): Determining the salary in each year, considering cost of living raises and promotions\n",
    "- [**Wealths**](#Wealths): Determining the wealth in each year, considering a constant savings rate and investment rate\n",
    "- [**Retirement**](#Retirement): Determines years to retirement from the wealths over time, the main output from the model.\n",
    "- [**Results Summary**](#Results-Summary): Summarize the results with some visualizations\n",
    "- [**Sensitivity Analysis**](#Sensitivity-Analysis): Determine how sensitive the years to retirement is to the model inputs"
   ]
  },
  {
   "cell_type": "markdown",
   "metadata": {},
   "source": [
    "## Setup\n",
    "\n",
    "Setup for the later calculations are here. The necessary packages are imported."
   ]
  },
  {
   "cell_type": "code",
   "execution_count": 1,
   "metadata": {},
   "outputs": [],
   "source": [
    "from dataclasses import dataclass\n",
    "import pandas as pd\n",
    "%matplotlib inline\n",
    "import random\n",
    "import statsmodels.api as sm"
   ]
  },
  {
   "cell_type": "markdown",
   "metadata": {},
   "source": [
    "## Inputs\n",
    "\n",
    "All of the inputs for the model are defined here. A class is constructed to manage the data, and an instance of the class containing the default inputs is created."
   ]
  },
  {
   "cell_type": "code",
   "execution_count": 2,
   "metadata": {},
   "outputs": [
    {
     "data": {
      "text/plain": [
       "ModelInputs(starting_salary=60000, promos_every_n_years=5, cost_of_living_raise=0.02, promo_raise=0.15, savings_rate=0.25, interest_rate=0.05, desired_cash=1500000)"
      ]
     },
     "execution_count": 2,
     "metadata": {},
     "output_type": "execute_result"
    }
   ],
   "source": [
    "@dataclass\n",
    "class ModelInputs:\n",
    "    starting_salary: int = 60000\n",
    "    promos_every_n_years: int = 5\n",
    "    cost_of_living_raise: float = 0.02\n",
    "    promo_raise: float = 0.15\n",
    "    savings_rate: float = 0.25\n",
    "    interest_rate: float = 0.05\n",
    "    desired_cash: int = 1500000\n",
    "        \n",
    "model_data = ModelInputs()\n",
    "model_data"
   ]
  },
  {
   "cell_type": "markdown",
   "metadata": {},
   "source": [
    "## Salaries\n",
    "\n",
    "Here the salary for each year is calculated. We assume that the salary grows at a constant rate each year for cost of living raises, and then also every number of years, the salary increases by a further percentage due to a promotion or switching jobs. Based on this assumption, the salary would evolve over time with the following equation:\n",
    "\n",
    "$$s_t = s_0 (1 + r_{cl})^n (1 + r_p)^p$$\n",
    "\n",
    "Where:\n",
    "- $s_t$: Salary at year $t$\n",
    "- $s_0$: Starting salary (year 0)\n",
    "- $r_{cl}$: Annual cost of living raise\n",
    "- $r_p$: Promotion raise\n",
    "- $p$: Number of promotions\n",
    "\n",
    "And in Python format:"
   ]
  },
  {
   "cell_type": "code",
   "execution_count": 3,
   "metadata": {},
   "outputs": [],
   "source": [
    "def salary_at_year(data: ModelInputs, year):\n",
    "    \"\"\"\n",
    "    Gets the salary at a given year from the start of the model based on cost of living raises and regular promotions.\n",
    "    \"\"\"\n",
    "    # Every n years we have a promotion, so dividing the years and taking out the decimals gets the number of promotions\n",
    "    num_promos = int(year / data.promos_every_n_years)\n",
    "    \n",
    "    # This is the formula above implemented in Python\n",
    "    salary_t = data.starting_salary * (1 + data.cost_of_living_raise) ** year * (1 + data.promo_raise) ** num_promos\n",
    "    return salary_t"
   ]
  },
  {
   "cell_type": "markdown",
   "metadata": {},
   "source": [
    "That function will get the salary at a given year, so to get all the salaries we just run it on each year. But we will not know how many years to run as we should run it until the individual is able to retire. So we are just showing the first few salaries for now and will later use this function in the [Wealths](#Wealths) section of the model."
   ]
  },
  {
   "cell_type": "code",
   "execution_count": 4,
   "metadata": {},
   "outputs": [
    {
     "name": "stdout",
     "output_type": "stream",
     "text": [
      "The salary at year 1 is $61,200.\n",
      "The salary at year 2 is $62,424.\n",
      "The salary at year 3 is $63,672.\n",
      "The salary at year 4 is $64,946.\n",
      "The salary at year 5 is $76,182.\n",
      "The salary at year 6 is $77,705.\n"
     ]
    }
   ],
   "source": [
    "for i in range(6):\n",
    "    year = i + 1\n",
    "    salary = salary_at_year(model_data, year)\n",
    "    print(f'The salary at year {year} is ${salary:,.0f}.')"
   ]
  },
  {
   "cell_type": "markdown",
   "metadata": {},
   "source": [
    "As expected, with the default inputs, the salary is increasing at 2% per year. Then at year 5, there is a promotion so there is a larger increase in salary."
   ]
  },
  {
   "cell_type": "markdown",
   "metadata": {},
   "source": [
    "## Wealths\n",
    "\n",
    "The wealths portion of the model is concerned with applying the savings rate to the earned salary to calculate the cash saved, accumulating the cash saved over time, and applying the investment rate to the accumulated wealth.\n",
    "\n",
    "To calculate cash saved, it is simply:\n",
    "\n",
    "$$c_t = s_t * r_s$$\n",
    "\n",
    "Where:\n",
    "- $c_t$: Cash saved during year $t$\n",
    "- $r_s$: Savings rate"
   ]
  },
  {
   "cell_type": "code",
   "execution_count": 5,
   "metadata": {},
   "outputs": [],
   "source": [
    "def cash_saved_during_year(data: ModelInputs, year):\n",
    "    \"\"\"\n",
    "    Calculated the cash saved within a given year, by first calculating the salary at that year then applying the \n",
    "    savings rate.\n",
    "    \"\"\"\n",
    "    salary = salary_at_year(data, year)\n",
    "    cash_saved = salary * data.savings_rate\n",
    "    return cash_saved"
   ]
  },
  {
   "cell_type": "markdown",
   "metadata": {},
   "source": [
    "To get the wealth at each year, it is just applying the investment return to last year's wealth, then adding this year's cash saved:\n",
    "\n",
    "$$w_t = w_{t-1} (1 + r_i) + c_t$$\n",
    "Where:\n",
    "- $w_t$: Wealth at year $t$\n",
    "- $r_i$: Investment rate"
   ]
  },
  {
   "cell_type": "code",
   "execution_count": 6,
   "metadata": {},
   "outputs": [],
   "source": [
    "def wealth_at_year(data: ModelInputs, year, prior_wealth):\n",
    "    \"\"\"\n",
    "    Calculate the accumulated wealth for a given year, based on previous wealth, the investment rate,\n",
    "    and cash saved during the year.\n",
    "    \"\"\"\n",
    "    cash_saved = cash_saved_during_year(data, year)\n",
    "    wealth = prior_wealth * (1 + data.interest_rate) + cash_saved\n",
    "    return wealth"
   ]
  },
  {
   "cell_type": "markdown",
   "metadata": {},
   "source": [
    "Again, just like in the [Salaries](#Salaries) section, we can now get the output for each year, but we don't know ultimately how many years we will have to run it. That will be determined in the [Retirement](#Retirement) section. So for now, just show the first few years of wealth accumulation:"
   ]
  },
  {
   "cell_type": "code",
   "execution_count": 7,
   "metadata": {},
   "outputs": [
    {
     "name": "stdout",
     "output_type": "stream",
     "text": [
      "The wealth at year 1 is $15,300.\n",
      "The wealth at year 2 is $31,671.\n",
      "The wealth at year 3 is $49,173.\n",
      "The wealth at year 4 is $67,868.\n",
      "The wealth at year 5 is $90,307.\n",
      "The wealth at year 6 is $114,248.\n"
     ]
    }
   ],
   "source": [
    "prior_wealth = 0  # starting with no cash saved\n",
    "for i in range(6):\n",
    "    year = i + 1\n",
    "    wealth = wealth_at_year(model_data, year, prior_wealth)\n",
    "    print(f'The wealth at year {year} is ${wealth:,.0f}.')\n",
    "    \n",
    "    # Set next year's prior wealth to this year's wealth\n",
    "    prior_wealth = wealth"
   ]
  },
  {
   "cell_type": "markdown",
   "metadata": {},
   "source": [
    "With default inputs, the wealth is going up by approximately 25% of the salary each year, plus a bit more for investment. Then in year 6 we see a substantially larger increase because the salary is substantially larger due to the promotion. So everything is looking correct."
   ]
  },
  {
   "cell_type": "markdown",
   "metadata": {},
   "source": [
    "## Retirement\n",
    "\n",
    "This section of the model puts everything together to produce the final output of years to retirement. It uses the logic to get the wealths at each year, which in turn uses the logic to the get salary at each year. The wealth at each year is tracked over time until it hits the desired cash. Once the wealth hits the desired cash, the individual is able to retire so that year is returned as the years to retirement."
   ]
  },
  {
   "cell_type": "code",
   "execution_count": 8,
   "metadata": {},
   "outputs": [],
   "source": [
    "def years_to_retirement(data: ModelInputs, print_output=True):\n",
    "    \n",
    "    # starting with no cash saved\n",
    "    prior_wealth = 0  \n",
    "    wealth = 0\n",
    "    \n",
    "    year = 0  # will become 1 on first loop\n",
    "    \n",
    "    if print_output:\n",
    "        print('Wealths over time:') # \\n makes a blank line in the output.\n",
    "    while wealth < data.desired_cash:\n",
    "        year = year + 1\n",
    "        wealth = wealth_at_year(data, year, prior_wealth)\n",
    "        if print_output:\n",
    "            print(f'The wealth at year {year} is ${wealth:,.0f}.')\n",
    "\n",
    "        # Set next year's prior wealth to this year's wealth\n",
    "        prior_wealth = wealth\n",
    "        \n",
    "    # Now we have exited the while loop, so wealth must be >= desired_cash. Whatever last year was set\n",
    "    # is the years to retirement.\n",
    "    if print_output:\n",
    "        print(f'\\nRetirement:\\nIt will take {year} years to retire.')  # \\n makes a blank line in the output.\n",
    "    return year"
   ]
  },
  {
   "cell_type": "markdown",
   "metadata": {},
   "source": [
    "With the default inputs:"
   ]
  },
  {
   "cell_type": "code",
   "execution_count": 9,
   "metadata": {},
   "outputs": [
    {
     "name": "stdout",
     "output_type": "stream",
     "text": [
      "Wealths over time:\n",
      "The wealth at year 1 is $15,300.\n",
      "The wealth at year 2 is $31,671.\n",
      "The wealth at year 3 is $49,173.\n",
      "The wealth at year 4 is $67,868.\n",
      "The wealth at year 5 is $90,307.\n",
      "The wealth at year 6 is $114,248.\n",
      "The wealth at year 7 is $139,775.\n",
      "The wealth at year 8 is $166,975.\n",
      "The wealth at year 9 is $195,939.\n",
      "The wealth at year 10 is $229,918.\n",
      "The wealth at year 11 is $266,080.\n",
      "The wealth at year 12 is $304,542.\n",
      "The wealth at year 13 is $345,431.\n",
      "The wealth at year 14 is $388,878.\n",
      "The wealth at year 15 is $439,025.\n",
      "The wealth at year 16 is $492,294.\n",
      "The wealth at year 17 is $548,853.\n",
      "The wealth at year 18 is $608,878.\n",
      "The wealth at year 19 is $672,557.\n",
      "The wealth at year 20 is $745,168.\n",
      "The wealth at year 21 is $822,190.\n",
      "The wealth at year 22 is $903,859.\n",
      "The wealth at year 23 is $990,422.\n",
      "The wealth at year 24 is $1,082,140.\n",
      "The wealth at year 25 is $1,185,745.\n",
      "The wealth at year 26 is $1,295,520.\n",
      "The wealth at year 27 is $1,411,793.\n",
      "The wealth at year 28 is $1,534,910.\n",
      "\n",
      "Retirement:\n",
      "It will take 28 years to retire.\n"
     ]
    }
   ],
   "source": [
    "years = years_to_retirement(model_data)"
   ]
  },
  {
   "cell_type": "markdown",
   "metadata": {},
   "source": [
    "# Results Summary\n",
    "\n",
    "## Put Results in a Table\n",
    "\n",
    "Now I will visualize the salaries and wealths over time. First create a function which runs the model to put these results in a DataFrame."
   ]
  },
  {
   "cell_type": "code",
   "execution_count": 10,
   "metadata": {},
   "outputs": [],
   "source": [
    "def get_salaries_wealths_df(data):\n",
    "    \"\"\"\n",
    "    Runs the retirement model, collecting salary and wealth information year by year and storing\n",
    "    into a DataFrame for further analysis.\n",
    "    \"\"\"\n",
    "    # starting with no cash saved\n",
    "    prior_wealth = 0  \n",
    "    wealth = 0\n",
    "    \n",
    "    year = 0  # will become 1 on first loop\n",
    "    \n",
    "    df_data_tups = []\n",
    "    while wealth < data.desired_cash:\n",
    "        year = year + 1\n",
    "        salary = salary_at_year(data, year)\n",
    "        wealth = wealth_at_year(data, year, prior_wealth)\n",
    "\n",
    "        # Set next year's prior wealth to this year's wealth\n",
    "        prior_wealth = wealth\n",
    "        \n",
    "        # Save the results in a tuple for later building the DataFrame\n",
    "        df_data_tups.append((year, salary, wealth))\n",
    "        \n",
    "    # Now we have exited the while loop, so wealth must be >= desired_cash\n",
    "    \n",
    "    # Now create the DataFrame\n",
    "    df = pd.DataFrame(df_data_tups, columns=['Year', 'Salary', 'Wealth'])\n",
    "    \n",
    "    return df"
   ]
  },
  {
   "cell_type": "markdown",
   "metadata": {},
   "source": [
    "Also set up a function which formats the `DataFrame` for display."
   ]
  },
  {
   "cell_type": "code",
   "execution_count": 11,
   "metadata": {},
   "outputs": [],
   "source": [
    "def styled_salaries_wealths(df):\n",
    "    return df.style.format({\n",
    "        'Salary': '${:,.2f}',\n",
    "        'Wealth': '${:,.2f}'\n",
    "    })"
   ]
  },
  {
   "cell_type": "markdown",
   "metadata": {},
   "source": [
    "Now call the function to save the results into the `DataFrame`."
   ]
  },
  {
   "cell_type": "code",
   "execution_count": 12,
   "metadata": {},
   "outputs": [
    {
     "data": {
      "text/html": [
       "<style  type=\"text/css\" >\n",
       "</style><table id=\"T_5d19d1e2_67b8_11ea_9e36_1803734f38eb\" ><thead>    <tr>        <th class=\"blank level0\" ></th>        <th class=\"col_heading level0 col0\" >Year</th>        <th class=\"col_heading level0 col1\" >Salary</th>        <th class=\"col_heading level0 col2\" >Wealth</th>    </tr></thead><tbody>\n",
       "                <tr>\n",
       "                        <th id=\"T_5d19d1e2_67b8_11ea_9e36_1803734f38eblevel0_row0\" class=\"row_heading level0 row0\" >0</th>\n",
       "                        <td id=\"T_5d19d1e2_67b8_11ea_9e36_1803734f38ebrow0_col0\" class=\"data row0 col0\" >1</td>\n",
       "                        <td id=\"T_5d19d1e2_67b8_11ea_9e36_1803734f38ebrow0_col1\" class=\"data row0 col1\" >$61,200.00</td>\n",
       "                        <td id=\"T_5d19d1e2_67b8_11ea_9e36_1803734f38ebrow0_col2\" class=\"data row0 col2\" >$15,300.00</td>\n",
       "            </tr>\n",
       "            <tr>\n",
       "                        <th id=\"T_5d19d1e2_67b8_11ea_9e36_1803734f38eblevel0_row1\" class=\"row_heading level0 row1\" >1</th>\n",
       "                        <td id=\"T_5d19d1e2_67b8_11ea_9e36_1803734f38ebrow1_col0\" class=\"data row1 col0\" >2</td>\n",
       "                        <td id=\"T_5d19d1e2_67b8_11ea_9e36_1803734f38ebrow1_col1\" class=\"data row1 col1\" >$62,424.00</td>\n",
       "                        <td id=\"T_5d19d1e2_67b8_11ea_9e36_1803734f38ebrow1_col2\" class=\"data row1 col2\" >$31,671.00</td>\n",
       "            </tr>\n",
       "            <tr>\n",
       "                        <th id=\"T_5d19d1e2_67b8_11ea_9e36_1803734f38eblevel0_row2\" class=\"row_heading level0 row2\" >2</th>\n",
       "                        <td id=\"T_5d19d1e2_67b8_11ea_9e36_1803734f38ebrow2_col0\" class=\"data row2 col0\" >3</td>\n",
       "                        <td id=\"T_5d19d1e2_67b8_11ea_9e36_1803734f38ebrow2_col1\" class=\"data row2 col1\" >$63,672.48</td>\n",
       "                        <td id=\"T_5d19d1e2_67b8_11ea_9e36_1803734f38ebrow2_col2\" class=\"data row2 col2\" >$49,172.67</td>\n",
       "            </tr>\n",
       "            <tr>\n",
       "                        <th id=\"T_5d19d1e2_67b8_11ea_9e36_1803734f38eblevel0_row3\" class=\"row_heading level0 row3\" >3</th>\n",
       "                        <td id=\"T_5d19d1e2_67b8_11ea_9e36_1803734f38ebrow3_col0\" class=\"data row3 col0\" >4</td>\n",
       "                        <td id=\"T_5d19d1e2_67b8_11ea_9e36_1803734f38ebrow3_col1\" class=\"data row3 col1\" >$64,945.93</td>\n",
       "                        <td id=\"T_5d19d1e2_67b8_11ea_9e36_1803734f38ebrow3_col2\" class=\"data row3 col2\" >$67,867.79</td>\n",
       "            </tr>\n",
       "            <tr>\n",
       "                        <th id=\"T_5d19d1e2_67b8_11ea_9e36_1803734f38eblevel0_row4\" class=\"row_heading level0 row4\" >4</th>\n",
       "                        <td id=\"T_5d19d1e2_67b8_11ea_9e36_1803734f38ebrow4_col0\" class=\"data row4 col0\" >5</td>\n",
       "                        <td id=\"T_5d19d1e2_67b8_11ea_9e36_1803734f38ebrow4_col1\" class=\"data row4 col1\" >$76,181.58</td>\n",
       "                        <td id=\"T_5d19d1e2_67b8_11ea_9e36_1803734f38ebrow4_col2\" class=\"data row4 col2\" >$90,306.57</td>\n",
       "            </tr>\n",
       "            <tr>\n",
       "                        <th id=\"T_5d19d1e2_67b8_11ea_9e36_1803734f38eblevel0_row5\" class=\"row_heading level0 row5\" >5</th>\n",
       "                        <td id=\"T_5d19d1e2_67b8_11ea_9e36_1803734f38ebrow5_col0\" class=\"data row5 col0\" >6</td>\n",
       "                        <td id=\"T_5d19d1e2_67b8_11ea_9e36_1803734f38ebrow5_col1\" class=\"data row5 col1\" >$77,705.21</td>\n",
       "                        <td id=\"T_5d19d1e2_67b8_11ea_9e36_1803734f38ebrow5_col2\" class=\"data row5 col2\" >$114,248.20</td>\n",
       "            </tr>\n",
       "            <tr>\n",
       "                        <th id=\"T_5d19d1e2_67b8_11ea_9e36_1803734f38eblevel0_row6\" class=\"row_heading level0 row6\" >6</th>\n",
       "                        <td id=\"T_5d19d1e2_67b8_11ea_9e36_1803734f38ebrow6_col0\" class=\"data row6 col0\" >7</td>\n",
       "                        <td id=\"T_5d19d1e2_67b8_11ea_9e36_1803734f38ebrow6_col1\" class=\"data row6 col1\" >$79,259.31</td>\n",
       "                        <td id=\"T_5d19d1e2_67b8_11ea_9e36_1803734f38ebrow6_col2\" class=\"data row6 col2\" >$139,775.44</td>\n",
       "            </tr>\n",
       "            <tr>\n",
       "                        <th id=\"T_5d19d1e2_67b8_11ea_9e36_1803734f38eblevel0_row7\" class=\"row_heading level0 row7\" >7</th>\n",
       "                        <td id=\"T_5d19d1e2_67b8_11ea_9e36_1803734f38ebrow7_col0\" class=\"data row7 col0\" >8</td>\n",
       "                        <td id=\"T_5d19d1e2_67b8_11ea_9e36_1803734f38ebrow7_col1\" class=\"data row7 col1\" >$80,844.50</td>\n",
       "                        <td id=\"T_5d19d1e2_67b8_11ea_9e36_1803734f38ebrow7_col2\" class=\"data row7 col2\" >$166,975.33</td>\n",
       "            </tr>\n",
       "            <tr>\n",
       "                        <th id=\"T_5d19d1e2_67b8_11ea_9e36_1803734f38eblevel0_row8\" class=\"row_heading level0 row8\" >8</th>\n",
       "                        <td id=\"T_5d19d1e2_67b8_11ea_9e36_1803734f38ebrow8_col0\" class=\"data row8 col0\" >9</td>\n",
       "                        <td id=\"T_5d19d1e2_67b8_11ea_9e36_1803734f38ebrow8_col1\" class=\"data row8 col1\" >$82,461.39</td>\n",
       "                        <td id=\"T_5d19d1e2_67b8_11ea_9e36_1803734f38ebrow8_col2\" class=\"data row8 col2\" >$195,939.45</td>\n",
       "            </tr>\n",
       "            <tr>\n",
       "                        <th id=\"T_5d19d1e2_67b8_11ea_9e36_1803734f38eblevel0_row9\" class=\"row_heading level0 row9\" >9</th>\n",
       "                        <td id=\"T_5d19d1e2_67b8_11ea_9e36_1803734f38ebrow9_col0\" class=\"data row9 col0\" >10</td>\n",
       "                        <td id=\"T_5d19d1e2_67b8_11ea_9e36_1803734f38ebrow9_col1\" class=\"data row9 col1\" >$96,727.21</td>\n",
       "                        <td id=\"T_5d19d1e2_67b8_11ea_9e36_1803734f38ebrow9_col2\" class=\"data row9 col2\" >$229,918.22</td>\n",
       "            </tr>\n",
       "            <tr>\n",
       "                        <th id=\"T_5d19d1e2_67b8_11ea_9e36_1803734f38eblevel0_row10\" class=\"row_heading level0 row10\" >10</th>\n",
       "                        <td id=\"T_5d19d1e2_67b8_11ea_9e36_1803734f38ebrow10_col0\" class=\"data row10 col0\" >11</td>\n",
       "                        <td id=\"T_5d19d1e2_67b8_11ea_9e36_1803734f38ebrow10_col1\" class=\"data row10 col1\" >$98,661.75</td>\n",
       "                        <td id=\"T_5d19d1e2_67b8_11ea_9e36_1803734f38ebrow10_col2\" class=\"data row10 col2\" >$266,079.57</td>\n",
       "            </tr>\n",
       "            <tr>\n",
       "                        <th id=\"T_5d19d1e2_67b8_11ea_9e36_1803734f38eblevel0_row11\" class=\"row_heading level0 row11\" >11</th>\n",
       "                        <td id=\"T_5d19d1e2_67b8_11ea_9e36_1803734f38ebrow11_col0\" class=\"data row11 col0\" >12</td>\n",
       "                        <td id=\"T_5d19d1e2_67b8_11ea_9e36_1803734f38ebrow11_col1\" class=\"data row11 col1\" >$100,634.99</td>\n",
       "                        <td id=\"T_5d19d1e2_67b8_11ea_9e36_1803734f38ebrow11_col2\" class=\"data row11 col2\" >$304,542.29</td>\n",
       "            </tr>\n",
       "            <tr>\n",
       "                        <th id=\"T_5d19d1e2_67b8_11ea_9e36_1803734f38eblevel0_row12\" class=\"row_heading level0 row12\" >12</th>\n",
       "                        <td id=\"T_5d19d1e2_67b8_11ea_9e36_1803734f38ebrow12_col0\" class=\"data row12 col0\" >13</td>\n",
       "                        <td id=\"T_5d19d1e2_67b8_11ea_9e36_1803734f38ebrow12_col1\" class=\"data row12 col1\" >$102,647.69</td>\n",
       "                        <td id=\"T_5d19d1e2_67b8_11ea_9e36_1803734f38ebrow12_col2\" class=\"data row12 col2\" >$345,431.33</td>\n",
       "            </tr>\n",
       "            <tr>\n",
       "                        <th id=\"T_5d19d1e2_67b8_11ea_9e36_1803734f38eblevel0_row13\" class=\"row_heading level0 row13\" >13</th>\n",
       "                        <td id=\"T_5d19d1e2_67b8_11ea_9e36_1803734f38ebrow13_col0\" class=\"data row13 col0\" >14</td>\n",
       "                        <td id=\"T_5d19d1e2_67b8_11ea_9e36_1803734f38ebrow13_col1\" class=\"data row13 col1\" >$104,700.64</td>\n",
       "                        <td id=\"T_5d19d1e2_67b8_11ea_9e36_1803734f38ebrow13_col2\" class=\"data row13 col2\" >$388,878.06</td>\n",
       "            </tr>\n",
       "            <tr>\n",
       "                        <th id=\"T_5d19d1e2_67b8_11ea_9e36_1803734f38eblevel0_row14\" class=\"row_heading level0 row14\" >14</th>\n",
       "                        <td id=\"T_5d19d1e2_67b8_11ea_9e36_1803734f38ebrow14_col0\" class=\"data row14 col0\" >15</td>\n",
       "                        <td id=\"T_5d19d1e2_67b8_11ea_9e36_1803734f38ebrow14_col1\" class=\"data row14 col1\" >$122,813.85</td>\n",
       "                        <td id=\"T_5d19d1e2_67b8_11ea_9e36_1803734f38ebrow14_col2\" class=\"data row14 col2\" >$439,025.42</td>\n",
       "            </tr>\n",
       "            <tr>\n",
       "                        <th id=\"T_5d19d1e2_67b8_11ea_9e36_1803734f38eblevel0_row15\" class=\"row_heading level0 row15\" >15</th>\n",
       "                        <td id=\"T_5d19d1e2_67b8_11ea_9e36_1803734f38ebrow15_col0\" class=\"data row15 col0\" >16</td>\n",
       "                        <td id=\"T_5d19d1e2_67b8_11ea_9e36_1803734f38ebrow15_col1\" class=\"data row15 col1\" >$125,270.13</td>\n",
       "                        <td id=\"T_5d19d1e2_67b8_11ea_9e36_1803734f38ebrow15_col2\" class=\"data row15 col2\" >$492,294.23</td>\n",
       "            </tr>\n",
       "            <tr>\n",
       "                        <th id=\"T_5d19d1e2_67b8_11ea_9e36_1803734f38eblevel0_row16\" class=\"row_heading level0 row16\" >16</th>\n",
       "                        <td id=\"T_5d19d1e2_67b8_11ea_9e36_1803734f38ebrow16_col0\" class=\"data row16 col0\" >17</td>\n",
       "                        <td id=\"T_5d19d1e2_67b8_11ea_9e36_1803734f38ebrow16_col1\" class=\"data row16 col1\" >$127,775.53</td>\n",
       "                        <td id=\"T_5d19d1e2_67b8_11ea_9e36_1803734f38ebrow16_col2\" class=\"data row16 col2\" >$548,852.82</td>\n",
       "            </tr>\n",
       "            <tr>\n",
       "                        <th id=\"T_5d19d1e2_67b8_11ea_9e36_1803734f38eblevel0_row17\" class=\"row_heading level0 row17\" >17</th>\n",
       "                        <td id=\"T_5d19d1e2_67b8_11ea_9e36_1803734f38ebrow17_col0\" class=\"data row17 col0\" >18</td>\n",
       "                        <td id=\"T_5d19d1e2_67b8_11ea_9e36_1803734f38ebrow17_col1\" class=\"data row17 col1\" >$130,331.04</td>\n",
       "                        <td id=\"T_5d19d1e2_67b8_11ea_9e36_1803734f38ebrow17_col2\" class=\"data row17 col2\" >$608,878.22</td>\n",
       "            </tr>\n",
       "            <tr>\n",
       "                        <th id=\"T_5d19d1e2_67b8_11ea_9e36_1803734f38eblevel0_row18\" class=\"row_heading level0 row18\" >18</th>\n",
       "                        <td id=\"T_5d19d1e2_67b8_11ea_9e36_1803734f38ebrow18_col0\" class=\"data row18 col0\" >19</td>\n",
       "                        <td id=\"T_5d19d1e2_67b8_11ea_9e36_1803734f38ebrow18_col1\" class=\"data row18 col1\" >$132,937.66</td>\n",
       "                        <td id=\"T_5d19d1e2_67b8_11ea_9e36_1803734f38ebrow18_col2\" class=\"data row18 col2\" >$672,556.55</td>\n",
       "            </tr>\n",
       "            <tr>\n",
       "                        <th id=\"T_5d19d1e2_67b8_11ea_9e36_1803734f38eblevel0_row19\" class=\"row_heading level0 row19\" >19</th>\n",
       "                        <td id=\"T_5d19d1e2_67b8_11ea_9e36_1803734f38ebrow19_col0\" class=\"data row19 col0\" >20</td>\n",
       "                        <td id=\"T_5d19d1e2_67b8_11ea_9e36_1803734f38ebrow19_col1\" class=\"data row19 col1\" >$155,935.88</td>\n",
       "                        <td id=\"T_5d19d1e2_67b8_11ea_9e36_1803734f38ebrow19_col2\" class=\"data row19 col2\" >$745,168.34</td>\n",
       "            </tr>\n",
       "            <tr>\n",
       "                        <th id=\"T_5d19d1e2_67b8_11ea_9e36_1803734f38eblevel0_row20\" class=\"row_heading level0 row20\" >20</th>\n",
       "                        <td id=\"T_5d19d1e2_67b8_11ea_9e36_1803734f38ebrow20_col0\" class=\"data row20 col0\" >21</td>\n",
       "                        <td id=\"T_5d19d1e2_67b8_11ea_9e36_1803734f38ebrow20_col1\" class=\"data row20 col1\" >$159,054.59</td>\n",
       "                        <td id=\"T_5d19d1e2_67b8_11ea_9e36_1803734f38ebrow20_col2\" class=\"data row20 col2\" >$822,190.41</td>\n",
       "            </tr>\n",
       "            <tr>\n",
       "                        <th id=\"T_5d19d1e2_67b8_11ea_9e36_1803734f38eblevel0_row21\" class=\"row_heading level0 row21\" >21</th>\n",
       "                        <td id=\"T_5d19d1e2_67b8_11ea_9e36_1803734f38ebrow21_col0\" class=\"data row21 col0\" >22</td>\n",
       "                        <td id=\"T_5d19d1e2_67b8_11ea_9e36_1803734f38ebrow21_col1\" class=\"data row21 col1\" >$162,235.69</td>\n",
       "                        <td id=\"T_5d19d1e2_67b8_11ea_9e36_1803734f38ebrow21_col2\" class=\"data row21 col2\" >$903,858.85</td>\n",
       "            </tr>\n",
       "            <tr>\n",
       "                        <th id=\"T_5d19d1e2_67b8_11ea_9e36_1803734f38eblevel0_row22\" class=\"row_heading level0 row22\" >22</th>\n",
       "                        <td id=\"T_5d19d1e2_67b8_11ea_9e36_1803734f38ebrow22_col0\" class=\"data row22 col0\" >23</td>\n",
       "                        <td id=\"T_5d19d1e2_67b8_11ea_9e36_1803734f38ebrow22_col1\" class=\"data row22 col1\" >$165,480.40</td>\n",
       "                        <td id=\"T_5d19d1e2_67b8_11ea_9e36_1803734f38ebrow22_col2\" class=\"data row22 col2\" >$990,421.89</td>\n",
       "            </tr>\n",
       "            <tr>\n",
       "                        <th id=\"T_5d19d1e2_67b8_11ea_9e36_1803734f38eblevel0_row23\" class=\"row_heading level0 row23\" >23</th>\n",
       "                        <td id=\"T_5d19d1e2_67b8_11ea_9e36_1803734f38ebrow23_col0\" class=\"data row23 col0\" >24</td>\n",
       "                        <td id=\"T_5d19d1e2_67b8_11ea_9e36_1803734f38ebrow23_col1\" class=\"data row23 col1\" >$168,790.01</td>\n",
       "                        <td id=\"T_5d19d1e2_67b8_11ea_9e36_1803734f38ebrow23_col2\" class=\"data row23 col2\" >$1,082,140.49</td>\n",
       "            </tr>\n",
       "            <tr>\n",
       "                        <th id=\"T_5d19d1e2_67b8_11ea_9e36_1803734f38eblevel0_row24\" class=\"row_heading level0 row24\" >24</th>\n",
       "                        <td id=\"T_5d19d1e2_67b8_11ea_9e36_1803734f38ebrow24_col0\" class=\"data row24 col0\" >25</td>\n",
       "                        <td id=\"T_5d19d1e2_67b8_11ea_9e36_1803734f38ebrow24_col1\" class=\"data row24 col1\" >$197,990.68</td>\n",
       "                        <td id=\"T_5d19d1e2_67b8_11ea_9e36_1803734f38ebrow24_col2\" class=\"data row24 col2\" >$1,185,745.19</td>\n",
       "            </tr>\n",
       "            <tr>\n",
       "                        <th id=\"T_5d19d1e2_67b8_11ea_9e36_1803734f38eblevel0_row25\" class=\"row_heading level0 row25\" >25</th>\n",
       "                        <td id=\"T_5d19d1e2_67b8_11ea_9e36_1803734f38ebrow25_col0\" class=\"data row25 col0\" >26</td>\n",
       "                        <td id=\"T_5d19d1e2_67b8_11ea_9e36_1803734f38ebrow25_col1\" class=\"data row25 col1\" >$201,950.49</td>\n",
       "                        <td id=\"T_5d19d1e2_67b8_11ea_9e36_1803734f38ebrow25_col2\" class=\"data row25 col2\" >$1,295,520.07</td>\n",
       "            </tr>\n",
       "            <tr>\n",
       "                        <th id=\"T_5d19d1e2_67b8_11ea_9e36_1803734f38eblevel0_row26\" class=\"row_heading level0 row26\" >26</th>\n",
       "                        <td id=\"T_5d19d1e2_67b8_11ea_9e36_1803734f38ebrow26_col0\" class=\"data row26 col0\" >27</td>\n",
       "                        <td id=\"T_5d19d1e2_67b8_11ea_9e36_1803734f38ebrow26_col1\" class=\"data row26 col1\" >$205,989.50</td>\n",
       "                        <td id=\"T_5d19d1e2_67b8_11ea_9e36_1803734f38ebrow26_col2\" class=\"data row26 col2\" >$1,411,793.45</td>\n",
       "            </tr>\n",
       "            <tr>\n",
       "                        <th id=\"T_5d19d1e2_67b8_11ea_9e36_1803734f38eblevel0_row27\" class=\"row_heading level0 row27\" >27</th>\n",
       "                        <td id=\"T_5d19d1e2_67b8_11ea_9e36_1803734f38ebrow27_col0\" class=\"data row27 col0\" >28</td>\n",
       "                        <td id=\"T_5d19d1e2_67b8_11ea_9e36_1803734f38ebrow27_col1\" class=\"data row27 col1\" >$210,109.29</td>\n",
       "                        <td id=\"T_5d19d1e2_67b8_11ea_9e36_1803734f38ebrow27_col2\" class=\"data row27 col2\" >$1,534,910.44</td>\n",
       "            </tr>\n",
       "    </tbody></table>"
      ],
      "text/plain": [
       "<pandas.io.formats.style.Styler at 0x7f679e5a7438>"
      ]
     },
     "execution_count": 12,
     "metadata": {},
     "output_type": "execute_result"
    }
   ],
   "source": [
    "df = get_salaries_wealths_df(model_data)\n",
    "styled_salaries_wealths(df)"
   ]
  },
  {
   "cell_type": "markdown",
   "metadata": {},
   "source": [
    "## Plot Results\n",
    "\n",
    "Now I will visualize the salaries and wealths over time."
   ]
  },
  {
   "cell_type": "markdown",
   "metadata": {},
   "source": [
    "### Salaries over Time"
   ]
  },
  {
   "cell_type": "code",
   "execution_count": 13,
   "metadata": {},
   "outputs": [
    {
     "data": {
      "text/plain": [
       "<matplotlib.axes._subplots.AxesSubplot at 0x7f679e1d7fd0>"
      ]
     },
     "execution_count": 13,
     "metadata": {},
     "output_type": "execute_result"
    },
    {
     "data": {
      "image/png": "[encoded data removed]",
      "text/plain": [
       "<Figure size 432x288 with 1 Axes>"
      ]
     },
     "metadata": {
      "needs_background": "light"
     },
     "output_type": "display_data"
    }
   ],
   "source": [
    "df.plot.line(x='Year', y='Salary')"
   ]
  },
  {
   "cell_type": "markdown",
   "metadata": {},
   "source": [
    "### Wealths over Time"
   ]
  },
  {
   "cell_type": "code",
   "execution_count": 14,
   "metadata": {},
   "outputs": [
    {
     "data": {
      "text/plain": [
       "<matplotlib.axes._subplots.AxesSubplot at 0x7f679bcc4128>"
      ]
     },
     "execution_count": 14,
     "metadata": {},
     "output_type": "execute_result"
    },
    {
     "data": {
      "image/png": "[encoded data removed]",
      "text/plain": [
       "<Figure size 432x288 with 1 Axes>"
      ]
     },
     "metadata": {
      "needs_background": "light"
     },
     "output_type": "display_data"
    }
   ],
   "source": [
    "df.plot.line(x='Year', y='Wealth')"
   ]
  },
  {
   "cell_type": "code",
   "execution_count": 15,
   "metadata": {},
   "outputs": [
    {
     "data": {
      "text/plain": [
       "<matplotlib.axes._subplots.AxesSubplot at 0x7f679bc4f588>"
      ]
     },
     "execution_count": 15,
     "metadata": {},
     "output_type": "execute_result"
    },
    {
     "data": {
      "image/png": "[encoded data removed]",
      "text/plain": [
       "<Figure size 432x288 with 1 Axes>"
      ]
     },
     "metadata": {
      "needs_background": "light"
     },
     "output_type": "display_data"
    }
   ],
   "source": [
    "df.plot.line(x='Year', y='Salary')"
   ]
  },
  {
   "cell_type": "markdown",
   "metadata": {},
   "source": [
    "# Monte Carlo Simulations\n",
    "\n",
    "The goal with these simulations is to evaluate the probabilities of different years to retirement and also get a better understanding of how each input affects years to retirement, once all the inputs are changing.\n",
    "\n",
    "## Monte Carlo Setup\n",
    "\n",
    "First, I will create a new `dataclass` which captures the new model inputs, which are the standard deviations of each of the inputs, as well as the number of iterations. I will use the existing inputs as the means of each input.\n",
    "\n",
    "> Note: The existing `ModelInputs` will still be used, now these two `dataclass`es work together."
   ]
  },
  {
   "cell_type": "code",
   "execution_count": 16,
   "metadata": {},
   "outputs": [],
   "source": [
    "@dataclass\n",
    "class SimluationInputs:\n",
    "    n_iterations: int = 10000\n",
    "    starting_salary_std: int = 10000\n",
    "    promos_every_n_years_std: int = 1.5\n",
    "    cost_of_living_raise_std: float = 0.005\n",
    "    promo_raise_std: float = 0.05\n",
    "    savings_rate_std: float = 0.07\n",
    "    interest_rate_std: float = 0.01\n",
    "        \n",
    "sim_data = SimluationInputs()"
   ]
  },
  {
   "cell_type": "markdown",
   "metadata": {},
   "source": [
    "## A Single Simulation Run"
   ]
  },
  {
   "cell_type": "markdown",
   "metadata": {},
   "source": [
    "Now I will create a functions that picks values of the main model inputs from normal distributions, then runs the model and returns the inputs as well as the years to retirement.\n",
    "\n",
    "I will need to filter out any nonsensical values in the simulation. For each of the inputs, if it drops below zero, I will draw another input."
   ]
  },
  {
   "cell_type": "code",
   "execution_count": 17,
   "metadata": {},
   "outputs": [],
   "source": [
    "def random_normal_positive(mean, std):\n",
    "    \"\"\"\n",
    "    This function keeps drawing random numbers from a normal distribution until it gets a positive number,\n",
    "    then it returns that number.\n",
    "    \"\"\"\n",
    "    drawn_value = -1  # initialize to some negative number so that the while loop will start\n",
    "    while drawn_value < 0:\n",
    "        drawn_value = random.normalvariate(mean, std)\n",
    "    return drawn_value\n",
    "\n",
    "def years_to_retirement_simulation_inputs(data, sim_data):\n",
    "    \"\"\"\n",
    "    Randomly picks values from normal distributions for:\n",
    "    - starting salary \n",
    "    - promotions every N years\n",
    "    - cost of living raise\n",
    "    - promotion raise\n",
    "    - savings rate\n",
    "    - interest rate\n",
    "    \n",
    "    These inputs are drawn based on using the ModelInputs values\n",
    "    as means, and the _std values in SimulationInputs as standard deviations.\n",
    "    \n",
    "    Additionally, if any drawn value is zero or below, it will be drawn again.\n",
    "    \"\"\"\n",
    "    starting_salary = random_normal_positive(data.starting_salary, sim_data.starting_salary_std)\n",
    "    promos_every_n_years = random_normal_positive(data.promos_every_n_years, sim_data.promos_every_n_years_std)\n",
    "    cost_of_living_raise = random_normal_positive(data.cost_of_living_raise, sim_data.cost_of_living_raise_std)\n",
    "    promo_raise = random_normal_positive(data.promo_raise, sim_data.promo_raise_std)\n",
    "    savings_rate = random_normal_positive(data.savings_rate, sim_data.savings_rate_std)\n",
    "    interest_rate = random_normal_positive(data.interest_rate, sim_data.interest_rate_std)\n",
    "    \n",
    "    return (\n",
    "        starting_salary,\n",
    "        promos_every_n_years,\n",
    "        cost_of_living_raise,\n",
    "        promo_raise,\n",
    "        savings_rate,\n",
    "        interest_rate,\n",
    "    )\n",
    "    "
   ]
  },
  {
   "cell_type": "code",
   "execution_count": 18,
   "metadata": {},
   "outputs": [],
   "source": [
    "def years_to_retirement_single_simulation(data, sim_data):\n",
    "    \"\"\"\n",
    "    Runs a single Monte Carlo simulation of the years to retirement model.\n",
    "    \n",
    "    Uses years_to_retirement_simulation_inputs\n",
    "    \"\"\"\n",
    "    # Draw values of inputs from normal distributions\n",
    "    (\n",
    "        starting_salary,\n",
    "        promos_every_n_years,\n",
    "        cost_of_living_raise,\n",
    "        promo_raise,\n",
    "        savings_rate,\n",
    "        interest_rate,\n",
    "    ) = years_to_retirement_simulation_inputs(data, sim_data)\n",
    "    \n",
    "    # Construct model inputs\n",
    "    new_data = ModelInputs(\n",
    "        starting_salary=starting_salary,\n",
    "        promos_every_n_years=promos_every_n_years,\n",
    "        cost_of_living_raise=cost_of_living_raise,\n",
    "        promo_raise=promo_raise,\n",
    "        savings_rate=savings_rate,\n",
    "        interest_rate=interest_rate,\n",
    "    )\n",
    "\n",
    "    # Run model\n",
    "    ytr = years_to_retirement(new_data, print_output=False)\n",
    "    \n",
    "    return (\n",
    "        starting_salary,\n",
    "        promos_every_n_years,\n",
    "        cost_of_living_raise,\n",
    "        promo_raise,\n",
    "        savings_rate,\n",
    "        interest_rate,\n",
    "        ytr\n",
    "    )"
   ]
  },
  {
   "cell_type": "markdown",
   "metadata": {},
   "source": [
    "Running the following cell runs the simulation once. Running it multiple times will show that it is indeed randomized."
   ]
  },
  {
   "cell_type": "code",
   "execution_count": 19,
   "metadata": {},
   "outputs": [
    {
     "data": {
      "text/plain": [
       "(51867.205737179494,\n",
       " 6.069297565176917,\n",
       " 0.020743034123798545,\n",
       " 0.12221189149628771,\n",
       " 0.18638719069391288,\n",
       " 0.02951031336500529,\n",
       " 41)"
      ]
     },
     "execution_count": 19,
     "metadata": {},
     "output_type": "execute_result"
    }
   ],
   "source": [
    "years_to_retirement_single_simulation(model_data, sim_data)"
   ]
  },
  {
   "cell_type": "markdown",
   "metadata": {},
   "source": [
    "## Running the Full Monte Carlo Simulation"
   ]
  },
  {
   "cell_type": "markdown",
   "metadata": {},
   "source": [
    "Now I will write a function that runs the simulations for the number of iterations in the simulation data, and outputs a DataFrame for analysis and visualization."
   ]
  },
  {
   "cell_type": "code",
   "execution_count": 20,
   "metadata": {},
   "outputs": [],
   "source": [
    "def years_to_retirement_mc(data, sim_data):\n",
    "    \"\"\"\n",
    "    Runs the full Monte Carlo simulation using years_to_retirement_single_simulation for \n",
    "    the n_iterations in the SimulationData.\n",
    "    \n",
    "    Outputs a DataFrame containing the inputs values as well as the years to retirement.\n",
    "    \"\"\"\n",
    "    all_results = [years_to_retirement_single_simulation(data, sim_data) for i in range(sim_data.n_iterations)]\n",
    "    df = pd.DataFrame(\n",
    "        all_results,\n",
    "        columns=[\n",
    "            'Starting Salary', \n",
    "            'Promotions Every $N$ Years', \n",
    "            'Cost of Living Raise', \n",
    "            'Promotion Raise', \n",
    "            'Savings Rate', \n",
    "            'Interest Rate',\n",
    "            'Years to Retirement'\n",
    "        ]\n",
    "    )\n",
    "    return df\n"
   ]
  },
  {
   "cell_type": "markdown",
   "metadata": {},
   "source": [
    "Now actually run the simulation with the full number of iterations."
   ]
  },
  {
   "cell_type": "code",
   "execution_count": 21,
   "metadata": {},
   "outputs": [],
   "source": [
    "df = years_to_retirement_mc(model_data, sim_data)"
   ]
  },
  {
   "cell_type": "markdown",
   "metadata": {},
   "source": [
    "## Style `DataFrame`\n",
    "\n",
    "I'll add a function which styles the inputs and years to retirement `DataFrame` so the results can be shown."
   ]
  },
  {
   "cell_type": "code",
   "execution_count": 22,
   "metadata": {},
   "outputs": [],
   "source": [
    "def styled_df(df):\n",
    "    \"\"\"\n",
    "    Styles DataFrames containing the inputs and years to retirement.\n",
    "    \"\"\"\n",
    "    return df.style.format({\n",
    "        'Starting Salary': '${:,.0f}', \n",
    "        'Promotions Every $N$ Years': '{:.1f}', \n",
    "        'Cost of Living Raise': '{:.2%}', \n",
    "        'Promotion Raise': '{:.2%}', \n",
    "        'Savings Rate': '{:.2%}', \n",
    "        'Interest Rate': '{:.2%}',\n",
    "        'Years to Retirement': '{:.0f}'\n",
    "    }).background_gradient(cmap='RdYlGn_r', subset='Years to Retirement')"
   ]
  },
  {
   "cell_type": "markdown",
   "metadata": {},
   "source": [
    "Also show the number of simulations."
   ]
  },
  {
   "cell_type": "code",
   "execution_count": 23,
   "metadata": {},
   "outputs": [
    {
     "name": "stdout",
     "output_type": "stream",
     "text": [
      "10000 simulations were run.\n"
     ]
    }
   ],
   "source": [
    "print(f'{len(df)} simulations were run.')"
   ]
  },
  {
   "cell_type": "markdown",
   "metadata": {},
   "source": [
    "## Visualize Results\n",
    "\n",
    "### Example Results"
   ]
  },
  {
   "cell_type": "code",
   "execution_count": 24,
   "metadata": {},
   "outputs": [
    {
     "data": {
      "text/html": [
       "<style  type=\"text/css\" >\n",
       "    #T_5e8f9b88_67b8_11ea_9e36_1803734f38ebrow0_col6 {\n",
       "            background-color:  #e34933;\n",
       "            color:  #f1f1f1;\n",
       "        }    #T_5e8f9b88_67b8_11ea_9e36_1803734f38ebrow1_col6 {\n",
       "            background-color:  #e3f399;\n",
       "            color:  #000000;\n",
       "        }    #T_5e8f9b88_67b8_11ea_9e36_1803734f38ebrow2_col6 {\n",
       "            background-color:  #006837;\n",
       "            color:  #f1f1f1;\n",
       "        }    #T_5e8f9b88_67b8_11ea_9e36_1803734f38ebrow3_col6 {\n",
       "            background-color:  #39a758;\n",
       "            color:  #000000;\n",
       "        }    #T_5e8f9b88_67b8_11ea_9e36_1803734f38ebrow4_col6 {\n",
       "            background-color:  #a50026;\n",
       "            color:  #f1f1f1;\n",
       "        }</style><table id=\"T_5e8f9b88_67b8_11ea_9e36_1803734f38eb\" ><thead>    <tr>        <th class=\"blank level0\" ></th>        <th class=\"col_heading level0 col0\" >Starting Salary</th>        <th class=\"col_heading level0 col1\" >Promotions Every $N$ Years</th>        <th class=\"col_heading level0 col2\" >Cost of Living Raise</th>        <th class=\"col_heading level0 col3\" >Promotion Raise</th>        <th class=\"col_heading level0 col4\" >Savings Rate</th>        <th class=\"col_heading level0 col5\" >Interest Rate</th>        <th class=\"col_heading level0 col6\" >Years to Retirement</th>    </tr></thead><tbody>\n",
       "                <tr>\n",
       "                        <th id=\"T_5e8f9b88_67b8_11ea_9e36_1803734f38eblevel0_row0\" class=\"row_heading level0 row0\" >0</th>\n",
       "                        <td id=\"T_5e8f9b88_67b8_11ea_9e36_1803734f38ebrow0_col0\" class=\"data row0 col0\" >$54,836</td>\n",
       "                        <td id=\"T_5e8f9b88_67b8_11ea_9e36_1803734f38ebrow0_col1\" class=\"data row0 col1\" >5.2</td>\n",
       "                        <td id=\"T_5e8f9b88_67b8_11ea_9e36_1803734f38ebrow0_col2\" class=\"data row0 col2\" >1.42%</td>\n",
       "                        <td id=\"T_5e8f9b88_67b8_11ea_9e36_1803734f38ebrow0_col3\" class=\"data row0 col3\" >16.38%</td>\n",
       "                        <td id=\"T_5e8f9b88_67b8_11ea_9e36_1803734f38ebrow0_col4\" class=\"data row0 col4\" >29.22%</td>\n",
       "                        <td id=\"T_5e8f9b88_67b8_11ea_9e36_1803734f38ebrow0_col5\" class=\"data row0 col5\" >4.16%</td>\n",
       "                        <td id=\"T_5e8f9b88_67b8_11ea_9e36_1803734f38ebrow0_col6\" class=\"data row0 col6\" >30</td>\n",
       "            </tr>\n",
       "            <tr>\n",
       "                        <th id=\"T_5e8f9b88_67b8_11ea_9e36_1803734f38eblevel0_row1\" class=\"row_heading level0 row1\" >1</th>\n",
       "                        <td id=\"T_5e8f9b88_67b8_11ea_9e36_1803734f38ebrow1_col0\" class=\"data row1 col0\" >$58,694</td>\n",
       "                        <td id=\"T_5e8f9b88_67b8_11ea_9e36_1803734f38ebrow1_col1\" class=\"data row1 col1\" >5.5</td>\n",
       "                        <td id=\"T_5e8f9b88_67b8_11ea_9e36_1803734f38ebrow1_col2\" class=\"data row1 col2\" >1.89%</td>\n",
       "                        <td id=\"T_5e8f9b88_67b8_11ea_9e36_1803734f38ebrow1_col3\" class=\"data row1 col3\" >12.40%</td>\n",
       "                        <td id=\"T_5e8f9b88_67b8_11ea_9e36_1803734f38ebrow1_col4\" class=\"data row1 col4\" >32.41%</td>\n",
       "                        <td id=\"T_5e8f9b88_67b8_11ea_9e36_1803734f38ebrow1_col5\" class=\"data row1 col5\" >4.91%</td>\n",
       "                        <td id=\"T_5e8f9b88_67b8_11ea_9e36_1803734f38ebrow1_col6\" class=\"data row1 col6\" >27</td>\n",
       "            </tr>\n",
       "            <tr>\n",
       "                        <th id=\"T_5e8f9b88_67b8_11ea_9e36_1803734f38eblevel0_row2\" class=\"row_heading level0 row2\" >2</th>\n",
       "                        <td id=\"T_5e8f9b88_67b8_11ea_9e36_1803734f38ebrow2_col0\" class=\"data row2 col0\" >$74,040</td>\n",
       "                        <td id=\"T_5e8f9b88_67b8_11ea_9e36_1803734f38ebrow2_col1\" class=\"data row2 col1\" >5.4</td>\n",
       "                        <td id=\"T_5e8f9b88_67b8_11ea_9e36_1803734f38ebrow2_col2\" class=\"data row2 col2\" >2.21%</td>\n",
       "                        <td id=\"T_5e8f9b88_67b8_11ea_9e36_1803734f38ebrow2_col3\" class=\"data row2 col3\" >17.98%</td>\n",
       "                        <td id=\"T_5e8f9b88_67b8_11ea_9e36_1803734f38ebrow2_col4\" class=\"data row2 col4\" >30.56%</td>\n",
       "                        <td id=\"T_5e8f9b88_67b8_11ea_9e36_1803734f38ebrow2_col5\" class=\"data row2 col5\" >4.14%</td>\n",
       "                        <td id=\"T_5e8f9b88_67b8_11ea_9e36_1803734f38ebrow2_col6\" class=\"data row2 col6\" >24</td>\n",
       "            </tr>\n",
       "            <tr>\n",
       "                        <th id=\"T_5e8f9b88_67b8_11ea_9e36_1803734f38eblevel0_row3\" class=\"row_heading level0 row3\" >3</th>\n",
       "                        <td id=\"T_5e8f9b88_67b8_11ea_9e36_1803734f38ebrow3_col0\" class=\"data row3 col0\" >$63,114</td>\n",
       "                        <td id=\"T_5e8f9b88_67b8_11ea_9e36_1803734f38ebrow3_col1\" class=\"data row3 col1\" >5.0</td>\n",
       "                        <td id=\"T_5e8f9b88_67b8_11ea_9e36_1803734f38ebrow3_col2\" class=\"data row3 col2\" >0.88%</td>\n",
       "                        <td id=\"T_5e8f9b88_67b8_11ea_9e36_1803734f38ebrow3_col3\" class=\"data row3 col3\" >14.29%</td>\n",
       "                        <td id=\"T_5e8f9b88_67b8_11ea_9e36_1803734f38ebrow3_col4\" class=\"data row3 col4\" >32.00%</td>\n",
       "                        <td id=\"T_5e8f9b88_67b8_11ea_9e36_1803734f38ebrow3_col5\" class=\"data row3 col5\" >6.04%</td>\n",
       "                        <td id=\"T_5e8f9b88_67b8_11ea_9e36_1803734f38ebrow3_col6\" class=\"data row3 col6\" >25</td>\n",
       "            </tr>\n",
       "            <tr>\n",
       "                        <th id=\"T_5e8f9b88_67b8_11ea_9e36_1803734f38eblevel0_row4\" class=\"row_heading level0 row4\" >4</th>\n",
       "                        <td id=\"T_5e8f9b88_67b8_11ea_9e36_1803734f38ebrow4_col0\" class=\"data row4 col0\" >$73,683</td>\n",
       "                        <td id=\"T_5e8f9b88_67b8_11ea_9e36_1803734f38ebrow4_col1\" class=\"data row4 col1\" >5.0</td>\n",
       "                        <td id=\"T_5e8f9b88_67b8_11ea_9e36_1803734f38ebrow4_col2\" class=\"data row4 col2\" >2.63%</td>\n",
       "                        <td id=\"T_5e8f9b88_67b8_11ea_9e36_1803734f38ebrow4_col3\" class=\"data row4 col3\" >14.10%</td>\n",
       "                        <td id=\"T_5e8f9b88_67b8_11ea_9e36_1803734f38ebrow4_col4\" class=\"data row4 col4\" >14.27%</td>\n",
       "                        <td id=\"T_5e8f9b88_67b8_11ea_9e36_1803734f38ebrow4_col5\" class=\"data row4 col5\" >5.18%</td>\n",
       "                        <td id=\"T_5e8f9b88_67b8_11ea_9e36_1803734f38ebrow4_col6\" class=\"data row4 col6\" >31</td>\n",
       "            </tr>\n",
       "    </tbody></table>"
      ],
      "text/plain": [
       "<pandas.io.formats.style.Styler at 0x7f679bcc0ba8>"
      ]
     },
     "execution_count": 24,
     "metadata": {},
     "output_type": "execute_result"
    }
   ],
   "source": [
    "styled_df(df.head())"
   ]
  },
  {
   "cell_type": "markdown",
   "metadata": {},
   "source": [
    "### Years to Retirement Distribution"
   ]
  },
  {
   "cell_type": "code",
   "execution_count": 25,
   "metadata": {},
   "outputs": [
    {
     "data": {
      "text/plain": [
       "<matplotlib.axes._subplots.AxesSubplot at 0x7f679bc4f7f0>"
      ]
     },
     "execution_count": 25,
     "metadata": {},
     "output_type": "execute_result"
    },
    {
     "data": {
      "image/png": "[encoded data removed]",
      "text/plain": [
       "<Figure size 432x288 with 1 Axes>"
      ]
     },
     "metadata": {
      "needs_background": "light"
     },
     "output_type": "display_data"
    }
   ],
   "source": [
    "df['Years to Retirement'].plot.hist(bins=70)"
   ]
  },
  {
   "cell_type": "markdown",
   "metadata": {},
   "source": [
    "### Inputs and Years to Retirement Probability Table"
   ]
  },
  {
   "cell_type": "code",
   "execution_count": 26,
   "metadata": {},
   "outputs": [
    {
     "data": {
      "text/html": [
       "<style  type=\"text/css\" >\n",
       "    #T_5e8f9b89_67b8_11ea_9e36_1803734f38ebrow0_col6 {\n",
       "            background-color:  #006837;\n",
       "            color:  #f1f1f1;\n",
       "        }    #T_5e8f9b89_67b8_11ea_9e36_1803734f38ebrow1_col6 {\n",
       "            background-color:  #108647;\n",
       "            color:  #000000;\n",
       "        }    #T_5e8f9b89_67b8_11ea_9e36_1803734f38ebrow2_col6 {\n",
       "            background-color:  #2da155;\n",
       "            color:  #000000;\n",
       "        }    #T_5e8f9b89_67b8_11ea_9e36_1803734f38ebrow3_col6 {\n",
       "            background-color:  #5db961;\n",
       "            color:  #000000;\n",
       "        }    #T_5e8f9b89_67b8_11ea_9e36_1803734f38ebrow4_col6 {\n",
       "            background-color:  #5db961;\n",
       "            color:  #000000;\n",
       "        }    #T_5e8f9b89_67b8_11ea_9e36_1803734f38ebrow5_col6 {\n",
       "            background-color:  #87cb67;\n",
       "            color:  #000000;\n",
       "        }    #T_5e8f9b89_67b8_11ea_9e36_1803734f38ebrow6_col6 {\n",
       "            background-color:  #addc6f;\n",
       "            color:  #000000;\n",
       "        }    #T_5e8f9b89_67b8_11ea_9e36_1803734f38ebrow7_col6 {\n",
       "            background-color:  #addc6f;\n",
       "            color:  #000000;\n",
       "        }    #T_5e8f9b89_67b8_11ea_9e36_1803734f38ebrow8_col6 {\n",
       "            background-color:  #cdea83;\n",
       "            color:  #000000;\n",
       "        }    #T_5e8f9b89_67b8_11ea_9e36_1803734f38ebrow9_col6 {\n",
       "            background-color:  #cdea83;\n",
       "            color:  #000000;\n",
       "        }    #T_5e8f9b89_67b8_11ea_9e36_1803734f38ebrow10_col6 {\n",
       "            background-color:  #e8f59f;\n",
       "            color:  #000000;\n",
       "        }    #T_5e8f9b89_67b8_11ea_9e36_1803734f38ebrow11_col6 {\n",
       "            background-color:  #fffebe;\n",
       "            color:  #000000;\n",
       "        }    #T_5e8f9b89_67b8_11ea_9e36_1803734f38ebrow12_col6 {\n",
       "            background-color:  #fffebe;\n",
       "            color:  #000000;\n",
       "        }    #T_5e8f9b89_67b8_11ea_9e36_1803734f38ebrow13_col6 {\n",
       "            background-color:  #feeb9d;\n",
       "            color:  #000000;\n",
       "        }    #T_5e8f9b89_67b8_11ea_9e36_1803734f38ebrow14_col6 {\n",
       "            background-color:  #fed27f;\n",
       "            color:  #000000;\n",
       "        }    #T_5e8f9b89_67b8_11ea_9e36_1803734f38ebrow15_col6 {\n",
       "            background-color:  #fdb365;\n",
       "            color:  #000000;\n",
       "        }    #T_5e8f9b89_67b8_11ea_9e36_1803734f38ebrow16_col6 {\n",
       "            background-color:  #f88c51;\n",
       "            color:  #000000;\n",
       "        }    #T_5e8f9b89_67b8_11ea_9e36_1803734f38ebrow17_col6 {\n",
       "            background-color:  #dd3d2d;\n",
       "            color:  #f1f1f1;\n",
       "        }    #T_5e8f9b89_67b8_11ea_9e36_1803734f38ebrow18_col6 {\n",
       "            background-color:  #a50026;\n",
       "            color:  #f1f1f1;\n",
       "        }</style><table id=\"T_5e8f9b89_67b8_11ea_9e36_1803734f38eb\" ><thead>    <tr>        <th class=\"blank level0\" ></th>        <th class=\"col_heading level0 col0\" >Starting Salary</th>        <th class=\"col_heading level0 col1\" >Promotions Every $N$ Years</th>        <th class=\"col_heading level0 col2\" >Cost of Living Raise</th>        <th class=\"col_heading level0 col3\" >Promotion Raise</th>        <th class=\"col_heading level0 col4\" >Savings Rate</th>        <th class=\"col_heading level0 col5\" >Interest Rate</th>        <th class=\"col_heading level0 col6\" >Years to Retirement</th>    </tr></thead><tbody>\n",
       "                <tr>\n",
       "                        <th id=\"T_5e8f9b89_67b8_11ea_9e36_1803734f38eblevel0_row0\" class=\"row_heading level0 row0\" >0.05</th>\n",
       "                        <td id=\"T_5e8f9b89_67b8_11ea_9e36_1803734f38ebrow0_col0\" class=\"data row0 col0\" >$43,733</td>\n",
       "                        <td id=\"T_5e8f9b89_67b8_11ea_9e36_1803734f38ebrow0_col1\" class=\"data row0 col1\" >2.6</td>\n",
       "                        <td id=\"T_5e8f9b89_67b8_11ea_9e36_1803734f38ebrow0_col2\" class=\"data row0 col2\" >1.19%</td>\n",
       "                        <td id=\"T_5e8f9b89_67b8_11ea_9e36_1803734f38ebrow0_col3\" class=\"data row0 col3\" >6.75%</td>\n",
       "                        <td id=\"T_5e8f9b89_67b8_11ea_9e36_1803734f38ebrow0_col4\" class=\"data row0 col4\" >13.46%</td>\n",
       "                        <td id=\"T_5e8f9b89_67b8_11ea_9e36_1803734f38ebrow0_col5\" class=\"data row0 col5\" >3.31%</td>\n",
       "                        <td id=\"T_5e8f9b89_67b8_11ea_9e36_1803734f38ebrow0_col6\" class=\"data row0 col6\" >22</td>\n",
       "            </tr>\n",
       "            <tr>\n",
       "                        <th id=\"T_5e8f9b89_67b8_11ea_9e36_1803734f38eblevel0_row1\" class=\"row_heading level0 row1\" >0.1</th>\n",
       "                        <td id=\"T_5e8f9b89_67b8_11ea_9e36_1803734f38ebrow1_col0\" class=\"data row1 col0\" >$47,325</td>\n",
       "                        <td id=\"T_5e8f9b89_67b8_11ea_9e36_1803734f38ebrow1_col1\" class=\"data row1 col1\" >3.1</td>\n",
       "                        <td id=\"T_5e8f9b89_67b8_11ea_9e36_1803734f38ebrow1_col2\" class=\"data row1 col2\" >1.36%</td>\n",
       "                        <td id=\"T_5e8f9b89_67b8_11ea_9e36_1803734f38ebrow1_col3\" class=\"data row1 col3\" >8.53%</td>\n",
       "                        <td id=\"T_5e8f9b89_67b8_11ea_9e36_1803734f38ebrow1_col4\" class=\"data row1 col4\" >15.79%</td>\n",
       "                        <td id=\"T_5e8f9b89_67b8_11ea_9e36_1803734f38ebrow1_col5\" class=\"data row1 col5\" >3.70%</td>\n",
       "                        <td id=\"T_5e8f9b89_67b8_11ea_9e36_1803734f38ebrow1_col6\" class=\"data row1 col6\" >23</td>\n",
       "            </tr>\n",
       "            <tr>\n",
       "                        <th id=\"T_5e8f9b89_67b8_11ea_9e36_1803734f38eblevel0_row2\" class=\"row_heading level0 row2\" >0.15</th>\n",
       "                        <td id=\"T_5e8f9b89_67b8_11ea_9e36_1803734f38ebrow2_col0\" class=\"data row2 col0\" >$49,814</td>\n",
       "                        <td id=\"T_5e8f9b89_67b8_11ea_9e36_1803734f38ebrow2_col1\" class=\"data row2 col1\" >3.5</td>\n",
       "                        <td id=\"T_5e8f9b89_67b8_11ea_9e36_1803734f38ebrow2_col2\" class=\"data row2 col2\" >1.48%</td>\n",
       "                        <td id=\"T_5e8f9b89_67b8_11ea_9e36_1803734f38ebrow2_col3\" class=\"data row2 col3\" >9.77%</td>\n",
       "                        <td id=\"T_5e8f9b89_67b8_11ea_9e36_1803734f38ebrow2_col4\" class=\"data row2 col4\" >17.65%</td>\n",
       "                        <td id=\"T_5e8f9b89_67b8_11ea_9e36_1803734f38ebrow2_col5\" class=\"data row2 col5\" >3.94%</td>\n",
       "                        <td id=\"T_5e8f9b89_67b8_11ea_9e36_1803734f38ebrow2_col6\" class=\"data row2 col6\" >24</td>\n",
       "            </tr>\n",
       "            <tr>\n",
       "                        <th id=\"T_5e8f9b89_67b8_11ea_9e36_1803734f38eblevel0_row3\" class=\"row_heading level0 row3\" >0.2</th>\n",
       "                        <td id=\"T_5e8f9b89_67b8_11ea_9e36_1803734f38ebrow3_col0\" class=\"data row3 col0\" >$51,829</td>\n",
       "                        <td id=\"T_5e8f9b89_67b8_11ea_9e36_1803734f38ebrow3_col1\" class=\"data row3 col1\" >3.7</td>\n",
       "                        <td id=\"T_5e8f9b89_67b8_11ea_9e36_1803734f38ebrow3_col2\" class=\"data row3 col2\" >1.58%</td>\n",
       "                        <td id=\"T_5e8f9b89_67b8_11ea_9e36_1803734f38ebrow3_col3\" class=\"data row3 col3\" >10.76%</td>\n",
       "                        <td id=\"T_5e8f9b89_67b8_11ea_9e36_1803734f38ebrow3_col4\" class=\"data row3 col4\" >19.04%</td>\n",
       "                        <td id=\"T_5e8f9b89_67b8_11ea_9e36_1803734f38ebrow3_col5\" class=\"data row3 col5\" >4.14%</td>\n",
       "                        <td id=\"T_5e8f9b89_67b8_11ea_9e36_1803734f38ebrow3_col6\" class=\"data row3 col6\" >25</td>\n",
       "            </tr>\n",
       "            <tr>\n",
       "                        <th id=\"T_5e8f9b89_67b8_11ea_9e36_1803734f38eblevel0_row4\" class=\"row_heading level0 row4\" >0.25</th>\n",
       "                        <td id=\"T_5e8f9b89_67b8_11ea_9e36_1803734f38ebrow4_col0\" class=\"data row4 col0\" >$53,526</td>\n",
       "                        <td id=\"T_5e8f9b89_67b8_11ea_9e36_1803734f38ebrow4_col1\" class=\"data row4 col1\" >4.0</td>\n",
       "                        <td id=\"T_5e8f9b89_67b8_11ea_9e36_1803734f38ebrow4_col2\" class=\"data row4 col2\" >1.66%</td>\n",
       "                        <td id=\"T_5e8f9b89_67b8_11ea_9e36_1803734f38ebrow4_col3\" class=\"data row4 col3\" >11.64%</td>\n",
       "                        <td id=\"T_5e8f9b89_67b8_11ea_9e36_1803734f38ebrow4_col4\" class=\"data row4 col4\" >20.26%</td>\n",
       "                        <td id=\"T_5e8f9b89_67b8_11ea_9e36_1803734f38ebrow4_col5\" class=\"data row4 col5\" >4.31%</td>\n",
       "                        <td id=\"T_5e8f9b89_67b8_11ea_9e36_1803734f38ebrow4_col6\" class=\"data row4 col6\" >25</td>\n",
       "            </tr>\n",
       "            <tr>\n",
       "                        <th id=\"T_5e8f9b89_67b8_11ea_9e36_1803734f38eblevel0_row5\" class=\"row_heading level0 row5\" >0.3</th>\n",
       "                        <td id=\"T_5e8f9b89_67b8_11ea_9e36_1803734f38ebrow5_col0\" class=\"data row5 col0\" >$54,975</td>\n",
       "                        <td id=\"T_5e8f9b89_67b8_11ea_9e36_1803734f38ebrow5_col1\" class=\"data row5 col1\" >4.2</td>\n",
       "                        <td id=\"T_5e8f9b89_67b8_11ea_9e36_1803734f38ebrow5_col2\" class=\"data row5 col2\" >1.74%</td>\n",
       "                        <td id=\"T_5e8f9b89_67b8_11ea_9e36_1803734f38ebrow5_col3\" class=\"data row5 col3\" >12.29%</td>\n",
       "                        <td id=\"T_5e8f9b89_67b8_11ea_9e36_1803734f38ebrow5_col4\" class=\"data row5 col4\" >21.30%</td>\n",
       "                        <td id=\"T_5e8f9b89_67b8_11ea_9e36_1803734f38ebrow5_col5\" class=\"data row5 col5\" >4.46%</td>\n",
       "                        <td id=\"T_5e8f9b89_67b8_11ea_9e36_1803734f38ebrow5_col6\" class=\"data row5 col6\" >26</td>\n",
       "            </tr>\n",
       "            <tr>\n",
       "                        <th id=\"T_5e8f9b89_67b8_11ea_9e36_1803734f38eblevel0_row6\" class=\"row_heading level0 row6\" >0.35</th>\n",
       "                        <td id=\"T_5e8f9b89_67b8_11ea_9e36_1803734f38ebrow6_col0\" class=\"data row6 col0\" >$56,371</td>\n",
       "                        <td id=\"T_5e8f9b89_67b8_11ea_9e36_1803734f38ebrow6_col1\" class=\"data row6 col1\" >4.4</td>\n",
       "                        <td id=\"T_5e8f9b89_67b8_11ea_9e36_1803734f38ebrow6_col2\" class=\"data row6 col2\" >1.81%</td>\n",
       "                        <td id=\"T_5e8f9b89_67b8_11ea_9e36_1803734f38ebrow6_col3\" class=\"data row6 col3\" >13.01%</td>\n",
       "                        <td id=\"T_5e8f9b89_67b8_11ea_9e36_1803734f38ebrow6_col4\" class=\"data row6 col4\" >22.35%</td>\n",
       "                        <td id=\"T_5e8f9b89_67b8_11ea_9e36_1803734f38ebrow6_col5\" class=\"data row6 col5\" >4.60%</td>\n",
       "                        <td id=\"T_5e8f9b89_67b8_11ea_9e36_1803734f38ebrow6_col6\" class=\"data row6 col6\" >27</td>\n",
       "            </tr>\n",
       "            <tr>\n",
       "                        <th id=\"T_5e8f9b89_67b8_11ea_9e36_1803734f38eblevel0_row7\" class=\"row_heading level0 row7\" >0.4</th>\n",
       "                        <td id=\"T_5e8f9b89_67b8_11ea_9e36_1803734f38ebrow7_col0\" class=\"data row7 col0\" >$57,706</td>\n",
       "                        <td id=\"T_5e8f9b89_67b8_11ea_9e36_1803734f38ebrow7_col1\" class=\"data row7 col1\" >4.6</td>\n",
       "                        <td id=\"T_5e8f9b89_67b8_11ea_9e36_1803734f38ebrow7_col2\" class=\"data row7 col2\" >1.88%</td>\n",
       "                        <td id=\"T_5e8f9b89_67b8_11ea_9e36_1803734f38ebrow7_col3\" class=\"data row7 col3\" >13.68%</td>\n",
       "                        <td id=\"T_5e8f9b89_67b8_11ea_9e36_1803734f38ebrow7_col4\" class=\"data row7 col4\" >23.35%</td>\n",
       "                        <td id=\"T_5e8f9b89_67b8_11ea_9e36_1803734f38ebrow7_col5\" class=\"data row7 col5\" >4.73%</td>\n",
       "                        <td id=\"T_5e8f9b89_67b8_11ea_9e36_1803734f38ebrow7_col6\" class=\"data row7 col6\" >27</td>\n",
       "            </tr>\n",
       "            <tr>\n",
       "                        <th id=\"T_5e8f9b89_67b8_11ea_9e36_1803734f38eblevel0_row8\" class=\"row_heading level0 row8\" >0.45</th>\n",
       "                        <td id=\"T_5e8f9b89_67b8_11ea_9e36_1803734f38ebrow8_col0\" class=\"data row8 col0\" >$58,984</td>\n",
       "                        <td id=\"T_5e8f9b89_67b8_11ea_9e36_1803734f38ebrow8_col1\" class=\"data row8 col1\" >4.8</td>\n",
       "                        <td id=\"T_5e8f9b89_67b8_11ea_9e36_1803734f38ebrow8_col2\" class=\"data row8 col2\" >1.94%</td>\n",
       "                        <td id=\"T_5e8f9b89_67b8_11ea_9e36_1803734f38ebrow8_col3\" class=\"data row8 col3\" >14.39%</td>\n",
       "                        <td id=\"T_5e8f9b89_67b8_11ea_9e36_1803734f38ebrow8_col4\" class=\"data row8 col4\" >24.24%</td>\n",
       "                        <td id=\"T_5e8f9b89_67b8_11ea_9e36_1803734f38ebrow8_col5\" class=\"data row8 col5\" >4.87%</td>\n",
       "                        <td id=\"T_5e8f9b89_67b8_11ea_9e36_1803734f38ebrow8_col6\" class=\"data row8 col6\" >28</td>\n",
       "            </tr>\n",
       "            <tr>\n",
       "                        <th id=\"T_5e8f9b89_67b8_11ea_9e36_1803734f38eblevel0_row9\" class=\"row_heading level0 row9\" >0.5</th>\n",
       "                        <td id=\"T_5e8f9b89_67b8_11ea_9e36_1803734f38ebrow9_col0\" class=\"data row9 col0\" >$60,120</td>\n",
       "                        <td id=\"T_5e8f9b89_67b8_11ea_9e36_1803734f38ebrow9_col1\" class=\"data row9 col1\" >5.0</td>\n",
       "                        <td id=\"T_5e8f9b89_67b8_11ea_9e36_1803734f38ebrow9_col2\" class=\"data row9 col2\" >2.01%</td>\n",
       "                        <td id=\"T_5e8f9b89_67b8_11ea_9e36_1803734f38ebrow9_col3\" class=\"data row9 col3\" >15.03%</td>\n",
       "                        <td id=\"T_5e8f9b89_67b8_11ea_9e36_1803734f38ebrow9_col4\" class=\"data row9 col4\" >25.15%</td>\n",
       "                        <td id=\"T_5e8f9b89_67b8_11ea_9e36_1803734f38ebrow9_col5\" class=\"data row9 col5\" >4.99%</td>\n",
       "                        <td id=\"T_5e8f9b89_67b8_11ea_9e36_1803734f38ebrow9_col6\" class=\"data row9 col6\" >28</td>\n",
       "            </tr>\n",
       "            <tr>\n",
       "                        <th id=\"T_5e8f9b89_67b8_11ea_9e36_1803734f38eblevel0_row10\" class=\"row_heading level0 row10\" >0.55</th>\n",
       "                        <td id=\"T_5e8f9b89_67b8_11ea_9e36_1803734f38ebrow10_col0\" class=\"data row10 col0\" >$61,386</td>\n",
       "                        <td id=\"T_5e8f9b89_67b8_11ea_9e36_1803734f38ebrow10_col1\" class=\"data row10 col1\" >5.2</td>\n",
       "                        <td id=\"T_5e8f9b89_67b8_11ea_9e36_1803734f38ebrow10_col2\" class=\"data row10 col2\" >2.07%</td>\n",
       "                        <td id=\"T_5e8f9b89_67b8_11ea_9e36_1803734f38ebrow10_col3\" class=\"data row10 col3\" >15.66%</td>\n",
       "                        <td id=\"T_5e8f9b89_67b8_11ea_9e36_1803734f38ebrow10_col4\" class=\"data row10 col4\" >25.98%</td>\n",
       "                        <td id=\"T_5e8f9b89_67b8_11ea_9e36_1803734f38ebrow10_col5\" class=\"data row10 col5\" >5.12%</td>\n",
       "                        <td id=\"T_5e8f9b89_67b8_11ea_9e36_1803734f38ebrow10_col6\" class=\"data row10 col6\" >29</td>\n",
       "            </tr>\n",
       "            <tr>\n",
       "                        <th id=\"T_5e8f9b89_67b8_11ea_9e36_1803734f38eblevel0_row11\" class=\"row_heading level0 row11\" >0.6</th>\n",
       "                        <td id=\"T_5e8f9b89_67b8_11ea_9e36_1803734f38ebrow11_col0\" class=\"data row11 col0\" >$62,659</td>\n",
       "                        <td id=\"T_5e8f9b89_67b8_11ea_9e36_1803734f38ebrow11_col1\" class=\"data row11 col1\" >5.4</td>\n",
       "                        <td id=\"T_5e8f9b89_67b8_11ea_9e36_1803734f38ebrow11_col2\" class=\"data row11 col2\" >2.13%</td>\n",
       "                        <td id=\"T_5e8f9b89_67b8_11ea_9e36_1803734f38ebrow11_col3\" class=\"data row11 col3\" >16.30%</td>\n",
       "                        <td id=\"T_5e8f9b89_67b8_11ea_9e36_1803734f38ebrow11_col4\" class=\"data row11 col4\" >26.88%</td>\n",
       "                        <td id=\"T_5e8f9b89_67b8_11ea_9e36_1803734f38ebrow11_col5\" class=\"data row11 col5\" >5.25%</td>\n",
       "                        <td id=\"T_5e8f9b89_67b8_11ea_9e36_1803734f38ebrow11_col6\" class=\"data row11 col6\" >30</td>\n",
       "            </tr>\n",
       "            <tr>\n",
       "                        <th id=\"T_5e8f9b89_67b8_11ea_9e36_1803734f38eblevel0_row12\" class=\"row_heading level0 row12\" >0.65</th>\n",
       "                        <td id=\"T_5e8f9b89_67b8_11ea_9e36_1803734f38ebrow12_col0\" class=\"data row12 col0\" >$64,062</td>\n",
       "                        <td id=\"T_5e8f9b89_67b8_11ea_9e36_1803734f38ebrow12_col1\" class=\"data row12 col1\" >5.6</td>\n",
       "                        <td id=\"T_5e8f9b89_67b8_11ea_9e36_1803734f38ebrow12_col2\" class=\"data row12 col2\" >2.20%</td>\n",
       "                        <td id=\"T_5e8f9b89_67b8_11ea_9e36_1803734f38ebrow12_col3\" class=\"data row12 col3\" >16.94%</td>\n",
       "                        <td id=\"T_5e8f9b89_67b8_11ea_9e36_1803734f38ebrow12_col4\" class=\"data row12 col4\" >27.81%</td>\n",
       "                        <td id=\"T_5e8f9b89_67b8_11ea_9e36_1803734f38ebrow12_col5\" class=\"data row12 col5\" >5.38%</td>\n",
       "                        <td id=\"T_5e8f9b89_67b8_11ea_9e36_1803734f38ebrow12_col6\" class=\"data row12 col6\" >30</td>\n",
       "            </tr>\n",
       "            <tr>\n",
       "                        <th id=\"T_5e8f9b89_67b8_11ea_9e36_1803734f38eblevel0_row13\" class=\"row_heading level0 row13\" >0.7</th>\n",
       "                        <td id=\"T_5e8f9b89_67b8_11ea_9e36_1803734f38ebrow13_col0\" class=\"data row13 col0\" >$65,521</td>\n",
       "                        <td id=\"T_5e8f9b89_67b8_11ea_9e36_1803734f38ebrow13_col1\" class=\"data row13 col1\" >5.8</td>\n",
       "                        <td id=\"T_5e8f9b89_67b8_11ea_9e36_1803734f38ebrow13_col2\" class=\"data row13 col2\" >2.27%</td>\n",
       "                        <td id=\"T_5e8f9b89_67b8_11ea_9e36_1803734f38ebrow13_col3\" class=\"data row13 col3\" >17.67%</td>\n",
       "                        <td id=\"T_5e8f9b89_67b8_11ea_9e36_1803734f38ebrow13_col4\" class=\"data row13 col4\" >28.80%</td>\n",
       "                        <td id=\"T_5e8f9b89_67b8_11ea_9e36_1803734f38ebrow13_col5\" class=\"data row13 col5\" >5.52%</td>\n",
       "                        <td id=\"T_5e8f9b89_67b8_11ea_9e36_1803734f38ebrow13_col6\" class=\"data row13 col6\" >31</td>\n",
       "            </tr>\n",
       "            <tr>\n",
       "                        <th id=\"T_5e8f9b89_67b8_11ea_9e36_1803734f38eblevel0_row14\" class=\"row_heading level0 row14\" >0.75</th>\n",
       "                        <td id=\"T_5e8f9b89_67b8_11ea_9e36_1803734f38ebrow14_col0\" class=\"data row14 col0\" >$66,977</td>\n",
       "                        <td id=\"T_5e8f9b89_67b8_11ea_9e36_1803734f38ebrow14_col1\" class=\"data row14 col1\" >6.0</td>\n",
       "                        <td id=\"T_5e8f9b89_67b8_11ea_9e36_1803734f38ebrow14_col2\" class=\"data row14 col2\" >2.35%</td>\n",
       "                        <td id=\"T_5e8f9b89_67b8_11ea_9e36_1803734f38ebrow14_col3\" class=\"data row14 col3\" >18.46%</td>\n",
       "                        <td id=\"T_5e8f9b89_67b8_11ea_9e36_1803734f38ebrow14_col4\" class=\"data row14 col4\" >29.84%</td>\n",
       "                        <td id=\"T_5e8f9b89_67b8_11ea_9e36_1803734f38ebrow14_col5\" class=\"data row14 col5\" >5.67%</td>\n",
       "                        <td id=\"T_5e8f9b89_67b8_11ea_9e36_1803734f38ebrow14_col6\" class=\"data row14 col6\" >32</td>\n",
       "            </tr>\n",
       "            <tr>\n",
       "                        <th id=\"T_5e8f9b89_67b8_11ea_9e36_1803734f38eblevel0_row15\" class=\"row_heading level0 row15\" >0.8</th>\n",
       "                        <td id=\"T_5e8f9b89_67b8_11ea_9e36_1803734f38ebrow15_col0\" class=\"data row15 col0\" >$68,679</td>\n",
       "                        <td id=\"T_5e8f9b89_67b8_11ea_9e36_1803734f38ebrow15_col1\" class=\"data row15 col1\" >6.3</td>\n",
       "                        <td id=\"T_5e8f9b89_67b8_11ea_9e36_1803734f38ebrow15_col2\" class=\"data row15 col2\" >2.43%</td>\n",
       "                        <td id=\"T_5e8f9b89_67b8_11ea_9e36_1803734f38ebrow15_col3\" class=\"data row15 col3\" >19.30%</td>\n",
       "                        <td id=\"T_5e8f9b89_67b8_11ea_9e36_1803734f38ebrow15_col4\" class=\"data row15 col4\" >30.97%</td>\n",
       "                        <td id=\"T_5e8f9b89_67b8_11ea_9e36_1803734f38ebrow15_col5\" class=\"data row15 col5\" >5.84%</td>\n",
       "                        <td id=\"T_5e8f9b89_67b8_11ea_9e36_1803734f38ebrow15_col6\" class=\"data row15 col6\" >33</td>\n",
       "            </tr>\n",
       "            <tr>\n",
       "                        <th id=\"T_5e8f9b89_67b8_11ea_9e36_1803734f38eblevel0_row16\" class=\"row_heading level0 row16\" >0.85</th>\n",
       "                        <td id=\"T_5e8f9b89_67b8_11ea_9e36_1803734f38ebrow16_col0\" class=\"data row16 col0\" >$70,732</td>\n",
       "                        <td id=\"T_5e8f9b89_67b8_11ea_9e36_1803734f38ebrow16_col1\" class=\"data row16 col1\" >6.6</td>\n",
       "                        <td id=\"T_5e8f9b89_67b8_11ea_9e36_1803734f38ebrow16_col2\" class=\"data row16 col2\" >2.53%</td>\n",
       "                        <td id=\"T_5e8f9b89_67b8_11ea_9e36_1803734f38ebrow16_col3\" class=\"data row16 col3\" >20.28%</td>\n",
       "                        <td id=\"T_5e8f9b89_67b8_11ea_9e36_1803734f38ebrow16_col4\" class=\"data row16 col4\" >32.26%</td>\n",
       "                        <td id=\"T_5e8f9b89_67b8_11ea_9e36_1803734f38ebrow16_col5\" class=\"data row16 col5\" >6.04%</td>\n",
       "                        <td id=\"T_5e8f9b89_67b8_11ea_9e36_1803734f38ebrow16_col6\" class=\"data row16 col6\" >34</td>\n",
       "            </tr>\n",
       "            <tr>\n",
       "                        <th id=\"T_5e8f9b89_67b8_11ea_9e36_1803734f38eblevel0_row17\" class=\"row_heading level0 row17\" >0.9</th>\n",
       "                        <td id=\"T_5e8f9b89_67b8_11ea_9e36_1803734f38ebrow17_col0\" class=\"data row17 col0\" >$73,240</td>\n",
       "                        <td id=\"T_5e8f9b89_67b8_11ea_9e36_1803734f38ebrow17_col1\" class=\"data row17 col1\" >6.9</td>\n",
       "                        <td id=\"T_5e8f9b89_67b8_11ea_9e36_1803734f38ebrow17_col2\" class=\"data row17 col2\" >2.65%</td>\n",
       "                        <td id=\"T_5e8f9b89_67b8_11ea_9e36_1803734f38ebrow17_col3\" class=\"data row17 col3\" >21.47%</td>\n",
       "                        <td id=\"T_5e8f9b89_67b8_11ea_9e36_1803734f38ebrow17_col4\" class=\"data row17 col4\" >33.96%</td>\n",
       "                        <td id=\"T_5e8f9b89_67b8_11ea_9e36_1803734f38ebrow17_col5\" class=\"data row17 col5\" >6.30%</td>\n",
       "                        <td id=\"T_5e8f9b89_67b8_11ea_9e36_1803734f38ebrow17_col6\" class=\"data row17 col6\" >36</td>\n",
       "            </tr>\n",
       "            <tr>\n",
       "                        <th id=\"T_5e8f9b89_67b8_11ea_9e36_1803734f38eblevel0_row18\" class=\"row_heading level0 row18\" >0.95</th>\n",
       "                        <td id=\"T_5e8f9b89_67b8_11ea_9e36_1803734f38ebrow18_col0\" class=\"data row18 col0\" >$76,700</td>\n",
       "                        <td id=\"T_5e8f9b89_67b8_11ea_9e36_1803734f38ebrow18_col1\" class=\"data row18 col1\" >7.5</td>\n",
       "                        <td id=\"T_5e8f9b89_67b8_11ea_9e36_1803734f38ebrow18_col2\" class=\"data row18 col2\" >2.83%</td>\n",
       "                        <td id=\"T_5e8f9b89_67b8_11ea_9e36_1803734f38ebrow18_col3\" class=\"data row18 col3\" >23.25%</td>\n",
       "                        <td id=\"T_5e8f9b89_67b8_11ea_9e36_1803734f38ebrow18_col4\" class=\"data row18 col4\" >36.39%</td>\n",
       "                        <td id=\"T_5e8f9b89_67b8_11ea_9e36_1803734f38ebrow18_col5\" class=\"data row18 col5\" >6.69%</td>\n",
       "                        <td id=\"T_5e8f9b89_67b8_11ea_9e36_1803734f38ebrow18_col6\" class=\"data row18 col6\" >38</td>\n",
       "            </tr>\n",
       "    </tbody></table>"
      ],
      "text/plain": [
       "<pandas.io.formats.style.Styler at 0x7f679bafc748>"
      ]
     },
     "execution_count": 26,
     "metadata": {},
     "output_type": "execute_result"
    }
   ],
   "source": [
    "quants = df.quantile([i / 20 for i in range(1, 20)])\n",
    "styled_df(quants)"
   ]
  },
  {
   "cell_type": "markdown",
   "metadata": {},
   "source": [
    "### Plots of Inputs vs. Years to Retirement "
   ]
  },
  {
   "cell_type": "code",
   "execution_count": 31,
   "metadata": {},
   "outputs": [
    {
     "data": {
      "image/png": "[encoded data removed]",
      "text/plain": [
       "<Figure size 432x288 with 1 Axes>"
      ]
     },
     "metadata": {
      "needs_background": "light"
     },
     "output_type": "display_data"
    },
    {
     "data": {
      "image/png": "[encoded data removed]",
      "text/plain": [
       "<Figure size 432x288 with 1 Axes>"
      ]
     },
     "metadata": {
      "needs_background": "light"
     },
     "output_type": "display_data"
    },
    {
     "data": {
      "image/png": "[encoded data removed]",
      "text/plain": [
       "<Figure size 432x288 with 1 Axes>"
      ]
     },
     "metadata": {
      "needs_background": "light"
     },
     "output_type": "display_data"
    },
    {
     "data": {
      "image/png": "[encoded data removed]",
      "text/plain": [
       "<Figure size 432x288 with 1 Axes>"
      ]
     },
     "metadata": {
      "needs_background": "light"
     },
     "output_type": "display_data"
    },
    {
     "data": {
      "image/png": "[encoded data removed]",
      "text/plain": [
       "<Figure size 432x288 with 1 Axes>"
      ]
     },
     "metadata": {
      "needs_background": "light"
     },
     "output_type": "display_data"
    },
    {
     "data": {
      "image/png": "[encoded data removed]",
      "text/plain": [
       "<Figure size 432x288 with 1 Axes>"
      ]
     },
     "metadata": {
      "needs_background": "light"
     },
     "output_type": "display_data"
    }
   ],
   "source": [
    "input_cols = [\n",
    "    'Starting Salary', \n",
    "    'Promotions Every $N$ Years', \n",
    "    'Cost of Living Raise', \n",
    "    'Promotion Raise', \n",
    "    'Savings Rate', \n",
    "    'Interest Rate',\n",
    "]\n",
    "\n",
    "for col in input_cols:\n",
    "    df.plot.scatter(y='Years to Retirement', x=col)"
   ]
  },
  {
   "cell_type": "markdown",
   "metadata": {},
   "source": [
    "## Analyze Results\n",
    "\n",
    "### Multivariate Regression\n",
    "\n",
    "Now I will see how much each input affects each output, once all the inputs are varied in the simulation."
   ]
  },
  {
   "cell_type": "code",
   "execution_count": 27,
   "metadata": {},
   "outputs": [
    {
     "data": {
      "text/html": [
       "<table class=\"simpletable\">\n",
       "<caption>OLS Regression Results</caption>\n",
       "<tr>\n",
       "  <th>Dep. Variable:</th>    <td>Years to Retirement</td> <th>  R-squared:         </th> <td>   0.887</td> \n",
       "</tr>\n",
       "<tr>\n",
       "  <th>Model:</th>                    <td>OLS</td>         <th>  Adj. R-squared:    </th> <td>   0.887</td> \n",
       "</tr>\n",
       "<tr>\n",
       "  <th>Method:</th>              <td>Least Squares</td>    <th>  F-statistic:       </th> <td>1.306e+04</td>\n",
       "</tr>\n",
       "<tr>\n",
       "  <th>Date:</th>              <td>Mon, 16 Mar 2020</td>   <th>  Prob (F-statistic):</th>  <td>  0.00</td>  \n",
       "</tr>\n",
       "<tr>\n",
       "  <th>Time:</th>                  <td>15:00:15</td>       <th>  Log-Likelihood:    </th> <td> -20203.</td> \n",
       "</tr>\n",
       "<tr>\n",
       "  <th>No. Observations:</th>       <td> 10000</td>        <th>  AIC:               </th> <td>4.042e+04</td>\n",
       "</tr>\n",
       "<tr>\n",
       "  <th>Df Residuals:</th>           <td>  9993</td>        <th>  BIC:               </th> <td>4.047e+04</td>\n",
       "</tr>\n",
       "<tr>\n",
       "  <th>Df Model:</th>               <td>     6</td>        <th>                     </th>     <td> </td>    \n",
       "</tr>\n",
       "<tr>\n",
       "  <th>Covariance Type:</th>       <td>nonrobust</td>      <th>                     </th>     <td> </td>    \n",
       "</tr>\n",
       "</table>\n",
       "<table class=\"simpletable\">\n",
       "<tr>\n",
       "               <td></td>                 <th>coef</th>     <th>std err</th>      <th>t</th>      <th>P>|t|</th>  <th>[0.025</th>    <th>0.975]</th>  \n",
       "</tr>\n",
       "<tr>\n",
       "  <th>const</th>                      <td>   63.8767</td> <td>    0.193</td> <td>  330.484</td> <td> 0.000</td> <td>   63.498</td> <td>   64.256</td>\n",
       "</tr>\n",
       "<tr>\n",
       "  <th>Starting Salary</th>            <td>   -0.0002</td> <td> 1.81e-06</td> <td> -111.199</td> <td> 0.000</td> <td>   -0.000</td> <td>   -0.000</td>\n",
       "</tr>\n",
       "<tr>\n",
       "  <th>Promotions Every $N$ Years</th> <td>    1.2161</td> <td>    0.012</td> <td>   99.971</td> <td> 0.000</td> <td>    1.192</td> <td>    1.240</td>\n",
       "</tr>\n",
       "<tr>\n",
       "  <th>Cost of Living Raise</th>       <td> -174.8805</td> <td>    3.635</td> <td>  -48.114</td> <td> 0.000</td> <td> -182.005</td> <td> -167.756</td>\n",
       "</tr>\n",
       "<tr>\n",
       "  <th>Promotion Raise</th>            <td>  -27.7378</td> <td>    0.364</td> <td>  -76.248</td> <td> 0.000</td> <td>  -28.451</td> <td>  -27.025</td>\n",
       "</tr>\n",
       "<tr>\n",
       "  <th>Savings Rate</th>               <td>  -53.0413</td> <td>    0.260</td> <td> -203.880</td> <td> 0.000</td> <td>  -53.551</td> <td>  -52.531</td>\n",
       "</tr>\n",
       "<tr>\n",
       "  <th>Interest Rate</th>              <td> -159.4830</td> <td>    1.801</td> <td>  -88.549</td> <td> 0.000</td> <td> -163.013</td> <td> -155.953</td>\n",
       "</tr>\n",
       "</table>\n",
       "<table class=\"simpletable\">\n",
       "<tr>\n",
       "  <th>Omnibus:</th>       <td>7177.799</td> <th>  Durbin-Watson:     </th>  <td>   2.028</td>  \n",
       "</tr>\n",
       "<tr>\n",
       "  <th>Prob(Omnibus):</th>  <td> 0.000</td>  <th>  Jarque-Bera (JB):  </th> <td>1248780.153</td>\n",
       "</tr>\n",
       "<tr>\n",
       "  <th>Skew:</th>           <td> 2.506</td>  <th>  Prob(JB):          </th>  <td>    0.00</td>  \n",
       "</tr>\n",
       "<tr>\n",
       "  <th>Kurtosis:</th>       <td>57.516</td>  <th>  Cond. No.          </th>  <td>1.22e+07</td>  \n",
       "</tr>\n",
       "</table><br/><br/>Warnings:<br/>[1] Standard Errors assume that the covariance matrix of the errors is correctly specified.<br/>[2] The condition number is large, 1.22e+07. This might indicate that there are<br/>strong multicollinearity or other numerical problems."
      ],
      "text/plain": [
       "<class 'statsmodels.iolib.summary.Summary'>\n",
       "\"\"\"\n",
       "                             OLS Regression Results                            \n",
       "===============================================================================\n",
       "Dep. Variable:     Years to Retirement   R-squared:                       0.887\n",
       "Model:                             OLS   Adj. R-squared:                  0.887\n",
       "Method:                  Least Squares   F-statistic:                 1.306e+04\n",
       "Date:                 Mon, 16 Mar 2020   Prob (F-statistic):               0.00\n",
       "Time:                         15:00:15   Log-Likelihood:                -20203.\n",
       "No. Observations:                10000   AIC:                         4.042e+04\n",
       "Df Residuals:                     9993   BIC:                         4.047e+04\n",
       "Df Model:                            6                                         \n",
       "Covariance Type:             nonrobust                                         \n",
       "==============================================================================================\n",
       "                                 coef    std err          t      P>|t|      [0.025      0.975]\n",
       "----------------------------------------------------------------------------------------------\n",
       "const                         63.8767      0.193    330.484      0.000      63.498      64.256\n",
       "Starting Salary               -0.0002   1.81e-06   -111.199      0.000      -0.000      -0.000\n",
       "Promotions Every $N$ Years     1.2161      0.012     99.971      0.000       1.192       1.240\n",
       "Cost of Living Raise        -174.8805      3.635    -48.114      0.000    -182.005    -167.756\n",
       "Promotion Raise              -27.7378      0.364    -76.248      0.000     -28.451     -27.025\n",
       "Savings Rate                 -53.0413      0.260   -203.880      0.000     -53.551     -52.531\n",
       "Interest Rate               -159.4830      1.801    -88.549      0.000    -163.013    -155.953\n",
       "==============================================================================\n",
       "Omnibus:                     7177.799   Durbin-Watson:                   2.028\n",
       "Prob(Omnibus):                  0.000   Jarque-Bera (JB):          1248780.153\n",
       "Skew:                           2.506   Prob(JB):                         0.00\n",
       "Kurtosis:                      57.516   Cond. No.                     1.22e+07\n",
       "==============================================================================\n",
       "\n",
       "Warnings:\n",
       "[1] Standard Errors assume that the covariance matrix of the errors is correctly specified.\n",
       "[2] The condition number is large, 1.22e+07. This might indicate that there are\n",
       "strong multicollinearity or other numerical problems.\n",
       "\"\"\""
      ]
     },
     "execution_count": 27,
     "metadata": {},
     "output_type": "execute_result"
    }
   ],
   "source": [
    "\n",
    "output_col = 'Years to Retirement'\n",
    "\n",
    "X = sm.add_constant(df[input_cols])\n",
    "y = df[output_col]\n",
    "\n",
    "mod = sm.OLS(y, X)\n",
    "result = mod.fit()\n",
    "result.summary()"
   ]
  },
  {
   "cell_type": "markdown",
   "metadata": {},
   "source": [
    "We can see based on the p-values that all of the inputs are significantly related to the outputs. But we must incorporate the standard deviations of the inputs to understand which has the greatest impact."
   ]
  },
  {
   "cell_type": "code",
   "execution_count": 28,
   "metadata": {},
   "outputs": [
    {
     "data": {
      "text/plain": [
       "Starting Salary               10064.712253\n",
       "Promotions Every $N$ Years        1.501279\n",
       "Cost of Living Raise              0.005023\n",
       "Promotion Raise                   0.050181\n",
       "Savings Rate                      0.070201\n",
       "Interest Rate                     0.010142\n",
       "Years to Retirement               5.426271\n",
       "dtype: float64"
      ]
     },
     "execution_count": 28,
     "metadata": {},
     "output_type": "execute_result"
    }
   ],
   "source": [
    "df.std()"
   ]
  },
  {
   "cell_type": "code",
   "execution_count": 29,
   "metadata": {},
   "outputs": [
    {
     "data": {
      "text/plain": [
       "Cost of Living Raise         -0.878436\n",
       "Interest Rate                -1.617412\n",
       "Promotion Raise              -1.391923\n",
       "Promotions Every $N$ Years    1.825678\n",
       "Savings Rate                 -3.723547\n",
       "Starting Salary              -2.030558\n",
       "Years to Retirement                NaN\n",
       "const                              NaN\n",
       "dtype: float64"
      ]
     },
     "execution_count": 29,
     "metadata": {},
     "output_type": "execute_result"
    }
   ],
   "source": [
    "result.params * df.std()"
   ]
  },
  {
   "cell_type": "markdown",
   "metadata": {},
   "source": [
    "Savings rate seems to have the greatest impact. A one standard deviation (7%) increase in savings rate decreases years to retirement by 3.7 years. Cost of living raises are the least impactful with a one standard deviation increase (0.5%) in cost of living raises only decreasing years to retirement by 0.9 years."
   ]
  }
 ],
 "metadata": {
  "kernelspec": {
   "display_name": "Python 3",
   "language": "python",
   "name": "python3"
  },
  "language_info": {
   "codemirror_mode": {
    "name": "ipython",
    "version": 3
   },
   "file_extension": ".py",
   "mimetype": "text/x-python",
   "name": "python",
   "nbconvert_exporter": "python",
   "pygments_lexer": "ipython3",
   "version": "3.7.3"
  }
 },
 "nbformat": 4,
 "nbformat_minor": 4
}
