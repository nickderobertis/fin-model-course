{
 "cells": [
  {
   "cell_type": "markdown",
   "metadata": {},
   "source": [
    "# Machines Manufacturing Captal Budgeting Model (Project 1)\n",
    "\n",
    "Insert your description of the model here and add any additional sections below:\n",
    "- [**Setup**](#Setup): Runs any imports and other setup\n",
    "- [**Inputs**](#Inputs): Defines the inputs for the model"
   ]
  },
  {
   "cell_type": "markdown",
   "metadata": {},
   "source": [
    "## Setup\n",
    "\n",
    "Setup for the later calculations are here. The necessary packages are imported."
   ]
  },
  {
   "cell_type": "code",
   "execution_count": 1,
   "metadata": {},
   "outputs": [],
   "source": [
    "from dataclasses import dataclass\n",
    "import numpy as np"
   ]
  },
  {
   "cell_type": "markdown",
   "metadata": {},
   "source": [
    "## Inputs\n",
    "\n",
    "All of the inputs for the model are defined here. A class is constructed to manage the data, and an instance of the class containing the default inputs is created."
   ]
  },
  {
   "cell_type": "code",
   "execution_count": 2,
   "metadata": {},
   "outputs": [
    {
     "data": {
      "text/plain": [
       "ModelInputs(n_phones=100000, price_scrap=50000, price_phone=2000, cost_machine_adv=1000000, cogs_phone=250, n_life=10, n_machines=5, d_1=100000, g_d=0.2, max_year=20, interest=0.05, elasticity=100, demand_constant=300000)"
      ]
     },
     "execution_count": 2,
     "metadata": {},
     "output_type": "execute_result"
    }
   ],
   "source": [
    "@dataclass\n",
    "class ModelInputs:\n",
    "    n_phones: float = 100000\n",
    "    price_scrap: float = 50000\n",
    "    price_phone: float = 2000\n",
    "    cost_machine_adv: float = 1000000\n",
    "    cogs_phone: float = 250\n",
    "    n_life: int = 10\n",
    "    n_machines: int = 5\n",
    "    d_1: float = 100000\n",
    "    g_d: float = 0.2\n",
    "    max_year: float = 20\n",
    "    interest: float = 0.05\n",
    "        \n",
    "    # Inputs for bonus problem\n",
    "    elasticity: float = 100\n",
    "    demand_constant: float = 300000\n",
    "        \n",
    "model_data = ModelInputs()\n",
    "model_data"
   ]
  },
  {
   "cell_type": "code",
   "execution_count": null,
   "metadata": {},
   "outputs": [],
   "source": [
    "cash_flows = # this should ultimately be set to the list containing your cash flow numbers in each year\n",
    "npv = # this should ultimately be set to the overally model npv number "
   ]
  }
 ],
 "metadata": {
  "kernelspec": {
   "display_name": "Python 3",
   "language": "python",
   "name": "python3"
  },
  "language_info": {
   "codemirror_mode": {
    "name": "ipython",
    "version": 3
   },
   "file_extension": ".py",
   "mimetype": "text/x-python",
   "name": "python",
   "nbconvert_exporter": "python",
   "pygments_lexer": "ipython3",
   "version": "3.7.3"
  }
 },
 "nbformat": 4,
 "nbformat_minor": 4
}
