{
 "cells": [
  {
   "cell_type": "markdown",
   "metadata": {},
   "source": [
    "# Walmart Cost of Capital (Project 3)\n",
    "\n",
    "Insert a description for the model here.\n",
    "\n",
    "- [**Setup**](#Setup): Runs any imports and other setup\n",
    "- [**Inputs**](#Inputs): Defines the inputs for the model\n"
   ]
  },
  {
   "cell_type": "markdown",
   "metadata": {},
   "source": [
    "# Setup"
   ]
  },
  {
   "cell_type": "code",
   "execution_count": null,
   "metadata": {},
   "outputs": [],
   "source": [
    "from dataclasses import dataclass"
   ]
  },
  {
   "cell_type": "markdown",
   "metadata": {},
   "source": [
    "# Inputs\n",
    "\n",
    "Some inputs were given in the problem definition. List those here."
   ]
  },
  {
   "cell_type": "code",
   "execution_count": null,
   "metadata": {},
   "outputs": [],
   "source": [
    "# Do not remove or modify any existing input names, though new inputs can be added\n",
    "@dataclass\n",
    "class ModelInputs:\n",
    "    bond_years: int = 15\n",
    "    bond_coupon: float = .0525\n",
    "    bond_price: float = 130.58\n",
    "    bond_par: float = 100\n",
    "    risk_free: float = 0.005\n",
    "    price: float = 119.51\n",
    "    shares_outstanding: int = 2850000000\n",
    "    libor_rate: float = 0.0196\n",
    "    sp_500_file: str = 'SP500 Prices.xlsx'\n",
    "    stock_prices_file: str = 'WMT Prices.xlsx'\n",
    "    stock_ticker: str = 'WMT'\n",
    "    balance_sheet_file: str = 'WMT Balance Sheet.xlsx'\n",
    "    income_statement_file: str = 'WMT Income Statement.xlsx'\n",
    "    mv_debt_details_file: str = 'WMT Debt Details.xls'\n",
    "        \n",
    "        \n",
    "@dataclass\n",
    "class SimulationInputs:\n",
    "    num_iter: int = 10000\n",
    "    beta_std: float = 0.2\n",
    "    mkt_ret_std: float = 0.03\n",
    "    bond_price_std: float = 30\n",
    "    tax_rate_std: float = 0.05\n",
    "\n",
    "model_data = ModelInputs()\n",
    "sim_data = SimulationInputs()\n",
    "model_data"
   ]
  },
  {
   "cell_type": "code",
   "execution_count": null,
   "metadata": {},
   "outputs": [],
   "source": [
    "# Add your model logic, sections, and as many cells as you want here."
   ]
  },
  {
   "cell_type": "code",
   "execution_count": null,
   "metadata": {},
   "outputs": [],
   "source": [
    "# Main answer for baseline case should be numbers (NOT formatted strings) stored into the following variables:\n",
    "coe = \n",
    "mv_equity = \n",
    "pretax_cost_of_debt = \n",
    "aftertax_cost_of_debt = \n",
    "mv_debt = \n",
    "wacc = \n",
    "\n",
    "# Main answer for Monte Carlo simulation should be a DataFrame with columns of ['Beta', 'Market Return', 'Bond Price', 'Tax Rate', 'WACC']\n",
    "# Be sure to save this into wacc_mc_df\n",
    "wacc_mc_df = "
   ]
  }
 ],
 "metadata": {
  "kernelspec": {
   "display_name": "Python 3",
   "language": "python",
   "name": "python3"
  },
  "language_info": {
   "codemirror_mode": {
    "name": "ipython",
    "version": 3
   },
   "file_extension": ".py",
   "mimetype": "text/x-python",
   "name": "python",
   "nbconvert_exporter": "python",
   "pygments_lexer": "ipython3",
   "version": "3.7.3"
  }
 },
 "nbformat": 4,
 "nbformat_minor": 4
}
