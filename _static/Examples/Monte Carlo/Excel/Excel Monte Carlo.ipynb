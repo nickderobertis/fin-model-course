{
 "cells": [
  {
   "cell_type": "markdown",
   "metadata": {},
   "source": [
    "# Running Monte Carlo Simulations on an Excel Model\n",
    "\n",
    "Here I will demonstrate using `xlwings` to drive Excel to run Monte Carlo Simulations. For this exercise, please download the Excel retirement model \"Excel with Salary.xlsx\" from Canvas. Then open the workbook and keep it open. Make sure you have no other workbooks open. Switch to the \"Wealth\" tab if it is not open."
   ]
  },
  {
   "cell_type": "code",
   "execution_count": null,
   "metadata": {},
   "outputs": [],
   "source": [
    "import xlwings as xw"
   ]
  },
  {
   "cell_type": "markdown",
   "metadata": {},
   "source": [
    "## The Monte Carlo Setup\n",
    "\n",
    "First let's get a connection to our Excel sheet."
   ]
  },
  {
   "cell_type": "code",
   "execution_count": 1,
   "metadata": {},
   "outputs": [],
   "source": [
    "import xlwings as xw\n",
    "\n",
    "book = xw.Book('Dynamic Salary Retirement Model.xlsx')\n",
    "sht = book.sheets['Inputs and Outputs']"
   ]
  },
  {
   "cell_type": "markdown",
   "metadata": {},
   "source": [
    "### Running a Single Simulation\n",
    "\n",
    "We want to evaluate how interest rate affects years until retirement. Let's first just try changing the interest rate and getting the years to retirement as the output."
   ]
  },
  {
   "cell_type": "code",
   "execution_count": 2,
   "metadata": {},
   "outputs": [],
   "source": [
    "sht.range('B10').value = 0.08"
   ]
  },
  {
   "cell_type": "markdown",
   "metadata": {},
   "source": [
    "Now we can see that the interest rate has changed to 8% in Excel and that the years to retirement has changed to 24. But we want to get that output out of Excel as well."
   ]
  },
  {
   "cell_type": "code",
   "execution_count": 3,
   "metadata": {},
   "outputs": [
    {
     "data": {
      "text/plain": [
       "24.0"
      ]
     },
     "execution_count": 3,
     "metadata": {},
     "output_type": "execute_result"
    }
   ],
   "source": [
    "years_to_retirement = sht.range('B18').value\n",
    "years_to_retirement"
   ]
  },
  {
   "cell_type": "markdown",
   "metadata": {},
   "source": [
    "Now that we have the value in Python we can analyze it in Python. Or if we want to analyze the results in Excel, we can output it back to the Excel workbook as a hard-coded value in a different cell, so that it will still be saved when the inputs change."
   ]
  },
  {
   "cell_type": "code",
   "execution_count": 4,
   "metadata": {},
   "outputs": [],
   "source": [
    "sht.range('E2').value = years_to_retirement"
   ]
  },
  {
   "cell_type": "markdown",
   "metadata": {},
   "source": [
    "Now we can see the value is in Excel in the cell `E2`."
   ]
  },
  {
   "cell_type": "markdown",
   "metadata": {},
   "source": [
    "### Running Multiple Simulations"
   ]
  },
  {
   "cell_type": "markdown",
   "metadata": {},
   "source": [
    "Just as we have done with pure Python Monte Carlo simulations, now we want to run this process many times. We'll use a loop over the number of iterations to do this. We will collect the results in Python and then output to Excel at the end."
   ]
  },
  {
   "cell_type": "markdown",
   "metadata": {},
   "source": [
    "First we need to be getting the interest rate randomly from a normal distribution:"
   ]
  },
  {
   "cell_type": "code",
   "execution_count": 5,
   "metadata": {},
   "outputs": [
    {
     "data": {
      "text/plain": [
       "0.0341134554522831"
      ]
     },
     "execution_count": 5,
     "metadata": {},
     "output_type": "execute_result"
    }
   ],
   "source": [
    "import random\n",
    "\n",
    "interest_mean = 0.05\n",
    "interest_std = 0.03\n",
    "\n",
    "interest_rate = random.normalvariate(interest_mean, interest_std)\n",
    "interest_rate"
   ]
  },
  {
   "cell_type": "code",
   "execution_count": 6,
   "metadata": {},
   "outputs": [
    {
     "data": {
      "text/plain": [
       "[37.0, 28.0, 26.0, 30.0, 25.0, 29.0, 38.0, 30.0, 27.0, 23.0]"
      ]
     },
     "execution_count": 6,
     "metadata": {},
     "output_type": "execute_result"
    }
   ],
   "source": [
    "num_iter = 10\n",
    "\n",
    "all_retirement_years = []\n",
    "for i in range(num_iter):\n",
    "    interest_rate = random.normalvariate(interest_mean, interest_std)\n",
    "    sht.range('B10').value = interest_rate\n",
    "    years_to_retirement = sht.range('B18').value\n",
    "    all_retirement_years.append(years_to_retirement)\n",
    "all_retirement_years"
   ]
  },
  {
   "cell_type": "markdown",
   "metadata": {},
   "source": [
    "Now output back to Excel. We want them in a column so we will do the list comprehension trick."
   ]
  },
  {
   "cell_type": "code",
   "execution_count": 7,
   "metadata": {},
   "outputs": [],
   "source": [
    "vertical_retirement_years = [[ret_year] for ret_year in all_retirement_years]\n",
    "sht.range('E2').value = vertical_retirement_years"
   ]
  },
  {
   "cell_type": "markdown",
   "metadata": {},
   "source": [
    "Now wrap this all up in a function."
   ]
  },
  {
   "cell_type": "code",
   "execution_count": 8,
   "metadata": {},
   "outputs": [
    {
     "data": {
      "text/plain": [
       "[19.0, 20.0, 25.0, 24.0, 21.0, 18.0, 21.0, 22.0, 19.0, 17.0]"
      ]
     },
     "execution_count": 8,
     "metadata": {},
     "output_type": "execute_result"
    }
   ],
   "source": [
    "def retirement_simulations(num_iter, interest_mean, interest_std):\n",
    "    all_retirement_years = []\n",
    "    for i in range(num_iter):\n",
    "        interest_rate = random.normalvariate(interest_mean, interest_std)\n",
    "        sht.range('B10').value = interest_rate\n",
    "        years_to_retirement = sht.range('B18').value\n",
    "        all_retirement_years.append(years_to_retirement)\n",
    "    \n",
    "    vertical_retirement_years = [[ret_year] for ret_year in all_retirement_years]\n",
    "    sht.range('E2').value = vertical_retirement_years\n",
    "    \n",
    "    return all_retirement_years  # return it so we will also have it in Python in addition to Excel\n",
    "\n",
    "results = retirement_simulations(1000, 0.1, 0.05)\n",
    "results[:10]"
   ]
  },
  {
   "cell_type": "markdown",
   "metadata": {},
   "source": [
    "### Visualize and Analyze"
   ]
  },
  {
   "cell_type": "markdown",
   "metadata": {},
   "source": [
    "From here, we could follow the same exact process to visualize and analyze in Python as is shown in the Monte Carlo example and practice problem. Here I will show a similar process but doing it in Excel."
   ]
  },
  {
   "cell_type": "markdown",
   "metadata": {},
   "source": [
    "#### Histogram"
   ]
  },
  {
   "cell_type": "markdown",
   "metadata": {},
   "source": [
    "Select the values in Excel, then do Insert > Charts > Histogram. You can change the number of bins by going to axis formatting options."
   ]
  },
  {
   "cell_type": "markdown",
   "metadata": {},
   "source": [
    "#### Percentile Table"
   ]
  },
  {
   "cell_type": "markdown",
   "metadata": {},
   "source": [
    "Excel has the `=PERCENTILE` function. Set up your table with the probabilities you want to examine, then in the first cell call the `=PERCENTILE` function on the entire data with a fixed reference, then the probability with a relative reference. Then you can drag it down to iterate through the probabilities."
   ]
  },
  {
   "cell_type": "markdown",
   "metadata": {},
   "source": [
    "### Probability of a Certain Outcome"
   ]
  },
  {
   "cell_type": "markdown",
   "metadata": {},
   "source": [
    "We can recreate what we did in Python by using a simple `=IF` call. E.g. if we wanted to see the probability that years to retirement is greater than 25, we would do `=IF(E2>25,1,0)` so that we get a 1 if it is meeting the condition and zero otherwise. Then we just take an average of all the 1s and 0s."
   ]
  }
 ],
 "metadata": {
  "kernelspec": {
   "display_name": "Python 3",
   "language": "python",
   "name": "python3"
  },
  "language_info": {
   "codemirror_mode": {
    "name": "ipython",
    "version": 3
   },
   "file_extension": ".py",
   "mimetype": "text/x-python",
   "name": "python",
   "nbconvert_exporter": "python",
   "pygments_lexer": "ipython3",
   "version": "3.7.3"
  }
 },
 "nbformat": 4,
 "nbformat_minor": 4
}
