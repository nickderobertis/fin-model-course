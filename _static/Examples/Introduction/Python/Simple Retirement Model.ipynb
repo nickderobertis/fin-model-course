{
 "cells": [
  {
   "cell_type": "markdown",
   "metadata": {},
   "source": [
    "# A Simple Retirement Model\n",
    "### An Introduction to Using Python for Financial Modeling"
   ]
  },
  {
   "cell_type": "markdown",
   "metadata": {},
   "source": [
    "## The Initial Model\n",
    "\n",
    "The initial problem is to determine the number of years to retirement based on the following info: \n",
    "- Salary\n",
    "- Savings rate\n",
    "- Investment rate\n",
    "- Desired cash\n"
   ]
  },
  {
   "cell_type": "markdown",
   "metadata": {},
   "source": [
    "### Define the Inputs\n",
    "Here I will just define the variables containing our input information. Please note that in Python, you must use decimals and not percentages. So 50% is 0.50. Typing 50% would be invalid. "
   ]
  },
  {
   "cell_type": "code",
   "execution_count": null,
   "metadata": {},
   "outputs": [],
   "source": [
    "salary = 60000\n",
    "savings_rate = 0.25\n",
    "investment_rate = 0.05\n",
    "desired_cash = 1500000"
   ]
  },
  {
   "cell_type": "markdown",
   "metadata": {},
   "source": [
    "### Determining Cash Saved\n",
    "\n",
    "First we need to calculate the annual amount of cash saved. It is simply the savings rate multiplied by the salary."
   ]
  },
  {
   "cell_type": "code",
   "execution_count": 2,
   "metadata": {},
   "outputs": [],
   "source": [
    "annual_cash = salary * savings_rate"
   ]
  },
  {
   "cell_type": "markdown",
   "metadata": {},
   "source": [
    "To view what we calculated, either `print` it, or you can simply put it on the last line of a block to have Jupyter display it automatically. So both of these work:"
   ]
  },
  {
   "cell_type": "code",
   "execution_count": 3,
   "metadata": {},
   "outputs": [
    {
     "name": "stdout",
     "output_type": "stream",
     "text": [
      "15000.0\n"
     ]
    }
   ],
   "source": [
    "print(annual_cash)"
   ]
  },
  {
   "cell_type": "code",
   "execution_count": 4,
   "metadata": {},
   "outputs": [
    {
     "data": {
      "text/plain": [
       "15000.0"
      ]
     },
     "execution_count": 4,
     "metadata": {},
     "output_type": "execute_result"
    }
   ],
   "source": [
    "annual_cash"
   ]
  },
  {
   "cell_type": "markdown",
   "metadata": {},
   "source": [
    "Or we could have done it all in one block:"
   ]
  },
  {
   "cell_type": "code",
   "execution_count": 5,
   "metadata": {},
   "outputs": [
    {
     "data": {
      "text/plain": [
       "15000.0"
      ]
     },
     "execution_count": 5,
     "metadata": {},
     "output_type": "execute_result"
    }
   ],
   "source": [
    "annual_cash = salary * savings_rate\n",
    "annual_cash"
   ]
  },
  {
   "cell_type": "markdown",
   "metadata": {},
   "source": [
    "### Calculating Years to Retirement\n",
    "\n",
    "Just as we have the `=NPER` function in Excel, we have an analagous function in the Python ecosystem. However it is not available in base Python. We need to load one of these modules which gives us extra functionality. The module we want for this is `numpy` which is one of the most popular modules, and includes a lot of math tools. It is already included in the Anaconda distribution of Python I had you install.\n",
    "\n",
    "To use functionality from a module, we must `import` that module before using it. We only need to run this `import` for the module once in a session and then we can keep using the module. Let's go ahead and import `numpy`."
   ]
  },
  {
   "cell_type": "code",
   "execution_count": 6,
   "metadata": {},
   "outputs": [],
   "source": [
    "import numpy as np"
   ]
  },
  {
   "cell_type": "markdown",
   "metadata": {},
   "source": [
    "There are a couple parts to that import. You always need the `import` keyword and the name of the module. But here we have also added `as np` which means that when we use the module, we will use it as `np.` instead of `numpy.`. This is simply to save a bit of typing, and the only reason I do it here is because `import numpy as np` is the convention for `numpy`, and if you Google for any examples they will all be doing this. It is not necessary to include the `as np` part."
   ]
  },
  {
   "cell_type": "markdown",
   "metadata": {},
   "source": [
    "The financial functions in `numpy` are named the same as in Excel. So the one we want is `np.nper`. Let's check out how to use it. We can get information on any Python object in Jupyter by putting it in a cell and adding a question mark at the end."
   ]
  },
  {
   "cell_type": "code",
   "execution_count": 7,
   "metadata": {},
   "outputs": [
    {
     "data": {
      "text/plain": [
       "\u001b[0;31mSignature:\u001b[0m \u001b[0mnp\u001b[0m\u001b[0;34m.\u001b[0m\u001b[0mnper\u001b[0m\u001b[0;34m(\u001b[0m\u001b[0mrate\u001b[0m\u001b[0;34m,\u001b[0m \u001b[0mpmt\u001b[0m\u001b[0;34m,\u001b[0m \u001b[0mpv\u001b[0m\u001b[0;34m,\u001b[0m \u001b[0mfv\u001b[0m\u001b[0;34m=\u001b[0m\u001b[0;36m0\u001b[0m\u001b[0;34m,\u001b[0m \u001b[0mwhen\u001b[0m\u001b[0;34m=\u001b[0m\u001b[0;34m'end'\u001b[0m\u001b[0;34m)\u001b[0m\u001b[0;34m\u001b[0m\u001b[0;34m\u001b[0m\u001b[0m\n",
       "\u001b[0;31mDocstring:\u001b[0m\n",
       "Compute the number of periodic payments.\n",
       "\n",
       ":class:`decimal.Decimal` type is not supported.\n",
       "\n",
       "Parameters\n",
       "----------\n",
       "rate : array_like\n",
       "    Rate of interest (per period)\n",
       "pmt : array_like\n",
       "    Payment\n",
       "pv : array_like\n",
       "    Present value\n",
       "fv : array_like, optional\n",
       "    Future value\n",
       "when : {{'begin', 1}, {'end', 0}}, {string, int}, optional\n",
       "    When payments are due ('begin' (1) or 'end' (0))\n",
       "\n",
       "Notes\n",
       "-----\n",
       "The number of periods ``nper`` is computed by solving the equation::\n",
       "\n",
       " fv + pv*(1+rate)**nper + pmt*(1+rate*when)/rate*((1+rate)**nper-1) = 0\n",
       "\n",
       "but if ``rate = 0`` then::\n",
       "\n",
       " fv + pv + pmt*nper = 0\n",
       "\n",
       "Examples\n",
       "--------\n",
       "If you only had $150/month to pay towards the loan, how long would it take\n",
       "to pay-off a loan of $8,000 at 7% annual interest?\n",
       "\n",
       ">>> print(np.round(np.nper(0.07/12, -150, 8000), 5))\n",
       "64.07335\n",
       "\n",
       "So, over 64 months would be required to pay off the loan.\n",
       "\n",
       "The same analysis could be done with several different interest rates\n",
       "and/or payments and/or total amounts to produce an entire table.\n",
       "\n",
       ">>> np.nper(*(np.ogrid[0.07/12: 0.08/12: 0.01/12,\n",
       "...                    -150   : -99     : 50    ,\n",
       "...                    8000   : 9001    : 1000]))\n",
       "array([[[ 64.07334877,  74.06368256],\n",
       "        [108.07548412, 127.99022654]],\n",
       "       [[ 66.12443902,  76.87897353],\n",
       "        [114.70165583, 137.90124779]]])\n",
       "\u001b[0;31mFile:\u001b[0m      ~/.local/share/virtualenvs/fin-model-course-eIFMSc8A/lib/python3.7/site-packages/numpy/lib/financial.py\n",
       "\u001b[0;31mType:\u001b[0m      function\n"
      ]
     },
     "metadata": {},
     "output_type": "display_data"
    }
   ],
   "source": [
    "np.nper?"
   ]
  },
  {
   "cell_type": "markdown",
   "metadata": {},
   "source": [
    "We can see we need to pass first the rate, then the payment, then the present value, then the future value. Let's give that a try."
   ]
  },
  {
   "cell_type": "code",
   "execution_count": 8,
   "metadata": {},
   "outputs": [
    {
     "data": {
      "text/plain": [
       "array(36.72378439)"
      ]
     },
     "execution_count": 8,
     "metadata": {},
     "output_type": "execute_result"
    }
   ],
   "source": [
    "years_to_retirement = np.nper(investment_rate, -annual_cash, 0, desired_cash)\n",
    "years_to_retirement"
   ]
  },
  {
   "cell_type": "markdown",
   "metadata": {},
   "source": [
    "Let's give that a bit better formatting."
   ]
  },
  {
   "cell_type": "code",
   "execution_count": 9,
   "metadata": {},
   "outputs": [
    {
     "name": "stdout",
     "output_type": "stream",
     "text": [
      "Martha has 36.7 years to retirement.\n"
     ]
    }
   ],
   "source": [
    "print(f'Martha has {years_to_retirement:.1f} years to retirement.')"
   ]
  },
  {
   "cell_type": "markdown",
   "metadata": {},
   "source": [
    "## Multiple Interest Rates"
   ]
  },
  {
   "cell_type": "markdown",
   "metadata": {},
   "source": [
    "In Excel, we can use relative references and drag to do iteration. In Python, we use loops. Here we will use a `for` loop to say \"for each investment rate, tell me the years to retirement.\"\n",
    "\n",
    "First just create a list of the different investment rates."
   ]
  },
  {
   "cell_type": "code",
   "execution_count": 10,
   "metadata": {},
   "outputs": [],
   "source": [
    "investment_rates = [0.04, 0.05, 0.06]"
   ]
  },
  {
   "cell_type": "markdown",
   "metadata": {},
   "source": [
    "We can see how the `for` loop works by first just printing each investment rate."
   ]
  },
  {
   "cell_type": "code",
   "execution_count": 11,
   "metadata": {},
   "outputs": [
    {
     "name": "stdout",
     "output_type": "stream",
     "text": [
      "0.04\n",
      "0.05\n",
      "0.06\n"
     ]
    }
   ],
   "source": [
    "for i_rate in investment_rates:\n",
    "    print(i_rate)"
   ]
  },
  {
   "cell_type": "markdown",
   "metadata": {},
   "source": [
    "We can see that it printed three times, once for each rate. It iterated through each of the rates, and did what we had under the `for` loop. Now let's expand that to actually calculate the years to retirement."
   ]
  },
  {
   "cell_type": "code",
   "execution_count": 12,
   "metadata": {},
   "outputs": [
    {
     "name": "stdout",
     "output_type": "stream",
     "text": [
      "Martha has 41.0 years to retirement if she earns a 4% return.\n",
      "Martha has 36.7 years to retirement if she earns a 5% return.\n",
      "Martha has 33.4 years to retirement if she earns a 6% return.\n"
     ]
    }
   ],
   "source": [
    "for i_rate in investment_rates:\n",
    "    years_to_retirement = np.nper(i_rate, -annual_cash, 0, desired_cash)\n",
    "    print(f'Martha has {years_to_retirement:.1f} years to retirement if she earns a {i_rate:.0%} return.')"
   ]
  },
  {
   "cell_type": "markdown",
   "metadata": {},
   "source": [
    "We can see that the code is effectively the same as before, but all we did was put it under the `for` loop and pass each individual `i_rate` instead of the original `investment_rate`."
   ]
  }
 ],
 "metadata": {
  "kernelspec": {
   "display_name": "Python 3",
   "language": "python",
   "name": "python3"
  },
  "language_info": {
   "codemirror_mode": {
    "name": "ipython",
    "version": 3
   },
   "file_extension": ".py",
   "mimetype": "text/x-python",
   "name": "python",
   "nbconvert_exporter": "python",
   "pygments_lexer": "ipython3",
   "version": "3.7.3"
  }
 },
 "nbformat": 4,
 "nbformat_minor": 4
}
