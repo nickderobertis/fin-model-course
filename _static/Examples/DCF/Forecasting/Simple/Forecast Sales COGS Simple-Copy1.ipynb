{
 "cells": [
  {
   "cell_type": "markdown",
   "metadata": {},
   "source": [
    "# Forecasting Simple Time-Series"
   ]
  },
  {
   "cell_type": "markdown",
   "metadata": {},
   "source": [
    "This example shows how to estimate time-series that are relatively constant or have a defined trend, but other than that do not have any patterns over time. If there are other patterns in the data, such as seasonality, see Forecasting Complex Time-Series."
   ]
  },
  {
   "cell_type": "markdown",
   "metadata": {},
   "source": [
    "## Load in the Data"
   ]
  },
  {
   "cell_type": "markdown",
   "metadata": {},
   "source": [
    "We'll load in the data with `pandas`, which should be review."
   ]
  },
  {
   "cell_type": "code",
   "execution_count": 1,
   "metadata": {},
   "outputs": [],
   "source": [
    "import pandas as pd\n",
    "df = pd.read_excel('Sales COGS for Lab.xlsx')"
   ]
  },
  {
   "cell_type": "code",
   "execution_count": 2,
   "metadata": {},
   "outputs": [
    {
     "data": {
      "text/html": [
       "<div>\n",
       "<style scoped>\n",
       "    .dataframe tbody tr th:only-of-type {\n",
       "        vertical-align: middle;\n",
       "    }\n",
       "\n",
       "    .dataframe tbody tr th {\n",
       "        vertical-align: top;\n",
       "    }\n",
       "\n",
       "    .dataframe thead th {\n",
       "        text-align: right;\n",
       "    }\n",
       "</style>\n",
       "<table border=\"1\" class=\"dataframe\">\n",
       "  <thead>\n",
       "    <tr style=\"text-align: right;\">\n",
       "      <th></th>\n",
       "      <th>Unnamed: 0</th>\n",
       "      <th>2017-12-31 00:00:00</th>\n",
       "      <th>2018-12-31 00:00:00</th>\n",
       "      <th>2019-12-31 00:00:00</th>\n",
       "    </tr>\n",
       "  </thead>\n",
       "  <tbody>\n",
       "    <tr>\n",
       "      <th>0</th>\n",
       "      <td>Sales</td>\n",
       "      <td>4500</td>\n",
       "      <td>5200</td>\n",
       "      <td>6100</td>\n",
       "    </tr>\n",
       "    <tr>\n",
       "      <th>1</th>\n",
       "      <td>Cost of Goods Sold</td>\n",
       "      <td>1200</td>\n",
       "      <td>1700</td>\n",
       "      <td>1900</td>\n",
       "    </tr>\n",
       "  </tbody>\n",
       "</table>\n",
       "</div>"
      ],
      "text/plain": [
       "           Unnamed: 0  2017-12-31 00:00:00  2018-12-31 00:00:00  \\\n",
       "0               Sales                 4500                 5200   \n",
       "1  Cost of Goods Sold                 1200                 1700   \n",
       "\n",
       "   2019-12-31 00:00:00  \n",
       "0                 6100  \n",
       "1                 1900  "
      ]
     },
     "execution_count": 2,
     "metadata": {},
     "output_type": "execute_result"
    }
   ],
   "source": [
    "df.head()"
   ]
  },
  {
   "cell_type": "markdown",
   "metadata": {},
   "source": [
    "Here we should use Sales, Cost of Goods sold as the index. Load in by setting the index column."
   ]
  },
  {
   "cell_type": "code",
   "execution_count": 3,
   "metadata": {},
   "outputs": [
    {
     "data": {
      "text/html": [
       "<div>\n",
       "<style scoped>\n",
       "    .dataframe tbody tr th:only-of-type {\n",
       "        vertical-align: middle;\n",
       "    }\n",
       "\n",
       "    .dataframe tbody tr th {\n",
       "        vertical-align: top;\n",
       "    }\n",
       "\n",
       "    .dataframe thead th {\n",
       "        text-align: right;\n",
       "    }\n",
       "</style>\n",
       "<table border=\"1\" class=\"dataframe\">\n",
       "  <thead>\n",
       "    <tr style=\"text-align: right;\">\n",
       "      <th></th>\n",
       "      <th>2017-12-31</th>\n",
       "      <th>2018-12-31</th>\n",
       "      <th>2019-12-31</th>\n",
       "    </tr>\n",
       "  </thead>\n",
       "  <tbody>\n",
       "    <tr>\n",
       "      <th>Sales</th>\n",
       "      <td>4500</td>\n",
       "      <td>5200</td>\n",
       "      <td>6100</td>\n",
       "    </tr>\n",
       "    <tr>\n",
       "      <th>Cost of Goods Sold</th>\n",
       "      <td>1200</td>\n",
       "      <td>1700</td>\n",
       "      <td>1900</td>\n",
       "    </tr>\n",
       "  </tbody>\n",
       "</table>\n",
       "</div>"
      ],
      "text/plain": [
       "                    2017-12-31  2018-12-31  2019-12-31\n",
       "Sales                     4500        5200        6100\n",
       "Cost of Goods Sold        1200        1700        1900"
      ]
     },
     "execution_count": 3,
     "metadata": {},
     "output_type": "execute_result"
    }
   ],
   "source": [
    "df = pd.read_excel('Sales COGS for Lab.xlsx', index_col=0)\n",
    "df.head()"
   ]
  },
  {
   "cell_type": "markdown",
   "metadata": {},
   "source": [
    "Now that looks better."
   ]
  },
  {
   "cell_type": "markdown",
   "metadata": {},
   "source": [
    "## Plot Data"
   ]
  },
  {
   "cell_type": "markdown",
   "metadata": {},
   "source": [
    "For an effective plot, we will need to transpose the data, so that the dates are the index (x-axis on plot), and the data types are columns (series on plot). Thankfully this is as simple as `df.T`."
   ]
  },
  {
   "cell_type": "code",
   "execution_count": 4,
   "metadata": {},
   "outputs": [
    {
     "data": {
      "text/html": [
       "<div>\n",
       "<style scoped>\n",
       "    .dataframe tbody tr th:only-of-type {\n",
       "        vertical-align: middle;\n",
       "    }\n",
       "\n",
       "    .dataframe tbody tr th {\n",
       "        vertical-align: top;\n",
       "    }\n",
       "\n",
       "    .dataframe thead th {\n",
       "        text-align: right;\n",
       "    }\n",
       "</style>\n",
       "<table border=\"1\" class=\"dataframe\">\n",
       "  <thead>\n",
       "    <tr style=\"text-align: right;\">\n",
       "      <th></th>\n",
       "      <th>Sales</th>\n",
       "      <th>Cost of Goods Sold</th>\n",
       "    </tr>\n",
       "  </thead>\n",
       "  <tbody>\n",
       "    <tr>\n",
       "      <th>2017-12-31</th>\n",
       "      <td>4500</td>\n",
       "      <td>1200</td>\n",
       "    </tr>\n",
       "    <tr>\n",
       "      <th>2018-12-31</th>\n",
       "      <td>5200</td>\n",
       "      <td>1700</td>\n",
       "    </tr>\n",
       "    <tr>\n",
       "      <th>2019-12-31</th>\n",
       "      <td>6100</td>\n",
       "      <td>1900</td>\n",
       "    </tr>\n",
       "  </tbody>\n",
       "</table>\n",
       "</div>"
      ],
      "text/plain": [
       "            Sales  Cost of Goods Sold\n",
       "2017-12-31   4500                1200\n",
       "2018-12-31   5200                1700\n",
       "2019-12-31   6100                1900"
      ]
     },
     "execution_count": 4,
     "metadata": {},
     "output_type": "execute_result"
    }
   ],
   "source": [
    "df.T"
   ]
  },
  {
   "cell_type": "code",
   "execution_count": 5,
   "metadata": {},
   "outputs": [
    {
     "data": {
      "text/plain": [
       "<matplotlib.axes._subplots.AxesSubplot at 0x111fb7b8>"
      ]
     },
     "execution_count": 5,
     "metadata": {},
     "output_type": "execute_result"
    },
    {
     "data": {
      "image/png": "[encoded data removed]",
      "text/plain": [
       "<Figure size 432x288 with 1 Axes>"
      ]
     },
     "metadata": {
      "needs_background": "light"
     },
     "output_type": "display_data"
    }
   ],
   "source": [
    "%matplotlib inline\n",
    "\n",
    "df.T.plot.line()"
   ]
  },
  {
   "cell_type": "markdown",
   "metadata": {},
   "source": [
    "## Forecast Using Most Recent Value\n",
    "\n",
    "This is the simplest forecast, just keep it the same as it was. \n",
    "\n",
    "Right now we have the dates as the columns. So access the columns and take the max to find the latest date."
   ]
  },
  {
   "cell_type": "code",
   "execution_count": 6,
   "metadata": {},
   "outputs": [
    {
     "data": {
      "text/plain": [
       "Timestamp('2019-12-31 00:00:00')"
      ]
     },
     "execution_count": 6,
     "metadata": {},
     "output_type": "execute_result"
    }
   ],
   "source": [
    "last_date = df.columns.max()\n",
    "last_date"
   ]
  },
  {
   "cell_type": "markdown",
   "metadata": {},
   "source": [
    "Now select the values which have the latest date as the forecast"
   ]
  },
  {
   "cell_type": "code",
   "execution_count": 7,
   "metadata": {},
   "outputs": [
    {
     "name": "stdout",
     "output_type": "stream",
     "text": [
      "The forecasted value for sales is $6,100 and for COGS is $1,900\n"
     ]
    }
   ],
   "source": [
    "fcst_sales = df.loc['Sales'][last_date]\n",
    "fcst_cogs = df.loc['Cost of Goods Sold'][last_date]\n",
    "print(f'The forecasted value for sales is ${fcst_sales:,.0f} and for COGS is ${fcst_cogs:,.0f}')"
   ]
  },
  {
   "cell_type": "markdown",
   "metadata": {},
   "source": [
    "## Forecast Using Average\n",
    "\n",
    "We have already seen how to take averages of `pandas` `Series`:"
   ]
  },
  {
   "cell_type": "code",
   "execution_count": 8,
   "metadata": {},
   "outputs": [
    {
     "name": "stdout",
     "output_type": "stream",
     "text": [
      "The forecasted value for sales is $5,267 and for COGS is $1,600\n"
     ]
    }
   ],
   "source": [
    "fcst_sales = df.loc['Sales'].mean()\n",
    "fcst_cogs = df.loc['Cost of Goods Sold'].mean()\n",
    "print(f'The forecasted value for sales is ${fcst_sales:,.0f} and for COGS is ${fcst_cogs:,.0f}')"
   ]
  },
  {
   "cell_type": "markdown",
   "metadata": {},
   "source": [
    "## Forecast Using Trend\n",
    "\n",
    "There are two methods to forecast using the trend."
   ]
  },
  {
   "cell_type": "markdown",
   "metadata": {},
   "source": [
    "### Trend Method 1: By Regression\n",
    "\n",
    "We will estimate the following regression model:\n",
    "$$y_t = a + \\beta t + \\epsilon_t$$"
   ]
  },
  {
   "cell_type": "markdown",
   "metadata": {},
   "source": [
    "#### Create DataFrame with $t$"
   ]
  },
  {
   "cell_type": "markdown",
   "metadata": {},
   "source": [
    "First we need to create a `DataFrame` which has a column for the $y$ and a column for the $t$:.\n",
    "\n",
    "To do this, first we can create a `DataFrame` from the `Series` we want to forecast."
   ]
  },
  {
   "cell_type": "code",
   "execution_count": 9,
   "metadata": {},
   "outputs": [
    {
     "data": {
      "text/html": [
       "<div>\n",
       "<style scoped>\n",
       "    .dataframe tbody tr th:only-of-type {\n",
       "        vertical-align: middle;\n",
       "    }\n",
       "\n",
       "    .dataframe tbody tr th {\n",
       "        vertical-align: top;\n",
       "    }\n",
       "\n",
       "    .dataframe thead th {\n",
       "        text-align: right;\n",
       "    }\n",
       "</style>\n",
       "<table border=\"1\" class=\"dataframe\">\n",
       "  <thead>\n",
       "    <tr style=\"text-align: right;\">\n",
       "      <th></th>\n",
       "      <th>Sales</th>\n",
       "    </tr>\n",
       "  </thead>\n",
       "  <tbody>\n",
       "    <tr>\n",
       "      <th>2017-12-31</th>\n",
       "      <td>4500</td>\n",
       "    </tr>\n",
       "    <tr>\n",
       "      <th>2018-12-31</th>\n",
       "      <td>5200</td>\n",
       "    </tr>\n",
       "    <tr>\n",
       "      <th>2019-12-31</th>\n",
       "      <td>6100</td>\n",
       "    </tr>\n",
       "  </tbody>\n",
       "</table>\n",
       "</div>"
      ],
      "text/plain": [
       "            Sales\n",
       "2017-12-31   4500\n",
       "2018-12-31   5200\n",
       "2019-12-31   6100"
      ]
     },
     "execution_count": 9,
     "metadata": {},
     "output_type": "execute_result"
    }
   ],
   "source": [
    "for_fcst_df = pd.DataFrame(df.loc['Sales'])\n",
    "for_fcst_df"
   ]
  },
  {
   "cell_type": "markdown",
   "metadata": {},
   "source": [
    "We can use `reset_index(drop=True)` to get rid of the date index."
   ]
  },
  {
   "cell_type": "code",
   "execution_count": 10,
   "metadata": {},
   "outputs": [
    {
     "data": {
      "text/html": [
       "<div>\n",
       "<style scoped>\n",
       "    .dataframe tbody tr th:only-of-type {\n",
       "        vertical-align: middle;\n",
       "    }\n",
       "\n",
       "    .dataframe tbody tr th {\n",
       "        vertical-align: top;\n",
       "    }\n",
       "\n",
       "    .dataframe thead th {\n",
       "        text-align: right;\n",
       "    }\n",
       "</style>\n",
       "<table border=\"1\" class=\"dataframe\">\n",
       "  <thead>\n",
       "    <tr style=\"text-align: right;\">\n",
       "      <th></th>\n",
       "      <th>Sales</th>\n",
       "    </tr>\n",
       "  </thead>\n",
       "  <tbody>\n",
       "    <tr>\n",
       "      <th>0</th>\n",
       "      <td>4500</td>\n",
       "    </tr>\n",
       "    <tr>\n",
       "      <th>1</th>\n",
       "      <td>5200</td>\n",
       "    </tr>\n",
       "    <tr>\n",
       "      <th>2</th>\n",
       "      <td>6100</td>\n",
       "    </tr>\n",
       "  </tbody>\n",
       "</table>\n",
       "</div>"
      ],
      "text/plain": [
       "   Sales\n",
       "0   4500\n",
       "1   5200\n",
       "2   6100"
      ]
     },
     "execution_count": 10,
     "metadata": {},
     "output_type": "execute_result"
    }
   ],
   "source": [
    "for_fcst_df = for_fcst_df.reset_index(drop=True)\n",
    "for_fcst_df"
   ]
  },
  {
   "cell_type": "markdown",
   "metadata": {},
   "source": [
    "We can now use `reset_index()` without the `drop=True` to get this new 0, 1, 2 index as a column."
   ]
  },
  {
   "cell_type": "code",
   "execution_count": 11,
   "metadata": {},
   "outputs": [
    {
     "data": {
      "text/html": [
       "<div>\n",
       "<style scoped>\n",
       "    .dataframe tbody tr th:only-of-type {\n",
       "        vertical-align: middle;\n",
       "    }\n",
       "\n",
       "    .dataframe tbody tr th {\n",
       "        vertical-align: top;\n",
       "    }\n",
       "\n",
       "    .dataframe thead th {\n",
       "        text-align: right;\n",
       "    }\n",
       "</style>\n",
       "<table border=\"1\" class=\"dataframe\">\n",
       "  <thead>\n",
       "    <tr style=\"text-align: right;\">\n",
       "      <th></th>\n",
       "      <th>index</th>\n",
       "      <th>Sales</th>\n",
       "    </tr>\n",
       "  </thead>\n",
       "  <tbody>\n",
       "    <tr>\n",
       "      <th>0</th>\n",
       "      <td>0</td>\n",
       "      <td>4500</td>\n",
       "    </tr>\n",
       "    <tr>\n",
       "      <th>1</th>\n",
       "      <td>1</td>\n",
       "      <td>5200</td>\n",
       "    </tr>\n",
       "    <tr>\n",
       "      <th>2</th>\n",
       "      <td>2</td>\n",
       "      <td>6100</td>\n",
       "    </tr>\n",
       "  </tbody>\n",
       "</table>\n",
       "</div>"
      ],
      "text/plain": [
       "   index  Sales\n",
       "0      0   4500\n",
       "1      1   5200\n",
       "2      2   6100"
      ]
     },
     "execution_count": 11,
     "metadata": {},
     "output_type": "execute_result"
    }
   ],
   "source": [
    "for_fcst_df = for_fcst_df.reset_index()\n",
    "for_fcst_df"
   ]
  },
  {
   "cell_type": "markdown",
   "metadata": {},
   "source": [
    "We can also rename that column."
   ]
  },
  {
   "cell_type": "code",
   "execution_count": 12,
   "metadata": {},
   "outputs": [
    {
     "data": {
      "text/html": [
       "<div>\n",
       "<style scoped>\n",
       "    .dataframe tbody tr th:only-of-type {\n",
       "        vertical-align: middle;\n",
       "    }\n",
       "\n",
       "    .dataframe tbody tr th {\n",
       "        vertical-align: top;\n",
       "    }\n",
       "\n",
       "    .dataframe thead th {\n",
       "        text-align: right;\n",
       "    }\n",
       "</style>\n",
       "<table border=\"1\" class=\"dataframe\">\n",
       "  <thead>\n",
       "    <tr style=\"text-align: right;\">\n",
       "      <th></th>\n",
       "      <th>t</th>\n",
       "      <th>Sales</th>\n",
       "    </tr>\n",
       "  </thead>\n",
       "  <tbody>\n",
       "    <tr>\n",
       "      <th>0</th>\n",
       "      <td>0</td>\n",
       "      <td>4500</td>\n",
       "    </tr>\n",
       "    <tr>\n",
       "      <th>1</th>\n",
       "      <td>1</td>\n",
       "      <td>5200</td>\n",
       "    </tr>\n",
       "    <tr>\n",
       "      <th>2</th>\n",
       "      <td>2</td>\n",
       "      <td>6100</td>\n",
       "    </tr>\n",
       "  </tbody>\n",
       "</table>\n",
       "</div>"
      ],
      "text/plain": [
       "   t  Sales\n",
       "0  0   4500\n",
       "1  1   5200\n",
       "2  2   6100"
      ]
     },
     "execution_count": 12,
     "metadata": {},
     "output_type": "execute_result"
    }
   ],
   "source": [
    "for_fcst_df = for_fcst_df.rename(columns={'index': 't'})\n",
    "for_fcst_df"
   ]
  },
  {
   "cell_type": "markdown",
   "metadata": {},
   "source": [
    "Let's wrap this all up in a function as we'll need to use this for COGS as well, and for the CAGR approaches."
   ]
  },
  {
   "cell_type": "code",
   "execution_count": 13,
   "metadata": {},
   "outputs": [
    {
     "data": {
      "text/html": [
       "<div>\n",
       "<style scoped>\n",
       "    .dataframe tbody tr th:only-of-type {\n",
       "        vertical-align: middle;\n",
       "    }\n",
       "\n",
       "    .dataframe tbody tr th {\n",
       "        vertical-align: top;\n",
       "    }\n",
       "\n",
       "    .dataframe thead th {\n",
       "        text-align: right;\n",
       "    }\n",
       "</style>\n",
       "<table border=\"1\" class=\"dataframe\">\n",
       "  <thead>\n",
       "    <tr style=\"text-align: right;\">\n",
       "      <th></th>\n",
       "      <th>t</th>\n",
       "      <th>Cost of Goods Sold</th>\n",
       "    </tr>\n",
       "  </thead>\n",
       "  <tbody>\n",
       "    <tr>\n",
       "      <th>0</th>\n",
       "      <td>0</td>\n",
       "      <td>1200</td>\n",
       "    </tr>\n",
       "    <tr>\n",
       "      <th>1</th>\n",
       "      <td>1</td>\n",
       "      <td>1700</td>\n",
       "    </tr>\n",
       "    <tr>\n",
       "      <th>2</th>\n",
       "      <td>2</td>\n",
       "      <td>1900</td>\n",
       "    </tr>\n",
       "  </tbody>\n",
       "</table>\n",
       "</div>"
      ],
      "text/plain": [
       "   t  Cost of Goods Sold\n",
       "0  0                1200\n",
       "1  1                1700\n",
       "2  2                1900"
      ]
     },
     "execution_count": 13,
     "metadata": {},
     "output_type": "execute_result"
    }
   ],
   "source": [
    "def for_forecast_df_from_orig_df(orig_df, series_name):\n",
    "    \"\"\"\n",
    "    From a DataFrame where index is name of series to be forecasted and columns are time periods, create a \n",
    "    DataFrame with two columns, t in periods and the value to be forecasted, and rows are time periods.\n",
    "    \"\"\"\n",
    "    for_fcst_df = pd.DataFrame(orig_df.loc[series_name])\n",
    "    for_fcst_df = for_fcst_df.reset_index(drop=True).reset_index()\n",
    "    for_fcst_df = for_fcst_df.rename(columns={'index': 't'})\n",
    "    return for_fcst_df\n",
    "\n",
    "for_forecast_df_from_orig_df(df, 'Cost of Goods Sold')"
   ]
  },
  {
   "cell_type": "markdown",
   "metadata": {},
   "source": [
    "#### Now Run Regression"
   ]
  },
  {
   "cell_type": "markdown",
   "metadata": {},
   "source": [
    "This should be review from the cost of equity exercise."
   ]
  },
  {
   "cell_type": "code",
   "execution_count": 14,
   "metadata": {},
   "outputs": [
    {
     "name": "stderr",
     "output_type": "stream",
     "text": [
      "c:\\users\\admin\\.virtualenvs\\fin-model-course-gvj3lsuv\\lib\\site-packages\\numpy\\core\\fromnumeric.py:2495: FutureWarning: Method .ptp is deprecated and will be removed in a future version. Use numpy.ptp instead.\n",
      "  return ptp(axis=axis, out=out, **kwargs)\n",
      "c:\\users\\admin\\.virtualenvs\\fin-model-course-gvj3lsuv\\lib\\site-packages\\statsmodels\\stats\\stattools.py:71: ValueWarning: omni_normtest is not valid with less than 8 observations; 3 samples were given.\n",
      "  \"samples were given.\" % int(n), ValueWarning)\n"
     ]
    },
    {
     "data": {
      "text/html": [
       "<table class=\"simpletable\">\n",
       "<caption>OLS Regression Results</caption>\n",
       "<tr>\n",
       "  <th>Dep. Variable:</th>          <td>Sales</td>      <th>  R-squared:         </th> <td>   0.995</td>\n",
       "</tr>\n",
       "<tr>\n",
       "  <th>Model:</th>                   <td>OLS</td>       <th>  Adj. R-squared:    </th> <td>   0.990</td>\n",
       "</tr>\n",
       "<tr>\n",
       "  <th>Method:</th>             <td>Least Squares</td>  <th>  F-statistic:       </th> <td>   192.0</td>\n",
       "</tr>\n",
       "<tr>\n",
       "  <th>Date:</th>             <td>Tue, 19 Nov 2019</td> <th>  Prob (F-statistic):</th>  <td>0.0459</td> \n",
       "</tr>\n",
       "<tr>\n",
       "  <th>Time:</th>                 <td>13:28:25</td>     <th>  Log-Likelihood:    </th> <td> -15.816</td>\n",
       "</tr>\n",
       "<tr>\n",
       "  <th>No. Observations:</th>      <td>     3</td>      <th>  AIC:               </th> <td>   35.63</td>\n",
       "</tr>\n",
       "<tr>\n",
       "  <th>Df Residuals:</th>          <td>     1</td>      <th>  BIC:               </th> <td>   33.83</td>\n",
       "</tr>\n",
       "<tr>\n",
       "  <th>Df Model:</th>              <td>     1</td>      <th>                     </th>     <td> </td>   \n",
       "</tr>\n",
       "<tr>\n",
       "  <th>Covariance Type:</th>      <td>nonrobust</td>    <th>                     </th>     <td> </td>   \n",
       "</tr>\n",
       "</table>\n",
       "<table class=\"simpletable\">\n",
       "<tr>\n",
       "    <td></td>       <th>coef</th>     <th>std err</th>      <th>t</th>      <th>P>|t|</th>  <th>[0.025</th>    <th>0.975]</th>  \n",
       "</tr>\n",
       "<tr>\n",
       "  <th>const</th> <td> 4466.6667</td> <td>   74.536</td> <td>   59.927</td> <td> 0.011</td> <td> 3519.602</td> <td> 5413.731</td>\n",
       "</tr>\n",
       "<tr>\n",
       "  <th>t</th>     <td>  800.0000</td> <td>   57.735</td> <td>   13.856</td> <td> 0.046</td> <td>   66.407</td> <td> 1533.593</td>\n",
       "</tr>\n",
       "</table>\n",
       "<table class=\"simpletable\">\n",
       "<tr>\n",
       "  <th>Omnibus:</th>       <td>   nan</td> <th>  Durbin-Watson:     </th> <td>   3.000</td>\n",
       "</tr>\n",
       "<tr>\n",
       "  <th>Prob(Omnibus):</th> <td>   nan</td> <th>  Jarque-Bera (JB):  </th> <td>   0.531</td>\n",
       "</tr>\n",
       "<tr>\n",
       "  <th>Skew:</th>          <td>-0.707</td> <th>  Prob(JB):          </th> <td>   0.767</td>\n",
       "</tr>\n",
       "<tr>\n",
       "  <th>Kurtosis:</th>      <td> 1.500</td> <th>  Cond. No.          </th> <td>    2.92</td>\n",
       "</tr>\n",
       "</table><br/><br/>Warnings:<br/>[1] Standard Errors assume that the covariance matrix of the errors is correctly specified."
      ],
      "text/plain": [
       "<class 'statsmodels.iolib.summary.Summary'>\n",
       "\"\"\"\n",
       "                            OLS Regression Results                            \n",
       "==============================================================================\n",
       "Dep. Variable:                  Sales   R-squared:                       0.995\n",
       "Model:                            OLS   Adj. R-squared:                  0.990\n",
       "Method:                 Least Squares   F-statistic:                     192.0\n",
       "Date:                Tue, 19 Nov 2019   Prob (F-statistic):             0.0459\n",
       "Time:                        13:28:25   Log-Likelihood:                -15.816\n",
       "No. Observations:                   3   AIC:                             35.63\n",
       "Df Residuals:                       1   BIC:                             33.83\n",
       "Df Model:                           1                                         \n",
       "Covariance Type:            nonrobust                                         \n",
       "==============================================================================\n",
       "                 coef    std err          t      P>|t|      [0.025      0.975]\n",
       "------------------------------------------------------------------------------\n",
       "const       4466.6667     74.536     59.927      0.011    3519.602    5413.731\n",
       "t            800.0000     57.735     13.856      0.046      66.407    1533.593\n",
       "==============================================================================\n",
       "Omnibus:                          nan   Durbin-Watson:                   3.000\n",
       "Prob(Omnibus):                    nan   Jarque-Bera (JB):                0.531\n",
       "Skew:                          -0.707   Prob(JB):                        0.767\n",
       "Kurtosis:                       1.500   Cond. No.                         2.92\n",
       "==============================================================================\n",
       "\n",
       "Warnings:\n",
       "[1] Standard Errors assume that the covariance matrix of the errors is correctly specified.\n",
       "\"\"\""
      ]
     },
     "execution_count": 14,
     "metadata": {},
     "output_type": "execute_result"
    }
   ],
   "source": [
    "import statsmodels.api as sm\n",
    "\n",
    "model = sm.OLS(for_fcst_df['Sales'], sm.add_constant(for_fcst_df['t']), hasconst=True)\n",
    "results = model.fit()\n",
    "results.summary()"
   ]
  },
  {
   "cell_type": "markdown",
   "metadata": {},
   "source": [
    "Now get the intercept and $\\beta$ from the regression results."
   ]
  },
  {
   "cell_type": "code",
   "execution_count": 15,
   "metadata": {},
   "outputs": [],
   "source": [
    "intercept = results.params['const']\n",
    "beta = results.params['t']"
   ]
  },
  {
   "cell_type": "code",
   "execution_count": 16,
   "metadata": {},
   "outputs": [
    {
     "data": {
      "text/plain": [
       "4466.666666666667"
      ]
     },
     "execution_count": 16,
     "metadata": {},
     "output_type": "execute_result"
    }
   ],
   "source": [
    "intercept"
   ]
  },
  {
   "cell_type": "code",
   "execution_count": 17,
   "metadata": {},
   "outputs": [
    {
     "data": {
      "text/plain": [
       "799.9999999999992"
      ]
     },
     "execution_count": 17,
     "metadata": {},
     "output_type": "execute_result"
    }
   ],
   "source": [
    "beta"
   ]
  },
  {
   "cell_type": "markdown",
   "metadata": {},
   "source": [
    "#### Now Predict from Regression Results"
   ]
  },
  {
   "cell_type": "code",
   "execution_count": 18,
   "metadata": {},
   "outputs": [
    {
     "data": {
      "text/plain": [
       "6866.666666666664"
      ]
     },
     "execution_count": 18,
     "metadata": {},
     "output_type": "execute_result"
    }
   ],
   "source": [
    "fcst_sales = intercept + beta * 3\n",
    "fcst_sales"
   ]
  },
  {
   "cell_type": "markdown",
   "metadata": {},
   "source": [
    "Now let's wrap up the regression approach into a function to use it with COGS as well."
   ]
  },
  {
   "cell_type": "code",
   "execution_count": 19,
   "metadata": {},
   "outputs": [
    {
     "data": {
      "text/plain": [
       "6866.666666666664"
      ]
     },
     "execution_count": 19,
     "metadata": {},
     "output_type": "execute_result"
    }
   ],
   "source": [
    "def intercept_and_t_beta_from_for_forecast_df(for_fcst_df, series_name):\n",
    "    \"\"\"\n",
    "    Calculates intercept and beta of time periods from DataFrame set up for forecasting\n",
    "    \"\"\"\n",
    "    model = sm.OLS(for_fcst_df[series_name], sm.add_constant(for_fcst_df['t']), hasconst=True)\n",
    "    results = model.fit()\n",
    "    intercept = results.params['const']\n",
    "    beta = results.params['t']\n",
    "    return intercept, beta\n",
    "\n",
    "def predict_from_intercept_beta_and_t(intercept, beta, t):\n",
    "    \"\"\"\n",
    "    Predicts value in period t based off regression intercept and beta\n",
    "    \"\"\"\n",
    "    return intercept + beta * t\n",
    "\n",
    "intercept, beta = intercept_and_t_beta_from_for_forecast_df(for_fcst_df, 'Sales')\n",
    "fcst_sales = predict_from_intercept_beta_and_t(intercept, beta, 3)\n",
    "fcst_sales"
   ]
  },
  {
   "cell_type": "markdown",
   "metadata": {},
   "source": [
    "#### Entire Approach for COGS Using Functions"
   ]
  },
  {
   "cell_type": "markdown",
   "metadata": {},
   "source": [
    "Let's write one more function to do the entire forecast, putting everything together."
   ]
  },
  {
   "cell_type": "code",
   "execution_count": 20,
   "metadata": {},
   "outputs": [
    {
     "name": "stdout",
     "output_type": "stream",
     "text": [
      "The forecasted value for sales is $6,867 and for COGS is $2,300\n"
     ]
    }
   ],
   "source": [
    "def forecast_trend_reg(df, series_name, t):\n",
    "    \"\"\"\n",
    "    Full workflow of forecasting trend via regression\n",
    "    \"\"\"\n",
    "    for_fcst_df = for_forecast_df_from_orig_df(df, series_name)\n",
    "    intercept, beta = intercept_and_t_beta_from_for_forecast_df(for_fcst_df, series_name)\n",
    "    fcst = predict_from_intercept_beta_and_t(intercept, beta, t)\n",
    "    return fcst\n",
    "\n",
    "fcst_sales = forecast_trend_reg(df, 'Sales', 3)\n",
    "fcst_cogs = forecast_trend_reg(df, 'Cost of Goods Sold', 3)\n",
    "print(f'The forecasted value for sales is ${fcst_sales:,.0f} and for COGS is ${fcst_cogs:,.0f}')"
   ]
  },
  {
   "cell_type": "markdown",
   "metadata": {},
   "source": [
    "### Trend Method 2: By CAGR"
   ]
  },
  {
   "cell_type": "markdown",
   "metadata": {},
   "source": [
    "Let's work off the `DataFrame` set up for forecasting from the regression approach."
   ]
  },
  {
   "cell_type": "code",
   "execution_count": 21,
   "metadata": {},
   "outputs": [
    {
     "data": {
      "text/html": [
       "<div>\n",
       "<style scoped>\n",
       "    .dataframe tbody tr th:only-of-type {\n",
       "        vertical-align: middle;\n",
       "    }\n",
       "\n",
       "    .dataframe tbody tr th {\n",
       "        vertical-align: top;\n",
       "    }\n",
       "\n",
       "    .dataframe thead th {\n",
       "        text-align: right;\n",
       "    }\n",
       "</style>\n",
       "<table border=\"1\" class=\"dataframe\">\n",
       "  <thead>\n",
       "    <tr style=\"text-align: right;\">\n",
       "      <th></th>\n",
       "      <th>t</th>\n",
       "      <th>Sales</th>\n",
       "    </tr>\n",
       "  </thead>\n",
       "  <tbody>\n",
       "    <tr>\n",
       "      <th>0</th>\n",
       "      <td>0</td>\n",
       "      <td>4500</td>\n",
       "    </tr>\n",
       "    <tr>\n",
       "      <th>1</th>\n",
       "      <td>1</td>\n",
       "      <td>5200</td>\n",
       "    </tr>\n",
       "    <tr>\n",
       "      <th>2</th>\n",
       "      <td>2</td>\n",
       "      <td>6100</td>\n",
       "    </tr>\n",
       "  </tbody>\n",
       "</table>\n",
       "</div>"
      ],
      "text/plain": [
       "   t  Sales\n",
       "0  0   4500\n",
       "1  1   5200\n",
       "2  2   6100"
      ]
     },
     "execution_count": 21,
     "metadata": {},
     "output_type": "execute_result"
    }
   ],
   "source": [
    "for_fcst_df = for_forecast_df_from_orig_df(df, 'Sales')\n",
    "for_fcst_df"
   ]
  },
  {
   "cell_type": "markdown",
   "metadata": {},
   "source": [
    "We want to calculate $$\\frac{y_T}{y_0}^{\\frac{1}{n}} - 1$$"
   ]
  },
  {
   "cell_type": "markdown",
   "metadata": {},
   "source": [
    "We can use `.iloc` (integer location) to get the first and last values of sales."
   ]
  },
  {
   "cell_type": "code",
   "execution_count": 22,
   "metadata": {},
   "outputs": [
    {
     "data": {
      "text/plain": [
       "4500"
      ]
     },
     "execution_count": 22,
     "metadata": {},
     "output_type": "execute_result"
    }
   ],
   "source": [
    "y_0 = for_fcst_df['Sales'].iloc[0]\n",
    "y_0"
   ]
  },
  {
   "cell_type": "code",
   "execution_count": 23,
   "metadata": {},
   "outputs": [
    {
     "data": {
      "text/plain": [
       "6100"
      ]
     },
     "execution_count": 23,
     "metadata": {},
     "output_type": "execute_result"
    }
   ],
   "source": [
    "y_T = for_fcst_df['Sales'].iloc[-1]\n",
    "y_T"
   ]
  },
  {
   "cell_type": "markdown",
   "metadata": {},
   "source": [
    "We can get the number of time periods elapsed in a similar way."
   ]
  },
  {
   "cell_type": "code",
   "execution_count": 24,
   "metadata": {},
   "outputs": [
    {
     "data": {
      "text/plain": [
       "2"
      ]
     },
     "execution_count": 24,
     "metadata": {},
     "output_type": "execute_result"
    }
   ],
   "source": [
    "n = for_fcst_df['t'].iloc[-1] - for_fcst_df['t'].iloc[0]\n",
    "n"
   ]
  },
  {
   "cell_type": "markdown",
   "metadata": {},
   "source": [
    "Now just calculate"
   ]
  },
  {
   "cell_type": "code",
   "execution_count": 25,
   "metadata": {},
   "outputs": [
    {
     "data": {
      "text/plain": [
       "0.16428327977153212"
      ]
     },
     "execution_count": 25,
     "metadata": {},
     "output_type": "execute_result"
    }
   ],
   "source": [
    "cagr = (y_T / y_0)**(1 / n) - 1\n",
    "cagr"
   ]
  },
  {
   "cell_type": "markdown",
   "metadata": {},
   "source": [
    "Now to get the predicted value for period 3"
   ]
  },
  {
   "cell_type": "markdown",
   "metadata": {},
   "source": [
    "Let's wrap this up into functions."
   ]
  },
  {
   "cell_type": "code",
   "execution_count": 26,
   "metadata": {},
   "outputs": [
    {
     "data": {
      "text/plain": [
       "7102.1280066063455"
      ]
     },
     "execution_count": 26,
     "metadata": {},
     "output_type": "execute_result"
    }
   ],
   "source": [
    "def cagr_from_for_forecast_df(for_fcst_df, series_name):\n",
    "    \"\"\"\n",
    "    Calculates CAGR from DataFrame set up for forecasting\n",
    "    \"\"\"\n",
    "    y_0 = for_fcst_df[series_name].iloc[0]\n",
    "    y_T = for_fcst_df[series_name].iloc[-1]\n",
    "    n = for_fcst_df['t'].iloc[-1] - for_fcst_df['t'].iloc[0]\n",
    "    cagr = (y_T / y_0)**(1 / n) - 1\n",
    "    return cagr\n",
    "\n",
    "\n",
    "def predict_from_for_forecast_df_and_cagr(for_fcst_df, series_name, cagr, t):\n",
    "    \"\"\"\n",
    "    Forecast value from DataFrame set up for forecasting and calculated CAGR\n",
    "    \"\"\"\n",
    "    y_T = for_fcst_df[series_name].iloc[-1]\n",
    "    n = for_fcst_df['t'].iloc[-1] - for_fcst_df['t'].iloc[0]\n",
    "    \n",
    "    future_nper = t - n\n",
    "    fcst = y_T * (1 + cagr)**future_nper\n",
    "    return fcst\n",
    "\n",
    "\n",
    "cagr = cagr_from_for_forecast_df(for_fcst_df, 'Sales')\n",
    "fcst_sales = predict_from_for_forecast_df_and_cagr(for_fcst_df, 'Sales', cagr, 3)\n",
    "fcst_sales"
   ]
  },
  {
   "cell_type": "markdown",
   "metadata": {},
   "source": [
    "Now let's put the entire approach in one function."
   ]
  },
  {
   "cell_type": "code",
   "execution_count": 27,
   "metadata": {},
   "outputs": [
    {
     "name": "stdout",
     "output_type": "stream",
     "text": [
      "The forecasted value for sales is $7,102 and for COGS is $2,391\n"
     ]
    }
   ],
   "source": [
    "def forecast_trend_cagr(df, series_name, t):\n",
    "    \"\"\"\n",
    "    Full workflow of forecasting trend via CAGR\n",
    "    \"\"\"\n",
    "    for_fcst_df = for_forecast_df_from_orig_df(df, series_name)\n",
    "    cagr = cagr_from_for_forecast_df(for_fcst_df, series_name)\n",
    "    fcst = predict_from_for_forecast_df_and_cagr(for_fcst_df, series_name, cagr, t)\n",
    "    return fcst\n",
    "\n",
    "fcst_sales = forecast_trend_cagr(df, 'Sales', 3)\n",
    "fcst_cogs = forecast_trend_cagr(df, 'Cost of Goods Sold', 3)\n",
    "print(f'The forecasted value for sales is ${fcst_sales:,.0f} and for COGS is ${fcst_cogs:,.0f}')"
   ]
  },
  {
   "cell_type": "markdown",
   "metadata": {},
   "source": [
    "## Forecasting as a %"
   ]
  },
  {
   "cell_type": "markdown",
   "metadata": {},
   "source": [
    "We can estimate COGS as a percentage of sales. To do this, we must first forecast sales, then forecast the percentage of sales, then combine the two. We already have a sales forecast from the last section, so let's keep that. Next is forecasting the percentage of sales. To do this we must first calculate the historical percentage of sales."
   ]
  },
  {
   "cell_type": "code",
   "execution_count": 28,
   "metadata": {},
   "outputs": [
    {
     "data": {
      "text/html": [
       "<div>\n",
       "<style scoped>\n",
       "    .dataframe tbody tr th:only-of-type {\n",
       "        vertical-align: middle;\n",
       "    }\n",
       "\n",
       "    .dataframe tbody tr th {\n",
       "        vertical-align: top;\n",
       "    }\n",
       "\n",
       "    .dataframe thead th {\n",
       "        text-align: right;\n",
       "    }\n",
       "</style>\n",
       "<table border=\"1\" class=\"dataframe\">\n",
       "  <thead>\n",
       "    <tr style=\"text-align: right;\">\n",
       "      <th></th>\n",
       "      <th>2017-12-31</th>\n",
       "      <th>2018-12-31</th>\n",
       "      <th>2019-12-31</th>\n",
       "    </tr>\n",
       "  </thead>\n",
       "  <tbody>\n",
       "    <tr>\n",
       "      <th>Sales</th>\n",
       "      <td>4500.000000</td>\n",
       "      <td>5200.000000</td>\n",
       "      <td>6100.000000</td>\n",
       "    </tr>\n",
       "    <tr>\n",
       "      <th>Cost of Goods Sold</th>\n",
       "      <td>1200.000000</td>\n",
       "      <td>1700.000000</td>\n",
       "      <td>1900.000000</td>\n",
       "    </tr>\n",
       "    <tr>\n",
       "      <th>COGS % Sales</th>\n",
       "      <td>0.266667</td>\n",
       "      <td>0.326923</td>\n",
       "      <td>0.311475</td>\n",
       "    </tr>\n",
       "  </tbody>\n",
       "</table>\n",
       "</div>"
      ],
      "text/plain": [
       "                     2017-12-31   2018-12-31   2019-12-31\n",
       "Sales               4500.000000  5200.000000  6100.000000\n",
       "Cost of Goods Sold  1200.000000  1700.000000  1900.000000\n",
       "COGS % Sales           0.266667     0.326923     0.311475"
      ]
     },
     "execution_count": 28,
     "metadata": {},
     "output_type": "execute_result"
    }
   ],
   "source": [
    "df.loc['COGS % Sales'] = df.loc['Cost of Goods Sold'] / df.loc['Sales']\n",
    "df"
   ]
  },
  {
   "cell_type": "markdown",
   "metadata": {},
   "source": [
    "Now we can forecast this by any of the available methods."
   ]
  },
  {
   "cell_type": "code",
   "execution_count": 29,
   "metadata": {},
   "outputs": [
    {
     "data": {
      "text/plain": [
       "0.3464971276446685"
      ]
     },
     "execution_count": 29,
     "metadata": {},
     "output_type": "execute_result"
    }
   ],
   "source": [
    "fcst_cogs_pct_sales = forecast_trend_reg(df, 'COGS % Sales', 3)\n",
    "fcst_cogs_pct_sales"
   ]
  },
  {
   "cell_type": "markdown",
   "metadata": {},
   "source": [
    "Now combine with the existing sales forecast."
   ]
  },
  {
   "cell_type": "code",
   "execution_count": 30,
   "metadata": {},
   "outputs": [
    {
     "name": "stdout",
     "output_type": "stream",
     "text": [
      "The forecasted value for sales is $7,102 and for COGS is $2,461\n"
     ]
    }
   ],
   "source": [
    "fcst_cogs = fcst_sales * fcst_cogs_pct_sales\n",
    "print(f'The forecasted value for sales is ${fcst_sales:,.0f} and for COGS is ${fcst_cogs:,.0f}')"
   ]
  },
  {
   "cell_type": "markdown",
   "metadata": {},
   "source": [
    "## All the Approaches, Together\n",
    "\n",
    "There is a dizzying array of forecast options, even only considering simple forecast methods. Here is a quick overview of the approaches."
   ]
  },
  {
   "cell_type": "code",
   "execution_count": 31,
   "metadata": {},
   "outputs": [
    {
     "name": "stdout",
     "output_type": "stream",
     "text": [
      "The forecasted value for sales (average) is $5,267 and for COGS (average) is $1,600\n",
      "The forecasted value for sales (average) is $5,267 and for COGS (% of Sales, average) is $1,589\n",
      "The forecasted value for sales (average) is $5,267 and for COGS (recent) is $1,900\n",
      "The forecasted value for sales (average) is $5,267 and for COGS (% of Sales, recent) is $1,640\n",
      "The forecasted value for sales (average) is $5,267 and for COGS (trend reg) is $2,300\n",
      "The forecasted value for sales (average) is $5,267 and for COGS (% of Sales, trend reg) is $1,825\n",
      "The forecasted value for sales (average) is $5,267 and for COGS (trend cagr) is $2,391\n",
      "The forecasted value for sales (average) is $5,267 and for COGS (% of Sales, trend cagr) is $1,773\n",
      "The forecasted value for sales (recent) is $6,100 and for COGS (average) is $1,600\n",
      "The forecasted value for sales (recent) is $6,100 and for COGS (% of Sales, average) is $1,840\n",
      "The forecasted value for sales (recent) is $6,100 and for COGS (recent) is $1,900\n",
      "The forecasted value for sales (recent) is $6,100 and for COGS (% of Sales, recent) is $1,900\n",
      "The forecasted value for sales (recent) is $6,100 and for COGS (trend reg) is $2,300\n",
      "The forecasted value for sales (recent) is $6,100 and for COGS (% of Sales, trend reg) is $2,114\n",
      "The forecasted value for sales (recent) is $6,100 and for COGS (trend cagr) is $2,391\n",
      "The forecasted value for sales (recent) is $6,100 and for COGS (% of Sales, trend cagr) is $2,053\n",
      "The forecasted value for sales (trend reg) is $6,867 and for COGS (average) is $1,600\n",
      "The forecasted value for sales (trend reg) is $6,867 and for COGS (% of Sales, average) is $2,072\n",
      "The forecasted value for sales (trend reg) is $6,867 and for COGS (recent) is $1,900\n",
      "The forecasted value for sales (trend reg) is $6,867 and for COGS (% of Sales, recent) is $2,139\n",
      "The forecasted value for sales (trend reg) is $6,867 and for COGS (trend reg) is $2,300\n",
      "The forecasted value for sales (trend reg) is $6,867 and for COGS (% of Sales, trend reg) is $2,379\n",
      "The forecasted value for sales (trend reg) is $6,867 and for COGS (trend cagr) is $2,391\n",
      "The forecasted value for sales (trend reg) is $6,867 and for COGS (% of Sales, trend cagr) is $2,312\n",
      "The forecasted value for sales (trend cagr) is $7,102 and for COGS (average) is $1,600\n",
      "The forecasted value for sales (trend cagr) is $7,102 and for COGS (% of Sales, average) is $2,143\n",
      "The forecasted value for sales (trend cagr) is $7,102 and for COGS (recent) is $1,900\n",
      "The forecasted value for sales (trend cagr) is $7,102 and for COGS (% of Sales, recent) is $2,212\n",
      "The forecasted value for sales (trend cagr) is $7,102 and for COGS (trend reg) is $2,300\n",
      "The forecasted value for sales (trend cagr) is $7,102 and for COGS (% of Sales, trend reg) is $2,461\n",
      "The forecasted value for sales (trend cagr) is $7,102 and for COGS (trend cagr) is $2,391\n",
      "The forecasted value for sales (trend cagr) is $7,102 and for COGS (% of Sales, trend cagr) is $2,391\n"
     ]
    }
   ],
   "source": [
    "def forecast_by_method(df, series_name, method, t):\n",
    "    if method == 'average':\n",
    "        return df.loc[series_name].mean()\n",
    "    elif method == 'recent':\n",
    "        last_date = df.columns.max()\n",
    "        return df.loc[series_name][last_date]\n",
    "    elif method == 'trend reg':\n",
    "        return forecast_trend_reg(df, series_name, t)\n",
    "    elif method == 'trend cagr':\n",
    "        return forecast_trend_cagr(df, series_name, t)\n",
    "\n",
    "methods = [\n",
    "    'average',\n",
    "    'recent',\n",
    "    'trend reg',\n",
    "    'trend cagr'\n",
    "]\n",
    "\n",
    "t = 3\n",
    "\n",
    "cogs_forecasts = []\n",
    "for sales_method in methods:\n",
    "    fcst_sales = forecast_by_method(df, 'Sales', sales_method, t)\n",
    "    for cogs_method in methods:\n",
    "        # Handle levels for COGS\n",
    "        fcst_cogs = forecast_by_method(df, 'Cost of Goods Sold', cogs_method, t)\n",
    "        cogs_forecasts.append(fcst_cogs)\n",
    "        print(f'The forecasted value for sales ({sales_method}) is ${fcst_sales:,.0f} and for COGS ({cogs_method}) is ${fcst_cogs:,.0f}')\n",
    "        # Handle % of sales for COGS\n",
    "        fcst_cogs_pct = forecast_by_method(df, 'COGS % Sales', cogs_method, t)\n",
    "        fcst_cogs = fcst_cogs_pct * fcst_sales\n",
    "        cogs_forecasts.append(fcst_cogs)\n",
    "        print(f'The forecasted value for sales ({sales_method}) is ${fcst_sales:,.0f} and for COGS (% of Sales, {cogs_method}) is ${fcst_cogs:,.0f}')"
   ]
  },
  {
   "cell_type": "code",
   "execution_count": 32,
   "metadata": {},
   "outputs": [
    {
     "data": {
      "text/plain": [
       "<matplotlib.axes._subplots.AxesSubplot at 0x1dd45588>"
      ]
     },
     "execution_count": 32,
     "metadata": {},
     "output_type": "execute_result"
    },
    {
     "data": {
      "image/png": "[encoded data removed]",
      "text/plain": [
       "<Figure size 432x288 with 1 Axes>"
      ]
     },
     "metadata": {
      "needs_background": "light"
     },
     "output_type": "display_data"
    }
   ],
   "source": [
    "pd.DataFrame(cogs_forecasts).plot.box()"
   ]
  }
 ],
 "metadata": {
  "kernelspec": {
   "display_name": "Python 3",
   "language": "python",
   "name": "python3"
  },
  "language_info": {
   "codemirror_mode": {
    "name": "ipython",
    "version": 3
   },
   "file_extension": ".py",
   "mimetype": "text/x-python",
   "name": "python",
   "nbconvert_exporter": "python",
   "pygments_lexer": "ipython3",
   "version": "3.6.0"
  }
 },
 "nbformat": 4,
 "nbformat_minor": 4
}
