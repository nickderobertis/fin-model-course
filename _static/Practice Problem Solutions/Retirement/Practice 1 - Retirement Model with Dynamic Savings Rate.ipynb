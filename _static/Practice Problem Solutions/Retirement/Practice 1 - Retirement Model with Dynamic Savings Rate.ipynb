{
 "cells": [
  {
   "cell_type": "markdown",
   "metadata": {},
   "source": [
    "**NOTE**: Try to solve this on your own just from the PDF definition of the problem before looking at this solution!"
   ]
  },
  {
   "cell_type": "markdown",
   "metadata": {},
   "source": [
    "# Retirement Model\n",
    "\n",
    "This is a retirement model which models salary with a constant growth rate, and savings rate changes to three different levels depending on the level of the salary. The model is divided into the following sections:\n",
    "- [**Setup**](#Setup): Runs any imports and other setup\n",
    "- [**Inputs**](#Inputs): Defines the inputs for the model\n",
    "- [**Salaries**](#Salaries): Determining the salary in each year, considering constant salary growth\n",
    "- [**Wealths**](#Wealths): Determining the wealth in each year, considering an investment rate and a savings rate which is dependent on the level of salary.\n",
    "- [**Retirement**](#Retirement): Determines years to retirement from the wealths over time, the main output from the model."
   ]
  },
  {
   "cell_type": "markdown",
   "metadata": {},
   "source": [
    "## Setup\n",
    "\n",
    "Setup for the later calculations are here. The necessary packages are imported."
   ]
  },
  {
   "cell_type": "code",
   "execution_count": 2,
   "metadata": {},
   "outputs": [],
   "source": [
    "from dataclasses import dataclass"
   ]
  },
  {
   "cell_type": "markdown",
   "metadata": {},
   "source": [
    "## Inputs\n",
    "\n",
    "All of the inputs for the model are defined here. A class is constructed to manage the data, and an instance of the class containing the default inputs is created."
   ]
  },
  {
   "cell_type": "code",
   "execution_count": 3,
   "metadata": {},
   "outputs": [
    {
     "data": {
      "text/plain": [
       "ModelInputs(starting_salary=50000, salary_growth=0.03, mid_salary_cutoff=80000, high_salary_cutoff=120000, low_savings_rate=0.1, mid_savings_rate=0.25, high_savings_rate=0.4, interest_rate=0.05, desired_cash=1500000)"
      ]
     },
     "execution_count": 3,
     "metadata": {},
     "output_type": "execute_result"
    }
   ],
   "source": [
    "@dataclass\n",
    "class ModelInputs:\n",
    "    starting_salary: int = 50000\n",
    "    salary_growth: float = 0.03\n",
    "    mid_salary_cutoff: int = 80000\n",
    "    high_salary_cutoff: int = 120000\n",
    "    low_savings_rate: float = 0.1\n",
    "    mid_savings_rate: float = 0.25\n",
    "    high_savings_rate: float = 0.4\n",
    "    interest_rate: float = 0.05\n",
    "    desired_cash: int = 1500000\n",
    "        \n",
    "model_data = ModelInputs()\n",
    "model_data"
   ]
  },
  {
   "cell_type": "markdown",
   "metadata": {},
   "source": [
    "## Salaries\n",
    "\n",
    "Here the salary for each year is calculated. We assume that the salary grows at a constant rate each year. Based on this assumption, the salary would evolve over time with the following equation:\n",
    "\n",
    "$$s_t = s_0 (1 + g_s)^n$$\n",
    "\n",
    "Where:\n",
    "- $s_t$: Salary at year $t$\n",
    "- $s_0$: Starting salary (year 0)\n",
    "- $g_s$: Salary growth\n",
    "- $n$: Number of years\n",
    "\n",
    "And in Python format:"
   ]
  },
  {
   "cell_type": "code",
   "execution_count": 4,
   "metadata": {},
   "outputs": [],
   "source": [
    "def salary_at_year(data: ModelInputs, year):\n",
    "    \"\"\"\n",
    "    Gets the salary at a given year from the start of the model based on constant salary growth.\n",
    "    \"\"\"\n",
    "    # This is the formula above implemented in Python\n",
    "    salary_t = data.starting_salary * (1 + data.salary_growth) ** year\n",
    "    return salary_t"
   ]
  },
  {
   "cell_type": "markdown",
   "metadata": {},
   "source": [
    "That function will get the salary at a given year, so to get all the salaries we just run it on each year. But we will not know how many years to run as we should run it until the individual is able to retire. So we are just showing the first few salaries for now and will later use this function in the [Wealths](#Wealths) section of the model."
   ]
  },
  {
   "cell_type": "code",
   "execution_count": 13,
   "metadata": {},
   "outputs": [
    {
     "name": "stdout",
     "output_type": "stream",
     "text": [
      "The salary at year 1 is $51,500.\n",
      "The salary at year 2 is $53,045.\n",
      "The salary at year 3 is $54,636.\n",
      "The salary at year 4 is $56,275.\n",
      "The salary at year 5 is $57,964.\n",
      "The salary at year 6 is $59,703.\n",
      "The salary at year 7 is $61,494.\n",
      "The salary at year 8 is $63,339.\n",
      "The salary at year 9 is $65,239.\n",
      "The salary at year 10 is $67,196.\n",
      "The salary at year 11 is $69,212.\n",
      "The salary at year 12 is $71,288.\n",
      "The salary at year 13 is $73,427.\n",
      "The salary at year 14 is $75,629.\n",
      "The salary at year 15 is $77,898.\n",
      "The salary at year 16 is $80,235.\n",
      "The salary at year 17 is $82,642.\n",
      "The salary at year 18 is $85,122.\n",
      "The salary at year 19 is $87,675.\n",
      "The salary at year 20 is $90,306.\n"
     ]
    }
   ],
   "source": [
    "for i in range(20):\n",
    "    year = i + 1\n",
    "    salary = salary_at_year(model_data, year)\n",
    "    print(f'The salary at year {year} is ${salary:,.0f}.')"
   ]
  },
  {
   "cell_type": "markdown",
   "metadata": {},
   "source": [
    "As expected, with the default inputs, the salary is increasing at 3% per year. Once we go to the [Wealths](#Wealths) portion of the model, we should see additional savings happen in year 16 due to an increased savings rate."
   ]
  },
  {
   "cell_type": "markdown",
   "metadata": {},
   "source": [
    "## Wealths\n",
    "\n",
    "The wealths portion of the model is concerned with applying the savings rate to the earned salary to calculate the cash saved, accumulating the cash saved over time, and applying the investment rate to the accumulated wealth. The savings rate needs to be determined by determining whether the current salary is low, medium, or high, based off the cutoff inputs.\n",
    "\n",
    "The savings rate can be represented by the following stepwise function:\n",
    "\n",
    "$$r_{st} = \\begin{cases} \n",
    "      r_{sl} & \\text{if } s_t\\leq c_m \\\\\n",
    "      r_{sm} & \\text{if } c_m \\leq s_t\\leq c_h \\\\\n",
    "      r_{sh} & \\text{if } s_t \\geq c_h \n",
    "   \\end{cases}\n",
    "$$\n",
    "Where:\n",
    "- $r_{st}$: Savings rate at year $t$\n",
    "- $r_{sl}$: Savings rate for low salaries\n",
    "- $r_{sm}$: Savings rate for mid salaries\n",
    "- $r_{sh}$: Savings rate for high salaries\n",
    "- $c_m$: Mid-salary cutoff\n",
    "- $c_h$: High-salary cutoff\n",
    "\n",
    "\n",
    "In Python, this is a simple `if/elif/else` structure:"
   ]
  },
  {
   "cell_type": "code",
   "execution_count": 19,
   "metadata": {},
   "outputs": [],
   "source": [
    "def get_savings_rate(data: ModelInputs, salary):\n",
    "    if salary < data.mid_salary_cutoff:\n",
    "        return data.low_savings_rate\n",
    "    elif salary < data.high_salary_cutoff:\n",
    "        return data.mid_savings_rate\n",
    "    else:\n",
    "        return data.high_savings_rate"
   ]
  },
  {
   "cell_type": "markdown",
   "metadata": {},
   "source": [
    "To calculate cash saved, it is simply:\n",
    "\n",
    "$$c_t = s_t * r_{st}$$\n",
    "\n",
    "Where:\n",
    "- $c_t$: Cash saved during year $t$"
   ]
  },
  {
   "cell_type": "code",
   "execution_count": 14,
   "metadata": {},
   "outputs": [],
   "source": [
    "def cash_saved_during_year(data: ModelInputs, year):\n",
    "    \"\"\"\n",
    "    Calculated the cash saved within a given year, by first calculating the salary at that year,\n",
    "    then determining the savings rate for that level of salary, then applying the savings rate to the salary.\n",
    "    \"\"\"\n",
    "    salary = salary_at_year(data, year)\n",
    "    savings_rate = get_savings_rate(data, salary)\n",
    "    cash_saved = salary * savings_rate\n",
    "    return cash_saved"
   ]
  },
  {
   "cell_type": "markdown",
   "metadata": {},
   "source": [
    "To get the wealth at each year, it is just applying the investment return to last year's wealth, then adding this year's cash saved:\n",
    "\n",
    "$$w_t = w_{t-1} (1 + r_i) + c_t$$\n",
    "Where:\n",
    "- $w_t$: Wealth at year $t$\n",
    "- $r_i$: Investment rate"
   ]
  },
  {
   "cell_type": "code",
   "execution_count": 15,
   "metadata": {},
   "outputs": [],
   "source": [
    "def wealth_at_year(data: ModelInputs, year, prior_wealth):\n",
    "    \"\"\"\n",
    "    Calculate the accumulated wealth for a given year, based on previous wealth, the investment rate,\n",
    "    and cash saved during the year.\n",
    "    \"\"\"\n",
    "    cash_saved = cash_saved_during_year(data, year)\n",
    "    wealth = prior_wealth * (1 + data.interest_rate) + cash_saved\n",
    "    return wealth"
   ]
  },
  {
   "cell_type": "markdown",
   "metadata": {},
   "source": [
    "Again, just like in the [Salaries](#Salaries) section, we can now get the output for each year, but we don't know ultimately how many years we will have to run it. That will be determined in the [Retirement](#Retirement) section. So for now, just show the first few years of wealth accumulation:"
   ]
  },
  {
   "cell_type": "code",
   "execution_count": 20,
   "metadata": {},
   "outputs": [
    {
     "name": "stdout",
     "output_type": "stream",
     "text": [
      "The wealth at year 1 is $5,150.\n",
      "The wealth at year 2 is $10,712.\n",
      "The wealth at year 3 is $16,711.\n",
      "The wealth at year 4 is $23,174.\n",
      "The wealth at year 5 is $30,129.\n",
      "The wealth at year 6 is $37,606.\n",
      "The wealth at year 7 is $45,636.\n",
      "The wealth at year 8 is $54,251.\n",
      "The wealth at year 9 is $63,488.\n",
      "The wealth at year 10 is $73,382.\n",
      "The wealth at year 11 is $83,972.\n",
      "The wealth at year 12 is $95,300.\n",
      "The wealth at year 13 is $107,407.\n",
      "The wealth at year 14 is $120,341.\n",
      "The wealth at year 15 is $134,147.\n",
      "The wealth at year 16 is $160,914.\n",
      "The wealth at year 17 is $189,620.\n",
      "The wealth at year 18 is $220,381.\n",
      "The wealth at year 19 is $253,319.\n",
      "The wealth at year 20 is $288,562.\n"
     ]
    }
   ],
   "source": [
    "prior_wealth = 0  # starting with no cash saved\n",
    "for i in range(20):\n",
    "    year = i + 1\n",
    "    wealth = wealth_at_year(model_data, year, prior_wealth)\n",
    "    print(f'The wealth at year {year} is ${wealth:,.0f}.')\n",
    "    \n",
    "    # Set next year's prior wealth to this year's wealth\n",
    "    prior_wealth = wealth"
   ]
  },
  {
   "cell_type": "markdown",
   "metadata": {},
   "source": [
    "With default inputs, the wealth is going up by approximately 10% of the salary each year, plus a bit more for investment. As we saw from the [Salaries](#Salaries) section, with the default inputs, in year 16 we hit the mid-salary cutoff for a higher savings rate. And indeed here, once we hit year 16, a substantially larger increase in wealth begins to be recorded."
   ]
  },
  {
   "cell_type": "markdown",
   "metadata": {},
   "source": [
    "## Retirement\n",
    "\n",
    "This section of the model puts everything together to produce the final output of years to retirement. It uses the logic to get the wealths at each year, which in turn uses the logic to the get salary at each year. The wealth at each year is tracked over time until it hits the desired cash. Once the wealth hits the desired cash, the individual is able to retire so that year is returned as the years to retirement."
   ]
  },
  {
   "cell_type": "code",
   "execution_count": 21,
   "metadata": {},
   "outputs": [],
   "source": [
    "def years_to_retirement(data: ModelInputs):\n",
    "    \n",
    "    # starting with no cash saved\n",
    "    prior_wealth = 0  \n",
    "    wealth = 0\n",
    "    \n",
    "    year = 0  # will become 1 on first loop\n",
    "    \n",
    "    print('Wealths over time:') # \\n makes a blank line in the output.\n",
    "    while wealth < data.desired_cash:\n",
    "        year = year + 1\n",
    "        wealth = wealth_at_year(model_data, year, prior_wealth)\n",
    "        print(f'The wealth at year {year} is ${wealth:,.0f}.')\n",
    "\n",
    "        # Set next year's prior wealth to this year's wealth\n",
    "        prior_wealth = wealth\n",
    "        \n",
    "    # Now we have exited the while loop, so wealth must be >= desired_cash. Whatever last year was set\n",
    "    # is the years to retirement.\n",
    "    print(f'\\nRetirement:\\nIt will take {year} years to retire.')  # \\n makes a blank line in the output.\n",
    "    return year"
   ]
  },
  {
   "cell_type": "markdown",
   "metadata": {},
   "source": [
    "With the default inputs:"
   ]
  },
  {
   "cell_type": "code",
   "execution_count": 22,
   "metadata": {},
   "outputs": [
    {
     "name": "stdout",
     "output_type": "stream",
     "text": [
      "Wealths over time:\n",
      "The wealth at year 1 is $5,150.\n",
      "The wealth at year 2 is $10,712.\n",
      "The wealth at year 3 is $16,711.\n",
      "The wealth at year 4 is $23,174.\n",
      "The wealth at year 5 is $30,129.\n",
      "The wealth at year 6 is $37,606.\n",
      "The wealth at year 7 is $45,636.\n",
      "The wealth at year 8 is $54,251.\n",
      "The wealth at year 9 is $63,488.\n",
      "The wealth at year 10 is $73,382.\n",
      "The wealth at year 11 is $83,972.\n",
      "The wealth at year 12 is $95,300.\n",
      "The wealth at year 13 is $107,407.\n",
      "The wealth at year 14 is $120,341.\n",
      "The wealth at year 15 is $134,147.\n",
      "The wealth at year 16 is $160,914.\n",
      "The wealth at year 17 is $189,620.\n",
      "The wealth at year 18 is $220,381.\n",
      "The wealth at year 19 is $253,319.\n",
      "The wealth at year 20 is $288,562.\n",
      "The wealth at year 21 is $326,243.\n",
      "The wealth at year 22 is $366,507.\n",
      "The wealth at year 23 is $409,502.\n",
      "The wealth at year 24 is $455,387.\n",
      "The wealth at year 25 is $504,328.\n",
      "The wealth at year 26 is $556,502.\n",
      "The wealth at year 27 is $612,094.\n",
      "The wealth at year 28 is $671,297.\n",
      "The wealth at year 29 is $734,319.\n",
      "The wealth at year 30 is $819,580.\n",
      "The wealth at year 31 is $910,561.\n",
      "The wealth at year 32 is $1,007,591.\n",
      "The wealth at year 33 is $1,111,017.\n",
      "The wealth at year 34 is $1,221,206.\n",
      "The wealth at year 35 is $1,338,544.\n",
      "The wealth at year 36 is $1,463,436.\n",
      "The wealth at year 37 is $1,596,313.\n",
      "\n",
      "Retirement:\n",
      "It will take 37 years to retire.\n"
     ]
    }
   ],
   "source": [
    "years = years_to_retirement(model_data)"
   ]
  }
 ],
 "metadata": {
  "kernelspec": {
   "display_name": "Python 3",
   "language": "python",
   "name": "python3"
  },
  "language_info": {
   "codemirror_mode": {
    "name": "ipython",
    "version": 3
   },
   "file_extension": ".py",
   "mimetype": "text/x-python",
   "name": "python",
   "nbconvert_exporter": "python",
   "pygments_lexer": "ipython3",
   "version": "3.7.1"
  }
 },
 "nbformat": 4,
 "nbformat_minor": 2
}
