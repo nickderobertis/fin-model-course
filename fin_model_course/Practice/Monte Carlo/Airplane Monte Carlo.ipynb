{
 "cells": [
  {
   "cell_type": "markdown",
   "metadata": {},
   "source": [
    "# Airplane Capital Budgeting Monte Carlo Problem"
   ]
  },
  {
   "cell_type": "markdown",
   "metadata": {},
   "source": [
    "# The Basic Model"
   ]
  },
  {
   "cell_type": "markdown",
   "metadata": {},
   "source": [
    "Before we get to the Monte Carlo part or bringing in any of the distributions, we just want to be able to get the base NPV for a plane. To get there, we will need to find the cash flows of the plane. We already have the research and manufacture costs as our $t=0$ and $t=1$ cash flows. So then it's just figuring out the $t=2$ cash flow. "
   ]
  },
  {
   "cell_type": "markdown",
   "metadata": {},
   "source": [
    "## Getting the $t=2$ Cash Flow\n",
    "\n",
    "For this cash flow, it will simply be: $$\\pi = PQ$$ Where $\\pi$ is the profit, $P$ is the price, and $Q$ is the quantity of planes sold."
   ]
  },
  {
   "cell_type": "code",
   "execution_count": 1,
   "metadata": {},
   "outputs": [
    {
     "data": {
      "text/plain": [
       "100000000"
      ]
     },
     "execution_count": 1,
     "metadata": {},
     "output_type": "execute_result"
    }
   ],
   "source": [
    "num_units = 100\n",
    "price = 1000000\n",
    "\n",
    "profit = price * num_units\n",
    "profit"
   ]
  },
  {
   "cell_type": "markdown",
   "metadata": {},
   "source": [
    "## Putting the Cash Flows Together"
   ]
  },
  {
   "cell_type": "markdown",
   "metadata": {},
   "source": [
    "At $t=0$, we pay the research cost, and at $t=1$, we pay the manufacture cost. Just add the $t=2$ cash flow we added to these and we will have all the cash flows for the plane."
   ]
  },
  {
   "cell_type": "code",
   "execution_count": 2,
   "metadata": {},
   "outputs": [
    {
     "data": {
      "text/plain": [
       "[-10000000, -200000000, 100000000]"
      ]
     },
     "execution_count": 2,
     "metadata": {},
     "output_type": "execute_result"
    }
   ],
   "source": [
    "research_cost = 10000000\n",
    "manufacture_cost = 2000000\n",
    "\n",
    "cash_flows = [\n",
    "    -research_cost,\n",
    "    -manufacture_cost * num_units,\n",
    "    price * num_units\n",
    "]\n",
    "cash_flows"
   ]
  },
  {
   "cell_type": "markdown",
   "metadata": {},
   "source": [
    "## Calculating NPV"
   ]
  },
  {
   "cell_type": "markdown",
   "metadata": {},
   "source": [
    "`numpy` has an NPV function to calculate this for us. Recall that `numpy`'s NPV function expects the first cash flow to be period 0, which is what we have, so we can pass the cash flows directly in."
   ]
  },
  {
   "cell_type": "code",
   "execution_count": 3,
   "metadata": {},
   "outputs": [
    {
     "data": {
      "text/plain": [
       "-109572015.02314611"
      ]
     },
     "execution_count": 3,
     "metadata": {},
     "output_type": "execute_result"
    }
   ],
   "source": [
    "import numpy as np\n",
    "\n",
    "interest_rate = 0.07\n",
    "\n",
    "np.npv(interest_rate, cash_flows)"
   ]
  },
  {
   "cell_type": "markdown",
   "metadata": {},
   "source": [
    "## Representing a Plane\n",
    "\n",
    "We know we're going to have multiple different planes to evaluate. It would be nice to have a defined way to organize these planes together. Let's create a Plane class for this. It will just accept the inputs and do the calculations we have already done."
   ]
  },
  {
   "cell_type": "code",
   "execution_count": 4,
   "metadata": {},
   "outputs": [
    {
     "name": "stdout",
     "output_type": "stream",
     "text": [
      "The Super Size plane has [-100000000, -2000000000, 4000000000] cash flows and 1524596034.5881736 NPV\n"
     ]
    }
   ],
   "source": [
    "class Plane:\n",
    "    \n",
    "    def __init__(self, name='Super Size', research_cost=100000000, manufacture_cost=10000000, sale_price=20000000, num_units=200, interest_rate=0.07):\n",
    "        self.name = name\n",
    "        self.research_cost = research_cost\n",
    "        self.manufacture_cost = manufacture_cost\n",
    "        self.sale_price = sale_price\n",
    "        self.num_units = num_units\n",
    "        self.interest_rate = interest_rate\n",
    "        \n",
    "    def profit(self):\n",
    "        return self.sale_price * self.num_units\n",
    "    \n",
    "    def total_manufacture_cost(self):\n",
    "        return self.manufacture_cost * self.num_units\n",
    "    \n",
    "    def cash_flows(self):\n",
    "        return [\n",
    "            -self.research_cost,\n",
    "            -self.total_manufacture_cost(),\n",
    "            self.profit()\n",
    "        ]\n",
    "    \n",
    "    def npv(self):\n",
    "        return np.npv(self.interest_rate, self.cash_flows())\n",
    "    \n",
    "plane = Plane()\n",
    "print(f'The {plane.name} plane has {plane.cash_flows()} cash flows and {plane.npv()} NPV')"
   ]
  },
  {
   "cell_type": "markdown",
   "metadata": {},
   "source": [
    "# Monte Carlo Simulations"
   ]
  },
  {
   "cell_type": "markdown",
   "metadata": {},
   "source": [
    "## Getting Random Interest Rates and Units"
   ]
  },
  {
   "cell_type": "markdown",
   "metadata": {},
   "source": [
    "Now we have the basic model set up in the Plane class. Now for each type of plane, we want to assign a distribution to both the number of units sold and the interest rate. "
   ]
  },
  {
   "cell_type": "code",
   "execution_count": 5,
   "metadata": {},
   "outputs": [
    {
     "data": {
      "text/plain": [
       "0.05068405683449734"
      ]
     },
     "execution_count": 5,
     "metadata": {},
     "output_type": "execute_result"
    }
   ],
   "source": [
    "import random\n",
    "\n",
    "interest_rate_mean = 0.07\n",
    "interest_rate_stdev = 0.04\n",
    "\n",
    "interest_rate = random.normalvariate(interest_rate_mean, interest_rate_stdev)\n",
    "interest_rate"
   ]
  },
  {
   "cell_type": "markdown",
   "metadata": {},
   "source": [
    "One snag with the units is we can't sell a partial plane. So we'll also round it. Further, we can't sell negative planes, so we will take the max of 0 and the number of planes."
   ]
  },
  {
   "cell_type": "code",
   "execution_count": 6,
   "metadata": {},
   "outputs": [
    {
     "data": {
      "text/plain": [
       "214.93413410680432"
      ]
     },
     "execution_count": 6,
     "metadata": {},
     "output_type": "execute_result"
    }
   ],
   "source": [
    "num_units_mean = 200\n",
    "num_units_stdev = 40\n",
    "\n",
    "num_units = random.normalvariate(num_units_mean, num_units_stdev)\n",
    "num_units"
   ]
  },
  {
   "cell_type": "code",
   "execution_count": 7,
   "metadata": {},
   "outputs": [
    {
     "data": {
      "text/plain": [
       "215"
      ]
     },
     "execution_count": 7,
     "metadata": {},
     "output_type": "execute_result"
    }
   ],
   "source": [
    "round(num_units)"
   ]
  },
  {
   "cell_type": "code",
   "execution_count": 8,
   "metadata": {},
   "outputs": [
    {
     "data": {
      "text/plain": [
       "215"
      ]
     },
     "execution_count": 8,
     "metadata": {},
     "output_type": "execute_result"
    }
   ],
   "source": [
    "max(0, round(num_units))"
   ]
  },
  {
   "cell_type": "markdown",
   "metadata": {},
   "source": [
    "## Running a Simulation"
   ]
  },
  {
   "cell_type": "markdown",
   "metadata": {},
   "source": [
    "To run one simulation, we need to pick those random values for units and interest rate and then pass them into the plane and collect the NPV. As you run this multiple times, you can see the NPV change."
   ]
  },
  {
   "cell_type": "code",
   "execution_count": 9,
   "metadata": {},
   "outputs": [
    {
     "data": {
      "text/plain": [
       "1225111127.370677"
      ]
     },
     "execution_count": 9,
     "metadata": {},
     "output_type": "execute_result"
    }
   ],
   "source": [
    "interest_rate = random.normalvariate(interest_rate_mean, interest_rate_stdev)\n",
    "num_units = random.normalvariate(num_units_mean, num_units_stdev)\n",
    "num_units = max(0, round(num_units))\n",
    "ss_plane = Plane(\n",
    "    name='Super Size',\n",
    "    research_cost=100000000,\n",
    "    manufacture_cost=10000000, \n",
    "    sale_price=20000000, \n",
    "    num_units=num_units, \n",
    "    interest_rate=interest_rate\n",
    ")\n",
    "ss_plane.npv()"
   ]
  },
  {
   "cell_type": "markdown",
   "metadata": {},
   "source": [
    "We're going to have to run this for each plane 10,000 times. So let's make a function for this to stay organized. We also want to return the interest rate and number of units used for later analysis."
   ]
  },
  {
   "cell_type": "code",
   "execution_count": 10,
   "metadata": {},
   "outputs": [
    {
     "data": {
      "text/plain": [
       "(1240786954.9344127, 0.14771899733491675, 399)"
      ]
     },
     "execution_count": 10,
     "metadata": {},
     "output_type": "execute_result"
    }
   ],
   "source": [
    "def plane_simulation(plane_name, research_cost, manufacture_cost, sale_price, num_units_mean, num_units_stdev, interest_rate_mean=0.07, interest_rate_stdev=0.04):\n",
    "    interest_rate = random.normalvariate(interest_rate_mean, interest_rate_stdev)\n",
    "    num_units = random.normalvariate(num_units_mean, num_units_stdev)\n",
    "    num_units = max(0, round(num_units))\n",
    "    plane = Plane(\n",
    "        name=plane_name,\n",
    "        research_cost=research_cost,\n",
    "        manufacture_cost=manufacture_cost, \n",
    "        sale_price=sale_price, \n",
    "        num_units=num_units, \n",
    "        interest_rate=interest_rate\n",
    "    )\n",
    "    return plane.npv(), interest_rate, num_units\n",
    "\n",
    "plane_simulation(\n",
    "    'Large',\n",
    "    50000000,\n",
    "    5000000,\n",
    "    10000000,\n",
    "    400,\n",
    "    30\n",
    ")"
   ]
  },
  {
   "cell_type": "markdown",
   "metadata": {},
   "source": [
    "## Running all the Simulations for One Plane\n",
    "\n",
    "Now we have a function that runs a single simulation for a single plane. So now we want to run 10,000 of these for that plane."
   ]
  },
  {
   "cell_type": "code",
   "execution_count": 11,
   "metadata": {},
   "outputs": [],
   "source": [
    "num_simulations = 10000\n",
    "plane_name = 'Large'\n",
    "research_cost = 50000000\n",
    "manufacture_cost = 5000000\n",
    "sale_price = 10000000\n",
    "num_units_mean = 400\n",
    "num_units_stdev = 30\n",
    "\n",
    "npvs = []\n",
    "interest_rates = []\n",
    "all_num_units = []\n",
    "for i in range(num_simulations):\n",
    "    npv, interest_rate, num_units = plane_simulation(\n",
    "        plane_name, research_cost, manufacture_cost,\n",
    "        sale_price, num_units_mean, num_units_stdev\n",
    "    )\n",
    "    npvs.append(npv)\n",
    "    interest_rates.append(interest_rate)\n",
    "    all_num_units.append(num_units)\n"
   ]
  },
  {
   "cell_type": "code",
   "execution_count": 12,
   "metadata": {},
   "outputs": [
    {
     "data": {
      "text/plain": [
       "10000"
      ]
     },
     "execution_count": 12,
     "metadata": {},
     "output_type": "execute_result"
    }
   ],
   "source": [
    "len(interest_rates)"
   ]
  },
  {
   "cell_type": "code",
   "execution_count": 13,
   "metadata": {},
   "outputs": [
    {
     "data": {
      "text/plain": [
       "[0.07976664988245984,\n",
       " 0.038943475992439705,\n",
       " 0.06062607531659303,\n",
       " 0.0647276697712812,\n",
       " 0.14555781029754047]"
      ]
     },
     "execution_count": 13,
     "metadata": {},
     "output_type": "execute_result"
    }
   ],
   "source": [
    "interest_rates[:5]"
   ]
  },
  {
   "cell_type": "code",
   "execution_count": 14,
   "metadata": {},
   "outputs": [
    {
     "data": {
      "text/plain": [
       "10000"
      ]
     },
     "execution_count": 14,
     "metadata": {},
     "output_type": "execute_result"
    }
   ],
   "source": [
    "len(npvs)"
   ]
  },
  {
   "cell_type": "code",
   "execution_count": 15,
   "metadata": {},
   "outputs": [
    {
     "data": {
      "text/plain": [
       "[1354941210.572429,\n",
       " 1877626958.0497549,\n",
       " 1490672289.1898499,\n",
       " 1670152949.1062102,\n",
       " 1213136814.508238]"
      ]
     },
     "execution_count": 15,
     "metadata": {},
     "output_type": "execute_result"
    }
   ],
   "source": [
    "npvs[:5]"
   ]
  },
  {
   "cell_type": "code",
   "execution_count": 16,
   "metadata": {},
   "outputs": [
    {
     "data": {
      "text/plain": [
       "10000"
      ]
     },
     "execution_count": 16,
     "metadata": {},
     "output_type": "execute_result"
    }
   ],
   "source": [
    "len(all_num_units)"
   ]
  },
  {
   "cell_type": "code",
   "execution_count": 17,
   "metadata": {},
   "outputs": [
    {
     "data": {
      "text/plain": [
       "[356, 433, 369, 417, 388]"
      ]
     },
     "execution_count": 17,
     "metadata": {},
     "output_type": "execute_result"
    }
   ],
   "source": [
    "all_num_units[:5]"
   ]
  },
  {
   "cell_type": "markdown",
   "metadata": {},
   "source": [
    "Everything looks right, so now let's put it into a `DataFrame`."
   ]
  },
  {
   "cell_type": "code",
   "execution_count": 18,
   "metadata": {},
   "outputs": [
    {
     "data": {
      "text/html": [
       "<div>\n",
       "<style scoped>\n",
       "    .dataframe tbody tr th:only-of-type {\n",
       "        vertical-align: middle;\n",
       "    }\n",
       "\n",
       "    .dataframe tbody tr th {\n",
       "        vertical-align: top;\n",
       "    }\n",
       "\n",
       "    .dataframe thead th {\n",
       "        text-align: right;\n",
       "    }\n",
       "</style>\n",
       "<table border=\"1\" class=\"dataframe\">\n",
       "  <thead>\n",
       "    <tr style=\"text-align: right;\">\n",
       "      <th></th>\n",
       "      <th>NPV</th>\n",
       "      <th>Interest Rate</th>\n",
       "      <th>Number Units Sold</th>\n",
       "      <th>Plane Name</th>\n",
       "    </tr>\n",
       "  </thead>\n",
       "  <tbody>\n",
       "    <tr>\n",
       "      <th>0</th>\n",
       "      <td>1.354941e+09</td>\n",
       "      <td>0.079767</td>\n",
       "      <td>356</td>\n",
       "      <td>Large</td>\n",
       "    </tr>\n",
       "    <tr>\n",
       "      <th>1</th>\n",
       "      <td>1.877627e+09</td>\n",
       "      <td>0.038943</td>\n",
       "      <td>433</td>\n",
       "      <td>Large</td>\n",
       "    </tr>\n",
       "    <tr>\n",
       "      <th>2</th>\n",
       "      <td>1.490672e+09</td>\n",
       "      <td>0.060626</td>\n",
       "      <td>369</td>\n",
       "      <td>Large</td>\n",
       "    </tr>\n",
       "    <tr>\n",
       "      <th>3</th>\n",
       "      <td>1.670153e+09</td>\n",
       "      <td>0.064728</td>\n",
       "      <td>417</td>\n",
       "      <td>Large</td>\n",
       "    </tr>\n",
       "    <tr>\n",
       "      <th>4</th>\n",
       "      <td>1.213137e+09</td>\n",
       "      <td>0.145558</td>\n",
       "      <td>388</td>\n",
       "      <td>Large</td>\n",
       "    </tr>\n",
       "  </tbody>\n",
       "</table>\n",
       "</div>"
      ],
      "text/plain": [
       "            NPV  Interest Rate  Number Units Sold Plane Name\n",
       "0  1.354941e+09       0.079767                356      Large\n",
       "1  1.877627e+09       0.038943                433      Large\n",
       "2  1.490672e+09       0.060626                369      Large\n",
       "3  1.670153e+09       0.064728                417      Large\n",
       "4  1.213137e+09       0.145558                388      Large"
      ]
     },
     "execution_count": 18,
     "metadata": {},
     "output_type": "execute_result"
    }
   ],
   "source": [
    "import pandas as pd\n",
    "\n",
    "df = pd.DataFrame()\n",
    "df['NPV'] = npvs\n",
    "df['Interest Rate'] = interest_rates\n",
    "df['Number Units Sold'] = all_num_units\n",
    "df['Plane Name'] = plane_name\n",
    "\n",
    "df.head()  # view first rows"
   ]
  },
  {
   "cell_type": "code",
   "execution_count": 19,
   "metadata": {},
   "outputs": [
    {
     "data": {
      "text/plain": [
       "10000"
      ]
     },
     "execution_count": 19,
     "metadata": {},
     "output_type": "execute_result"
    }
   ],
   "source": [
    "len(df)"
   ]
  },
  {
   "cell_type": "code",
   "execution_count": 20,
   "metadata": {},
   "outputs": [
    {
     "data": {
      "text/html": [
       "<div>\n",
       "<style scoped>\n",
       "    .dataframe tbody tr th:only-of-type {\n",
       "        vertical-align: middle;\n",
       "    }\n",
       "\n",
       "    .dataframe tbody tr th {\n",
       "        vertical-align: top;\n",
       "    }\n",
       "\n",
       "    .dataframe thead th {\n",
       "        text-align: right;\n",
       "    }\n",
       "</style>\n",
       "<table border=\"1\" class=\"dataframe\">\n",
       "  <thead>\n",
       "    <tr style=\"text-align: right;\">\n",
       "      <th></th>\n",
       "      <th>NPV</th>\n",
       "      <th>Interest Rate</th>\n",
       "      <th>Number Units Sold</th>\n",
       "    </tr>\n",
       "  </thead>\n",
       "  <tbody>\n",
       "    <tr>\n",
       "      <th>count</th>\n",
       "      <td>1.000000e+04</td>\n",
       "      <td>10000.000000</td>\n",
       "      <td>10000.000000</td>\n",
       "    </tr>\n",
       "    <tr>\n",
       "      <th>mean</th>\n",
       "      <td>1.586780e+09</td>\n",
       "      <td>0.070358</td>\n",
       "      <td>400.460200</td>\n",
       "    </tr>\n",
       "    <tr>\n",
       "      <th>std</th>\n",
       "      <td>2.291758e+08</td>\n",
       "      <td>0.039938</td>\n",
       "      <td>29.889449</td>\n",
       "    </tr>\n",
       "    <tr>\n",
       "      <th>min</th>\n",
       "      <td>8.944963e+08</td>\n",
       "      <td>-0.093185</td>\n",
       "      <td>292.000000</td>\n",
       "    </tr>\n",
       "    <tr>\n",
       "      <th>25%</th>\n",
       "      <td>1.426990e+09</td>\n",
       "      <td>0.043804</td>\n",
       "      <td>380.000000</td>\n",
       "    </tr>\n",
       "    <tr>\n",
       "      <th>50%</th>\n",
       "      <td>1.571725e+09</td>\n",
       "      <td>0.070373</td>\n",
       "      <td>401.000000</td>\n",
       "    </tr>\n",
       "    <tr>\n",
       "      <th>75%</th>\n",
       "      <td>1.731635e+09</td>\n",
       "      <td>0.097278</td>\n",
       "      <td>421.000000</td>\n",
       "    </tr>\n",
       "    <tr>\n",
       "      <th>max</th>\n",
       "      <td>2.592085e+09</td>\n",
       "      <td>0.231753</td>\n",
       "      <td>509.000000</td>\n",
       "    </tr>\n",
       "  </tbody>\n",
       "</table>\n",
       "</div>"
      ],
      "text/plain": [
       "                NPV  Interest Rate  Number Units Sold\n",
       "count  1.000000e+04   10000.000000       10000.000000\n",
       "mean   1.586780e+09       0.070358         400.460200\n",
       "std    2.291758e+08       0.039938          29.889449\n",
       "min    8.944963e+08      -0.093185         292.000000\n",
       "25%    1.426990e+09       0.043804         380.000000\n",
       "50%    1.571725e+09       0.070373         401.000000\n",
       "75%    1.731635e+09       0.097278         421.000000\n",
       "max    2.592085e+09       0.231753         509.000000"
      ]
     },
     "execution_count": 20,
     "metadata": {},
     "output_type": "execute_result"
    }
   ],
   "source": [
    "df.describe()"
   ]
  },
  {
   "cell_type": "markdown",
   "metadata": {},
   "source": [
    "Everything looks right. So now let's wrap this up in a function."
   ]
  },
  {
   "cell_type": "code",
   "execution_count": 21,
   "metadata": {},
   "outputs": [
    {
     "data": {
      "text/html": [
       "<div>\n",
       "<style scoped>\n",
       "    .dataframe tbody tr th:only-of-type {\n",
       "        vertical-align: middle;\n",
       "    }\n",
       "\n",
       "    .dataframe tbody tr th {\n",
       "        vertical-align: top;\n",
       "    }\n",
       "\n",
       "    .dataframe thead th {\n",
       "        text-align: right;\n",
       "    }\n",
       "</style>\n",
       "<table border=\"1\" class=\"dataframe\">\n",
       "  <thead>\n",
       "    <tr style=\"text-align: right;\">\n",
       "      <th></th>\n",
       "      <th>NPV</th>\n",
       "      <th>Interest Rate</th>\n",
       "      <th>Number Units Sold</th>\n",
       "      <th>Plane Name</th>\n",
       "    </tr>\n",
       "  </thead>\n",
       "  <tbody>\n",
       "    <tr>\n",
       "      <th>0</th>\n",
       "      <td>-258.652839</td>\n",
       "      <td>0.090208</td>\n",
       "      <td>70</td>\n",
       "      <td>test plane</td>\n",
       "    </tr>\n",
       "    <tr>\n",
       "      <th>1</th>\n",
       "      <td>-500.000000</td>\n",
       "      <td>0.064514</td>\n",
       "      <td>0</td>\n",
       "      <td>test plane</td>\n",
       "    </tr>\n",
       "    <tr>\n",
       "      <th>2</th>\n",
       "      <td>-53.421116</td>\n",
       "      <td>0.076111</td>\n",
       "      <td>122</td>\n",
       "      <td>test plane</td>\n",
       "    </tr>\n",
       "    <tr>\n",
       "      <th>3</th>\n",
       "      <td>-85.378764</td>\n",
       "      <td>0.011958</td>\n",
       "      <td>87</td>\n",
       "      <td>test plane</td>\n",
       "    </tr>\n",
       "    <tr>\n",
       "      <th>4</th>\n",
       "      <td>213.026903</td>\n",
       "      <td>0.030081</td>\n",
       "      <td>161</td>\n",
       "      <td>test plane</td>\n",
       "    </tr>\n",
       "  </tbody>\n",
       "</table>\n",
       "</div>"
      ],
      "text/plain": [
       "          NPV  Interest Rate  Number Units Sold  Plane Name\n",
       "0 -258.652839       0.090208                 70  test plane\n",
       "1 -500.000000       0.064514                  0  test plane\n",
       "2  -53.421116       0.076111                122  test plane\n",
       "3  -85.378764       0.011958                 87  test plane\n",
       "4  213.026903       0.030081                161  test plane"
      ]
     },
     "execution_count": 21,
     "metadata": {},
     "output_type": "execute_result"
    }
   ],
   "source": [
    "def plane_simulations(plane_name, research_cost, manufacture_cost, sale_price, num_units_mean, num_units_stdev, interest_rate_mean=0.07, interest_rate_stdev=0.04, num_simulations=10000):\n",
    "    npvs = []\n",
    "    interest_rates = []\n",
    "    all_num_units = []\n",
    "    for i in range(num_simulations):\n",
    "        npv, interest_rate, num_units = plane_simulation(\n",
    "            plane_name, research_cost, manufacture_cost,\n",
    "            sale_price, num_units_mean, num_units_stdev,\n",
    "            interest_rate_mean=interest_rate_mean,\n",
    "            interest_rate_stdev=interest_rate_stdev\n",
    "        )\n",
    "        npvs.append(npv)\n",
    "        interest_rates.append(interest_rate)\n",
    "        all_num_units.append(num_units)\n",
    "        \n",
    "    df = pd.DataFrame()\n",
    "    df['NPV'] = npvs\n",
    "    df['Interest Rate'] = interest_rates\n",
    "    df['Number Units Sold'] = all_num_units\n",
    "    df['Plane Name'] = plane_name\n",
    "    return df\n",
    "\n",
    "df = plane_simulations(\n",
    "    'test plane',\n",
    "    500,\n",
    "    10,\n",
    "    15,\n",
    "    100,\n",
    "    100\n",
    ")\n",
    "df.head()"
   ]
  },
  {
   "cell_type": "markdown",
   "metadata": {},
   "source": [
    "# Visualizing and Analyzing Simulations"
   ]
  },
  {
   "cell_type": "markdown",
   "metadata": {},
   "source": [
    "## Expected NPV and Standard Deviation of NPV"
   ]
  },
  {
   "cell_type": "code",
   "execution_count": 22,
   "metadata": {},
   "outputs": [
    {
     "data": {
      "text/plain": [
       "-87.31492876711991"
      ]
     },
     "execution_count": 22,
     "metadata": {},
     "output_type": "execute_result"
    }
   ],
   "source": [
    "df['NPV'].mean()  # expected NPV"
   ]
  },
  {
   "cell_type": "code",
   "execution_count": 23,
   "metadata": {},
   "outputs": [
    {
     "data": {
      "text/plain": [
       "339.09394206853676"
      ]
     },
     "execution_count": 23,
     "metadata": {},
     "output_type": "execute_result"
    }
   ],
   "source": [
    "df['NPV'].std()  # stdev of NPV"
   ]
  },
  {
   "cell_type": "markdown",
   "metadata": {},
   "source": [
    "## NPV Visualization"
   ]
  },
  {
   "cell_type": "markdown",
   "metadata": {},
   "source": [
    "### Plotting"
   ]
  },
  {
   "cell_type": "markdown",
   "metadata": {},
   "source": [
    "A histogram is usually the appropriate way to visualize Monte Carlo Simulation outcomes."
   ]
  },
  {
   "cell_type": "code",
   "execution_count": 24,
   "metadata": {},
   "outputs": [
    {
     "data": {
      "text/plain": [
       "<matplotlib.axes._subplots.AxesSubplot at 0xf5cf710>"
      ]
     },
     "execution_count": 24,
     "metadata": {},
     "output_type": "execute_result"
    },
    {
     "data": {
      "image/png": "[encoded data removed]",
      "text/plain": [
       "<Figure size 432x288 with 1 Axes>"
      ]
     },
     "metadata": {
      "needs_background": "light"
     },
     "output_type": "display_data"
    }
   ],
   "source": [
    "%matplotlib inline\n",
    "df['NPV'].plot.hist(bins=100)"
   ]
  },
  {
   "cell_type": "markdown",
   "metadata": {},
   "source": [
    "We can see for this \"test plane\" that the NPV will usually be somewhere between -500 and 1,000, with the most likely being -500. The distribution is highly skewed to the left."
   ]
  },
  {
   "cell_type": "markdown",
   "metadata": {},
   "source": [
    "### Probability Table"
   ]
  },
  {
   "cell_type": "code",
   "execution_count": 25,
   "metadata": {},
   "outputs": [
    {
     "data": {
      "text/plain": [
       "[0.05,\n",
       " 0.1,\n",
       " 0.15,\n",
       " 0.2,\n",
       " 0.25,\n",
       " 0.3,\n",
       " 0.35,\n",
       " 0.4,\n",
       " 0.45,\n",
       " 0.5,\n",
       " 0.55,\n",
       " 0.6,\n",
       " 0.65,\n",
       " 0.7,\n",
       " 0.75,\n",
       " 0.8,\n",
       " 0.85,\n",
       " 0.9,\n",
       " 0.95]"
      ]
     },
     "execution_count": 25,
     "metadata": {},
     "output_type": "execute_result"
    }
   ],
   "source": [
    "percentiles = [i/20 for i in range(1, 20)]\n",
    "percentiles"
   ]
  },
  {
   "cell_type": "code",
   "execution_count": 26,
   "metadata": {},
   "outputs": [
    {
     "data": {
      "text/plain": [
       "0.05   -500.000000\n",
       "0.10   -500.000000\n",
       "0.15   -500.000000\n",
       "0.20   -438.990457\n",
       "0.25   -375.978658\n",
       "0.30   -321.268391\n",
       "0.35   -269.004065\n",
       "0.40   -219.264125\n",
       "0.45   -173.628656\n",
       "0.50   -128.365309\n",
       "0.55    -82.613009\n",
       "0.60    -34.476840\n",
       "0.65     14.158348\n",
       "0.70     68.433029\n",
       "0.75    128.621829\n",
       "0.80    194.145777\n",
       "0.85    276.132291\n",
       "0.90    382.713279\n",
       "0.95    533.435981\n",
       "Name: NPV, dtype: float64"
      ]
     },
     "execution_count": 26,
     "metadata": {},
     "output_type": "execute_result"
    }
   ],
   "source": [
    "df['NPV'].quantile(percentiles)"
   ]
  },
  {
   "cell_type": "markdown",
   "metadata": {},
   "source": [
    "Now apply some formatting to it."
   ]
  },
  {
   "cell_type": "code",
   "execution_count": 27,
   "metadata": {},
   "outputs": [
    {
     "data": {
      "text/plain": [
       "0.05    $-500.00\n",
       "0.10    $-500.00\n",
       "0.15    $-500.00\n",
       "0.20    $-438.99\n",
       "0.25    $-375.98\n",
       "0.30    $-321.27\n",
       "0.35    $-269.00\n",
       "0.40    $-219.26\n",
       "0.45    $-173.63\n",
       "0.50    $-128.37\n",
       "0.55     $-82.61\n",
       "0.60     $-34.48\n",
       "0.65      $14.16\n",
       "0.70      $68.43\n",
       "0.75     $128.62\n",
       "0.80     $194.15\n",
       "0.85     $276.13\n",
       "0.90     $382.71\n",
       "0.95     $533.44\n",
       "Name: NPV, dtype: object"
      ]
     },
     "execution_count": 27,
     "metadata": {},
     "output_type": "execute_result"
    }
   ],
   "source": [
    "df['NPV'].quantile(percentiles).apply(lambda x: f'${x:,.2f}')"
   ]
  },
  {
   "cell_type": "markdown",
   "metadata": {},
   "source": [
    "## Chance of Positive/Negative NPV"
   ]
  },
  {
   "cell_type": "markdown",
   "metadata": {},
   "source": [
    "We will find the chance of positive NPV by finding the percentage of cases which had a positive NPV. Then the chance of negative NPV will be 1 - (positive NPV prob), as the chance of receiving exactly 0 NPV is 0."
   ]
  },
  {
   "cell_type": "code",
   "execution_count": 28,
   "metadata": {},
   "outputs": [
    {
     "name": "stdout",
     "output_type": "stream",
     "text": [
      "0.3626 0.6374\n"
     ]
    }
   ],
   "source": [
    "positive_npv_prob = ( df['NPV'] > 0 ).astype(int).mean()\n",
    "negative_npv_prob = 1 - positive_npv_prob\n",
    "print(positive_npv_prob, negative_npv_prob)"
   ]
  },
  {
   "cell_type": "markdown",
   "metadata": {},
   "source": [
    "## Analyzing the Impacts on NPV for Different Inputs"
   ]
  },
  {
   "cell_type": "markdown",
   "metadata": {},
   "source": [
    "## Plotting"
   ]
  },
  {
   "cell_type": "markdown",
   "metadata": {},
   "source": [
    "We want to see whether interest rate or units has a larger effect on the NPV. A first look at this is to form some plots."
   ]
  },
  {
   "cell_type": "code",
   "execution_count": 29,
   "metadata": {},
   "outputs": [
    {
     "data": {
      "text/plain": [
       "<matplotlib.axes._subplots.AxesSubplot at 0x117b9160>"
      ]
     },
     "execution_count": 29,
     "metadata": {},
     "output_type": "execute_result"
    },
    {
     "data": {
      "image/png": "[encoded data removed]",
      "text/plain": [
       "<Figure size 432x288 with 1 Axes>"
      ]
     },
     "metadata": {
      "needs_background": "light"
     },
     "output_type": "display_data"
    }
   ],
   "source": [
    "df.plot.scatter(x='Interest Rate', y='NPV')"
   ]
  },
  {
   "cell_type": "code",
   "execution_count": 30,
   "metadata": {},
   "outputs": [
    {
     "data": {
      "text/plain": [
       "<matplotlib.axes._subplots.AxesSubplot at 0x1181e278>"
      ]
     },
     "execution_count": 30,
     "metadata": {},
     "output_type": "execute_result"
    },
    {
     "data": {
      "image/png": "[encoded data removed]",
      "text/plain": [
       "<Figure size 432x288 with 1 Axes>"
      ]
     },
     "metadata": {
      "needs_background": "light"
     },
     "output_type": "display_data"
    }
   ],
   "source": [
    "df.plot.scatter(x='Number Units Sold', y='NPV')"
   ]
  },
  {
   "cell_type": "markdown",
   "metadata": {},
   "source": [
    "Just based off looking at the scatter plots, it seems that interest rate does not have much of an effect, while number of units sold has a very direct relation with the NPV. Because of how different the plots are, this would be enough to conclude that number of units has a greater effect. But let's take it one step further to quantify the difference."
   ]
  },
  {
   "cell_type": "markdown",
   "metadata": {},
   "source": [
    "## Regressions"
   ]
  },
  {
   "cell_type": "markdown",
   "metadata": {},
   "source": [
    "Note: this is an advanced section for additional learning. We don't have time to cover this in detail in the class so you won't be required to use it for any projects."
   ]
  },
  {
   "cell_type": "markdown",
   "metadata": {},
   "source": [
    "### Run the Regression"
   ]
  },
  {
   "cell_type": "markdown",
   "metadata": {},
   "source": [
    "We can use `statsmodels` to run a multivariate regression to quantify the effects of interest rate and number of units on the NPV."
   ]
  },
  {
   "cell_type": "code",
   "execution_count": 31,
   "metadata": {},
   "outputs": [
    {
     "data": {
      "text/html": [
       "<table class=\"simpletable\">\n",
       "<caption>OLS Regression Results</caption>\n",
       "<tr>\n",
       "  <th>Dep. Variable:</th>           <td>NPV</td>       <th>  R-squared (uncentered):</th>      <td>   0.765</td> \n",
       "</tr>\n",
       "<tr>\n",
       "  <th>Model:</th>                   <td>OLS</td>       <th>  Adj. R-squared (uncentered):</th> <td>   0.765</td> \n",
       "</tr>\n",
       "<tr>\n",
       "  <th>Method:</th>             <td>Least Squares</td>  <th>  F-statistic:       </th>          <td>1.631e+04</td>\n",
       "</tr>\n",
       "<tr>\n",
       "  <th>Date:</th>             <td>Tue, 29 Oct 2019</td> <th>  Prob (F-statistic):</th>           <td>  0.00</td>  \n",
       "</tr>\n",
       "<tr>\n",
       "  <th>Time:</th>                 <td>12:54:11</td>     <th>  Log-Likelihood:    </th>          <td> -65523.</td> \n",
       "</tr>\n",
       "<tr>\n",
       "  <th>No. Observations:</th>      <td> 10000</td>      <th>  AIC:               </th>          <td>1.310e+05</td>\n",
       "</tr>\n",
       "<tr>\n",
       "  <th>Df Residuals:</th>          <td>  9998</td>      <th>  BIC:               </th>          <td>1.311e+05</td>\n",
       "</tr>\n",
       "<tr>\n",
       "  <th>Df Model:</th>              <td>     2</td>      <th>                     </th>              <td> </td>    \n",
       "</tr>\n",
       "<tr>\n",
       "  <th>Covariance Type:</th>      <td>nonrobust</td>    <th>                     </th>              <td> </td>    \n",
       "</tr>\n",
       "</table>\n",
       "<table class=\"simpletable\">\n",
       "<tr>\n",
       "          <td></td>             <th>coef</th>     <th>std err</th>      <th>t</th>      <th>P>|t|</th>  <th>[0.025</th>    <th>0.975]</th>  \n",
       "</tr>\n",
       "<tr>\n",
       "  <th>Interest Rate</th>     <td>-4632.1510</td> <td>   28.617</td> <td> -161.867</td> <td> 0.000</td> <td>-4688.246</td> <td>-4576.056</td>\n",
       "</tr>\n",
       "<tr>\n",
       "  <th>Number Units Sold</th> <td>    2.8168</td> <td>    0.017</td> <td>  169.190</td> <td> 0.000</td> <td>    2.784</td> <td>    2.849</td>\n",
       "</tr>\n",
       "</table>\n",
       "<table class=\"simpletable\">\n",
       "<tr>\n",
       "  <th>Omnibus:</th>       <td>619.874</td> <th>  Durbin-Watson:     </th> <td>   1.685</td> \n",
       "</tr>\n",
       "<tr>\n",
       "  <th>Prob(Omnibus):</th> <td> 0.000</td>  <th>  Jarque-Bera (JB):  </th> <td> 762.864</td> \n",
       "</tr>\n",
       "<tr>\n",
       "  <th>Skew:</th>          <td>-0.611</td>  <th>  Prob(JB):          </th> <td>2.22e-166</td>\n",
       "</tr>\n",
       "<tr>\n",
       "  <th>Kurtosis:</th>      <td> 3.579</td>  <th>  Cond. No.          </th> <td>2.36e+03</td> \n",
       "</tr>\n",
       "</table><br/><br/>Warnings:<br/>[1] Standard Errors assume that the covariance matrix of the errors is correctly specified.<br/>[2] The condition number is large, 2.36e+03. This might indicate that there are<br/>strong multicollinearity or other numerical problems."
      ],
      "text/plain": [
       "<class 'statsmodels.iolib.summary.Summary'>\n",
       "\"\"\"\n",
       "                                 OLS Regression Results                                \n",
       "=======================================================================================\n",
       "Dep. Variable:                    NPV   R-squared (uncentered):                   0.765\n",
       "Model:                            OLS   Adj. R-squared (uncentered):              0.765\n",
       "Method:                 Least Squares   F-statistic:                          1.631e+04\n",
       "Date:                Tue, 29 Oct 2019   Prob (F-statistic):                        0.00\n",
       "Time:                        12:54:11   Log-Likelihood:                         -65523.\n",
       "No. Observations:               10000   AIC:                                  1.310e+05\n",
       "Df Residuals:                    9998   BIC:                                  1.311e+05\n",
       "Df Model:                           2                                                  \n",
       "Covariance Type:            nonrobust                                                  \n",
       "=====================================================================================\n",
       "                        coef    std err          t      P>|t|      [0.025      0.975]\n",
       "-------------------------------------------------------------------------------------\n",
       "Interest Rate     -4632.1510     28.617   -161.867      0.000   -4688.246   -4576.056\n",
       "Number Units Sold     2.8168      0.017    169.190      0.000       2.784       2.849\n",
       "==============================================================================\n",
       "Omnibus:                      619.874   Durbin-Watson:                   1.685\n",
       "Prob(Omnibus):                  0.000   Jarque-Bera (JB):              762.864\n",
       "Skew:                          -0.611   Prob(JB):                    2.22e-166\n",
       "Kurtosis:                       3.579   Cond. No.                     2.36e+03\n",
       "==============================================================================\n",
       "\n",
       "Warnings:\n",
       "[1] Standard Errors assume that the covariance matrix of the errors is correctly specified.\n",
       "[2] The condition number is large, 2.36e+03. This might indicate that there are\n",
       "strong multicollinearity or other numerical problems.\n",
       "\"\"\""
      ]
     },
     "execution_count": 31,
     "metadata": {},
     "output_type": "execute_result"
    }
   ],
   "source": [
    "import statsmodels.api as sm\n",
    "\n",
    "model = sm.OLS(df['NPV'], df[['Interest Rate', 'Number Units Sold']])\n",
    "result = model.fit()\n",
    "result.summary()"
   ]
  },
  {
   "cell_type": "markdown",
   "metadata": {},
   "source": [
    "### Interpret the Regression"
   ]
  },
  {
   "cell_type": "markdown",
   "metadata": {},
   "source": [
    "#### One Unit Change"
   ]
  },
  {
   "cell_type": "markdown",
   "metadata": {},
   "source": [
    "There we can see the coefficients under the `coef` column. We can also access them via `result.params`:"
   ]
  },
  {
   "cell_type": "code",
   "execution_count": 32,
   "metadata": {},
   "outputs": [
    {
     "data": {
      "text/plain": [
       "Interest Rate       -4632.150979\n",
       "Number Units Sold       2.816754\n",
       "dtype: float64"
      ]
     },
     "execution_count": 32,
     "metadata": {},
     "output_type": "execute_result"
    }
   ],
   "source": [
    "result.params"
   ]
  },
  {
   "cell_type": "code",
   "execution_count": 33,
   "metadata": {},
   "outputs": [
    {
     "data": {
      "text/plain": [
       "-4632.150978839354"
      ]
     },
     "execution_count": 33,
     "metadata": {},
     "output_type": "execute_result"
    }
   ],
   "source": [
    "result.params['Interest Rate']"
   ]
  },
  {
   "cell_type": "code",
   "execution_count": 34,
   "metadata": {},
   "outputs": [
    {
     "name": "stdout",
     "output_type": "stream",
     "text": [
      "Selling one additional unit leads to a $2.82 change in NPV\n"
     ]
    }
   ],
   "source": [
    "print(f'Selling one additional unit leads to a ${result.params[\"Number Units Sold\"]:,.2f} change in NPV')"
   ]
  },
  {
   "cell_type": "markdown",
   "metadata": {},
   "source": [
    "Also notice that because I am using quotes inside quotes there, I have used single quotes for one and double quotes for the other to avoid conflicts."
   ]
  },
  {
   "cell_type": "markdown",
   "metadata": {},
   "source": [
    "We need to be careful about the interpretation of the interest rate. As we have it in decimal, a one unit change is a 100% change. So the value we see as the coefficient is the change in NPV for a 100% change in interest rate. To get to a 1% change in interest rate, we need to divide by 100."
   ]
  },
  {
   "cell_type": "code",
   "execution_count": 35,
   "metadata": {},
   "outputs": [
    {
     "name": "stdout",
     "output_type": "stream",
     "text": [
      "A one percent increase in interest rate leads to a $-46.32 change in NPV\n"
     ]
    }
   ],
   "source": [
    "print(f'A one percent increase in interest rate leads to a ${result.params[\"Interest Rate\"]/100:,.2f} change in NPV')"
   ]
  },
  {
   "cell_type": "markdown",
   "metadata": {},
   "source": [
    "#### One Standard Deviation Change"
   ]
  },
  {
   "cell_type": "markdown",
   "metadata": {},
   "source": [
    "Now we know which has a greater impact by unit. A 1% increase in interest rate has a larger impact that a 1 unit increase on the NPV. This doesn't sqaure up with what we saw in the scatter plots. Why?\n",
    "\n",
    "Just looking at a one unit change ignores what a typical change is for the different inputs. The number of units sold here is changing around a lot more than the interest rate. So even though it has a smaller impact by unit, it could have a larger impact overall once we consider how much it is changing.\n",
    "\n",
    "We can measure how much they are changing with the standard deviation, and compare the changes for a one standard deviation change in each input to get what a typical impact would be."
   ]
  },
  {
   "cell_type": "code",
   "execution_count": 36,
   "metadata": {},
   "outputs": [
    {
     "data": {
      "text/plain": [
       "87.09765854328332"
      ]
     },
     "execution_count": 36,
     "metadata": {},
     "output_type": "execute_result"
    }
   ],
   "source": [
    "df[\"Number Units Sold\"].std()"
   ]
  },
  {
   "cell_type": "code",
   "execution_count": 37,
   "metadata": {},
   "outputs": [
    {
     "data": {
      "text/plain": [
       "0.040244759572078244"
      ]
     },
     "execution_count": 37,
     "metadata": {},
     "output_type": "execute_result"
    }
   ],
   "source": [
    "df[\"Interest Rate\"].std()"
   ]
  },
  {
   "cell_type": "markdown",
   "metadata": {},
   "source": [
    "We can see the standard deviation for number of units is much larger."
   ]
  },
  {
   "cell_type": "code",
   "execution_count": 38,
   "metadata": {},
   "outputs": [
    {
     "name": "stdout",
     "output_type": "stream",
     "text": [
      "A one standard deviation increase in the number of units leads to a $245.33 change in NPV\n"
     ]
    }
   ],
   "source": [
    "print(f'A one standard deviation increase in the number of units leads to a ${result.params[\"Number Units Sold\"] * df[\"Number Units Sold\"].std():,.2f} change in NPV')"
   ]
  },
  {
   "cell_type": "code",
   "execution_count": 39,
   "metadata": {},
   "outputs": [
    {
     "name": "stdout",
     "output_type": "stream",
     "text": [
      "A one standard deviation increase in the interest rate leads to a $-1.86 change in NPV\n"
     ]
    }
   ],
   "source": [
    "print(f'A one standard deviation increase in the interest rate leads to a ${(result.params[\"Interest Rate\"] * df[\"Interest Rate\"].std()) / 100:,.2f} change in NPV')"
   ]
  },
  {
   "cell_type": "markdown",
   "metadata": {},
   "source": [
    "## Putting the Analysis and Visualization Together"
   ]
  },
  {
   "cell_type": "markdown",
   "metadata": {},
   "source": [
    "We just did a lot of things with the output. We will have to repeat this process for each plane simulation. So let's create a function to run all of this."
   ]
  },
  {
   "cell_type": "code",
   "execution_count": 40,
   "metadata": {},
   "outputs": [
    {
     "data": {
      "image/png": "[encoded data removed]",
      "text/plain": [
       "<Figure size 432x288 with 1 Axes>"
      ]
     },
     "metadata": {
      "needs_background": "light"
     },
     "output_type": "display_data"
    },
    {
     "data": {
      "image/png": "[encoded data removed]",
      "text/plain": [
       "<Figure size 432x288 with 1 Axes>"
      ]
     },
     "metadata": {
      "needs_background": "light"
     },
     "output_type": "display_data"
    },
    {
     "data": {
      "image/png": "[encoded data removed]",
      "text/plain": [
       "<Figure size 432x288 with 1 Axes>"
      ]
     },
     "metadata": {
      "needs_background": "light"
     },
     "output_type": "display_data"
    },
    {
     "name": "stdout",
     "output_type": "stream",
     "text": [
      "Probability Table\n",
      "0.05    $-500.00\n",
      "0.10    $-500.00\n",
      "0.15    $-500.00\n",
      "0.20    $-438.99\n",
      "0.25    $-375.98\n",
      "0.30    $-321.27\n",
      "0.35    $-269.00\n",
      "0.40    $-219.26\n",
      "0.45    $-173.63\n",
      "0.50    $-128.37\n",
      "0.55     $-82.61\n",
      "0.60     $-34.48\n",
      "0.65      $14.16\n",
      "0.70      $68.43\n",
      "0.75     $128.62\n",
      "0.80     $194.15\n",
      "0.85     $276.13\n",
      "0.90     $382.71\n",
      "0.95     $533.44\n",
      "Name: NPV, dtype: object\n",
      "\n",
      "The expected NPV is $-87.31 with $339.09 standard deviation.\n",
      "\n",
      "The chance of a positive NPV is 36.3% and the chance of a negative NPV is 63.7%\n",
      "\n",
      "Regression Results\n",
      "Selling one additional unit leads to a $2.82 change in NPV\n",
      "A one percent increase in interest rate leads to a $-46.32 change in NPV\n",
      "A one standard deviation increase in the number of units leads to a $245.33 change in NPV\n",
      "A one standard deviation increase in the interest rate leads to a $-1.86 change in NPV\n"
     ]
    }
   ],
   "source": [
    "import matplotlib.pyplot as plt\n",
    "\n",
    "def simulation_plots(df):\n",
    "    df['NPV'].plot.hist(bins=100)\n",
    "    df.plot.scatter(x='Interest Rate', y='NPV')\n",
    "    df.plot.scatter(x='Number Units Sold', y='NPV')\n",
    "    plt.show()  # show the plots as soon as this command is run\n",
    "    \n",
    "    \n",
    "def probability_table(df):\n",
    "    percentiles = [i/20 for i in range(1, 20)]\n",
    "    return df['NPV'].quantile(percentiles).apply(lambda x: f'${x:,.2f}')\n",
    "\n",
    "\n",
    "def expected_and_stdev_npv(df):\n",
    "    mean = df['NPV'].mean()  # expected NPV\n",
    "    std = df['NPV'].std()  # stdev of NPV\n",
    "    return mean, std\n",
    "\n",
    "\n",
    "def chance_of_positive_negative_npv(df):\n",
    "    positive_npv_prob = ( df['NPV'] > 0 ).astype(int).mean()\n",
    "    negative_npv_prob = 1 - positive_npv_prob\n",
    "    return positive_npv_prob, negative_npv_prob\n",
    "\n",
    "\n",
    "def simulation_regression(df):\n",
    "    model = sm.OLS(df['NPV'], df[['Interest Rate', 'Number Units Sold']])\n",
    "    result = model.fit()\n",
    "    print(f'Selling one additional unit leads to a ${result.params[\"Number Units Sold\"]:,.2f} change in NPV')\n",
    "    print(f'A one percent increase in interest rate leads to a ${result.params[\"Interest Rate\"]/100:,.2f} change in NPV')\n",
    "    print(f'A one standard deviation increase in the number of units leads to a ${result.params[\"Number Units Sold\"] * df[\"Number Units Sold\"].std():,.2f} change in NPV')\n",
    "    print(f'A one standard deviation increase in the interest rate leads to a ${(result.params[\"Interest Rate\"] * df[\"Interest Rate\"].std()) / 100:,.2f} change in NPV')\n",
    "    \n",
    "    \n",
    "def simulation_summary(df):\n",
    "    simulation_plots(df)\n",
    "    table = probability_table(df)\n",
    "    mean, std = expected_and_stdev_npv(df)\n",
    "    pos_chance, neg_chance = chance_of_positive_negative_npv(df)\n",
    "    print('Probability Table')\n",
    "    print(table)\n",
    "    print('')\n",
    "    print(f'The expected NPV is ${mean:,.2f} with ${std:,.2f} standard deviation.')\n",
    "    print('')\n",
    "    print(f'The chance of a positive NPV is {pos_chance:.1%} and the chance of a negative NPV is {neg_chance:.1%}')\n",
    "    print('')\n",
    "    print('Regression Results')\n",
    "    simulation_regression(df)\n",
    "    \n",
    "    \n",
    "simulation_summary(df)\n",
    "    \n",
    "    \n"
   ]
  },
  {
   "cell_type": "markdown",
   "metadata": {},
   "source": [
    "# Running the Actual Simulations for Each Plane"
   ]
  },
  {
   "cell_type": "markdown",
   "metadata": {},
   "source": [
    "Now we have a function which does the full simulation, visualization, and analysis process for a plane. Now we want to repeat this for each plane."
   ]
  },
  {
   "cell_type": "markdown",
   "metadata": {},
   "source": [
    "I will also use some header formatting that I showed in the Monte Carlo Python Example."
   ]
  },
  {
   "cell_type": "code",
   "execution_count": 41,
   "metadata": {},
   "outputs": [
    {
     "data": {
      "text/html": [
       "<h2>My header</h2>"
      ],
      "text/plain": [
       "<IPython.core.display.HTML object>"
      ]
     },
     "metadata": {},
     "output_type": "display_data"
    }
   ],
   "source": [
    "from IPython.display import display, HTML\n",
    "\n",
    "def display_header(header):\n",
    "    display(HTML(f'<h2>{header}</h2>'))\n",
    "    \n",
    "display_header('My header')"
   ]
  },
  {
   "cell_type": "markdown",
   "metadata": {},
   "source": [
    "Now actually run the simulations."
   ]
  },
  {
   "cell_type": "code",
   "execution_count": 42,
   "metadata": {},
   "outputs": [
    {
     "data": {
      "text/html": [
       "<h2>Super Size Plane</h2>"
      ],
      "text/plain": [
       "<IPython.core.display.HTML object>"
      ]
     },
     "metadata": {},
     "output_type": "display_data"
    },
    {
     "data": {
      "image/png": "[encoded data removed]",
      "text/plain": [
       "<Figure size 432x288 with 1 Axes>"
      ]
     },
     "metadata": {
      "needs_background": "light"
     },
     "output_type": "display_data"
    },
    {
     "data": {
      "image/png": "[encoded data removed]",
      "text/plain": [
       "<Figure size 432x288 with 1 Axes>"
      ]
     },
     "metadata": {
      "needs_background": "light"
     },
     "output_type": "display_data"
    },
    {
     "data": {
      "image/png": "[encoded data removed]",
      "text/plain": [
       "<Figure size 432x288 with 1 Axes>"
      ]
     },
     "metadata": {
      "needs_background": "light"
     },
     "output_type": "display_data"
    },
    {
     "name": "stdout",
     "output_type": "stream",
     "text": [
      "Probability Table\n",
      "0.05    $-100,000,000.00\n",
      "0.10     $-91,119,174.08\n",
      "0.15     $-74,970,922.67\n",
      "0.20     $-60,307,672.70\n",
      "0.25     $-47,198,935.42\n",
      "0.30     $-34,894,586.51\n",
      "0.35     $-21,738,043.80\n",
      "0.40      $-8,072,639.59\n",
      "0.45       $5,255,518.31\n",
      "0.50      $20,042,167.94\n",
      "0.55      $34,412,844.05\n",
      "0.60      $51,085,798.96\n",
      "0.65      $69,921,145.00\n",
      "0.70      $89,405,628.53\n",
      "0.75     $113,475,311.79\n",
      "0.80     $139,899,180.62\n",
      "0.85     $174,136,913.07\n",
      "0.90     $221,224,735.33\n",
      "0.95     $295,966,690.38\n",
      "Name: NPV, dtype: object\n",
      "\n",
      "The expected NPV is $47,747,455.64 with $127,733,041.29 standard deviation.\n",
      "\n",
      "The chance of a positive NPV is 57.0% and the chance of a negative NPV is 43.0%\n",
      "\n",
      "Regression Results\n",
      "Selling one additional unit leads to a $824,798.31 change in NPV\n",
      "A one percent increase in interest rate leads to a $-18,038,516.81 change in NPV\n",
      "A one standard deviation increase in the number of units leads to a $95,335,407.66 change in NPV\n",
      "A one standard deviation increase in the interest rate leads to a $-735,695.09 change in NPV\n"
     ]
    },
    {
     "data": {
      "text/html": [
       "<h2>Large Plane</h2>"
      ],
      "text/plain": [
       "<IPython.core.display.HTML object>"
      ]
     },
     "metadata": {},
     "output_type": "display_data"
    },
    {
     "data": {
      "image/png": "[encoded data removed]",
      "text/plain": [
       "<Figure size 432x288 with 1 Axes>"
      ]
     },
     "metadata": {
      "needs_background": "light"
     },
     "output_type": "display_data"
    },
    {
     "data": {
      "image/png": "[encoded data removed]",
      "text/plain": [
       "<Figure size 432x288 with 1 Axes>"
      ]
     },
     "metadata": {
      "needs_background": "light"
     },
     "output_type": "display_data"
    },
    {
     "data": {
      "image/png": "[encoded data removed]",
      "text/plain": [
       "<Figure size 432x288 with 1 Axes>"
      ]
     },
     "metadata": {
      "needs_background": "light"
     },
     "output_type": "display_data"
    },
    {
     "name": "stdout",
     "output_type": "stream",
     "text": [
      "Probability Table\n",
      "0.05    $-73,230,705.83\n",
      "0.10    $-52,756,222.17\n",
      "0.15    $-37,447,100.67\n",
      "0.20    $-24,745,174.48\n",
      "0.25    $-13,290,489.65\n",
      "0.30     $-3,189,497.23\n",
      "0.35      $6,592,584.61\n",
      "0.40     $16,685,964.31\n",
      "0.45     $26,141,523.45\n",
      "0.50     $35,484,513.74\n",
      "0.55     $45,115,442.20\n",
      "0.60     $55,086,002.76\n",
      "0.65     $66,118,767.01\n",
      "0.70     $76,764,652.72\n",
      "0.75     $90,580,887.30\n",
      "0.80    $104,946,136.47\n",
      "0.85    $122,484,923.64\n",
      "0.90    $146,348,738.90\n",
      "0.95    $183,844,741.93\n",
      "Name: NPV, dtype: object\n",
      "\n",
      "The expected NPV is $42,493,922.23 with $79,354,769.43 standard deviation.\n",
      "\n",
      "The chance of a positive NPV is 68.4% and the chance of a negative NPV is 31.6%\n",
      "\n",
      "Regression Results\n",
      "Selling one additional unit leads to a $433,009.81 change in NPV\n",
      "A one percent increase in interest rate leads to a $-18,766,908.90 change in NPV\n",
      "A one standard deviation increase in the number of units leads to a $21,543,484.56 change in NPV\n",
      "A one standard deviation increase in the interest rate leads to a $-748,909.11 change in NPV\n"
     ]
    },
    {
     "data": {
      "text/html": [
       "<h2>Mid-size Plane</h2>"
      ],
      "text/plain": [
       "<IPython.core.display.HTML object>"
      ]
     },
     "metadata": {},
     "output_type": "display_data"
    },
    {
     "data": {
      "image/png": "[encoded data removed]",
      "text/plain": [
       "<Figure size 432x288 with 1 Axes>"
      ]
     },
     "metadata": {
      "needs_background": "light"
     },
     "output_type": "display_data"
    },
    {
     "data": {
      "image/png": "[encoded data removed]",
      "text/plain": [
       "<Figure size 432x288 with 1 Axes>"
      ]
     },
     "metadata": {
      "needs_background": "light"
     },
     "output_type": "display_data"
    },
    {
     "data": {
      "image/png": "[encoded data removed]",
      "text/plain": [
       "<Figure size 432x288 with 1 Axes>"
      ]
     },
     "metadata": {
      "needs_background": "light"
     },
     "output_type": "display_data"
    },
    {
     "name": "stdout",
     "output_type": "stream",
     "text": [
      "Probability Table\n",
      "0.05    $-46,894,004.20\n",
      "0.10    $-30,975,108.19\n",
      "0.15    $-18,204,894.60\n",
      "0.20     $-8,587,838.04\n",
      "0.25        $438,857.00\n",
      "0.30      $8,518,564.09\n",
      "0.35     $15,679,104.40\n",
      "0.40     $22,512,149.30\n",
      "0.45     $29,529,301.19\n",
      "0.50     $35,996,508.27\n",
      "0.55     $43,297,006.66\n",
      "0.60     $50,956,726.81\n",
      "0.65     $58,560,265.14\n",
      "0.70     $67,504,838.97\n",
      "0.75     $76,672,996.16\n",
      "0.80     $88,001,373.89\n",
      "0.85    $100,441,927.16\n",
      "0.90    $117,023,499.66\n",
      "0.95    $142,752,836.66\n",
      "Name: NPV, dtype: object\n",
      "\n",
      "The expected NPV is $40,728,956.05 with $57,938,166.19 standard deviation.\n",
      "\n",
      "The chance of a positive NPV is 75.3% and the chance of a negative NPV is 24.7%\n",
      "\n",
      "Regression Results\n",
      "Selling one additional unit leads to a $281,267.43 change in NPV\n",
      "A one percent increase in interest rate leads to a $-14,342,266.73 change in NPV\n",
      "A one standard deviation increase in the number of units leads to a $5,573,325.94 change in NPV\n",
      "A one standard deviation increase in the interest rate leads to a $-573,253.77 change in NPV\n"
     ]
    }
   ],
   "source": [
    "display_header('Super Size Plane')\n",
    "df = plane_simulations(\n",
    "    'Super Size',\n",
    "    100000000,\n",
    "    10000000,\n",
    "    11500000,\n",
    "    200,\n",
    "    120\n",
    ")\n",
    "simulation_summary(df)\n",
    "\n",
    "display_header('Large Plane')\n",
    "df = plane_simulations(\n",
    "    'Large',\n",
    "    50000000,\n",
    "    5000000,\n",
    "    5600000,\n",
    "    400,\n",
    "    50\n",
    ")\n",
    "simulation_summary(df)\n",
    "\n",
    "display_header('Mid-size Plane')\n",
    "df = plane_simulations(\n",
    "    'Mid-size',\n",
    "    25000000,\n",
    "    3000000,\n",
    "    3350000,\n",
    "    500,\n",
    "    20\n",
    ")\n",
    "simulation_summary(df)"
   ]
  },
  {
   "cell_type": "markdown",
   "metadata": {},
   "source": [
    "# Observations"
   ]
  },
  {
   "cell_type": "markdown",
   "metadata": {},
   "source": [
    "We can see that the expected NPV increases with the size of the plane, but so does the standard deviation of the NPV and the probability of getting a negative NPV. In other words, the larger planes are riskier but also offer higher returns. The ultimate choice of plane will depend on the risk tolerance of the manufacturer."
   ]
  },
  {
   "cell_type": "markdown",
   "metadata": {},
   "source": [
    "The distribution of the super size plane looks highly skewed to the left, because there is a reasonable chance of not selling any planes. Once you are not selling any planes, the NPV doesn't change much, just a bit due to the interest rate."
   ]
  },
  {
   "cell_type": "markdown",
   "metadata": {},
   "source": [
    "The scatter plot comparing NPV to interest rate looks odd for the super size plane because so many of the NPVs are negative. Using a lower interest rate will increase the NPV if it's negative and decrease it if it's positive."
   ]
  },
  {
   "cell_type": "markdown",
   "metadata": {},
   "source": [
    "Across the board, the number of units sold is a much more important factor than the interest rate. This makes sense because everything is happening in two years. If plane sales were spread across 10 or 15 years, we would see a larger impact of the interest rate."
   ]
  }
 ],
 "metadata": {
  "kernelspec": {
   "display_name": "Python 3",
   "language": "python",
   "name": "python3"
  },
  "language_info": {
   "codemirror_mode": {
    "name": "ipython",
    "version": 3
   },
   "file_extension": ".py",
   "mimetype": "text/x-python",
   "name": "python",
   "nbconvert_exporter": "python",
   "pygments_lexer": "ipython3",
   "version": "3.7.1"
  }
 },
 "nbformat": 4,
 "nbformat_minor": 4
}
