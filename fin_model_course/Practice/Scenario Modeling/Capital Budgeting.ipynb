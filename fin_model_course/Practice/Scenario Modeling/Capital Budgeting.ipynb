{
 "cells": [
  {
   "cell_type": "markdown",
   "metadata": {},
   "source": [
    "# Imports and Description"
   ]
  },
  {
   "cell_type": "code",
   "execution_count": 1,
   "metadata": {},
   "outputs": [],
   "source": [
    "import numpy as np"
   ]
  },
  {
   "cell_type": "markdown",
   "metadata": {},
   "source": [
    "First I will put together the model without any scenario analysis and with the normal economy inputs, then I will add the scenario analysis afterwards."
   ]
  },
  {
   "cell_type": "markdown",
   "metadata": {},
   "source": [
    "# Inputs"
   ]
  },
  {
   "cell_type": "code",
   "execution_count": 2,
   "metadata": {},
   "outputs": [],
   "source": [
    "price = 12\n",
    "output = 500000\n",
    "int_rate = 0.05\n",
    "project_cost = 10000000\n",
    "variable_cost = 7\n",
    "machine_life = 10"
   ]
  },
  {
   "cell_type": "markdown",
   "metadata": {},
   "source": [
    "# Profit"
   ]
  },
  {
   "cell_type": "markdown",
   "metadata": {},
   "source": [
    "First let's figure out how to get the profit in each year. It does not change over time so we can figure out a single year then expand it to the number of years."
   ]
  },
  {
   "cell_type": "markdown",
   "metadata": {},
   "source": [
    "Get the profit in a single year: $P = Q(P - C_v)$"
   ]
  },
  {
   "cell_type": "code",
   "execution_count": 3,
   "metadata": {},
   "outputs": [
    {
     "data": {
      "text/plain": [
       "2500000"
      ]
     },
     "execution_count": 3,
     "metadata": {},
     "output_type": "execute_result"
    }
   ],
   "source": [
    "profit = output * (price - variable_cost)\n",
    "profit"
   ]
  },
  {
   "cell_type": "markdown",
   "metadata": {},
   "source": [
    "Now get it in a list of machine_life number of years"
   ]
  },
  {
   "cell_type": "code",
   "execution_count": 4,
   "metadata": {},
   "outputs": [
    {
     "data": {
      "text/plain": [
       "[2500000,\n",
       " 2500000,\n",
       " 2500000,\n",
       " 2500000,\n",
       " 2500000,\n",
       " 2500000,\n",
       " 2500000,\n",
       " 2500000,\n",
       " 2500000,\n",
       " 2500000]"
      ]
     },
     "execution_count": 4,
     "metadata": {},
     "output_type": "execute_result"
    }
   ],
   "source": [
    "all_profit = [profit] * machine_life\n",
    "all_profit"
   ]
  },
  {
   "cell_type": "markdown",
   "metadata": {},
   "source": [
    "Now wrap this up in a function."
   ]
  },
  {
   "cell_type": "code",
   "execution_count": 5,
   "metadata": {},
   "outputs": [
    {
     "data": {
      "text/plain": [
       "[2500000,\n",
       " 2500000,\n",
       " 2500000,\n",
       " 2500000,\n",
       " 2500000,\n",
       " 2500000,\n",
       " 2500000,\n",
       " 2500000,\n",
       " 2500000,\n",
       " 2500000]"
      ]
     },
     "execution_count": 5,
     "metadata": {},
     "output_type": "execute_result"
    }
   ],
   "source": [
    "def profits(output, price, variable_cost):\n",
    "    profit = output * (price - variable_cost)\n",
    "    all_profit = [profit] * machine_life\n",
    "    return all_profit\n",
    "\n",
    "profits(output, price, variable_cost)"
   ]
  },
  {
   "cell_type": "markdown",
   "metadata": {},
   "source": [
    "# NPV"
   ]
  },
  {
   "cell_type": "markdown",
   "metadata": {},
   "source": [
    "The first cash flow should be the machine cost, then the profits should come afterwards, and all that should be passed to NPV."
   ]
  },
  {
   "cell_type": "markdown",
   "metadata": {},
   "source": [
    "Put the initial outlay together with the cash flows."
   ]
  },
  {
   "cell_type": "code",
   "execution_count": 6,
   "metadata": {},
   "outputs": [
    {
     "data": {
      "text/plain": [
       "[-10000000,\n",
       " 2500000,\n",
       " 2500000,\n",
       " 2500000,\n",
       " 2500000,\n",
       " 2500000,\n",
       " 2500000,\n",
       " 2500000,\n",
       " 2500000,\n",
       " 2500000,\n",
       " 2500000]"
      ]
     },
     "execution_count": 6,
     "metadata": {},
     "output_type": "execute_result"
    }
   ],
   "source": [
    "all_profits = profits(output, price, variable_cost)\n",
    "all_cash_flows = [-project_cost] + all_profits\n",
    "all_cash_flows"
   ]
  },
  {
   "cell_type": "markdown",
   "metadata": {},
   "source": [
    "Now calculate the NPV"
   ]
  },
  {
   "cell_type": "code",
   "execution_count": 7,
   "metadata": {},
   "outputs": [
    {
     "data": {
      "text/plain": [
       "9304337.322962027"
      ]
     },
     "execution_count": 7,
     "metadata": {},
     "output_type": "execute_result"
    }
   ],
   "source": [
    "np.npv(int_rate, all_cash_flows)"
   ]
  },
  {
   "cell_type": "markdown",
   "metadata": {},
   "source": [
    "Now let's wrap this section up in a function. This function actually also calculates profits by calling our previous function `profits`, and so now this function is the whole model."
   ]
  },
  {
   "cell_type": "code",
   "execution_count": 8,
   "metadata": {},
   "outputs": [
    {
     "data": {
      "text/plain": [
       "9304337.322962027"
      ]
     },
     "execution_count": 8,
     "metadata": {},
     "output_type": "execute_result"
    }
   ],
   "source": [
    "def project_npv(output, price, variable_cost, project_cost, int_rate):\n",
    "    all_profits = profits(output, price, variable_cost)\n",
    "    all_cash_flows = [-project_cost] + all_profits\n",
    "    npv = np.npv(int_rate, all_cash_flows)\n",
    "    return npv\n",
    "\n",
    "project_npv(output, price, variable_cost, project_cost, int_rate)"
   ]
  },
  {
   "cell_type": "markdown",
   "metadata": {},
   "source": [
    "# Scenario Analysis"
   ]
  },
  {
   "cell_type": "markdown",
   "metadata": {},
   "source": [
    "Now our model works for a single set of inputs. Let's use the external scenario analysis approach here. So we will run the model multiple times, once for each set of scenario inputs, then we will collect the outputs, and take the expected value of the outputs."
   ]
  },
  {
   "cell_type": "markdown",
   "metadata": {},
   "source": [
    "I will write a loop which calls the function for each set of inputs. But first I need to set up the inputs in a way that will be easy to call in a loop. Let's use a nested dictionary for this."
   ]
  },
  {
   "cell_type": "code",
   "execution_count": 9,
   "metadata": {},
   "outputs": [],
   "source": [
    "states_of_economy = {\n",
    "    'Expansion': {\n",
    "        'output': 1000000,\n",
    "        'price': 15,\n",
    "        'int_rate': 0.07,\n",
    "        'probability': 0.2,\n",
    "    },\n",
    "    'Normal': {\n",
    "        'output': 500000,\n",
    "        'price': 12,\n",
    "        'int_rate': 0.05,\n",
    "        'probability': 0.7,\n",
    "    },\n",
    "    'Recession': {\n",
    "        'output': 200000,\n",
    "        'price': 10,\n",
    "        'int_rate': 0.03,\n",
    "        'probability': 0.1,\n",
    "    },\n",
    "}"
   ]
  },
  {
   "cell_type": "markdown",
   "metadata": {},
   "source": [
    "I'll quickly show accesssing items and looping through this nested dictionary"
   ]
  },
  {
   "cell_type": "code",
   "execution_count": 10,
   "metadata": {},
   "outputs": [
    {
     "data": {
      "text/plain": [
       "1000000"
      ]
     },
     "execution_count": 10,
     "metadata": {},
     "output_type": "execute_result"
    }
   ],
   "source": [
    "states_of_economy['Expansion']['output']"
   ]
  },
  {
   "cell_type": "code",
   "execution_count": 11,
   "metadata": {},
   "outputs": [
    {
     "name": "stdout",
     "output_type": "stream",
     "text": [
      "Expansion\n",
      "Normal\n",
      "Recession\n"
     ]
    }
   ],
   "source": [
    "for soe, input_dict in states_of_economy.items():\n",
    "    print(soe)"
   ]
  },
  {
   "cell_type": "code",
   "execution_count": 12,
   "metadata": {},
   "outputs": [
    {
     "name": "stdout",
     "output_type": "stream",
     "text": [
      "{'output': 1000000, 'price': 15, 'int_rate': 0.07, 'probability': 0.2}\n",
      "{'output': 500000, 'price': 12, 'int_rate': 0.05, 'probability': 0.7}\n",
      "{'output': 200000, 'price': 10, 'int_rate': 0.03, 'probability': 0.1}\n"
     ]
    }
   ],
   "source": [
    "for soe, input_dict in states_of_economy.items():\n",
    "    print(input_dict)"
   ]
  },
  {
   "cell_type": "code",
   "execution_count": 13,
   "metadata": {},
   "outputs": [
    {
     "name": "stdout",
     "output_type": "stream",
     "text": [
      "1000000\n",
      "500000\n",
      "200000\n"
     ]
    }
   ],
   "source": [
    "for soe, input_dict in states_of_economy.items():\n",
    "    print(input_dict['output'])"
   ]
  },
  {
   "cell_type": "markdown",
   "metadata": {},
   "source": [
    "Now let's build the loop which runs the model multiple times. We will use another dictionary to store the results."
   ]
  },
  {
   "cell_type": "code",
   "execution_count": 14,
   "metadata": {},
   "outputs": [
    {
     "data": {
      "text/plain": [
       "{'Expansion': 46188652.327460796,\n",
       " 'Normal': 9304337.322962027,\n",
       " 'Recession': -4881878.297934502}"
      ]
     },
     "execution_count": 14,
     "metadata": {},
     "output_type": "execute_result"
    }
   ],
   "source": [
    "output_dict = {}\n",
    "for soe, input_dict in states_of_economy.items():\n",
    "    npv = project_npv(\n",
    "        input_dict['output'],\n",
    "        input_dict['price'],\n",
    "        variable_cost,\n",
    "        project_cost,\n",
    "        input_dict['int_rate']\n",
    "    )\n",
    "    output_dict[soe] = npv\n",
    "output_dict"
   ]
  },
  {
   "cell_type": "markdown",
   "metadata": {},
   "source": [
    "Therefore the business is a failure in the recession, but a success in the other states of the economy."
   ]
  },
  {
   "cell_type": "markdown",
   "metadata": {},
   "source": [
    "One more loop to calculate expected value. This could have been done in the prior loop as well, but I separated them to make it more clear what's going on. Here we are calculating $E[X] = \\sum_{i=1}^N \\frac{x_i}{N}$"
   ]
  },
  {
   "cell_type": "code",
   "execution_count": 15,
   "metadata": {},
   "outputs": [
    {
     "data": {
      "text/plain": [
       "15262578.761772128"
      ]
     },
     "execution_count": 15,
     "metadata": {},
     "output_type": "execute_result"
    }
   ],
   "source": [
    "ev = 0\n",
    "for soe, input_dict in states_of_economy.items():\n",
    "    npv = output_dict[soe]  # look up previously stored result for this economy case\n",
    "    ev = ev + npv * input_dict['probability']\n",
    "ev"
   ]
  },
  {
   "cell_type": "markdown",
   "metadata": {},
   "source": [
    "Wrapping this all up in a function"
   ]
  },
  {
   "cell_type": "code",
   "execution_count": 16,
   "metadata": {},
   "outputs": [
    {
     "name": "stdout",
     "output_type": "stream",
     "text": [
      "{'Expansion': 46188652.327460796, 'Normal': 9304337.322962027, 'Recession': -4881878.297934502}\n"
     ]
    },
    {
     "data": {
      "text/plain": [
       "15262578.761772128"
      ]
     },
     "execution_count": 16,
     "metadata": {},
     "output_type": "execute_result"
    }
   ],
   "source": [
    "def project_npv_for_input_cases(input_cases, variable_cost, project_cost):\n",
    "    output_dict = {}\n",
    "    for soe, input_dict in states_of_economy.items():\n",
    "        npv = project_npv(\n",
    "            input_dict['output'],\n",
    "            input_dict['price'],\n",
    "            variable_cost,\n",
    "            project_cost,\n",
    "            input_dict['int_rate']\n",
    "        )\n",
    "        output_dict[soe] = npv\n",
    "    print(output_dict)\n",
    "    \n",
    "    ev = 0\n",
    "    for soe, input_dict in states_of_economy.items():\n",
    "        npv = output_dict[soe]  # look up previously stored result for this economy case\n",
    "        ev = ev + npv * input_dict['probability']\n",
    "    \n",
    "    return ev\n",
    "\n",
    "project_npv_for_input_cases(states_of_economy, variable_cost, project_cost)"
   ]
  },
  {
   "cell_type": "markdown",
   "metadata": {},
   "source": [
    "Same thing, but now adding some output formatting."
   ]
  },
  {
   "cell_type": "code",
   "execution_count": 17,
   "metadata": {},
   "outputs": [
    {
     "name": "stdout",
     "output_type": "stream",
     "text": [
      "NPV for a Expansion is $46,188,652\n",
      "NPV for a Normal is $9,304,337\n",
      "NPV for a Recession is $-4,881,878\n",
      "Expected Value: $15,262,579\n"
     ]
    }
   ],
   "source": [
    "def project_npv_for_input_cases(input_cases, variable_cost, project_cost):\n",
    "    output_dict = {}\n",
    "    for soe, input_dict in states_of_economy.items():\n",
    "        npv = project_npv(\n",
    "            input_dict['output'],\n",
    "            input_dict['price'],\n",
    "            variable_cost,\n",
    "            project_cost,\n",
    "            input_dict['int_rate']\n",
    "        )\n",
    "        output_dict[soe] = npv\n",
    "    \n",
    "    ev = 0\n",
    "    for soe, input_dict in states_of_economy.items():\n",
    "        npv = output_dict[soe]  # look up previously stored result for this economy case\n",
    "        ev = ev + npv * input_dict['probability']\n",
    "        \n",
    "    for soe, npv in output_dict.items():\n",
    "        print(f'NPV for a {soe} is ${npv:,.0f}')\n",
    "    print(f'Expected Value: ${ev:,.0f}')\n",
    "    \n",
    "    return ev\n",
    "\n",
    "project_npv_for_input_cases(states_of_economy, variable_cost, project_cost);"
   ]
  }
 ],
 "metadata": {
  "kernelspec": {
   "display_name": "Python 3",
   "language": "python",
   "name": "python3"
  },
  "language_info": {
   "codemirror_mode": {
    "name": "ipython",
    "version": 3
   },
   "file_extension": ".py",
   "mimetype": "text/x-python",
   "name": "python",
   "nbconvert_exporter": "python",
   "pygments_lexer": "ipython3",
   "version": "3.6.0"
  }
 },
 "nbformat": 4,
 "nbformat_minor": 4
}
