{
 "cells": [
  {
   "cell_type": "markdown",
   "metadata": {},
   "source": [
    "# Generating Asset Returns using CAPM"
   ]
  },
  {
   "cell_type": "markdown",
   "metadata": {},
   "source": [
    "We can break down this problem into a few steps:\n",
    "\n",
    "- Generate market returns from a normal distribution\n",
    "- Generate asset idiosyncratic standard deviations from normal distributions\n",
    "- Generate asset betas from a uniform distribution\n",
    "- Calculate CAPM for each asset to generate asset returns, also drawing the idiosyncratic return from a normal distribution\n",
    "- Calculate the correlation of the assets' returns\n",
    "\n",
    "But first, I will go to Excel and add the inputs table, the same that is shown in the problem document."
   ]
  },
  {
   "cell_type": "markdown",
   "metadata": {},
   "source": [
    "## Generate Market Returns from a Normal Distribution"
   ]
  },
  {
   "cell_type": "markdown",
   "metadata": {},
   "source": [
    "We have seen in other exercises that we can use `random.normalvariate` to pull values from a normal distribution."
   ]
  },
  {
   "cell_type": "code",
   "execution_count": 1,
   "metadata": {},
   "outputs": [
    {
     "data": {
      "text/plain": [
       "0.0756517312498459"
      ]
     },
     "execution_count": 1,
     "metadata": {},
     "output_type": "execute_result"
    }
   ],
   "source": [
    "import random\n",
    "\n",
    "mean = 0.05\n",
    "stdev = 0.1\n",
    "\n",
    "random.normalvariate(mean, stdev)"
   ]
  },
  {
   "cell_type": "markdown",
   "metadata": {},
   "source": [
    "But we want as many values as we have periods."
   ]
  },
  {
   "cell_type": "code",
   "execution_count": 2,
   "metadata": {},
   "outputs": [
    {
     "data": {
      "text/plain": [
       "[0.3796607328864173,\n",
       " -0.013015586831232898,\n",
       " 0.18408997588764386,\n",
       " -0.004944748887300107,\n",
       " 0.002372368078570594]"
      ]
     },
     "execution_count": 2,
     "metadata": {},
     "output_type": "execute_result"
    }
   ],
   "source": [
    "num_periods = 5\n",
    "random_values = []\n",
    "for i in range(num_periods):\n",
    "    random_values.append(random.normalvariate(mean, stdev))\n",
    "random_values"
   ]
  },
  {
   "cell_type": "markdown",
   "metadata": {},
   "source": [
    "Now just wrap this up in a function."
   ]
  },
  {
   "cell_type": "code",
   "execution_count": 3,
   "metadata": {},
   "outputs": [
    {
     "data": {
      "text/plain": [
       "[-5.088644029421385, 14.345142631130704, 38.77947296187832]"
      ]
     },
     "execution_count": 3,
     "metadata": {},
     "output_type": "execute_result"
    }
   ],
   "source": [
    "def n_random_normal(mean, stdev, num_periods):\n",
    "    random_values = []\n",
    "    for i in range(num_periods):\n",
    "        random_values.append(random.normalvariate(mean, stdev))\n",
    "    return random_values\n",
    "\n",
    "n_random_normal(10, 20, 3)"
   ]
  },
  {
   "cell_type": "markdown",
   "metadata": {},
   "source": [
    "As discussed in the Dynamic UDFs example, this will make it output horizontal, but I want it vertical in my model. With this change it will become vertical."
   ]
  },
  {
   "cell_type": "code",
   "execution_count": 4,
   "metadata": {},
   "outputs": [
    {
     "data": {
      "text/plain": [
       "[[14.325355040128365], [7.050079564419365], [35.199078996533395]]"
      ]
     },
     "execution_count": 4,
     "metadata": {},
     "output_type": "execute_result"
    }
   ],
   "source": [
    "def n_random_normal(mean, stdev, num_periods):\n",
    "    random_values = []\n",
    "    for i in range(num_periods):\n",
    "        random_values.append([random.normalvariate(mean, stdev)])\n",
    "    return random_values\n",
    "\n",
    "n_random_normal(10, 20, 3)"
   ]
  },
  {
   "cell_type": "markdown",
   "metadata": {},
   "source": [
    "Now make this an `xlwings` function so we can call it from excel. Add this to your `xlwings` project `.py` file."
   ]
  },
  {
   "cell_type": "raw",
   "metadata": {},
   "source": [
    "@xw.func\n",
    "@xw.arg('num_periods', numbers=int)\n",
    "@xw.ret(expand='vertical')\n",
    "def n_random_normal(mean, stdev, num_periods):\n",
    "    random_values = []\n",
    "    for i in range(num_periods):\n",
    "        random_values.append([random.normalvariate(mean, stdev)])\n",
    "    return random_values"
   ]
  },
  {
   "cell_type": "markdown",
   "metadata": {},
   "source": [
    "Don't forget to `import random` at the top as well. Now go to Excel, import functions, and generate the market returns using this function. You should now have a column with 20 random returns for the market return."
   ]
  },
  {
   "cell_type": "markdown",
   "metadata": {},
   "source": [
    "## Generate Asset Idiosyncratic Return Standard Deviations from Normal Distributions"
   ]
  },
  {
   "cell_type": "markdown",
   "metadata": {},
   "source": [
    "Here we are again generating a certain amount of numbers from a normal distribution. So we can actually use the previous function for this. But in my workbook, it makes sense for these to be laid out in rows rather than columns. So I will modify the function to accept an argument for whether it should output vertically or horizontally."
   ]
  },
  {
   "cell_type": "code",
   "execution_count": 5,
   "metadata": {},
   "outputs": [
    {
     "name": "stdout",
     "output_type": "stream",
     "text": [
      "Vertical: [[-0.2905436309917544], [6.760555049224479], [27.680099072939036]]\n",
      "Horizontal: [19.842695827720675, -2.3650502442403614, 12.785091125730997]\n"
     ]
    }
   ],
   "source": [
    "def n_random_normal(mean, stdev, num_periods, horizontal=False):\n",
    "    random_values = []\n",
    "    for i in range(num_periods):\n",
    "        num = random.normalvariate(mean, stdev)\n",
    "        if not horizontal:\n",
    "            num = [num]\n",
    "        random_values.append(num)\n",
    "    return random_values\n",
    "\n",
    "print(f'Vertical: {n_random_normal(5, 10, 3)}')\n",
    "print(f'Horizontal: {n_random_normal(5, 10, 3, horizontal=True)}')"
   ]
  },
  {
   "cell_type": "markdown",
   "metadata": {},
   "source": [
    "Now add back the `xlwings` stuff on the top. I'll also switch the return to be `expand='table'` now that it can go either horizontal or vertical."
   ]
  },
  {
   "cell_type": "raw",
   "metadata": {},
   "source": [
    "@xw.func\n",
    "@xw.arg('num_periods', numbers=int)\n",
    "@xw.ret(expand='table')\n",
    "def n_random_normal(mean, stdev, num_periods, horizontal=False):\n",
    "    random_values = []\n",
    "    for i in range(num_periods):\n",
    "        num = random.normalvariate(mean, stdev)\n",
    "        if not horizontal:\n",
    "            num = [num]\n",
    "        random_values.append(num)\n",
    "    return random_values"
   ]
  },
  {
   "cell_type": "markdown",
   "metadata": {},
   "source": [
    "Now call this function in Excel to generate the assets' idiosyncratic and standard deviations."
   ]
  },
  {
   "cell_type": "markdown",
   "metadata": {},
   "source": [
    "## Generate Asset Betas from a Uniform Distribution"
   ]
  },
  {
   "cell_type": "markdown",
   "metadata": {},
   "source": [
    "We can use `random.uniform` for this purpose. Just like the prior random number generator, we want to be able to pass it a parameter for how many numbers we want to generate."
   ]
  },
  {
   "cell_type": "code",
   "execution_count": 10,
   "metadata": {},
   "outputs": [
    {
     "data": {
      "text/plain": [
       "0.6771644268526513"
      ]
     },
     "execution_count": 10,
     "metadata": {},
     "output_type": "execute_result"
    }
   ],
   "source": [
    "bot = 0\n",
    "top = 2\n",
    "\n",
    "random.uniform(bot, top)"
   ]
  },
  {
   "cell_type": "code",
   "execution_count": 11,
   "metadata": {},
   "outputs": [
    {
     "data": {
      "text/plain": [
       "[0.8637176079320799, 0.5642825157171247, 1.7213534787353781]"
      ]
     },
     "execution_count": 11,
     "metadata": {},
     "output_type": "execute_result"
    }
   ],
   "source": [
    "nper = 3\n",
    "nums = []\n",
    "for i in range(nper):\n",
    "    num = random.uniform(bot, top)\n",
    "    nums.append(num)\n",
    "nums"
   ]
  },
  {
   "cell_type": "markdown",
   "metadata": {},
   "source": [
    "Wrap it up in a function"
   ]
  },
  {
   "cell_type": "code",
   "execution_count": 12,
   "metadata": {},
   "outputs": [
    {
     "data": {
      "text/plain": [
       "[4.237723232099332, 3.356470161431886, 2.0711376623220987, 2.398709885117479]"
      ]
     },
     "execution_count": 12,
     "metadata": {},
     "output_type": "execute_result"
    }
   ],
   "source": [
    "def n_random_uniform(bot, top, nper):\n",
    "    nums = []\n",
    "    for i in range(nper):\n",
    "        num = random.uniform(bot, top)\n",
    "        nums.append(num)\n",
    "    return nums\n",
    "\n",
    "n_random_uniform(0, 5, 4)"
   ]
  },
  {
   "cell_type": "markdown",
   "metadata": {},
   "source": [
    "With the current layout, it will output horizontally, which is what I want in my workbook. So I'm good to add the `xlwings` stuff."
   ]
  },
  {
   "cell_type": "raw",
   "metadata": {},
   "source": [
    "@xw.func\n",
    "@xw.arg('nper', numbers=int)\n",
    "@xw.ret(expand='horizontal')\n",
    "def n_random_uniform(bot, top, nper):\n",
    "    nums = []\n",
    "    for i in range(nper):\n",
    "        num = random.uniform(bot, top)\n",
    "        nums.append(num)\n",
    "    return nums"
   ]
  },
  {
   "cell_type": "markdown",
   "metadata": {},
   "source": [
    "Now call this function in Excel, passing 0, 2 and the number of assets."
   ]
  },
  {
   "cell_type": "markdown",
   "metadata": {},
   "source": [
    "## Calculate CAPM for each Asset to Generate Asset Returns, also Drawing the Idiosyncratic Return from a Normal Distribution"
   ]
  },
  {
   "cell_type": "markdown",
   "metadata": {},
   "source": [
    "Now for each asset, we want to calculate:\n",
    "\n",
    "$r_s = r_f + \\beta (r_m - r_f) + \\epsilon$\n",
    "\n",
    "We have $r_f$ as an input. We just calculated $\\beta$ and $r_m$. All that's left is drawing $\\epsilon$ from a normal distribution and calculating the formula.\n",
    "\n",
    "First let's just work towards a function that calculates CAPM."
   ]
  },
  {
   "cell_type": "code",
   "execution_count": 13,
   "metadata": {},
   "outputs": [
    {
     "data": {
      "text/plain": [
       "0.176"
      ]
     },
     "execution_count": 13,
     "metadata": {},
     "output_type": "execute_result"
    }
   ],
   "source": [
    "risk_free = 0.02\n",
    "beta = 0.7\n",
    "market_ret = 0.2\n",
    "epsilon = 0.03\n",
    "\n",
    "risk_free + beta * (market_ret - risk_free) + epsilon"
   ]
  },
  {
   "cell_type": "markdown",
   "metadata": {},
   "source": [
    "Ok it's working outside a function, now wrap it in a function."
   ]
  },
  {
   "cell_type": "code",
   "execution_count": 15,
   "metadata": {},
   "outputs": [
    {
     "data": {
      "text/plain": [
       "-0.019999999999999997"
      ]
     },
     "execution_count": 15,
     "metadata": {},
     "output_type": "execute_result"
    }
   ],
   "source": [
    "def capm(risk_free, beta, market_ret, epsilon):\n",
    "    return risk_free + beta * (market_ret - risk_free) + epsilon\n",
    "\n",
    "capm(0.01, 0.5, 0.07, -0.06)"
   ]
  },
  {
   "cell_type": "markdown",
   "metadata": {},
   "source": [
    "So now we have a function to get the stock return from CAPM. But we know that $\\epsilon$ is normally distributed with mean 0, and with a standard deviation that's passed in. So we can work this into the function as well."
   ]
  },
  {
   "cell_type": "code",
   "execution_count": 16,
   "metadata": {},
   "outputs": [
    {
     "data": {
      "text/plain": [
       "-0.001951486341375465"
      ]
     },
     "execution_count": 16,
     "metadata": {},
     "output_type": "execute_result"
    }
   ],
   "source": [
    "epsilon_stdev = 0.1\n",
    "epsilon = random.normalvariate(0, epsilon_stdev)\n",
    "\n",
    "capm(0.01, 0.5, 0.07, epsilon)"
   ]
  },
  {
   "cell_type": "markdown",
   "metadata": {},
   "source": [
    "Now wrap this up in a function."
   ]
  },
  {
   "cell_type": "code",
   "execution_count": 17,
   "metadata": {},
   "outputs": [
    {
     "data": {
      "text/plain": [
       "0.31841752642650956"
      ]
     },
     "execution_count": 17,
     "metadata": {},
     "output_type": "execute_result"
    }
   ],
   "source": [
    "def capm_auto_epsilon(risk_free, beta, market_ret, epsilon_stdev):\n",
    "    epsilon = random.normalvariate(0, epsilon_stdev)\n",
    "\n",
    "    return capm(risk_free, beta, market_ret, epsilon)\n",
    "\n",
    "capm_auto_epsilon(0.03, 1.5, 0.05, 0.2)"
   ]
  },
  {
   "cell_type": "markdown",
   "metadata": {},
   "source": [
    "But we will be taking the entire column of market returns, the entire row of betas, and the entire row of idiosyncratic standard deviations as inputs, as we need it to be resizing dynamically. So we need a version of the function that outputs a table of CAPM returns, based on a list of market returns, list of betas, and a number of assets."
   ]
  },
  {
   "cell_type": "code",
   "execution_count": 37,
   "metadata": {},
   "outputs": [
    {
     "data": {
      "text/html": [
       "<div>\n",
       "<style scoped>\n",
       "    .dataframe tbody tr th:only-of-type {\n",
       "        vertical-align: middle;\n",
       "    }\n",
       "\n",
       "    .dataframe tbody tr th {\n",
       "        vertical-align: top;\n",
       "    }\n",
       "\n",
       "    .dataframe thead th {\n",
       "        text-align: right;\n",
       "    }\n",
       "</style>\n",
       "<table border=\"1\" class=\"dataframe\">\n",
       "  <thead>\n",
       "    <tr style=\"text-align: right;\">\n",
       "      <th></th>\n",
       "      <th>Asset 1</th>\n",
       "      <th>Asset 2</th>\n",
       "    </tr>\n",
       "  </thead>\n",
       "  <tbody>\n",
       "    <tr>\n",
       "      <td>0</td>\n",
       "      <td>0.046952</td>\n",
       "      <td>0.050850</td>\n",
       "    </tr>\n",
       "    <tr>\n",
       "      <td>1</td>\n",
       "      <td>0.041520</td>\n",
       "      <td>0.015203</td>\n",
       "    </tr>\n",
       "    <tr>\n",
       "      <td>2</td>\n",
       "      <td>0.056440</td>\n",
       "      <td>0.118249</td>\n",
       "    </tr>\n",
       "  </tbody>\n",
       "</table>\n",
       "</div>"
      ],
      "text/plain": [
       "    Asset 1   Asset 2\n",
       "0  0.046952  0.050850\n",
       "1  0.041520  0.015203\n",
       "2  0.056440  0.118249"
      ]
     },
     "execution_count": 37,
     "metadata": {},
     "output_type": "execute_result"
    }
   ],
   "source": [
    "import pandas as pd\n",
    "\n",
    "num_assets = 2\n",
    "market_rets = [0.07, 0.05, 0.1]\n",
    "betas = [0.5, 1, 1.5]\n",
    "epsilon_stdevs = [0.01, -0.02, 0.05]\n",
    "\n",
    "df = pd.DataFrame()\n",
    "for i in range(num_assets):\n",
    "    beta = betas[i]\n",
    "    epsilon_stdev = epsilon_stdevs[i]\n",
    "    returns = [capm_auto_epsilon(risk_free, beta, market_ret, epsilon_stdev) for market_ret in market_rets]\n",
    "    df[f'Asset {i + 1}'] = returns\n",
    "df"
   ]
  },
  {
   "cell_type": "markdown",
   "metadata": {},
   "source": [
    "Now put this in a function."
   ]
  },
  {
   "cell_type": "code",
   "execution_count": 36,
   "metadata": {},
   "outputs": [
    {
     "data": {
      "text/html": [
       "<div>\n",
       "<style scoped>\n",
       "    .dataframe tbody tr th:only-of-type {\n",
       "        vertical-align: middle;\n",
       "    }\n",
       "\n",
       "    .dataframe tbody tr th {\n",
       "        vertical-align: top;\n",
       "    }\n",
       "\n",
       "    .dataframe thead th {\n",
       "        text-align: right;\n",
       "    }\n",
       "</style>\n",
       "<table border=\"1\" class=\"dataframe\">\n",
       "  <thead>\n",
       "    <tr style=\"text-align: right;\">\n",
       "      <th></th>\n",
       "      <th>Asset 1</th>\n",
       "      <th>Asset 2</th>\n",
       "      <th>Asset 3</th>\n",
       "      <th>Asset 4</th>\n",
       "      <th>Asset 5</th>\n",
       "    </tr>\n",
       "  </thead>\n",
       "  <tbody>\n",
       "    <tr>\n",
       "      <td>0</td>\n",
       "      <td>0.043436</td>\n",
       "      <td>0.034225</td>\n",
       "      <td>0.049691</td>\n",
       "      <td>0.070866</td>\n",
       "      <td>0.048018</td>\n",
       "    </tr>\n",
       "    <tr>\n",
       "      <td>1</td>\n",
       "      <td>0.039799</td>\n",
       "      <td>0.022794</td>\n",
       "      <td>0.035760</td>\n",
       "      <td>0.035616</td>\n",
       "      <td>0.036754</td>\n",
       "    </tr>\n",
       "    <tr>\n",
       "      <td>2</td>\n",
       "      <td>0.146770</td>\n",
       "      <td>0.126195</td>\n",
       "      <td>0.109261</td>\n",
       "      <td>0.044841</td>\n",
       "      <td>0.046520</td>\n",
       "    </tr>\n",
       "  </tbody>\n",
       "</table>\n",
       "</div>"
      ],
      "text/plain": [
       "    Asset 1   Asset 2   Asset 3   Asset 4   Asset 5\n",
       "0  0.043436  0.034225  0.049691  0.070866  0.048018\n",
       "1  0.039799  0.022794  0.035760  0.035616  0.036754\n",
       "2  0.146770  0.126195  0.109261  0.044841  0.046520"
      ]
     },
     "execution_count": 36,
     "metadata": {},
     "output_type": "execute_result"
    }
   ],
   "source": [
    "def multi_capm(risk_free, betas, market_rets, epsilon_stdevs, num_assets):\n",
    "    df = pd.DataFrame()\n",
    "    for i in range(num_assets):\n",
    "        beta = betas[i]\n",
    "        epsilon_stdev = epsilon_stdevs[i]\n",
    "        returns = [capm_auto_epsilon(risk_free, beta, market_ret, epsilon_stdev) for market_ret in market_rets]\n",
    "        df[f'Asset {i + 1}'] = returns\n",
    "    return df\n",
    "\n",
    "multi_capm(risk_free, betas, market_rets, epsilon_stdevs, 5)"
   ]
  },
  {
   "cell_type": "markdown",
   "metadata": {},
   "source": [
    "Now we can make this into an xlwings function. Note that we will have to bring over all of the functions we defined into the `.py` file, but only the one we want to call in Excel will get the `xlwings` stuff on it."
   ]
  },
  {
   "cell_type": "raw",
   "metadata": {},
   "source": [
    "def capm(risk_free, beta, market_ret, epsilon):\n",
    "    return risk_free + beta * (market_ret - risk_free) + epsilon\n",
    "\n",
    "\n",
    "def capm_auto_epsilon(risk_free, beta, market_ret, epsilon_stdev):\n",
    "    epsilon = random.normalvariate(0, epsilon_stdev)\n",
    "\n",
    "    return capm(risk_free, beta, market_ret, epsilon)\n",
    "\n",
    "\n",
    "@xw.func\n",
    "@xw.arg('market_rets', expand='vertical')\n",
    "@xw.arg('betas', expand='horizontal')\n",
    "@xw.arg('num_assets', numbers=int)\n",
    "@xw.ret(expand='table', index=False)\n",
    "def multi_capm(risk_free, betas, market_rets, epsilon_stdevs, num_assets):\n",
    "    df = pd.DataFrame()\n",
    "    for i in range(num_assets):\n",
    "        beta = betas[i]\n",
    "        epsilon_stdev = epsilon_stdevs[i]\n",
    "        returns = [capm_auto_epsilon(risk_free, beta, market_ret, epsilon_stdev) for market_ret in market_rets]\n",
    "        df[f'Asset {i + 1}'] = returns\n",
    "    return df"
   ]
  },
  {
   "cell_type": "markdown",
   "metadata": {},
   "source": [
    "Notice that I added `index=False` to the `@xw.ret` because I'm returning a `DataFrame` and I don't care about the index (0, 1, 2...)"
   ]
  },
  {
   "cell_type": "markdown",
   "metadata": {},
   "source": [
    "Don't forget to add `import pandas as pd` at the top as well. Now we can generate all the asset's returns by calling this function in Excel. We will call it at the top left of where we want the returns"
   ]
  },
  {
   "cell_type": "markdown",
   "metadata": {},
   "source": [
    "## Calculate Correlations between the Assets "
   ]
  },
  {
   "cell_type": "markdown",
   "metadata": {},
   "source": [
    "Luckily it is very easy to get the correlations with `pandas`. Just `df.corr()`. "
   ]
  },
  {
   "cell_type": "raw",
   "metadata": {},
   "source": [
    "@xw.func\n",
    "@xw.arg('data', pd.DataFrame, expand='table', index=False)\n",
    "@xw.ret(expand='table')\n",
    "def correlations(data):\n",
    "    return data.corr()"
   ]
  },
  {
   "cell_type": "markdown",
   "metadata": {},
   "source": [
    "Notice that I included `index=False` on `@xw.arg` so that it won't treat the first column of the data as an index.\n",
    "\n",
    "Just call this function on another sheet, referencing the top left cell of the data. If you see the correlations then you've completed the exercise."
   ]
  }
 ],
 "metadata": {
  "kernelspec": {
   "display_name": "Python 3",
   "language": "python",
   "name": "python3"
  },
  "language_info": {
   "codemirror_mode": {
    "name": "ipython",
    "version": 3
   },
   "file_extension": ".py",
   "mimetype": "text/x-python",
   "name": "python",
   "nbconvert_exporter": "python",
   "pygments_lexer": "ipython3",
   "version": "3.6.0"
  }
 },
 "nbformat": 4,
 "nbformat_minor": 4
}
