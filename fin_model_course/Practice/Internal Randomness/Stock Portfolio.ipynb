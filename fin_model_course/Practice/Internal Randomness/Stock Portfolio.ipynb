{
 "cells": [
  {
   "cell_type": "markdown",
   "metadata": {},
   "source": [
    "# Imports"
   ]
  },
  {
   "cell_type": "code",
   "execution_count": 1,
   "metadata": {},
   "outputs": [],
   "source": [
    "import pandas as pd\n",
    "import random\n",
    "%matplotlib inline"
   ]
  },
  {
   "cell_type": "markdown",
   "metadata": {},
   "source": [
    "# Inputs"
   ]
  },
  {
   "cell_type": "code",
   "execution_count": 2,
   "metadata": {},
   "outputs": [],
   "source": [
    "stock_a_weight = 0.6\n",
    "stock_a_mean_ret = 0.1\n",
    "stock_a_stdev = 0.3\n",
    "stock_b_mean_ret = 0.05\n",
    "stock_b_stdev = 0.1\n",
    "n_periods = 100\n",
    "base_price = 100"
   ]
  },
  {
   "cell_type": "markdown",
   "metadata": {},
   "source": [
    "## Simulating Returns"
   ]
  },
  {
   "cell_type": "markdown",
   "metadata": {},
   "source": [
    "We can use the `random.normalvariate` function to draw returns from a normal distribution. We just need to pass the mean and standard deviation. Run the next cell a few times and see it change. "
   ]
  },
  {
   "cell_type": "code",
   "execution_count": 3,
   "metadata": {},
   "outputs": [
    {
     "data": {
      "text/plain": [
       "-0.06003751712973657"
      ]
     },
     "execution_count": 3,
     "metadata": {},
     "output_type": "execute_result"
    }
   ],
   "source": [
    "random.normalvariate(stock_a_mean_ret, stock_a_stdev)"
   ]
  },
  {
   "cell_type": "markdown",
   "metadata": {},
   "source": [
    "But we don't want a single return, we want 100 periods of returns. A list comprehension works great for this purpose."
   ]
  },
  {
   "cell_type": "code",
   "execution_count": 4,
   "metadata": {},
   "outputs": [],
   "source": [
    "stock_a_rets = [random.normalvariate(stock_a_mean_ret, stock_a_stdev) for i in range(n_periods)]"
   ]
  },
  {
   "cell_type": "code",
   "execution_count": 5,
   "metadata": {},
   "outputs": [
    {
     "data": {
      "text/plain": [
       "[-0.05007245571504243,\n",
       " -0.1454978243271238,\n",
       " 0.044559013505450974,\n",
       " -0.07119197975120972,\n",
       " -0.010807524431576121,\n",
       " 0.35792965781788866,\n",
       " 0.28728912590512223,\n",
       " 0.07523506146025115,\n",
       " -0.22778047741543458,\n",
       " -0.3755467011699237]"
      ]
     },
     "execution_count": 5,
     "metadata": {},
     "output_type": "execute_result"
    }
   ],
   "source": [
    "stock_a_rets[:10]"
   ]
  },
  {
   "cell_type": "code",
   "execution_count": 6,
   "metadata": {},
   "outputs": [
    {
     "data": {
      "text/plain": [
       "100"
      ]
     },
     "execution_count": 6,
     "metadata": {},
     "output_type": "execute_result"
    }
   ],
   "source": [
    "len(stock_a_rets)"
   ]
  },
  {
   "cell_type": "markdown",
   "metadata": {},
   "source": [
    "Let's wrap this in a function so we can reuse it for both stocks."
   ]
  },
  {
   "cell_type": "code",
   "execution_count": 7,
   "metadata": {},
   "outputs": [
    {
     "data": {
      "text/plain": [
       "[-0.06904483096064337,\n",
       " -0.2607373489474416,\n",
       " -0.05331123262076276,\n",
       " 0.19499456485140926,\n",
       " -0.36847402863369405,\n",
       " -0.1834856048157936,\n",
       " -0.05215238492508878,\n",
       " 0.2618769675695804,\n",
       " 0.4171428841957724,\n",
       " 0.17065919195697724]"
      ]
     },
     "execution_count": 7,
     "metadata": {},
     "output_type": "execute_result"
    }
   ],
   "source": [
    "def returns_for_stock(mean, stdev, n_periods):\n",
    "    stock_rets = [random.normalvariate(mean, stdev) for i in range(n_periods)]\n",
    "    return stock_rets\n",
    "\n",
    "returns_for_stock(stock_a_mean_ret, stock_a_stdev, n_periods)[:10]"
   ]
  },
  {
   "cell_type": "markdown",
   "metadata": {},
   "source": [
    "## Calculating Prices"
   ]
  },
  {
   "cell_type": "markdown",
   "metadata": {},
   "source": [
    "There are a number of different ways to get the prices over time from the returns. We could loop through the returns, taking the prior price and multiplying it by 1 + the current return, and appending the price to a list. But I will show an approach in Pandas that uses cumulative gross returns."
   ]
  },
  {
   "cell_type": "markdown",
   "metadata": {},
   "source": [
    "First create the `DataFrame` and add returns data."
   ]
  },
  {
   "cell_type": "code",
   "execution_count": 8,
   "metadata": {},
   "outputs": [
    {
     "data": {
      "text/html": [
       "<div>\n",
       "<style scoped>\n",
       "    .dataframe tbody tr th:only-of-type {\n",
       "        vertical-align: middle;\n",
       "    }\n",
       "\n",
       "    .dataframe tbody tr th {\n",
       "        vertical-align: top;\n",
       "    }\n",
       "\n",
       "    .dataframe thead th {\n",
       "        text-align: right;\n",
       "    }\n",
       "</style>\n",
       "<table border=\"1\" class=\"dataframe\">\n",
       "  <thead>\n",
       "    <tr style=\"text-align: right;\">\n",
       "      <th></th>\n",
       "      <th>Stock A Return</th>\n",
       "      <th>Stock B Return</th>\n",
       "    </tr>\n",
       "  </thead>\n",
       "  <tbody>\n",
       "    <tr>\n",
       "      <td>0</td>\n",
       "      <td>0.301510</td>\n",
       "      <td>-0.147742</td>\n",
       "    </tr>\n",
       "    <tr>\n",
       "      <td>1</td>\n",
       "      <td>0.405175</td>\n",
       "      <td>-0.080882</td>\n",
       "    </tr>\n",
       "    <tr>\n",
       "      <td>2</td>\n",
       "      <td>-0.142255</td>\n",
       "      <td>0.013351</td>\n",
       "    </tr>\n",
       "    <tr>\n",
       "      <td>3</td>\n",
       "      <td>-0.165141</td>\n",
       "      <td>0.113993</td>\n",
       "    </tr>\n",
       "    <tr>\n",
       "      <td>4</td>\n",
       "      <td>0.078255</td>\n",
       "      <td>0.078123</td>\n",
       "    </tr>\n",
       "  </tbody>\n",
       "</table>\n",
       "</div>"
      ],
      "text/plain": [
       "   Stock A Return  Stock B Return\n",
       "0        0.301510       -0.147742\n",
       "1        0.405175       -0.080882\n",
       "2       -0.142255        0.013351\n",
       "3       -0.165141        0.113993\n",
       "4        0.078255        0.078123"
      ]
     },
     "execution_count": 8,
     "metadata": {},
     "output_type": "execute_result"
    }
   ],
   "source": [
    "df = pd.DataFrame()\n",
    "df['Stock A Return'] = returns_for_stock(stock_a_mean_ret, stock_a_stdev, n_periods)\n",
    "df['Stock B Return'] = returns_for_stock(stock_b_mean_ret, stock_b_stdev, n_periods)\n",
    "df.head()  # displays the first few rows"
   ]
  },
  {
   "cell_type": "markdown",
   "metadata": {},
   "source": [
    "To get prices from these returns, we will need to cumulate the returns. To do that, we must first calculate gross returns, which is $1 + r$"
   ]
  },
  {
   "cell_type": "code",
   "execution_count": 9,
   "metadata": {},
   "outputs": [
    {
     "data": {
      "text/html": [
       "<div>\n",
       "<style scoped>\n",
       "    .dataframe tbody tr th:only-of-type {\n",
       "        vertical-align: middle;\n",
       "    }\n",
       "\n",
       "    .dataframe tbody tr th {\n",
       "        vertical-align: top;\n",
       "    }\n",
       "\n",
       "    .dataframe thead th {\n",
       "        text-align: right;\n",
       "    }\n",
       "</style>\n",
       "<table border=\"1\" class=\"dataframe\">\n",
       "  <thead>\n",
       "    <tr style=\"text-align: right;\">\n",
       "      <th></th>\n",
       "      <th>Stock A Return</th>\n",
       "      <th>Stock B Return</th>\n",
       "      <th>Stock A Gross Ret</th>\n",
       "    </tr>\n",
       "  </thead>\n",
       "  <tbody>\n",
       "    <tr>\n",
       "      <td>0</td>\n",
       "      <td>0.301510</td>\n",
       "      <td>-0.147742</td>\n",
       "      <td>1.301510</td>\n",
       "    </tr>\n",
       "    <tr>\n",
       "      <td>1</td>\n",
       "      <td>0.405175</td>\n",
       "      <td>-0.080882</td>\n",
       "      <td>1.405175</td>\n",
       "    </tr>\n",
       "    <tr>\n",
       "      <td>2</td>\n",
       "      <td>-0.142255</td>\n",
       "      <td>0.013351</td>\n",
       "      <td>0.857745</td>\n",
       "    </tr>\n",
       "    <tr>\n",
       "      <td>3</td>\n",
       "      <td>-0.165141</td>\n",
       "      <td>0.113993</td>\n",
       "      <td>0.834859</td>\n",
       "    </tr>\n",
       "    <tr>\n",
       "      <td>4</td>\n",
       "      <td>0.078255</td>\n",
       "      <td>0.078123</td>\n",
       "      <td>1.078255</td>\n",
       "    </tr>\n",
       "  </tbody>\n",
       "</table>\n",
       "</div>"
      ],
      "text/plain": [
       "   Stock A Return  Stock B Return  Stock A Gross Ret\n",
       "0        0.301510       -0.147742           1.301510\n",
       "1        0.405175       -0.080882           1.405175\n",
       "2       -0.142255        0.013351           0.857745\n",
       "3       -0.165141        0.113993           0.834859\n",
       "4        0.078255        0.078123           1.078255"
      ]
     },
     "execution_count": 9,
     "metadata": {},
     "output_type": "execute_result"
    }
   ],
   "source": [
    "df['Stock A Gross Ret'] = 1 + df['Stock A Return']\n",
    "df.head()"
   ]
  },
  {
   "cell_type": "markdown",
   "metadata": {},
   "source": [
    "Now we can actually cumulate these returns, creating a return factor. We want the cumulative product of the returns, each gross return up until that point multiplied together."
   ]
  },
  {
   "cell_type": "code",
   "execution_count": 10,
   "metadata": {},
   "outputs": [
    {
     "data": {
      "text/html": [
       "<div>\n",
       "<style scoped>\n",
       "    .dataframe tbody tr th:only-of-type {\n",
       "        vertical-align: middle;\n",
       "    }\n",
       "\n",
       "    .dataframe tbody tr th {\n",
       "        vertical-align: top;\n",
       "    }\n",
       "\n",
       "    .dataframe thead th {\n",
       "        text-align: right;\n",
       "    }\n",
       "</style>\n",
       "<table border=\"1\" class=\"dataframe\">\n",
       "  <thead>\n",
       "    <tr style=\"text-align: right;\">\n",
       "      <th></th>\n",
       "      <th>Stock A Return</th>\n",
       "      <th>Stock B Return</th>\n",
       "      <th>Stock A Gross Ret</th>\n",
       "      <th>Stock A Cumret</th>\n",
       "    </tr>\n",
       "  </thead>\n",
       "  <tbody>\n",
       "    <tr>\n",
       "      <td>0</td>\n",
       "      <td>0.301510</td>\n",
       "      <td>-0.147742</td>\n",
       "      <td>1.301510</td>\n",
       "      <td>1.301510</td>\n",
       "    </tr>\n",
       "    <tr>\n",
       "      <td>1</td>\n",
       "      <td>0.405175</td>\n",
       "      <td>-0.080882</td>\n",
       "      <td>1.405175</td>\n",
       "      <td>1.828850</td>\n",
       "    </tr>\n",
       "    <tr>\n",
       "      <td>2</td>\n",
       "      <td>-0.142255</td>\n",
       "      <td>0.013351</td>\n",
       "      <td>0.857745</td>\n",
       "      <td>1.568687</td>\n",
       "    </tr>\n",
       "    <tr>\n",
       "      <td>3</td>\n",
       "      <td>-0.165141</td>\n",
       "      <td>0.113993</td>\n",
       "      <td>0.834859</td>\n",
       "      <td>1.309632</td>\n",
       "    </tr>\n",
       "    <tr>\n",
       "      <td>4</td>\n",
       "      <td>0.078255</td>\n",
       "      <td>0.078123</td>\n",
       "      <td>1.078255</td>\n",
       "      <td>1.412117</td>\n",
       "    </tr>\n",
       "  </tbody>\n",
       "</table>\n",
       "</div>"
      ],
      "text/plain": [
       "   Stock A Return  Stock B Return  Stock A Gross Ret  Stock A Cumret\n",
       "0        0.301510       -0.147742           1.301510        1.301510\n",
       "1        0.405175       -0.080882           1.405175        1.828850\n",
       "2       -0.142255        0.013351           0.857745        1.568687\n",
       "3       -0.165141        0.113993           0.834859        1.309632\n",
       "4        0.078255        0.078123           1.078255        1.412117"
      ]
     },
     "execution_count": 10,
     "metadata": {},
     "output_type": "execute_result"
    }
   ],
   "source": [
    "df['Stock A Cumret'] = df['Stock A Gross Ret'].cumprod()\n",
    "df.head()"
   ]
  },
  {
   "cell_type": "markdown",
   "metadata": {},
   "source": [
    "You can see that the cumulative returns are taking into account all the prior returns. Now the price in each period is simply the beginning price multiplied by the cumulative gross return."
   ]
  },
  {
   "cell_type": "code",
   "execution_count": 11,
   "metadata": {},
   "outputs": [
    {
     "data": {
      "text/html": [
       "<div>\n",
       "<style scoped>\n",
       "    .dataframe tbody tr th:only-of-type {\n",
       "        vertical-align: middle;\n",
       "    }\n",
       "\n",
       "    .dataframe tbody tr th {\n",
       "        vertical-align: top;\n",
       "    }\n",
       "\n",
       "    .dataframe thead th {\n",
       "        text-align: right;\n",
       "    }\n",
       "</style>\n",
       "<table border=\"1\" class=\"dataframe\">\n",
       "  <thead>\n",
       "    <tr style=\"text-align: right;\">\n",
       "      <th></th>\n",
       "      <th>Stock A Return</th>\n",
       "      <th>Stock B Return</th>\n",
       "      <th>Stock A Gross Ret</th>\n",
       "      <th>Stock A Cumret</th>\n",
       "      <th>Stock A Price</th>\n",
       "    </tr>\n",
       "  </thead>\n",
       "  <tbody>\n",
       "    <tr>\n",
       "      <td>0</td>\n",
       "      <td>0.301510</td>\n",
       "      <td>-0.147742</td>\n",
       "      <td>1.301510</td>\n",
       "      <td>1.301510</td>\n",
       "      <td>130.151036</td>\n",
       "    </tr>\n",
       "    <tr>\n",
       "      <td>1</td>\n",
       "      <td>0.405175</td>\n",
       "      <td>-0.080882</td>\n",
       "      <td>1.405175</td>\n",
       "      <td>1.828850</td>\n",
       "      <td>182.884957</td>\n",
       "    </tr>\n",
       "    <tr>\n",
       "      <td>2</td>\n",
       "      <td>-0.142255</td>\n",
       "      <td>0.013351</td>\n",
       "      <td>0.857745</td>\n",
       "      <td>1.568687</td>\n",
       "      <td>156.868654</td>\n",
       "    </tr>\n",
       "    <tr>\n",
       "      <td>3</td>\n",
       "      <td>-0.165141</td>\n",
       "      <td>0.113993</td>\n",
       "      <td>0.834859</td>\n",
       "      <td>1.309632</td>\n",
       "      <td>130.963182</td>\n",
       "    </tr>\n",
       "    <tr>\n",
       "      <td>4</td>\n",
       "      <td>0.078255</td>\n",
       "      <td>0.078123</td>\n",
       "      <td>1.078255</td>\n",
       "      <td>1.412117</td>\n",
       "      <td>141.211651</td>\n",
       "    </tr>\n",
       "  </tbody>\n",
       "</table>\n",
       "</div>"
      ],
      "text/plain": [
       "   Stock A Return  Stock B Return  Stock A Gross Ret  Stock A Cumret  \\\n",
       "0        0.301510       -0.147742           1.301510        1.301510   \n",
       "1        0.405175       -0.080882           1.405175        1.828850   \n",
       "2       -0.142255        0.013351           0.857745        1.568687   \n",
       "3       -0.165141        0.113993           0.834859        1.309632   \n",
       "4        0.078255        0.078123           1.078255        1.412117   \n",
       "\n",
       "   Stock A Price  \n",
       "0     130.151036  \n",
       "1     182.884957  \n",
       "2     156.868654  \n",
       "3     130.963182  \n",
       "4     141.211651  "
      ]
     },
     "execution_count": 11,
     "metadata": {},
     "output_type": "execute_result"
    }
   ],
   "source": [
    "df['Stock A Price'] = base_price * df['Stock A Cumret']\n",
    "df.head()"
   ]
  },
  {
   "cell_type": "markdown",
   "metadata": {},
   "source": [
    "Now we want to just clean up the columns we don't need, by dropping them. You must pass `axis=1` to drop columns. The default, `axis=0`, drops rows."
   ]
  },
  {
   "cell_type": "code",
   "execution_count": 12,
   "metadata": {},
   "outputs": [
    {
     "data": {
      "text/html": [
       "<div>\n",
       "<style scoped>\n",
       "    .dataframe tbody tr th:only-of-type {\n",
       "        vertical-align: middle;\n",
       "    }\n",
       "\n",
       "    .dataframe tbody tr th {\n",
       "        vertical-align: top;\n",
       "    }\n",
       "\n",
       "    .dataframe thead th {\n",
       "        text-align: right;\n",
       "    }\n",
       "</style>\n",
       "<table border=\"1\" class=\"dataframe\">\n",
       "  <thead>\n",
       "    <tr style=\"text-align: right;\">\n",
       "      <th></th>\n",
       "      <th>Stock A Return</th>\n",
       "      <th>Stock B Return</th>\n",
       "      <th>Stock A Price</th>\n",
       "    </tr>\n",
       "  </thead>\n",
       "  <tbody>\n",
       "    <tr>\n",
       "      <td>0</td>\n",
       "      <td>0.301510</td>\n",
       "      <td>-0.147742</td>\n",
       "      <td>130.151036</td>\n",
       "    </tr>\n",
       "    <tr>\n",
       "      <td>1</td>\n",
       "      <td>0.405175</td>\n",
       "      <td>-0.080882</td>\n",
       "      <td>182.884957</td>\n",
       "    </tr>\n",
       "    <tr>\n",
       "      <td>2</td>\n",
       "      <td>-0.142255</td>\n",
       "      <td>0.013351</td>\n",
       "      <td>156.868654</td>\n",
       "    </tr>\n",
       "    <tr>\n",
       "      <td>3</td>\n",
       "      <td>-0.165141</td>\n",
       "      <td>0.113993</td>\n",
       "      <td>130.963182</td>\n",
       "    </tr>\n",
       "    <tr>\n",
       "      <td>4</td>\n",
       "      <td>0.078255</td>\n",
       "      <td>0.078123</td>\n",
       "      <td>141.211651</td>\n",
       "    </tr>\n",
       "  </tbody>\n",
       "</table>\n",
       "</div>"
      ],
      "text/plain": [
       "   Stock A Return  Stock B Return  Stock A Price\n",
       "0        0.301510       -0.147742     130.151036\n",
       "1        0.405175       -0.080882     182.884957\n",
       "2       -0.142255        0.013351     156.868654\n",
       "3       -0.165141        0.113993     130.963182\n",
       "4        0.078255        0.078123     141.211651"
      ]
     },
     "execution_count": 12,
     "metadata": {},
     "output_type": "execute_result"
    }
   ],
   "source": [
    "df = df.drop(['Stock A Cumret', 'Stock A Gross Ret'], axis=1)\n",
    "\n",
    "df.head()"
   ]
  },
  {
   "cell_type": "markdown",
   "metadata": {},
   "source": [
    "We need to repeat this process for stock B. We will also need to do this again later for the portfolio. So let's write a function to avoid repeating the same steps."
   ]
  },
  {
   "cell_type": "code",
   "execution_count": 13,
   "metadata": {},
   "outputs": [
    {
     "data": {
      "text/html": [
       "<div>\n",
       "<style scoped>\n",
       "    .dataframe tbody tr th:only-of-type {\n",
       "        vertical-align: middle;\n",
       "    }\n",
       "\n",
       "    .dataframe tbody tr th {\n",
       "        vertical-align: top;\n",
       "    }\n",
       "\n",
       "    .dataframe thead th {\n",
       "        text-align: right;\n",
       "    }\n",
       "</style>\n",
       "<table border=\"1\" class=\"dataframe\">\n",
       "  <thead>\n",
       "    <tr style=\"text-align: right;\">\n",
       "      <th></th>\n",
       "      <th>Stock A Return</th>\n",
       "      <th>Stock B Return</th>\n",
       "      <th>Stock A Price</th>\n",
       "      <th>Stock B Price</th>\n",
       "    </tr>\n",
       "  </thead>\n",
       "  <tbody>\n",
       "    <tr>\n",
       "      <td>0</td>\n",
       "      <td>0.301510</td>\n",
       "      <td>-0.147742</td>\n",
       "      <td>130.151036</td>\n",
       "      <td>85.225826</td>\n",
       "    </tr>\n",
       "    <tr>\n",
       "      <td>1</td>\n",
       "      <td>0.405175</td>\n",
       "      <td>-0.080882</td>\n",
       "      <td>182.884957</td>\n",
       "      <td>78.332560</td>\n",
       "    </tr>\n",
       "    <tr>\n",
       "      <td>2</td>\n",
       "      <td>-0.142255</td>\n",
       "      <td>0.013351</td>\n",
       "      <td>156.868654</td>\n",
       "      <td>79.378355</td>\n",
       "    </tr>\n",
       "    <tr>\n",
       "      <td>3</td>\n",
       "      <td>-0.165141</td>\n",
       "      <td>0.113993</td>\n",
       "      <td>130.963182</td>\n",
       "      <td>88.426937</td>\n",
       "    </tr>\n",
       "    <tr>\n",
       "      <td>4</td>\n",
       "      <td>0.078255</td>\n",
       "      <td>0.078123</td>\n",
       "      <td>141.211651</td>\n",
       "      <td>95.335122</td>\n",
       "    </tr>\n",
       "  </tbody>\n",
       "</table>\n",
       "</div>"
      ],
      "text/plain": [
       "   Stock A Return  Stock B Return  Stock A Price  Stock B Price\n",
       "0        0.301510       -0.147742     130.151036      85.225826\n",
       "1        0.405175       -0.080882     182.884957      78.332560\n",
       "2       -0.142255        0.013351     156.868654      79.378355\n",
       "3       -0.165141        0.113993     130.963182      88.426937\n",
       "4        0.078255        0.078123     141.211651      95.335122"
      ]
     },
     "execution_count": 13,
     "metadata": {},
     "output_type": "execute_result"
    }
   ],
   "source": [
    "def add_price_to_df_from_returns(df, asset_name='Stock A'):\n",
    "    df[f'{asset_name} Gross Ret'] = 1 + df[f'{asset_name} Return']\n",
    "    df[f'{asset_name} Cumret'] = df[f'{asset_name} Gross Ret'].cumprod()\n",
    "    df[f'{asset_name} Price'] = base_price * df[f'{asset_name} Cumret']\n",
    "    df = df.drop([f'{asset_name} Cumret', f'{asset_name} Gross Ret'], axis=1)\n",
    "    return df\n",
    "\n",
    "df = add_price_to_df_from_returns(df, 'Stock B')\n",
    "df.head()"
   ]
  },
  {
   "cell_type": "markdown",
   "metadata": {},
   "source": [
    "Now let's write one function which wraps this all together."
   ]
  },
  {
   "cell_type": "code",
   "execution_count": 14,
   "metadata": {},
   "outputs": [
    {
     "data": {
      "text/html": [
       "<div>\n",
       "<style scoped>\n",
       "    .dataframe tbody tr th:only-of-type {\n",
       "        vertical-align: middle;\n",
       "    }\n",
       "\n",
       "    .dataframe tbody tr th {\n",
       "        vertical-align: top;\n",
       "    }\n",
       "\n",
       "    .dataframe thead th {\n",
       "        text-align: right;\n",
       "    }\n",
       "</style>\n",
       "<table border=\"1\" class=\"dataframe\">\n",
       "  <thead>\n",
       "    <tr style=\"text-align: right;\">\n",
       "      <th></th>\n",
       "      <th>Stock A Return</th>\n",
       "      <th>Stock B Return</th>\n",
       "      <th>Stock A Price</th>\n",
       "      <th>Stock B Price</th>\n",
       "    </tr>\n",
       "  </thead>\n",
       "  <tbody>\n",
       "    <tr>\n",
       "      <td>0</td>\n",
       "      <td>-0.042370</td>\n",
       "      <td>0.050866</td>\n",
       "      <td>95.762982</td>\n",
       "      <td>105.086602</td>\n",
       "    </tr>\n",
       "    <tr>\n",
       "      <td>1</td>\n",
       "      <td>0.431348</td>\n",
       "      <td>-0.027825</td>\n",
       "      <td>137.070136</td>\n",
       "      <td>102.162532</td>\n",
       "    </tr>\n",
       "    <tr>\n",
       "      <td>2</td>\n",
       "      <td>0.051825</td>\n",
       "      <td>0.005980</td>\n",
       "      <td>144.173789</td>\n",
       "      <td>102.773501</td>\n",
       "    </tr>\n",
       "    <tr>\n",
       "      <td>3</td>\n",
       "      <td>-0.056866</td>\n",
       "      <td>0.062732</td>\n",
       "      <td>135.975149</td>\n",
       "      <td>109.220733</td>\n",
       "    </tr>\n",
       "    <tr>\n",
       "      <td>4</td>\n",
       "      <td>-0.062271</td>\n",
       "      <td>-0.153272</td>\n",
       "      <td>127.507889</td>\n",
       "      <td>92.480274</td>\n",
       "    </tr>\n",
       "  </tbody>\n",
       "</table>\n",
       "</div>"
      ],
      "text/plain": [
       "   Stock A Return  Stock B Return  Stock A Price  Stock B Price\n",
       "0       -0.042370        0.050866      95.762982     105.086602\n",
       "1        0.431348       -0.027825     137.070136     102.162532\n",
       "2        0.051825        0.005980     144.173789     102.773501\n",
       "3       -0.056866        0.062732     135.975149     109.220733\n",
       "4       -0.062271       -0.153272     127.507889      92.480274"
      ]
     },
     "execution_count": 14,
     "metadata": {},
     "output_type": "execute_result"
    }
   ],
   "source": [
    "def stock_df(stock_a_mean_ret, stock_a_stdev, stock_b_mean_ret, stock_b_stdev, n_periods, base_price):\n",
    "    df = pd.DataFrame()\n",
    "    df['Stock A Return'] = returns_for_stock(stock_a_mean_ret, stock_a_stdev, n_periods)\n",
    "    df['Stock B Return'] = returns_for_stock(stock_b_mean_ret, stock_b_stdev, n_periods)\n",
    "    df = add_price_to_df_from_returns(df, 'Stock A')\n",
    "    df = add_price_to_df_from_returns(df, 'Stock B')\n",
    "    \n",
    "    return df\n",
    "\n",
    "stock_df(stock_a_mean_ret, stock_a_stdev, stock_b_mean_ret, stock_b_stdev, n_periods, base_price).head()"
   ]
  },
  {
   "cell_type": "markdown",
   "metadata": {},
   "source": [
    "# Portfolio Returns and Prices"
   ]
  },
  {
   "cell_type": "markdown",
   "metadata": {},
   "source": [
    "### Stock Weight for B"
   ]
  },
  {
   "cell_type": "markdown",
   "metadata": {},
   "source": [
    "First calculate the weight for stock B. As the two weights must sum to 1, $w_b = 1 - w_a$"
   ]
  },
  {
   "cell_type": "code",
   "execution_count": 15,
   "metadata": {},
   "outputs": [
    {
     "data": {
      "text/plain": [
       "0.4"
      ]
     },
     "execution_count": 15,
     "metadata": {},
     "output_type": "execute_result"
    }
   ],
   "source": [
    "stock_b_weight = 1 - stock_a_weight\n",
    "stock_b_weight"
   ]
  },
  {
   "cell_type": "markdown",
   "metadata": {},
   "source": [
    "Create the stock `DataFrame` using the function from the last section"
   ]
  },
  {
   "cell_type": "code",
   "execution_count": 16,
   "metadata": {},
   "outputs": [
    {
     "data": {
      "text/html": [
       "<div>\n",
       "<style scoped>\n",
       "    .dataframe tbody tr th:only-of-type {\n",
       "        vertical-align: middle;\n",
       "    }\n",
       "\n",
       "    .dataframe tbody tr th {\n",
       "        vertical-align: top;\n",
       "    }\n",
       "\n",
       "    .dataframe thead th {\n",
       "        text-align: right;\n",
       "    }\n",
       "</style>\n",
       "<table border=\"1\" class=\"dataframe\">\n",
       "  <thead>\n",
       "    <tr style=\"text-align: right;\">\n",
       "      <th></th>\n",
       "      <th>Stock A Return</th>\n",
       "      <th>Stock B Return</th>\n",
       "      <th>Stock A Price</th>\n",
       "      <th>Stock B Price</th>\n",
       "    </tr>\n",
       "  </thead>\n",
       "  <tbody>\n",
       "    <tr>\n",
       "      <td>0</td>\n",
       "      <td>-0.234025</td>\n",
       "      <td>0.045833</td>\n",
       "      <td>76.597527</td>\n",
       "      <td>104.583286</td>\n",
       "    </tr>\n",
       "    <tr>\n",
       "      <td>1</td>\n",
       "      <td>0.654436</td>\n",
       "      <td>-0.073842</td>\n",
       "      <td>126.725742</td>\n",
       "      <td>96.860614</td>\n",
       "    </tr>\n",
       "    <tr>\n",
       "      <td>2</td>\n",
       "      <td>-0.292060</td>\n",
       "      <td>0.148583</td>\n",
       "      <td>89.714180</td>\n",
       "      <td>111.252411</td>\n",
       "    </tr>\n",
       "    <tr>\n",
       "      <td>3</td>\n",
       "      <td>0.015576</td>\n",
       "      <td>0.043833</td>\n",
       "      <td>91.111572</td>\n",
       "      <td>116.128974</td>\n",
       "    </tr>\n",
       "    <tr>\n",
       "      <td>4</td>\n",
       "      <td>-0.364478</td>\n",
       "      <td>0.007461</td>\n",
       "      <td>57.903408</td>\n",
       "      <td>116.995456</td>\n",
       "    </tr>\n",
       "  </tbody>\n",
       "</table>\n",
       "</div>"
      ],
      "text/plain": [
       "   Stock A Return  Stock B Return  Stock A Price  Stock B Price\n",
       "0       -0.234025        0.045833      76.597527     104.583286\n",
       "1        0.654436       -0.073842     126.725742      96.860614\n",
       "2       -0.292060        0.148583      89.714180     111.252411\n",
       "3        0.015576        0.043833      91.111572     116.128974\n",
       "4       -0.364478        0.007461      57.903408     116.995456"
      ]
     },
     "execution_count": 16,
     "metadata": {},
     "output_type": "execute_result"
    }
   ],
   "source": [
    "df = stock_df(stock_a_mean_ret, stock_a_stdev, stock_b_mean_ret, stock_b_stdev, n_periods, base_price)\n",
    "df.head()"
   ]
  },
  {
   "cell_type": "markdown",
   "metadata": {},
   "source": [
    "Portfolio return is just the weighted average of the individual asset returns. The weighted average is each of the weights of the assets multiplied by the return on that asset, and all summed up at the end:\n",
    "\n",
    "$$ r_p = \\sum_{i=1}^N w_i r_i$$"
   ]
  },
  {
   "cell_type": "code",
   "execution_count": 17,
   "metadata": {},
   "outputs": [
    {
     "data": {
      "text/html": [
       "<div>\n",
       "<style scoped>\n",
       "    .dataframe tbody tr th:only-of-type {\n",
       "        vertical-align: middle;\n",
       "    }\n",
       "\n",
       "    .dataframe tbody tr th {\n",
       "        vertical-align: top;\n",
       "    }\n",
       "\n",
       "    .dataframe thead th {\n",
       "        text-align: right;\n",
       "    }\n",
       "</style>\n",
       "<table border=\"1\" class=\"dataframe\">\n",
       "  <thead>\n",
       "    <tr style=\"text-align: right;\">\n",
       "      <th></th>\n",
       "      <th>Stock A Return</th>\n",
       "      <th>Stock B Return</th>\n",
       "      <th>Stock A Price</th>\n",
       "      <th>Stock B Price</th>\n",
       "      <th>Portfolio Return</th>\n",
       "    </tr>\n",
       "  </thead>\n",
       "  <tbody>\n",
       "    <tr>\n",
       "      <td>0</td>\n",
       "      <td>-0.234025</td>\n",
       "      <td>0.045833</td>\n",
       "      <td>76.597527</td>\n",
       "      <td>104.583286</td>\n",
       "      <td>-0.122082</td>\n",
       "    </tr>\n",
       "    <tr>\n",
       "      <td>1</td>\n",
       "      <td>0.654436</td>\n",
       "      <td>-0.073842</td>\n",
       "      <td>126.725742</td>\n",
       "      <td>96.860614</td>\n",
       "      <td>0.363125</td>\n",
       "    </tr>\n",
       "    <tr>\n",
       "      <td>2</td>\n",
       "      <td>-0.292060</td>\n",
       "      <td>0.148583</td>\n",
       "      <td>89.714180</td>\n",
       "      <td>111.252411</td>\n",
       "      <td>-0.115803</td>\n",
       "    </tr>\n",
       "    <tr>\n",
       "      <td>3</td>\n",
       "      <td>0.015576</td>\n",
       "      <td>0.043833</td>\n",
       "      <td>91.111572</td>\n",
       "      <td>116.128974</td>\n",
       "      <td>0.026879</td>\n",
       "    </tr>\n",
       "    <tr>\n",
       "      <td>4</td>\n",
       "      <td>-0.364478</td>\n",
       "      <td>0.007461</td>\n",
       "      <td>57.903408</td>\n",
       "      <td>116.995456</td>\n",
       "      <td>-0.215702</td>\n",
       "    </tr>\n",
       "  </tbody>\n",
       "</table>\n",
       "</div>"
      ],
      "text/plain": [
       "   Stock A Return  Stock B Return  Stock A Price  Stock B Price  \\\n",
       "0       -0.234025        0.045833      76.597527     104.583286   \n",
       "1        0.654436       -0.073842     126.725742      96.860614   \n",
       "2       -0.292060        0.148583      89.714180     111.252411   \n",
       "3        0.015576        0.043833      91.111572     116.128974   \n",
       "4       -0.364478        0.007461      57.903408     116.995456   \n",
       "\n",
       "   Portfolio Return  \n",
       "0         -0.122082  \n",
       "1          0.363125  \n",
       "2         -0.115803  \n",
       "3          0.026879  \n",
       "4         -0.215702  "
      ]
     },
     "execution_count": 17,
     "metadata": {},
     "output_type": "execute_result"
    }
   ],
   "source": [
    "df['Portfolio Return'] = df['Stock A Return'] * stock_a_weight + df['Stock B Return'] * stock_b_weight\n",
    "df.head()"
   ]
  },
  {
   "cell_type": "markdown",
   "metadata": {},
   "source": [
    "Now calculate the portfolio price, using the function we created before for the other prices."
   ]
  },
  {
   "cell_type": "code",
   "execution_count": 18,
   "metadata": {},
   "outputs": [
    {
     "data": {
      "text/html": [
       "<div>\n",
       "<style scoped>\n",
       "    .dataframe tbody tr th:only-of-type {\n",
       "        vertical-align: middle;\n",
       "    }\n",
       "\n",
       "    .dataframe tbody tr th {\n",
       "        vertical-align: top;\n",
       "    }\n",
       "\n",
       "    .dataframe thead th {\n",
       "        text-align: right;\n",
       "    }\n",
       "</style>\n",
       "<table border=\"1\" class=\"dataframe\">\n",
       "  <thead>\n",
       "    <tr style=\"text-align: right;\">\n",
       "      <th></th>\n",
       "      <th>Stock A Return</th>\n",
       "      <th>Stock B Return</th>\n",
       "      <th>Stock A Price</th>\n",
       "      <th>Stock B Price</th>\n",
       "      <th>Portfolio Return</th>\n",
       "      <th>Portfolio Price</th>\n",
       "    </tr>\n",
       "  </thead>\n",
       "  <tbody>\n",
       "    <tr>\n",
       "      <td>0</td>\n",
       "      <td>-0.234025</td>\n",
       "      <td>0.045833</td>\n",
       "      <td>76.597527</td>\n",
       "      <td>104.583286</td>\n",
       "      <td>-0.122082</td>\n",
       "      <td>87.791831</td>\n",
       "    </tr>\n",
       "    <tr>\n",
       "      <td>1</td>\n",
       "      <td>0.654436</td>\n",
       "      <td>-0.073842</td>\n",
       "      <td>126.725742</td>\n",
       "      <td>96.860614</td>\n",
       "      <td>0.363125</td>\n",
       "      <td>119.671235</td>\n",
       "    </tr>\n",
       "    <tr>\n",
       "      <td>2</td>\n",
       "      <td>-0.292060</td>\n",
       "      <td>0.148583</td>\n",
       "      <td>89.714180</td>\n",
       "      <td>111.252411</td>\n",
       "      <td>-0.115803</td>\n",
       "      <td>105.812926</td>\n",
       "    </tr>\n",
       "    <tr>\n",
       "      <td>3</td>\n",
       "      <td>0.015576</td>\n",
       "      <td>0.043833</td>\n",
       "      <td>91.111572</td>\n",
       "      <td>116.128974</td>\n",
       "      <td>0.026879</td>\n",
       "      <td>108.657067</td>\n",
       "    </tr>\n",
       "    <tr>\n",
       "      <td>4</td>\n",
       "      <td>-0.364478</td>\n",
       "      <td>0.007461</td>\n",
       "      <td>57.903408</td>\n",
       "      <td>116.995456</td>\n",
       "      <td>-0.215702</td>\n",
       "      <td>85.219493</td>\n",
       "    </tr>\n",
       "  </tbody>\n",
       "</table>\n",
       "</div>"
      ],
      "text/plain": [
       "   Stock A Return  Stock B Return  Stock A Price  Stock B Price  \\\n",
       "0       -0.234025        0.045833      76.597527     104.583286   \n",
       "1        0.654436       -0.073842     126.725742      96.860614   \n",
       "2       -0.292060        0.148583      89.714180     111.252411   \n",
       "3        0.015576        0.043833      91.111572     116.128974   \n",
       "4       -0.364478        0.007461      57.903408     116.995456   \n",
       "\n",
       "   Portfolio Return  Portfolio Price  \n",
       "0         -0.122082        87.791831  \n",
       "1          0.363125       119.671235  \n",
       "2         -0.115803       105.812926  \n",
       "3          0.026879       108.657067  \n",
       "4         -0.215702        85.219493  "
      ]
     },
     "execution_count": 18,
     "metadata": {},
     "output_type": "execute_result"
    }
   ],
   "source": [
    "df = add_price_to_df_from_returns(df, 'Portfolio')\n",
    "df.head()"
   ]
  },
  {
   "cell_type": "markdown",
   "metadata": {},
   "source": [
    "Now we can write one function which encompasses creating the full `DataFrame`"
   ]
  },
  {
   "cell_type": "code",
   "execution_count": 19,
   "metadata": {},
   "outputs": [
    {
     "data": {
      "text/html": [
       "<div>\n",
       "<style scoped>\n",
       "    .dataframe tbody tr th:only-of-type {\n",
       "        vertical-align: middle;\n",
       "    }\n",
       "\n",
       "    .dataframe tbody tr th {\n",
       "        vertical-align: top;\n",
       "    }\n",
       "\n",
       "    .dataframe thead th {\n",
       "        text-align: right;\n",
       "    }\n",
       "</style>\n",
       "<table border=\"1\" class=\"dataframe\">\n",
       "  <thead>\n",
       "    <tr style=\"text-align: right;\">\n",
       "      <th></th>\n",
       "      <th>Stock A Return</th>\n",
       "      <th>Stock B Return</th>\n",
       "      <th>Stock A Price</th>\n",
       "      <th>Stock B Price</th>\n",
       "      <th>Portfolio Return</th>\n",
       "      <th>Portfolio Price</th>\n",
       "    </tr>\n",
       "  </thead>\n",
       "  <tbody>\n",
       "    <tr>\n",
       "      <td>0</td>\n",
       "      <td>0.318237</td>\n",
       "      <td>0.067134</td>\n",
       "      <td>131.823651</td>\n",
       "      <td>106.713442</td>\n",
       "      <td>0.217796</td>\n",
       "      <td>121.779567</td>\n",
       "    </tr>\n",
       "    <tr>\n",
       "      <td>1</td>\n",
       "      <td>0.533901</td>\n",
       "      <td>-0.029048</td>\n",
       "      <td>202.204372</td>\n",
       "      <td>103.613635</td>\n",
       "      <td>0.308721</td>\n",
       "      <td>159.375496</td>\n",
       "    </tr>\n",
       "    <tr>\n",
       "      <td>2</td>\n",
       "      <td>-0.078659</td>\n",
       "      <td>-0.156848</td>\n",
       "      <td>186.299270</td>\n",
       "      <td>87.362009</td>\n",
       "      <td>-0.109934</td>\n",
       "      <td>141.854637</td>\n",
       "    </tr>\n",
       "    <tr>\n",
       "      <td>3</td>\n",
       "      <td>-0.161892</td>\n",
       "      <td>0.005065</td>\n",
       "      <td>156.138889</td>\n",
       "      <td>87.804516</td>\n",
       "      <td>-0.095109</td>\n",
       "      <td>128.362959</td>\n",
       "    </tr>\n",
       "    <tr>\n",
       "      <td>4</td>\n",
       "      <td>0.143077</td>\n",
       "      <td>0.138941</td>\n",
       "      <td>178.478832</td>\n",
       "      <td>100.004190</td>\n",
       "      <td>0.141423</td>\n",
       "      <td>146.516427</td>\n",
       "    </tr>\n",
       "  </tbody>\n",
       "</table>\n",
       "</div>"
      ],
      "text/plain": [
       "   Stock A Return  Stock B Return  Stock A Price  Stock B Price  \\\n",
       "0        0.318237        0.067134     131.823651     106.713442   \n",
       "1        0.533901       -0.029048     202.204372     103.613635   \n",
       "2       -0.078659       -0.156848     186.299270      87.362009   \n",
       "3       -0.161892        0.005065     156.138889      87.804516   \n",
       "4        0.143077        0.138941     178.478832     100.004190   \n",
       "\n",
       "   Portfolio Return  Portfolio Price  \n",
       "0          0.217796       121.779567  \n",
       "1          0.308721       159.375496  \n",
       "2         -0.109934       141.854637  \n",
       "3         -0.095109       128.362959  \n",
       "4          0.141423       146.516427  "
      ]
     },
     "execution_count": 19,
     "metadata": {},
     "output_type": "execute_result"
    }
   ],
   "source": [
    "def portfolio_df(stock_a_mean_ret, stock_a_stdev, stock_b_mean_ret, stock_b_stdev, n_periods, base_price, stock_a_weight):\n",
    "    stock_b_weight = 1 - stock_a_weight\n",
    "    df = stock_df(stock_a_mean_ret, stock_a_stdev, stock_b_mean_ret, stock_b_stdev, n_periods, base_price)\n",
    "    df['Portfolio Return'] = df['Stock A Return'] * stock_a_weight + df['Stock B Return'] * stock_b_weight\n",
    "    df = add_price_to_df_from_returns(df, 'Portfolio')\n",
    "    return df\n",
    "\n",
    "df = portfolio_df(stock_a_mean_ret, stock_a_stdev, stock_b_mean_ret, stock_b_stdev, n_periods, base_price, stock_a_weight)\n",
    "df.head()"
   ]
  },
  {
   "cell_type": "markdown",
   "metadata": {},
   "source": [
    "# Results"
   ]
  },
  {
   "cell_type": "markdown",
   "metadata": {},
   "source": [
    "First graph the price performance of the two stocks and the portfolio. I added `figsize` to make the figure bigger."
   ]
  },
  {
   "cell_type": "code",
   "execution_count": 20,
   "metadata": {},
   "outputs": [
    {
     "data": {
      "text/plain": [
       "<matplotlib.axes._subplots.AxesSubplot at 0xf126198>"
      ]
     },
     "execution_count": 20,
     "metadata": {},
     "output_type": "execute_result"
    },
    {
     "data": {
      "image/png": "[encoded data removed]",
      "text/plain": [
       "<Figure size 1080x360 with 1 Axes>"
      ]
     },
     "metadata": {
      "needs_background": "light"
     },
     "output_type": "display_data"
    }
   ],
   "source": [
    "df[['Stock A Price', 'Stock B Price', 'Portfolio Price']].plot.line(figsize=(15, 5))"
   ]
  },
  {
   "cell_type": "markdown",
   "metadata": {},
   "source": [
    "Now calculate mean and standard deviation for the stocks and the portfolio. We can do this with one command `describe`, or with the individual commands `mean` and `std`."
   ]
  },
  {
   "cell_type": "code",
   "execution_count": 21,
   "metadata": {},
   "outputs": [
    {
     "data": {
      "text/html": [
       "<div>\n",
       "<style scoped>\n",
       "    .dataframe tbody tr th:only-of-type {\n",
       "        vertical-align: middle;\n",
       "    }\n",
       "\n",
       "    .dataframe tbody tr th {\n",
       "        vertical-align: top;\n",
       "    }\n",
       "\n",
       "    .dataframe thead th {\n",
       "        text-align: right;\n",
       "    }\n",
       "</style>\n",
       "<table border=\"1\" class=\"dataframe\">\n",
       "  <thead>\n",
       "    <tr style=\"text-align: right;\">\n",
       "      <th></th>\n",
       "      <th>Stock A Return</th>\n",
       "      <th>Stock B Return</th>\n",
       "      <th>Stock A Price</th>\n",
       "      <th>Stock B Price</th>\n",
       "      <th>Portfolio Return</th>\n",
       "      <th>Portfolio Price</th>\n",
       "    </tr>\n",
       "  </thead>\n",
       "  <tbody>\n",
       "    <tr>\n",
       "      <td>count</td>\n",
       "      <td>100.000000</td>\n",
       "      <td>100.000000</td>\n",
       "      <td>100.000000</td>\n",
       "      <td>100.000000</td>\n",
       "      <td>100.000000</td>\n",
       "      <td>100.000000</td>\n",
       "    </tr>\n",
       "    <tr>\n",
       "      <td>mean</td>\n",
       "      <td>0.124952</td>\n",
       "      <td>0.064257</td>\n",
       "      <td>47803.819996</td>\n",
       "      <td>7820.077349</td>\n",
       "      <td>0.100674</td>\n",
       "      <td>60300.101968</td>\n",
       "    </tr>\n",
       "    <tr>\n",
       "      <td>std</td>\n",
       "      <td>0.295467</td>\n",
       "      <td>0.097519</td>\n",
       "      <td>92133.565797</td>\n",
       "      <td>10751.109317</td>\n",
       "      <td>0.175442</td>\n",
       "      <td>107226.774166</td>\n",
       "    </tr>\n",
       "    <tr>\n",
       "      <td>min</td>\n",
       "      <td>-0.639157</td>\n",
       "      <td>-0.156848</td>\n",
       "      <td>131.823651</td>\n",
       "      <td>87.362009</td>\n",
       "      <td>-0.358483</td>\n",
       "      <td>121.779567</td>\n",
       "    </tr>\n",
       "    <tr>\n",
       "      <td>25%</td>\n",
       "      <td>-0.071907</td>\n",
       "      <td>0.001559</td>\n",
       "      <td>1847.585810</td>\n",
       "      <td>441.737979</td>\n",
       "      <td>-0.021360</td>\n",
       "      <td>1425.133483</td>\n",
       "    </tr>\n",
       "    <tr>\n",
       "      <td>50%</td>\n",
       "      <td>0.089173</td>\n",
       "      <td>0.062851</td>\n",
       "      <td>5548.012599</td>\n",
       "      <td>1934.725926</td>\n",
       "      <td>0.107022</td>\n",
       "      <td>6287.953427</td>\n",
       "    </tr>\n",
       "    <tr>\n",
       "      <td>75%</td>\n",
       "      <td>0.304945</td>\n",
       "      <td>0.130139</td>\n",
       "      <td>22519.703093</td>\n",
       "      <td>10946.062714</td>\n",
       "      <td>0.219236</td>\n",
       "      <td>39455.027873</td>\n",
       "    </tr>\n",
       "    <tr>\n",
       "      <td>max</td>\n",
       "      <td>0.928195</td>\n",
       "      <td>0.275294</td>\n",
       "      <td>401504.054259</td>\n",
       "      <td>35801.939670</td>\n",
       "      <td>0.642829</td>\n",
       "      <td>395225.334794</td>\n",
       "    </tr>\n",
       "  </tbody>\n",
       "</table>\n",
       "</div>"
      ],
      "text/plain": [
       "       Stock A Return  Stock B Return  Stock A Price  Stock B Price  \\\n",
       "count      100.000000      100.000000     100.000000     100.000000   \n",
       "mean         0.124952        0.064257   47803.819996    7820.077349   \n",
       "std          0.295467        0.097519   92133.565797   10751.109317   \n",
       "min         -0.639157       -0.156848     131.823651      87.362009   \n",
       "25%         -0.071907        0.001559    1847.585810     441.737979   \n",
       "50%          0.089173        0.062851    5548.012599    1934.725926   \n",
       "75%          0.304945        0.130139   22519.703093   10946.062714   \n",
       "max          0.928195        0.275294  401504.054259   35801.939670   \n",
       "\n",
       "       Portfolio Return  Portfolio Price  \n",
       "count        100.000000       100.000000  \n",
       "mean           0.100674     60300.101968  \n",
       "std            0.175442    107226.774166  \n",
       "min           -0.358483       121.779567  \n",
       "25%           -0.021360      1425.133483  \n",
       "50%            0.107022      6287.953427  \n",
       "75%            0.219236     39455.027873  \n",
       "max            0.642829    395225.334794  "
      ]
     },
     "execution_count": 21,
     "metadata": {},
     "output_type": "execute_result"
    }
   ],
   "source": [
    "df.describe()"
   ]
  },
  {
   "cell_type": "code",
   "execution_count": 22,
   "metadata": {},
   "outputs": [
    {
     "data": {
      "text/plain": [
       "Stock A Return          0.124952\n",
       "Stock B Return          0.064257\n",
       "Stock A Price       47803.819996\n",
       "Stock B Price        7820.077349\n",
       "Portfolio Return        0.100674\n",
       "Portfolio Price     60300.101968\n",
       "dtype: float64"
      ]
     },
     "execution_count": 22,
     "metadata": {},
     "output_type": "execute_result"
    }
   ],
   "source": [
    "df.mean()"
   ]
  },
  {
   "cell_type": "code",
   "execution_count": 23,
   "metadata": {},
   "outputs": [
    {
     "data": {
      "text/plain": [
       "Stock A Return           0.295467\n",
       "Stock B Return           0.097519\n",
       "Stock A Price        92133.565797\n",
       "Stock B Price        10751.109317\n",
       "Portfolio Return         0.175442\n",
       "Portfolio Price     107226.774166\n",
       "dtype: float64"
      ]
     },
     "execution_count": 23,
     "metadata": {},
     "output_type": "execute_result"
    }
   ],
   "source": [
    "df.std()"
   ]
  }
 ],
 "metadata": {
  "kernelspec": {
   "display_name": "Python 3",
   "language": "python",
   "name": "python3"
  },
  "language_info": {
   "codemirror_mode": {
    "name": "ipython",
    "version": 3
   },
   "file_extension": ".py",
   "mimetype": "text/x-python",
   "name": "python",
   "nbconvert_exporter": "python",
   "pygments_lexer": "ipython3",
   "version": "3.6.0"
  }
 },
 "nbformat": 4,
 "nbformat_minor": 4
}
