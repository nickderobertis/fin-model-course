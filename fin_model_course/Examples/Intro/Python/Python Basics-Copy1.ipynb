{
 "cells": [
  {
   "cell_type": "markdown",
   "metadata": {},
   "source": [
    "# Python Basics\n",
    "\n",
    "We are working towards being able to implement the retirement model with salary growing with promotions. But before we get there, we need to learn some additional Python."
   ]
  },
  {
   "cell_type": "markdown",
   "metadata": {},
   "source": [
    "## Conditionals\n",
    "\n",
    "In Python, we can write `if` to check some condition, just like how we can do `=IF` in Excel. The functionality in Excel is much more limited: either return one value if true or another if false. In Python, the `if` statement just decides whether to run the code under it, and so it is infinitely flexible to do whatever you want after meeting that condition.\n",
    "\n",
    "### A First `if` Statement \n",
    "\n",
    "This is a toy example, but it should show generally how `if` works."
   ]
  },
  {
   "cell_type": "code",
   "execution_count": 1,
   "metadata": {},
   "outputs": [
    {
     "name": "stdout",
     "output_type": "stream",
     "text": [
      "got a cat\n"
     ]
    }
   ],
   "source": [
    "if 'cat' == 'cat':\n",
    "    print('got a cat')"
   ]
  },
  {
   "cell_type": "code",
   "execution_count": 2,
   "metadata": {},
   "outputs": [],
   "source": [
    "if 'cat' == 'dog':\n",
    "    print('got a cat')"
   ]
  },
  {
   "cell_type": "markdown",
   "metadata": {},
   "source": [
    "We can see that when the condition is true, we run the code which is under the `if`. Conversely if it is false, the code does not get run.\n",
    "\n",
    "Just like with a `for` loop, you need to indent the code which will be run only if the condition is true. \n",
    "\n",
    "The way the `if` statement works, is it goes and evaluates the condition, checking whether it is `True` or is `False`, then if it is `True` it will run the code and not if it is `False`. We can see that conditions evaluate to `True` or `False` by checking their value in Jupyter."
   ]
  },
  {
   "cell_type": "code",
   "execution_count": 3,
   "metadata": {},
   "outputs": [
    {
     "data": {
      "text/plain": [
       "True"
      ]
     },
     "execution_count": 3,
     "metadata": {},
     "output_type": "execute_result"
    }
   ],
   "source": [
    "'cat' == 'cat'"
   ]
  },
  {
   "cell_type": "code",
   "execution_count": 4,
   "metadata": {},
   "outputs": [
    {
     "data": {
      "text/plain": [
       "False"
      ]
     },
     "execution_count": 4,
     "metadata": {},
     "output_type": "execute_result"
    }
   ],
   "source": [
    "'cat' == 'dog'"
   ]
  },
  {
   "cell_type": "markdown",
   "metadata": {},
   "source": [
    "So basically, the above statements were equivalent to `if True` and `if False`, respectively:"
   ]
  },
  {
   "cell_type": "code",
   "execution_count": 5,
   "metadata": {},
   "outputs": [
    {
     "name": "stdout",
     "output_type": "stream",
     "text": [
      "got a cat\n"
     ]
    }
   ],
   "source": [
    "if True:\n",
    "    print('got a cat')"
   ]
  },
  {
   "cell_type": "code",
   "execution_count": 6,
   "metadata": {},
   "outputs": [],
   "source": [
    "if False:\n",
    "    print('got a cat')"
   ]
  },
  {
   "cell_type": "markdown",
   "metadata": {},
   "source": [
    "### Comparisons vs. Assignments\n",
    "\n",
    "When comparing whether two objects are equal, use `==` (two equals), which assigning, use `=` (one equals)."
   ]
  },
  {
   "cell_type": "code",
   "execution_count": 7,
   "metadata": {},
   "outputs": [],
   "source": [
    "a = 5"
   ]
  },
  {
   "cell_type": "code",
   "execution_count": 8,
   "metadata": {},
   "outputs": [
    {
     "data": {
      "text/plain": [
       "5"
      ]
     },
     "execution_count": 8,
     "metadata": {},
     "output_type": "execute_result"
    }
   ],
   "source": [
    "a"
   ]
  },
  {
   "cell_type": "code",
   "execution_count": 9,
   "metadata": {},
   "outputs": [
    {
     "data": {
      "text/plain": [
       "True"
      ]
     },
     "execution_count": 9,
     "metadata": {},
     "output_type": "execute_result"
    }
   ],
   "source": [
    "a == 5"
   ]
  },
  {
   "cell_type": "code",
   "execution_count": 10,
   "metadata": {},
   "outputs": [
    {
     "data": {
      "text/plain": [
       "False"
      ]
     },
     "execution_count": 10,
     "metadata": {},
     "output_type": "execute_result"
    }
   ],
   "source": [
    "a == 6"
   ]
  },
  {
   "cell_type": "code",
   "execution_count": 11,
   "metadata": {},
   "outputs": [
    {
     "data": {
      "text/plain": [
       "5"
      ]
     },
     "execution_count": 11,
     "metadata": {},
     "output_type": "execute_result"
    }
   ],
   "source": [
    "a"
   ]
  },
  {
   "cell_type": "markdown",
   "metadata": {},
   "source": [
    "As you can see, we assigned `a` to be `5` and then checked whether its value was equal to 5 or equal to 6. The value was not reassigned to `6`, it stayed as `5` because we were comparing and not assigning. In the same vein, it is invalid to use a single equals in a conditional because it's not a comparison."
   ]
  },
  {
   "cell_type": "code",
   "execution_count": 12,
   "metadata": {},
   "outputs": [
    {
     "ename": "SyntaxError",
     "evalue": "invalid syntax (<ipython-input-12-fa53bbcdf3b5>, line 1)",
     "output_type": "error",
     "traceback": [
      "\u001b[0;36m  File \u001b[0;32m\"<ipython-input-12-fa53bbcdf3b5>\"\u001b[0;36m, line \u001b[0;32m1\u001b[0m\n\u001b[0;31m    if a = 5:\u001b[0m\n\u001b[0m         ^\u001b[0m\n\u001b[0;31mSyntaxError\u001b[0m\u001b[0;31m:\u001b[0m invalid syntax\n"
     ]
    }
   ],
   "source": [
    "if a = 5:\n",
    "    print('a is 5')"
   ]
  },
  {
   "cell_type": "markdown",
   "metadata": {},
   "source": [
    "It gives us `invalid syntax` because we are trying to assign where it should be a comparison. The following works fine:"
   ]
  },
  {
   "cell_type": "code",
   "execution_count": 13,
   "metadata": {},
   "outputs": [
    {
     "name": "stdout",
     "output_type": "stream",
     "text": [
      "a is 5\n"
     ]
    }
   ],
   "source": [
    "if a == 5:\n",
    "    print('a is 5')"
   ]
  },
  {
   "cell_type": "markdown",
   "metadata": {},
   "source": [
    "### A First `else` Statement\n",
    "\n",
    "So we said from Excel, with `=IF`, it returns one value if true and another if false. So far the `if` that we have looked at only runs the code if the condition is true. So how do we run code if the condition is false? Enter the `else` statement."
   ]
  },
  {
   "cell_type": "code",
   "execution_count": 14,
   "metadata": {},
   "outputs": [
    {
     "name": "stdout",
     "output_type": "stream",
     "text": [
      "runs if condition is False\n"
     ]
    }
   ],
   "source": [
    "my_var = 'abc'\n",
    "\n",
    "if my_var == 'nope':\n",
    "    print('this should not run')\n",
    "else:\n",
    "    print('runs if condition is False')"
   ]
  },
  {
   "cell_type": "markdown",
   "metadata": {},
   "source": [
    "The `else` statement should come back on the same level of indent as the `if` statement, again have a colon at the end, and then the code which runs if the condition is `False` should be indented again. \n",
    "\n",
    "Of course the `else` will not run if the condition is `True`:"
   ]
  },
  {
   "cell_type": "code",
   "execution_count": 17,
   "metadata": {},
   "outputs": [
    {
     "name": "stdout",
     "output_type": "stream",
     "text": [
      "this should run\n"
     ]
    }
   ],
   "source": [
    "if my_var == 'abc':\n",
    "    print('this should run')\n",
    "else:\n",
    "    print('runs if condition is False')"
   ]
  },
  {
   "cell_type": "markdown",
   "metadata": {},
   "source": [
    "### Chaining Conditions with `elif`\n",
    "\n",
    "`elif` is short for else if, and it means if not the last condition, but yes this condition. It is useful if you want to check across multiple values. For example:"
   ]
  },
  {
   "cell_type": "code",
   "execution_count": 19,
   "metadata": {},
   "outputs": [
    {
     "name": "stdout",
     "output_type": "stream",
     "text": [
      "it's priced in the mid-range\n"
     ]
    }
   ],
   "source": [
    "price = 100\n",
    "\n",
    "if price < 0:\n",
    "    print(\"really, you're going to pay me?\")\n",
    "elif price < 50:\n",
    "    print(\"it's pretty cheap\")\n",
    "elif price < 150:\n",
    "    print(\"it's priced in the mid-range\")\n",
    "else:\n",
    "    print(\"this thing is expensive\")"
   ]
  },
  {
   "cell_type": "markdown",
   "metadata": {},
   "source": [
    "This is mainly a convenience feature. It would be possible to write the same conditions with just `if`s, but it would take more code:"
   ]
  },
  {
   "cell_type": "code",
   "execution_count": 21,
   "metadata": {},
   "outputs": [
    {
     "name": "stdout",
     "output_type": "stream",
     "text": [
      "it's priced in the mid-range\n"
     ]
    }
   ],
   "source": [
    "price = 100\n",
    "\n",
    "if price < 0:\n",
    "    print(\"really, you're going to pay me?\")\n",
    "if price >= 0 and price < 50:\n",
    "    print(\"it's pretty cheap\")\n",
    "if price >= 50 and price < 150:\n",
    "    print(\"it's priced in the mid-range\")\n",
    "if price >= 150:\n",
    "    print(\"this thing is expensive\")"
   ]
  },
  {
   "cell_type": "markdown",
   "metadata": {},
   "source": [
    "## Working more with Lists\n",
    "\n",
    "So far we have looked at how to construct a list as inputs, and how to iterate over the list with a `for` loop. But there's a lot more we can do with them.\n",
    "\n",
    "### Adding to Lists\n",
    "\n",
    "Often lists are useful as a container to store our outputs. So we'll start with an empty list, and then add items to it as we go. Creating an empty list is simple. It's the same syntax as we did before to make a list, but just putting nothing in it."
   ]
  },
  {
   "cell_type": "code",
   "execution_count": 39,
   "metadata": {},
   "outputs": [
    {
     "data": {
      "text/plain": [
       "[]"
      ]
     },
     "execution_count": 39,
     "metadata": {},
     "output_type": "execute_result"
    }
   ],
   "source": [
    "my_list = []\n",
    "my_list"
   ]
  },
  {
   "cell_type": "markdown",
   "metadata": {},
   "source": [
    "We can see that an empty list is represented by square brackets `[]`.\n",
    "\n",
    "We can add an item to the end of the list using `append`."
   ]
  },
  {
   "cell_type": "code",
   "execution_count": 40,
   "metadata": {},
   "outputs": [
    {
     "data": {
      "text/plain": [
       "[5]"
      ]
     },
     "execution_count": 40,
     "metadata": {},
     "output_type": "execute_result"
    }
   ],
   "source": [
    "my_list.append(5)\n",
    "my_list"
   ]
  },
  {
   "cell_type": "markdown",
   "metadata": {},
   "source": [
    "You can see it is always at the end."
   ]
  },
  {
   "cell_type": "code",
   "execution_count": 41,
   "metadata": {},
   "outputs": [
    {
     "data": {
      "text/plain": [
       "[5, 6, 7]"
      ]
     },
     "execution_count": 41,
     "metadata": {},
     "output_type": "execute_result"
    }
   ],
   "source": [
    "my_list.append(6)\n",
    "my_list.append(7)\n",
    "my_list"
   ]
  },
  {
   "cell_type": "markdown",
   "metadata": {},
   "source": [
    "### An Aside to Python Indexing\n",
    "\n",
    "How would you get the second item from a list? It is the item with index 1. This seems very unintuitive as a new programmer, but it is the case in nearly all programming languages that indexes are **zero-based**.\n",
    "\n",
    "#### What is Zero-Based Indexing?\n",
    "\n",
    "This means that the first item in a list is accessed by 0, the second item is accessed by 1, and so on. So whatever item you want to get, subtract 1 from what you would intuitively think is the index. To get the 10th item, access index 9.\n",
    "\n",
    "#### But Why?\n",
    "\n",
    "I can't give you a great answer, but you [can read more here](https://softwareengineering.stackexchange.com/questions/110804/why-are-zero-based-arrays-the-norm)."
   ]
  },
  {
   "cell_type": "markdown",
   "metadata": {},
   "source": [
    "### Back to Adding to Lists"
   ]
  },
  {
   "cell_type": "markdown",
   "metadata": {},
   "source": [
    "We can also add items at any position in the list using `insert`. `insert` takes two arguments. The first should be the zero-based index at which to add the item, and the second is the item to add."
   ]
  },
  {
   "cell_type": "code",
   "execution_count": 43,
   "metadata": {},
   "outputs": [
    {
     "data": {
      "text/plain": [
       "['woo', 5, 6, 7]"
      ]
     },
     "execution_count": 43,
     "metadata": {},
     "output_type": "execute_result"
    }
   ],
   "source": [
    "my_list.insert(0, 'woo')\n",
    "my_list"
   ]
  },
  {
   "cell_type": "code",
   "execution_count": 44,
   "metadata": {},
   "outputs": [
    {
     "data": {
      "text/plain": [
       "['woo', 5, 10, 6, 7]"
      ]
     },
     "execution_count": 44,
     "metadata": {},
     "output_type": "execute_result"
    }
   ],
   "source": [
    "my_list.insert(2, 10)\n",
    "my_list"
   ]
  },
  {
   "cell_type": "markdown",
   "metadata": {},
   "source": [
    "As you can see, inserting at index 0 made it the first item, and inserting at index 2 made it the third item. You can also see that you can mix multiple types in a list, there we have both strings and numbers (though usually it's not a good idea)."
   ]
  },
  {
   "cell_type": "markdown",
   "metadata": {},
   "source": [
    "### List Indexing\n",
    "\n",
    "Now that we've learned what zero-based indexing means, we can use it to look up items in the list."
   ]
  },
  {
   "cell_type": "code",
   "execution_count": 45,
   "metadata": {},
   "outputs": [
    {
     "data": {
      "text/plain": [
       "['woo', 5, 10, 6, 7]"
      ]
     },
     "execution_count": 45,
     "metadata": {},
     "output_type": "execute_result"
    }
   ],
   "source": [
    "my_list"
   ]
  },
  {
   "cell_type": "code",
   "execution_count": 46,
   "metadata": {},
   "outputs": [
    {
     "data": {
      "text/plain": [
       "'woo'"
      ]
     },
     "execution_count": 46,
     "metadata": {},
     "output_type": "execute_result"
    }
   ],
   "source": [
    "my_list[0]"
   ]
  },
  {
   "cell_type": "code",
   "execution_count": 47,
   "metadata": {},
   "outputs": [
    {
     "data": {
      "text/plain": [
       "7"
      ]
     },
     "execution_count": 47,
     "metadata": {},
     "output_type": "execute_result"
    }
   ],
   "source": [
    "my_list[4]"
   ]
  },
  {
   "cell_type": "markdown",
   "metadata": {},
   "source": [
    "You can see that accessing the 0-index element gets the first item in the list, and the 4-index item gets the 5th item in the list. If we try to access an index which is outside of the list length, we'll get an `IndexError: list index out of range`:"
   ]
  },
  {
   "cell_type": "code",
   "execution_count": 48,
   "metadata": {},
   "outputs": [
    {
     "ename": "IndexError",
     "evalue": "list index out of range",
     "output_type": "error",
     "traceback": [
      "\u001b[0;31m---------------------------------------------------------------------------\u001b[0m",
      "\u001b[0;31mIndexError\u001b[0m                                Traceback (most recent call last)",
      "\u001b[0;32m<ipython-input-48-2e9c6f2725cb>\u001b[0m in \u001b[0;36m<module>\u001b[0;34m\u001b[0m\n\u001b[0;32m----> 1\u001b[0;31m \u001b[0mmy_list\u001b[0m\u001b[0;34m[\u001b[0m\u001b[0;36m1000\u001b[0m\u001b[0;34m]\u001b[0m\u001b[0;34m\u001b[0m\u001b[0;34m\u001b[0m\u001b[0m\n\u001b[0m",
      "\u001b[0;31mIndexError\u001b[0m: list index out of range"
     ]
    }
   ],
   "source": [
    "my_list[1000]"
   ]
  },
  {
   "cell_type": "markdown",
   "metadata": {},
   "source": [
    "We can also use negative numbers for indices. When they are negative, that means we are counting from the end of the list, backwards. So `-1` is the last item in the list, `-2` is the second to last item, and so on."
   ]
  },
  {
   "cell_type": "code",
   "execution_count": 50,
   "metadata": {},
   "outputs": [
    {
     "data": {
      "text/plain": [
       "7"
      ]
     },
     "execution_count": 50,
     "metadata": {},
     "output_type": "execute_result"
    }
   ],
   "source": [
    "my_list[-1]"
   ]
  },
  {
   "cell_type": "code",
   "execution_count": 51,
   "metadata": {},
   "outputs": [
    {
     "data": {
      "text/plain": [
       "6"
      ]
     },
     "execution_count": 51,
     "metadata": {},
     "output_type": "execute_result"
    }
   ],
   "source": [
    "my_list[-2]"
   ]
  },
  {
   "cell_type": "markdown",
   "metadata": {},
   "source": [
    "### List Slicing\n",
    "\n",
    "You can also pull out multiple items from a list. There we use a colon to denote a range of indices. The index on the left side is included, and everything up until, but not including, the index on the right side will be included."
   ]
  },
  {
   "cell_type": "code",
   "execution_count": 53,
   "metadata": {},
   "outputs": [
    {
     "data": {
      "text/plain": [
       "[5, 10]"
      ]
     },
     "execution_count": 53,
     "metadata": {},
     "output_type": "execute_result"
    }
   ],
   "source": [
    "my_list[1:3]"
   ]
  },
  {
   "cell_type": "markdown",
   "metadata": {},
   "source": [
    "You can interpret that as from the 2nd item up until, but not including, the fourth item. AKA items 2 and 3.\n",
    "\n",
    "You can also leave one end of the colon empty."
   ]
  },
  {
   "cell_type": "code",
   "execution_count": 54,
   "metadata": {},
   "outputs": [
    {
     "data": {
      "text/plain": [
       "[5, 10, 6, 7]"
      ]
     },
     "execution_count": 54,
     "metadata": {},
     "output_type": "execute_result"
    }
   ],
   "source": [
    "my_list[1:]"
   ]
  },
  {
   "cell_type": "markdown",
   "metadata": {},
   "source": [
    "That says, give from the 2nd item until the end."
   ]
  },
  {
   "cell_type": "code",
   "execution_count": 55,
   "metadata": {},
   "outputs": [
    {
     "data": {
      "text/plain": [
       "['woo', 5, 10, 6]"
      ]
     },
     "execution_count": 55,
     "metadata": {},
     "output_type": "execute_result"
    }
   ],
   "source": [
    "my_list[:-1]"
   ]
  },
  {
   "cell_type": "markdown",
   "metadata": {},
   "source": [
    "That says, give me up until, but not including the last item."
   ]
  },
  {
   "cell_type": "markdown",
   "metadata": {},
   "source": [
    "## Functions\n",
    "\n",
    "A function wraps a logical process up into a single unit. The biggest reason to use them is to avoid repeating code. If you find yourself copy-pasting code repeatedly, you probably should be making it into a function instead. They also help organize your code, and can help avoid mistakes by reusing the same code rather than writing it again.\n",
    "\n",
    "They will become more and more useful as you do more complex things with code. Hopefully you can see the value from this example but it will become more apparent over time why they are useful.\n",
    "\n",
    "### A Motivating Example\n",
    "\n",
    "Let's say we've got a some lists of some stock prices over time for a few different companies, and we want to report some summary statistics on each one. Without functions, it may look something like this (there are better ways to write this logic as well besides function use, but we haven't covered them yet):"
   ]
  },
  {
   "cell_type": "code",
   "execution_count": 59,
   "metadata": {},
   "outputs": [
    {
     "name": "stdout",
     "output_type": "stream",
     "text": [
      "The last price for AAPL was $305.60. Average: $303.58. Max: $310.20. Min: $299.50\n",
      "The last price for MSFT was $158.96. Average: $162.87. Max: $172.15. Min: $155.18\n",
      "The last price for AMZN was $1824.69. Average: $1836.22. Max: $1892.15. Min: $1795.64\n"
     ]
    }
   ],
   "source": [
    "prices_aapl = [300.12, 310.20, 299.50, 302.5, 305.6]\n",
    "prices_msft = [162.17, 165.89, 172.15, 155.18, 158.96]\n",
    "prices_amzn = [1892.15, 1864.25, 1795.64, 1804.35, 1824.69]\n",
    "\n",
    "avg_price_aapl = sum(prices_aapl)/len(prices_aapl)\n",
    "max_price_aapl = max(prices_aapl)\n",
    "min_price_aapl = min(prices_aapl)\n",
    "last_price_aapl = prices_aapl[-1]\n",
    "print(f'The last price for AAPL was ${last_price_aapl:.2f}. Average: ${avg_price_aapl:.2f}. Max: ${max_price_aapl:.2f}. Min: ${min_price_aapl:.2f}')\n",
    "\n",
    "avg_price_msft = sum(prices_msft)/len(prices_msft)\n",
    "max_price_msft = max(prices_msft)\n",
    "min_price_msft = min(prices_msft)\n",
    "last_price_msft = prices_msft[-1]\n",
    "print(f'The last price for MSFT was ${last_price_msft:.2f}. Average: ${avg_price_msft:.2f}. Max: ${max_price_msft:.2f}. Min: ${min_price_msft:.2f}')\n",
    "\n",
    "avg_price_amzn = sum(prices_amzn)/len(prices_amzn)\n",
    "max_price_amzn = max(prices_amzn)\n",
    "min_price_amzn = min(prices_amzn)\n",
    "last_price_amzn = prices_amzn[-1]\n",
    "print(f'The last price for AMZN was ${last_price_amzn:.2f}. Average: ${avg_price_amzn:.2f}. Max: ${max_price_amzn:.2f}. Min: ${min_price_amzn:.2f}')"
   ]
  },
  {
   "cell_type": "markdown",
   "metadata": {},
   "source": [
    "We can see that this code is very repetitive. The last three blocks are the same thing with just switching out `aapl`, `msft`, and `amzn`. It is time-consuming and error-prone to do things this way. Let's rewrite it with a function to see how it simplifies, then dig into functions in general."
   ]
  },
  {
   "cell_type": "code",
   "execution_count": 61,
   "metadata": {},
   "outputs": [
    {
     "name": "stdout",
     "output_type": "stream",
     "text": [
      "The last price for AAPL was $305.60. Average: $303.58. Max: $310.20. Min: $299.50\n",
      "The last price for MSFT was $158.96. Average: $162.87. Max: $172.15. Min: $155.18\n",
      "The last price for AMZN was $1824.69. Average: $1836.22. Max: $1892.15. Min: $1795.64\n"
     ]
    }
   ],
   "source": [
    "prices_aapl = [300.12, 310.20, 299.50, 302.5, 305.6]\n",
    "prices_msft = [162.17, 165.89, 172.15, 155.18, 158.96]\n",
    "prices_amzn = [1892.15, 1864.25, 1795.64, 1804.35, 1824.69]\n",
    "\n",
    "def price_summary_statistics(prices, ticker):\n",
    "    \"\"\"\n",
    "    Takes a list of prices and the ticker, and prints summary statistics on the price for that ticker.\n",
    "    \"\"\"\n",
    "    avg_price = sum(prices)/len(prices)\n",
    "    max_price = max(prices)\n",
    "    min_price = min(prices)\n",
    "    last_price = prices[-1]\n",
    "    print(f'The last price for {ticker} was ${last_price:.2f}. Average: ${avg_price:.2f}. Max: ${max_price:.2f}. Min: ${min_price:.2f}')\n",
    "\n",
    "price_summary_statistics(prices_aapl, 'AAPL')\n",
    "price_summary_statistics(prices_msft, 'MSFT')\n",
    "price_summary_statistics(prices_amzn, 'AMZN')"
   ]
  },
  {
   "cell_type": "markdown",
   "metadata": {},
   "source": [
    "As you can see, the code now looks less repetitive. It is also clearer what it's doing, and that it's doing the same thing for each of the three sets of prices. If we later decided we wanted to add a new summary statistic, it would be in one spot instead of three. There is also no chance of our three different summaries ending up different by a typo, as they are all using the exact same logic."
   ]
  },
  {
   "cell_type": "markdown",
   "metadata": {},
   "source": [
    "### How to Use Functions\n",
    "\n",
    "Functions must first be defined, then used. Functions are defined with a `def` statement. After they are defined, you can then call them using the name from the `def` statement. Here's a simpler function which just adds two numbers together:"
   ]
  },
  {
   "cell_type": "code",
   "execution_count": 64,
   "metadata": {},
   "outputs": [],
   "source": [
    "def add_em(a, b):\n",
    "    return a + b"
   ]
  },
  {
   "cell_type": "markdown",
   "metadata": {},
   "source": [
    "We can see that running that definition did not produce any output. You must call the function to actually use it. We just have it now available to us. Let's actually use it."
   ]
  },
  {
   "cell_type": "code",
   "execution_count": 66,
   "metadata": {},
   "outputs": [
    {
     "data": {
      "text/plain": [
       "7"
      ]
     },
     "execution_count": 66,
     "metadata": {},
     "output_type": "execute_result"
    }
   ],
   "source": [
    "my_result = add_em(2, 5)\n",
    "my_result"
   ]
  },
  {
   "cell_type": "markdown",
   "metadata": {},
   "source": [
    "When you add a `return` to a function, that value will be sent outside as the result of the function. In the first example function, I dind't use `return` because I didn't need to store any values, just `print` them. But usually you will be using `return` in functions. No matter what you do inside, only what is `return`ed will come outside the function. Any variables you define inside the function will only last inside the function, then they will be removed once the function is done executing."
   ]
  },
  {
   "cell_type": "code",
   "execution_count": 69,
   "metadata": {},
   "outputs": [
    {
     "name": "stdout",
     "output_type": "stream",
     "text": [
      "my value is 110\n"
     ]
    },
    {
     "data": {
      "text/plain": [
       "5"
      ]
     },
     "execution_count": 69,
     "metadata": {},
     "output_type": "execute_result"
    }
   ],
   "source": [
    "def return_5(a):\n",
    "    my_value = a + 10\n",
    "    print(f'my value is {my_value}')\n",
    "    return 5\n",
    "\n",
    "my_res = return_5(100)\n",
    "my_res"
   ]
  },
  {
   "cell_type": "code",
   "execution_count": 68,
   "metadata": {},
   "outputs": [
    {
     "ename": "NameError",
     "evalue": "name 'my_value' is not defined",
     "output_type": "error",
     "traceback": [
      "\u001b[0;31m---------------------------------------------------------------------------\u001b[0m",
      "\u001b[0;31mNameError\u001b[0m                                 Traceback (most recent call last)",
      "\u001b[0;32m<ipython-input-68-1856f267a67b>\u001b[0m in \u001b[0;36m<module>\u001b[0;34m\u001b[0m\n\u001b[0;32m----> 1\u001b[0;31m \u001b[0mmy_value\u001b[0m\u001b[0;34m\u001b[0m\u001b[0;34m\u001b[0m\u001b[0m\n\u001b[0m",
      "\u001b[0;31mNameError\u001b[0m: name 'my_value' is not defined"
     ]
    }
   ],
   "source": [
    "my_value"
   ]
  },
  {
   "cell_type": "markdown",
   "metadata": {},
   "source": [
    "We can see that regardless of what was going on in the function, it `return`ed `5`, and so that's what came outside the function as `my_res`. We can also see that `my_value` was defined and we could use it in the function, but it only lasts inside the function, so when we try to reference it later it's not defined."
   ]
  },
  {
   "cell_type": "markdown",
   "metadata": {},
   "source": [
    "It is possible to include a description of the function, called a `docstring`. This is great for readability. Let's try again with our last function."
   ]
  },
  {
   "cell_type": "code",
   "execution_count": 70,
   "metadata": {},
   "outputs": [],
   "source": [
    "def return_5(a):\n",
    "    \"\"\"\n",
    "    A function that always returns 5, regardless of what you pass to it. It will also print \"my value is \" and insert 10\n",
    "    plus the passed value.\n",
    "    \"\"\"\n",
    "    my_value = a + 10\n",
    "    print(f'my value is {my_value}')\n",
    "    return 5"
   ]
  },
  {
   "cell_type": "markdown",
   "metadata": {},
   "source": [
    "A `docstring` should be the first thing under the function and should be surrounded by triple quotes. If you follow this, it will become an official documentation of your function. To see this, it will then integrate into Jupyter's ? shortcut:"
   ]
  },
  {
   "cell_type": "code",
   "execution_count": 71,
   "metadata": {},
   "outputs": [
    {
     "data": {
      "text/plain": [
       "\u001b[0;31mSignature:\u001b[0m \u001b[0mreturn_5\u001b[0m\u001b[0;34m(\u001b[0m\u001b[0ma\u001b[0m\u001b[0;34m)\u001b[0m\u001b[0;34m\u001b[0m\u001b[0;34m\u001b[0m\u001b[0m\n",
       "\u001b[0;31mDocstring:\u001b[0m\n",
       "A function that always returns 5, regardless of what you pass to it. It will also print \"my value is \" and insert 10\n",
       "plus the passed value.\n",
       "\u001b[0;31mFile:\u001b[0m      ~/Dropbox/UF/Teaching/Modeling/Me/repos/fin-model-course/fin_model_course/Examples/Intro/Python/<ipython-input-70-df26c15ab4b7>\n",
       "\u001b[0;31mType:\u001b[0m      function\n"
      ]
     },
     "metadata": {},
     "output_type": "display_data"
    }
   ],
   "source": [
    "return_5?"
   ]
  },
  {
   "cell_type": "markdown",
   "metadata": {},
   "source": [
    "We can also provide defaults for function arguments, so that you don't have to pass them."
   ]
  },
  {
   "cell_type": "code",
   "execution_count": 72,
   "metadata": {},
   "outputs": [
    {
     "data": {
      "text/plain": [
       "'my st'"
      ]
     },
     "execution_count": 72,
     "metadata": {},
     "output_type": "execute_result"
    }
   ],
   "source": [
    "def get_beginning_of_string(string, num_chars=5):\n",
    "    \"\"\"\n",
    "    Gets the first num_chars of a string\n",
    "    \"\"\"\n",
    "    return string[:num_chars]\n",
    "\n",
    "get_beginning_of_string('my string')"
   ]
  },
  {
   "cell_type": "markdown",
   "metadata": {},
   "source": [
    "We can see that `num_chars` took a value of 5 by default, but we can also pass a different value:"
   ]
  },
  {
   "cell_type": "code",
   "execution_count": 73,
   "metadata": {},
   "outputs": [
    {
     "data": {
      "text/plain": [
       "'my str'"
      ]
     },
     "execution_count": 73,
     "metadata": {},
     "output_type": "execute_result"
    }
   ],
   "source": [
    "get_beginning_of_string('my string', 6)"
   ]
  }
 ],
 "metadata": {
  "kernelspec": {
   "display_name": "Python 3",
   "language": "python",
   "name": "python3"
  },
  "language_info": {
   "codemirror_mode": {
    "name": "ipython",
    "version": 3
   },
   "file_extension": ".py",
   "mimetype": "text/x-python",
   "name": "python",
   "nbconvert_exporter": "python",
   "pygments_lexer": "ipython3",
   "version": "3.7.3"
  }
 },
 "nbformat": 4,
 "nbformat_minor": 4
}
